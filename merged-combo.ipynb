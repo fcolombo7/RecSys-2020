{
 "cells": [
  {
   "cell_type": "code",
   "execution_count": 1,
   "metadata": {},
   "outputs": [],
   "source": [
    "from DataParser import DataParser\n",
    "import numpy as np\n",
    "import scipy.sparse as sps\n",
    "\n",
    "from Data_manager.split_functions.split_train_validation_random_holdout import \\\n",
    "split_train_in_two_percentage_global_sample\n",
    "\n",
    "import matplotlib.pyplot as plt\n",
    "from matplotlib.pyplot import figure\n",
    "from SimpleEvaluator import evaluator\n",
    "from Base.Evaluation.Evaluator import EvaluatorHoldout"
   ]
  },
  {
   "cell_type": "code",
   "execution_count": 2,
   "metadata": {},
   "outputs": [],
   "source": [
    "from Base.NonPersonalizedRecommender import TopPop, Random\n",
    "from Hybrid.HybridCombinationSearch import HybridCombinationMergedSearch,HybridCombinationSearch\n",
    "from KNN.ItemKNNCBFRecommender import ItemKNNCBFRecommender\n",
    "from KNN.UserKNNCFRecommender import UserKNNCFRecommender\n",
    "from KNN.ItemKNNCFRecommender import ItemKNNCFRecommender\n",
    "from MatrixFactorization.IALSRecommender import IALSRecommender\n",
    "from SLIM_BPR.Cython.SLIM_BPR_Cython import SLIM_BPR_Cython\n",
    "from SLIM_ElasticNet.SLIMElasticNetRecommender import SLIMElasticNetRecommender\n",
    "from GraphBased.P3alphaRecommender import P3alphaRecommender\n",
    "from GraphBased.RP3betaRecommender import RP3betaRecommender\n",
    "from MatrixFactorization.Cython.MatrixFactorization_Cython import MatrixFactorization_BPR_Cython, MatrixFactorization_FunkSVD_Cython\n",
    "from MatrixFactorization.PureSVDRecommender import PureSVDRecommender, PureSVDItemRecommender\n",
    "from MatrixFactorization.NMFRecommender import NMFRecommender"
   ]
  },
  {
   "cell_type": "code",
   "execution_count": 3,
   "metadata": {},
   "outputs": [
    {
     "name": "stdout",
     "output_type": "stream",
     "text": [
      "Warning: 27 (0.34 %) of 7947 users have no train items\n",
      "Warning: 3841 (48.33 %) of 7947 users have no sampled items\n"
     ]
    }
   ],
   "source": [
    "seed = 1205\n",
    "parser = DataParser()\n",
    "\n",
    "URM_all = parser.get_URM_all()\n",
    "ICM_all = parser.get_ICM_all()\n",
    "\n",
    "URM_train, URM_test = split_train_in_two_percentage_global_sample(URM_all, train_percentage=0.9, seed=seed)"
   ]
  },
  {
   "cell_type": "code",
   "execution_count": 4,
   "metadata": {},
   "outputs": [
    {
     "name": "stdout",
     "output_type": "stream",
     "text": [
      "RP3betaRecommender loaded.\n",
      "P3alphaRecommender loaded.\n",
      "ItemKNNCFRecommender loaded.\n",
      "UserKNNCFRecommender loaded.\n",
      "ItemKNNCBFRecommender loaded.\n",
      "SLIMElasticNetRecommender loaded.\n",
      "SLIM_BPR_Recommender loaded.\n"
     ]
    }
   ],
   "source": [
    "rp3b = RP3betaRecommender(URM_train, verbose=False)\n",
    "rp3b_params = {'topK': 1000, 'alpha': 0.38192761611274967, 'beta': 0.0, 'normalize_similarity': False}\n",
    "try:\n",
    "    rp3b.load_model(f'stored_recommenders/seed_{str(seed)}_{rp3b.RECOMMENDER_NAME}/','for_notebook_analysis')\n",
    "    print(f\"{rp3b.RECOMMENDER_NAME} loaded.\")\n",
    "except:\n",
    "    print(f\"Fitting {rp3b.RECOMMENDER_NAME} ...\")\n",
    "    rp3b.fit(**rp3b_params)\n",
    "    print(f\"done.\")\n",
    "    rp3b.save_model(f'stored_recommenders/seed_{str(seed)}_{rp3b.RECOMMENDER_NAME}/','for_notebook_analysis')\n",
    "\n",
    "p3a = P3alphaRecommender(URM_train, verbose=False)\n",
    "p3a_params = {'topK': 131, 'alpha': 0.33660811631883863, 'normalize_similarity': False}\n",
    "try:\n",
    "    p3a.load_model(f'stored_recommenders/seed_{str(seed)}_{p3a.RECOMMENDER_NAME}/','for_notebook_analysis')\n",
    "    print(f\"{p3a.RECOMMENDER_NAME} loaded.\")\n",
    "except:\n",
    "    print(f\"Fitting {p3a.RECOMMENDER_NAME} ...\")\n",
    "    p3a.fit(**p3a_params)\n",
    "    print(f\"done.\")\n",
    "    p3a.save_model(f'stored_recommenders/seed_{str(seed)}_{p3a.RECOMMENDER_NAME}/','for_notebook_analysis')\n",
    "\n",
    "\n",
    "icf = ItemKNNCFRecommender(URM_train, verbose=False)\n",
    "icf_params = {'topK': 55, 'shrink': 1000, 'similarity': 'asymmetric', 'normalize': True, 'asymmetric_alpha': 0.0}\n",
    "try:\n",
    "    icf.load_model(f'stored_recommenders/seed_{str(seed)}_{icf.RECOMMENDER_NAME}/','for_notebook_analysis')\n",
    "    print(f\"{icf.RECOMMENDER_NAME} loaded.\")\n",
    "except:\n",
    "    print(f\"Fitting {icf.RECOMMENDER_NAME} ...\")\n",
    "    icf.fit(**icf_params)\n",
    "    print(f\"done.\")\n",
    "    icf.save_model(f'stored_recommenders/seed_{str(seed)}_{icf.RECOMMENDER_NAME}/','for_notebook_analysis')\n",
    "    \n",
    "ucf = UserKNNCFRecommender(URM_train, verbose=False)\n",
    "ucf_params = {'topK': 190, 'shrink': 0, 'similarity': 'cosine', 'normalize': True}\n",
    "try:\n",
    "    ucf.load_model(f'stored_recommenders/seed_{str(seed)}_{ucf.RECOMMENDER_NAME}/','for_notebook_analysis')\n",
    "    print(f\"{ucf.RECOMMENDER_NAME} loaded.\")\n",
    "except:\n",
    "    print(f\"Fitting {ucf.RECOMMENDER_NAME} ...\")\n",
    "    ucf.fit(**ucf_params)\n",
    "    print(f\"done.\")\n",
    "    ucf.save_model(f'stored_recommenders/seed_{str(seed)}_{ucf.RECOMMENDER_NAME}/','for_notebook_analysis')\n",
    "\n",
    "icb = ItemKNNCBFRecommender(URM_train, ICM_all, verbose=False)\n",
    "icb_params = {'topK': 65, 'shrink': 0, 'similarity': 'dice', 'normalize': True}\n",
    "try:\n",
    "    icb.load_model(f'stored_recommenders/seed_{str(seed)}_{icb.RECOMMENDER_NAME}/','for_notebook_analysis')\n",
    "    print(f\"{icb.RECOMMENDER_NAME} loaded.\")\n",
    "except:\n",
    "    print(f\"Fitting {icb.RECOMMENDER_NAME} ...\")\n",
    "    icb.fit(**icb_params)\n",
    "    print(f\"done.\")\n",
    "    icb.save_model(f'stored_recommenders/seed_{str(seed)}_{icb.RECOMMENDER_NAME}/','for_notebook_analysis')\n",
    "\n",
    "sen = SLIMElasticNetRecommender(URM_train, verbose=False)\n",
    "sen_params = {'topK': 992, 'l1_ratio': 0.004065081925341167, 'alpha': 0.003725005053334143}\n",
    "try:\n",
    "    sen.load_model(f'stored_recommenders/seed_{str(seed)}_{sen.RECOMMENDER_NAME}/','for_notebook_analysis')\n",
    "    print(f\"{sen.RECOMMENDER_NAME} loaded.\")\n",
    "except:\n",
    "    print(f\"Fitting {sen.RECOMMENDER_NAME} ...\")\n",
    "    sen.fit(**sen_params)\n",
    "    print(f\"done.\")\n",
    "    sen.save_model(f'stored_recommenders/seed_{str(seed)}_{sen.RECOMMENDER_NAME}/','for_notebook_analysis')\n",
    "\n",
    "sbpr = SLIM_BPR_Cython(URM_train, verbose=False)\n",
    "sbpr_params = {'topK': 979, 'epochs': 130, 'symmetric': False, 'sgd_mode': 'adam', 'lambda_i': 0.004947329669424629, 'lambda_j': 1.1534760845071758e-05, 'learning_rate': 0.0001}\n",
    "try:\n",
    "    sbpr.load_model(f'stored_recommenders/seed_{str(seed)}_{sbpr.RECOMMENDER_NAME}/','for_notebook_analysis')\n",
    "    print(f\"{sbpr.RECOMMENDER_NAME} loaded.\")\n",
    "except:\n",
    "    print(f\"Fitting {sbpr.RECOMMENDER_NAME} ...\")\n",
    "    sbpr.fit(**sbpr_params)\n",
    "    print(f\"done.\")\n",
    "    sbpr.save_model(f'stored_recommenders/seed_{str(seed)}_{sbpr.RECOMMENDER_NAME}/','for_notebook_analysis')\n"
   ]
  },
  {
   "cell_type": "markdown",
   "metadata": {},
   "source": [
    "### MERGED COMBO"
   ]
  },
  {
   "cell_type": "code",
   "execution_count": 5,
   "metadata": {},
   "outputs": [],
   "source": [
    "merged_labels={\n",
    "    'merged1': 'icb_icf_p3a',\n",
    "    'merged2': 'icb_icf_rp3b',\n",
    "    'merged3': 'icb_icf_sen',\n",
    "    'merged4': 'icb_p3a_rp3b',\n",
    "    'merged5': 'icb_p3a_sen',\n",
    "    'merged6': 'icb_rp3b_sen',\n",
    "    'merged7': 'icf_p3a_rp3b',\n",
    "    'merged8': 'p3a_rp3b_sen',\n",
    "}#8 e 9 sono P3a e Rp3b singoli! --> 10 => 8"
   ]
  },
  {
   "cell_type": "code",
   "execution_count": 6,
   "metadata": {},
   "outputs": [],
   "source": [
    "evaluator_test = EvaluatorHoldout(URM_test, cutoff_list=[10])"
   ]
  },
  {
   "cell_type": "code",
   "execution_count": 7,
   "metadata": {},
   "outputs": [
    {
     "name": "stdout",
     "output_type": "stream",
     "text": [
      "HybridCombinationMergedSearch: URM Detected 27 (0.34 %) cold users.\n",
      "HybridCombinationMergedSearch: URM Detected 1634 (6.29 %) cold items.\n",
      "EvaluatorHoldout: Processed 4106 ( 100.00% ) in 2.82 sec. Users per second: 1455\n"
     ]
    },
    {
     "data": {
      "text/plain": [
       "0.07330344697863617"
      ]
     },
     "execution_count": 7,
     "metadata": {},
     "output_type": "execute_result"
    }
   ],
   "source": [
    "list_recommender = [icb, icf, p3a]\n",
    "merged1 = HybridCombinationMergedSearch(URM_train, ICM_all, list_recommender)\n",
    "params={'alpha': 0.9004575733942728, 'l1_ratio': 0.26510663025884135, 'topK': 888}\n",
    "merged1.fit(**params)\n",
    "result, _ = evaluator_test.evaluateRecommender(merged1)\n",
    "result[10]['MAP']"
   ]
  },
  {
   "cell_type": "code",
   "execution_count": 8,
   "metadata": {},
   "outputs": [
    {
     "name": "stdout",
     "output_type": "stream",
     "text": [
      "HybridCombinationMergedSearch: URM Detected 27 (0.34 %) cold users.\n",
      "HybridCombinationMergedSearch: URM Detected 1634 (6.29 %) cold items.\n",
      "EvaluatorHoldout: Processed 4106 ( 100.00% ) in 3.23 sec. Users per second: 1271\n"
     ]
    },
    {
     "data": {
      "text/plain": [
       "0.07380063236981378"
      ]
     },
     "execution_count": 8,
     "metadata": {},
     "output_type": "execute_result"
    }
   ],
   "source": [
    "list_recommender = [icb, icf, rp3b]\n",
    "merged2 = HybridCombinationMergedSearch(URM_train, ICM_all, list_recommender)\n",
    "params={'alpha': 0.6299182764826382, 'l1_ratio': 0.9675762628242017, 'topK': 864}\n",
    "merged2.fit(**params)\n",
    "result, _ = evaluator_test.evaluateRecommender(merged2)\n",
    "result[10]['MAP']"
   ]
  },
  {
   "cell_type": "code",
   "execution_count": 9,
   "metadata": {},
   "outputs": [
    {
     "name": "stdout",
     "output_type": "stream",
     "text": [
      "HybridCombinationMergedSearch: URM Detected 27 (0.34 %) cold users.\n",
      "HybridCombinationMergedSearch: URM Detected 1634 (6.29 %) cold items.\n",
      "EvaluatorHoldout: Processed 4106 ( 100.00% ) in 3.16 sec. Users per second: 1300\n"
     ]
    },
    {
     "data": {
      "text/plain": [
       "0.07392929945110398"
      ]
     },
     "execution_count": 9,
     "metadata": {},
     "output_type": "execute_result"
    }
   ],
   "source": [
    "list_recommender = [icb, icf, sen]\n",
    "merged3 = HybridCombinationMergedSearch(URM_train, ICM_all, list_recommender)\n",
    "params={'alpha': 0.3791657333411357, 'l1_ratio': 0.23126551664267164, 'topK': 990}\n",
    "merged3.fit(**params)\n",
    "result, _ = evaluator_test.evaluateRecommender(merged3)\n",
    "result[10]['MAP']"
   ]
  },
  {
   "cell_type": "code",
   "execution_count": 10,
   "metadata": {},
   "outputs": [
    {
     "name": "stdout",
     "output_type": "stream",
     "text": [
      "HybridCombinationMergedSearch: URM Detected 27 (0.34 %) cold users.\n",
      "HybridCombinationMergedSearch: URM Detected 1634 (6.29 %) cold items.\n",
      "EvaluatorHoldout: Processed 4106 ( 100.00% ) in 3.46 sec. Users per second: 1187\n"
     ]
    },
    {
     "data": {
      "text/plain": [
       "0.07359655012354013"
      ]
     },
     "execution_count": 10,
     "metadata": {},
     "output_type": "execute_result"
    }
   ],
   "source": [
    "list_recommender = [icb, p3a, rp3b]\n",
    "merged4 = HybridCombinationMergedSearch(URM_train, ICM_all, list_recommender)\n",
    "params={'alpha': 0.6299182764826382, 'l1_ratio': 0.9675762628242017, 'topK': 864}\n",
    "merged4.fit(**params)\n",
    "result, _ = evaluator_test.evaluateRecommender(merged4)\n",
    "result[10]['MAP']"
   ]
  },
  {
   "cell_type": "code",
   "execution_count": 11,
   "metadata": {},
   "outputs": [
    {
     "name": "stdout",
     "output_type": "stream",
     "text": [
      "HybridCombinationMergedSearch: URM Detected 27 (0.34 %) cold users.\n",
      "HybridCombinationMergedSearch: URM Detected 1634 (6.29 %) cold items.\n",
      "EvaluatorHoldout: Processed 4106 ( 100.00% ) in 3.42 sec. Users per second: 1201\n"
     ]
    },
    {
     "data": {
      "text/plain": [
       "0.07336524156802389"
      ]
     },
     "execution_count": 11,
     "metadata": {},
     "output_type": "execute_result"
    }
   ],
   "source": [
    "list_recommender = [icb, p3a, sen]\n",
    "merged5 = HybridCombinationMergedSearch(URM_train, ICM_all, list_recommender)\n",
    "params={'alpha': 0.9712321721669441, 'l1_ratio': 0.6879306727642494, 'topK': 990}\n",
    "merged5.fit(**params)\n",
    "result, _ = evaluator_test.evaluateRecommender(merged5)\n",
    "result[10]['MAP']"
   ]
  },
  {
   "cell_type": "code",
   "execution_count": 12,
   "metadata": {},
   "outputs": [
    {
     "name": "stdout",
     "output_type": "stream",
     "text": [
      "HybridCombinationMergedSearch: URM Detected 27 (0.34 %) cold users.\n",
      "HybridCombinationMergedSearch: URM Detected 1634 (6.29 %) cold items.\n",
      "EvaluatorHoldout: Processed 4106 ( 100.00% ) in 3.26 sec. Users per second: 1259\n"
     ]
    },
    {
     "data": {
      "text/plain": [
       "0.07425687603341367"
      ]
     },
     "execution_count": 12,
     "metadata": {},
     "output_type": "execute_result"
    }
   ],
   "source": [
    "list_recommender = [icb, rp3b, sen]\n",
    "merged6 = HybridCombinationMergedSearch(URM_train, ICM_all, list_recommender)\n",
    "params={'alpha': 0.6355738550417837, 'l1_ratio': 0.6617849709204384, 'topK': 538}\n",
    "merged6.fit(**params)\n",
    "result, _ = evaluator_test.evaluateRecommender(merged6)\n",
    "result[10]['MAP']"
   ]
  },
  {
   "cell_type": "code",
   "execution_count": 13,
   "metadata": {},
   "outputs": [
    {
     "name": "stdout",
     "output_type": "stream",
     "text": [
      "HybridCombinationMergedSearch: URM Detected 27 (0.34 %) cold users.\n",
      "HybridCombinationMergedSearch: URM Detected 1634 (6.29 %) cold items.\n",
      "EvaluatorHoldout: Processed 4106 ( 100.00% ) in 2.99 sec. Users per second: 1373\n"
     ]
    },
    {
     "data": {
      "text/plain": [
       "0.06444040946690227"
      ]
     },
     "execution_count": 13,
     "metadata": {},
     "output_type": "execute_result"
    }
   ],
   "source": [
    "list_recommender = [icf, p3a, rp3b]\n",
    "merged7 = HybridCombinationMergedSearch(URM_train, ICM_all, list_recommender)\n",
    "params = {'alpha': 0.44112400857241485, 'l1_ratio': 0.4636970676140909, 'topK': 489}\n",
    "merged7.fit(**params)\n",
    "result, _ = evaluator_test.evaluateRecommender(merged7)\n",
    "result[10]['MAP']"
   ]
  },
  {
   "cell_type": "code",
   "execution_count": 16,
   "metadata": {},
   "outputs": [
    {
     "name": "stdout",
     "output_type": "stream",
     "text": [
      "HybridCombinationMergedSearch: URM Detected 27 (0.34 %) cold users.\n",
      "HybridCombinationMergedSearch: URM Detected 1634 (6.29 %) cold items.\n",
      "EvaluatorHoldout: Processed 4106 ( 100.00% ) in 3.02 sec. Users per second: 1358\n"
     ]
    },
    {
     "data": {
      "text/plain": [
       "0.06504461812056087"
      ]
     },
     "execution_count": 16,
     "metadata": {},
     "output_type": "execute_result"
    }
   ],
   "source": [
    "list_recommender = [p3a, rp3b, sen]\n",
    "merged8 = HybridCombinationMergedSearch(URM_train, ICM_all, list_recommender)\n",
    "params={'alpha': 0.8589000153868548, 'l1_ratio': 0.4263692698842382, 'topK': 636}\n",
    "merged8.fit(**params)\n",
    "result,_ = evaluator_test.evaluateRecommender(merged8)\n",
    "result[10]['MAP']"
   ]
  },
  {
   "cell_type": "markdown",
   "metadata": {},
   "source": [
    "---\n",
    "## linear combo"
   ]
  },
  {
   "cell_type": "code",
   "execution_count": 51,
   "metadata": {},
   "outputs": [],
   "source": [
    "combo_labels ={\n",
    "    'combo1': 'p3a_icf_ucf',\n",
    "    'combo2': 'rp3b_icf_ucf',\n",
    "    'combo3': 'rp3b_p3a_icf',\n",
    "    'combo4': 'rp3b_p3a_ucf', \n",
    "    'combo5': 'icf_icb_sen',\n",
    "    'combo6': 'icf_sen_sbpr',\n",
    "    'combo7': 'icf_ucf_icb',\n",
    "    'combo8': 'icf_ucf_sen',\n",
    "    'combo9': 'p3a_icb_sen',\n",
    "    'combo10': 'p3a_icf_icb',\n",
    "    'combo11': 'p3a_icf_sen',\n",
    "    'combo12': 'p3a_sen_sbpr',\n",
    "    'combo13': 'p3a_ucf_icb',\n",
    "    'combo14': 'p3a_ucf_sen',\n",
    "    'combo15': 'rp3b_icb_sen',\n",
    "    'combo16': 'rp3b_icf_icb',\n",
    "    'combo17': 'rp3b_icf_sen',\n",
    "    'combo18': 'rp3b_p3a_icb',\n",
    "    'combo19': 'rp3b_sen_sbpr',\n",
    "    'combo20': 'rp3b_ucf_icb',\n",
    "    'combo21': 'rp3b_ucf_sen',\n",
    "    'combo22': 'ucf_icb_sen',\n",
    "    'combo23': 'ucf_sen_sbpr',\n",
    "    'combo24': 'icb_sen_sbpr',\n",
    "    'combo25': 'icf_icb_sbpr',\n",
    "    'combo26': 'p3a_icb_sbpr',\n",
    "    'combo27': 'rp3b_icb_sbpr',\n",
    "    'combo28': 'ucf_icb_sbpr',\n",
    "}"
   ]
  },
  {
   "cell_type": "code",
   "execution_count": 17,
   "metadata": {},
   "outputs": [
    {
     "name": "stdout",
     "output_type": "stream",
     "text": [
      "HybridCombinationSearch: URM Detected 27 (0.34 %) cold users.\n",
      "HybridCombinationSearch: URM Detected 1634 (6.29 %) cold items.\n",
      "EvaluatorHoldout: Processed 4106 ( 100.00% ) in 3.83 sec. Users per second: 1073\n"
     ]
    },
    {
     "data": {
      "text/plain": [
       "0.06492509475376437"
      ]
     },
     "execution_count": 17,
     "metadata": {},
     "output_type": "execute_result"
    }
   ],
   "source": [
    "list_recommender = [p3a, icf, ucf]\n",
    "combo1 = HybridCombinationSearch(URM_train, ICM_all, list_recommender)\n",
    "params={'alpha': 0.5630173292967398, 'l1_ratio': 0.92733589638295}\n",
    "combo1.fit(**params)\n",
    "result, _ = evaluator_test.evaluateRecommender(combo1)\n",
    "result[10]['MAP']"
   ]
  },
  {
   "cell_type": "code",
   "execution_count": 18,
   "metadata": {},
   "outputs": [
    {
     "name": "stdout",
     "output_type": "stream",
     "text": [
      "HybridCombinationSearch: URM Detected 27 (0.34 %) cold users.\n",
      "HybridCombinationSearch: URM Detected 1634 (6.29 %) cold items.\n",
      "EvaluatorHoldout: Processed 4106 ( 100.00% ) in 4.11 sec. Users per second: 1000\n"
     ]
    },
    {
     "data": {
      "text/plain": [
       "0.06423070706922872"
      ]
     },
     "execution_count": 18,
     "metadata": {},
     "output_type": "execute_result"
    }
   ],
   "source": [
    "list_recommender = [rp3b, icf, ucf]\n",
    "combo2 = HybridCombinationSearch(URM_train, ICM_all, list_recommender)\n",
    "params={'alpha': 0.7416313012430469, 'l1_ratio': 0.8122593875086325}\n",
    "combo2.fit(**params)\n",
    "result, _ = evaluator_test.evaluateRecommender(combo2)\n",
    "result[10]['MAP']"
   ]
  },
  {
   "cell_type": "code",
   "execution_count": 19,
   "metadata": {},
   "outputs": [
    {
     "name": "stdout",
     "output_type": "stream",
     "text": [
      "HybridCombinationSearch: URM Detected 27 (0.34 %) cold users.\n",
      "HybridCombinationSearch: URM Detected 1634 (6.29 %) cold items.\n",
      "EvaluatorHoldout: Processed 4106 ( 100.00% ) in 4.03 sec. Users per second: 1018\n"
     ]
    },
    {
     "data": {
      "text/plain": [
       "0.06493208093975254"
      ]
     },
     "execution_count": 19,
     "metadata": {},
     "output_type": "execute_result"
    }
   ],
   "source": [
    "list_recommender = [rp3b, p3a, icf]\n",
    "combo3 = HybridCombinationSearch(URM_train, ICM_all, list_recommender)\n",
    "params={'alpha': 0.367698407319822, 'l1_ratio': 0.5878133798647788}\n",
    "combo3.fit(**params)\n",
    "result, _ = evaluator_test.evaluateRecommender(combo3)\n",
    "result[10]['MAP']"
   ]
  },
  {
   "cell_type": "code",
   "execution_count": 20,
   "metadata": {},
   "outputs": [
    {
     "name": "stdout",
     "output_type": "stream",
     "text": [
      "HybridCombinationSearch: URM Detected 27 (0.34 %) cold users.\n",
      "HybridCombinationSearch: URM Detected 1634 (6.29 %) cold items.\n",
      "EvaluatorHoldout: Processed 4106 ( 100.00% ) in 3.89 sec. Users per second: 1056\n"
     ]
    },
    {
     "data": {
      "text/plain": [
       "0.06480067672691545"
      ]
     },
     "execution_count": 20,
     "metadata": {},
     "output_type": "execute_result"
    }
   ],
   "source": [
    "list_recommender = [rp3b, p3a, ucf]\n",
    "combo4 = HybridCombinationSearch(URM_train, ICM_all, list_recommender)\n",
    "params={'alpha': 0.6405838432360388, 'l1_ratio': 0.4188312253799342}\n",
    "combo4.fit(**params)\n",
    "result, _ = evaluator_test.evaluateRecommender(combo4)\n",
    "result[10]['MAP']"
   ]
  },
  {
   "cell_type": "code",
   "execution_count": 21,
   "metadata": {},
   "outputs": [
    {
     "name": "stdout",
     "output_type": "stream",
     "text": [
      "HybridCombinationSearch: URM Detected 27 (0.34 %) cold users.\n",
      "HybridCombinationSearch: URM Detected 1634 (6.29 %) cold items.\n",
      "EvaluatorHoldout: Processed 4106 ( 100.00% ) in 3.89 sec. Users per second: 1055\n"
     ]
    },
    {
     "data": {
      "text/plain": [
       "0.0734446326879147"
      ]
     },
     "execution_count": 21,
     "metadata": {},
     "output_type": "execute_result"
    }
   ],
   "source": [
    "list_recommender = [icf, icb, sen]\n",
    "combo5 = HybridCombinationSearch(URM_train, ICM_all, list_recommender)\n",
    "params={'alpha': 0.21686976560272436, 'l1_ratio': 0.4598014054291886}\n",
    "combo5.fit(**params)\n",
    "result = evaluator(combo5, URM_test, cutoff=10)\n",
    "result, _ = evaluator_test.evaluateRecommender(combo5)\n",
    "result[10]['MAP']"
   ]
  },
  {
   "cell_type": "code",
   "execution_count": 22,
   "metadata": {},
   "outputs": [
    {
     "name": "stdout",
     "output_type": "stream",
     "text": [
      "HybridCombinationSearch: URM Detected 27 (0.34 %) cold users.\n",
      "HybridCombinationSearch: URM Detected 1634 (6.29 %) cold items.\n",
      "EvaluatorHoldout: Processed 4106 ( 100.00% ) in 4.55 sec. Users per second: 902\n"
     ]
    },
    {
     "data": {
      "text/plain": [
       "0.0659347425039182"
      ]
     },
     "execution_count": 22,
     "metadata": {},
     "output_type": "execute_result"
    }
   ],
   "source": [
    "list_recommender = [icf, sen, sbpr]\n",
    "combo6 = HybridCombinationSearch(URM_train, ICM_all, list_recommender)\n",
    "params={'alpha': 0.6342517822083686, 'l1_ratio': 0.38051846734018036}\n",
    "combo6.fit(**params)\n",
    "result, _ = evaluator_test.evaluateRecommender(combo6)\n",
    "result[10]['MAP']"
   ]
  },
  {
   "cell_type": "code",
   "execution_count": 23,
   "metadata": {},
   "outputs": [
    {
     "name": "stdout",
     "output_type": "stream",
     "text": [
      "HybridCombinationSearch: URM Detected 27 (0.34 %) cold users.\n",
      "HybridCombinationSearch: URM Detected 1634 (6.29 %) cold items.\n",
      "EvaluatorHoldout: Processed 4106 ( 100.00% ) in 3.86 sec. Users per second: 1064\n"
     ]
    },
    {
     "data": {
      "text/plain": [
       "0.07326053284422848"
      ]
     },
     "execution_count": 23,
     "metadata": {},
     "output_type": "execute_result"
    }
   ],
   "source": [
    "list_recommender = [icf, ucf, icb]\n",
    "combo7 = HybridCombinationSearch(URM_train, ICM_all, list_recommender)\n",
    "params={'alpha': 0.6094266148134767, 'l1_ratio': 0.46668601356447076}\n",
    "combo7.fit(**params)\n",
    "result, _ = evaluator_test.evaluateRecommender(combo7)\n",
    "result[10]['MAP']"
   ]
  },
  {
   "cell_type": "code",
   "execution_count": 24,
   "metadata": {},
   "outputs": [
    {
     "name": "stdout",
     "output_type": "stream",
     "text": [
      "HybridCombinationSearch: URM Detected 27 (0.34 %) cold users.\n",
      "HybridCombinationSearch: URM Detected 1634 (6.29 %) cold items.\n",
      "EvaluatorHoldout: Processed 4106 ( 100.00% ) in 4.07 sec. Users per second: 1008\n"
     ]
    },
    {
     "data": {
      "text/plain": [
       "0.0654504737120623"
      ]
     },
     "execution_count": 24,
     "metadata": {},
     "output_type": "execute_result"
    }
   ],
   "source": [
    "list_recommender = [icf, ucf, sen]\n",
    "combo8 = HybridCombinationSearch(URM_train, ICM_all, list_recommender)\n",
    "params={'alpha': 0.8356363650152253, 'l1_ratio': 0.9163620505237737}\n",
    "combo8.fit(**params)\n",
    "result, _ = evaluator_test.evaluateRecommender(combo8)\n",
    "result[10]['MAP']"
   ]
  },
  {
   "cell_type": "code",
   "execution_count": 25,
   "metadata": {},
   "outputs": [
    {
     "name": "stdout",
     "output_type": "stream",
     "text": [
      "HybridCombinationSearch: URM Detected 27 (0.34 %) cold users.\n",
      "HybridCombinationSearch: URM Detected 1634 (6.29 %) cold items.\n",
      "EvaluatorHoldout: Processed 4106 ( 100.00% ) in 4.02 sec. Users per second: 1021\n"
     ]
    },
    {
     "data": {
      "text/plain": [
       "0.07332406033664196"
      ]
     },
     "execution_count": 25,
     "metadata": {},
     "output_type": "execute_result"
    }
   ],
   "source": [
    "list_recommender = [p3a, icb, sen]\n",
    "combo9 = HybridCombinationSearch(URM_train, ICM_all, list_recommender)\n",
    "params={'alpha': 0.9999772418587548, 'l1_ratio': 0.28511052552468436}\n",
    "combo9.fit(**params)\n",
    "result, _ = evaluator_test.evaluateRecommender(combo9)\n",
    "result[10]['MAP']"
   ]
  },
  {
   "cell_type": "code",
   "execution_count": 26,
   "metadata": {},
   "outputs": [
    {
     "name": "stdout",
     "output_type": "stream",
     "text": [
      "HybridCombinationSearch: URM Detected 27 (0.34 %) cold users.\n",
      "HybridCombinationSearch: URM Detected 1634 (6.29 %) cold items.\n",
      "EvaluatorHoldout: Processed 4106 ( 100.00% ) in 3.65 sec. Users per second: 1124\n"
     ]
    },
    {
     "data": {
      "text/plain": [
       "0.07373877822087309"
      ]
     },
     "execution_count": 26,
     "metadata": {},
     "output_type": "execute_result"
    }
   ],
   "source": [
    "list_recommender = [p3a, icf, icb]\n",
    "combo10 = HybridCombinationSearch(URM_train, ICM_all, list_recommender)\n",
    "params={'alpha': 0.4878994539449091, 'l1_ratio': 0.4667353090819475}\n",
    "combo10.fit(**params)\n",
    "result, _ = evaluator_test.evaluateRecommender(combo10)\n",
    "result[10]['MAP']"
   ]
  },
  {
   "cell_type": "code",
   "execution_count": 27,
   "metadata": {},
   "outputs": [
    {
     "name": "stdout",
     "output_type": "stream",
     "text": [
      "HybridCombinationSearch: URM Detected 27 (0.34 %) cold users.\n",
      "HybridCombinationSearch: URM Detected 1634 (6.29 %) cold items.\n",
      "EvaluatorHoldout: Processed 4106 ( 100.00% ) in 3.73 sec. Users per second: 1102\n"
     ]
    },
    {
     "data": {
      "text/plain": [
       "0.06369466104485845"
      ]
     },
     "execution_count": 27,
     "metadata": {},
     "output_type": "execute_result"
    }
   ],
   "source": [
    "list_recommender = [p3a, icf, sen]\n",
    "combo11 = HybridCombinationSearch(URM_train, ICM_all, list_recommender)\n",
    "params={'alpha': 1.0, 'l1_ratio': 1.0}\n",
    "combo11.fit(**params)\n",
    "result, _ = evaluator_test.evaluateRecommender(combo11)\n",
    "result[10]['MAP']"
   ]
  },
  {
   "cell_type": "code",
   "execution_count": 28,
   "metadata": {},
   "outputs": [
    {
     "name": "stdout",
     "output_type": "stream",
     "text": [
      "HybridCombinationSearch: URM Detected 27 (0.34 %) cold users.\n",
      "HybridCombinationSearch: URM Detected 1634 (6.29 %) cold items.\n",
      "EvaluatorHoldout: Processed 4106 ( 100.00% ) in 4.42 sec. Users per second: 928\n"
     ]
    },
    {
     "data": {
      "text/plain": [
       "0.06369466104485845"
      ]
     },
     "execution_count": 28,
     "metadata": {},
     "output_type": "execute_result"
    }
   ],
   "source": [
    "list_recommender = [p3a, sen, sbpr]\n",
    "combo12 = HybridCombinationSearch(URM_train, ICM_all, list_recommender)\n",
    "params={'alpha': 1.0, 'l1_ratio': 1.0}\n",
    "combo12.fit(**params)\n",
    "result, _ = evaluator_test.evaluateRecommender(combo12)\n",
    "result[10]['MAP']"
   ]
  },
  {
   "cell_type": "code",
   "execution_count": 29,
   "metadata": {},
   "outputs": [
    {
     "name": "stdout",
     "output_type": "stream",
     "text": [
      "HybridCombinationSearch: URM Detected 27 (0.34 %) cold users.\n",
      "HybridCombinationSearch: URM Detected 1634 (6.29 %) cold items.\n",
      "EvaluatorHoldout: Processed 4106 ( 100.00% ) in 3.67 sec. Users per second: 1119\n"
     ]
    },
    {
     "data": {
      "text/plain": [
       "0.07431038985067778"
      ]
     },
     "execution_count": 29,
     "metadata": {},
     "output_type": "execute_result"
    }
   ],
   "source": [
    "list_recommender = [p3a, ucf, icb]\n",
    "combo13 = HybridCombinationSearch(URM_train, ICM_all, list_recommender)\n",
    "params={'alpha': 0.3987236515679141, 'l1_ratio': 0.15489605895390016}\n",
    "combo13.fit(**params)\n",
    "result, _ = evaluator_test.evaluateRecommender(combo13)\n",
    "result[10]['MAP']"
   ]
  },
  {
   "cell_type": "code",
   "execution_count": 30,
   "metadata": {},
   "outputs": [
    {
     "name": "stdout",
     "output_type": "stream",
     "text": [
      "HybridCombinationSearch: URM Detected 27 (0.34 %) cold users.\n",
      "HybridCombinationSearch: URM Detected 1634 (6.29 %) cold items.\n",
      "EvaluatorHoldout: Processed 4106 ( 100.00% ) in 4.02 sec. Users per second: 1021\n"
     ]
    },
    {
     "data": {
      "text/plain": [
       "0.06505141500458302"
      ]
     },
     "execution_count": 30,
     "metadata": {},
     "output_type": "execute_result"
    }
   ],
   "source": [
    "list_recommender = [p3a, ucf, sen]\n",
    "combo14 = HybridCombinationSearch(URM_train, ICM_all, list_recommender)\n",
    "params={'alpha': 0.626160652050037, 'l1_ratio': 0.5469215188707677}\n",
    "combo14.fit(**params)\n",
    "result, _ = evaluator_test.evaluateRecommender(combo14)\n",
    "result[10]['MAP']"
   ]
  },
  {
   "cell_type": "code",
   "execution_count": 31,
   "metadata": {},
   "outputs": [
    {
     "name": "stdout",
     "output_type": "stream",
     "text": [
      "HybridCombinationSearch: URM Detected 27 (0.34 %) cold users.\n",
      "HybridCombinationSearch: URM Detected 1634 (6.29 %) cold items.\n",
      "EvaluatorHoldout: Processed 4106 ( 100.00% ) in 4.10 sec. Users per second: 1001\n"
     ]
    },
    {
     "data": {
      "text/plain": [
       "0.07304859027102016"
      ]
     },
     "execution_count": 31,
     "metadata": {},
     "output_type": "execute_result"
    }
   ],
   "source": [
    "list_recommender = [rp3b, icb, sen]\n",
    "combo15 = HybridCombinationSearch(URM_train, ICM_all, list_recommender)\n",
    "params={'alpha': 1.0, 'l1_ratio': 0.3951763029766836}\n",
    "combo15.fit(**params)\n",
    "result, _ = evaluator_test.evaluateRecommender(combo15)\n",
    "result[10]['MAP']"
   ]
  },
  {
   "cell_type": "code",
   "execution_count": 32,
   "metadata": {},
   "outputs": [
    {
     "name": "stdout",
     "output_type": "stream",
     "text": [
      "HybridCombinationSearch: URM Detected 27 (0.34 %) cold users.\n",
      "HybridCombinationSearch: URM Detected 1634 (6.29 %) cold items.\n",
      "EvaluatorHoldout: Processed 4106 ( 100.00% ) in 4.05 sec. Users per second: 1014\n"
     ]
    },
    {
     "data": {
      "text/plain": [
       "0.07358748418546207"
      ]
     },
     "execution_count": 32,
     "metadata": {},
     "output_type": "execute_result"
    }
   ],
   "source": [
    "list_recommender = [rp3b, icf, icb]\n",
    "combo16 = HybridCombinationSearch(URM_train, ICM_all, list_recommender)\n",
    "params={'alpha': 0.4577946628581237, 'l1_ratio': 0.7434539743766688}\n",
    "combo16.fit(**params)\n",
    "result, _ = evaluator_test.evaluateRecommender(combo16)\n",
    "result[10]['MAP']"
   ]
  },
  {
   "cell_type": "code",
   "execution_count": 33,
   "metadata": {},
   "outputs": [
    {
     "name": "stdout",
     "output_type": "stream",
     "text": [
      "HybridCombinationSearch: URM Detected 27 (0.34 %) cold users.\n",
      "HybridCombinationSearch: URM Detected 1634 (6.29 %) cold items.\n",
      "EvaluatorHoldout: Processed 4106 ( 100.00% ) in 4.18 sec. Users per second: 982\n"
     ]
    },
    {
     "data": {
      "text/plain": [
       "0.06415133493322638"
      ]
     },
     "execution_count": 33,
     "metadata": {},
     "output_type": "execute_result"
    }
   ],
   "source": [
    "list_recommender = [rp3b, icf, sen]\n",
    "combo17 = HybridCombinationSearch(URM_train, ICM_all, list_recommender)\n",
    "params={'alpha': 0.8999667813934427, 'l1_ratio': 0.3877035588220962}\n",
    "combo17.fit(**params)\n",
    "result, _ = evaluator_test.evaluateRecommender(combo17)\n",
    "result[10]['MAP']"
   ]
  },
  {
   "cell_type": "code",
   "execution_count": 34,
   "metadata": {},
   "outputs": [
    {
     "name": "stdout",
     "output_type": "stream",
     "text": [
      "HybridCombinationSearch: URM Detected 27 (0.34 %) cold users.\n",
      "HybridCombinationSearch: URM Detected 1634 (6.29 %) cold items.\n",
      "EvaluatorHoldout: Processed 4106 ( 100.00% ) in 4.17 sec. Users per second: 985\n"
     ]
    },
    {
     "data": {
      "text/plain": [
       "0.0737694602497779"
      ]
     },
     "execution_count": 34,
     "metadata": {},
     "output_type": "execute_result"
    }
   ],
   "source": [
    "list_recommender = [rp3b, p3a, icb]\n",
    "combo18 = HybridCombinationSearch(URM_train, ICM_all, list_recommender)\n",
    "params={'alpha': 0.3619673282977996, 'l1_ratio': 0.997620008978927}\n",
    "combo18.fit(**params)\n",
    "result, _ = evaluator_test.evaluateRecommender(combo18)\n",
    "result[10]['MAP']"
   ]
  },
  {
   "cell_type": "code",
   "execution_count": 35,
   "metadata": {},
   "outputs": [
    {
     "name": "stdout",
     "output_type": "stream",
     "text": [
      "HybridCombinationSearch: URM Detected 27 (0.34 %) cold users.\n",
      "HybridCombinationSearch: URM Detected 1634 (6.29 %) cold items.\n",
      "EvaluatorHoldout: Processed 4106 ( 100.00% ) in 4.76 sec. Users per second: 863\n"
     ]
    },
    {
     "data": {
      "text/plain": [
       "0.06407493371823297"
      ]
     },
     "execution_count": 35,
     "metadata": {},
     "output_type": "execute_result"
    }
   ],
   "source": [
    "list_recommender = [rp3b, sen, sbpr]\n",
    "combo19 = HybridCombinationSearch(URM_train, ICM_all, list_recommender)\n",
    "params={'alpha': 0.45684305746620557, 'l1_ratio': 0.6484637757274762}\n",
    "combo19.fit(**params)\n",
    "result, _ = evaluator_test.evaluateRecommender(combo19)\n",
    "result[10]['MAP']"
   ]
  },
  {
   "cell_type": "code",
   "execution_count": 36,
   "metadata": {},
   "outputs": [
    {
     "name": "stdout",
     "output_type": "stream",
     "text": [
      "HybridCombinationSearch: URM Detected 27 (0.34 %) cold users.\n",
      "HybridCombinationSearch: URM Detected 1634 (6.29 %) cold items.\n",
      "EvaluatorHoldout: Processed 4106 ( 100.00% ) in 4.07 sec. Users per second: 1009\n"
     ]
    },
    {
     "data": {
      "text/plain": [
       "0.07480431772165834"
      ]
     },
     "execution_count": 36,
     "metadata": {},
     "output_type": "execute_result"
    }
   ],
   "source": [
    "list_recommender = [rp3b, ucf, icb]\n",
    "combo20 = HybridCombinationSearch(URM_train, ICM_all, list_recommender)\n",
    "params={'alpha': 0.3787194374490951, 'l1_ratio': 0.706212775218188}\n",
    "combo20.fit(**params)\n",
    "result, _ = evaluator_test.evaluateRecommender(combo20)\n",
    "result[10]['MAP']"
   ]
  },
  {
   "cell_type": "code",
   "execution_count": 37,
   "metadata": {},
   "outputs": [
    {
     "name": "stdout",
     "output_type": "stream",
     "text": [
      "HybridCombinationSearch: URM Detected 27 (0.34 %) cold users.\n",
      "HybridCombinationSearch: URM Detected 1634 (6.29 %) cold items.\n",
      "EvaluatorHoldout: Processed 4106 ( 100.00% ) in 4.20 sec. Users per second: 979\n"
     ]
    },
    {
     "data": {
      "text/plain": [
       "0.06452282519960771"
      ]
     },
     "execution_count": 37,
     "metadata": {},
     "output_type": "execute_result"
    }
   ],
   "source": [
    "list_recommender = [rp3b, ucf, sen]\n",
    "combo21 = HybridCombinationSearch(URM_train, ICM_all, list_recommender)\n",
    "params={'alpha': 0.4629787518361874, 'l1_ratio': 0.7137640115869015}\n",
    "combo21.fit(**params)\n",
    "result, _ = evaluator_test.evaluateRecommender(combo21)\n",
    "result[10]['MAP']"
   ]
  },
  {
   "cell_type": "code",
   "execution_count": 38,
   "metadata": {},
   "outputs": [
    {
     "name": "stdout",
     "output_type": "stream",
     "text": [
      "HybridCombinationSearch: URM Detected 27 (0.34 %) cold users.\n",
      "HybridCombinationSearch: URM Detected 1634 (6.29 %) cold items.\n",
      "EvaluatorHoldout: Processed 4106 ( 100.00% ) in 4.09 sec. Users per second: 1003\n"
     ]
    },
    {
     "data": {
      "text/plain": [
       "0.07640480816408736"
      ]
     },
     "execution_count": 38,
     "metadata": {},
     "output_type": "execute_result"
    }
   ],
   "source": [
    "list_recommender = [ucf, icb, sen]\n",
    "combo22 = HybridCombinationSearch(URM_train, ICM_all, list_recommender)\n",
    "params={'alpha': 0.33535858857401674, 'l1_ratio': 0.4046400351885727}\n",
    "combo22.fit(**params)\n",
    "result, _ = evaluator_test.evaluateRecommender(combo22)\n",
    "result[10]['MAP']"
   ]
  },
  {
   "cell_type": "code",
   "execution_count": 39,
   "metadata": {},
   "outputs": [
    {
     "name": "stdout",
     "output_type": "stream",
     "text": [
      "HybridCombinationSearch: URM Detected 27 (0.34 %) cold users.\n",
      "HybridCombinationSearch: URM Detected 1634 (6.29 %) cold items.\n",
      "EvaluatorHoldout: Processed 4106 ( 100.00% ) in 4.45 sec. Users per second: 924\n"
     ]
    },
    {
     "data": {
      "text/plain": [
       "0.06590664228383698"
      ]
     },
     "execution_count": 39,
     "metadata": {},
     "output_type": "execute_result"
    }
   ],
   "source": [
    "list_recommender = [ucf, sen, sbpr]\n",
    "combo23 = HybridCombinationSearch(URM_train, ICM_all, list_recommender)\n",
    "params={'alpha': 0.7231977321772529, 'l1_ratio': 0.09639275029166919}\n",
    "combo23.fit(**params)\n",
    "result, _ = evaluator_test.evaluateRecommender(combo23)\n",
    "result[10]['MAP']"
   ]
  },
  {
   "cell_type": "code",
   "execution_count": 40,
   "metadata": {},
   "outputs": [
    {
     "name": "stdout",
     "output_type": "stream",
     "text": [
      "HybridCombinationSearch: URM Detected 27 (0.34 %) cold users.\n",
      "HybridCombinationSearch: URM Detected 1634 (6.29 %) cold items.\n",
      "EvaluatorHoldout: Processed 4106 ( 100.00% ) in 4.68 sec. Users per second: 877\n"
     ]
    },
    {
     "data": {
      "text/plain": [
       "0.07448891023368259"
      ]
     },
     "execution_count": 40,
     "metadata": {},
     "output_type": "execute_result"
    }
   ],
   "source": [
    "list_recommender = [icb, sen, sbpr]\n",
    "combo24 = HybridCombinationSearch(URM_train, ICM_all, list_recommender)\n",
    "params={'alpha': 0.7321778261479165, 'l1_ratio': 0.15333729621089734}\n",
    "combo24.fit(**params)\n",
    "result, _ = evaluator_test.evaluateRecommender(combo24)\n",
    "result[10]['MAP']"
   ]
  },
  {
   "cell_type": "code",
   "execution_count": 41,
   "metadata": {},
   "outputs": [
    {
     "name": "stdout",
     "output_type": "stream",
     "text": [
      "HybridCombinationSearch: URM Detected 27 (0.34 %) cold users.\n",
      "HybridCombinationSearch: URM Detected 1634 (6.29 %) cold items.\n",
      "EvaluatorHoldout: Processed 4106 ( 100.00% ) in 4.32 sec. Users per second: 950\n"
     ]
    },
    {
     "data": {
      "text/plain": [
       "0.07044918717969761"
      ]
     },
     "execution_count": 41,
     "metadata": {},
     "output_type": "execute_result"
    }
   ],
   "source": [
    "list_recommender = [icf, icb, sbpr]\n",
    "combo25 = HybridCombinationSearch(URM_train, ICM_all, list_recommender)\n",
    "params={'alpha': 0.1452330659544545, 'l1_ratio': 0.505309437774802}\n",
    "combo25.fit(**params)\n",
    "result, _ = evaluator_test.evaluateRecommender(combo25)\n",
    "result[10]['MAP']"
   ]
  },
  {
   "cell_type": "code",
   "execution_count": 42,
   "metadata": {},
   "outputs": [
    {
     "name": "stdout",
     "output_type": "stream",
     "text": [
      "HybridCombinationSearch: URM Detected 27 (0.34 %) cold users.\n",
      "HybridCombinationSearch: URM Detected 1634 (6.29 %) cold items.\n",
      "EvaluatorHoldout: Processed 4106 ( 100.00% ) in 4.26 sec. Users per second: 963\n"
     ]
    },
    {
     "data": {
      "text/plain": [
       "0.07350138504148736"
      ]
     },
     "execution_count": 42,
     "metadata": {},
     "output_type": "execute_result"
    }
   ],
   "source": [
    "list_recommender = [p3a, icb, sbpr]\n",
    "combo26 = HybridCombinationSearch(URM_train, ICM_all, list_recommender)\n",
    "params={'alpha': 0.6336877202461957, 'l1_ratio': 0.2923784696799847}\n",
    "combo26.fit(**params)\n",
    "result, _ = evaluator_test.evaluateRecommender(combo26)\n",
    "result[10]['MAP']"
   ]
  },
  {
   "cell_type": "code",
   "execution_count": 43,
   "metadata": {},
   "outputs": [
    {
     "name": "stdout",
     "output_type": "stream",
     "text": [
      "HybridCombinationSearch: URM Detected 27 (0.34 %) cold users.\n",
      "HybridCombinationSearch: URM Detected 1634 (6.29 %) cold items.\n",
      "EvaluatorHoldout: Processed 4106 ( 100.00% ) in 4.64 sec. Users per second: 885\n"
     ]
    },
    {
     "data": {
      "text/plain": [
       "0.07342295251208303"
      ]
     },
     "execution_count": 43,
     "metadata": {},
     "output_type": "execute_result"
    }
   ],
   "source": [
    "list_recommender = [rp3b, icb, sbpr]\n",
    "combo27 = HybridCombinationSearch(URM_train, ICM_all, list_recommender)\n",
    "params={'alpha': 0.9902553208856146, 'l1_ratio': 0.36299727894312356}\n",
    "combo27.fit(**params)\n",
    "result, _ = evaluator_test.evaluateRecommender(combo27)\n",
    "result[10]['MAP']"
   ]
  },
  {
   "cell_type": "code",
   "execution_count": 44,
   "metadata": {},
   "outputs": [
    {
     "name": "stdout",
     "output_type": "stream",
     "text": [
      "HybridCombinationSearch: URM Detected 27 (0.34 %) cold users.\n",
      "HybridCombinationSearch: URM Detected 1634 (6.29 %) cold items.\n",
      "EvaluatorHoldout: Processed 4106 ( 100.00% ) in 4.39 sec. Users per second: 936\n"
     ]
    },
    {
     "data": {
      "text/plain": [
       "0.07367557149864672"
      ]
     },
     "execution_count": 44,
     "metadata": {},
     "output_type": "execute_result"
    }
   ],
   "source": [
    "list_recommender = [ucf, icb, sbpr]\n",
    "combo28 = HybridCombinationSearch(URM_train, ICM_all, list_recommender)\n",
    "params={'alpha': 0.7647242911516163, 'l1_ratio': 0.4701015482243481}\n",
    "combo28.fit(**params)\n",
    "result, _ = evaluator_test.evaluateRecommender(combo28)\n",
    "result[10]['MAP']"
   ]
  },
  {
   "cell_type": "markdown",
   "metadata": {},
   "source": [
    "---\n",
    "### USER WISE PLOTS"
   ]
  },
  {
   "cell_type": "code",
   "execution_count": 45,
   "metadata": {},
   "outputs": [],
   "source": [
    "merged_hybrid = [merged1, merged2, merged3, merged4, merged5, merged6, merged7, merged8]\n",
    "combo_hybrid = [combo1, combo2, combo3, combo4, combo5, combo6, combo7, combo8, combo9, combo10,\n",
    "                combo11, combo12, combo13, combo14, combo15, combo16, combo17, combo18, combo19, combo20,\n",
    "                combo21, combo22, combo23, combo24, combo25, combo26, combo27, combo28]"
   ]
  },
  {
   "cell_type": "code",
   "execution_count": 46,
   "metadata": {},
   "outputs": [],
   "source": [
    "num_merged = 8\n",
    "num_combo = 28"
   ]
  },
  {
   "cell_type": "code",
   "execution_count": 68,
   "metadata": {},
   "outputs": [
    {
     "name": "stdout",
     "output_type": "stream",
     "text": [
      "Warning: the URM_test filtered in (0, 3) has 566 of 4106 total users in the original URM_test. (0.14)\n",
      "EvaluatorHoldout: Processed 566 ( 100.00% ) in 0.38 sec. Users per second: 1485\n",
      "EvaluatorHoldout: Processed 566 ( 100.00% ) in 0.39 sec. Users per second: 1468\n",
      "EvaluatorHoldout: Processed 566 ( 100.00% ) in 0.43 sec. Users per second: 1310\n",
      "EvaluatorHoldout: Processed 566 ( 100.00% ) in 0.38 sec. Users per second: 1509\n",
      "EvaluatorHoldout: Processed 566 ( 100.00% ) in 0.35 sec. Users per second: 1602\n",
      "EvaluatorHoldout: Processed 566 ( 100.00% ) in 0.35 sec. Users per second: 1621\n",
      "EvaluatorHoldout: Processed 566 ( 100.00% ) in 0.34 sec. Users per second: 1663\n",
      "EvaluatorHoldout: Processed 566 ( 100.00% ) in 0.34 sec. Users per second: 1652\n",
      "EvaluatorHoldout: Processed 566 ( 100.00% ) in 0.34 sec. Users per second: 1653\n",
      "EvaluatorHoldout: Processed 566 ( 100.00% ) in 0.35 sec. Users per second: 1633\n",
      "EvaluatorHoldout: Processed 566 ( 100.00% ) in 0.34 sec. Users per second: 1646\n",
      "EvaluatorHoldout: Processed 566 ( 100.00% ) in 0.35 sec. Users per second: 1625\n",
      "EvaluatorHoldout: Processed 566 ( 100.00% ) in 0.34 sec. Users per second: 1662\n",
      "EvaluatorHoldout: Processed 566 ( 100.00% ) in 0.36 sec. Users per second: 1589\n",
      "EvaluatorHoldout: Processed 566 ( 100.00% ) in 0.35 sec. Users per second: 1632\n",
      "EvaluatorHoldout: Processed 566 ( 100.00% ) in 0.38 sec. Users per second: 1495\n",
      "EvaluatorHoldout: Processed 566 ( 100.00% ) in 0.40 sec. Users per second: 1425\n",
      "EvaluatorHoldout: Processed 566 ( 100.00% ) in 0.33 sec. Users per second: 1726\n",
      "EvaluatorHoldout: Processed 566 ( 100.00% ) in 0.33 sec. Users per second: 1735\n",
      "EvaluatorHoldout: Processed 566 ( 100.00% ) in 0.41 sec. Users per second: 1370\n",
      "EvaluatorHoldout: Processed 566 ( 100.00% ) in 0.37 sec. Users per second: 1548\n",
      "EvaluatorHoldout: Processed 566 ( 100.00% ) in 0.35 sec. Users per second: 1613\n",
      "EvaluatorHoldout: Processed 566 ( 100.00% ) in 0.34 sec. Users per second: 1659\n",
      "EvaluatorHoldout: Processed 566 ( 100.00% ) in 0.39 sec. Users per second: 1444\n",
      "EvaluatorHoldout: Processed 566 ( 100.00% ) in 0.38 sec. Users per second: 1477\n",
      "EvaluatorHoldout: Processed 566 ( 100.00% ) in 0.34 sec. Users per second: 1665\n",
      "EvaluatorHoldout: Processed 566 ( 100.00% ) in 0.43 sec. Users per second: 1326\n",
      "EvaluatorHoldout: Processed 566 ( 100.00% ) in 0.36 sec. Users per second: 1580\n",
      "EvaluatorHoldout: Processed 566 ( 100.00% ) in 0.35 sec. Users per second: 1619\n",
      "EvaluatorHoldout: Processed 566 ( 100.00% ) in 0.41 sec. Users per second: 1395\n",
      "EvaluatorHoldout: Processed 566 ( 100.00% ) in 0.37 sec. Users per second: 1538\n",
      "EvaluatorHoldout: Processed 566 ( 100.00% ) in 0.35 sec. Users per second: 1603\n",
      "EvaluatorHoldout: Processed 566 ( 100.00% ) in 0.41 sec. Users per second: 1385\n",
      "EvaluatorHoldout: Processed 566 ( 100.00% ) in 0.34 sec. Users per second: 1655\n",
      "EvaluatorHoldout: Processed 566 ( 100.00% ) in 0.35 sec. Users per second: 1615\n",
      "EvaluatorHoldout: Processed 566 ( 100.00% ) in 0.36 sec. Users per second: 1588\n",
      "Warning: the URM_test filtered in (3, 5) has 581 of 4106 total users in the original URM_test. (0.14)\n",
      "EvaluatorHoldout: Processed 581 ( 100.00% ) in 0.37 sec. Users per second: 1578\n",
      "EvaluatorHoldout: Processed 581 ( 100.00% ) in 0.38 sec. Users per second: 1542\n",
      "EvaluatorHoldout: Processed 581 ( 100.00% ) in 0.38 sec. Users per second: 1535\n",
      "EvaluatorHoldout: Processed 581 ( 100.00% ) in 0.38 sec. Users per second: 1534\n",
      "EvaluatorHoldout: Processed 581 ( 100.00% ) in 0.37 sec. Users per second: 1550\n",
      "EvaluatorHoldout: Processed 581 ( 100.00% ) in 0.37 sec. Users per second: 1568\n",
      "EvaluatorHoldout: Processed 581 ( 100.00% ) in 0.36 sec. Users per second: 1600\n",
      "EvaluatorHoldout: Processed 581 ( 100.00% ) in 0.37 sec. Users per second: 1587\n",
      "EvaluatorHoldout: Processed 581 ( 100.00% ) in 0.36 sec. Users per second: 1624\n",
      "EvaluatorHoldout: Processed 581 ( 100.00% ) in 0.38 sec. Users per second: 1539\n",
      "EvaluatorHoldout: Processed 581 ( 100.00% ) in 0.36 sec. Users per second: 1593\n",
      "EvaluatorHoldout: Processed 581 ( 100.00% ) in 0.37 sec. Users per second: 1565\n",
      "EvaluatorHoldout: Processed 581 ( 100.00% ) in 0.36 sec. Users per second: 1598\n",
      "EvaluatorHoldout: Processed 581 ( 100.00% ) in 0.38 sec. Users per second: 1517\n",
      "EvaluatorHoldout: Processed 581 ( 100.00% ) in 0.36 sec. Users per second: 1596\n",
      "EvaluatorHoldout: Processed 581 ( 100.00% ) in 0.37 sec. Users per second: 1576\n",
      "EvaluatorHoldout: Processed 581 ( 100.00% ) in 0.36 sec. Users per second: 1620\n",
      "EvaluatorHoldout: Processed 581 ( 100.00% ) in 0.35 sec. Users per second: 1667\n",
      "EvaluatorHoldout: Processed 581 ( 100.00% ) in 0.35 sec. Users per second: 1664\n",
      "EvaluatorHoldout: Processed 581 ( 100.00% ) in 0.36 sec. Users per second: 1611\n",
      "EvaluatorHoldout: Processed 581 ( 100.00% ) in 0.36 sec. Users per second: 1599\n",
      "EvaluatorHoldout: Processed 581 ( 100.00% ) in 0.37 sec. Users per second: 1572\n",
      "EvaluatorHoldout: Processed 581 ( 100.00% ) in 0.37 sec. Users per second: 1561\n",
      "EvaluatorHoldout: Processed 581 ( 100.00% ) in 0.37 sec. Users per second: 1587\n",
      "EvaluatorHoldout: Processed 581 ( 100.00% ) in 0.37 sec. Users per second: 1568\n",
      "EvaluatorHoldout: Processed 581 ( 100.00% ) in 0.36 sec. Users per second: 1595\n",
      "EvaluatorHoldout: Processed 581 ( 100.00% ) in 0.39 sec. Users per second: 1496\n",
      "EvaluatorHoldout: Processed 581 ( 100.00% ) in 0.38 sec. Users per second: 1527\n",
      "EvaluatorHoldout: Processed 581 ( 100.00% ) in 0.38 sec. Users per second: 1514\n",
      "EvaluatorHoldout: Processed 581 ( 100.00% ) in 0.39 sec. Users per second: 1477\n",
      "EvaluatorHoldout: Processed 581 ( 100.00% ) in 0.40 sec. Users per second: 1449\n",
      "EvaluatorHoldout: Processed 581 ( 100.00% ) in 0.39 sec. Users per second: 1508\n",
      "EvaluatorHoldout: Processed 581 ( 100.00% ) in 0.37 sec. Users per second: 1556\n",
      "EvaluatorHoldout: Processed 581 ( 100.00% ) in 0.37 sec. Users per second: 1565\n",
      "EvaluatorHoldout: Processed 581 ( 100.00% ) in 0.39 sec. Users per second: 1491\n",
      "EvaluatorHoldout: Processed 581 ( 100.00% ) in 0.39 sec. Users per second: 1504\n",
      "Warning: the URM_test filtered in (5, 10) has 1027 of 4106 total users in the original URM_test. (0.25)\n",
      "EvaluatorHoldout: Processed 1027 ( 100.00% ) in 0.66 sec. Users per second: 1556\n",
      "EvaluatorHoldout: Processed 1027 ( 100.00% ) in 0.71 sec. Users per second: 1453\n",
      "EvaluatorHoldout: Processed 1027 ( 100.00% ) in 0.70 sec. Users per second: 1458\n",
      "EvaluatorHoldout: Processed 1027 ( 100.00% ) in 0.71 sec. Users per second: 1448\n",
      "EvaluatorHoldout: Processed 1027 ( 100.00% ) in 0.70 sec. Users per second: 1470\n",
      "EvaluatorHoldout: Processed 1027 ( 100.00% ) in 0.69 sec. Users per second: 1479\n",
      "EvaluatorHoldout: Processed 1027 ( 100.00% ) in 0.68 sec. Users per second: 1521\n",
      "EvaluatorHoldout: Processed 1027 ( 100.00% ) in 0.68 sec. Users per second: 1501\n",
      "EvaluatorHoldout: Processed 1027 ( 100.00% ) in 0.85 sec. Users per second: 1215\n",
      "EvaluatorHoldout: Processed 1027 ( 100.00% ) in 0.88 sec. Users per second: 1164\n",
      "EvaluatorHoldout: Processed 1027 ( 100.00% ) in 0.86 sec. Users per second: 1192\n",
      "EvaluatorHoldout: Processed 1027 ( 100.00% ) in 0.88 sec. Users per second: 1164\n",
      "EvaluatorHoldout: Processed 1027 ( 100.00% ) in 0.89 sec. Users per second: 1160\n",
      "EvaluatorHoldout: Processed 1027 ( 100.00% ) in 0.93 sec. Users per second: 1105\n",
      "EvaluatorHoldout: Processed 1027 ( 100.00% ) in 0.85 sec. Users per second: 1210\n",
      "EvaluatorHoldout: Processed 1027 ( 100.00% ) in 0.87 sec. Users per second: 1177\n",
      "EvaluatorHoldout: Processed 1027 ( 100.00% ) in 0.86 sec. Users per second: 1201\n",
      "EvaluatorHoldout: Processed 1027 ( 100.00% ) in 0.83 sec. Users per second: 1234\n",
      "EvaluatorHoldout: Processed 1027 ( 100.00% ) in 0.82 sec. Users per second: 1251\n",
      "EvaluatorHoldout: Processed 1027 ( 100.00% ) in 0.88 sec. Users per second: 1163\n",
      "EvaluatorHoldout: Processed 1027 ( 100.00% ) in 0.89 sec. Users per second: 1158\n",
      "EvaluatorHoldout: Processed 1027 ( 100.00% ) in 0.87 sec. Users per second: 1180\n",
      "EvaluatorHoldout: Processed 1027 ( 100.00% ) in 0.89 sec. Users per second: 1158\n",
      "EvaluatorHoldout: Processed 1027 ( 100.00% ) in 0.88 sec. Users per second: 1171\n",
      "EvaluatorHoldout: Processed 1027 ( 100.00% ) in 0.89 sec. Users per second: 1160\n",
      "EvaluatorHoldout: Processed 1027 ( 100.00% ) in 0.87 sec. Users per second: 1180\n",
      "EvaluatorHoldout: Processed 1027 ( 100.00% ) in 0.97 sec. Users per second: 1055\n"
     ]
    },
    {
     "name": "stdout",
     "output_type": "stream",
     "text": [
      "EvaluatorHoldout: Processed 1027 ( 100.00% ) in 0.96 sec. Users per second: 1067\n",
      "EvaluatorHoldout: Processed 1027 ( 100.00% ) in 0.97 sec. Users per second: 1054\n",
      "EvaluatorHoldout: Processed 1027 ( 100.00% ) in 0.91 sec. Users per second: 1128\n",
      "EvaluatorHoldout: Processed 1027 ( 100.00% ) in 0.96 sec. Users per second: 1075\n",
      "EvaluatorHoldout: Processed 1027 ( 100.00% ) in 0.99 sec. Users per second: 1036\n",
      "EvaluatorHoldout: Processed 1027 ( 100.00% ) in 0.96 sec. Users per second: 1074\n",
      "EvaluatorHoldout: Processed 1027 ( 100.00% ) in 0.98 sec. Users per second: 1047\n",
      "EvaluatorHoldout: Processed 1027 ( 100.00% ) in 1.01 sec. Users per second: 1020\n",
      "EvaluatorHoldout: Processed 1027 ( 100.00% ) in 0.92 sec. Users per second: 1111\n",
      "Warning: the URM_test filtered in (10, 17) has 676 of 4106 total users in the original URM_test. (0.16)\n",
      "EvaluatorHoldout: Processed 676 ( 100.00% ) in 0.52 sec. Users per second: 1300\n",
      "EvaluatorHoldout: Processed 676 ( 100.00% ) in 0.55 sec. Users per second: 1236\n",
      "EvaluatorHoldout: Processed 676 ( 100.00% ) in 0.52 sec. Users per second: 1312\n",
      "EvaluatorHoldout: Processed 676 ( 100.00% ) in 0.50 sec. Users per second: 1349\n",
      "EvaluatorHoldout: Processed 676 ( 100.00% ) in 0.52 sec. Users per second: 1303\n",
      "EvaluatorHoldout: Processed 676 ( 100.00% ) in 0.49 sec. Users per second: 1369\n",
      "EvaluatorHoldout: Processed 676 ( 100.00% ) in 0.47 sec. Users per second: 1424\n",
      "EvaluatorHoldout: Processed 676 ( 100.00% ) in 0.52 sec. Users per second: 1302\n",
      "EvaluatorHoldout: Processed 676 ( 100.00% ) in 0.50 sec. Users per second: 1365\n",
      "EvaluatorHoldout: Processed 676 ( 100.00% ) in 0.57 sec. Users per second: 1183\n",
      "EvaluatorHoldout: Processed 676 ( 100.00% ) in 0.53 sec. Users per second: 1270\n",
      "EvaluatorHoldout: Processed 676 ( 100.00% ) in 0.57 sec. Users per second: 1194\n",
      "EvaluatorHoldout: Processed 676 ( 100.00% ) in 0.53 sec. Users per second: 1287\n",
      "EvaluatorHoldout: Processed 676 ( 100.00% ) in 0.63 sec. Users per second: 1079\n",
      "EvaluatorHoldout: Processed 676 ( 100.00% ) in 0.50 sec. Users per second: 1343\n",
      "EvaluatorHoldout: Processed 676 ( 100.00% ) in 0.56 sec. Users per second: 1202\n",
      "EvaluatorHoldout: Processed 676 ( 100.00% ) in 0.52 sec. Users per second: 1302\n",
      "EvaluatorHoldout: Processed 676 ( 100.00% ) in 0.48 sec. Users per second: 1401\n",
      "EvaluatorHoldout: Processed 676 ( 100.00% ) in 0.49 sec. Users per second: 1381\n",
      "EvaluatorHoldout: Processed 676 ( 100.00% ) in 0.55 sec. Users per second: 1222\n",
      "EvaluatorHoldout: Processed 676 ( 100.00% ) in 0.50 sec. Users per second: 1353\n",
      "EvaluatorHoldout: Processed 676 ( 100.00% ) in 0.53 sec. Users per second: 1276\n",
      "EvaluatorHoldout: Processed 676 ( 100.00% ) in 0.55 sec. Users per second: 1222\n",
      "EvaluatorHoldout: Processed 676 ( 100.00% ) in 0.54 sec. Users per second: 1258\n",
      "EvaluatorHoldout: Processed 676 ( 100.00% ) in 0.56 sec. Users per second: 1217\n",
      "EvaluatorHoldout: Processed 676 ( 100.00% ) in 0.53 sec. Users per second: 1273\n",
      "EvaluatorHoldout: Processed 676 ( 100.00% ) in 0.64 sec. Users per second: 1064\n",
      "EvaluatorHoldout: Processed 676 ( 100.00% ) in 0.55 sec. Users per second: 1238\n",
      "EvaluatorHoldout: Processed 676 ( 100.00% ) in 0.59 sec. Users per second: 1149\n",
      "EvaluatorHoldout: Processed 676 ( 100.00% ) in 0.58 sec. Users per second: 1173\n",
      "EvaluatorHoldout: Processed 676 ( 100.00% ) in 0.64 sec. Users per second: 1050\n",
      "EvaluatorHoldout: Processed 676 ( 100.00% ) in 0.61 sec. Users per second: 1116\n",
      "EvaluatorHoldout: Processed 676 ( 100.00% ) in 0.61 sec. Users per second: 1109\n",
      "EvaluatorHoldout: Processed 676 ( 100.00% ) in 0.60 sec. Users per second: 1120\n",
      "EvaluatorHoldout: Processed 676 ( 100.00% ) in 0.62 sec. Users per second: 1083\n",
      "EvaluatorHoldout: Processed 676 ( 100.00% ) in 0.59 sec. Users per second: 1149\n",
      "Warning: the URM_test filtered in (17, 30) has 589 of 4106 total users in the original URM_test. (0.14)\n",
      "EvaluatorHoldout: Processed 589 ( 100.00% ) in 0.43 sec. Users per second: 1383\n",
      "EvaluatorHoldout: Processed 589 ( 100.00% ) in 0.48 sec. Users per second: 1226\n",
      "EvaluatorHoldout: Processed 589 ( 100.00% ) in 0.48 sec. Users per second: 1230\n",
      "EvaluatorHoldout: Processed 589 ( 100.00% ) in 0.48 sec. Users per second: 1229\n",
      "EvaluatorHoldout: Processed 589 ( 100.00% ) in 0.47 sec. Users per second: 1241\n",
      "EvaluatorHoldout: Processed 589 ( 100.00% ) in 0.47 sec. Users per second: 1246\n",
      "EvaluatorHoldout: Processed 589 ( 100.00% ) in 0.45 sec. Users per second: 1316\n",
      "EvaluatorHoldout: Processed 589 ( 100.00% ) in 0.46 sec. Users per second: 1284\n",
      "EvaluatorHoldout: Processed 589 ( 100.00% ) in 0.43 sec. Users per second: 1356\n",
      "EvaluatorHoldout: Processed 589 ( 100.00% ) in 0.49 sec. Users per second: 1192\n",
      "EvaluatorHoldout: Processed 589 ( 100.00% ) in 0.49 sec. Users per second: 1213\n",
      "EvaluatorHoldout: Processed 589 ( 100.00% ) in 0.57 sec. Users per second: 1037\n",
      "EvaluatorHoldout: Processed 589 ( 100.00% ) in 0.50 sec. Users per second: 1173\n",
      "EvaluatorHoldout: Processed 589 ( 100.00% ) in 0.61 sec. Users per second: 973\n",
      "EvaluatorHoldout: Processed 589 ( 100.00% ) in 0.46 sec. Users per second: 1285\n",
      "EvaluatorHoldout: Processed 589 ( 100.00% ) in 0.50 sec. Users per second: 1189\n",
      "EvaluatorHoldout: Processed 589 ( 100.00% ) in 0.48 sec. Users per second: 1238\n",
      "EvaluatorHoldout: Processed 589 ( 100.00% ) in 0.43 sec. Users per second: 1360\n",
      "EvaluatorHoldout: Processed 589 ( 100.00% ) in 0.44 sec. Users per second: 1338\n",
      "EvaluatorHoldout: Processed 589 ( 100.00% ) in 0.55 sec. Users per second: 1075\n",
      "EvaluatorHoldout: Processed 589 ( 100.00% ) in 0.43 sec. Users per second: 1354\n",
      "EvaluatorHoldout: Processed 589 ( 100.00% ) in 0.48 sec. Users per second: 1225\n",
      "EvaluatorHoldout: Processed 589 ( 100.00% ) in 0.52 sec. Users per second: 1131\n",
      "EvaluatorHoldout: Processed 589 ( 100.00% ) in 0.49 sec. Users per second: 1200\n",
      "EvaluatorHoldout: Processed 589 ( 100.00% ) in 0.52 sec. Users per second: 1124\n",
      "EvaluatorHoldout: Processed 589 ( 100.00% ) in 0.48 sec. Users per second: 1220\n",
      "EvaluatorHoldout: Processed 589 ( 100.00% ) in 0.66 sec. Users per second: 893\n",
      "EvaluatorHoldout: Processed 589 ( 100.00% ) in 0.52 sec. Users per second: 1133\n",
      "EvaluatorHoldout: Processed 589 ( 100.00% ) in 0.57 sec. Users per second: 1042\n",
      "EvaluatorHoldout: Processed 589 ( 100.00% ) in 0.55 sec. Users per second: 1071\n",
      "EvaluatorHoldout: Processed 589 ( 100.00% ) in 0.61 sec. Users per second: 964\n",
      "EvaluatorHoldout: Processed 589 ( 100.00% ) in 0.60 sec. Users per second: 989\n",
      "EvaluatorHoldout: Processed 589 ( 100.00% ) in 0.57 sec. Users per second: 1037\n",
      "EvaluatorHoldout: Processed 589 ( 100.00% ) in 0.59 sec. Users per second: 991\n",
      "EvaluatorHoldout: Processed 589 ( 100.00% ) in 0.63 sec. Users per second: 936\n",
      "EvaluatorHoldout: Processed 589 ( 100.00% ) in 0.60 sec. Users per second: 990\n",
      "Warning: the URM_test filtered in (30, 100) has 522 of 4106 total users in the original URM_test. (0.13)\n",
      "EvaluatorHoldout: Processed 522 ( 100.00% ) in 0.48 sec. Users per second: 1092\n",
      "EvaluatorHoldout: Processed 522 ( 100.00% ) in 0.57 sec. Users per second: 911\n",
      "EvaluatorHoldout: Processed 522 ( 100.00% ) in 0.54 sec. Users per second: 970\n",
      "EvaluatorHoldout: Processed 522 ( 100.00% ) in 0.53 sec. Users per second: 993\n",
      "EvaluatorHoldout: Processed 522 ( 100.00% ) in 0.53 sec. Users per second: 982\n",
      "EvaluatorHoldout: Processed 522 ( 100.00% ) in 0.52 sec. Users per second: 1010\n",
      "EvaluatorHoldout: Processed 522 ( 100.00% ) in 0.49 sec. Users per second: 1071\n",
      "EvaluatorHoldout: Processed 522 ( 100.00% ) in 0.50 sec. Users per second: 1050\n",
      "EvaluatorHoldout: Processed 522 ( 100.00% ) in 0.47 sec. Users per second: 1114\n",
      "EvaluatorHoldout: Processed 522 ( 100.00% ) in 0.56 sec. Users per second: 940\n",
      "EvaluatorHoldout: Processed 522 ( 100.00% ) in 0.54 sec. Users per second: 963\n",
      "EvaluatorHoldout: Processed 522 ( 100.00% ) in 0.55 sec. Users per second: 955\n",
      "EvaluatorHoldout: Processed 522 ( 100.00% ) in 0.54 sec. Users per second: 967\n",
      "EvaluatorHoldout: Processed 522 ( 100.00% ) in 0.73 sec. Users per second: 718\n",
      "EvaluatorHoldout: Processed 522 ( 100.00% ) in 0.47 sec. Users per second: 1119\n",
      "EvaluatorHoldout: Processed 522 ( 100.00% ) in 0.54 sec. Users per second: 962\n",
      "EvaluatorHoldout: Processed 522 ( 100.00% ) in 0.53 sec. Users per second: 993\n",
      "EvaluatorHoldout: Processed 522 ( 100.00% ) in 0.45 sec. Users per second: 1170\n"
     ]
    },
    {
     "name": "stdout",
     "output_type": "stream",
     "text": [
      "EvaluatorHoldout: Processed 522 ( 100.00% ) in 0.49 sec. Users per second: 1055\n",
      "EvaluatorHoldout: Processed 522 ( 100.00% ) in 0.67 sec. Users per second: 777\n",
      "EvaluatorHoldout: Processed 522 ( 100.00% ) in 0.45 sec. Users per second: 1164\n",
      "EvaluatorHoldout: Processed 522 ( 100.00% ) in 0.53 sec. Users per second: 984\n",
      "EvaluatorHoldout: Processed 522 ( 100.00% ) in 0.63 sec. Users per second: 825\n",
      "EvaluatorHoldout: Processed 522 ( 100.00% ) in 0.59 sec. Users per second: 887\n",
      "EvaluatorHoldout: Processed 522 ( 100.00% ) in 0.62 sec. Users per second: 844\n",
      "EvaluatorHoldout: Processed 522 ( 100.00% ) in 0.58 sec. Users per second: 903\n",
      "EvaluatorHoldout: Processed 522 ( 100.00% ) in 0.83 sec. Users per second: 629\n",
      "EvaluatorHoldout: Processed 522 ( 100.00% ) in 0.58 sec. Users per second: 898\n",
      "EvaluatorHoldout: Processed 522 ( 100.00% ) in 0.62 sec. Users per second: 839\n",
      "EvaluatorHoldout: Processed 522 ( 100.00% ) in 0.54 sec. Users per second: 976\n",
      "EvaluatorHoldout: Processed 522 ( 100.00% ) in 0.73 sec. Users per second: 717\n",
      "EvaluatorHoldout: Processed 522 ( 100.00% ) in 0.72 sec. Users per second: 726\n",
      "EvaluatorHoldout: Processed 522 ( 100.00% ) in 0.65 sec. Users per second: 802\n",
      "EvaluatorHoldout: Processed 522 ( 100.00% ) in 0.64 sec. Users per second: 816\n",
      "EvaluatorHoldout: Processed 522 ( 100.00% ) in 0.73 sec. Users per second: 711\n",
      "EvaluatorHoldout: Processed 522 ( 100.00% ) in 0.65 sec. Users per second: 801\n",
      "Warning: the URM_test filtered in (100, 200) has 80 of 4106 total users in the original URM_test. (0.02)\n",
      "EvaluatorHoldout: Processed 80 ( 100.00% ) in 0.08 sec. Users per second: 1054\n",
      "EvaluatorHoldout: Processed 80 ( 100.00% ) in 0.11 sec. Users per second: 758\n",
      "EvaluatorHoldout: Processed 80 ( 100.00% ) in 0.10 sec. Users per second: 791\n",
      "EvaluatorHoldout: Processed 80 ( 100.00% ) in 0.10 sec. Users per second: 763\n",
      "EvaluatorHoldout: Processed 80 ( 100.00% ) in 0.10 sec. Users per second: 780\n",
      "EvaluatorHoldout: Processed 80 ( 100.00% ) in 0.10 sec. Users per second: 796\n",
      "EvaluatorHoldout: Processed 80 ( 100.00% ) in 0.09 sec. Users per second: 893\n",
      "EvaluatorHoldout: Processed 80 ( 100.00% ) in 0.10 sec. Users per second: 841\n",
      "EvaluatorHoldout: Processed 80 ( 100.00% ) in 0.09 sec. Users per second: 884\n",
      "EvaluatorHoldout: Processed 80 ( 100.00% ) in 0.12 sec. Users per second: 673\n",
      "EvaluatorHoldout: Processed 80 ( 100.00% ) in 0.12 sec. Users per second: 671\n",
      "EvaluatorHoldout: Processed 80 ( 100.00% ) in 0.12 sec. Users per second: 692\n",
      "EvaluatorHoldout: Processed 80 ( 100.00% ) in 0.11 sec. Users per second: 699\n",
      "EvaluatorHoldout: Processed 80 ( 100.00% ) in 0.17 sec. Users per second: 485\n",
      "EvaluatorHoldout: Processed 80 ( 100.00% ) in 0.09 sec. Users per second: 873\n",
      "EvaluatorHoldout: Processed 80 ( 100.00% ) in 0.11 sec. Users per second: 703\n",
      "EvaluatorHoldout: Processed 80 ( 100.00% ) in 0.11 sec. Users per second: 716\n",
      "EvaluatorHoldout: Processed 80 ( 100.00% ) in 0.09 sec. Users per second: 894\n",
      "EvaluatorHoldout: Processed 80 ( 100.00% ) in 0.11 sec. Users per second: 750\n",
      "EvaluatorHoldout: Processed 80 ( 100.00% ) in 0.16 sec. Users per second: 506\n",
      "EvaluatorHoldout: Processed 80 ( 100.00% ) in 0.09 sec. Users per second: 906\n",
      "EvaluatorHoldout: Processed 80 ( 100.00% ) in 0.11 sec. Users per second: 730\n",
      "EvaluatorHoldout: Processed 80 ( 100.00% ) in 0.14 sec. Users per second: 571\n",
      "EvaluatorHoldout: Processed 80 ( 100.00% ) in 0.12 sec. Users per second: 671\n",
      "EvaluatorHoldout: Processed 80 ( 100.00% ) in 0.14 sec. Users per second: 568\n",
      "EvaluatorHoldout: Processed 80 ( 100.00% ) in 0.12 sec. Users per second: 692\n",
      "EvaluatorHoldout: Processed 80 ( 100.00% ) in 0.19 sec. Users per second: 418\n",
      "EvaluatorHoldout: Processed 80 ( 100.00% ) in 0.12 sec. Users per second: 665\n",
      "EvaluatorHoldout: Processed 80 ( 100.00% ) in 0.14 sec. Users per second: 575\n",
      "EvaluatorHoldout: Processed 80 ( 100.00% ) in 0.11 sec. Users per second: 714\n",
      "EvaluatorHoldout: Processed 80 ( 100.00% ) in 0.17 sec. Users per second: 484\n",
      "EvaluatorHoldout: Processed 80 ( 100.00% ) in 0.16 sec. Users per second: 491\n",
      "EvaluatorHoldout: Processed 80 ( 100.00% ) in 0.14 sec. Users per second: 556\n",
      "EvaluatorHoldout: Processed 80 ( 100.00% ) in 0.14 sec. Users per second: 567\n",
      "EvaluatorHoldout: Processed 80 ( 100.00% ) in 0.17 sec. Users per second: 475\n",
      "EvaluatorHoldout: Processed 80 ( 100.00% ) in 0.14 sec. Users per second: 566\n",
      "Warning: the URM_test filtered in (200, -1) has 38 of 4106 total users in the original URM_test. (0.01)\n",
      "EvaluatorHoldout: Processed 38 ( 100.00% ) in 0.06 sec. Users per second: 615\n",
      "EvaluatorHoldout: Processed 38 ( 100.00% ) in 0.09 sec. Users per second: 421\n",
      "EvaluatorHoldout: Processed 38 ( 100.00% ) in 0.08 sec. Users per second: 476\n",
      "EvaluatorHoldout: Processed 38 ( 100.00% ) in 0.09 sec. Users per second: 430\n",
      "EvaluatorHoldout: Processed 38 ( 100.00% ) in 0.08 sec. Users per second: 470\n",
      "EvaluatorHoldout: Processed 38 ( 100.00% ) in 0.08 sec. Users per second: 456\n",
      "EvaluatorHoldout: Processed 38 ( 100.00% ) in 0.07 sec. Users per second: 533\n",
      "EvaluatorHoldout: Processed 38 ( 100.00% ) in 0.08 sec. Users per second: 476\n",
      "EvaluatorHoldout: Processed 38 ( 100.00% ) in 0.06 sec. Users per second: 621\n",
      "EvaluatorHoldout: Processed 38 ( 100.00% ) in 0.10 sec. Users per second: 399\n",
      "EvaluatorHoldout: Processed 38 ( 100.00% ) in 0.10 sec. Users per second: 384\n",
      "EvaluatorHoldout: Processed 38 ( 100.00% ) in 0.09 sec. Users per second: 409\n",
      "EvaluatorHoldout: Processed 38 ( 100.00% ) in 0.09 sec. Users per second: 409\n",
      "EvaluatorHoldout: Processed 38 ( 100.00% ) in 0.14 sec. Users per second: 274\n",
      "EvaluatorHoldout: Processed 38 ( 100.00% ) in 0.07 sec. Users per second: 570\n",
      "EvaluatorHoldout: Processed 38 ( 100.00% ) in 0.09 sec. Users per second: 410\n",
      "EvaluatorHoldout: Processed 38 ( 100.00% ) in 0.11 sec. Users per second: 347\n",
      "EvaluatorHoldout: Processed 38 ( 100.00% ) in 0.08 sec. Users per second: 499\n",
      "EvaluatorHoldout: Processed 38 ( 100.00% ) in 0.09 sec. Users per second: 403\n",
      "EvaluatorHoldout: Processed 38 ( 100.00% ) in 0.13 sec. Users per second: 284\n",
      "EvaluatorHoldout: Processed 38 ( 100.00% ) in 0.06 sec. Users per second: 611\n",
      "EvaluatorHoldout: Processed 38 ( 100.00% ) in 0.09 sec. Users per second: 447\n",
      "EvaluatorHoldout: Processed 38 ( 100.00% ) in 0.12 sec. Users per second: 309\n",
      "EvaluatorHoldout: Processed 38 ( 100.00% ) in 0.11 sec. Users per second: 341\n",
      "EvaluatorHoldout: Processed 38 ( 100.00% ) in 0.13 sec. Users per second: 283\n",
      "EvaluatorHoldout: Processed 38 ( 100.00% ) in 0.10 sec. Users per second: 389\n",
      "EvaluatorHoldout: Processed 38 ( 100.00% ) in 0.16 sec. Users per second: 230\n",
      "EvaluatorHoldout: Processed 38 ( 100.00% ) in 0.09 sec. Users per second: 404\n",
      "EvaluatorHoldout: Processed 38 ( 100.00% ) in 0.12 sec. Users per second: 316\n",
      "EvaluatorHoldout: Processed 38 ( 100.00% ) in 0.09 sec. Users per second: 407\n",
      "EvaluatorHoldout: Processed 38 ( 100.00% ) in 0.14 sec. Users per second: 265\n",
      "EvaluatorHoldout: Processed 38 ( 100.00% ) in 0.14 sec. Users per second: 268\n",
      "EvaluatorHoldout: Processed 38 ( 100.00% ) in 0.11 sec. Users per second: 338\n",
      "EvaluatorHoldout: Processed 38 ( 100.00% ) in 0.11 sec. Users per second: 343\n",
      "EvaluatorHoldout: Processed 38 ( 100.00% ) in 0.14 sec. Users per second: 268\n",
      "EvaluatorHoldout: Processed 38 ( 100.00% ) in 0.11 sec. Users per second: 350\n"
     ]
    }
   ],
   "source": [
    "f_ranges = [\n",
    "    (0,3),\n",
    "    (3,5),\n",
    "    (5,10),\n",
    "    (10,17),\n",
    "    (17,30),\n",
    "    (30,100),\n",
    "    (100,200),\n",
    "    (200,-1)\n",
    "]\n",
    "MAP_merged_per_group = []\n",
    "MAP_combo_per_group = []\n",
    "cutoff = 10\n",
    "\n",
    "for f_range in f_ranges:\n",
    "    URM_test_group = parser.filter_URM_test_by_range(URM_train, URM_test, f_range)\n",
    "    evaluator_test = EvaluatorHoldout(URM_test_group, cutoff_list=[cutoff])\n",
    "    \n",
    "    merged_dict={}\n",
    "    for i in range (num_merged):\n",
    "        results, _ = evaluator_test.evaluateRecommender(merged_hybrid[i])\n",
    "        key='merged'+str(i+1)\n",
    "        merged_dict[key]=results[cutoff][\"MAP\"]\n",
    "    \n",
    "    MAP_merged_per_group.append(merged_dict)\n",
    " \n",
    "    combo_dict={}\n",
    "    for i in range (num_combo):\n",
    "        results, _ = evaluator_test.evaluateRecommender(combo_hybrid[i])\n",
    "        key='combo'+str(i+1)\n",
    "        combo_dict[key]=results[cutoff][\"MAP\"]\n",
    "    \n",
    "    MAP_combo_per_group.append(combo_dict)"
   ]
  },
  {
   "cell_type": "code",
   "execution_count": 69,
   "metadata": {},
   "outputs": [],
   "source": [
    "def check_if_present(key_list, el):\n",
    "    for key_val, combo_val in key_list:\n",
    "        if key_val == el[0] and combo_val == el[1]:\n",
    "            return True\n",
    "    return False"
   ]
  },
  {
   "cell_type": "code",
   "execution_count": 70,
   "metadata": {},
   "outputs": [
    {
     "name": "stdout",
     "output_type": "stream",
     "text": [
      "RANGE (0, 3)\n",
      "> MAP combo-p3a_icf_ucf:\t 0.06855719614111841\n",
      "> MAP combo-rp3b_icf_ucf:\t 0.06926426047450783\n",
      "> MAP combo-rp3b_p3a_icf:\t 0.06871038757081162\n",
      "> MAP combo-rp3b_p3a_ucf:\t 0.06712834427057043\n",
      "> MAP combo-icf_icb_sen:\t 0.07349753211060633\n",
      "> MAP combo-icf_sen_sbpr:\t 0.06371326210107131\n",
      "> MAP combo-icf_ucf_icb:\t 0.07813779516518034\n",
      "> MAP combo-icf_ucf_sen:\t 0.06864974199338159\n",
      "> MAP combo-p3a_icb_sen:\t 0.07950810477312246\n",
      "> MAP combo-p3a_icf_icb:\t 0.08091872791519436\n",
      "> MAP combo-p3a_icf_sen:\t 0.06497349823321558\n",
      "> MAP combo-p3a_sen_sbpr:\t 0.06497349823321558\n",
      "> MAP combo-p3a_ucf_icb:\t 0.08080655112457232\n",
      "> MAP combo-p3a_ucf_sen:\t 0.06691310505356443\n",
      "> MAP combo-rp3b_icb_sen:\t 0.081013026529811\n",
      "> MAP combo-rp3b_icf_icb:\t 0.08363866453530765\n",
      "> MAP combo-rp3b_icf_sen:\t 0.06913876268999945\n",
      "> MAP combo-rp3b_p3a_icb:\t 0.08225152840877224\n",
      "> MAP combo-rp3b_sen_sbpr:\t 0.06809481743227326\n",
      "> MAP combo-rp3b_ucf_icb:\t 0.08202542206517474\n",
      "> MAP combo-rp3b_ucf_sen:\t 0.06809481743227327\n",
      "> MAP combo-ucf_icb_sen:\t 0.07692523416905044\n",
      "> MAP combo-ucf_sen_sbpr:\t 0.06538048965169108\n",
      "> MAP combo-icb_sen_sbpr:\t 0.07324443322676538\n",
      "> MAP combo-icf_icb_sbpr:\t 0.07081463720156303\n",
      "> MAP combo-p3a_icb_sbpr:\t 0.0788364462392731\n",
      "> MAP combo-rp3b_icb_sbpr:\t 0.08051559257389647\n",
      "> MAP combo-ucf_icb_sbpr:\t 0.07525625385607719\n",
      "> MAP merged-icb_icf_p3a:\t 0.08038098042515003\n",
      "> MAP merged-icb_icf_rp3b:\t 0.08234232149868193\n",
      "> MAP merged-icb_icf_sen:\t 0.0741674378821022\n",
      "> MAP merged-icb_p3a_rp3b:\t 0.08162368893375962\n",
      "> MAP merged-icb_p3a_sen:\t 0.07942151831286108\n",
      "> MAP merged-icb_rp3b_sen:\t 0.08080830388692581\n",
      "> MAP merged-icf_p3a_rp3b:\t 0.06619166806887657\n",
      "> MAP merged-p3a_rp3b_sen:\t 0.06720196028941613\n",
      "Max MAP is 0.08363866453530765 from rp3b_icf_icb(COMBO) with difference from previous max of 0.0026256380054966444 from rp3b_icb_sen(COMBO) \n",
      "\n",
      "RANGE (3, 5)\n",
      "> MAP combo-p3a_icf_ucf:\t 0.07367041863599526\n",
      "> MAP combo-rp3b_icf_ucf:\t 0.07002818530357258\n",
      "> MAP combo-rp3b_p3a_icf:\t 0.07182744583777288\n",
      "> MAP combo-rp3b_p3a_ucf:\t 0.07204145379704761\n",
      "> MAP combo-icf_icb_sen:\t 0.0755187416331995\n",
      "> MAP combo-icf_sen_sbpr:\t 0.06836768844083818\n",
      "> MAP combo-icf_ucf_icb:\t 0.08645876021091173\n",
      "> MAP combo-icf_ucf_sen:\t 0.07254801519001178\n",
      "> MAP combo-p3a_icb_sen:\t 0.0784621479113734\n",
      "> MAP combo-p3a_icf_icb:\t 0.08053688677612948\n",
      "> MAP combo-p3a_icf_sen:\t 0.06932765073901048\n",
      "> MAP combo-p3a_sen_sbpr:\t 0.06932765073901048\n",
      "> MAP combo-p3a_ucf_icb:\t 0.08665876658561691\n",
      "> MAP combo-p3a_ucf_sen:\t 0.07139806391097271\n",
      "> MAP combo-rp3b_icb_sen:\t 0.07940435210228673\n",
      "> MAP combo-rp3b_icf_icb:\t 0.07980390951561352\n",
      "> MAP combo-rp3b_icf_sen:\t 0.0687532442695954\n",
      "> MAP combo-rp3b_p3a_icb:\t 0.07950919323552716\n",
      "> MAP combo-rp3b_sen_sbpr:\t 0.06868312251272665\n",
      "> MAP combo-rp3b_ucf_icb:\t 0.08396477064721475\n",
      "> MAP combo-rp3b_ucf_sen:\t 0.0708090866868836\n",
      "> MAP combo-ucf_icb_sen:\t 0.08644919815315687\n",
      "> MAP combo-ucf_sen_sbpr:\t 0.06992072598785166\n",
      "> MAP combo-icb_sen_sbpr:\t 0.08072357457039044\n",
      "> MAP combo-icf_icb_sbpr:\t 0.08192839384749888\n",
      "> MAP combo-p3a_icb_sbpr:\t 0.07982792849402144\n",
      "> MAP combo-rp3b_icb_sbpr:\t 0.07875788869764776\n",
      "> MAP combo-ucf_icb_sbpr:\t 0.08609471901210287\n",
      "> MAP merged-icb_icf_p3a:\t 0.07823675655000957\n",
      "> MAP merged-icb_icf_rp3b:\t 0.0795102177417152\n",
      "> MAP merged-icb_icf_sen:\t 0.07651251263557632\n",
      "> MAP merged-icb_p3a_rp3b:\t 0.0807539682539683\n",
      "> MAP merged-icb_p3a_sen:\t 0.08088316986767938\n",
      "> MAP merged-icb_rp3b_sen:\t 0.07857723410649403\n",
      "> MAP merged-icf_p3a_rp3b:\t 0.06879832254186816\n",
      "> MAP merged-p3a_rp3b_sen:\t 0.0718469114553452\n",
      "Max MAP is 0.08665876658561691 from p3a_ucf_icb(COMBO) with difference from previous max of 0.00020000637470518612 from icf_ucf_icb(COMBO) \n",
      "\n",
      "RANGE (5, 10)\n",
      "> MAP combo-p3a_icf_ucf:\t 0.07708690746665432\n",
      "> MAP combo-rp3b_icf_ucf:\t 0.07885497648155879\n",
      "> MAP combo-rp3b_p3a_icf:\t 0.07910838575395539\n",
      "> MAP combo-rp3b_p3a_ucf:\t 0.07938955090853828\n",
      "> MAP combo-icf_icb_sen:\t 0.0860887647280053\n",
      "> MAP combo-icf_sen_sbpr:\t 0.07974872876771615\n",
      "> MAP combo-icf_ucf_icb:\t 0.08518074166808343\n",
      "> MAP combo-icf_ucf_sen:\t 0.07611304307506843\n",
      "> MAP combo-p3a_icb_sen:\t 0.08514300397211795\n",
      "> MAP combo-p3a_icf_icb:\t 0.08514203799013931\n",
      "> MAP combo-p3a_icf_sen:\t 0.07766057196436942\n",
      "> MAP combo-p3a_sen_sbpr:\t 0.07766057196436942\n",
      "> MAP combo-p3a_ucf_icb:\t 0.0851016599434321\n",
      "> MAP combo-p3a_ucf_sen:\t 0.07843058839894286\n",
      "> MAP combo-rp3b_icb_sen:\t 0.08996215926595678\n",
      "> MAP combo-rp3b_icf_icb:\t 0.08982292906343547\n",
      "> MAP combo-rp3b_icf_sen:\t 0.07937126164974267\n",
      "> MAP combo-rp3b_p3a_icb:\t 0.08905961010391396\n",
      "> MAP combo-rp3b_sen_sbpr:\t 0.07934788488585959\n",
      "> MAP combo-rp3b_ucf_icb:\t 0.08927734244189942\n",
      "> MAP combo-rp3b_ucf_sen:\t 0.07961532021658609\n",
      "> MAP combo-ucf_icb_sen:\t 0.08873071255982651\n",
      "> MAP combo-ucf_sen_sbpr:\t 0.07816407397103603\n",
      "> MAP combo-icb_sen_sbpr:\t 0.08741430451873491\n",
      "> MAP combo-icf_icb_sbpr:\t 0.08037910284745729\n",
      "> MAP combo-p3a_icb_sbpr:\t 0.08534862933597118\n",
      "> MAP combo-rp3b_icb_sbpr:\t 0.08897189894025341\n",
      "> MAP combo-ucf_icb_sbpr:\t 0.08682761214406787\n",
      "> MAP merged-icb_icf_p3a:\t 0.08567712760750743\n",
      "> MAP merged-icb_icf_rp3b:\t 0.0904922901758345\n",
      "> MAP merged-icb_icf_sen:\t 0.08688763182434077\n",
      "> MAP merged-icb_p3a_rp3b:\t 0.09003924462785227\n",
      "> MAP merged-icb_p3a_sen:\t 0.08480033796489499\n",
      "> MAP merged-icb_rp3b_sen:\t 0.0905170837132863\n",
      "> MAP merged-icf_p3a_rp3b:\t 0.07744927950624154\n",
      "> MAP merged-p3a_rp3b_sen:\t 0.07933931984564899\n",
      "Max MAP is 0.0905170837132863 from icb_rp3b_sen(MERGED) with difference from previous max of 2.4793537451800463e-05 from icb_icf_rp3b(MERGED) \n",
      "\n",
      "RANGE (10, 17)\n",
      "> MAP combo-p3a_icf_ucf:\t 0.05850059973858053\n",
      "> MAP combo-rp3b_icf_ucf:\t 0.05747720406374256\n",
      "> MAP combo-rp3b_p3a_icf:\t 0.057940582832409784\n",
      "> MAP combo-rp3b_p3a_ucf:\t 0.057745066098431524\n",
      "> MAP combo-icf_icb_sen:\t 0.07208913504586588\n",
      "> MAP combo-icf_sen_sbpr:\t 0.06213692824269752\n",
      "> MAP combo-icf_ucf_icb:\t 0.07086338874800419\n",
      "> MAP combo-icf_ucf_sen:\t 0.06260834429103664\n",
      "> MAP combo-p3a_icb_sen:\t 0.07440474233743467\n",
      "> MAP combo-p3a_icf_icb:\t 0.07405952576625657\n",
      "> MAP combo-p3a_icf_sen:\t 0.056911263149243926\n",
      "> MAP combo-p3a_sen_sbpr:\t 0.056911263149243926\n",
      "> MAP combo-p3a_ucf_icb:\t 0.07096847507905205\n",
      "> MAP combo-p3a_ucf_sen:\t 0.059592456599668144\n",
      "> MAP combo-rp3b_icb_sen:\t 0.06835946060705676\n",
      "> MAP combo-rp3b_icf_icb:\t 0.06865774494380264\n",
      "> MAP combo-rp3b_icf_sen:\t 0.05771837137221754\n",
      "> MAP combo-rp3b_p3a_icb:\t 0.07040187865909021\n",
      "> MAP combo-rp3b_sen_sbpr:\t 0.058556635672020296\n",
      "> MAP combo-rp3b_ucf_icb:\t 0.0699139282192167\n",
      "> MAP combo-rp3b_ucf_sen:\t 0.05815403791365331\n",
      "> MAP combo-ucf_icb_sen:\t 0.07428067080711315\n",
      "> MAP combo-ucf_sen_sbpr:\t 0.060892348392348444\n",
      "> MAP combo-icb_sen_sbpr:\t 0.07407190210074834\n",
      "> MAP combo-icf_icb_sbpr:\t 0.07118970328104947\n",
      "> MAP combo-p3a_icb_sbpr:\t 0.07427464896214901\n",
      "> MAP combo-rp3b_icb_sbpr:\t 0.07043709984815755\n",
      "> MAP combo-ucf_icb_sbpr:\t 0.0715732424626656\n",
      "> MAP merged-icb_icf_p3a:\t 0.07394313930371627\n",
      "> MAP merged-icb_icf_rp3b:\t 0.06847565139632449\n",
      "> MAP merged-icb_icf_sen:\t 0.07106514745937828\n",
      "> MAP merged-icb_p3a_rp3b:\t 0.06812285248583326\n",
      "> MAP merged-icb_p3a_sen:\t 0.07352502465483238\n",
      "> MAP merged-icb_rp3b_sen:\t 0.06953998681162148\n",
      "> MAP merged-icf_p3a_rp3b:\t 0.058279293267274046\n",
      "> MAP merged-p3a_rp3b_sen:\t 0.05724545353151123\n",
      "Max MAP is 0.07440474233743467 from p3a_icb_sen(COMBO) with difference from previous max of 0.002315607291568794 from icf_icb_sen(COMBO) \n",
      "\n",
      "RANGE (17, 30)\n",
      "> MAP combo-p3a_icf_ucf:\t 0.06463041564484687\n",
      "> MAP combo-rp3b_icf_ucf:\t 0.0647959897503616\n",
      "> MAP combo-rp3b_p3a_icf:\t 0.06397579650611425\n",
      "> MAP combo-rp3b_p3a_ucf:\t 0.06372164730823475\n",
      "> MAP combo-icf_icb_sen:\t 0.0780102137063088\n",
      "> MAP combo-icf_sen_sbpr:\t 0.07012558277413969\n",
      "> MAP combo-icf_ucf_icb:\t 0.07035945277941397\n",
      "> MAP combo-icf_ucf_sen:\t 0.06431458350176524\n",
      "> MAP combo-p3a_icb_sen:\t 0.06995566874174688\n",
      "> MAP combo-p3a_icf_icb:\t 0.07042171962163479\n",
      "> MAP combo-p3a_icf_sen:\t 0.06434933660315663\n",
      "> MAP combo-p3a_sen_sbpr:\t 0.06434933660315663\n",
      "> MAP combo-p3a_ucf_icb:\t 0.07147257063549813\n",
      "> MAP combo-p3a_ucf_sen:\t 0.0656539422031782\n",
      "> MAP combo-rp3b_icb_sen:\t 0.06878428630459922\n",
      "> MAP combo-rp3b_icf_icb:\t 0.06931821521289147\n",
      "> MAP combo-rp3b_icf_sen:\t 0.06325020099531989\n",
      "> MAP combo-rp3b_p3a_icb:\t 0.07105033930191586\n",
      "> MAP combo-rp3b_sen_sbpr:\t 0.06338887653722124\n",
      "> MAP combo-rp3b_ucf_icb:\t 0.0730820009573345\n",
      "> MAP combo-rp3b_ucf_sen:\t 0.06443548948536218\n",
      "> MAP combo-ucf_icb_sen:\t 0.07712328616600385\n",
      "> MAP combo-ucf_sen_sbpr:\t 0.06926302892407674\n",
      "> MAP combo-icb_sen_sbpr:\t 0.07647711508674403\n",
      "> MAP combo-icf_icb_sbpr:\t 0.06741055628061453\n",
      "> MAP combo-p3a_icb_sbpr:\t 0.07044159457784249\n",
      "> MAP combo-rp3b_icb_sbpr:\t 0.07113253403606305\n",
      "> MAP combo-ucf_icb_sbpr:\t 0.07081727456121101\n",
      "> MAP merged-icb_icf_p3a:\t 0.0699302355350743\n",
      "> MAP merged-icb_icf_rp3b:\t 0.07054133349246136\n",
      "> MAP merged-icb_icf_sen:\t 0.0777449464033869\n",
      "> MAP merged-icb_p3a_rp3b:\t 0.07004808167371838\n",
      "> MAP merged-icb_p3a_sen:\t 0.07019972646670444\n",
      "> MAP merged-icb_rp3b_sen:\t 0.07218813161937108\n",
      "> MAP merged-icf_p3a_rp3b:\t 0.06843349092136385\n",
      "> MAP merged-p3a_rp3b_sen:\t 0.06586452690866958\n",
      "Max MAP is 0.0780102137063088 from icf_icb_sen(COMBO) with difference from previous max of 0.013214223955947194 from rp3b_icf_ucf(COMBO) \n",
      "\n",
      "RANGE (30, 100)\n",
      "> MAP combo-p3a_icf_ucf:\t 0.04510656220768429\n",
      "> MAP combo-rp3b_icf_ucf:\t 0.04140864750185587\n",
      "> MAP combo-rp3b_p3a_icf:\t 0.044720364855889906\n",
      "> MAP combo-rp3b_p3a_ucf:\t 0.04484609893340055\n",
      "> MAP combo-icf_icb_sen:\t 0.053671876583754004\n",
      "> MAP combo-icf_sen_sbpr:\t 0.04860021790041405\n",
      "> MAP combo-icf_ucf_icb:\t 0.04868804052769116\n",
      "> MAP combo-icf_ucf_sen:\t 0.048423366579496856\n",
      "> MAP combo-p3a_icb_sen:\t 0.05035117617715459\n",
      "> MAP combo-p3a_icf_icb:\t 0.04980047083044941\n",
      "> MAP combo-p3a_icf_sen:\t 0.04564601415278759\n",
      "> MAP combo-p3a_sen_sbpr:\t 0.04564601415278759\n",
      "> MAP combo-p3a_ucf_icb:\t 0.051772538960951235\n",
      "> MAP combo-p3a_ucf_sen:\t 0.04525796546800927\n",
      "> MAP combo-rp3b_icb_sen:\t 0.046903302739429845\n",
      "> MAP combo-rp3b_icf_icb:\t 0.047149819325346176\n",
      "> MAP combo-rp3b_icf_sen:\t 0.042753503203466714\n",
      "> MAP combo-rp3b_p3a_icb:\t 0.04769997593900627\n",
      "> MAP combo-rp3b_sen_sbpr:\t 0.04228695944817547\n",
      "> MAP combo-rp3b_ucf_icb:\t 0.04858302768389888\n",
      "> MAP combo-rp3b_ucf_sen:\t 0.04217732837778222\n",
      "> MAP combo-ucf_icb_sen:\t 0.05480986777072121\n",
      "> MAP combo-ucf_sen_sbpr:\t 0.04986868115346038\n",
      "> MAP combo-icb_sen_sbpr:\t 0.05362163689088525\n",
      "> MAP combo-icf_icb_sbpr:\t 0.051067477934837915\n",
      "> MAP combo-p3a_icb_sbpr:\t 0.05047882252446887\n",
      "> MAP combo-rp3b_icb_sbpr:\t 0.04773239312043823\n",
      "> MAP combo-ucf_icb_sbpr:\t 0.05033902350496041\n",
      "> MAP merged-icb_icf_p3a:\t 0.04921729279550618\n",
      "> MAP merged-icb_icf_rp3b:\t 0.04783119493362836\n",
      "> MAP merged-icb_icf_sen:\t 0.05550170580861834\n",
      "> MAP merged-icb_p3a_rp3b:\t 0.047518088280437784\n",
      "> MAP merged-icb_p3a_sen:\t 0.04982125330265498\n",
      "> MAP merged-icb_rp3b_sen:\t 0.05043814146561139\n",
      "> MAP merged-icf_p3a_rp3b:\t 0.04419453349666816\n",
      "> MAP merged-p3a_rp3b_sen:\t 0.045174799680763496\n",
      "Max MAP is 0.05550170580861834 from icb_icf_sen(MERGED) with difference from previous max of 0.00069183803789713 from ucf_icb_sen(COMBO) \n",
      "\n",
      "RANGE (100, 200)\n",
      "> MAP combo-p3a_icf_ucf:\t 0.04036637849584278\n",
      "> MAP combo-rp3b_icf_ucf:\t 0.03814228237591332\n",
      "> MAP combo-rp3b_p3a_icf:\t 0.03993687011841773\n",
      "> MAP combo-rp3b_p3a_ucf:\t 0.0410085191484001\n",
      "> MAP combo-icf_icb_sen:\t 0.04316589506172838\n",
      "> MAP combo-icf_sen_sbpr:\t 0.03747977292768959\n",
      "> MAP combo-icf_ucf_icb:\t 0.03349173280423281\n",
      "> MAP combo-icf_ucf_sen:\t 0.036467041446208104\n",
      "> MAP combo-p3a_icb_sen:\t 0.04261326058201058\n",
      "> MAP combo-p3a_icf_icb:\t 0.042471009700176365\n",
      "> MAP combo-p3a_icf_sen:\t 0.039423776455026455\n",
      "> MAP combo-p3a_sen_sbpr:\t 0.039423776455026455\n",
      "> MAP combo-p3a_ucf_icb:\t 0.037459797808012084\n",
      "> MAP combo-p3a_ucf_sen:\t 0.04042584719072814\n",
      "> MAP combo-rp3b_icb_sen:\t 0.03838657407407406\n",
      "> MAP combo-rp3b_icf_icb:\t 0.03829442239858906\n",
      "> MAP combo-rp3b_icf_sen:\t 0.0382216474552784\n",
      "> MAP combo-rp3b_p3a_icb:\t 0.03819623960695388\n",
      "> MAP combo-rp3b_sen_sbpr:\t 0.03738043272864701\n",
      "> MAP combo-rp3b_ucf_icb:\t 0.040658895502645495\n",
      "> MAP combo-rp3b_ucf_sen:\t 0.0379621126228269\n",
      "> MAP combo-ucf_icb_sen:\t 0.039557208994708985\n",
      "> MAP combo-ucf_sen_sbpr:\t 0.04016732804232803\n",
      "> MAP combo-icb_sen_sbpr:\t 0.039652336860670184\n",
      "> MAP combo-icf_icb_sbpr:\t 0.039608630952380944\n",
      "> MAP combo-p3a_icb_sbpr:\t 0.04128499779541446\n",
      "> MAP combo-rp3b_icb_sbpr:\t 0.03819623960695388\n",
      "> MAP combo-ucf_icb_sbpr:\t 0.03490211640211641\n",
      "> MAP merged-icb_icf_p3a:\t 0.042471064814814816\n",
      "> MAP merged-icb_icf_rp3b:\t 0.03872585978835978\n",
      "> MAP merged-icb_icf_sen:\t 0.04245701058201058\n",
      "> MAP merged-icb_p3a_rp3b:\t 0.03804844576719576\n",
      "> MAP merged-icb_p3a_sen:\t 0.041779045414462083\n",
      "> MAP merged-icb_rp3b_sen:\t 0.03927910052910053\n",
      "> MAP merged-icf_p3a_rp3b:\t 0.04160493827160494\n",
      "> MAP merged-p3a_rp3b_sen:\t 0.04079574514991181\n",
      "Max MAP is 0.04316589506172838 from icf_icb_sen(COMBO) with difference from previous max of 0.002157375913328284 from rp3b_p3a_ucf(COMBO) \n",
      "\n",
      "RANGE (200, -1)\n",
      "> MAP combo-p3a_icf_ucf:\t 0.03735902255639099\n",
      "> MAP combo-rp3b_icf_ucf:\t 0.030819757727652466\n",
      "> MAP combo-rp3b_p3a_icf:\t 0.035695488721804516\n",
      "> MAP combo-rp3b_p3a_ucf:\t 0.03762426900584795\n",
      "> MAP combo-icf_icb_sen:\t 0.040111737677527154\n",
      "> MAP combo-icf_sen_sbpr:\t 0.035961779448621556\n",
      "> MAP combo-icf_ucf_icb:\t 0.03759816207184628\n",
      "> MAP combo-icf_ucf_sen:\t 0.03069757727652464\n",
      "> MAP combo-p3a_icb_sen:\t 0.048546365914786976\n",
      "> MAP combo-p3a_icf_icb:\t 0.04743316624895573\n",
      "> MAP combo-p3a_icf_sen:\t 0.03588450292397661\n",
      "> MAP combo-p3a_sen_sbpr:\t 0.03588450292397661\n",
      "> MAP combo-p3a_ucf_icb:\t 0.040519005847953225\n",
      "> MAP combo-p3a_ucf_sen:\t 0.036431704260651634\n",
      "> MAP combo-rp3b_icb_sen:\t 0.033675856307435255\n",
      "> MAP combo-rp3b_icf_icb:\t 0.033675856307435255\n",
      "> MAP combo-rp3b_icf_sen:\t 0.030680868838763576\n",
      "> MAP combo-rp3b_p3a_icb:\t 0.03390977443609023\n",
      "> MAP combo-rp3b_sen_sbpr:\t 0.030796783625731\n",
      "> MAP combo-rp3b_ucf_icb:\t 0.03496345029239766\n",
      "> MAP combo-rp3b_ucf_sen:\t 0.030680868838763576\n",
      "> MAP combo-ucf_icb_sen:\t 0.03711466165413533\n",
      "> MAP combo-ucf_sen_sbpr:\t 0.03960213032581453\n",
      "> MAP combo-icb_sen_sbpr:\t 0.037892648287385124\n",
      "> MAP combo-icf_icb_sbpr:\t 0.0362781954887218\n",
      "> MAP combo-p3a_icb_sbpr:\t 0.04709690893901421\n",
      "> MAP combo-rp3b_icb_sbpr:\t 0.033836675020885554\n",
      "> MAP combo-ucf_icb_sbpr:\t 0.0410484544695071\n",
      "> MAP merged-icb_icf_p3a:\t 0.04680973266499583\n",
      "> MAP merged-icb_icf_rp3b:\t 0.036428571428571435\n",
      "> MAP merged-icb_icf_sen:\t 0.04440267335004178\n",
      "> MAP merged-icb_p3a_rp3b:\t 0.03795739348370927\n",
      "> MAP merged-icb_p3a_sen:\t 0.04743316624895573\n",
      "> MAP merged-icb_rp3b_sen:\t 0.040735171261487055\n",
      "> MAP merged-icf_p3a_rp3b:\t 0.03982978279030911\n",
      "> MAP merged-p3a_rp3b_sen:\t 0.038824143692564754\n",
      "Max MAP is 0.048546365914786976 from p3a_icb_sen(COMBO) with difference from previous max of 0.008434628237259822 from icf_icb_sen(COMBO) \n",
      "\n"
     ]
    }
   ],
   "source": [
    "to_be_plotted = []\n",
    "for i in range(0, len (f_ranges)):\n",
    "    print(f\"RANGE {f_ranges[i]}\")\n",
    "    maxp = 0\n",
    "    difference = 0\n",
    "    old_name = ''\n",
    "    max_name=''\n",
    "    max_isCombo=None\n",
    "    old_isCombo=None\n",
    "    max_key=None\n",
    "    old_key=None\n",
    "    \n",
    "    combo_dict = MAP_combo_per_group[i]\n",
    "    for key in combo_dict:\n",
    "        value = combo_dict[key]\n",
    "        print(f\"> MAP combo-{combo_labels[key]}:\\t {value}\")\n",
    "        if value > maxp:\n",
    "            difference=value - maxp\n",
    "            maxp=value\n",
    "            old_name=max_name\n",
    "            old_isCombo=max_isCombo\n",
    "            max_name=combo_labels[key]\n",
    "            max_isCombo=True\n",
    "            old_key=max_key\n",
    "            max_key=key\n",
    "   \n",
    "    merged_dict = MAP_merged_per_group[i]\n",
    "    for key in merged_dict:\n",
    "        value = merged_dict[key]\n",
    "        print(f\"> MAP merged-{merged_labels[key]}:\\t {value}\")\n",
    "        if value > maxp:\n",
    "            difference=value - maxp\n",
    "            maxp=value\n",
    "            old_name=max_name\n",
    "            old_isCombo=max_isCombo\n",
    "            max_name=merged_labels[key]\n",
    "            max_isCombo=False\n",
    "            old_key=max_key\n",
    "            max_key=key\n",
    "            \n",
    "    if not check_if_present(to_be_plotted, (max_key, max_isCombo)):\n",
    "        to_be_plotted.append((max_key, max_isCombo))\n",
    "    \n",
    "    if not old_key is None and not check_if_present(to_be_plotted, (old_key, old_isCombo)):\n",
    "        to_be_plotted.append((old_key, old_isCombo))\n",
    "    \n",
    "    \n",
    "    print(f\"Max MAP is {maxp} from {max_name}({'COMBO' if max_isCombo else 'MERGED'}) with difference from previous max of {difference} from {old_name}({'COMBO' if old_isCombo else 'MERGED'}) \\n\")\n",
    "        "
   ]
  },
  {
   "cell_type": "code",
   "execution_count": 71,
   "metadata": {},
   "outputs": [
    {
     "data": {
      "text/plain": [
       "[('combo16', True),\n",
       " ('combo15', True),\n",
       " ('combo13', True),\n",
       " ('combo7', True),\n",
       " ('merged6', False),\n",
       " ('merged2', False),\n",
       " ('combo9', True),\n",
       " ('combo5', True),\n",
       " ('combo2', True),\n",
       " ('merged3', False),\n",
       " ('combo22', True),\n",
       " ('combo4', True)]"
      ]
     },
     "execution_count": 71,
     "metadata": {},
     "output_type": "execute_result"
    }
   ],
   "source": [
    "to_be_plotted"
   ]
  },
  {
   "cell_type": "code",
   "execution_count": 72,
   "metadata": {
    "scrolled": false
   },
   "outputs": [
    {
     "data": {
      "image/png": "[encoded data removed]",
      "text/plain": [
       "<Figure size 1440x1440 with 1 Axes>"
      ]
     },
     "metadata": {
      "needs_background": "light"
     },
     "output_type": "display_data"
    }
   ],
   "source": [
    "import matplotlib.pyplot as pyplot\n",
    "%matplotlib inline  \n",
    "pyplot.figure(figsize=(20,20))\n",
    "for key, isCombo in to_be_plotted:\n",
    "    l=[]\n",
    "    if isCombo:\n",
    "        for combo_dict in MAP_combo_per_group:\n",
    "            l.append(combo_dict[key])\n",
    "        style = '--o'\n",
    "        label = combo_labels[key]\n",
    "    else:\n",
    "        for merged_dict in MAP_merged_per_group:\n",
    "            l.append(merged_dict[key])\n",
    "        style = '--x'\n",
    "        label = merged_labels[key]\n",
    "    pyplot.plot(l, style, label = label)\n",
    "\n",
    "pyplot.xticks(ticks=range(0,len(f_ranges)), labels=f_ranges)\n",
    "pyplot.ylabel('MAP')\n",
    "pyplot.xlabel('User Group')\n",
    "pyplot.legend()\n",
    "pyplot.show()"
   ]
  }
 ],
 "metadata": {
  "kernelspec": {
   "display_name": "Python 3",
   "language": "python",
   "name": "python3"
  },
  "language_info": {
   "codemirror_mode": {
    "name": "ipython",
    "version": 3
   },
   "file_extension": ".py",
   "mimetype": "text/x-python",
   "name": "python",
   "nbconvert_exporter": "python",
   "pygments_lexer": "ipython3",
   "version": "3.6.10"
  }
 },
 "nbformat": 4,
 "nbformat_minor": 4
}
