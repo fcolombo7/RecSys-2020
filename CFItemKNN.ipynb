{
 "cells": [
  {
   "cell_type": "code",
   "execution_count": 1,
   "metadata": {},
   "outputs": [],
   "source": [
    "import numpy as np\n",
    "import matplotlib.pyplot as plt\n",
    "%matplotlib inline\n",
    "\n",
    "import pandas as pd\n",
    "import scipy.sparse as sp\n",
    "\n",
    "from DataParser import DataParser\n",
    "from CFItemKNN import CFItemKNN\n",
    "import SimpleEvaluator as evaluator\n",
    "\n",
    "from Data_manager.split_functions.split_train_validation_random_holdout import split_train_in_two_percentage_global_sample"
   ]
  },
  {
   "cell_type": "code",
   "execution_count": 2,
   "metadata": {},
   "outputs": [],
   "source": [
    "parser = DataParser()"
   ]
  },
  {
   "cell_type": "code",
   "execution_count": 3,
   "metadata": {},
   "outputs": [
    {
     "name": "stdout",
     "output_type": "stream",
     "text": [
      "Warning: 34 (0.43 %) of 7947 users have no train items\n",
      "Warning: 2939 (36.98 %) of 7947 users have no sampled items\n"
     ]
    }
   ],
   "source": [
    "URM_all = parser.get_URM_all()\n",
    "URM_train, URM_test = split_train_in_two_percentage_global_sample(URM_all, train_percentage=0.85)"
   ]
  },
  {
   "cell_type": "code",
   "execution_count": 4,
   "metadata": {},
   "outputs": [],
   "source": [
    "MAP_per_k = []\n",
    "x_tick_t= []"
   ]
  },
  {
   "cell_type": "code",
   "execution_count": null,
   "metadata": {
    "scrolled": true
   },
   "outputs": [],
   "source": [
    "x_tick = [10, 50, 100, 500, 900, 1000]\n",
    "recommender = CFItemKNN(URM_train)\n",
    "for topK in x_tick:\n",
    "    recommender.fit(shrink=10, topK=topK)\n",
    "    result_dict= evaluator.evaluator(recommender,URM, cutoff=10)\n",
    "    MAP_per_k.append(result_dict[\"MAP\"])\n",
    "    x_tick_t.append(topK)"
   ]
  },
  {
   "cell_type": "code",
   "execution_count": null,
   "metadata": {
    "scrolled": false
   },
   "outputs": [],
   "source": [
    "plt.plot(x_tick_t, MAP_per_k)\n",
    "plt.ylabel('MAP')\n",
    "plt.xlabel('TopK')\n",
    "plt.show()"
   ]
  },
  {
   "cell_type": "code",
   "execution_count": null,
   "metadata": {
    "scrolled": true
   },
   "outputs": [],
   "source": [
    "x_tick = [0, 10, 30, 50, 100]\n",
    "MAP_per_shrinkage = []\n",
    "\n",
    "recommender = CFItemKNN(URM_train)\n",
    "\n",
    "for shrink in x_tick:\n",
    "    \n",
    "    recommender.fit(shrink=shrink, topK=100)\n",
    "    result_dict= evaluator.evaluator(recommender,URM_valid, cutoff=10)    \n",
    "    MAP_per_shrinkage.append(result_dict[\"MAP\"])"
   ]
  },
  {
   "cell_type": "code",
   "execution_count": null,
   "metadata": {
    "scrolled": true
   },
   "outputs": [],
   "source": [
    "plt.plot(x_tick, MAP_per_shrinkage)\n",
    "plt.ylabel('MAP')\n",
    "plt.xlabel('Shrinkage')\n",
    "plt.show()"
   ]
  },
  {
   "cell_type": "code",
   "execution_count": 5,
   "metadata": {},
   "outputs": [
    {
     "name": "stdout",
     "output_type": "stream",
     "text": [
      "Warning: 38 (0.48 %) of 7947 users have no train items\n",
      "Warning: 2955 (37.18 %) of 7947 users have no sampled items\n",
      "Similarity column 25975 ( 100 % ), 2363.83 column/sec, elapsed time 0.18 min\n"
     ]
    }
   ],
   "source": [
    "URM_train, URM_test = split_train_in_two_percentage_global_sample(URM_all, train_percentage=0.85)\n",
    "rec2 = CFItemKNN(URM_train)\n",
    "rec2.fit(shrink=356, topK=967)\n",
    "res_dict = evaluator.evaluator(rec2, URM_test, cutoff=10)"
   ]
  },
  {
   "cell_type": "code",
   "execution_count": 6,
   "metadata": {},
   "outputs": [
    {
     "data": {
      "text/plain": [
       "{'precision': 0.02670272435897397,\n",
       " 'recall': 0.1027467565263828,\n",
       " 'MAP': 0.05024608771237305}"
      ]
     },
     "execution_count": 6,
     "metadata": {},
     "output_type": "execute_result"
    }
   ],
   "source": [
    "res_dict"
   ]
  },
  {
   "cell_type": "markdown",
   "metadata": {},
   "source": [
    "### Predictions"
   ]
  },
  {
   "cell_type": "code",
   "execution_count": null,
   "metadata": {},
   "outputs": [],
   "source": []
  },
  {
   "cell_type": "code",
   "execution_count": 7,
   "metadata": {},
   "outputs": [],
   "source": [
    "import re"
   ]
  },
  {
   "cell_type": "code",
   "execution_count": 20,
   "metadata": {},
   "outputs": [],
   "source": [
    "out_userid = np.array([])\n",
    "out_itemlist = np.array([])\n",
    "\n",
    "target_data = pd.read_csv('data/data_target_users_test.csv',\n",
    "                          header=0,\n",
    "                          names=[\"user_id\"],\n",
    "                          dtype={\"user_id\":np.int32})\n",
    "\n",
    "for user_id in target_data.user_id.unique():\n",
    "    out_userid = np.append(out_userid, user_id)\n",
    "    str_=re.sub(' +', ' ', np.array_str(rec2.recommend(user_id,at=10)))[1:-1]\n",
    "    if str_[0]==' ':\n",
    "        str_=str_[1:]\n",
    "    out_itemlist = np.append(out_itemlist, str_)\n",
    "#re.sub('[','', re.sub('[ ','', \n",
    "out_dataframe = pd.DataFrame(data={'user_id':out_userid, 'item_list':out_itemlist})\n",
    "out_dataframe = out_dataframe.astype({'user_id': 'int32'})"
   ]
  },
  {
   "cell_type": "code",
   "execution_count": 21,
   "metadata": {},
   "outputs": [
    {
     "data": {
      "text/plain": [
       "array(['1447 5085 637 4927 22850 13657 20451 18390 909 24780',\n",
       "       '19089 12409 23600 19709 8894 16630 19480 3165 17257 20095',\n",
       "       '25693 3164 1876 18790 16901 6662 25491 5717 8374 4842', ...,\n",
       "       '24093 15764 16857 12348 21962 11153 10574 3924 16823 2685',\n",
       "       '19010 19480 19089 7313 11687 8894 10269 9339 19524 22511',\n",
       "       '2523 6861 10752 6828 16522 10471 14971 17897 14904 20348'],\n",
       "      dtype='<U59')"
      ]
     },
     "execution_count": 21,
     "metadata": {},
     "output_type": "execute_result"
    }
   ],
   "source": [
    "out_itemlist"
   ]
  }
 ],
 "metadata": {
  "kernelspec": {
   "display_name": "Python 3",
   "language": "python",
   "name": "python3"
  },
  "language_info": {
   "codemirror_mode": {
    "name": "ipython",
    "version": 3
   },
   "file_extension": ".py",
   "mimetype": "text/x-python",
   "name": "python",
   "nbconvert_exporter": "python",
   "pygments_lexer": "ipython3",
   "version": "3.8.5"
  }
 },
 "nbformat": 4,
 "nbformat_minor": 4
}
