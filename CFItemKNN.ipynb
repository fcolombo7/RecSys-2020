{
 "cells": [
  {
   "cell_type": "code",
   "execution_count": 1,
   "metadata": {},
   "outputs": [],
   "source": [
    "import numpy as np\n",
    "import matplotlib.pyplot as plt\n",
    "%matplotlib inline\n",
    "\n",
    "import pandas as pd\n",
    "import scipy.sparse as sp\n",
    "\n",
    "from DataParser import DataParser\n",
    "from CFItemKNN import CFItemKNN\n",
    "import SimpleEvaluator as evaluator\n",
    "\n",
    "from Data_manager.split_functions.split_train_validation_random_holdout import split_train_in_two_percentage_global_sample"
   ]
  },
  {
   "cell_type": "code",
   "execution_count": 2,
   "metadata": {},
   "outputs": [],
   "source": [
    "parser = DataParser()"
   ]
  },
  {
   "cell_type": "code",
   "execution_count": 3,
   "metadata": {},
   "outputs": [
    {
     "name": "stdout",
     "output_type": "stream",
     "text": [
      "Warning: 39 (0.49 %) of 7947 users have no train items\n",
      "Warning: 2943 (37.03 %) of 7947 users have no sampled items\n",
      "Warning: 132 (1.66 %) of 7947 users have no train items\n",
      "Warning: 3372 (42.43 %) of 7947 users have no sampled items\n"
     ]
    }
   ],
   "source": [
    "URM_all = parser.get_URM_all()\n",
    "URM_train, URM_test = split_train_in_two_percentage_global_sample(URM_all, train_percentage=0.85)\n",
    "URM_train, URM_valid = split_train_in_two_percentage_global_sample(URM_train, train_percentage=0.85)"
   ]
  },
  {
   "cell_type": "code",
   "execution_count": 4,
   "metadata": {},
   "outputs": [],
   "source": [
    "MAP_per_k = []"
   ]
  },
  {
   "cell_type": "code",
   "execution_count": 8,
   "metadata": {
    "scrolled": true
   },
   "outputs": [
    {
     "name": "stdout",
     "output_type": "stream",
     "text": [
      "Similarity column 25975 ( 100 % ), 1596.32 column/sec, elapsed time 0.27 min\n"
     ]
    }
   ],
   "source": [
    "x_tick = [10, 50, 100, 500, 900, 1000]\n",
    "recommender = CFItemKNN(URM_train)\n",
    "for topK in x_tick_n:\n",
    "    recommender.fit(shrink=10, topK=topK)\n",
    "    result_dict= evaluator.evaluator(recommender,URM_valid, cutoff=10)\n",
    "    MAP_per_k.append(result_dict[\"MAP\"])\n",
    "    x_tick.append(topK)"
   ]
  },
  {
   "cell_type": "code",
   "execution_count": 9,
   "metadata": {
    "scrolled": false
   },
   "outputs": [
    {
     "data": {
      "image/png": "[encoded data removed]",
      "text/plain": [
       "<Figure size 432x288 with 1 Axes>"
      ]
     },
     "metadata": {
      "needs_background": "light"
     },
     "output_type": "display_data"
    }
   ],
   "source": [
    "plt.plot(x_tick, MAP_per_k)\n",
    "plt.ylabel('MAP')\n",
    "plt.xlabel('TopK')\n",
    "plt.show()"
   ]
  },
  {
   "cell_type": "code",
   "execution_count": 11,
   "metadata": {
    "scrolled": true
   },
   "outputs": [
    {
     "name": "stdout",
     "output_type": "stream",
     "text": [
      "Similarity column 25975 ( 100 % ), 1527.59 column/sec, elapsed time 0.28 min\n",
      "Similarity column 25975 ( 100 % ), 1630.99 column/sec, elapsed time 0.27 min\n",
      "Similarity column 25975 ( 100 % ), 1629.10 column/sec, elapsed time 0.27 min\n",
      "Similarity column 25975 ( 100 % ), 1417.54 column/sec, elapsed time 0.31 min\n",
      "Similarity column 25975 ( 100 % ), 1578.21 column/sec, elapsed time 0.27 min\n"
     ]
    }
   ],
   "source": [
    "x_tick = [0, 10, 30, 50, 100]\n",
    "MAP_per_shrinkage = []\n",
    "\n",
    "recommender = CFItemKNN(URM_train)\n",
    "\n",
    "for shrink in x_tick:\n",
    "    \n",
    "    recommender.fit(shrink=shrink, topK=900)\n",
    "    result_dict= evaluator.evaluator(recommender,URM_valid, cutoff=10)    \n",
    "    MAP_per_shrinkage.append(result_dict[\"MAP\"])"
   ]
  },
  {
   "cell_type": "code",
   "execution_count": 12,
   "metadata": {
    "scrolled": true
   },
   "outputs": [
    {
     "data": {
      "image/png": "[encoded data removed]",
      "text/plain": [
       "<Figure size 432x288 with 1 Axes>"
      ]
     },
     "metadata": {
      "needs_background": "light"
     },
     "output_type": "display_data"
    }
   ],
   "source": [
    "plt.plot(x_tick, MAP_per_shrinkage)\n",
    "plt.ylabel('MAP')\n",
    "plt.xlabel('Shrinkage')\n",
    "plt.show()"
   ]
  },
  {
   "cell_type": "code",
   "execution_count": 13,
   "metadata": {},
   "outputs": [
    {
     "name": "stdout",
     "output_type": "stream",
     "text": [
      "Similarity column 25975 ( 100 % ), 1934.13 column/sec, elapsed time 0.22 min\n"
     ]
    }
   ],
   "source": [
    "rec2 = CFItemKNN(URM_train)\n",
    "rec2.fit(shrink=356, topK=967)\n",
    "res_dict = evaluator.evaluator(rec2, URM_valid, cutoff=10)"
   ]
  },
  {
   "cell_type": "code",
   "execution_count": 14,
   "metadata": {},
   "outputs": [
    {
     "data": {
      "text/plain": [
       "{'precision': 0.021224043715846845,\n",
       " 'recall': 0.08833301334269418,\n",
       " 'MAP': 0.04128631164062464}"
      ]
     },
     "execution_count": 14,
     "metadata": {},
     "output_type": "execute_result"
    }
   ],
   "source": [
    "res_dict"
   ]
  },
  {
   "cell_type": "markdown",
   "metadata": {},
   "source": [
    "### Predictions"
   ]
  },
  {
   "cell_type": "code",
   "execution_count": null,
   "metadata": {},
   "outputs": [],
   "source": [
    "final_recommender = TopPopRecommender(URM_all) \n",
    "final_recommender.fit()"
   ]
  },
  {
   "cell_type": "code",
   "execution_count": null,
   "metadata": {},
   "outputs": [],
   "source": [
    "import re"
   ]
  },
  {
   "cell_type": "code",
   "execution_count": null,
   "metadata": {},
   "outputs": [],
   "source": [
    "out_userid = np.array([])\n",
    "out_itemlist = np.array([])\n",
    "\n",
    "target_data = parser.get_target_data()\n",
    "for user_id in target_data.user_id.unique():\n",
    "    out_userid = np.append(out_userid, user_id)\n",
    "    out_itemlist = np.append(out_itemlist, \n",
    "                             re.sub(' +', ' ', np.array_str(final_recommender.recommend(user_id,at=10))[1:-1]))\n",
    "\n",
    "out_dataframe = pd.DataFrame(data={'user_id':out_userid, 'item_list':out_itemlist})\n",
    "out_dataframe = out_dataframe.astype({'user_id': 'int32'})"
   ]
  }
 ],
 "metadata": {
  "kernelspec": {
   "display_name": "Python 3",
   "language": "python",
   "name": "python3"
  },
  "language_info": {
   "codemirror_mode": {
    "name": "ipython",
    "version": 3
   },
   "file_extension": ".py",
   "mimetype": "text/x-python",
   "name": "python",
   "nbconvert_exporter": "python",
   "pygments_lexer": "ipython3",
   "version": "3.8.5"
  }
 },
 "nbformat": 4,
 "nbformat_minor": 4
}
