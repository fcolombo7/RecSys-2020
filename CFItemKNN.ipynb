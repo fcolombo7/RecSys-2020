{
 "cells": [
  {
   "cell_type": "code",
   "execution_count": 1,
   "metadata": {},
   "outputs": [],
   "source": [
    "import numpy as np\n",
    "import matplotlib.pyplot as plt\n",
    "%matplotlib inline\n",
    "\n",
    "import pandas as pd\n",
    "import scipy.sparse as sp\n",
    "\n",
    "from DataParser import DataParser\n",
    "from Base.Evaluation.Evaluator import EvaluatorHoldout\n",
    "from KNN.ItemKNNCFRecommender import ItemKNNCFRecommender \n",
    "from Data_manager.split_functions.split_train_validation_random_holdout import split_train_in_two_percentage_global_sample"
   ]
  },
  {
   "cell_type": "code",
   "execution_count": 2,
   "metadata": {
    "scrolled": true
   },
   "outputs": [
    {
     "name": "stdout",
     "output_type": "stream",
     "text": [
      "Warning: 61 (0.77 %) of 7947 users have no train items\n",
      "Warning: 2282 (28.72 %) of 7947 users have no sampled items\n",
      "Warning: 185 (2.33 %) of 7947 users have no train items\n",
      "Warning: 3518 (44.27 %) of 7947 users have no sampled items\n"
     ]
    }
   ],
   "source": [
    "parser = DataParser()\n",
    "URM_all = parser.get_URM_all()\n",
    "\n",
    "URM_train, URM_test = split_train_in_two_percentage_global_sample(URM_all, train_percentage = 0.80)\n",
    "URM_train, URM_validation = split_train_in_two_percentage_global_sample(URM_train, train_percentage = 0.85)\n",
    "\n",
    "evaluator_validation = EvaluatorHoldout(URM_validation, cutoff_list=[10])\n",
    "evaluator_test = EvaluatorHoldout(URM_test, cutoff_list=[10])"
   ]
  },
  {
   "cell_type": "markdown",
   "metadata": {},
   "source": [
    "### number of neighbors"
   ]
  },
  {
   "cell_type": "code",
   "execution_count": 3,
   "metadata": {},
   "outputs": [],
   "source": [
    "MAP_per_k = []\n",
    "x_tick = []"
   ]
  },
  {
   "cell_type": "code",
   "execution_count": 4,
   "metadata": {},
   "outputs": [
    {
     "name": "stdout",
     "output_type": "stream",
     "text": [
      "ItemKNNCFRecommender: URM Detected 185 (2.33 %) cold users.\n",
      "ItemKNNCFRecommender: URM Detected 3583 (13.79 %) cold items.\n",
      "Similarity column 25975 ( 100 % ), 8262.22 column/sec, elapsed time 0.05 min\n",
      "EvaluatorHoldout: Processed 5665 ( 100.00% ) in 2.71 sec. Users per second: 2088\n",
      "ItemKNNCFRecommender: URM Detected 185 (2.33 %) cold users.\n",
      "ItemKNNCFRecommender: URM Detected 3583 (13.79 %) cold items.\n",
      "Similarity column 25975 ( 100 % ), 8716.99 column/sec, elapsed time 0.05 min\n",
      "EvaluatorHoldout: Processed 5665 ( 100.00% ) in 2.73 sec. Users per second: 2076\n",
      "ItemKNNCFRecommender: URM Detected 185 (2.33 %) cold users.\n",
      "ItemKNNCFRecommender: URM Detected 3583 (13.79 %) cold items.\n",
      "Similarity column 25975 ( 100 % ), 8741.42 column/sec, elapsed time 0.05 min\n",
      "EvaluatorHoldout: Processed 5665 ( 100.00% ) in 2.76 sec. Users per second: 2054\n",
      "ItemKNNCFRecommender: URM Detected 185 (2.33 %) cold users.\n",
      "ItemKNNCFRecommender: URM Detected 3583 (13.79 %) cold items.\n",
      "Similarity column 25975 ( 100 % ), 8731.88 column/sec, elapsed time 0.05 min\n",
      "EvaluatorHoldout: Processed 5665 ( 100.00% ) in 2.81 sec. Users per second: 2017\n",
      "ItemKNNCFRecommender: URM Detected 185 (2.33 %) cold users.\n",
      "ItemKNNCFRecommender: URM Detected 3583 (13.79 %) cold items.\n",
      "Similarity column 25975 ( 100 % ), 8431.53 column/sec, elapsed time 0.05 min\n",
      "EvaluatorHoldout: Processed 5665 ( 100.00% ) in 2.92 sec. Users per second: 1941\n",
      "ItemKNNCFRecommender: URM Detected 185 (2.33 %) cold users.\n",
      "ItemKNNCFRecommender: URM Detected 3583 (13.79 %) cold items.\n",
      "Similarity column 25975 ( 100 % ), 8185.03 column/sec, elapsed time 0.05 min\n",
      "EvaluatorHoldout: Processed 5665 ( 100.00% ) in 3.01 sec. Users per second: 1883\n",
      "ItemKNNCFRecommender: URM Detected 185 (2.33 %) cold users.\n",
      "ItemKNNCFRecommender: URM Detected 3583 (13.79 %) cold items.\n",
      "Similarity column 25975 ( 100 % ), 8076.86 column/sec, elapsed time 0.05 min\n",
      "EvaluatorHoldout: Processed 5665 ( 100.00% ) in 3.17 sec. Users per second: 1785\n",
      "ItemKNNCFRecommender: URM Detected 185 (2.33 %) cold users.\n",
      "ItemKNNCFRecommender: URM Detected 3583 (13.79 %) cold items.\n",
      "Similarity column 25975 ( 100 % ), 8055.62 column/sec, elapsed time 0.05 min\n",
      "EvaluatorHoldout: Processed 5665 ( 100.00% ) in 3.34 sec. Users per second: 1694\n",
      "ItemKNNCFRecommender: URM Detected 185 (2.33 %) cold users.\n",
      "ItemKNNCFRecommender: URM Detected 3583 (13.79 %) cold items.\n",
      "Similarity column 25975 ( 100 % ), 7575.78 column/sec, elapsed time 0.06 min\n",
      "EvaluatorHoldout: Processed 5665 ( 100.00% ) in 3.55 sec. Users per second: 1598\n",
      "ItemKNNCFRecommender: URM Detected 185 (2.33 %) cold users.\n",
      "ItemKNNCFRecommender: URM Detected 3583 (13.79 %) cold items.\n",
      "Similarity column 25975 ( 100 % ), 7838.59 column/sec, elapsed time 0.06 min\n",
      "EvaluatorHoldout: Processed 5665 ( 100.00% ) in 3.30 sec. Users per second: 1717\n"
     ]
    }
   ],
   "source": [
    "x_tick_n = [10,20,30,50,100,200,300,500,700,900]\n",
    "for topK in x_tick_n:\n",
    "    \n",
    "    recommender = ItemKNNCFRecommender(URM_train)\n",
    "    recommender.fit(shrink=30, topK=topK)\n",
    "    \n",
    "    result_dict, _ = evaluator_test.evaluateRecommender(recommender)\n",
    "    \n",
    "    MAP_per_k.append(result_dict[10][\"MAP\"])\n",
    "    x_tick.append(topK)"
   ]
  },
  {
   "cell_type": "code",
   "execution_count": 5,
   "metadata": {},
   "outputs": [
    {
     "data": {
      "image/png": "[encoded data removed]",
      "text/plain": [
       "<Figure size 432x288 with 1 Axes>"
      ]
     },
     "metadata": {
      "needs_background": "light"
     },
     "output_type": "display_data"
    }
   ],
   "source": [
    "plt.plot(x_tick, MAP_per_k)\n",
    "plt.ylabel('MAP')\n",
    "plt.xlabel('TopK')\n",
    "plt.show()"
   ]
  },
  {
   "cell_type": "code",
   "execution_count": null,
   "metadata": {},
   "outputs": [],
   "source": []
  },
  {
   "cell_type": "code",
   "execution_count": 6,
   "metadata": {},
   "outputs": [
    {
     "name": "stdout",
     "output_type": "stream",
     "text": [
      "ItemKNNCFRecommender: URM Detected 185 (2.33 %) cold users.\n",
      "ItemKNNCFRecommender: URM Detected 3583 (13.79 %) cold items.\n",
      "Similarity column 25975 ( 100 % ), 7949.20 column/sec, elapsed time 0.05 min\n",
      "EvaluatorHoldout: Processed 5665 ( 100.00% ) in 3.06 sec. Users per second: 1852\n",
      "ItemKNNCFRecommender: URM Detected 185 (2.33 %) cold users.\n",
      "ItemKNNCFRecommender: URM Detected 3583 (13.79 %) cold items.\n",
      "Similarity column 25975 ( 100 % ), 8317.98 column/sec, elapsed time 0.05 min\n",
      "EvaluatorHoldout: Processed 5665 ( 100.00% ) in 3.05 sec. Users per second: 1855\n",
      "ItemKNNCFRecommender: URM Detected 185 (2.33 %) cold users.\n",
      "ItemKNNCFRecommender: URM Detected 3583 (13.79 %) cold items.\n",
      "Similarity column 25975 ( 100 % ), 8488.22 column/sec, elapsed time 0.05 min\n",
      "EvaluatorHoldout: Processed 5665 ( 100.00% ) in 3.10 sec. Users per second: 1830\n",
      "ItemKNNCFRecommender: URM Detected 185 (2.33 %) cold users.\n",
      "ItemKNNCFRecommender: URM Detected 3583 (13.79 %) cold items.\n",
      "Similarity column 25975 ( 100 % ), 8432.19 column/sec, elapsed time 0.05 min\n",
      "EvaluatorHoldout: Processed 5665 ( 100.00% ) in 3.22 sec. Users per second: 1757\n",
      "ItemKNNCFRecommender: URM Detected 185 (2.33 %) cold users.\n",
      "ItemKNNCFRecommender: URM Detected 3583 (13.79 %) cold items.\n",
      "Similarity column 25975 ( 100 % ), 8203.47 column/sec, elapsed time 0.05 min\n",
      "EvaluatorHoldout: Processed 5665 ( 100.00% ) in 3.12 sec. Users per second: 1817\n",
      "ItemKNNCFRecommender: URM Detected 185 (2.33 %) cold users.\n",
      "ItemKNNCFRecommender: URM Detected 3583 (13.79 %) cold items.\n",
      "Similarity column 25975 ( 100 % ), 7856.82 column/sec, elapsed time 0.06 min\n",
      "EvaluatorHoldout: Processed 5665 ( 100.00% ) in 3.11 sec. Users per second: 1823\n",
      "ItemKNNCFRecommender: URM Detected 185 (2.33 %) cold users.\n",
      "ItemKNNCFRecommender: URM Detected 3583 (13.79 %) cold items.\n",
      "Similarity column 25975 ( 100 % ), 7674.92 column/sec, elapsed time 0.06 min\n",
      "EvaluatorHoldout: Processed 5665 ( 100.00% ) in 3.09 sec. Users per second: 1836\n",
      "ItemKNNCFRecommender: URM Detected 185 (2.33 %) cold users.\n",
      "ItemKNNCFRecommender: URM Detected 3583 (13.79 %) cold items.\n",
      "Similarity column 25975 ( 100 % ), 7949.24 column/sec, elapsed time 0.05 min\n",
      "EvaluatorHoldout: Processed 5665 ( 100.00% ) in 3.24 sec. Users per second: 1751\n"
     ]
    }
   ],
   "source": [
    "x_tick = [0, 10, 50, 100, 200,300,400, 500]\n",
    "MAP_per_shrinkage = []\n",
    "\n",
    "for shrink in x_tick:\n",
    "    \n",
    "    recommender = ItemKNNCFRecommender(URM_train)\n",
    "    recommender.fit(shrink=shrink, topK=300)\n",
    "    \n",
    "    result_dict, _ = evaluator_test.evaluateRecommender(recommender)\n",
    "    \n",
    "    MAP_per_shrinkage.append(result_dict[10][\"MAP\"])"
   ]
  },
  {
   "cell_type": "code",
   "execution_count": 8,
   "metadata": {
    "scrolled": true
   },
   "outputs": [
    {
     "data": {
      "image/png": "[encoded data removed]",
      "text/plain": [
       "<Figure size 432x288 with 1 Axes>"
      ]
     },
     "metadata": {
      "needs_background": "light"
     },
     "output_type": "display_data"
    }
   ],
   "source": [
    "plt.plot(x_tick, MAP_per_shrinkage)\n",
    "plt.ylabel('MAP')\n",
    "plt.xlabel('Shrinkage')\n",
    "plt.show()"
   ]
  },
  {
   "cell_type": "code",
   "execution_count": 10,
   "metadata": {},
   "outputs": [
    {
     "name": "stdout",
     "output_type": "stream",
     "text": [
      "ItemKNNCFRecommender: URM Detected 185 (2.33 %) cold users.\n",
      "ItemKNNCFRecommender: URM Detected 3583 (13.79 %) cold items.\n",
      "Similarity column 25975 ( 100 % ), 8165.64 column/sec, elapsed time 0.05 min\n",
      "EvaluatorHoldout: Processed 5665 ( 100.00% ) in 3.15 sec. Users per second: 1797\n",
      "ItemKNNCFRecommender: URM Detected 185 (2.33 %) cold users.\n",
      "ItemKNNCFRecommender: URM Detected 3583 (13.79 %) cold items.\n",
      "Similarity column 25975 ( 100 % ), 7551.66 column/sec, elapsed time 0.06 min\n",
      "EvaluatorHoldout: Processed 5665 ( 100.00% ) in 4.12 sec. Users per second: 1377\n",
      "ItemKNNCFRecommender: URM Detected 185 (2.33 %) cold users.\n",
      "ItemKNNCFRecommender: URM Detected 3583 (13.79 %) cold items.\n",
      "Similarity column 25975 ( 100 % ), 7274.46 column/sec, elapsed time 0.06 min\n",
      "EvaluatorHoldout: Processed 5665 ( 100.00% ) in 3.65 sec. Users per second: 1553\n",
      "ItemKNNCFRecommender: URM Detected 185 (2.33 %) cold users.\n",
      "ItemKNNCFRecommender: URM Detected 3583 (13.79 %) cold items.\n",
      "Similarity column 25975 ( 100 % ), 7818.10 column/sec, elapsed time 0.06 min\n",
      "EvaluatorHoldout: Processed 5665 ( 100.00% ) in 3.35 sec. Users per second: 1692\n",
      "ItemKNNCFRecommender: URM Detected 185 (2.33 %) cold users.\n",
      "ItemKNNCFRecommender: URM Detected 3583 (13.79 %) cold items.\n",
      "Similarity column 25975 ( 100 % ), 7024.20 column/sec, elapsed time 0.06 min\n",
      "EvaluatorHoldout: Processed 5665 ( 100.00% ) in 3.14 sec. Users per second: 1801\n"
     ]
    }
   ],
   "source": [
    "similarities = ['cosine', 'jaccard', 'tanimoto', 'dice', 'pearson']\n",
    "MAP_per_similarity = []\n",
    "\n",
    "for s in similarities:\n",
    "    recommender = ItemKNNCFRecommender(URM_train)\n",
    "    recommender.fit(shrink=250, topK=300, similarity=s)\n",
    "    \n",
    "    result_dict, _ = evaluator_test.evaluateRecommender(recommender)\n",
    "    \n",
    "    MAP_per_similarity.append(result_dict[10][\"MAP\"])"
   ]
  },
  {
   "cell_type": "code",
   "execution_count": 12,
   "metadata": {
    "scrolled": true
   },
   "outputs": [
    {
     "data": {
      "text/plain": [
       "[0.04197941023848327,\n",
       " 0.04170410551033527,\n",
       " 0.04170410551033527,\n",
       " 0.04168512583844297,\n",
       " 0.00014457333389372224]"
      ]
     },
     "execution_count": 12,
     "metadata": {},
     "output_type": "execute_result"
    }
   ],
   "source": [
    "MAP_per_similarity"
   ]
  },
  {
   "cell_type": "code",
   "execution_count": 15,
   "metadata": {},
   "outputs": [
    {
     "name": "stdout",
     "output_type": "stream",
     "text": [
      "ItemKNNCFRecommender: URM Detected 185 (2.33 %) cold users.\n",
      "ItemKNNCFRecommender: URM Detected 3583 (13.79 %) cold items.\n",
      "Similarity column 25975 ( 100 % ), 7990.44 column/sec, elapsed time 0.05 min\n",
      "None:\n",
      "EvaluatorHoldout: Processed 5665 ( 100.00% ) in 3.15 sec. Users per second: 1798\n",
      "0.04197941023848327\n"
     ]
    }
   ],
   "source": [
    "recommender = ItemKNNCFRecommender(URM_train)\n",
    "recommender.fit(shrink=250, topK=300)\n",
    "print('None:')\n",
    "result_dict, _ = evaluator_test.evaluateRecommender(recommender)\n",
    "print(result_dict[10]['MAP'])"
   ]
  },
  {
   "cell_type": "code",
   "execution_count": 14,
   "metadata": {},
   "outputs": [
    {
     "name": "stdout",
     "output_type": "stream",
     "text": [
      "ItemKNNCFRecommender: URM Detected 185 (2.33 %) cold users.\n",
      "ItemKNNCFRecommender: URM Detected 3583 (13.79 %) cold items.\n",
      "Similarity column 25975 ( 100 % ), 8103.76 column/sec, elapsed time 0.05 min\n",
      "TF-IDF:\n",
      "EvaluatorHoldout: Processed 5665 ( 100.00% ) in 3.12 sec. Users per second: 1816\n",
      "0.03876708480129644\n",
      "ItemKNNCFRecommender: URM Detected 185 (2.33 %) cold users.\n",
      "ItemKNNCFRecommender: URM Detected 3583 (13.79 %) cold items.\n",
      "Similarity column 25975 ( 100 % ), 7675.92 column/sec, elapsed time 0.06 min\n",
      "BM25:\n",
      "EvaluatorHoldout: Processed 5665 ( 100.00% ) in 3.24 sec. Users per second: 1748\n",
      "0.019846772576835\n"
     ]
    }
   ],
   "source": [
    "recommender = ItemKNNCFRecommender(URM_train)\n",
    "recommender.fit(shrink=250, topK=300, feature_weighting='TF-IDF')\n",
    "print('TF-IDF:')\n",
    "result_dict, _ = evaluator_test.evaluateRecommender(recommender)\n",
    "print(result_dict[10]['MAP'])\n",
    "\n",
    "recommender = ItemKNNCFRecommender(URM_train)\n",
    "recommender.fit(shrink=250, topK=300, feature_weighting='BM25')\n",
    "print('BM25:')    \n",
    "result_dict, _ = evaluator_test.evaluateRecommender(recommender)\n",
    "print(result_dict[10]['MAP'])\n",
    "\n",
    "\n",
    "    "
   ]
  }
 ],
 "metadata": {
  "kernelspec": {
   "display_name": "Python 3",
   "language": "python",
   "name": "python3"
  },
  "language_info": {
   "codemirror_mode": {
    "name": "ipython",
    "version": 3
   },
   "file_extension": ".py",
   "mimetype": "text/x-python",
   "name": "python",
   "nbconvert_exporter": "python",
   "pygments_lexer": "ipython3",
   "version": "3.6.10"
  }
 },
 "nbformat": 4,
 "nbformat_minor": 4
}
