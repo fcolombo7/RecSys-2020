{
 "cells": [
  {
   "cell_type": "code",
   "execution_count": 1,
   "metadata": {},
   "outputs": [],
   "source": [
    "from DataParser import DataParser\n",
    "import numpy as np\n",
    "import scipy.sparse as sps\n",
    "\n",
    "from Data_manager.split_functions.split_train_validation_random_holdout import \\\n",
    "split_train_in_two_percentage_global_sample\n",
    "\n",
    "import matplotlib.pyplot as plt\n",
    "from matplotlib.pyplot import figure\n",
    "from SimpleEvaluator import evaluator\n",
    "from Base.Evaluation.Evaluator import EvaluatorHoldout"
   ]
  },
  {
   "cell_type": "code",
   "execution_count": 2,
   "metadata": {},
   "outputs": [],
   "source": [
    "from Base.NonPersonalizedRecommender import TopPop, Random\n",
    "from Hybrid.HybridCombinationSearch import HybridCombinationMergedSearch,HybridCombinationSearch\n",
    "from KNN.ItemKNNCBFRecommender import ItemKNNCBFRecommender\n",
    "from KNN.UserKNNCFRecommender import UserKNNCFRecommender\n",
    "from KNN.ItemKNNCFRecommender import ItemKNNCFRecommender\n",
    "from MatrixFactorization.IALSRecommender import IALSRecommender\n",
    "from SLIM_BPR.Cython.SLIM_BPR_Cython import SLIM_BPR_Cython\n",
    "from SLIM_ElasticNet.SLIMElasticNetRecommender import SLIMElasticNetRecommender\n",
    "from SLIM_ElasticNet.SSLIM_ElasticNet import SSLIMElasticNet\n",
    "from GraphBased.P3alphaRecommender import P3alphaRecommender\n",
    "from GraphBased.RP3betaRecommender import RP3betaRecommender\n",
    "from MatrixFactorization.Cython.MatrixFactorization_Cython import MatrixFactorization_BPR_Cython, MatrixFactorization_FunkSVD_Cython\n",
    "from MatrixFactorization.PureSVDRecommender import PureSVDRecommender, PureSVDItemRecommender\n",
    "from MatrixFactorization.NMFRecommender import NMFRecommender"
   ]
  },
  {
   "cell_type": "code",
   "execution_count": 3,
   "metadata": {},
   "outputs": [
    {
     "name": "stdout",
     "output_type": "stream",
     "text": [
      "Warning: 27 (0.34 %) of 7947 users have no train items\n",
      "Warning: 3841 (48.33 %) of 7947 users have no sampled items\n"
     ]
    }
   ],
   "source": [
    "seed = 1205\n",
    "parser = DataParser()\n",
    "\n",
    "URM_all = parser.get_URM_all()\n",
    "ICM_all = parser.get_ICM_all()\n",
    "\n",
    "URM_train, URM_test = split_train_in_two_percentage_global_sample(URM_all, train_percentage=0.9, seed=seed)"
   ]
  },
  {
   "cell_type": "code",
   "execution_count": 4,
   "metadata": {},
   "outputs": [
    {
     "name": "stdout",
     "output_type": "stream",
     "text": [
      "RP3betaRecommender loaded.\n",
      "P3alphaRecommender loaded.\n",
      "ItemKNNCFRecommender loaded.\n",
      "UserKNNCFRecommender loaded.\n",
      "ItemKNNCBFRecommender loaded.\n",
      "SLIMElasticNetRecommender loaded.\n",
      "SLIM_BPR_Recommender loaded.\n",
      "S-SLIMElasticNet loaded.\n"
     ]
    }
   ],
   "source": [
    "rp3b = RP3betaRecommender(URM_train, verbose=False)\n",
    "rp3b_params = {'topK': 1000, 'alpha': 0.38192761611274967, 'beta': 0.0, 'normalize_similarity': False}\n",
    "try:\n",
    "    rp3b.load_model(f'stored_recommenders/seed_{str(seed)}_{rp3b.RECOMMENDER_NAME}/','for_notebook_analysis')\n",
    "    print(f\"{rp3b.RECOMMENDER_NAME} loaded.\")\n",
    "except:\n",
    "    print(f\"Fitting {rp3b.RECOMMENDER_NAME} ...\")\n",
    "    rp3b.fit(**rp3b_params)\n",
    "    print(f\"done.\")\n",
    "    rp3b.save_model(f'stored_recommenders/seed_{str(seed)}_{rp3b.RECOMMENDER_NAME}/','for_notebook_analysis')\n",
    "\n",
    "p3a = P3alphaRecommender(URM_train, verbose=False)\n",
    "p3a_params = {'topK': 131, 'alpha': 0.33660811631883863, 'normalize_similarity': False}\n",
    "try:\n",
    "    p3a.load_model(f'stored_recommenders/seed_{str(seed)}_{p3a.RECOMMENDER_NAME}/','for_notebook_analysis')\n",
    "    print(f\"{p3a.RECOMMENDER_NAME} loaded.\")\n",
    "except:\n",
    "    print(f\"Fitting {p3a.RECOMMENDER_NAME} ...\")\n",
    "    p3a.fit(**p3a_params)\n",
    "    print(f\"done.\")\n",
    "    p3a.save_model(f'stored_recommenders/seed_{str(seed)}_{p3a.RECOMMENDER_NAME}/','for_notebook_analysis')\n",
    "\n",
    "\n",
    "icf = ItemKNNCFRecommender(URM_train, verbose=False)\n",
    "icf_params = {'topK': 55, 'shrink': 1000, 'similarity': 'asymmetric', 'normalize': True, 'asymmetric_alpha': 0.0}\n",
    "try:\n",
    "    icf.load_model(f'stored_recommenders/seed_{str(seed)}_{icf.RECOMMENDER_NAME}/','for_notebook_analysis')\n",
    "    print(f\"{icf.RECOMMENDER_NAME} loaded.\")\n",
    "except:\n",
    "    print(f\"Fitting {icf.RECOMMENDER_NAME} ...\")\n",
    "    icf.fit(**icf_params)\n",
    "    print(f\"done.\")\n",
    "    icf.save_model(f'stored_recommenders/seed_{str(seed)}_{icf.RECOMMENDER_NAME}/','for_notebook_analysis')\n",
    "    \n",
    "ucf = UserKNNCFRecommender(URM_train, verbose=False)\n",
    "ucf_params = {'topK': 190, 'shrink': 0, 'similarity': 'cosine', 'normalize': True}\n",
    "try:\n",
    "    ucf.load_model(f'stored_recommenders/seed_{str(seed)}_{ucf.RECOMMENDER_NAME}/','for_notebook_analysis')\n",
    "    print(f\"{ucf.RECOMMENDER_NAME} loaded.\")\n",
    "except:\n",
    "    print(f\"Fitting {ucf.RECOMMENDER_NAME} ...\")\n",
    "    ucf.fit(**ucf_params)\n",
    "    print(f\"done.\")\n",
    "    ucf.save_model(f'stored_recommenders/seed_{str(seed)}_{ucf.RECOMMENDER_NAME}/','for_notebook_analysis')\n",
    "\n",
    "icb = ItemKNNCBFRecommender(URM_train, ICM_all, verbose=False)\n",
    "icb_params = {'topK': 65, 'shrink': 0, 'similarity': 'dice', 'normalize': True}\n",
    "try:\n",
    "    icb.load_model(f'stored_recommenders/seed_{str(seed)}_{icb.RECOMMENDER_NAME}/','for_notebook_analysis')\n",
    "    print(f\"{icb.RECOMMENDER_NAME} loaded.\")\n",
    "except:\n",
    "    print(f\"Fitting {icb.RECOMMENDER_NAME} ...\")\n",
    "    icb.fit(**icb_params)\n",
    "    print(f\"done.\")\n",
    "    icb.save_model(f'stored_recommenders/seed_{str(seed)}_{icb.RECOMMENDER_NAME}/','for_notebook_analysis')\n",
    "\n",
    "sen = SLIMElasticNetRecommender(URM_train, verbose=False)\n",
    "sen_params = {'topK': 992, 'l1_ratio': 0.004065081925341167, 'alpha': 0.003725005053334143}\n",
    "try:\n",
    "    sen.load_model(f'stored_recommenders/seed_{str(seed)}_{sen.RECOMMENDER_NAME}/','for_notebook_analysis')\n",
    "    print(f\"{sen.RECOMMENDER_NAME} loaded.\")\n",
    "except:\n",
    "    print(f\"Fitting {sen.RECOMMENDER_NAME} ...\")\n",
    "    sen.fit(**sen_params)\n",
    "    print(f\"done.\")\n",
    "    sen.save_model(f'stored_recommenders/seed_{str(seed)}_{sen.RECOMMENDER_NAME}/','for_notebook_analysis')\n",
    "\n",
    "sbpr = SLIM_BPR_Cython(URM_train, verbose=False)\n",
    "sbpr_params = {'topK': 979, 'epochs': 130, 'symmetric': False, 'sgd_mode': 'adam', 'lambda_i': 0.004947329669424629, 'lambda_j': 1.1534760845071758e-05, 'learning_rate': 0.0001}\n",
    "try:\n",
    "    sbpr.load_model(f'stored_recommenders/seed_{str(seed)}_{sbpr.RECOMMENDER_NAME}/','for_notebook_analysis')\n",
    "    print(f\"{sbpr.RECOMMENDER_NAME} loaded.\")\n",
    "except:\n",
    "    print(f\"Fitting {sbpr.RECOMMENDER_NAME} ...\")\n",
    "    sbpr.fit(**sbpr_params)\n",
    "    print(f\"done.\")\n",
    "    sbpr.save_model(f'stored_recommenders/seed_{str(seed)}_{sbpr.RECOMMENDER_NAME}/','for_notebook_analysis')\n",
    "\n",
    "sslim = SSLIMElasticNet(URM_train, ICM_all, verbose=False)\n",
    "sslim_params = {'beta': 0.4849594591575789, 'topK': 1000, 'l1_ratio': 1e-05, 'alpha': 0.001}\n",
    "try:\n",
    "    sslim.load_model(f'stored_recommenders/seed_{str(seed)}_{sslim.RECOMMENDER_NAME}/','for_notebook_analysis')\n",
    "    print(f\"{sslim.RECOMMENDER_NAME} loaded.\")\n",
    "except:\n",
    "    print(f\"Fitting {sslim.RECOMMENDER_NAME} ...\")\n",
    "    sslim.fit(**sslim_params)\n",
    "    print(f\"done.\")\n",
    "    sslim.save_model(f'stored_recommenders/seed_{str(seed)}_{sslim.RECOMMENDER_NAME}/','for_notebook_analysis')\n"
   ]
  },
  {
   "cell_type": "markdown",
   "metadata": {},
   "source": [
    "### MERGED COMBO"
   ]
  },
  {
   "cell_type": "code",
   "execution_count": 5,
   "metadata": {},
   "outputs": [],
   "source": [
    "merged_labels={\n",
    "    'merged1': 'p3a_icb_icf',\n",
    "    'merged2': 'p3a_rp3b_icb',\n",
    "    'merged3': 'p3a_rp3b_icf',\n",
    "    'merged4': 'rp3b_icb_icf',\n",
    "    \n",
    "    'merged5': 'sslim_icb_icf',\n",
    "    'merged6': 'sslim_p3a_icb',\n",
    "    'merged7': 'sslim_p3a_icf',\n",
    "    'merged8': 'sslim_p3a_rp3b',\n",
    "    'merged9': 'sslim_rp3b_icb',\n",
    "    'merged10': 'sslim_rp3b_icf',\n",
    "    \n",
    "    'merged11': 'sen_icb_icf',\n",
    "    'merged12': 'sen_p3a_icb',\n",
    "    'merged13': 'sen_p3a_icf',\n",
    "    'merged14': 'sen_p3a_rp3b',\n",
    "    'merged15': 'sen_rp3b_icb',\n",
    "    'merged16': 'sen_rp3b_icf',\n",
    "}"
   ]
  },
  {
   "cell_type": "code",
   "execution_count": 6,
   "metadata": {},
   "outputs": [],
   "source": [
    "evaluator_test = EvaluatorHoldout(URM_test, cutoff_list=[10])"
   ]
  },
  {
   "cell_type": "code",
   "execution_count": 7,
   "metadata": {},
   "outputs": [
    {
     "name": "stdout",
     "output_type": "stream",
     "text": [
      "HybridCombinationMergedSearch: URM Detected 27 (0.34 %) cold users.\n",
      "HybridCombinationMergedSearch: URM Detected 1634 (6.29 %) cold items.\n",
      "EvaluatorHoldout: Processed 4106 ( 100.00% ) in 2.97 sec. Users per second: 1381\n"
     ]
    },
    {
     "data": {
      "text/plain": [
       "0.07115703869810794"
      ]
     },
     "execution_count": 7,
     "metadata": {},
     "output_type": "execute_result"
    }
   ],
   "source": [
    "list_recommender = [p3a, icb, icf]\n",
    "merged1 = HybridCombinationMergedSearch(URM_train, ICM_all, list_recommender)\n",
    "params={'alpha': 0.7200604049942364, 'l1_ratio': 0.7140395502399722, 'topK': 960}\n",
    "merged1.fit(**params)\n",
    "result, _ = evaluator_test.evaluateRecommender(merged1)\n",
    "result[10]['MAP']"
   ]
  },
  {
   "cell_type": "code",
   "execution_count": 8,
   "metadata": {},
   "outputs": [
    {
     "name": "stdout",
     "output_type": "stream",
     "text": [
      "HybridCombinationMergedSearch: URM Detected 27 (0.34 %) cold users.\n",
      "HybridCombinationMergedSearch: URM Detected 1634 (6.29 %) cold items.\n",
      "EvaluatorHoldout: Processed 4106 ( 100.00% ) in 2.68 sec. Users per second: 1532\n"
     ]
    },
    {
     "data": {
      "text/plain": [
       "0.07301624314416995"
      ]
     },
     "execution_count": 8,
     "metadata": {},
     "output_type": "execute_result"
    }
   ],
   "source": [
    "list_recommender = [p3a, rp3b, icb]\n",
    "merged2 = HybridCombinationMergedSearch(URM_train, ICM_all, list_recommender)\n",
    "params={'alpha': 0.7569952781664187, 'l1_ratio': 1.0, 'topK': 1000}\n",
    "merged2.fit(**params)\n",
    "result, _ = evaluator_test.evaluateRecommender(merged2)\n",
    "result[10]['MAP']"
   ]
  },
  {
   "cell_type": "code",
   "execution_count": 9,
   "metadata": {},
   "outputs": [
    {
     "name": "stdout",
     "output_type": "stream",
     "text": [
      "HybridCombinationMergedSearch: URM Detected 27 (0.34 %) cold users.\n",
      "HybridCombinationMergedSearch: URM Detected 1634 (6.29 %) cold items.\n",
      "EvaluatorHoldout: Processed 4106 ( 100.00% ) in 2.86 sec. Users per second: 1435\n"
     ]
    },
    {
     "data": {
      "text/plain": [
       "0.0653020617760733"
      ]
     },
     "execution_count": 9,
     "metadata": {},
     "output_type": "execute_result"
    }
   ],
   "source": [
    "list_recommender = [p3a, rp3b, icf]\n",
    "merged3 = HybridCombinationMergedSearch(URM_train, ICM_all, list_recommender)\n",
    "params={'alpha': 0.9778642425266775, 'l1_ratio': 0.47133082953138095, 'topK': 325}\n",
    "merged3.fit(**params)\n",
    "result, _ = evaluator_test.evaluateRecommender(merged3)\n",
    "result[10]['MAP']"
   ]
  },
  {
   "cell_type": "code",
   "execution_count": 10,
   "metadata": {},
   "outputs": [
    {
     "name": "stdout",
     "output_type": "stream",
     "text": [
      "HybridCombinationMergedSearch: URM Detected 27 (0.34 %) cold users.\n",
      "HybridCombinationMergedSearch: URM Detected 1634 (6.29 %) cold items.\n",
      "EvaluatorHoldout: Processed 4106 ( 100.00% ) in 3.13 sec. Users per second: 1313\n"
     ]
    },
    {
     "data": {
      "text/plain": [
       "0.07294046686344241"
      ]
     },
     "execution_count": 10,
     "metadata": {},
     "output_type": "execute_result"
    }
   ],
   "source": [
    "list_recommender = [rp3b, icb, icf]\n",
    "merged4 = HybridCombinationMergedSearch(URM_train, ICM_all, list_recommender)\n",
    "params={'alpha': 0.7276553525851246, 'l1_ratio': 0.6891035546237165, 'topK': 1000}\n",
    "merged4.fit(**params)\n",
    "result, _ = evaluator_test.evaluateRecommender(merged4)\n",
    "result[10]['MAP']"
   ]
  },
  {
   "cell_type": "code",
   "execution_count": 11,
   "metadata": {},
   "outputs": [
    {
     "name": "stdout",
     "output_type": "stream",
     "text": [
      "HybridCombinationMergedSearch: URM Detected 27 (0.34 %) cold users.\n",
      "HybridCombinationMergedSearch: URM Detected 1634 (6.29 %) cold items.\n",
      "EvaluatorHoldout: Processed 4106 ( 100.00% ) in 4.21 sec. Users per second: 976\n"
     ]
    },
    {
     "data": {
      "text/plain": [
       "0.07395349516473071"
      ]
     },
     "execution_count": 11,
     "metadata": {},
     "output_type": "execute_result"
    }
   ],
   "source": [
    "list_recommender = [sslim, icb, icf]\n",
    "merged5 = HybridCombinationMergedSearch(URM_train, ICM_all, list_recommender)\n",
    "params={'alpha': 0.6872557307018056, 'l1_ratio': 0.76541566567957, 'topK': 1000}\n",
    "merged5.fit(**params)\n",
    "result, _ = evaluator_test.evaluateRecommender(merged5)\n",
    "result[10]['MAP']"
   ]
  },
  {
   "cell_type": "code",
   "execution_count": 12,
   "metadata": {},
   "outputs": [
    {
     "name": "stdout",
     "output_type": "stream",
     "text": [
      "HybridCombinationMergedSearch: URM Detected 27 (0.34 %) cold users.\n",
      "HybridCombinationMergedSearch: URM Detected 1634 (6.29 %) cold items.\n",
      "EvaluatorHoldout: Processed 4106 ( 100.00% ) in 3.93 sec. Users per second: 1045\n"
     ]
    },
    {
     "data": {
      "text/plain": [
       "0.07693455065542647"
      ]
     },
     "execution_count": 12,
     "metadata": {},
     "output_type": "execute_result"
    }
   ],
   "source": [
    "list_recommender = [sslim, p3a, icb]\n",
    "merged6 = HybridCombinationMergedSearch(URM_train, ICM_all, list_recommender)\n",
    "params={'alpha': 0.859343616443417, 'l1_ratio': 0.8995038091652459, 'topK': 900}\n",
    "merged6.fit(**params)\n",
    "result, _ = evaluator_test.evaluateRecommender(merged6)\n",
    "result[10]['MAP']"
   ]
  },
  {
   "cell_type": "code",
   "execution_count": 13,
   "metadata": {},
   "outputs": [
    {
     "name": "stdout",
     "output_type": "stream",
     "text": [
      "HybridCombinationMergedSearch: URM Detected 27 (0.34 %) cold users.\n",
      "HybridCombinationMergedSearch: URM Detected 1634 (6.29 %) cold items.\n",
      "EvaluatorHoldout: Processed 4106 ( 100.00% ) in 3.94 sec. Users per second: 1042\n"
     ]
    },
    {
     "data": {
      "text/plain": [
       "0.07121420428682733"
      ]
     },
     "execution_count": 13,
     "metadata": {},
     "output_type": "execute_result"
    }
   ],
   "source": [
    "list_recommender = [sslim, p3a, icf]\n",
    "merged7 = HybridCombinationMergedSearch(URM_train, ICM_all, list_recommender)\n",
    "params={'alpha': 0.859343616443417, 'l1_ratio': 0.8995038091652459, 'topK': 900}\n",
    "merged7.fit(**params)\n",
    "result, _ = evaluator_test.evaluateRecommender(merged7)\n",
    "result[10]['MAP']"
   ]
  },
  {
   "cell_type": "code",
   "execution_count": 14,
   "metadata": {},
   "outputs": [
    {
     "name": "stdout",
     "output_type": "stream",
     "text": [
      "HybridCombinationMergedSearch: URM Detected 27 (0.34 %) cold users.\n",
      "HybridCombinationMergedSearch: URM Detected 1634 (6.29 %) cold items.\n",
      "EvaluatorHoldout: Processed 4106 ( 100.00% ) in 4.06 sec. Users per second: 1011\n"
     ]
    },
    {
     "data": {
      "text/plain": [
       "0.07267760953987402"
      ]
     },
     "execution_count": 14,
     "metadata": {},
     "output_type": "execute_result"
    }
   ],
   "source": [
    "list_recommender = [sslim, p3a, rp3b]\n",
    "merged8 = HybridCombinationMergedSearch(URM_train, ICM_all, list_recommender)\n",
    "params={'alpha': 0.9400802859734554, 'l1_ratio': 0.9587684622302801, 'topK': 994}\n",
    "merged8.fit(**params)\n",
    "result, _ = evaluator_test.evaluateRecommender(merged8)\n",
    "result[10]['MAP']"
   ]
  },
  {
   "cell_type": "code",
   "execution_count": 15,
   "metadata": {},
   "outputs": [
    {
     "name": "stdout",
     "output_type": "stream",
     "text": [
      "HybridCombinationMergedSearch: URM Detected 27 (0.34 %) cold users.\n",
      "HybridCombinationMergedSearch: URM Detected 1634 (6.29 %) cold items.\n",
      "EvaluatorHoldout: Processed 4106 ( 100.00% ) in 4.12 sec. Users per second: 997\n"
     ]
    },
    {
     "data": {
      "text/plain": [
       "0.07676832071023634"
      ]
     },
     "execution_count": 15,
     "metadata": {},
     "output_type": "execute_result"
    }
   ],
   "source": [
    "list_recommender = [sslim, rp3b, icb]\n",
    "merged9 = HybridCombinationMergedSearch(URM_train, ICM_all, list_recommender)\n",
    "params={'alpha': 0.7958495250555339, 'l1_ratio': 0.568253896500783, 'topK': 1000}\n",
    "merged9.fit(**params)\n",
    "result, _ = evaluator_test.evaluateRecommender(merged9)\n",
    "result[10]['MAP']"
   ]
  },
  {
   "cell_type": "code",
   "execution_count": 16,
   "metadata": {},
   "outputs": [
    {
     "name": "stdout",
     "output_type": "stream",
     "text": [
      "HybridCombinationMergedSearch: URM Detected 27 (0.34 %) cold users.\n",
      "HybridCombinationMergedSearch: URM Detected 1634 (6.29 %) cold items.\n",
      "EvaluatorHoldout: Processed 4106 ( 100.00% ) in 4.09 sec. Users per second: 1004\n"
     ]
    },
    {
     "data": {
      "text/plain": [
       "0.07214342600753734"
      ]
     },
     "execution_count": 16,
     "metadata": {},
     "output_type": "execute_result"
    }
   ],
   "source": [
    "list_recommender = [sslim, rp3b, icf]\n",
    "merged10 = HybridCombinationMergedSearch(URM_train, ICM_all, list_recommender)\n",
    "params={'alpha': 0.981619721036961, 'l1_ratio': 0.9649738006659417, 'topK': 983}\n",
    "merged10.fit(**params)\n",
    "result, _ = evaluator_test.evaluateRecommender(merged10)\n",
    "result[10]['MAP']"
   ]
  },
  {
   "cell_type": "code",
   "execution_count": 17,
   "metadata": {},
   "outputs": [
    {
     "name": "stdout",
     "output_type": "stream",
     "text": [
      "HybridCombinationMergedSearch: URM Detected 27 (0.34 %) cold users.\n",
      "HybridCombinationMergedSearch: URM Detected 1634 (6.29 %) cold items.\n",
      "EvaluatorHoldout: Processed 4106 ( 100.00% ) in 3.10 sec. Users per second: 1325\n"
     ]
    },
    {
     "data": {
      "text/plain": [
       "0.07173121012309597"
      ]
     },
     "execution_count": 17,
     "metadata": {},
     "output_type": "execute_result"
    }
   ],
   "source": [
    "list_recommender = [sen, icb, icf]\n",
    "merged11 = HybridCombinationMergedSearch(URM_train, ICM_all, list_recommender)\n",
    "params={'alpha': 0.5899278771717852, 'l1_ratio': 0.6120627523522684, 'topK': 1000}\n",
    "merged11.fit(**params)\n",
    "result, _ = evaluator_test.evaluateRecommender(merged11)\n",
    "result[10]['MAP']"
   ]
  },
  {
   "cell_type": "code",
   "execution_count": 18,
   "metadata": {},
   "outputs": [
    {
     "name": "stdout",
     "output_type": "stream",
     "text": [
      "HybridCombinationMergedSearch: URM Detected 27 (0.34 %) cold users.\n",
      "HybridCombinationMergedSearch: URM Detected 1634 (6.29 %) cold items.\n",
      "EvaluatorHoldout: Processed 4106 ( 100.00% ) in 3.05 sec. Users per second: 1345\n"
     ]
    },
    {
     "data": {
      "text/plain": [
       "0.07298170105795547"
      ]
     },
     "execution_count": 18,
     "metadata": {},
     "output_type": "execute_result"
    }
   ],
   "source": [
    "list_recommender = [sen, p3a, icb]\n",
    "merged12 = HybridCombinationMergedSearch(URM_train, ICM_all, list_recommender)\n",
    "params={'alpha': 0.7490340912348611, 'l1_ratio': 0.09196396781742812, 'topK': 651}\n",
    "merged12.fit(**params)\n",
    "result, _ = evaluator_test.evaluateRecommender(merged12)\n",
    "result[10]['MAP']"
   ]
  },
  {
   "cell_type": "code",
   "execution_count": 19,
   "metadata": {},
   "outputs": [
    {
     "name": "stdout",
     "output_type": "stream",
     "text": [
      "HybridCombinationMergedSearch: URM Detected 27 (0.34 %) cold users.\n",
      "HybridCombinationMergedSearch: URM Detected 1634 (6.29 %) cold items.\n",
      "EvaluatorHoldout: Processed 4106 ( 100.00% ) in 2.55 sec. Users per second: 1609\n"
     ]
    },
    {
     "data": {
      "text/plain": [
       "0.06369466104485845"
      ]
     },
     "execution_count": 19,
     "metadata": {},
     "output_type": "execute_result"
    }
   ],
   "source": [
    "list_recommender = [sen, p3a, icf]\n",
    "merged13 = HybridCombinationMergedSearch(URM_train, ICM_all, list_recommender)\n",
    "params={'alpha': 1.0, 'l1_ratio': 0.0, 'topK': 1000}\n",
    "merged13.fit(**params)\n",
    "result, _ = evaluator_test.evaluateRecommender(merged13)\n",
    "result[10]['MAP']"
   ]
  },
  {
   "cell_type": "code",
   "execution_count": 20,
   "metadata": {},
   "outputs": [
    {
     "name": "stdout",
     "output_type": "stream",
     "text": [
      "HybridCombinationMergedSearch: URM Detected 27 (0.34 %) cold users.\n",
      "HybridCombinationMergedSearch: URM Detected 1634 (6.29 %) cold items.\n",
      "EvaluatorHoldout: Processed 4106 ( 100.00% ) in 2.94 sec. Users per second: 1395\n"
     ]
    },
    {
     "data": {
      "text/plain": [
       "0.06440223846660126"
      ]
     },
     "execution_count": 20,
     "metadata": {},
     "output_type": "execute_result"
    }
   ],
   "source": [
    "list_recommender = [sen, p3a, rp3b]\n",
    "merged14 = HybridCombinationMergedSearch(URM_train, ICM_all, list_recommender)\n",
    "params={'alpha': 0.0, 'l1_ratio': 1.0, 'topK': 564}\n",
    "merged14.fit(**params)\n",
    "result, _ = evaluator_test.evaluateRecommender(merged14)\n",
    "result[10]['MAP']"
   ]
  },
  {
   "cell_type": "code",
   "execution_count": 21,
   "metadata": {},
   "outputs": [
    {
     "name": "stdout",
     "output_type": "stream",
     "text": [
      "HybridCombinationMergedSearch: URM Detected 27 (0.34 %) cold users.\n",
      "HybridCombinationMergedSearch: URM Detected 1634 (6.29 %) cold items.\n",
      "EvaluatorHoldout: Processed 4106 ( 100.00% ) in 3.10 sec. Users per second: 1325\n"
     ]
    },
    {
     "data": {
      "text/plain": [
       "0.0751107112375536"
      ]
     },
     "execution_count": 21,
     "metadata": {},
     "output_type": "execute_result"
    }
   ],
   "source": [
    "list_recommender = [sen, rp3b, icb]\n",
    "merged15 = HybridCombinationMergedSearch(URM_train, ICM_all, list_recommender)\n",
    "params={'alpha': 0.7253584358056746, 'l1_ratio': 0.179704626734038, 'topK': 748}\n",
    "merged15.fit(**params)\n",
    "result, _ = evaluator_test.evaluateRecommender(merged15)\n",
    "result[10]['MAP']"
   ]
  },
  {
   "cell_type": "code",
   "execution_count": 22,
   "metadata": {},
   "outputs": [
    {
     "name": "stdout",
     "output_type": "stream",
     "text": [
      "HybridCombinationMergedSearch: URM Detected 27 (0.34 %) cold users.\n",
      "HybridCombinationMergedSearch: URM Detected 1634 (6.29 %) cold items.\n",
      "EvaluatorHoldout: Processed 4106 ( 100.00% ) in 3.30 sec. Users per second: 1246\n"
     ]
    },
    {
     "data": {
      "text/plain": [
       "0.06314675411711827"
      ]
     },
     "execution_count": 22,
     "metadata": {},
     "output_type": "execute_result"
    }
   ],
   "source": [
    "list_recommender = [sen, rp3b, icf]\n",
    "merged16 = HybridCombinationMergedSearch(URM_train, ICM_all, list_recommender)\n",
    "params={'alpha': 0.6675597201916793, 'l1_ratio': 0.0, 'topK': 1000}\n",
    "merged16.fit(**params)\n",
    "result, _ = evaluator_test.evaluateRecommender(merged16)\n",
    "result[10]['MAP']"
   ]
  },
  {
   "cell_type": "markdown",
   "metadata": {},
   "source": [
    "---\n",
    "## linear combo norm"
   ]
  },
  {
   "cell_type": "code",
   "execution_count": 23,
   "metadata": {},
   "outputs": [],
   "source": [
    "combo_labels ={\n",
    "    'combo1': 'icf_ucf_p3a', ###\n",
    "    'combo2': 'icf_ucf_rp3b', ###\n",
    "    'combo3': 'icf_p3a_rp3b', ###\n",
    "    'combo4': 'ucf_p3a_rp3b', ### \n",
    "    'combo5': 'icb_icf_sen', ###\n",
    "    'combo6': 'icf_sen_sbpr', ###\n",
    "    'combo7': 'icb_icf_ucf', ###\n",
    "    'combo8': 'icf_ucf_sen', ###\n",
    "    'combo9': 'icb_p3a_sen', ###\n",
    "    'combo10': 'icb_icf_p3a', ###\n",
    "    'combo11': 'icf_p3a_sen', ### useless\n",
    "    'combo12': 'p3a_sen_sbpr', ### useless\n",
    "    'combo13': 'icb_ucf_p3a', ###\n",
    "    'combo14': 'ucf_p3a_sen', ### useless\n",
    "    'combo15': 'icb_rp3b_sen', ###\n",
    "    'combo16': 'icb_icf_rp3b', ###\n",
    "    'combo17': 'icf_rp3b_sen', ###\n",
    "    'combo18': 'icb_p3a_rp3b', ###\n",
    "    'combo19': 'rp3b_sen_sbpr', ### useless\n",
    "    'combo20': 'icb_ucf_rp3b', ###\n",
    "    'combo21': 'ucf_rp3b_sen', ###\n",
    "    'combo22': 'icb_ucf_sen', ###\n",
    "    'combo23': 'ucf_sen_sbpr', ###\n",
    "    'combo24': 'icb_sen_sbpr', ###\n",
    "    'combo25': 'icb_icf_sbpr', ###\n",
    "    'combo26': 'icb_p3a_sbpr', ###\n",
    "    'combo27': 'icb_rp3b_sbpr', ###\n",
    "    'combo28': 'icb_ucf_sbpr', ###\n",
    "    \n",
    "    'combo29': 'sslim_icb_icf',\n",
    "    'combo30': 'sslim_icb_ucf',\n",
    "    'combo31': 'sslim_icf_ucf',\n",
    "    'combo32': 'sslim_p3a_icb',\n",
    "    'combo33': 'sslim_p3a_icf',\n",
    "    'combo34': 'sslim_p3a_rp3b',\n",
    "    'combo35': 'sslim_p3a_ucf',\n",
    "    'combo36': 'sslim_rp3b_icb',\n",
    "    'combo37': 'sslim_rp3b_icf',\n",
    "    'combo38': 'sslim_rp3b_ucf',\n",
    "}"
   ]
  },
  {
   "cell_type": "code",
   "execution_count": 24,
   "metadata": {},
   "outputs": [
    {
     "name": "stdout",
     "output_type": "stream",
     "text": [
      "HybridCombinationSearch: URM Detected 27 (0.34 %) cold users.\n",
      "HybridCombinationSearch: URM Detected 1634 (6.29 %) cold items.\n",
      "EvaluatorHoldout: Processed 4106 ( 100.00% ) in 3.95 sec. Users per second: 1041\n"
     ]
    },
    {
     "data": {
      "text/plain": [
       "0.06512626456474592"
      ]
     },
     "execution_count": 24,
     "metadata": {},
     "output_type": "execute_result"
    }
   ],
   "source": [
    "list_recommender = [icf, ucf, p3a]\n",
    "combo1 = HybridCombinationSearch(URM_train, ICM_all, list_recommender)\n",
    "params={'alpha': 0.4318367153026247, 'l1_ratio': 0.06753630242082177}\n",
    "combo1.fit(**params)\n",
    "result, _ = evaluator_test.evaluateRecommender(combo1)\n",
    "result[10]['MAP']"
   ]
  },
  {
   "cell_type": "code",
   "execution_count": 25,
   "metadata": {},
   "outputs": [
    {
     "name": "stdout",
     "output_type": "stream",
     "text": [
      "HybridCombinationSearch: URM Detected 27 (0.34 %) cold users.\n",
      "HybridCombinationSearch: URM Detected 1634 (6.29 %) cold items.\n",
      "EvaluatorHoldout: Processed 4106 ( 100.00% ) in 4.33 sec. Users per second: 948\n"
     ]
    },
    {
     "data": {
      "text/plain": [
       "0.06421845647840414"
      ]
     },
     "execution_count": 25,
     "metadata": {},
     "output_type": "execute_result"
    }
   ],
   "source": [
    "list_recommender = [icf, ucf, rp3b]\n",
    "combo2 = HybridCombinationSearch(URM_train, ICM_all, list_recommender)\n",
    "params={'alpha': 0.19390580434445875, 'l1_ratio': 0.2522643001286576}\n",
    "combo2.fit(**params)\n",
    "result, _ = evaluator_test.evaluateRecommender(combo2)\n",
    "result[10]['MAP']"
   ]
  },
  {
   "cell_type": "code",
   "execution_count": 26,
   "metadata": {},
   "outputs": [
    {
     "name": "stdout",
     "output_type": "stream",
     "text": [
      "HybridCombinationSearch: URM Detected 27 (0.34 %) cold users.\n",
      "HybridCombinationSearch: URM Detected 1634 (6.29 %) cold items.\n",
      "EvaluatorHoldout: Processed 4106 ( 100.00% ) in 4.18 sec. Users per second: 983\n"
     ]
    },
    {
     "data": {
      "text/plain": [
       "0.06362883519800368"
      ]
     },
     "execution_count": 26,
     "metadata": {},
     "output_type": "execute_result"
    }
   ],
   "source": [
    "list_recommender = [icf, p3a, rp3b]\n",
    "combo3 = HybridCombinationSearch(URM_train, ICM_all, list_recommender)\n",
    "params={'alpha': 0.13211292014716505, 'l1_ratio': 0.9841972871240037}\n",
    "combo3.fit(**params)\n",
    "result, _ = evaluator_test.evaluateRecommender(combo3)\n",
    "result[10]['MAP']"
   ]
  },
  {
   "cell_type": "code",
   "execution_count": 27,
   "metadata": {},
   "outputs": [
    {
     "name": "stdout",
     "output_type": "stream",
     "text": [
      "HybridCombinationSearch: URM Detected 27 (0.34 %) cold users.\n",
      "HybridCombinationSearch: URM Detected 1634 (6.29 %) cold items.\n",
      "EvaluatorHoldout: Processed 4106 ( 100.00% ) in 4.13 sec. Users per second: 994\n"
     ]
    },
    {
     "data": {
      "text/plain": [
       "0.0648004066187821"
      ]
     },
     "execution_count": 27,
     "metadata": {},
     "output_type": "execute_result"
    }
   ],
   "source": [
    "list_recommender = [ucf, p3a, rp3b]\n",
    "combo4 = HybridCombinationSearch(URM_train, ICM_all, list_recommender)\n",
    "params={'alpha': 0.9394644725243001, 'l1_ratio': 0.4569374184464653}\n",
    "combo4.fit(**params)\n",
    "result, _ = evaluator_test.evaluateRecommender(combo4)\n",
    "result[10]['MAP']"
   ]
  },
  {
   "cell_type": "code",
   "execution_count": 28,
   "metadata": {},
   "outputs": [
    {
     "name": "stdout",
     "output_type": "stream",
     "text": [
      "HybridCombinationSearch: URM Detected 27 (0.34 %) cold users.\n",
      "HybridCombinationSearch: URM Detected 1634 (6.29 %) cold items.\n",
      "EvaluatorHoldout: Processed 4106 ( 100.00% ) in 4.10 sec. Users per second: 1003\n"
     ]
    },
    {
     "data": {
      "text/plain": [
       "0.07336267663376782"
      ]
     },
     "execution_count": 28,
     "metadata": {},
     "output_type": "execute_result"
    }
   ],
   "source": [
    "list_recommender = [icb, icf, sen]\n",
    "combo5 = HybridCombinationSearch(URM_train, ICM_all, list_recommender)\n",
    "params={'alpha': 0.5011523958099686, 'l1_ratio': 0.6835202748204333}\n",
    "combo5.fit(**params)\n",
    "result = evaluator(combo5, URM_test, cutoff=10)\n",
    "result, _ = evaluator_test.evaluateRecommender(combo5)\n",
    "result[10]['MAP']"
   ]
  },
  {
   "cell_type": "code",
   "execution_count": 29,
   "metadata": {},
   "outputs": [
    {
     "name": "stdout",
     "output_type": "stream",
     "text": [
      "HybridCombinationSearch: URM Detected 27 (0.34 %) cold users.\n",
      "HybridCombinationSearch: URM Detected 1634 (6.29 %) cold items.\n",
      "EvaluatorHoldout: Processed 4106 ( 100.00% ) in 4.59 sec. Users per second: 894\n"
     ]
    },
    {
     "data": {
      "text/plain": [
       "0.06433127799567438"
      ]
     },
     "execution_count": 29,
     "metadata": {},
     "output_type": "execute_result"
    }
   ],
   "source": [
    "list_recommender = [icf, sen, sbpr]\n",
    "combo6 = HybridCombinationSearch(URM_train, ICM_all, list_recommender)\n",
    "params={'alpha': 0.8434066208554849, 'l1_ratio': 0.4628304123637582}\n",
    "combo6.fit(**params)\n",
    "result, _ = evaluator_test.evaluateRecommender(combo6)\n",
    "result[10]['MAP']"
   ]
  },
  {
   "cell_type": "code",
   "execution_count": 30,
   "metadata": {},
   "outputs": [
    {
     "name": "stdout",
     "output_type": "stream",
     "text": [
      "HybridCombinationSearch: URM Detected 27 (0.34 %) cold users.\n",
      "HybridCombinationSearch: URM Detected 1634 (6.29 %) cold items.\n",
      "EvaluatorHoldout: Processed 4106 ( 100.00% ) in 3.85 sec. Users per second: 1067\n"
     ]
    },
    {
     "data": {
      "text/plain": [
       "0.07308931554391875"
      ]
     },
     "execution_count": 30,
     "metadata": {},
     "output_type": "execute_result"
    }
   ],
   "source": [
    "list_recommender = [icb, icf, ucf]\n",
    "combo7 = HybridCombinationSearch(URM_train, ICM_all, list_recommender)\n",
    "params={'alpha': 0.23127746676269062, 'l1_ratio': 0.47037997538194565}\n",
    "combo7.fit(**params)\n",
    "result, _ = evaluator_test.evaluateRecommender(combo7)\n",
    "result[10]['MAP']"
   ]
  },
  {
   "cell_type": "code",
   "execution_count": 31,
   "metadata": {},
   "outputs": [
    {
     "name": "stdout",
     "output_type": "stream",
     "text": [
      "HybridCombinationSearch: URM Detected 27 (0.34 %) cold users.\n",
      "HybridCombinationSearch: URM Detected 1634 (6.29 %) cold items.\n",
      "EvaluatorHoldout: Processed 4106 ( 100.00% ) in 4.10 sec. Users per second: 1001\n"
     ]
    },
    {
     "data": {
      "text/plain": [
       "0.06429947212057584"
      ]
     },
     "execution_count": 31,
     "metadata": {},
     "output_type": "execute_result"
    }
   ],
   "source": [
    "list_recommender = [icf, ucf, sen]\n",
    "combo8 = HybridCombinationSearch(URM_train, ICM_all, list_recommender)\n",
    "params={'alpha': 0.8854496569140459, 'l1_ratio': 0.17103030574896252}\n",
    "combo8.fit(**params)\n",
    "result, _ = evaluator_test.evaluateRecommender(combo8)\n",
    "result[10]['MAP']"
   ]
  },
  {
   "cell_type": "code",
   "execution_count": 32,
   "metadata": {},
   "outputs": [
    {
     "name": "stdout",
     "output_type": "stream",
     "text": [
      "HybridCombinationSearch: URM Detected 27 (0.34 %) cold users.\n",
      "HybridCombinationSearch: URM Detected 1634 (6.29 %) cold items.\n",
      "EvaluatorHoldout: Processed 4106 ( 100.00% ) in 4.03 sec. Users per second: 1020\n"
     ]
    },
    {
     "data": {
      "text/plain": [
       "0.07163381537376169"
      ]
     },
     "execution_count": 32,
     "metadata": {},
     "output_type": "execute_result"
    }
   ],
   "source": [
    "list_recommender = [icb, p3a, sen]\n",
    "combo9 = HybridCombinationSearch(URM_train, ICM_all, list_recommender)\n",
    "params={'alpha': 0.9678477202248401, 'l1_ratio': 0.26287752701640094}\n",
    "combo9.fit(**params)\n",
    "result, _ = evaluator_test.evaluateRecommender(combo9)\n",
    "result[10]['MAP']"
   ]
  },
  {
   "cell_type": "code",
   "execution_count": 33,
   "metadata": {},
   "outputs": [
    {
     "name": "stdout",
     "output_type": "stream",
     "text": [
      "HybridCombinationSearch: URM Detected 27 (0.34 %) cold users.\n",
      "HybridCombinationSearch: URM Detected 1634 (6.29 %) cold items.\n",
      "EvaluatorHoldout: Processed 4106 ( 100.00% ) in 3.75 sec. Users per second: 1095\n"
     ]
    },
    {
     "data": {
      "text/plain": [
       "0.07140408738994852"
      ]
     },
     "execution_count": 33,
     "metadata": {},
     "output_type": "execute_result"
    }
   ],
   "source": [
    "list_recommender = [icb, icf, p3a]\n",
    "combo10 = HybridCombinationSearch(URM_train, ICM_all, list_recommender)\n",
    "params={'alpha': 0.27094237120805925, 'l1_ratio': 0.9998550263180496}\n",
    "combo10.fit(**params)\n",
    "result, _ = evaluator_test.evaluateRecommender(combo10)\n",
    "result[10]['MAP']"
   ]
  },
  {
   "cell_type": "code",
   "execution_count": 34,
   "metadata": {},
   "outputs": [
    {
     "name": "stdout",
     "output_type": "stream",
     "text": [
      "HybridCombinationSearch: URM Detected 27 (0.34 %) cold users.\n",
      "HybridCombinationSearch: URM Detected 1634 (6.29 %) cold items.\n",
      "EvaluatorHoldout: Processed 4106 ( 100.00% ) in 3.86 sec. Users per second: 1064\n"
     ]
    },
    {
     "data": {
      "text/plain": [
       "0.06369466104485845"
      ]
     },
     "execution_count": 34,
     "metadata": {},
     "output_type": "execute_result"
    }
   ],
   "source": [
    "list_recommender = [icf, p3a, sen]\n",
    "combo11 = HybridCombinationSearch(URM_train, ICM_all, list_recommender)\n",
    "params={'alpha': 1.0, 'l1_ratio': 0.0}\n",
    "combo11.fit(**params)\n",
    "result, _ = evaluator_test.evaluateRecommender(combo11)\n",
    "result[10]['MAP']"
   ]
  },
  {
   "cell_type": "code",
   "execution_count": 35,
   "metadata": {},
   "outputs": [
    {
     "name": "stdout",
     "output_type": "stream",
     "text": [
      "HybridCombinationSearch: URM Detected 27 (0.34 %) cold users.\n",
      "HybridCombinationSearch: URM Detected 1634 (6.29 %) cold items.\n",
      "EvaluatorHoldout: Processed 4106 ( 100.00% ) in 4.37 sec. Users per second: 939\n"
     ]
    },
    {
     "data": {
      "text/plain": [
       "0.06369466104485845"
      ]
     },
     "execution_count": 35,
     "metadata": {},
     "output_type": "execute_result"
    }
   ],
   "source": [
    "list_recommender = [p3a, sen, sbpr]\n",
    "combo12 = HybridCombinationSearch(URM_train, ICM_all, list_recommender)\n",
    "params={'alpha': 1.0, 'l1_ratio': 1.0}\n",
    "combo12.fit(**params)\n",
    "result, _ = evaluator_test.evaluateRecommender(combo12)\n",
    "result[10]['MAP']"
   ]
  },
  {
   "cell_type": "code",
   "execution_count": 36,
   "metadata": {},
   "outputs": [
    {
     "name": "stdout",
     "output_type": "stream",
     "text": [
      "HybridCombinationSearch: URM Detected 27 (0.34 %) cold users.\n",
      "HybridCombinationSearch: URM Detected 1634 (6.29 %) cold items.\n",
      "EvaluatorHoldout: Processed 4106 ( 100.00% ) in 3.82 sec. Users per second: 1074\n"
     ]
    },
    {
     "data": {
      "text/plain": [
       "0.07380966632291629"
      ]
     },
     "execution_count": 36,
     "metadata": {},
     "output_type": "execute_result"
    }
   ],
   "source": [
    "list_recommender = [icb, ucf, p3a]\n",
    "combo13 = HybridCombinationSearch(URM_train, ICM_all, list_recommender)\n",
    "params={'alpha': 0.4840277797811048, 'l1_ratio': 0.356265002578487}\n",
    "combo13.fit(**params)\n",
    "result, _ = evaluator_test.evaluateRecommender(combo13)\n",
    "result[10]['MAP']"
   ]
  },
  {
   "cell_type": "code",
   "execution_count": 37,
   "metadata": {},
   "outputs": [
    {
     "name": "stdout",
     "output_type": "stream",
     "text": [
      "HybridCombinationSearch: URM Detected 27 (0.34 %) cold users.\n",
      "HybridCombinationSearch: URM Detected 1634 (6.29 %) cold items.\n",
      "EvaluatorHoldout: Processed 4106 ( 100.00% ) in 3.90 sec. Users per second: 1054\n"
     ]
    },
    {
     "data": {
      "text/plain": [
       "0.06369466104485845"
      ]
     },
     "execution_count": 37,
     "metadata": {},
     "output_type": "execute_result"
    }
   ],
   "source": [
    "list_recommender = [ucf, p3a, sen]\n",
    "combo14 = HybridCombinationSearch(URM_train, ICM_all, list_recommender)\n",
    "params={'alpha': 1.0, 'l1_ratio': 0.0}\n",
    "combo14.fit(**params)\n",
    "result, _ = evaluator_test.evaluateRecommender(combo14)\n",
    "result[10]['MAP']"
   ]
  },
  {
   "cell_type": "code",
   "execution_count": 38,
   "metadata": {},
   "outputs": [
    {
     "name": "stdout",
     "output_type": "stream",
     "text": [
      "HybridCombinationSearch: URM Detected 27 (0.34 %) cold users.\n",
      "HybridCombinationSearch: URM Detected 1634 (6.29 %) cold items.\n",
      "EvaluatorHoldout: Processed 4106 ( 100.00% ) in 4.30 sec. Users per second: 955\n"
     ]
    },
    {
     "data": {
      "text/plain": [
       "0.07494413405978635"
      ]
     },
     "execution_count": 38,
     "metadata": {},
     "output_type": "execute_result"
    }
   ],
   "source": [
    "list_recommender = [icb, rp3b, sen]\n",
    "combo15 = HybridCombinationSearch(URM_train, ICM_all, list_recommender)\n",
    "params={'alpha': 0.7389620492322015, 'l1_ratio': 0.3355244273594045}\n",
    "combo15.fit(**params)\n",
    "result, _ = evaluator_test.evaluateRecommender(combo15)\n",
    "result[10]['MAP']"
   ]
  },
  {
   "cell_type": "code",
   "execution_count": 39,
   "metadata": {},
   "outputs": [
    {
     "name": "stdout",
     "output_type": "stream",
     "text": [
      "HybridCombinationSearch: URM Detected 27 (0.34 %) cold users.\n",
      "HybridCombinationSearch: URM Detected 1634 (6.29 %) cold items.\n",
      "EvaluatorHoldout: Processed 4106 ( 100.00% ) in 4.12 sec. Users per second: 997\n"
     ]
    },
    {
     "data": {
      "text/plain": [
       "0.07274475570657978"
      ]
     },
     "execution_count": 39,
     "metadata": {},
     "output_type": "execute_result"
    }
   ],
   "source": [
    "list_recommender = [icb, icf, rp3b]\n",
    "combo16 = HybridCombinationSearch(URM_train, ICM_all, list_recommender)\n",
    "params={'alpha': 0.30215925285279965, 'l1_ratio': 0.48033878522040957}\n",
    "combo16.fit(**params)\n",
    "result, _ = evaluator_test.evaluateRecommender(combo16)\n",
    "result[10]['MAP']"
   ]
  },
  {
   "cell_type": "code",
   "execution_count": 40,
   "metadata": {},
   "outputs": [
    {
     "name": "stdout",
     "output_type": "stream",
     "text": [
      "HybridCombinationSearch: URM Detected 27 (0.34 %) cold users.\n",
      "HybridCombinationSearch: URM Detected 1634 (6.29 %) cold items.\n",
      "EvaluatorHoldout: Processed 4106 ( 100.00% ) in 4.32 sec. Users per second: 951\n"
     ]
    },
    {
     "data": {
      "text/plain": [
       "0.06415781016498168"
      ]
     },
     "execution_count": 40,
     "metadata": {},
     "output_type": "execute_result"
    }
   ],
   "source": [
    "list_recommender = [icf, rp3b, sen]\n",
    "combo17 = HybridCombinationSearch(URM_train, ICM_all, list_recommender)\n",
    "params={'alpha': 0.9949623682515907, 'l1_ratio': 0.007879399002699851}\n",
    "combo17.fit(**params)\n",
    "result, _ = evaluator_test.evaluateRecommender(combo17)\n",
    "result[10]['MAP']"
   ]
  },
  {
   "cell_type": "code",
   "execution_count": 41,
   "metadata": {},
   "outputs": [
    {
     "name": "stdout",
     "output_type": "stream",
     "text": [
      "HybridCombinationSearch: URM Detected 27 (0.34 %) cold users.\n",
      "HybridCombinationSearch: URM Detected 1634 (6.29 %) cold items.\n",
      "EvaluatorHoldout: Processed 4106 ( 100.00% ) in 4.08 sec. Users per second: 1007\n"
     ]
    },
    {
     "data": {
      "text/plain": [
       "0.07299985414237488"
      ]
     },
     "execution_count": 41,
     "metadata": {},
     "output_type": "execute_result"
    }
   ],
   "source": [
    "list_recommender = [icb, p3a, rp3b]\n",
    "combo18 = HybridCombinationSearch(URM_train, ICM_all, list_recommender)\n",
    "params={'alpha': 0.32630431880229166, 'l1_ratio': 0.4598175570701317}\n",
    "combo18.fit(**params)\n",
    "result, _ = evaluator_test.evaluateRecommender(combo18)\n",
    "result[10]['MAP']"
   ]
  },
  {
   "cell_type": "code",
   "execution_count": 42,
   "metadata": {},
   "outputs": [
    {
     "name": "stdout",
     "output_type": "stream",
     "text": [
      "HybridCombinationSearch: URM Detected 27 (0.34 %) cold users.\n",
      "HybridCombinationSearch: URM Detected 1634 (6.29 %) cold items.\n",
      "EvaluatorHoldout: Processed 4106 ( 100.00% ) in 4.77 sec. Users per second: 861\n"
     ]
    },
    {
     "data": {
      "text/plain": [
       "0.06309358676540552"
      ]
     },
     "execution_count": 42,
     "metadata": {},
     "output_type": "execute_result"
    }
   ],
   "source": [
    "list_recommender = [rp3b, sen, sbpr]\n",
    "combo19 = HybridCombinationSearch(URM_train, ICM_all, list_recommender)\n",
    "params={'alpha': 1.0, 'l1_ratio': 1.0}\n",
    "combo19.fit(**params)\n",
    "result, _ = evaluator_test.evaluateRecommender(combo19)\n",
    "result[10]['MAP']"
   ]
  },
  {
   "cell_type": "code",
   "execution_count": 43,
   "metadata": {},
   "outputs": [
    {
     "name": "stdout",
     "output_type": "stream",
     "text": [
      "HybridCombinationSearch: URM Detected 27 (0.34 %) cold users.\n",
      "HybridCombinationSearch: URM Detected 1634 (6.29 %) cold items.\n",
      "EvaluatorHoldout: Processed 4106 ( 100.00% ) in 4.15 sec. Users per second: 990\n"
     ]
    },
    {
     "data": {
      "text/plain": [
       "0.0736875937075412"
      ]
     },
     "execution_count": 43,
     "metadata": {},
     "output_type": "execute_result"
    }
   ],
   "source": [
    "list_recommender = [icb, ucf, rp3b]\n",
    "combo20 = HybridCombinationSearch(URM_train, ICM_all, list_recommender)\n",
    "params={'alpha': 0.39585017788453875, 'l1_ratio': 0.2969289208656836}\n",
    "combo20.fit(**params)\n",
    "result, _ = evaluator_test.evaluateRecommender(combo20)\n",
    "result[10]['MAP']"
   ]
  },
  {
   "cell_type": "code",
   "execution_count": 44,
   "metadata": {},
   "outputs": [
    {
     "name": "stdout",
     "output_type": "stream",
     "text": [
      "HybridCombinationSearch: URM Detected 27 (0.34 %) cold users.\n",
      "HybridCombinationSearch: URM Detected 1634 (6.29 %) cold items.\n",
      "EvaluatorHoldout: Processed 4106 ( 100.00% ) in 4.31 sec. Users per second: 952\n"
     ]
    },
    {
     "data": {
      "text/plain": [
       "0.06405673514918404"
      ]
     },
     "execution_count": 44,
     "metadata": {},
     "output_type": "execute_result"
    }
   ],
   "source": [
    "list_recommender = [ucf, rp3b, sen]\n",
    "combo21 = HybridCombinationSearch(URM_train, ICM_all, list_recommender)\n",
    "params={'alpha': 0.9824185519731099, 'l1_ratio': 0.0049365500554859896}\n",
    "combo21.fit(**params)\n",
    "result, _ = evaluator_test.evaluateRecommender(combo21)\n",
    "result[10]['MAP']"
   ]
  },
  {
   "cell_type": "code",
   "execution_count": 45,
   "metadata": {},
   "outputs": [
    {
     "name": "stdout",
     "output_type": "stream",
     "text": [
      "HybridCombinationSearch: URM Detected 27 (0.34 %) cold users.\n",
      "HybridCombinationSearch: URM Detected 1634 (6.29 %) cold items.\n",
      "EvaluatorHoldout: Processed 4106 ( 100.00% ) in 4.09 sec. Users per second: 1003\n"
     ]
    },
    {
     "data": {
      "text/plain": [
       "0.07454860156163984"
      ]
     },
     "execution_count": 45,
     "metadata": {},
     "output_type": "execute_result"
    }
   ],
   "source": [
    "list_recommender = [icb, ucf, sen]\n",
    "combo22 = HybridCombinationSearch(URM_train, ICM_all, list_recommender)\n",
    "params={'alpha': 0.696288087190842, 'l1_ratio': 0.3051487184937027}\n",
    "combo22.fit(**params)\n",
    "result, _ = evaluator_test.evaluateRecommender(combo22)\n",
    "result[10]['MAP']"
   ]
  },
  {
   "cell_type": "code",
   "execution_count": 46,
   "metadata": {},
   "outputs": [
    {
     "name": "stdout",
     "output_type": "stream",
     "text": [
      "HybridCombinationSearch: URM Detected 27 (0.34 %) cold users.\n",
      "HybridCombinationSearch: URM Detected 1634 (6.29 %) cold items.\n",
      "EvaluatorHoldout: Processed 4106 ( 100.00% ) in 4.68 sec. Users per second: 878\n"
     ]
    },
    {
     "data": {
      "text/plain": [
       "0.06614775408097597"
      ]
     },
     "execution_count": 46,
     "metadata": {},
     "output_type": "execute_result"
    }
   ],
   "source": [
    "list_recommender = [ucf, sen, sbpr]\n",
    "combo23 = HybridCombinationSearch(URM_train, ICM_all, list_recommender)\n",
    "params={'alpha': 0.9979141772440999, 'l1_ratio': 0.9695756615044695}\n",
    "combo23.fit(**params)\n",
    "result, _ = evaluator_test.evaluateRecommender(combo23)\n",
    "result[10]['MAP']"
   ]
  },
  {
   "cell_type": "code",
   "execution_count": 47,
   "metadata": {},
   "outputs": [
    {
     "name": "stdout",
     "output_type": "stream",
     "text": [
      "HybridCombinationSearch: URM Detected 27 (0.34 %) cold users.\n",
      "HybridCombinationSearch: URM Detected 1634 (6.29 %) cold items.\n",
      "EvaluatorHoldout: Processed 4106 ( 100.00% ) in 4.61 sec. Users per second: 890\n"
     ]
    },
    {
     "data": {
      "text/plain": [
       "0.0751415959913758"
      ]
     },
     "execution_count": 47,
     "metadata": {},
     "output_type": "execute_result"
    }
   ],
   "source": [
    "list_recommender = [icb, sen, sbpr]\n",
    "combo24 = HybridCombinationSearch(URM_train, ICM_all, list_recommender)\n",
    "params={'alpha': 0.7753869940322178, 'l1_ratio': 0.4380906766055395}\n",
    "combo24.fit(**params)\n",
    "result, _ = evaluator_test.evaluateRecommender(combo24)\n",
    "result[10]['MAP']"
   ]
  },
  {
   "cell_type": "code",
   "execution_count": 48,
   "metadata": {},
   "outputs": [
    {
     "name": "stdout",
     "output_type": "stream",
     "text": [
      "HybridCombinationSearch: URM Detected 27 (0.34 %) cold users.\n",
      "HybridCombinationSearch: URM Detected 1634 (6.29 %) cold items.\n",
      "EvaluatorHoldout: Processed 4106 ( 100.00% ) in 4.38 sec. Users per second: 937\n"
     ]
    },
    {
     "data": {
      "text/plain": [
       "0.06868809334814355"
      ]
     },
     "execution_count": 48,
     "metadata": {},
     "output_type": "execute_result"
    }
   ],
   "source": [
    "list_recommender = [icb, icf, sbpr]\n",
    "combo25 = HybridCombinationSearch(URM_train, ICM_all, list_recommender)\n",
    "params={'alpha': 0.8124123649444593, 'l1_ratio': 0.25648942001711633}\n",
    "combo25.fit(**params)\n",
    "result, _ = evaluator_test.evaluateRecommender(combo25)\n",
    "result[10]['MAP']"
   ]
  },
  {
   "cell_type": "code",
   "execution_count": 49,
   "metadata": {},
   "outputs": [
    {
     "name": "stdout",
     "output_type": "stream",
     "text": [
      "HybridCombinationSearch: URM Detected 27 (0.34 %) cold users.\n",
      "HybridCombinationSearch: URM Detected 1634 (6.29 %) cold items.\n",
      "EvaluatorHoldout: Processed 4106 ( 100.00% ) in 4.40 sec. Users per second: 933\n"
     ]
    },
    {
     "data": {
      "text/plain": [
       "0.07113642234870157"
      ]
     },
     "execution_count": 49,
     "metadata": {},
     "output_type": "execute_result"
    }
   ],
   "source": [
    "list_recommender = [icb, p3a, sbpr]\n",
    "combo26 = HybridCombinationSearch(URM_train, ICM_all, list_recommender)\n",
    "params={'alpha': 0.9966101776460795, 'l1_ratio': 0.24103276386735034}\n",
    "combo26.fit(**params)\n",
    "result, _ = evaluator_test.evaluateRecommender(combo26)\n",
    "result[10]['MAP']"
   ]
  },
  {
   "cell_type": "code",
   "execution_count": 50,
   "metadata": {},
   "outputs": [
    {
     "name": "stdout",
     "output_type": "stream",
     "text": [
      "HybridCombinationSearch: URM Detected 27 (0.34 %) cold users.\n",
      "HybridCombinationSearch: URM Detected 1634 (6.29 %) cold items.\n",
      "EvaluatorHoldout: Processed 4106 ( 100.00% ) in 4.73 sec. Users per second: 869\n"
     ]
    },
    {
     "data": {
      "text/plain": [
       "0.07191262460947638"
      ]
     },
     "execution_count": 50,
     "metadata": {},
     "output_type": "execute_result"
    }
   ],
   "source": [
    "list_recommender = [icb, rp3b, sbpr]\n",
    "combo27 = HybridCombinationSearch(URM_train, ICM_all, list_recommender)\n",
    "params={'alpha': 0.7781420779249448, 'l1_ratio': 0.27134602211348197}\n",
    "combo27.fit(**params)\n",
    "result, _ = evaluator_test.evaluateRecommender(combo27)\n",
    "result[10]['MAP']"
   ]
  },
  {
   "cell_type": "code",
   "execution_count": 51,
   "metadata": {},
   "outputs": [
    {
     "name": "stdout",
     "output_type": "stream",
     "text": [
      "HybridCombinationSearch: URM Detected 27 (0.34 %) cold users.\n",
      "HybridCombinationSearch: URM Detected 1634 (6.29 %) cold items.\n",
      "EvaluatorHoldout: Processed 4106 ( 100.00% ) in 4.49 sec. Users per second: 914\n"
     ]
    },
    {
     "data": {
      "text/plain": [
       "0.07138969000897968"
      ]
     },
     "execution_count": 51,
     "metadata": {},
     "output_type": "execute_result"
    }
   ],
   "source": [
    "list_recommender = [icb, ucf, sbpr]\n",
    "combo28 = HybridCombinationSearch(URM_train, ICM_all, list_recommender)\n",
    "params={'alpha': 0.8170261573317669, 'l1_ratio': 0.20761151334998523}\n",
    "combo28.fit(**params)\n",
    "result, _ = evaluator_test.evaluateRecommender(combo28)\n",
    "result[10]['MAP']"
   ]
  },
  {
   "cell_type": "markdown",
   "metadata": {},
   "source": [
    "###### Linear combo with S-SLIM"
   ]
  },
  {
   "cell_type": "code",
   "execution_count": 52,
   "metadata": {},
   "outputs": [
    {
     "name": "stdout",
     "output_type": "stream",
     "text": [
      "HybridCombinationSearch: URM Detected 27 (0.34 %) cold users.\n",
      "HybridCombinationSearch: URM Detected 1634 (6.29 %) cold items.\n",
      "EvaluatorHoldout: Processed 4106 ( 100.00% ) in 6.00 sec. Users per second: 685\n"
     ]
    },
    {
     "data": {
      "text/plain": [
       "0.0757426537797741"
      ]
     },
     "execution_count": 52,
     "metadata": {},
     "output_type": "execute_result"
    }
   ],
   "source": [
    "list_recommender = [sslim, icb, icf]\n",
    "combo29 = HybridCombinationSearch(URM_train, ICM_all, list_recommender)\n",
    "params={'alpha': 0.996772013761913, 'l1_ratio': 0.7831508517025596}\n",
    "\n",
    "combo29.fit(**params)\n",
    "result, _ = evaluator_test.evaluateRecommender(combo29)\n",
    "result[10]['MAP']"
   ]
  },
  {
   "cell_type": "code",
   "execution_count": 53,
   "metadata": {},
   "outputs": [
    {
     "name": "stdout",
     "output_type": "stream",
     "text": [
      "HybridCombinationSearch: URM Detected 27 (0.34 %) cold users.\n",
      "HybridCombinationSearch: URM Detected 1634 (6.29 %) cold items.\n",
      "EvaluatorHoldout: Processed 4106 ( 100.00% ) in 6.03 sec. Users per second: 681\n"
     ]
    },
    {
     "data": {
      "text/plain": [
       "0.07698283769046922"
      ]
     },
     "execution_count": 53,
     "metadata": {},
     "output_type": "execute_result"
    }
   ],
   "source": [
    "list_recommender = [sslim, icb, ucf]\n",
    "combo30 = HybridCombinationSearch(URM_train, ICM_all, list_recommender)\n",
    "params={'alpha': 0.6461624491197696, 'l1_ratio': 0.7617220099582368}\n",
    "\n",
    "combo30.fit(**params)\n",
    "result, _ = evaluator_test.evaluateRecommender(combo30)\n",
    "result[10]['MAP']"
   ]
  },
  {
   "cell_type": "code",
   "execution_count": 54,
   "metadata": {},
   "outputs": [
    {
     "name": "stdout",
     "output_type": "stream",
     "text": [
      "HybridCombinationSearch: URM Detected 27 (0.34 %) cold users.\n",
      "HybridCombinationSearch: URM Detected 1634 (6.29 %) cold items.\n",
      "EvaluatorHoldout: Processed 4106 ( 100.00% ) in 6.08 sec. Users per second: 676\n"
     ]
    },
    {
     "data": {
      "text/plain": [
       "0.07230107070971474"
      ]
     },
     "execution_count": 54,
     "metadata": {},
     "output_type": "execute_result"
    }
   ],
   "source": [
    "list_recommender = [sslim, icf, ucf]\n",
    "combo31 = HybridCombinationSearch(URM_train, ICM_all, list_recommender)\n",
    "params={'alpha': 0.6418228871731989, 'l1_ratio': 1.0}\n",
    "\n",
    "combo31.fit(**params)\n",
    "result, _ = evaluator_test.evaluateRecommender(combo31)\n",
    "result[10]['MAP']"
   ]
  },
  {
   "cell_type": "code",
   "execution_count": 55,
   "metadata": {},
   "outputs": [
    {
     "name": "stdout",
     "output_type": "stream",
     "text": [
      "HybridCombinationSearch: URM Detected 27 (0.34 %) cold users.\n",
      "HybridCombinationSearch: URM Detected 1634 (6.29 %) cold items.\n",
      "EvaluatorHoldout: Processed 4106 ( 100.00% ) in 5.99 sec. Users per second: 685\n"
     ]
    },
    {
     "data": {
      "text/plain": [
       "0.07675357770744445"
      ]
     },
     "execution_count": 55,
     "metadata": {},
     "output_type": "execute_result"
    }
   ],
   "source": [
    "list_recommender = [sslim, p3a, icb]\n",
    "combo32 = HybridCombinationSearch(URM_train, ICM_all, list_recommender)\n",
    "params={'alpha': 0.8416340030829476, 'l1_ratio': 0.6651408407090509}\n",
    "\n",
    "combo32.fit(**params)\n",
    "result, _ = evaluator_test.evaluateRecommender(combo32)\n",
    "result[10]['MAP']"
   ]
  },
  {
   "cell_type": "code",
   "execution_count": 56,
   "metadata": {},
   "outputs": [
    {
     "name": "stdout",
     "output_type": "stream",
     "text": [
      "HybridCombinationSearch: URM Detected 27 (0.34 %) cold users.\n",
      "HybridCombinationSearch: URM Detected 1634 (6.29 %) cold items.\n",
      "EvaluatorHoldout: Processed 4106 ( 100.00% ) in 6.01 sec. Users per second: 684\n"
     ]
    },
    {
     "data": {
      "text/plain": [
       "0.07231991258329733"
      ]
     },
     "execution_count": 56,
     "metadata": {},
     "output_type": "execute_result"
    }
   ],
   "source": [
    "list_recommender = [sslim, p3a, icf]\n",
    "combo33 = HybridCombinationSearch(URM_train, ICM_all, list_recommender)\n",
    "params={'alpha': 0.9847198829156348, 'l1_ratio': 0.9996962519963414}\n",
    "\n",
    "combo33.fit(**params)\n",
    "result, _ = evaluator_test.evaluateRecommender(combo33)\n",
    "result[10]['MAP']"
   ]
  },
  {
   "cell_type": "code",
   "execution_count": 57,
   "metadata": {},
   "outputs": [
    {
     "name": "stdout",
     "output_type": "stream",
     "text": [
      "HybridCombinationSearch: URM Detected 27 (0.34 %) cold users.\n",
      "HybridCombinationSearch: URM Detected 1634 (6.29 %) cold items.\n",
      "EvaluatorHoldout: Processed 4106 ( 100.00% ) in 6.30 sec. Users per second: 652\n"
     ]
    },
    {
     "data": {
      "text/plain": [
       "0.07232996530005975"
      ]
     },
     "execution_count": 57,
     "metadata": {},
     "output_type": "execute_result"
    }
   ],
   "source": [
    "list_recommender = [sslim, p3a, rp3b]\n",
    "combo34 = HybridCombinationSearch(URM_train, ICM_all, list_recommender)\n",
    "params={'alpha': 0.9924434125443558, 'l1_ratio': 0.9904105385647505}\n",
    "\n",
    "combo34.fit(**params)\n",
    "result, _ = evaluator_test.evaluateRecommender(combo34)\n",
    "result[10]['MAP']"
   ]
  },
  {
   "cell_type": "code",
   "execution_count": 58,
   "metadata": {},
   "outputs": [
    {
     "name": "stdout",
     "output_type": "stream",
     "text": [
      "HybridCombinationSearch: URM Detected 27 (0.34 %) cold users.\n",
      "HybridCombinationSearch: URM Detected 1634 (6.29 %) cold items.\n",
      "EvaluatorHoldout: Processed 4106 ( 100.00% ) in 6.48 sec. Users per second: 633\n"
     ]
    },
    {
     "data": {
      "text/plain": [
       "0.07287753339415531"
      ]
     },
     "execution_count": 58,
     "metadata": {},
     "output_type": "execute_result"
    }
   ],
   "source": [
    "list_recommender = [sslim, p3a, ucf]\n",
    "combo35 = HybridCombinationSearch(URM_train, ICM_all, list_recommender)\n",
    "params={'alpha': 0.7021255257436378, 'l1_ratio': 0.8799646154792433}\n",
    "\n",
    "combo35.fit(**params)\n",
    "result, _ = evaluator_test.evaluateRecommender(combo35)\n",
    "result[10]['MAP']"
   ]
  },
  {
   "cell_type": "code",
   "execution_count": 59,
   "metadata": {},
   "outputs": [
    {
     "name": "stdout",
     "output_type": "stream",
     "text": [
      "HybridCombinationSearch: URM Detected 27 (0.34 %) cold users.\n",
      "HybridCombinationSearch: URM Detected 1634 (6.29 %) cold items.\n",
      "EvaluatorHoldout: Processed 4106 ( 100.00% ) in 6.33 sec. Users per second: 649\n"
     ]
    },
    {
     "data": {
      "text/plain": [
       "0.07679706039972213"
      ]
     },
     "execution_count": 59,
     "metadata": {},
     "output_type": "execute_result"
    }
   ],
   "source": [
    "list_recommender = [sslim, rp3b, icb]\n",
    "combo36 = HybridCombinationSearch(URM_train, ICM_all, list_recommender)\n",
    "params={'alpha': 0.8416340030829476, 'l1_ratio': 0.6651408407090509}\n",
    "\n",
    "combo36.fit(**params)\n",
    "result, _ = evaluator_test.evaluateRecommender(combo36)\n",
    "result[10]['MAP']"
   ]
  },
  {
   "cell_type": "code",
   "execution_count": 60,
   "metadata": {},
   "outputs": [
    {
     "name": "stdout",
     "output_type": "stream",
     "text": [
      "HybridCombinationSearch: URM Detected 27 (0.34 %) cold users.\n",
      "HybridCombinationSearch: URM Detected 1634 (6.29 %) cold items.\n",
      "EvaluatorHoldout: Processed 4106 ( 100.00% ) in 6.30 sec. Users per second: 652\n"
     ]
    },
    {
     "data": {
      "text/plain": [
       "0.07225193392514577"
      ]
     },
     "execution_count": 60,
     "metadata": {},
     "output_type": "execute_result"
    }
   ],
   "source": [
    "list_recommender = [sslim, rp3b, icf]\n",
    "combo37 = HybridCombinationSearch(URM_train, ICM_all, list_recommender)\n",
    "params={'alpha': 0.99818657042913, 'l1_ratio': 0.9852822057143448}\n",
    "\n",
    "combo37.fit(**params)\n",
    "result, _ = evaluator_test.evaluateRecommender(combo37)\n",
    "result[10]['MAP']"
   ]
  },
  {
   "cell_type": "code",
   "execution_count": 61,
   "metadata": {},
   "outputs": [
    {
     "name": "stdout",
     "output_type": "stream",
     "text": [
      "HybridCombinationSearch: URM Detected 27 (0.34 %) cold users.\n",
      "HybridCombinationSearch: URM Detected 1634 (6.29 %) cold items.\n",
      "EvaluatorHoldout: Processed 4106 ( 100.00% ) in 6.48 sec. Users per second: 634\n"
     ]
    },
    {
     "data": {
      "text/plain": [
       "0.07209747782589779"
      ]
     },
     "execution_count": 61,
     "metadata": {},
     "output_type": "execute_result"
    }
   ],
   "source": [
    "list_recommender = [sslim, rp3b, ucf]\n",
    "combo38 = HybridCombinationSearch(URM_train, ICM_all, list_recommender)\n",
    "params={'alpha': 0.6287606296404341, 'l1_ratio': 0.9991721235523667}\n",
    "\n",
    "combo38.fit(**params)\n",
    "result, _ = evaluator_test.evaluateRecommender(combo38)\n",
    "result[10]['MAP']"
   ]
  },
  {
   "cell_type": "markdown",
   "metadata": {},
   "source": [
    "---\n",
    "### USER WISE PLOTS"
   ]
  },
  {
   "cell_type": "code",
   "execution_count": 65,
   "metadata": {},
   "outputs": [],
   "source": [
    "merged_hybrid = [merged1, merged2, merged3, merged4, merged5, merged6, merged7, merged8, merged9, merged10,\n",
    "                 merged11, merged12, merged13, merged14, merged15, merged16]\n",
    "combo_hybrid = [combo1, combo2, combo3, combo4, combo5, combo6, combo7, combo8, combo9, combo10,\n",
    "                combo11, combo12, combo13, combo14, combo15, combo16, combo17, combo18, combo19, combo20,\n",
    "                combo21, combo22, combo23, combo24, combo25, combo26, combo27, combo28, combo29, combo30,\n",
    "                combo31, combo32, combo33, combo34, combo35, combo36, combo37, combo38]"
   ]
  },
  {
   "cell_type": "code",
   "execution_count": 66,
   "metadata": {},
   "outputs": [],
   "source": [
    "num_merged = 16\n",
    "num_combo = 38"
   ]
  },
  {
   "cell_type": "code",
   "execution_count": 67,
   "metadata": {
    "scrolled": true
   },
   "outputs": [
    {
     "name": "stdout",
     "output_type": "stream",
     "text": [
      "Warning: the URM_test filtered in (0, 3) has 566 of 4106 total users in the original URM_test. (0.14)\n",
      "EvaluatorHoldout: Processed 566 ( 100.00% ) in 0.36 sec. Users per second: 1566\n",
      "EvaluatorHoldout: Processed 566 ( 100.00% ) in 0.34 sec. Users per second: 1660\n",
      "EvaluatorHoldout: Processed 566 ( 100.00% ) in 0.39 sec. Users per second: 1459\n",
      "EvaluatorHoldout: Processed 566 ( 100.00% ) in 0.36 sec. Users per second: 1556\n",
      "EvaluatorHoldout: Processed 566 ( 100.00% ) in 0.45 sec. Users per second: 1254\n",
      "EvaluatorHoldout: Processed 566 ( 100.00% ) in 0.44 sec. Users per second: 1290\n",
      "EvaluatorHoldout: Processed 566 ( 100.00% ) in 0.44 sec. Users per second: 1284\n",
      "EvaluatorHoldout: Processed 566 ( 100.00% ) in 0.45 sec. Users per second: 1263\n",
      "EvaluatorHoldout: Processed 566 ( 100.00% ) in 0.45 sec. Users per second: 1256\n",
      "EvaluatorHoldout: Processed 566 ( 100.00% ) in 0.45 sec. Users per second: 1264\n",
      "EvaluatorHoldout: Processed 566 ( 100.00% ) in 0.35 sec. Users per second: 1602\n",
      "EvaluatorHoldout: Processed 566 ( 100.00% ) in 0.35 sec. Users per second: 1607\n",
      "EvaluatorHoldout: Processed 566 ( 100.00% ) in 0.33 sec. Users per second: 1728\n",
      "EvaluatorHoldout: Processed 566 ( 100.00% ) in 0.34 sec. Users per second: 1645\n",
      "EvaluatorHoldout: Processed 566 ( 100.00% ) in 0.35 sec. Users per second: 1595\n",
      "EvaluatorHoldout: Processed 566 ( 100.00% ) in 0.36 sec. Users per second: 1584\n",
      "EvaluatorHoldout: Processed 566 ( 100.00% ) in 0.42 sec. Users per second: 1347\n",
      "EvaluatorHoldout: Processed 566 ( 100.00% ) in 0.44 sec. Users per second: 1277\n",
      "EvaluatorHoldout: Processed 566 ( 100.00% ) in 0.40 sec. Users per second: 1423\n",
      "EvaluatorHoldout: Processed 566 ( 100.00% ) in 0.41 sec. Users per second: 1380\n",
      "EvaluatorHoldout: Processed 566 ( 100.00% ) in 0.41 sec. Users per second: 1378\n",
      "EvaluatorHoldout: Processed 566 ( 100.00% ) in 0.41 sec. Users per second: 1397\n",
      "EvaluatorHoldout: Processed 566 ( 100.00% ) in 0.41 sec. Users per second: 1372\n",
      "EvaluatorHoldout: Processed 566 ( 100.00% ) in 0.40 sec. Users per second: 1415\n",
      "EvaluatorHoldout: Processed 566 ( 100.00% ) in 0.39 sec. Users per second: 1444\n",
      "EvaluatorHoldout: Processed 566 ( 100.00% ) in 0.39 sec. Users per second: 1467\n",
      "EvaluatorHoldout: Processed 566 ( 100.00% ) in 0.39 sec. Users per second: 1464\n",
      "EvaluatorHoldout: Processed 566 ( 100.00% ) in 0.39 sec. Users per second: 1448\n",
      "EvaluatorHoldout: Processed 566 ( 100.00% ) in 0.40 sec. Users per second: 1412\n",
      "EvaluatorHoldout: Processed 566 ( 100.00% ) in 0.40 sec. Users per second: 1417\n",
      "EvaluatorHoldout: Processed 566 ( 100.00% ) in 0.43 sec. Users per second: 1316\n",
      "EvaluatorHoldout: Processed 566 ( 100.00% ) in 0.42 sec. Users per second: 1349\n",
      "EvaluatorHoldout: Processed 566 ( 100.00% ) in 0.40 sec. Users per second: 1423\n",
      "EvaluatorHoldout: Processed 566 ( 100.00% ) in 0.40 sec. Users per second: 1421\n",
      "EvaluatorHoldout: Processed 566 ( 100.00% ) in 0.44 sec. Users per second: 1284\n",
      "EvaluatorHoldout: Processed 566 ( 100.00% ) in 0.41 sec. Users per second: 1387\n",
      "EvaluatorHoldout: Processed 566 ( 100.00% ) in 0.42 sec. Users per second: 1342\n",
      "EvaluatorHoldout: Processed 566 ( 100.00% ) in 0.43 sec. Users per second: 1312\n",
      "EvaluatorHoldout: Processed 566 ( 100.00% ) in 0.42 sec. Users per second: 1353\n",
      "EvaluatorHoldout: Processed 566 ( 100.00% ) in 0.43 sec. Users per second: 1314\n",
      "EvaluatorHoldout: Processed 566 ( 100.00% ) in 0.40 sec. Users per second: 1419\n",
      "EvaluatorHoldout: Processed 566 ( 100.00% ) in 0.41 sec. Users per second: 1381\n",
      "EvaluatorHoldout: Processed 566 ( 100.00% ) in 0.43 sec. Users per second: 1320\n",
      "EvaluatorHoldout: Processed 566 ( 100.00% ) in 0.44 sec. Users per second: 1285\n",
      "EvaluatorHoldout: Processed 566 ( 100.00% ) in 0.64 sec. Users per second: 887\n",
      "EvaluatorHoldout: Processed 566 ( 100.00% ) in 0.65 sec. Users per second: 866\n",
      "EvaluatorHoldout: Processed 566 ( 100.00% ) in 0.66 sec. Users per second: 859\n",
      "EvaluatorHoldout: Processed 566 ( 100.00% ) in 0.65 sec. Users per second: 877\n",
      "EvaluatorHoldout: Processed 566 ( 100.00% ) in 0.62 sec. Users per second: 909\n",
      "EvaluatorHoldout: Processed 566 ( 100.00% ) in 0.66 sec. Users per second: 852\n",
      "EvaluatorHoldout: Processed 566 ( 100.00% ) in 0.65 sec. Users per second: 866\n",
      "EvaluatorHoldout: Processed 566 ( 100.00% ) in 0.65 sec. Users per second: 866\n",
      "EvaluatorHoldout: Processed 566 ( 100.00% ) in 0.65 sec. Users per second: 864\n",
      "EvaluatorHoldout: Processed 566 ( 100.00% ) in 0.66 sec. Users per second: 855\n",
      "Warning: the URM_test filtered in (3, 5) has 581 of 4106 total users in the original URM_test. (0.14)\n",
      "EvaluatorHoldout: Processed 581 ( 100.00% ) in 0.39 sec. Users per second: 1494\n",
      "EvaluatorHoldout: Processed 581 ( 100.00% ) in 0.35 sec. Users per second: 1643\n",
      "EvaluatorHoldout: Processed 581 ( 100.00% ) in 0.37 sec. Users per second: 1556\n",
      "EvaluatorHoldout: Processed 581 ( 100.00% ) in 0.37 sec. Users per second: 1551\n",
      "EvaluatorHoldout: Processed 581 ( 100.00% ) in 0.49 sec. Users per second: 1194\n",
      "EvaluatorHoldout: Processed 581 ( 100.00% ) in 0.47 sec. Users per second: 1226\n",
      "EvaluatorHoldout: Processed 581 ( 100.00% ) in 0.47 sec. Users per second: 1228\n",
      "EvaluatorHoldout: Processed 581 ( 100.00% ) in 0.48 sec. Users per second: 1201\n",
      "EvaluatorHoldout: Processed 581 ( 100.00% ) in 0.48 sec. Users per second: 1201\n",
      "EvaluatorHoldout: Processed 581 ( 100.00% ) in 0.51 sec. Users per second: 1148\n",
      "EvaluatorHoldout: Processed 581 ( 100.00% ) in 0.38 sec. Users per second: 1526\n",
      "EvaluatorHoldout: Processed 581 ( 100.00% ) in 0.40 sec. Users per second: 1438\n",
      "EvaluatorHoldout: Processed 581 ( 100.00% ) in 0.34 sec. Users per second: 1687\n",
      "EvaluatorHoldout: Processed 581 ( 100.00% ) in 0.36 sec. Users per second: 1601\n",
      "EvaluatorHoldout: Processed 581 ( 100.00% ) in 0.37 sec. Users per second: 1550\n",
      "EvaluatorHoldout: Processed 581 ( 100.00% ) in 0.37 sec. Users per second: 1568\n",
      "EvaluatorHoldout: Processed 581 ( 100.00% ) in 0.42 sec. Users per second: 1387\n",
      "EvaluatorHoldout: Processed 581 ( 100.00% ) in 0.43 sec. Users per second: 1355\n",
      "EvaluatorHoldout: Processed 581 ( 100.00% ) in 0.42 sec. Users per second: 1380\n",
      "EvaluatorHoldout: Processed 581 ( 100.00% ) in 0.45 sec. Users per second: 1297\n",
      "EvaluatorHoldout: Processed 581 ( 100.00% ) in 0.42 sec. Users per second: 1370\n",
      "EvaluatorHoldout: Processed 581 ( 100.00% ) in 0.46 sec. Users per second: 1264\n",
      "EvaluatorHoldout: Processed 581 ( 100.00% ) in 0.43 sec. Users per second: 1347\n",
      "EvaluatorHoldout: Processed 581 ( 100.00% ) in 0.45 sec. Users per second: 1296\n",
      "EvaluatorHoldout: Processed 581 ( 100.00% ) in 0.44 sec. Users per second: 1314\n",
      "EvaluatorHoldout: Processed 581 ( 100.00% ) in 0.41 sec. Users per second: 1428\n",
      "EvaluatorHoldout: Processed 581 ( 100.00% ) in 0.41 sec. Users per second: 1431\n",
      "EvaluatorHoldout: Processed 581 ( 100.00% ) in 0.43 sec. Users per second: 1361\n",
      "EvaluatorHoldout: Processed 581 ( 100.00% ) in 0.44 sec. Users per second: 1314\n",
      "EvaluatorHoldout: Processed 581 ( 100.00% ) in 0.41 sec. Users per second: 1418\n",
      "EvaluatorHoldout: Processed 581 ( 100.00% ) in 0.45 sec. Users per second: 1299\n",
      "EvaluatorHoldout: Processed 581 ( 100.00% ) in 0.42 sec. Users per second: 1379\n",
      "EvaluatorHoldout: Processed 581 ( 100.00% ) in 0.45 sec. Users per second: 1300\n",
      "EvaluatorHoldout: Processed 581 ( 100.00% ) in 0.43 sec. Users per second: 1364\n",
      "EvaluatorHoldout: Processed 581 ( 100.00% ) in 0.44 sec. Users per second: 1322\n",
      "EvaluatorHoldout: Processed 581 ( 100.00% ) in 0.43 sec. Users per second: 1347\n",
      "EvaluatorHoldout: Processed 581 ( 100.00% ) in 0.44 sec. Users per second: 1332\n",
      "EvaluatorHoldout: Processed 581 ( 100.00% ) in 0.43 sec. Users per second: 1350\n",
      "EvaluatorHoldout: Processed 581 ( 100.00% ) in 0.45 sec. Users per second: 1300\n",
      "EvaluatorHoldout: Processed 581 ( 100.00% ) in 0.44 sec. Users per second: 1307\n",
      "EvaluatorHoldout: Processed 581 ( 100.00% ) in 0.44 sec. Users per second: 1319\n",
      "EvaluatorHoldout: Processed 581 ( 100.00% ) in 0.43 sec. Users per second: 1355\n",
      "EvaluatorHoldout: Processed 581 ( 100.00% ) in 0.45 sec. Users per second: 1303\n",
      "EvaluatorHoldout: Processed 581 ( 100.00% ) in 0.44 sec. Users per second: 1314\n",
      "EvaluatorHoldout: Processed 581 ( 100.00% ) in 0.67 sec. Users per second: 868\n",
      "EvaluatorHoldout: Processed 581 ( 100.00% ) in 0.68 sec. Users per second: 855\n",
      "EvaluatorHoldout: Processed 581 ( 100.00% ) in 0.69 sec. Users per second: 837\n"
     ]
    },
    {
     "name": "stdout",
     "output_type": "stream",
     "text": [
      "EvaluatorHoldout: Processed 581 ( 100.00% ) in 0.68 sec. Users per second: 859\n",
      "EvaluatorHoldout: Processed 581 ( 100.00% ) in 0.67 sec. Users per second: 867\n",
      "EvaluatorHoldout: Processed 581 ( 100.00% ) in 0.68 sec. Users per second: 858\n",
      "EvaluatorHoldout: Processed 581 ( 100.00% ) in 0.68 sec. Users per second: 851\n",
      "EvaluatorHoldout: Processed 581 ( 100.00% ) in 0.68 sec. Users per second: 858\n",
      "EvaluatorHoldout: Processed 581 ( 100.00% ) in 0.68 sec. Users per second: 856\n",
      "EvaluatorHoldout: Processed 581 ( 100.00% ) in 0.69 sec. Users per second: 842\n",
      "Warning: the URM_test filtered in (5, 10) has 1027 of 4106 total users in the original URM_test. (0.25)\n",
      "EvaluatorHoldout: Processed 1027 ( 100.00% ) in 0.66 sec. Users per second: 1555\n",
      "EvaluatorHoldout: Processed 1027 ( 100.00% ) in 0.65 sec. Users per second: 1592\n",
      "EvaluatorHoldout: Processed 1027 ( 100.00% ) in 0.67 sec. Users per second: 1544\n",
      "EvaluatorHoldout: Processed 1027 ( 100.00% ) in 0.70 sec. Users per second: 1458\n",
      "EvaluatorHoldout: Processed 1027 ( 100.00% ) in 0.95 sec. Users per second: 1081\n",
      "EvaluatorHoldout: Processed 1027 ( 100.00% ) in 0.92 sec. Users per second: 1112\n",
      "EvaluatorHoldout: Processed 1027 ( 100.00% ) in 0.92 sec. Users per second: 1114\n",
      "EvaluatorHoldout: Processed 1027 ( 100.00% ) in 0.95 sec. Users per second: 1086\n",
      "EvaluatorHoldout: Processed 1027 ( 100.00% ) in 0.95 sec. Users per second: 1082\n",
      "EvaluatorHoldout: Processed 1027 ( 100.00% ) in 0.94 sec. Users per second: 1091\n",
      "EvaluatorHoldout: Processed 1027 ( 100.00% ) in 0.71 sec. Users per second: 1447\n",
      "EvaluatorHoldout: Processed 1027 ( 100.00% ) in 0.69 sec. Users per second: 1482\n",
      "EvaluatorHoldout: Processed 1027 ( 100.00% ) in 0.63 sec. Users per second: 1617\n",
      "EvaluatorHoldout: Processed 1027 ( 100.00% ) in 0.68 sec. Users per second: 1517\n",
      "EvaluatorHoldout: Processed 1027 ( 100.00% ) in 0.71 sec. Users per second: 1455\n",
      "EvaluatorHoldout: Processed 1027 ( 100.00% ) in 0.69 sec. Users per second: 1487\n",
      "EvaluatorHoldout: Processed 1027 ( 100.00% ) in 0.91 sec. Users per second: 1135\n",
      "EvaluatorHoldout: Processed 1027 ( 100.00% ) in 0.93 sec. Users per second: 1103\n",
      "EvaluatorHoldout: Processed 1027 ( 100.00% ) in 0.91 sec. Users per second: 1125\n",
      "EvaluatorHoldout: Processed 1027 ( 100.00% ) in 0.93 sec. Users per second: 1106\n",
      "EvaluatorHoldout: Processed 1027 ( 100.00% ) in 0.91 sec. Users per second: 1125\n",
      "EvaluatorHoldout: Processed 1027 ( 100.00% ) in 0.98 sec. Users per second: 1047\n",
      "EvaluatorHoldout: Processed 1027 ( 100.00% ) in 0.90 sec. Users per second: 1140\n",
      "EvaluatorHoldout: Processed 1027 ( 100.00% ) in 0.92 sec. Users per second: 1112\n",
      "EvaluatorHoldout: Processed 1027 ( 100.00% ) in 0.91 sec. Users per second: 1135\n",
      "EvaluatorHoldout: Processed 1027 ( 100.00% ) in 0.87 sec. Users per second: 1175\n",
      "EvaluatorHoldout: Processed 1027 ( 100.00% ) in 0.87 sec. Users per second: 1180\n",
      "EvaluatorHoldout: Processed 1027 ( 100.00% ) in 0.93 sec. Users per second: 1110\n",
      "EvaluatorHoldout: Processed 1027 ( 100.00% ) in 0.90 sec. Users per second: 1142\n",
      "EvaluatorHoldout: Processed 1027 ( 100.00% ) in 0.89 sec. Users per second: 1159\n",
      "EvaluatorHoldout: Processed 1027 ( 100.00% ) in 0.94 sec. Users per second: 1095\n",
      "EvaluatorHoldout: Processed 1027 ( 100.00% ) in 0.92 sec. Users per second: 1115\n",
      "EvaluatorHoldout: Processed 1027 ( 100.00% ) in 0.94 sec. Users per second: 1094\n",
      "EvaluatorHoldout: Processed 1027 ( 100.00% ) in 0.92 sec. Users per second: 1121\n",
      "EvaluatorHoldout: Processed 1027 ( 100.00% ) in 0.98 sec. Users per second: 1049\n",
      "EvaluatorHoldout: Processed 1027 ( 100.00% ) in 0.94 sec. Users per second: 1096\n",
      "EvaluatorHoldout: Processed 1027 ( 100.00% ) in 0.95 sec. Users per second: 1084\n",
      "EvaluatorHoldout: Processed 1027 ( 100.00% ) in 0.93 sec. Users per second: 1102\n",
      "EvaluatorHoldout: Processed 1027 ( 100.00% ) in 0.99 sec. Users per second: 1040\n",
      "EvaluatorHoldout: Processed 1027 ( 100.00% ) in 0.97 sec. Users per second: 1055\n",
      "EvaluatorHoldout: Processed 1027 ( 100.00% ) in 0.95 sec. Users per second: 1079\n",
      "EvaluatorHoldout: Processed 1027 ( 100.00% ) in 0.95 sec. Users per second: 1076\n",
      "EvaluatorHoldout: Processed 1027 ( 100.00% ) in 0.98 sec. Users per second: 1049\n",
      "EvaluatorHoldout: Processed 1027 ( 100.00% ) in 0.97 sec. Users per second: 1056\n",
      "EvaluatorHoldout: Processed 1027 ( 100.00% ) in 1.40 sec. Users per second: 735\n",
      "EvaluatorHoldout: Processed 1027 ( 100.00% ) in 1.42 sec. Users per second: 725\n",
      "EvaluatorHoldout: Processed 1027 ( 100.00% ) in 1.42 sec. Users per second: 725\n",
      "EvaluatorHoldout: Processed 1027 ( 100.00% ) in 1.40 sec. Users per second: 735\n",
      "EvaluatorHoldout: Processed 1027 ( 100.00% ) in 1.40 sec. Users per second: 735\n",
      "EvaluatorHoldout: Processed 1027 ( 100.00% ) in 1.43 sec. Users per second: 720\n",
      "EvaluatorHoldout: Processed 1027 ( 100.00% ) in 1.42 sec. Users per second: 725\n",
      "EvaluatorHoldout: Processed 1027 ( 100.00% ) in 1.42 sec. Users per second: 723\n",
      "EvaluatorHoldout: Processed 1027 ( 100.00% ) in 1.42 sec. Users per second: 724\n",
      "EvaluatorHoldout: Processed 1027 ( 100.00% ) in 1.44 sec. Users per second: 714\n",
      "Warning: the URM_test filtered in (10, 17) has 676 of 4106 total users in the original URM_test. (0.16)\n",
      "EvaluatorHoldout: Processed 676 ( 100.00% ) in 0.46 sec. Users per second: 1484\n",
      "EvaluatorHoldout: Processed 676 ( 100.00% ) in 0.44 sec. Users per second: 1538\n",
      "EvaluatorHoldout: Processed 676 ( 100.00% ) in 0.46 sec. Users per second: 1469\n",
      "EvaluatorHoldout: Processed 676 ( 100.00% ) in 0.50 sec. Users per second: 1345\n",
      "EvaluatorHoldout: Processed 676 ( 100.00% ) in 0.68 sec. Users per second: 998\n",
      "EvaluatorHoldout: Processed 676 ( 100.00% ) in 0.66 sec. Users per second: 1029\n",
      "EvaluatorHoldout: Processed 676 ( 100.00% ) in 0.66 sec. Users per second: 1026\n",
      "EvaluatorHoldout: Processed 676 ( 100.00% ) in 0.67 sec. Users per second: 1008\n",
      "EvaluatorHoldout: Processed 676 ( 100.00% ) in 0.68 sec. Users per second: 994\n",
      "EvaluatorHoldout: Processed 676 ( 100.00% ) in 0.68 sec. Users per second: 998\n",
      "EvaluatorHoldout: Processed 676 ( 100.00% ) in 0.50 sec. Users per second: 1359\n",
      "EvaluatorHoldout: Processed 676 ( 100.00% ) in 0.49 sec. Users per second: 1388\n",
      "EvaluatorHoldout: Processed 676 ( 100.00% ) in 0.42 sec. Users per second: 1618\n",
      "EvaluatorHoldout: Processed 676 ( 100.00% ) in 0.48 sec. Users per second: 1394\n",
      "EvaluatorHoldout: Processed 676 ( 100.00% ) in 0.50 sec. Users per second: 1349\n",
      "EvaluatorHoldout: Processed 676 ( 100.00% ) in 0.49 sec. Users per second: 1379\n",
      "EvaluatorHoldout: Processed 676 ( 100.00% ) in 0.53 sec. Users per second: 1265\n",
      "EvaluatorHoldout: Processed 676 ( 100.00% ) in 0.59 sec. Users per second: 1149\n",
      "EvaluatorHoldout: Processed 676 ( 100.00% ) in 0.56 sec. Users per second: 1203\n",
      "EvaluatorHoldout: Processed 676 ( 100.00% ) in 0.58 sec. Users per second: 1172\n",
      "EvaluatorHoldout: Processed 676 ( 100.00% ) in 0.56 sec. Users per second: 1197\n",
      "EvaluatorHoldout: Processed 676 ( 100.00% ) in 0.64 sec. Users per second: 1056\n",
      "EvaluatorHoldout: Processed 676 ( 100.00% ) in 0.54 sec. Users per second: 1253\n",
      "EvaluatorHoldout: Processed 676 ( 100.00% ) in 0.57 sec. Users per second: 1189\n",
      "EvaluatorHoldout: Processed 676 ( 100.00% ) in 0.55 sec. Users per second: 1221\n",
      "EvaluatorHoldout: Processed 676 ( 100.00% ) in 0.52 sec. Users per second: 1302\n",
      "EvaluatorHoldout: Processed 676 ( 100.00% ) in 0.52 sec. Users per second: 1296\n",
      "EvaluatorHoldout: Processed 676 ( 100.00% ) in 0.59 sec. Users per second: 1143\n",
      "EvaluatorHoldout: Processed 676 ( 100.00% ) in 0.54 sec. Users per second: 1263\n",
      "EvaluatorHoldout: Processed 676 ( 100.00% ) in 0.53 sec. Users per second: 1266\n",
      "EvaluatorHoldout: Processed 676 ( 100.00% ) in 0.60 sec. Users per second: 1134\n",
      "EvaluatorHoldout: Processed 676 ( 100.00% ) in 0.57 sec. Users per second: 1190\n",
      "EvaluatorHoldout: Processed 676 ( 100.00% ) in 0.59 sec. Users per second: 1141\n",
      "EvaluatorHoldout: Processed 676 ( 100.00% ) in 0.56 sec. Users per second: 1198\n",
      "EvaluatorHoldout: Processed 676 ( 100.00% ) in 0.66 sec. Users per second: 1032\n",
      "EvaluatorHoldout: Processed 676 ( 100.00% ) in 0.59 sec. Users per second: 1149\n",
      "EvaluatorHoldout: Processed 676 ( 100.00% ) in 0.63 sec. Users per second: 1069\n",
      "EvaluatorHoldout: Processed 676 ( 100.00% ) in 0.57 sec. Users per second: 1180\n",
      "EvaluatorHoldout: Processed 676 ( 100.00% ) in 0.65 sec. Users per second: 1033\n"
     ]
    },
    {
     "name": "stdout",
     "output_type": "stream",
     "text": [
      "EvaluatorHoldout: Processed 676 ( 100.00% ) in 0.64 sec. Users per second: 1057\n",
      "EvaluatorHoldout: Processed 676 ( 100.00% ) in 0.66 sec. Users per second: 1024\n",
      "EvaluatorHoldout: Processed 676 ( 100.00% ) in 0.61 sec. Users per second: 1108\n",
      "EvaluatorHoldout: Processed 676 ( 100.00% ) in 0.65 sec. Users per second: 1033\n",
      "EvaluatorHoldout: Processed 676 ( 100.00% ) in 0.63 sec. Users per second: 1072\n",
      "EvaluatorHoldout: Processed 676 ( 100.00% ) in 0.91 sec. Users per second: 745\n",
      "EvaluatorHoldout: Processed 676 ( 100.00% ) in 0.92 sec. Users per second: 734\n",
      "EvaluatorHoldout: Processed 676 ( 100.00% ) in 0.92 sec. Users per second: 732\n",
      "EvaluatorHoldout: Processed 676 ( 100.00% ) in 0.90 sec. Users per second: 748\n",
      "EvaluatorHoldout: Processed 676 ( 100.00% ) in 0.91 sec. Users per second: 745\n",
      "EvaluatorHoldout: Processed 676 ( 100.00% ) in 0.94 sec. Users per second: 721\n",
      "EvaluatorHoldout: Processed 676 ( 100.00% ) in 0.92 sec. Users per second: 735\n",
      "EvaluatorHoldout: Processed 676 ( 100.00% ) in 0.95 sec. Users per second: 715\n",
      "EvaluatorHoldout: Processed 676 ( 100.00% ) in 0.94 sec. Users per second: 717\n",
      "EvaluatorHoldout: Processed 676 ( 100.00% ) in 0.95 sec. Users per second: 709\n",
      "Warning: the URM_test filtered in (17, 30) has 589 of 4106 total users in the original URM_test. (0.14)\n",
      "EvaluatorHoldout: Processed 589 ( 100.00% ) in 0.43 sec. Users per second: 1375\n",
      "EvaluatorHoldout: Processed 589 ( 100.00% ) in 0.41 sec. Users per second: 1439\n",
      "EvaluatorHoldout: Processed 589 ( 100.00% ) in 0.44 sec. Users per second: 1351\n",
      "EvaluatorHoldout: Processed 589 ( 100.00% ) in 0.49 sec. Users per second: 1205\n",
      "EvaluatorHoldout: Processed 589 ( 100.00% ) in 0.69 sec. Users per second: 859\n",
      "EvaluatorHoldout: Processed 589 ( 100.00% ) in 0.67 sec. Users per second: 883\n",
      "EvaluatorHoldout: Processed 589 ( 100.00% ) in 0.66 sec. Users per second: 887\n",
      "EvaluatorHoldout: Processed 589 ( 100.00% ) in 0.68 sec. Users per second: 861\n",
      "EvaluatorHoldout: Processed 589 ( 100.00% ) in 0.68 sec. Users per second: 861\n",
      "EvaluatorHoldout: Processed 589 ( 100.00% ) in 0.68 sec. Users per second: 862\n",
      "EvaluatorHoldout: Processed 589 ( 100.00% ) in 0.48 sec. Users per second: 1219\n",
      "EvaluatorHoldout: Processed 589 ( 100.00% ) in 0.47 sec. Users per second: 1255\n",
      "EvaluatorHoldout: Processed 589 ( 100.00% ) in 0.38 sec. Users per second: 1550\n",
      "EvaluatorHoldout: Processed 589 ( 100.00% ) in 0.45 sec. Users per second: 1304\n",
      "EvaluatorHoldout: Processed 589 ( 100.00% ) in 0.48 sec. Users per second: 1222\n",
      "EvaluatorHoldout: Processed 589 ( 100.00% ) in 0.47 sec. Users per second: 1254\n",
      "EvaluatorHoldout: Processed 589 ( 100.00% ) in 0.50 sec. Users per second: 1188\n",
      "EvaluatorHoldout: Processed 589 ( 100.00% ) in 0.56 sec. Users per second: 1055\n",
      "EvaluatorHoldout: Processed 589 ( 100.00% ) in 0.54 sec. Users per second: 1083\n",
      "EvaluatorHoldout: Processed 589 ( 100.00% ) in 0.55 sec. Users per second: 1063\n",
      "EvaluatorHoldout: Processed 589 ( 100.00% ) in 0.54 sec. Users per second: 1083\n",
      "EvaluatorHoldout: Processed 589 ( 100.00% ) in 0.66 sec. Users per second: 893\n",
      "EvaluatorHoldout: Processed 589 ( 100.00% ) in 0.50 sec. Users per second: 1171\n",
      "EvaluatorHoldout: Processed 589 ( 100.00% ) in 0.55 sec. Users per second: 1069\n",
      "EvaluatorHoldout: Processed 589 ( 100.00% ) in 0.54 sec. Users per second: 1097\n",
      "EvaluatorHoldout: Processed 589 ( 100.00% ) in 0.50 sec. Users per second: 1187\n",
      "EvaluatorHoldout: Processed 589 ( 100.00% ) in 0.51 sec. Users per second: 1164\n",
      "EvaluatorHoldout: Processed 589 ( 100.00% ) in 0.61 sec. Users per second: 966\n",
      "EvaluatorHoldout: Processed 589 ( 100.00% ) in 0.50 sec. Users per second: 1185\n",
      "EvaluatorHoldout: Processed 589 ( 100.00% ) in 0.52 sec. Users per second: 1134\n",
      "EvaluatorHoldout: Processed 589 ( 100.00% ) in 0.59 sec. Users per second: 998\n",
      "EvaluatorHoldout: Processed 589 ( 100.00% ) in 0.56 sec. Users per second: 1060\n",
      "EvaluatorHoldout: Processed 589 ( 100.00% ) in 0.59 sec. Users per second: 1003\n",
      "EvaluatorHoldout: Processed 589 ( 100.00% ) in 0.54 sec. Users per second: 1082\n",
      "EvaluatorHoldout: Processed 589 ( 100.00% ) in 0.69 sec. Users per second: 859\n",
      "EvaluatorHoldout: Processed 589 ( 100.00% ) in 0.56 sec. Users per second: 1055\n",
      "EvaluatorHoldout: Processed 589 ( 100.00% ) in 0.60 sec. Users per second: 989\n",
      "EvaluatorHoldout: Processed 589 ( 100.00% ) in 0.55 sec. Users per second: 1070\n",
      "EvaluatorHoldout: Processed 589 ( 100.00% ) in 0.67 sec. Users per second: 885\n",
      "EvaluatorHoldout: Processed 589 ( 100.00% ) in 0.66 sec. Users per second: 897\n",
      "EvaluatorHoldout: Processed 589 ( 100.00% ) in 0.62 sec. Users per second: 955\n",
      "EvaluatorHoldout: Processed 589 ( 100.00% ) in 0.61 sec. Users per second: 962\n",
      "EvaluatorHoldout: Processed 589 ( 100.00% ) in 0.66 sec. Users per second: 890\n",
      "EvaluatorHoldout: Processed 589 ( 100.00% ) in 0.63 sec. Users per second: 942\n",
      "EvaluatorHoldout: Processed 589 ( 100.00% ) in 0.90 sec. Users per second: 651\n",
      "EvaluatorHoldout: Processed 589 ( 100.00% ) in 0.91 sec. Users per second: 645\n",
      "EvaluatorHoldout: Processed 589 ( 100.00% ) in 0.92 sec. Users per second: 640\n",
      "EvaluatorHoldout: Processed 589 ( 100.00% ) in 0.90 sec. Users per second: 652\n",
      "EvaluatorHoldout: Processed 589 ( 100.00% ) in 0.91 sec. Users per second: 649\n",
      "EvaluatorHoldout: Processed 589 ( 100.00% ) in 0.95 sec. Users per second: 620\n",
      "EvaluatorHoldout: Processed 589 ( 100.00% ) in 0.92 sec. Users per second: 643\n",
      "EvaluatorHoldout: Processed 589 ( 100.00% ) in 0.95 sec. Users per second: 620\n",
      "EvaluatorHoldout: Processed 589 ( 100.00% ) in 0.95 sec. Users per second: 618\n",
      "EvaluatorHoldout: Processed 589 ( 100.00% ) in 0.96 sec. Users per second: 611\n",
      "Warning: the URM_test filtered in (30, 100) has 522 of 4106 total users in the original URM_test. (0.13)\n",
      "EvaluatorHoldout: Processed 522 ( 100.00% ) in 0.44 sec. Users per second: 1179\n",
      "EvaluatorHoldout: Processed 522 ( 100.00% ) in 0.42 sec. Users per second: 1255\n",
      "EvaluatorHoldout: Processed 522 ( 100.00% ) in 0.46 sec. Users per second: 1137\n",
      "EvaluatorHoldout: Processed 522 ( 100.00% ) in 0.53 sec. Users per second: 993\n",
      "EvaluatorHoldout: Processed 522 ( 100.00% ) in 0.76 sec. Users per second: 690\n",
      "EvaluatorHoldout: Processed 522 ( 100.00% ) in 0.73 sec. Users per second: 713\n",
      "EvaluatorHoldout: Processed 522 ( 100.00% ) in 0.73 sec. Users per second: 711\n",
      "EvaluatorHoldout: Processed 522 ( 100.00% ) in 0.75 sec. Users per second: 694\n",
      "EvaluatorHoldout: Processed 522 ( 100.00% ) in 0.76 sec. Users per second: 688\n",
      "EvaluatorHoldout: Processed 522 ( 100.00% ) in 0.75 sec. Users per second: 696\n",
      "EvaluatorHoldout: Processed 522 ( 100.00% ) in 0.52 sec. Users per second: 1005\n",
      "EvaluatorHoldout: Processed 522 ( 100.00% ) in 0.50 sec. Users per second: 1034\n",
      "EvaluatorHoldout: Processed 522 ( 100.00% ) in 0.37 sec. Users per second: 1404\n",
      "EvaluatorHoldout: Processed 522 ( 100.00% ) in 0.48 sec. Users per second: 1094\n",
      "EvaluatorHoldout: Processed 522 ( 100.00% ) in 0.52 sec. Users per second: 996\n",
      "EvaluatorHoldout: Processed 522 ( 100.00% ) in 0.50 sec. Users per second: 1038\n",
      "EvaluatorHoldout: Processed 522 ( 100.00% ) in 0.51 sec. Users per second: 1017\n",
      "EvaluatorHoldout: Processed 522 ( 100.00% ) in 0.61 sec. Users per second: 849\n",
      "EvaluatorHoldout: Processed 522 ( 100.00% ) in 0.60 sec. Users per second: 870\n",
      "EvaluatorHoldout: Processed 522 ( 100.00% ) in 0.60 sec. Users per second: 866\n",
      "EvaluatorHoldout: Processed 522 ( 100.00% ) in 0.60 sec. Users per second: 877\n",
      "EvaluatorHoldout: Processed 522 ( 100.00% ) in 0.79 sec. Users per second: 659\n",
      "EvaluatorHoldout: Processed 522 ( 100.00% ) in 0.52 sec. Users per second: 1001\n",
      "EvaluatorHoldout: Processed 522 ( 100.00% ) in 0.60 sec. Users per second: 870\n",
      "EvaluatorHoldout: Processed 522 ( 100.00% ) in 0.59 sec. Users per second: 891\n",
      "EvaluatorHoldout: Processed 522 ( 100.00% ) in 0.51 sec. Users per second: 1024\n",
      "EvaluatorHoldout: Processed 522 ( 100.00% ) in 0.57 sec. Users per second: 911\n",
      "EvaluatorHoldout: Processed 522 ( 100.00% ) in 0.73 sec. Users per second: 716\n",
      "EvaluatorHoldout: Processed 522 ( 100.00% ) in 0.51 sec. Users per second: 1024\n",
      "EvaluatorHoldout: Processed 522 ( 100.00% ) in 0.55 sec. Users per second: 941\n",
      "EvaluatorHoldout: Processed 522 ( 100.00% ) in 0.67 sec. Users per second: 776\n",
      "EvaluatorHoldout: Processed 522 ( 100.00% ) in 0.61 sec. Users per second: 858\n"
     ]
    },
    {
     "name": "stdout",
     "output_type": "stream",
     "text": [
      "EvaluatorHoldout: Processed 522 ( 100.00% ) in 0.68 sec. Users per second: 773\n",
      "EvaluatorHoldout: Processed 522 ( 100.00% ) in 0.60 sec. Users per second: 877\n",
      "EvaluatorHoldout: Processed 522 ( 100.00% ) in 0.84 sec. Users per second: 620\n",
      "EvaluatorHoldout: Processed 522 ( 100.00% ) in 0.61 sec. Users per second: 859\n",
      "EvaluatorHoldout: Processed 522 ( 100.00% ) in 0.68 sec. Users per second: 770\n",
      "EvaluatorHoldout: Processed 522 ( 100.00% ) in 0.60 sec. Users per second: 875\n",
      "EvaluatorHoldout: Processed 522 ( 100.00% ) in 0.78 sec. Users per second: 669\n",
      "EvaluatorHoldout: Processed 522 ( 100.00% ) in 0.77 sec. Users per second: 676\n",
      "EvaluatorHoldout: Processed 522 ( 100.00% ) in 0.71 sec. Users per second: 737\n",
      "EvaluatorHoldout: Processed 522 ( 100.00% ) in 0.70 sec. Users per second: 750\n",
      "EvaluatorHoldout: Processed 522 ( 100.00% ) in 0.78 sec. Users per second: 666\n",
      "EvaluatorHoldout: Processed 522 ( 100.00% ) in 0.71 sec. Users per second: 735\n",
      "EvaluatorHoldout: Processed 522 ( 100.00% ) in 0.98 sec. Users per second: 530\n",
      "EvaluatorHoldout: Processed 522 ( 100.00% ) in 0.99 sec. Users per second: 528\n",
      "EvaluatorHoldout: Processed 522 ( 100.00% ) in 0.99 sec. Users per second: 525\n",
      "EvaluatorHoldout: Processed 522 ( 100.00% ) in 0.98 sec. Users per second: 535\n",
      "EvaluatorHoldout: Processed 522 ( 100.00% ) in 0.98 sec. Users per second: 531\n",
      "EvaluatorHoldout: Processed 522 ( 100.00% ) in 1.06 sec. Users per second: 492\n",
      "EvaluatorHoldout: Processed 522 ( 100.00% ) in 0.98 sec. Users per second: 530\n",
      "EvaluatorHoldout: Processed 522 ( 100.00% ) in 1.06 sec. Users per second: 493\n",
      "EvaluatorHoldout: Processed 522 ( 100.00% ) in 1.07 sec. Users per second: 487\n",
      "EvaluatorHoldout: Processed 522 ( 100.00% ) in 1.08 sec. Users per second: 485\n",
      "Warning: the URM_test filtered in (100, 200) has 80 of 4106 total users in the original URM_test. (0.02)\n",
      "EvaluatorHoldout: Processed 80 ( 100.00% ) in 0.08 sec. Users per second: 1049\n",
      "EvaluatorHoldout: Processed 80 ( 100.00% ) in 0.07 sec. Users per second: 1137\n",
      "EvaluatorHoldout: Processed 80 ( 100.00% ) in 0.08 sec. Users per second: 963\n",
      "EvaluatorHoldout: Processed 80 ( 100.00% ) in 0.11 sec. Users per second: 746\n",
      "EvaluatorHoldout: Processed 80 ( 100.00% ) in 0.21 sec. Users per second: 374\n",
      "EvaluatorHoldout: Processed 80 ( 100.00% ) in 0.20 sec. Users per second: 394\n",
      "EvaluatorHoldout: Processed 80 ( 100.00% ) in 0.20 sec. Users per second: 393\n",
      "EvaluatorHoldout: Processed 80 ( 100.00% ) in 0.21 sec. Users per second: 374\n",
      "EvaluatorHoldout: Processed 80 ( 100.00% ) in 0.22 sec. Users per second: 369\n",
      "EvaluatorHoldout: Processed 80 ( 100.00% ) in 0.21 sec. Users per second: 375\n",
      "EvaluatorHoldout: Processed 80 ( 100.00% ) in 0.10 sec. Users per second: 802\n",
      "EvaluatorHoldout: Processed 80 ( 100.00% ) in 0.10 sec. Users per second: 807\n",
      "EvaluatorHoldout: Processed 80 ( 100.00% ) in 0.06 sec. Users per second: 1370\n",
      "EvaluatorHoldout: Processed 80 ( 100.00% ) in 0.09 sec. Users per second: 888\n",
      "EvaluatorHoldout: Processed 80 ( 100.00% ) in 0.10 sec. Users per second: 774\n",
      "EvaluatorHoldout: Processed 80 ( 100.00% ) in 0.10 sec. Users per second: 824\n",
      "EvaluatorHoldout: Processed 80 ( 100.00% ) in 0.09 sec. Users per second: 882\n",
      "EvaluatorHoldout: Processed 80 ( 100.00% ) in 0.12 sec. Users per second: 654\n",
      "EvaluatorHoldout: Processed 80 ( 100.00% ) in 0.12 sec. Users per second: 677\n",
      "EvaluatorHoldout: Processed 80 ( 100.00% ) in 0.12 sec. Users per second: 684\n",
      "EvaluatorHoldout: Processed 80 ( 100.00% ) in 0.12 sec. Users per second: 678\n",
      "EvaluatorHoldout: Processed 80 ( 100.00% ) in 0.17 sec. Users per second: 484\n",
      "EvaluatorHoldout: Processed 80 ( 100.00% ) in 0.10 sec. Users per second: 832\n",
      "EvaluatorHoldout: Processed 80 ( 100.00% ) in 0.11 sec. Users per second: 696\n",
      "EvaluatorHoldout: Processed 80 ( 100.00% ) in 0.12 sec. Users per second: 678\n",
      "EvaluatorHoldout: Processed 80 ( 100.00% ) in 0.10 sec. Users per second: 828\n",
      "EvaluatorHoldout: Processed 80 ( 100.00% ) in 0.11 sec. Users per second: 703\n",
      "EvaluatorHoldout: Processed 80 ( 100.00% ) in 0.16 sec. Users per second: 502\n",
      "EvaluatorHoldout: Processed 80 ( 100.00% ) in 0.09 sec. Users per second: 889\n",
      "EvaluatorHoldout: Processed 80 ( 100.00% ) in 0.11 sec. Users per second: 732\n",
      "EvaluatorHoldout: Processed 80 ( 100.00% ) in 0.15 sec. Users per second: 534\n",
      "EvaluatorHoldout: Processed 80 ( 100.00% ) in 0.13 sec. Users per second: 631\n",
      "EvaluatorHoldout: Processed 80 ( 100.00% ) in 0.14 sec. Users per second: 554\n",
      "EvaluatorHoldout: Processed 80 ( 100.00% ) in 0.12 sec. Users per second: 673\n",
      "EvaluatorHoldout: Processed 80 ( 100.00% ) in 0.19 sec. Users per second: 415\n",
      "EvaluatorHoldout: Processed 80 ( 100.00% ) in 0.12 sec. Users per second: 673\n",
      "EvaluatorHoldout: Processed 80 ( 100.00% ) in 0.15 sec. Users per second: 543\n",
      "EvaluatorHoldout: Processed 80 ( 100.00% ) in 0.15 sec. Users per second: 536\n",
      "EvaluatorHoldout: Processed 80 ( 100.00% ) in 0.19 sec. Users per second: 414\n",
      "EvaluatorHoldout: Processed 80 ( 100.00% ) in 0.17 sec. Users per second: 481\n",
      "EvaluatorHoldout: Processed 80 ( 100.00% ) in 0.15 sec. Users per second: 539\n",
      "EvaluatorHoldout: Processed 80 ( 100.00% ) in 0.14 sec. Users per second: 557\n",
      "EvaluatorHoldout: Processed 80 ( 100.00% ) in 0.17 sec. Users per second: 467\n",
      "EvaluatorHoldout: Processed 80 ( 100.00% ) in 0.16 sec. Users per second: 497\n",
      "EvaluatorHoldout: Processed 80 ( 100.00% ) in 0.29 sec. Users per second: 278\n",
      "EvaluatorHoldout: Processed 80 ( 100.00% ) in 0.26 sec. Users per second: 311\n",
      "EvaluatorHoldout: Processed 80 ( 100.00% ) in 0.26 sec. Users per second: 310\n",
      "EvaluatorHoldout: Processed 80 ( 100.00% ) in 0.28 sec. Users per second: 288\n",
      "EvaluatorHoldout: Processed 80 ( 100.00% ) in 0.27 sec. Users per second: 294\n",
      "EvaluatorHoldout: Processed 80 ( 100.00% ) in 0.31 sec. Users per second: 258\n",
      "EvaluatorHoldout: Processed 80 ( 100.00% ) in 0.29 sec. Users per second: 278\n",
      "EvaluatorHoldout: Processed 80 ( 100.00% ) in 0.31 sec. Users per second: 259\n",
      "EvaluatorHoldout: Processed 80 ( 100.00% ) in 0.31 sec. Users per second: 256\n",
      "EvaluatorHoldout: Processed 80 ( 100.00% ) in 0.31 sec. Users per second: 259\n",
      "Warning: the URM_test filtered in (200, -1) has 38 of 4106 total users in the original URM_test. (0.01)\n",
      "EvaluatorHoldout: Processed 38 ( 100.00% ) in 0.05 sec. Users per second: 698\n",
      "EvaluatorHoldout: Processed 38 ( 100.00% ) in 0.05 sec. Users per second: 713\n",
      "EvaluatorHoldout: Processed 38 ( 100.00% ) in 0.06 sec. Users per second: 589\n",
      "EvaluatorHoldout: Processed 38 ( 100.00% ) in 0.09 sec. Users per second: 422\n",
      "EvaluatorHoldout: Processed 38 ( 100.00% ) in 0.19 sec. Users per second: 204\n",
      "EvaluatorHoldout: Processed 38 ( 100.00% ) in 0.18 sec. Users per second: 217\n",
      "EvaluatorHoldout: Processed 38 ( 100.00% ) in 0.18 sec. Users per second: 209\n",
      "EvaluatorHoldout: Processed 38 ( 100.00% ) in 0.19 sec. Users per second: 201\n",
      "EvaluatorHoldout: Processed 38 ( 100.00% ) in 0.19 sec. Users per second: 199\n",
      "EvaluatorHoldout: Processed 38 ( 100.00% ) in 0.19 sec. Users per second: 201\n",
      "EvaluatorHoldout: Processed 38 ( 100.00% ) in 0.09 sec. Users per second: 437\n",
      "EvaluatorHoldout: Processed 38 ( 100.00% ) in 0.08 sec. Users per second: 459\n",
      "EvaluatorHoldout: Processed 38 ( 100.00% ) in 0.04 sec. Users per second: 990\n",
      "EvaluatorHoldout: Processed 38 ( 100.00% ) in 0.07 sec. Users per second: 521\n",
      "EvaluatorHoldout: Processed 38 ( 100.00% ) in 0.09 sec. Users per second: 444\n",
      "EvaluatorHoldout: Processed 38 ( 100.00% ) in 0.08 sec. Users per second: 455\n",
      "EvaluatorHoldout: Processed 38 ( 100.00% ) in 0.06 sec. Users per second: 597\n",
      "EvaluatorHoldout: Processed 38 ( 100.00% ) in 0.10 sec. Users per second: 390\n",
      "EvaluatorHoldout: Processed 38 ( 100.00% ) in 0.10 sec. Users per second: 388\n",
      "EvaluatorHoldout: Processed 38 ( 100.00% ) in 0.10 sec. Users per second: 390\n",
      "EvaluatorHoldout: Processed 38 ( 100.00% ) in 0.10 sec. Users per second: 400\n",
      "EvaluatorHoldout: Processed 38 ( 100.00% ) in 0.14 sec. Users per second: 277\n",
      "EvaluatorHoldout: Processed 38 ( 100.00% ) in 0.07 sec. Users per second: 568\n",
      "EvaluatorHoldout: Processed 38 ( 100.00% ) in 0.09 sec. Users per second: 413\n",
      "EvaluatorHoldout: Processed 38 ( 100.00% ) in 0.10 sec. Users per second: 371\n",
      "EvaluatorHoldout: Processed 38 ( 100.00% ) in 0.07 sec. Users per second: 530\n",
      "EvaluatorHoldout: Processed 38 ( 100.00% ) in 0.09 sec. Users per second: 416\n"
     ]
    },
    {
     "name": "stdout",
     "output_type": "stream",
     "text": [
      "EvaluatorHoldout: Processed 38 ( 100.00% ) in 0.13 sec. Users per second: 294\n",
      "EvaluatorHoldout: Processed 38 ( 100.00% ) in 0.06 sec. Users per second: 595\n",
      "EvaluatorHoldout: Processed 38 ( 100.00% ) in 0.08 sec. Users per second: 459\n",
      "EvaluatorHoldout: Processed 38 ( 100.00% ) in 0.12 sec. Users per second: 313\n",
      "EvaluatorHoldout: Processed 38 ( 100.00% ) in 0.10 sec. Users per second: 379\n",
      "EvaluatorHoldout: Processed 38 ( 100.00% ) in 0.13 sec. Users per second: 298\n",
      "EvaluatorHoldout: Processed 38 ( 100.00% ) in 0.11 sec. Users per second: 357\n",
      "EvaluatorHoldout: Processed 38 ( 100.00% ) in 0.18 sec. Users per second: 208\n",
      "EvaluatorHoldout: Processed 38 ( 100.00% ) in 0.09 sec. Users per second: 402\n",
      "EvaluatorHoldout: Processed 38 ( 100.00% ) in 0.12 sec. Users per second: 325\n",
      "EvaluatorHoldout: Processed 38 ( 100.00% ) in 0.09 sec. Users per second: 432\n",
      "EvaluatorHoldout: Processed 38 ( 100.00% ) in 0.13 sec. Users per second: 302\n",
      "EvaluatorHoldout: Processed 38 ( 100.00% ) in 0.13 sec. Users per second: 285\n",
      "EvaluatorHoldout: Processed 38 ( 100.00% ) in 0.11 sec. Users per second: 347\n",
      "EvaluatorHoldout: Processed 38 ( 100.00% ) in 0.11 sec. Users per second: 356\n",
      "EvaluatorHoldout: Processed 38 ( 100.00% ) in 0.14 sec. Users per second: 271\n",
      "EvaluatorHoldout: Processed 38 ( 100.00% ) in 0.10 sec. Users per second: 365\n",
      "EvaluatorHoldout: Processed 38 ( 100.00% ) in 0.22 sec. Users per second: 176\n",
      "EvaluatorHoldout: Processed 38 ( 100.00% ) in 0.21 sec. Users per second: 180\n",
      "EvaluatorHoldout: Processed 38 ( 100.00% ) in 0.21 sec. Users per second: 178\n",
      "EvaluatorHoldout: Processed 38 ( 100.00% ) in 0.24 sec. Users per second: 162\n",
      "EvaluatorHoldout: Processed 38 ( 100.00% ) in 0.21 sec. Users per second: 179\n",
      "EvaluatorHoldout: Processed 38 ( 100.00% ) in 0.25 sec. Users per second: 154\n",
      "EvaluatorHoldout: Processed 38 ( 100.00% ) in 0.22 sec. Users per second: 169\n",
      "EvaluatorHoldout: Processed 38 ( 100.00% ) in 0.24 sec. Users per second: 157\n",
      "EvaluatorHoldout: Processed 38 ( 100.00% ) in 0.24 sec. Users per second: 156\n",
      "EvaluatorHoldout: Processed 38 ( 100.00% ) in 0.24 sec. Users per second: 159\n"
     ]
    }
   ],
   "source": [
    "f_ranges = [\n",
    "    (0,3),\n",
    "    (3,5),\n",
    "    (5,10),\n",
    "    (10,17),\n",
    "    (17,30),\n",
    "    (30,100),\n",
    "    (100,200),\n",
    "    (200,-1)\n",
    "]\n",
    "MAP_merged_per_group = []\n",
    "MAP_combo_per_group = []\n",
    "cutoff = 10\n",
    "\n",
    "for f_range in f_ranges:\n",
    "    URM_test_group = parser.filter_URM_test_by_range(URM_train, URM_test, f_range)\n",
    "    evaluator_test = EvaluatorHoldout(URM_test_group, cutoff_list=[cutoff])\n",
    "    \n",
    "    merged_dict={}\n",
    "    for i in range (num_merged):\n",
    "        results, _ = evaluator_test.evaluateRecommender(merged_hybrid[i])\n",
    "        key='merged'+str(i+1)\n",
    "        merged_dict[key]=results[cutoff][\"MAP\"]\n",
    "    \n",
    "    MAP_merged_per_group.append(merged_dict)\n",
    " \n",
    "    combo_dict={}\n",
    "    for i in range (num_combo):\n",
    "        results, _ = evaluator_test.evaluateRecommender(combo_hybrid[i])\n",
    "        key='combo'+str(i+1)\n",
    "        combo_dict[key]=results[cutoff][\"MAP\"]\n",
    "    \n",
    "    MAP_combo_per_group.append(combo_dict)"
   ]
  },
  {
   "cell_type": "code",
   "execution_count": 68,
   "metadata": {},
   "outputs": [],
   "source": [
    "def check_if_present(key_list, el):\n",
    "    for key_val, combo_val in key_list:\n",
    "        if key_val == el[0] and combo_val == el[1]:\n",
    "            return True\n",
    "    return False"
   ]
  },
  {
   "cell_type": "code",
   "execution_count": 69,
   "metadata": {},
   "outputs": [
    {
     "name": "stdout",
     "output_type": "stream",
     "text": [
      "RANGE (0, 3)\n",
      "> MAP combo-icf_ucf_p3a:\t 0.06696568792416852\n",
      "> MAP combo-icf_ucf_rp3b:\t 0.06944128947220822\n",
      "> MAP combo-icf_p3a_rp3b:\t 0.06935470301194685\n",
      "> MAP combo-ucf_p3a_rp3b:\t 0.06838752874530261\n",
      "> MAP combo-icb_icf_sen:\t 0.07483243591900836\n",
      "> MAP combo-icf_sen_sbpr:\t 0.0644405416269374\n",
      "> MAP combo-icb_icf_ucf:\t 0.05942623908613309\n",
      "> MAP combo-icf_ucf_sen:\t 0.06561465870211454\n",
      "> MAP combo-icb_p3a_sen:\t 0.07850166862976055\n",
      "> MAP combo-icb_icf_p3a:\t 0.07880980425150037\n",
      "> MAP combo-icf_p3a_sen:\t 0.06497349823321558\n",
      "> MAP combo-p3a_sen_sbpr:\t 0.06497349823321558\n",
      "> MAP combo-icb_ucf_p3a:\t 0.08013804756295924\n",
      "> MAP combo-ucf_p3a_sen:\t 0.06497349823321558\n",
      "> MAP combo-icb_rp3b_sen:\t 0.07618591900835718\n",
      "> MAP combo-icb_icf_rp3b:\t 0.08200684278422796\n",
      "> MAP combo-icf_rp3b_sen:\t 0.06825817488361659\n",
      "> MAP combo-icb_p3a_rp3b:\t 0.0790075158449717\n",
      "> MAP combo-rp3b_sen_sbpr:\t 0.06681109428459255\n",
      "> MAP combo-icb_ucf_rp3b:\t 0.07977732907061533\n",
      "> MAP combo-ucf_rp3b_sen:\t 0.06804714229625893\n",
      "> MAP combo-icb_ucf_sen:\t 0.07321007908463738\n",
      "> MAP combo-ucf_sen_sbpr:\t 0.06441857367210725\n",
      "> MAP combo-icb_sen_sbpr:\t 0.0749488193392787\n",
      "> MAP combo-icb_icf_sbpr:\t 0.0735672920522744\n",
      "> MAP combo-icb_p3a_sbpr:\t 0.07881225811879523\n",
      "> MAP combo-icb_rp3b_sbpr:\t 0.07695923775870772\n",
      "> MAP combo-icb_ucf_sbpr:\t 0.06324106792304675\n",
      "> MAP combo-sslim_icb_icf:\t 0.07535230523304731\n",
      "> MAP combo-sslim_icb_ucf:\t 0.07645619496326211\n",
      "> MAP combo-sslim_icf_ucf:\t 0.07513881877839478\n",
      "> MAP combo-sslim_p3a_icb:\t 0.08045003926187672\n",
      "> MAP combo-sslim_p3a_icf:\t 0.07631737618486739\n",
      "> MAP combo-sslim_p3a_rp3b:\t 0.07628512535756356\n",
      "> MAP combo-sslim_p3a_ucf:\t 0.07823968908332869\n",
      "> MAP combo-sslim_rp3b_icb:\t 0.08104282348981995\n",
      "> MAP combo-sslim_rp3b_icf:\t 0.07628512535756356\n",
      "> MAP combo-sslim_rp3b_ucf:\t 0.07513881877839478\n",
      "> MAP merged-p3a_icb_icf:\t 0.07994863237796103\n",
      "> MAP merged-p3a_rp3b_icb:\t 0.07939382466767628\n",
      "> MAP merged-p3a_rp3b_icf:\t 0.06751044646362671\n",
      "> MAP merged-rp3b_icb_icf:\t 0.08321519715070953\n",
      "> MAP merged-sslim_icb_icf:\t 0.07741600762802177\n",
      "> MAP merged-sslim_p3a_icb:\t 0.0788665937517528\n",
      "> MAP merged-sslim_p3a_icf:\t 0.07972743376895325\n",
      "> MAP merged-sslim_p3a_rp3b:\t 0.07925664180081143\n",
      "> MAP merged-sslim_rp3b_icb:\t 0.08192761792585117\n",
      "> MAP merged-sslim_rp3b_icf:\t 0.07623534690672504\n",
      "> MAP merged-sen_icb_icf:\t 0.07651158225363172\n",
      "> MAP merged-sen_p3a_icb:\t 0.07686038196197208\n",
      "> MAP merged-sen_p3a_icf:\t 0.06497349823321558\n",
      "> MAP merged-sen_p3a_rp3b:\t 0.06862905939761064\n",
      "> MAP merged-sen_rp3b_icb:\t 0.08133167872567168\n",
      "> MAP merged-sen_rp3b_icf:\t 0.06942095742890798\n",
      "Max MAP is 0.08321519715070953 from rp3b_icb_icf(MERGED) with difference from previous max of 0.001208354366481576 from icb_icf_rp3b(COMBO) \n",
      "\n",
      "RANGE (3, 5)\n",
      "> MAP combo-icf_ucf_p3a:\t 0.07140227576974567\n",
      "> MAP combo-icf_ucf_rp3b:\t 0.06927505942135892\n",
      "> MAP combo-icf_p3a_rp3b:\t 0.0719264814359479\n",
      "> MAP combo-ucf_p3a_rp3b:\t 0.07117142037537909\n",
      "> MAP combo-icb_icf_sen:\t 0.07700820287954543\n",
      "> MAP combo-icf_sen_sbpr:\t 0.06747978307788982\n",
      "> MAP combo-icb_icf_ucf:\t 0.06695830942818896\n",
      "> MAP combo-icf_ucf_sen:\t 0.06420887632161298\n",
      "> MAP combo-icb_p3a_sen:\t 0.07718766221347978\n",
      "> MAP combo-icb_icf_p3a:\t 0.07646709286124088\n",
      "> MAP combo-icf_p3a_sen:\t 0.06932765073901048\n",
      "> MAP combo-p3a_sen_sbpr:\t 0.06932765073901048\n",
      "> MAP combo-icb_ucf_p3a:\t 0.07839111548233753\n",
      "> MAP combo-ucf_p3a_sen:\t 0.06932765073901048\n",
      "> MAP combo-icb_rp3b_sen:\t 0.07977624784853703\n",
      "> MAP combo-icb_icf_rp3b:\t 0.08257349124388715\n",
      "> MAP combo-icf_rp3b_sen:\t 0.06836324891402344\n",
      "> MAP combo-icb_p3a_rp3b:\t 0.08058663224325878\n",
      "> MAP combo-rp3b_sen_sbpr:\t 0.0676037483266399\n",
      "> MAP combo-icb_ucf_rp3b:\t 0.07967550474004867\n",
      "> MAP combo-ucf_rp3b_sen:\t 0.06836324891402346\n",
      "> MAP combo-icb_ucf_sen:\t 0.07976958855831491\n",
      "> MAP combo-ucf_sen_sbpr:\t 0.06954712273128798\n",
      "> MAP combo-icb_sen_sbpr:\t 0.08122285058601757\n",
      "> MAP combo-icb_icf_sbpr:\t 0.07400281397699643\n",
      "> MAP combo-icb_p3a_sbpr:\t 0.07681132694041475\n",
      "> MAP combo-icb_rp3b_sbpr:\t 0.08136389093790129\n",
      "> MAP combo-icb_ucf_sbpr:\t 0.06808833975357213\n",
      "> MAP combo-sslim_icb_icf:\t 0.08322815069803023\n",
      "> MAP combo-sslim_icb_ucf:\t 0.08071879354151303\n",
      "> MAP combo-sslim_icf_ucf:\t 0.08065720933621108\n",
      "> MAP combo-sslim_p3a_icb:\t 0.08540266508209711\n",
      "> MAP combo-sslim_p3a_icf:\t 0.07981848027028755\n",
      "> MAP combo-sslim_p3a_rp3b:\t 0.08028702110027416\n",
      "> MAP combo-sslim_p3a_ucf:\t 0.0799154668560865\n",
      "> MAP combo-sslim_rp3b_icb:\t 0.08502154878015462\n",
      "> MAP combo-sslim_rp3b_icf:\t 0.08028702110027416\n",
      "> MAP combo-sslim_rp3b_ucf:\t 0.08065720933621108\n",
      "> MAP merged-p3a_icb_icf:\t 0.07560377564680493\n",
      "> MAP merged-p3a_rp3b_icb:\t 0.07735431522006395\n",
      "> MAP merged-p3a_rp3b_icf:\t 0.0713855421686747\n",
      "> MAP merged-rp3b_icb_icf:\t 0.07814455099308804\n",
      "> MAP merged-sslim_icb_icf:\t 0.0847171566082926\n",
      "> MAP merged-sslim_p3a_icb:\t 0.08494488156708467\n",
      "> MAP merged-sslim_p3a_icf:\t 0.07712232148548846\n",
      "> MAP merged-sslim_p3a_rp3b:\t 0.07948927228187128\n",
      "> MAP merged-sslim_rp3b_icb:\t 0.084591085430156\n",
      "> MAP merged-sslim_rp3b_icf:\t 0.08011900208543929\n",
      "> MAP merged-sen_icb_icf:\t 0.07665935852252549\n",
      "> MAP merged-sen_p3a_icb:\t 0.07716000054640333\n",
      "> MAP merged-sen_p3a_icf:\t 0.06932765073901048\n",
      "> MAP merged-sen_p3a_rp3b:\t 0.06961382946753002\n",
      "> MAP merged-sen_rp3b_icb:\t 0.08013243449990441\n",
      "> MAP merged-sen_rp3b_icf:\t 0.06955065158593561\n",
      "Max MAP is 0.08540266508209711 from sslim_p3a_icb(COMBO) with difference from previous max of 0.002174514384066878 from sslim_icb_icf(COMBO) \n",
      "\n",
      "RANGE (5, 10)\n",
      "> MAP combo-icf_ucf_p3a:\t 0.07705535205535204\n",
      "> MAP combo-icf_ucf_rp3b:\t 0.07919925245874614\n",
      "> MAP combo-icf_p3a_rp3b:\t 0.0795132610006028\n",
      "> MAP combo-ucf_p3a_rp3b:\t 0.0782752584967775\n",
      "> MAP combo-icb_icf_sen:\t 0.08421546807622761\n",
      "> MAP combo-icf_sen_sbpr:\t 0.07686814474789161\n",
      "> MAP combo-icb_icf_ucf:\t 0.07028005105536757\n",
      "> MAP combo-icf_ucf_sen:\t 0.07585405686671509\n",
      "> MAP combo-icb_p3a_sen:\t 0.08492533603293102\n",
      "> MAP combo-icb_icf_p3a:\t 0.0807222840450689\n",
      "> MAP combo-icf_p3a_sen:\t 0.07766057196436942\n",
      "> MAP combo-p3a_sen_sbpr:\t 0.07766057196436942\n",
      "> MAP combo-icb_ucf_p3a:\t 0.0845506316234165\n",
      "> MAP combo-ucf_p3a_sen:\t 0.07766057196436942\n",
      "> MAP combo-icb_rp3b_sen:\t 0.09236480116226953\n",
      "> MAP combo-icb_icf_rp3b:\t 0.08735078798369939\n",
      "> MAP combo-icf_rp3b_sen:\t 0.07912976615508263\n",
      "> MAP combo-icb_p3a_rp3b:\t 0.08862511140992156\n",
      "> MAP combo-rp3b_sen_sbpr:\t 0.07751850821471079\n",
      "> MAP combo-icb_ucf_rp3b:\t 0.08796920964642485\n",
      "> MAP combo-ucf_rp3b_sen:\t 0.07908919491197973\n",
      "> MAP combo-icb_ucf_sen:\t 0.08491244339345609\n",
      "> MAP combo-ucf_sen_sbpr:\t 0.07744663915549994\n",
      "> MAP combo-icb_sen_sbpr:\t 0.08787420853876553\n",
      "> MAP combo-icb_icf_sbpr:\t 0.07564218481940004\n",
      "> MAP combo-icb_p3a_sbpr:\t 0.08295560218028578\n",
      "> MAP combo-icb_rp3b_sbpr:\t 0.08805350767376091\n",
      "> MAP combo-icb_ucf_sbpr:\t 0.07290742543907108\n",
      "> MAP combo-sslim_icb_icf:\t 0.08874833851099675\n",
      "> MAP combo-sslim_icb_ucf:\t 0.08963916709169874\n",
      "> MAP combo-sslim_icf_ucf:\t 0.0871074764429195\n",
      "> MAP combo-sslim_p3a_icb:\t 0.09044637383244981\n",
      "> MAP combo-sslim_p3a_icf:\t 0.08632316347506222\n",
      "> MAP combo-sslim_p3a_rp3b:\t 0.08675476422311865\n",
      "> MAP combo-sslim_p3a_ucf:\t 0.08734530120606071\n",
      "> MAP combo-sslim_rp3b_icb:\t 0.08989241536709895\n",
      "> MAP combo-sslim_rp3b_icf:\t 0.08626790930588399\n",
      "> MAP combo-sslim_rp3b_ucf:\t 0.08705048350617971\n",
      "> MAP merged-p3a_icb_icf:\t 0.08236960531264333\n",
      "> MAP merged-p3a_rp3b_icb:\t 0.08523709061683749\n",
      "> MAP merged-p3a_rp3b_icf:\t 0.07733136530604887\n",
      "> MAP merged-rp3b_icb_icf:\t 0.0861968903108144\n",
      "> MAP merged-sslim_icb_icf:\t 0.0833532325620934\n",
      "> MAP merged-sslim_p3a_icb:\t 0.08973325373641833\n",
      "> MAP merged-sslim_p3a_icf:\t 0.08593729875375446\n",
      "> MAP merged-sslim_p3a_rp3b:\t 0.08743269037572837\n",
      "> MAP merged-sslim_rp3b_icb:\t 0.09025720236163276\n",
      "> MAP merged-sslim_rp3b_icf:\t 0.0869098365300897\n",
      "> MAP merged-sen_icb_icf:\t 0.08381558373646986\n",
      "> MAP merged-sen_p3a_icb:\t 0.08594026109848897\n",
      "> MAP merged-sen_p3a_icf:\t 0.07766057196436942\n",
      "> MAP merged-sen_p3a_rp3b:\t 0.07680947744238888\n",
      "> MAP merged-sen_rp3b_icb:\t 0.08924939336331743\n",
      "> MAP merged-sen_rp3b_icf:\t 0.07869587924967673\n",
      "Max MAP is 0.09236480116226953 from icb_rp3b_sen(COMBO) with difference from previous max of 0.0074394651293385045 from icb_p3a_sen(COMBO) \n",
      "\n",
      "RANGE (10, 17)\n",
      "> MAP combo-icf_ucf_p3a:\t 0.05783814787420556\n",
      "> MAP combo-icf_ucf_rp3b:\t 0.057775067702952335\n",
      "> MAP combo-icf_p3a_rp3b:\t 0.057083802949187586\n",
      "> MAP combo-ucf_p3a_rp3b:\t 0.05759248008046087\n",
      "> MAP combo-icb_icf_sen:\t 0.07183247041420122\n",
      "> MAP combo-icf_sen_sbpr:\t 0.05993961522807678\n",
      "> MAP combo-icb_icf_ucf:\t 0.06735319612723463\n",
      "> MAP combo-icf_ucf_sen:\t 0.06050495444726218\n",
      "> MAP combo-icb_p3a_sen:\t 0.0712989672364673\n",
      "> MAP combo-icb_icf_p3a:\t 0.06900807347922737\n",
      "> MAP combo-icf_p3a_sen:\t 0.056911263149243926\n",
      "> MAP combo-p3a_sen_sbpr:\t 0.056911263149243926\n",
      "> MAP combo-icb_ucf_p3a:\t 0.0706573056573057\n",
      "> MAP combo-ucf_p3a_sen:\t 0.056911263149243926\n",
      "> MAP combo-icb_rp3b_sen:\t 0.07507381774208703\n",
      "> MAP combo-icb_icf_rp3b:\t 0.0694061952114837\n",
      "> MAP combo-icf_rp3b_sen:\t 0.057735394946933416\n",
      "> MAP combo-icb_p3a_rp3b:\t 0.06857839943176482\n",
      "> MAP combo-rp3b_sen_sbpr:\t 0.05701052330860026\n",
      "> MAP combo-icb_ucf_rp3b:\t 0.06889803172255095\n",
      "> MAP combo-ucf_rp3b_sen:\t 0.05778118249272095\n",
      "> MAP combo-icb_ucf_sen:\t 0.0743051935600013\n",
      "> MAP combo-ucf_sen_sbpr:\t 0.06095310494348957\n",
      "> MAP combo-icb_sen_sbpr:\t 0.07169241726934039\n",
      "> MAP combo-icb_icf_sbpr:\t 0.06617561480542253\n",
      "> MAP combo-icb_p3a_sbpr:\t 0.07054513595378988\n",
      "> MAP combo-icb_rp3b_sbpr:\t 0.0720894383394384\n",
      "> MAP combo-icb_ucf_sbpr:\t 0.06565115173288248\n",
      "> MAP combo-sslim_icb_icf:\t 0.07549039635578106\n",
      "> MAP combo-sslim_icb_ucf:\t 0.07631046304123235\n",
      "> MAP combo-sslim_icf_ucf:\t 0.06449572062552837\n",
      "> MAP combo-sslim_p3a_icb:\t 0.07512530427193893\n",
      "> MAP combo-sslim_p3a_icf:\t 0.06637560267367966\n",
      "> MAP combo-sslim_p3a_rp3b:\t 0.06593797939951791\n",
      "> MAP combo-sslim_p3a_ucf:\t 0.06582399971823055\n",
      "> MAP combo-sslim_rp3b_icb:\t 0.07508475098619334\n",
      "> MAP combo-sslim_rp3b_icf:\t 0.06609911633950101\n",
      "> MAP combo-sslim_rp3b_ucf:\t 0.06439651427632201\n",
      "> MAP merged-p3a_icb_icf:\t 0.07118403853980781\n",
      "> MAP merged-p3a_rp3b_icb:\t 0.0726284105851414\n",
      "> MAP merged-p3a_rp3b_icf:\t 0.05873234537898003\n",
      "> MAP merged-rp3b_icb_icf:\t 0.07058337051125518\n",
      "> MAP merged-sslim_icb_icf:\t 0.07417436151811156\n",
      "> MAP merged-sslim_p3a_icb:\t 0.07488785475564327\n",
      "> MAP merged-sslim_p3a_icf:\t 0.0639095568783069\n",
      "> MAP merged-sslim_p3a_rp3b:\t 0.06526170811026585\n",
      "> MAP merged-sslim_rp3b_icb:\t 0.07526353765536464\n",
      "> MAP merged-sslim_rp3b_icf:\t 0.06513131633323946\n",
      "> MAP merged-sen_icb_icf:\t 0.06984655301963\n",
      "> MAP merged-sen_p3a_icb:\t 0.07278104552143017\n",
      "> MAP merged-sen_p3a_icf:\t 0.056911263149243926\n",
      "> MAP merged-sen_p3a_rp3b:\t 0.0578229196017658\n",
      "> MAP merged-sen_rp3b_icb:\t 0.07196134083153315\n",
      "> MAP merged-sen_rp3b_icf:\t 0.054620697144735615\n",
      "Max MAP is 0.07631046304123235 from sslim_icb_ucf(COMBO) with difference from previous max of 0.0008200666854512872 from sslim_icb_icf(COMBO) \n",
      "\n",
      "RANGE (17, 30)\n",
      "> MAP combo-icf_ucf_p3a:\t 0.06373707566407061\n",
      "> MAP combo-icf_ucf_rp3b:\t 0.06422909873249433\n",
      "> MAP combo-icf_p3a_rp3b:\t 0.06261404519362926\n",
      "> MAP combo-ucf_p3a_rp3b:\t 0.0652965859990478\n",
      "> MAP combo-icb_icf_sen:\t 0.07245462125616144\n",
      "> MAP combo-icf_sen_sbpr:\t 0.06988352377359174\n",
      "> MAP combo-icb_icf_ucf:\t 0.07014181960277038\n",
      "> MAP combo-icf_ucf_sen:\t 0.06656496752634279\n",
      "> MAP combo-icb_p3a_sen:\t 0.07032761114255177\n",
      "> MAP combo-icb_icf_p3a:\t 0.0681811495584841\n",
      "> MAP combo-icf_p3a_sen:\t 0.06434933660315663\n",
      "> MAP combo-p3a_sen_sbpr:\t 0.06434933660315663\n",
      "> MAP combo-icb_ucf_p3a:\t 0.07135016560859399\n",
      "> MAP combo-ucf_p3a_sen:\t 0.06434933660315663\n",
      "> MAP combo-icb_rp3b_sen:\t 0.07559830355458542\n",
      "> MAP combo-icb_icf_rp3b:\t 0.07016178599340135\n",
      "> MAP combo-icf_rp3b_sen:\t 0.06326431558286401\n",
      "> MAP combo-icb_p3a_rp3b:\t 0.07127141330027581\n",
      "> MAP combo-rp3b_sen_sbpr:\t 0.06407140162233543\n",
      "> MAP combo-icb_ucf_rp3b:\t 0.0699845203125582\n",
      "> MAP combo-ucf_rp3b_sen:\t 0.06347516977928698\n",
      "> MAP combo-icb_ucf_sen:\t 0.07662719907808441\n",
      "> MAP combo-ucf_sen_sbpr:\t 0.06574388480160977\n",
      "> MAP combo-icb_sen_sbpr:\t 0.07405121386415352\n",
      "> MAP combo-icb_icf_sbpr:\t 0.06219262313489823\n",
      "> MAP combo-icb_p3a_sbpr:\t 0.07009328236104861\n",
      "> MAP combo-icb_rp3b_sbpr:\t 0.07354204443520476\n",
      "> MAP combo-icb_ucf_sbpr:\t 0.0667274593293269\n",
      "> MAP combo-sslim_icb_icf:\t 0.07501432151808096\n",
      "> MAP combo-sslim_icb_ucf:\t 0.07590576383354708\n",
      "> MAP combo-sslim_icf_ucf:\t 0.07096278362316445\n",
      "> MAP combo-sslim_p3a_icb:\t 0.07749638914233874\n",
      "> MAP combo-sslim_p3a_icf:\t 0.07066562495588695\n",
      "> MAP combo-sslim_p3a_rp3b:\t 0.07049220754138295\n",
      "> MAP combo-sslim_p3a_ucf:\t 0.07148807759285573\n",
      "> MAP combo-sslim_rp3b_icb:\t 0.07587833190246489\n",
      "> MAP combo-sslim_rp3b_icf:\t 0.07049220754138295\n",
      "> MAP combo-sslim_rp3b_ucf:\t 0.07096693827502708\n",
      "> MAP merged-p3a_icb_icf:\t 0.06834306869323852\n",
      "> MAP merged-p3a_rp3b_icb:\t 0.07101985474438785\n",
      "> MAP merged-p3a_rp3b_icf:\t 0.06953567835359008\n",
      "> MAP merged-rp3b_icb_icf:\t 0.06981077405495306\n",
      "> MAP merged-sslim_icb_icf:\t 0.0730048848439584\n",
      "> MAP merged-sslim_p3a_icb:\t 0.07654147048368495\n",
      "> MAP merged-sslim_p3a_icf:\t 0.0689007288446411\n",
      "> MAP merged-sslim_p3a_rp3b:\t 0.07095663024689226\n",
      "> MAP merged-sslim_rp3b_icb:\t 0.07616389283500614\n",
      "> MAP merged-sslim_rp3b_icf:\t 0.0698007050396088\n",
      "> MAP merged-sen_icb_icf:\t 0.07292932151166454\n",
      "> MAP merged-sen_p3a_icb:\t 0.07214155460335428\n",
      "> MAP merged-sen_p3a_icf:\t 0.06434933660315663\n",
      "> MAP merged-sen_p3a_rp3b:\t 0.06619154292541395\n",
      "> MAP merged-sen_rp3b_icb:\t 0.07586687372553251\n",
      "> MAP merged-sen_rp3b_icf:\t 0.05947753568509091\n",
      "Max MAP is 0.07749638914233874 from sslim_p3a_icb(COMBO) with difference from previous max of 0.0008691900642543299 from icb_ucf_sen(COMBO) \n",
      "\n",
      "RANGE (30, 100)\n",
      "> MAP combo-icf_ucf_p3a:\t 0.04643135974057571\n",
      "> MAP combo-icf_ucf_rp3b:\t 0.0422761820777694\n",
      "> MAP combo-icf_p3a_rp3b:\t 0.042883947214475436\n",
      "> MAP combo-ucf_p3a_rp3b:\t 0.045497993187625575\n",
      "> MAP combo-icb_icf_sen:\t 0.053869412938298646\n",
      "> MAP combo-icf_sen_sbpr:\t 0.04714691637972063\n",
      "> MAP combo-icb_icf_ucf:\t 0.0516812091481974\n",
      "> MAP combo-icf_ucf_sen:\t 0.04876430386259798\n",
      "> MAP combo-icb_p3a_sen:\t 0.0507838233739643\n",
      "> MAP combo-icb_icf_p3a:\t 0.04963731732227447\n",
      "> MAP combo-icf_p3a_sen:\t 0.04564601415278759\n",
      "> MAP combo-p3a_sen_sbpr:\t 0.04564601415278759\n",
      "> MAP combo-icb_ucf_p3a:\t 0.05212620329102268\n",
      "> MAP combo-ucf_p3a_sen:\t 0.04564601415278759\n",
      "> MAP combo-icb_rp3b_sen:\t 0.05391921762674135\n",
      "> MAP combo-icb_icf_rp3b:\t 0.047816948689508434\n",
      "> MAP combo-icf_rp3b_sen:\t 0.042718998483457525\n",
      "> MAP combo-icb_p3a_rp3b:\t 0.04847578612117474\n",
      "> MAP combo-rp3b_sen_sbpr:\t 0.04182514040808605\n",
      "> MAP combo-icb_ucf_rp3b:\t 0.048413800102132545\n",
      "> MAP combo-ucf_rp3b_sen:\t 0.041951302250004596\n",
      "> MAP combo-icb_ucf_sen:\t 0.0550622852731273\n",
      "> MAP combo-ucf_sen_sbpr:\t 0.04575713153858111\n",
      "> MAP combo-icb_sen_sbpr:\t 0.05337397155541659\n",
      "> MAP combo-icb_icf_sbpr:\t 0.04684800529052263\n",
      "> MAP combo-icb_p3a_sbpr:\t 0.05016528509019617\n",
      "> MAP combo-icb_rp3b_sbpr:\t 0.04991869459576085\n",
      "> MAP combo-icb_ucf_sbpr:\t 0.05210145117717872\n",
      "> MAP combo-sslim_icb_icf:\t 0.05556195904997448\n",
      "> MAP combo-sslim_icb_ucf:\t 0.0555534529336071\n",
      "> MAP combo-sslim_icf_ucf:\t 0.05131524704390059\n",
      "> MAP combo-sslim_p3a_icb:\t 0.05435266876723727\n",
      "> MAP combo-sslim_p3a_icf:\t 0.05176518129246877\n",
      "> MAP combo-sslim_p3a_rp3b:\t 0.05179525994802635\n",
      "> MAP combo-sslim_p3a_ucf:\t 0.05109220018360689\n",
      "> MAP combo-sslim_rp3b_icb:\t 0.05339666297908406\n",
      "> MAP combo-sslim_rp3b_icf:\t 0.05184528123367982\n",
      "> MAP combo-sslim_rp3b_ucf:\t 0.05140393726669043\n",
      "> MAP merged-p3a_icb_icf:\t 0.04820294301912617\n",
      "> MAP merged-p3a_rp3b_icb:\t 0.05027080654526608\n",
      "> MAP merged-p3a_rp3b_icf:\t 0.045476578420498334\n",
      "> MAP merged-rp3b_icb_icf:\t 0.04807023589909924\n",
      "> MAP merged-sslim_icb_icf:\t 0.05137246520929929\n",
      "> MAP merged-sslim_p3a_icb:\t 0.05509699422198284\n",
      "> MAP merged-sslim_p3a_icf:\t 0.04930362277236707\n",
      "> MAP merged-sslim_p3a_rp3b:\t 0.05081515907767962\n",
      "> MAP merged-sslim_rp3b_icb:\t 0.05048081322780283\n",
      "> MAP merged-sslim_rp3b_icf:\t 0.05165011628675881\n",
      "> MAP merged-sen_icb_icf:\t 0.04915512004432823\n",
      "> MAP merged-sen_p3a_icb:\t 0.050188370491520036\n",
      "> MAP merged-sen_p3a_icf:\t 0.04564601415278759\n",
      "> MAP merged-sen_p3a_rp3b:\t 0.04499577303604854\n",
      "> MAP merged-sen_rp3b_icb:\t 0.04973052380807581\n",
      "> MAP merged-sen_rp3b_icf:\t 0.04334582869972172\n",
      "Max MAP is 0.05556195904997448 from sslim_icb_icf(COMBO) with difference from previous max of 0.000499673776847176 from icb_ucf_sen(COMBO) \n",
      "\n",
      "RANGE (100, 200)\n",
      "> MAP combo-icf_ucf_p3a:\t 0.03894651518014612\n",
      "> MAP combo-icf_ucf_rp3b:\t 0.03856787761400855\n",
      "> MAP combo-icf_p3a_rp3b:\t 0.03838420414462081\n",
      "> MAP combo-ucf_p3a_rp3b:\t 0.03904690255731921\n",
      "> MAP combo-icb_icf_sen:\t 0.04056415343915344\n",
      "> MAP combo-icf_sen_sbpr:\t 0.035501267636684285\n",
      "> MAP combo-icb_icf_ucf:\t 0.0406054894179894\n",
      "> MAP combo-icf_ucf_sen:\t 0.03698065476190475\n",
      "> MAP combo-icb_p3a_sen:\t 0.037486693751574714\n",
      "> MAP combo-icb_icf_p3a:\t 0.03698222946586042\n",
      "> MAP combo-icf_p3a_sen:\t 0.039423776455026455\n",
      "> MAP combo-p3a_sen_sbpr:\t 0.039423776455026455\n",
      "> MAP combo-icb_ucf_p3a:\t 0.043258298689846306\n",
      "> MAP combo-ucf_p3a_sen:\t 0.039423776455026455\n",
      "> MAP combo-icb_rp3b_sen:\t 0.04125534611992945\n",
      "> MAP combo-icb_icf_rp3b:\t 0.03905175264550264\n",
      "> MAP combo-icf_rp3b_sen:\t 0.03810011967750063\n",
      "> MAP combo-icb_p3a_rp3b:\t 0.04160419816074577\n",
      "> MAP combo-rp3b_sen_sbpr:\t 0.03801331412194507\n",
      "> MAP combo-icb_ucf_rp3b:\t 0.040857859347442675\n",
      "> MAP combo-ucf_rp3b_sen:\t 0.03825636967750063\n",
      "> MAP combo-icb_ucf_sen:\t 0.04260587522045854\n",
      "> MAP combo-ucf_sen_sbpr:\t 0.0354619708994709\n",
      "> MAP combo-icb_sen_sbpr:\t 0.04014566798941798\n",
      "> MAP combo-icb_icf_sbpr:\t 0.03910063932980599\n",
      "> MAP combo-icb_p3a_sbpr:\t 0.038669398778029725\n",
      "> MAP combo-icb_rp3b_sbpr:\t 0.041507251511715804\n",
      "> MAP combo-icb_ucf_sbpr:\t 0.041601387314184925\n",
      "> MAP combo-sslim_icb_icf:\t 0.041239473104056436\n",
      "> MAP combo-sslim_icb_ucf:\t 0.043967206790123455\n",
      "> MAP combo-sslim_icf_ucf:\t 0.039947751322751315\n",
      "> MAP combo-sslim_p3a_icb:\t 0.043383487654320985\n",
      "> MAP combo-sslim_p3a_icf:\t 0.0415798611111111\n",
      "> MAP combo-sslim_p3a_rp3b:\t 0.0415798611111111\n",
      "> MAP combo-sslim_p3a_ucf:\t 0.040043627173091456\n",
      "> MAP combo-sslim_rp3b_icb:\t 0.04462626763668429\n",
      "> MAP combo-sslim_rp3b_icf:\t 0.0414548611111111\n",
      "> MAP combo-sslim_rp3b_ucf:\t 0.03986838624338624\n",
      "> MAP merged-p3a_icb_icf:\t 0.042454309964726634\n",
      "> MAP merged-p3a_rp3b_icb:\t 0.042118551587301586\n",
      "> MAP merged-p3a_rp3b_icf:\t 0.03879935909549004\n",
      "> MAP merged-rp3b_icb_icf:\t 0.03845701058201058\n",
      "> MAP merged-sslim_icb_icf:\t 0.04141672178130511\n",
      "> MAP merged-sslim_p3a_icb:\t 0.04256327160493827\n",
      "> MAP merged-sslim_p3a_icf:\t 0.03973980379188712\n",
      "> MAP merged-sslim_p3a_rp3b:\t 0.04181029541446208\n",
      "> MAP merged-sslim_rp3b_icb:\t 0.041608686067019396\n",
      "> MAP merged-sslim_rp3b_icf:\t 0.0418501984126984\n",
      "> MAP merged-sen_icb_icf:\t 0.038116622574955905\n",
      "> MAP merged-sen_p3a_icb:\t 0.04177758881330308\n",
      "> MAP merged-sen_p3a_icf:\t 0.039423776455026455\n",
      "> MAP merged-sen_p3a_rp3b:\t 0.039494874338624336\n",
      "> MAP merged-sen_rp3b_icb:\t 0.04104888668430335\n",
      "> MAP merged-sen_rp3b_icf:\t 0.0372730930335097\n",
      "Max MAP is 0.04462626763668429 from sslim_rp3b_icb(COMBO) with difference from previous max of 0.0006590608465608383 from sslim_icb_ucf(COMBO) \n",
      "\n",
      "RANGE (200, -1)\n",
      "> MAP combo-icf_ucf_p3a:\t 0.03532372598162072\n",
      "> MAP combo-icf_ucf_rp3b:\t 0.03347013366750209\n",
      "> MAP combo-icf_p3a_rp3b:\t 0.03162176274018379\n",
      "> MAP combo-ucf_p3a_rp3b:\t 0.03703111946532999\n",
      "> MAP combo-icb_icf_sen:\t 0.04807539682539683\n",
      "> MAP combo-icf_sen_sbpr:\t 0.03698517126148705\n",
      "> MAP combo-icb_icf_ucf:\t 0.03215956558061821\n",
      "> MAP combo-icf_ucf_sen:\t 0.030309106098579775\n",
      "> MAP combo-icb_p3a_sen:\t 0.043636173767752716\n",
      "> MAP combo-icb_icf_p3a:\t 0.04614661654135338\n",
      "> MAP combo-icf_p3a_sen:\t 0.03588450292397661\n",
      "> MAP combo-p3a_sen_sbpr:\t 0.03588450292397661\n",
      "> MAP combo-icb_ucf_p3a:\t 0.04029135338345865\n",
      "> MAP combo-ucf_p3a_sen:\t 0.03588450292397661\n",
      "> MAP combo-icb_rp3b_sen:\t 0.040189014202172094\n",
      "> MAP combo-icb_icf_rp3b:\t 0.0343922305764411\n",
      "> MAP combo-icf_rp3b_sen:\t 0.030680868838763576\n",
      "> MAP combo-icb_p3a_rp3b:\t 0.03749269005847953\n",
      "> MAP combo-rp3b_sen_sbpr:\t 0.030665204678362576\n",
      "> MAP combo-icb_ucf_rp3b:\t 0.03700292397660818\n",
      "> MAP combo-ucf_rp3b_sen:\t 0.030815580618212202\n",
      "> MAP combo-icb_ucf_sen:\t 0.034696115288220544\n",
      "> MAP combo-ucf_sen_sbpr:\t 0.028538011695906428\n",
      "> MAP combo-icb_sen_sbpr:\t 0.043390768588137\n",
      "> MAP combo-icb_icf_sbpr:\t 0.028436716791979944\n",
      "> MAP combo-icb_p3a_sbpr:\t 0.04235693400167085\n",
      "> MAP combo-icb_rp3b_sbpr:\t 0.03742794486215538\n",
      "> MAP combo-icb_ucf_sbpr:\t 0.034949874686716786\n",
      "> MAP combo-sslim_icb_icf:\t 0.046691729323308284\n",
      "> MAP combo-sslim_icb_ucf:\t 0.04444757727652465\n",
      "> MAP combo-sslim_icf_ucf:\t 0.042509398496240594\n",
      "> MAP combo-sslim_p3a_icb:\t 0.043118212197159576\n",
      "> MAP combo-sslim_p3a_icf:\t 0.0463189223057644\n",
      "> MAP combo-sslim_p3a_rp3b:\t 0.04695384294068503\n",
      "> MAP combo-sslim_p3a_ucf:\t 0.04211675020885547\n",
      "> MAP combo-sslim_rp3b_icb:\t 0.04458228905597328\n",
      "> MAP combo-sslim_rp3b_icf:\t 0.04695384294068503\n",
      "> MAP combo-sslim_rp3b_ucf:\t 0.042377819548872174\n",
      "> MAP merged-p3a_icb_icf:\t 0.03862468671679198\n",
      "> MAP merged-p3a_rp3b_icb:\t 0.04863408521303259\n",
      "> MAP merged-p3a_rp3b_icf:\t 0.04007205513784461\n",
      "> MAP merged-rp3b_icb_icf:\t 0.0385641186299081\n",
      "> MAP merged-sslim_icb_icf:\t 0.04578007518796993\n",
      "> MAP merged-sslim_p3a_icb:\t 0.049287802840434415\n",
      "> MAP merged-sslim_p3a_icf:\t 0.039817251461988314\n",
      "> MAP merged-sslim_p3a_rp3b:\t 0.04730680868838764\n",
      "> MAP merged-sslim_rp3b_icb:\t 0.04157268170426065\n",
      "> MAP merged-sslim_rp3b_icf:\t 0.04777360066833752\n",
      "> MAP merged-sen_icb_icf:\t 0.045398913951545536\n",
      "> MAP merged-sen_p3a_icb:\t 0.04835213032581454\n",
      "> MAP merged-sen_p3a_icf:\t 0.03588450292397661\n",
      "> MAP merged-sen_p3a_rp3b:\t 0.04052840434419381\n",
      "> MAP merged-sen_rp3b_icb:\t 0.0415810359231412\n",
      "> MAP merged-sen_rp3b_icf:\t 0.03143379281537175\n",
      "Max MAP is 0.049287802840434415 from sslim_p3a_icb(MERGED) with difference from previous max of 0.000653717627401823 from p3a_rp3b_icb(MERGED) \n",
      "\n"
     ]
    }
   ],
   "source": [
    "to_be_plotted = []\n",
    "for i in range(0, len (f_ranges)):\n",
    "    print(f\"RANGE {f_ranges[i]}\")\n",
    "    maxp = 0\n",
    "    difference = 0\n",
    "    old_name = ''\n",
    "    max_name=''\n",
    "    max_isCombo=None\n",
    "    old_isCombo=None\n",
    "    max_key=None\n",
    "    old_key=None\n",
    "    \n",
    "    combo_dict = MAP_combo_per_group[i]\n",
    "    for key in combo_dict:\n",
    "        value = combo_dict[key]\n",
    "        print(f\"> MAP combo-{combo_labels[key]}:\\t {value}\")\n",
    "        if value > maxp:\n",
    "            difference=value - maxp\n",
    "            maxp=value\n",
    "            old_name=max_name\n",
    "            old_isCombo=max_isCombo\n",
    "            max_name=combo_labels[key]\n",
    "            max_isCombo=True\n",
    "            old_key=max_key\n",
    "            max_key=key\n",
    "   \n",
    "    merged_dict = MAP_merged_per_group[i]\n",
    "    for key in merged_dict:\n",
    "        value = merged_dict[key]\n",
    "        print(f\"> MAP merged-{merged_labels[key]}:\\t {value}\")\n",
    "        if value > maxp:\n",
    "            difference=value - maxp\n",
    "            maxp=value\n",
    "            old_name=max_name\n",
    "            old_isCombo=max_isCombo\n",
    "            max_name=merged_labels[key]\n",
    "            max_isCombo=False\n",
    "            old_key=max_key\n",
    "            max_key=key\n",
    "            \n",
    "    if not check_if_present(to_be_plotted, (max_key, max_isCombo)):\n",
    "        to_be_plotted.append((max_key, max_isCombo))\n",
    "    \n",
    "    if not old_key is None and not check_if_present(to_be_plotted, (old_key, old_isCombo)):\n",
    "        to_be_plotted.append((old_key, old_isCombo))\n",
    "    \n",
    "    \n",
    "    print(f\"Max MAP is {maxp} from {max_name}({'COMBO' if max_isCombo else 'MERGED'}) with difference from previous max of {difference} from {old_name}({'COMBO' if old_isCombo else 'MERGED'}) \\n\")\n",
    "        "
   ]
  },
  {
   "cell_type": "code",
   "execution_count": 70,
   "metadata": {},
   "outputs": [
    {
     "data": {
      "text/plain": [
       "[('merged4', False),\n",
       " ('combo16', True),\n",
       " ('combo32', True),\n",
       " ('combo29', True),\n",
       " ('combo15', True),\n",
       " ('combo9', True),\n",
       " ('combo30', True),\n",
       " ('combo22', True),\n",
       " ('combo36', True),\n",
       " ('merged6', False),\n",
       " ('merged2', False)]"
      ]
     },
     "execution_count": 70,
     "metadata": {},
     "output_type": "execute_result"
    }
   ],
   "source": [
    "to_be_plotted"
   ]
  },
  {
   "cell_type": "code",
   "execution_count": 71,
   "metadata": {
    "scrolled": false
   },
   "outputs": [
    {
     "data": {
      "image/png": "[encoded data removed]",
      "text/plain": [
       "<Figure size 1440x1440 with 1 Axes>"
      ]
     },
     "metadata": {
      "needs_background": "light"
     },
     "output_type": "display_data"
    }
   ],
   "source": [
    "import matplotlib.pyplot as pyplot\n",
    "%matplotlib inline  \n",
    "pyplot.figure(figsize=(20,20))\n",
    "for key, isCombo in to_be_plotted:\n",
    "    l=[]\n",
    "    if isCombo:\n",
    "        for combo_dict in MAP_combo_per_group:\n",
    "            l.append(combo_dict[key])\n",
    "        style = '--o'\n",
    "        label = combo_labels[key]\n",
    "    else:\n",
    "        for merged_dict in MAP_merged_per_group:\n",
    "            l.append(merged_dict[key])\n",
    "        style = '--x'\n",
    "        label = merged_labels[key]\n",
    "    pyplot.plot(l, style, label = label)\n",
    "\n",
    "pyplot.xticks(ticks=range(0,len(f_ranges)), labels=f_ranges)\n",
    "pyplot.ylabel('MAP')\n",
    "pyplot.xlabel('User Group')\n",
    "pyplot.legend()\n",
    "pyplot.show()"
   ]
  }
 ],
 "metadata": {
  "kernelspec": {
   "display_name": "Python 3",
   "language": "python",
   "name": "python3"
  },
  "language_info": {
   "codemirror_mode": {
    "name": "ipython",
    "version": 3
   },
   "file_extension": ".py",
   "mimetype": "text/x-python",
   "name": "python",
   "nbconvert_exporter": "python",
   "pygments_lexer": "ipython3",
   "version": "3.6.10"
  }
 },
 "nbformat": 4,
 "nbformat_minor": 4
}
