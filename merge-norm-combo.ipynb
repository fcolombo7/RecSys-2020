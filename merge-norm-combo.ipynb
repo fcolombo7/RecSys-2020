{
 "cells": [
  {
   "cell_type": "code",
   "execution_count": 1,
   "metadata": {},
   "outputs": [],
   "source": [
    "from DataParser import DataParser\n",
    "import numpy as np\n",
    "import scipy.sparse as sps\n",
    "\n",
    "from Data_manager.split_functions.split_train_validation_random_holdout import \\\n",
    "split_train_in_two_percentage_global_sample\n",
    "\n",
    "import matplotlib.pyplot as plt\n",
    "from matplotlib.pyplot import figure\n",
    "from SimpleEvaluator import evaluator\n",
    "from Base.Evaluation.Evaluator import EvaluatorHoldout"
   ]
  },
  {
   "cell_type": "code",
   "execution_count": 2,
   "metadata": {},
   "outputs": [],
   "source": [
    "from Base.NonPersonalizedRecommender import TopPop, Random\n",
    "from Hybrid.HybridCombinationSearch import HybridCombinationMergedSearch,HybridCombinationSearch\n",
    "from KNN.ItemKNNCBFRecommender import ItemKNNCBFRecommender\n",
    "from KNN.UserKNNCFRecommender import UserKNNCFRecommender\n",
    "from KNN.ItemKNNCFRecommender import ItemKNNCFRecommender\n",
    "from MatrixFactorization.IALSRecommender import IALSRecommender\n",
    "from SLIM_BPR.Cython.SLIM_BPR_Cython import SLIM_BPR_Cython\n",
    "from SLIM_ElasticNet.SLIMElasticNetRecommender import SLIMElasticNetRecommender\n",
    "from GraphBased.P3alphaRecommender import P3alphaRecommender\n",
    "from GraphBased.RP3betaRecommender import RP3betaRecommender\n",
    "from MatrixFactorization.Cython.MatrixFactorization_Cython import MatrixFactorization_BPR_Cython, MatrixFactorization_FunkSVD_Cython\n",
    "from MatrixFactorization.PureSVDRecommender import PureSVDRecommender, PureSVDItemRecommender\n",
    "from MatrixFactorization.NMFRecommender import NMFRecommender"
   ]
  },
  {
   "cell_type": "code",
   "execution_count": 3,
   "metadata": {},
   "outputs": [
    {
     "name": "stdout",
     "output_type": "stream",
     "text": [
      "Warning: 27 (0.34 %) of 7947 users have no train items\n",
      "Warning: 3841 (48.33 %) of 7947 users have no sampled items\n"
     ]
    }
   ],
   "source": [
    "seed = 1205\n",
    "parser = DataParser()\n",
    "\n",
    "URM_all = parser.get_URM_all()\n",
    "ICM_all = parser.get_ICM_all()\n",
    "\n",
    "URM_train, URM_test = split_train_in_two_percentage_global_sample(URM_all, train_percentage=0.9, seed=seed)"
   ]
  },
  {
   "cell_type": "code",
   "execution_count": 4,
   "metadata": {},
   "outputs": [
    {
     "name": "stdout",
     "output_type": "stream",
     "text": [
      "Fitting RP3betaRecommender ...\n",
      "done.\n",
      "Fitting P3alphaRecommender ...\n",
      "done.\n",
      "Fitting ItemKNNCFRecommender ...\n",
      "Similarity column 25975 ( 100 % ), 4133.69 column/sec, elapsed time 0.10 min\n",
      "done.\n",
      "Fitting UserKNNCFRecommender ...\n",
      "Similarity column 7947 ( 100 % ), 10845.14 column/sec, elapsed time 0.01 min\n",
      "done.\n",
      "Fitting ItemKNNCBFRecommender ...\n",
      "Similarity column 25975 ( 100 % ), 2890.92 column/sec, elapsed time 0.15 min\n",
      "done.\n",
      "Fitting SLIMElasticNetRecommender ...\n",
      "done.\n",
      "Fitting SLIM_BPR_Recommender ...\n",
      "Unable to read memory status: list index out of range\n",
      "SLIM_BPR_Recommender: Epoch 1 of 130. Elapsed time 0.11 sec\n",
      "SLIM_BPR_Recommender: Epoch 2 of 130. Elapsed time 0.28 sec\n",
      "SLIM_BPR_Recommender: Epoch 3 of 130. Elapsed time 0.35 sec\n",
      "SLIM_BPR_Recommender: Epoch 4 of 130. Elapsed time 0.42 sec\n",
      "SLIM_BPR_Recommender: Epoch 5 of 130. Elapsed time 0.50 sec\n",
      "SLIM_BPR_Recommender: Epoch 6 of 130. Elapsed time 0.56 sec\n",
      "SLIM_BPR_Recommender: Epoch 7 of 130. Elapsed time 0.62 sec\n",
      "SLIM_BPR_Recommender: Epoch 8 of 130. Elapsed time 0.66 sec\n",
      "SLIM_BPR_Recommender: Epoch 9 of 130. Elapsed time 0.72 sec\n",
      "SLIM_BPR_Recommender: Epoch 10 of 130. Elapsed time 0.77 sec\n",
      "SLIM_BPR_Recommender: Epoch 11 of 130. Elapsed time 0.82 sec\n",
      "SLIM_BPR_Recommender: Epoch 12 of 130. Elapsed time 0.86 sec\n",
      "SLIM_BPR_Recommender: Epoch 13 of 130. Elapsed time 0.90 sec\n",
      "SLIM_BPR_Recommender: Epoch 14 of 130. Elapsed time 0.93 sec\n",
      "SLIM_BPR_Recommender: Epoch 15 of 130. Elapsed time 0.96 sec\n",
      "SLIM_BPR_Recommender: Epoch 16 of 130. Elapsed time 1.00 sec\n",
      "SLIM_BPR_Recommender: Epoch 17 of 130. Elapsed time 1.03 sec\n",
      "SLIM_BPR_Recommender: Epoch 18 of 130. Elapsed time 1.05 sec\n",
      "SLIM_BPR_Recommender: Epoch 19 of 130. Elapsed time 1.09 sec\n",
      "SLIM_BPR_Recommender: Epoch 20 of 130. Elapsed time 1.12 sec\n",
      "SLIM_BPR_Recommender: Epoch 21 of 130. Elapsed time 1.14 sec\n",
      "SLIM_BPR_Recommender: Epoch 22 of 130. Elapsed time 1.17 sec\n",
      "SLIM_BPR_Recommender: Epoch 23 of 130. Elapsed time 1.19 sec\n",
      "SLIM_BPR_Recommender: Epoch 24 of 130. Elapsed time 1.21 sec\n",
      "SLIM_BPR_Recommender: Epoch 25 of 130. Elapsed time 1.24 sec\n",
      "SLIM_BPR_Recommender: Epoch 26 of 130. Elapsed time 1.26 sec\n",
      "SLIM_BPR_Recommender: Epoch 27 of 130. Elapsed time 1.28 sec\n",
      "SLIM_BPR_Recommender: Epoch 28 of 130. Elapsed time 1.30 sec\n",
      "SLIM_BPR_Recommender: Epoch 29 of 130. Elapsed time 1.32 sec\n",
      "SLIM_BPR_Recommender: Epoch 30 of 130. Elapsed time 1.34 sec\n",
      "SLIM_BPR_Recommender: Epoch 31 of 130. Elapsed time 1.36 sec\n",
      "SLIM_BPR_Recommender: Epoch 32 of 130. Elapsed time 1.38 sec\n",
      "SLIM_BPR_Recommender: Epoch 33 of 130. Elapsed time 1.40 sec\n",
      "SLIM_BPR_Recommender: Epoch 34 of 130. Elapsed time 1.42 sec\n",
      "SLIM_BPR_Recommender: Epoch 35 of 130. Elapsed time 1.44 sec\n",
      "SLIM_BPR_Recommender: Epoch 36 of 130. Elapsed time 1.46 sec\n",
      "SLIM_BPR_Recommender: Epoch 37 of 130. Elapsed time 1.48 sec\n",
      "SLIM_BPR_Recommender: Epoch 38 of 130. Elapsed time 1.50 sec\n",
      "SLIM_BPR_Recommender: Epoch 39 of 130. Elapsed time 1.51 sec\n",
      "SLIM_BPR_Recommender: Epoch 40 of 130. Elapsed time 1.53 sec\n",
      "SLIM_BPR_Recommender: Epoch 41 of 130. Elapsed time 1.55 sec\n",
      "SLIM_BPR_Recommender: Epoch 42 of 130. Elapsed time 1.56 sec\n",
      "SLIM_BPR_Recommender: Epoch 43 of 130. Elapsed time 1.58 sec\n",
      "SLIM_BPR_Recommender: Epoch 44 of 130. Elapsed time 1.60 sec\n",
      "SLIM_BPR_Recommender: Epoch 45 of 130. Elapsed time 1.61 sec\n",
      "SLIM_BPR_Recommender: Epoch 46 of 130. Elapsed time 1.63 sec\n",
      "SLIM_BPR_Recommender: Epoch 47 of 130. Elapsed time 1.64 sec\n",
      "SLIM_BPR_Recommender: Epoch 48 of 130. Elapsed time 1.66 sec\n",
      "SLIM_BPR_Recommender: Epoch 49 of 130. Elapsed time 1.68 sec\n",
      "SLIM_BPR_Recommender: Epoch 50 of 130. Elapsed time 1.69 sec\n",
      "SLIM_BPR_Recommender: Epoch 51 of 130. Elapsed time 1.71 sec\n",
      "SLIM_BPR_Recommender: Epoch 52 of 130. Elapsed time 1.73 sec\n",
      "SLIM_BPR_Recommender: Epoch 53 of 130. Elapsed time 1.74 sec\n",
      "SLIM_BPR_Recommender: Epoch 54 of 130. Elapsed time 1.76 sec\n",
      "SLIM_BPR_Recommender: Epoch 55 of 130. Elapsed time 1.77 sec\n",
      "SLIM_BPR_Recommender: Epoch 56 of 130. Elapsed time 1.79 sec\n",
      "SLIM_BPR_Recommender: Epoch 57 of 130. Elapsed time 1.80 sec\n",
      "SLIM_BPR_Recommender: Epoch 58 of 130. Elapsed time 1.82 sec\n",
      "SLIM_BPR_Recommender: Epoch 59 of 130. Elapsed time 1.83 sec\n",
      "SLIM_BPR_Recommender: Epoch 60 of 130. Elapsed time 1.85 sec\n",
      "SLIM_BPR_Recommender: Epoch 61 of 130. Elapsed time 1.86 sec\n",
      "SLIM_BPR_Recommender: Epoch 62 of 130. Elapsed time 1.88 sec\n",
      "SLIM_BPR_Recommender: Epoch 63 of 130. Elapsed time 1.90 sec\n",
      "SLIM_BPR_Recommender: Epoch 64 of 130. Elapsed time 1.91 sec\n",
      "SLIM_BPR_Recommender: Epoch 65 of 130. Elapsed time 1.93 sec\n",
      "SLIM_BPR_Recommender: Epoch 66 of 130. Elapsed time 1.94 sec\n",
      "SLIM_BPR_Recommender: Epoch 67 of 130. Elapsed time 1.96 sec\n",
      "SLIM_BPR_Recommender: Epoch 68 of 130. Elapsed time 1.97 sec\n",
      "SLIM_BPR_Recommender: Epoch 69 of 130. Elapsed time 1.99 sec\n",
      "SLIM_BPR_Recommender: Epoch 70 of 130. Elapsed time 2.00 sec\n",
      "SLIM_BPR_Recommender: Epoch 71 of 130. Elapsed time 2.02 sec\n",
      "SLIM_BPR_Recommender: Epoch 72 of 130. Elapsed time 2.04 sec\n",
      "SLIM_BPR_Recommender: Epoch 73 of 130. Elapsed time 2.05 sec\n",
      "SLIM_BPR_Recommender: Epoch 74 of 130. Elapsed time 2.07 sec\n",
      "SLIM_BPR_Recommender: Epoch 75 of 130. Elapsed time 2.09 sec\n",
      "SLIM_BPR_Recommender: Epoch 76 of 130. Elapsed time 2.10 sec\n",
      "SLIM_BPR_Recommender: Epoch 77 of 130. Elapsed time 2.12 sec\n",
      "SLIM_BPR_Recommender: Epoch 78 of 130. Elapsed time 2.14 sec\n",
      "SLIM_BPR_Recommender: Epoch 79 of 130. Elapsed time 2.15 sec\n",
      "SLIM_BPR_Recommender: Epoch 80 of 130. Elapsed time 2.17 sec\n",
      "SLIM_BPR_Recommender: Epoch 81 of 130. Elapsed time 2.18 sec\n",
      "SLIM_BPR_Recommender: Epoch 82 of 130. Elapsed time 2.19 sec\n",
      "SLIM_BPR_Recommender: Epoch 83 of 130. Elapsed time 2.21 sec\n",
      "SLIM_BPR_Recommender: Epoch 84 of 130. Elapsed time 2.22 sec\n",
      "SLIM_BPR_Recommender: Epoch 85 of 130. Elapsed time 2.24 sec\n",
      "SLIM_BPR_Recommender: Epoch 86 of 130. Elapsed time 2.25 sec\n",
      "SLIM_BPR_Recommender: Epoch 87 of 130. Elapsed time 2.26 sec\n",
      "SLIM_BPR_Recommender: Epoch 88 of 130. Elapsed time 2.28 sec\n",
      "SLIM_BPR_Recommender: Epoch 89 of 130. Elapsed time 2.30 sec\n",
      "SLIM_BPR_Recommender: Epoch 90 of 130. Elapsed time 2.31 sec\n",
      "SLIM_BPR_Recommender: Epoch 91 of 130. Elapsed time 2.33 sec\n",
      "SLIM_BPR_Recommender: Epoch 92 of 130. Elapsed time 2.34 sec\n",
      "SLIM_BPR_Recommender: Epoch 93 of 130. Elapsed time 2.36 sec\n",
      "SLIM_BPR_Recommender: Epoch 94 of 130. Elapsed time 2.38 sec\n",
      "SLIM_BPR_Recommender: Epoch 95 of 130. Elapsed time 2.39 sec\n",
      "SLIM_BPR_Recommender: Epoch 96 of 130. Elapsed time 2.41 sec\n",
      "SLIM_BPR_Recommender: Epoch 97 of 130. Elapsed time 2.43 sec\n",
      "SLIM_BPR_Recommender: Epoch 98 of 130. Elapsed time 2.45 sec\n",
      "SLIM_BPR_Recommender: Epoch 99 of 130. Elapsed time 2.46 sec\n",
      "SLIM_BPR_Recommender: Epoch 100 of 130. Elapsed time 2.48 sec\n",
      "SLIM_BPR_Recommender: Epoch 101 of 130. Elapsed time 2.50 sec\n",
      "SLIM_BPR_Recommender: Epoch 102 of 130. Elapsed time 2.51 sec\n",
      "SLIM_BPR_Recommender: Epoch 103 of 130. Elapsed time 2.53 sec\n",
      "SLIM_BPR_Recommender: Epoch 104 of 130. Elapsed time 2.54 sec\n",
      "SLIM_BPR_Recommender: Epoch 105 of 130. Elapsed time 2.56 sec\n",
      "SLIM_BPR_Recommender: Epoch 106 of 130. Elapsed time 2.57 sec\n",
      "SLIM_BPR_Recommender: Epoch 107 of 130. Elapsed time 2.59 sec\n",
      "SLIM_BPR_Recommender: Epoch 108 of 130. Elapsed time 2.61 sec\n",
      "SLIM_BPR_Recommender: Epoch 109 of 130. Elapsed time 2.62 sec\n",
      "SLIM_BPR_Recommender: Epoch 110 of 130. Elapsed time 2.64 sec\n",
      "SLIM_BPR_Recommender: Epoch 111 of 130. Elapsed time 2.66 sec\n",
      "SLIM_BPR_Recommender: Epoch 112 of 130. Elapsed time 2.67 sec\n",
      "SLIM_BPR_Recommender: Epoch 113 of 130. Elapsed time 2.69 sec\n",
      "SLIM_BPR_Recommender: Epoch 114 of 130. Elapsed time 2.71 sec\n",
      "SLIM_BPR_Recommender: Epoch 115 of 130. Elapsed time 2.73 sec\n",
      "SLIM_BPR_Recommender: Epoch 116 of 130. Elapsed time 2.75 sec\n",
      "SLIM_BPR_Recommender: Epoch 117 of 130. Elapsed time 2.76 sec\n",
      "SLIM_BPR_Recommender: Epoch 118 of 130. Elapsed time 2.78 sec\n",
      "SLIM_BPR_Recommender: Epoch 119 of 130. Elapsed time 2.80 sec\n",
      "SLIM_BPR_Recommender: Epoch 120 of 130. Elapsed time 2.82 sec\n",
      "SLIM_BPR_Recommender: Epoch 121 of 130. Elapsed time 2.83 sec\n",
      "SLIM_BPR_Recommender: Epoch 122 of 130. Elapsed time 2.85 sec\n",
      "SLIM_BPR_Recommender: Epoch 123 of 130. Elapsed time 2.87 sec\n",
      "SLIM_BPR_Recommender: Epoch 124 of 130. Elapsed time 2.88 sec\n",
      "SLIM_BPR_Recommender: Epoch 125 of 130. Elapsed time 2.89 sec\n"
     ]
    },
    {
     "name": "stdout",
     "output_type": "stream",
     "text": [
      "SLIM_BPR_Recommender: Epoch 126 of 130. Elapsed time 2.91 sec\n",
      "SLIM_BPR_Recommender: Epoch 127 of 130. Elapsed time 2.92 sec\n",
      "SLIM_BPR_Recommender: Epoch 128 of 130. Elapsed time 2.94 sec\n",
      "SLIM_BPR_Recommender: Epoch 129 of 130. Elapsed time 2.95 sec\n",
      "SLIM_BPR_Recommender: Epoch 130 of 130. Elapsed time 2.97 sec\n",
      "SLIM_BPR_Recommender: Terminating at epoch 130. Elapsed time 37.91 sec\n",
      "Deallocating Cython objects\n",
      "done.\n"
     ]
    }
   ],
   "source": [
    "rp3b = RP3betaRecommender(URM_train, verbose=False)\n",
    "rp3b_params = {'topK': 1000, 'alpha': 0.38192761611274967, 'beta': 0.0, 'normalize_similarity': False}\n",
    "try:\n",
    "    rp3b.load_model(f'stored_recommenders/seed_{str(seed)}_{rp3b.RECOMMENDER_NAME}/','for_notebook_analysis')\n",
    "    print(f\"{rp3b.RECOMMENDER_NAME} loaded.\")\n",
    "except:\n",
    "    print(f\"Fitting {rp3b.RECOMMENDER_NAME} ...\")\n",
    "    rp3b.fit(**rp3b_params)\n",
    "    print(f\"done.\")\n",
    "    rp3b.save_model(f'stored_recommenders/seed_{str(seed)}_{rp3b.RECOMMENDER_NAME}/','for_notebook_analysis')\n",
    "\n",
    "p3a = P3alphaRecommender(URM_train, verbose=False)\n",
    "p3a_params = {'topK': 131, 'alpha': 0.33660811631883863, 'normalize_similarity': False}\n",
    "try:\n",
    "    p3a.load_model(f'stored_recommenders/seed_{str(seed)}_{p3a.RECOMMENDER_NAME}/','for_notebook_analysis')\n",
    "    print(f\"{p3a.RECOMMENDER_NAME} loaded.\")\n",
    "except:\n",
    "    print(f\"Fitting {p3a.RECOMMENDER_NAME} ...\")\n",
    "    p3a.fit(**p3a_params)\n",
    "    print(f\"done.\")\n",
    "    p3a.save_model(f'stored_recommenders/seed_{str(seed)}_{p3a.RECOMMENDER_NAME}/','for_notebook_analysis')\n",
    "\n",
    "\n",
    "icf = ItemKNNCFRecommender(URM_train, verbose=False)\n",
    "icf_params = {'topK': 55, 'shrink': 1000, 'similarity': 'asymmetric', 'normalize': True, 'asymmetric_alpha': 0.0}\n",
    "try:\n",
    "    icf.load_model(f'stored_recommenders/seed_{str(seed)}_{icf.RECOMMENDER_NAME}/','for_notebook_analysis')\n",
    "    print(f\"{icf.RECOMMENDER_NAME} loaded.\")\n",
    "except:\n",
    "    print(f\"Fitting {icf.RECOMMENDER_NAME} ...\")\n",
    "    icf.fit(**icf_params)\n",
    "    print(f\"done.\")\n",
    "    icf.save_model(f'stored_recommenders/seed_{str(seed)}_{icf.RECOMMENDER_NAME}/','for_notebook_analysis')\n",
    "    \n",
    "ucf = UserKNNCFRecommender(URM_train, verbose=False)\n",
    "ucf_params = {'topK': 190, 'shrink': 0, 'similarity': 'cosine', 'normalize': True}\n",
    "try:\n",
    "    ucf.load_model(f'stored_recommenders/seed_{str(seed)}_{ucf.RECOMMENDER_NAME}/','for_notebook_analysis')\n",
    "    print(f\"{ucf.RECOMMENDER_NAME} loaded.\")\n",
    "except:\n",
    "    print(f\"Fitting {ucf.RECOMMENDER_NAME} ...\")\n",
    "    ucf.fit(**ucf_params)\n",
    "    print(f\"done.\")\n",
    "    ucf.save_model(f'stored_recommenders/seed_{str(seed)}_{ucf.RECOMMENDER_NAME}/','for_notebook_analysis')\n",
    "\n",
    "icb = ItemKNNCBFRecommender(URM_train, ICM_all, verbose=False)\n",
    "icb_params = {'topK': 65, 'shrink': 0, 'similarity': 'dice', 'normalize': True}\n",
    "try:\n",
    "    icb.load_model(f'stored_recommenders/seed_{str(seed)}_{icb.RECOMMENDER_NAME}/','for_notebook_analysis')\n",
    "    print(f\"{icb.RECOMMENDER_NAME} loaded.\")\n",
    "except:\n",
    "    print(f\"Fitting {icb.RECOMMENDER_NAME} ...\")\n",
    "    icb.fit(**icb_params)\n",
    "    print(f\"done.\")\n",
    "    icb.save_model(f'stored_recommenders/seed_{str(seed)}_{icb.RECOMMENDER_NAME}/','for_notebook_analysis')\n",
    "\n",
    "sen = SLIMElasticNetRecommender(URM_train, verbose=False)\n",
    "sen_params = {'topK': 992, 'l1_ratio': 0.004065081925341167, 'alpha': 0.003725005053334143}\n",
    "try:\n",
    "    sen.load_model(f'stored_recommenders/seed_{str(seed)}_{sen.RECOMMENDER_NAME}/','for_notebook_analysis')\n",
    "    print(f\"{sen.RECOMMENDER_NAME} loaded.\")\n",
    "except:\n",
    "    print(f\"Fitting {sen.RECOMMENDER_NAME} ...\")\n",
    "    sen.fit(**sen_params)\n",
    "    print(f\"done.\")\n",
    "    sen.save_model(f'stored_recommenders/seed_{str(seed)}_{sen.RECOMMENDER_NAME}/','for_notebook_analysis')\n",
    "\n",
    "sbpr = SLIM_BPR_Cython(URM_train, verbose=False)\n",
    "sbpr_params = {'topK': 979, 'epochs': 130, 'symmetric': False, 'sgd_mode': 'adam', 'lambda_i': 0.004947329669424629, 'lambda_j': 1.1534760845071758e-05, 'learning_rate': 0.0001}\n",
    "try:\n",
    "    sbpr.load_model(f'stored_recommenders/seed_{str(seed)}_{sbpr.RECOMMENDER_NAME}/','for_notebook_analysis')\n",
    "    print(f\"{sbpr.RECOMMENDER_NAME} loaded.\")\n",
    "except:\n",
    "    print(f\"Fitting {sbpr.RECOMMENDER_NAME} ...\")\n",
    "    sbpr.fit(**sbpr_params)\n",
    "    print(f\"done.\")\n",
    "    sbpr.save_model(f'stored_recommenders/seed_{str(seed)}_{sbpr.RECOMMENDER_NAME}/','for_notebook_analysis')\n"
   ]
  },
  {
   "cell_type": "markdown",
   "metadata": {},
   "source": [
    "### MERGED COMBO"
   ]
  },
  {
   "cell_type": "code",
   "execution_count": 5,
   "metadata": {},
   "outputs": [],
   "source": [
    "merged_labels={\n",
    "    'merged1': 'icb_icf_p3a',\n",
    "    'merged2': 'icb_icf_rp3b',\n",
    "    'merged3': 'icb_icf_sen',\n",
    "    'merged4': 'icb_p3a_rp3b',\n",
    "    'merged5': 'icb_p3a_sen',\n",
    "    'merged6': 'icb_rp3b_sen',\n",
    "    'merged7': 'icf_p3a_rp3b',\n",
    "    'merged8': 'p3a_rp3b_sen',\n",
    "}#8 e 9 sono P3a e Rp3b singoli! --> 10 => 8"
   ]
  },
  {
   "cell_type": "code",
   "execution_count": 6,
   "metadata": {},
   "outputs": [],
   "source": [
    "evaluator_test = EvaluatorHoldout(URM_test, cutoff_list=[10])"
   ]
  },
  {
   "cell_type": "code",
   "execution_count": 7,
   "metadata": {},
   "outputs": [
    {
     "name": "stdout",
     "output_type": "stream",
     "text": [
      "HybridCombinationMergedSearch: URM Detected 27 (0.34 %) cold users.\n",
      "HybridCombinationMergedSearch: URM Detected 1634 (6.29 %) cold items.\n",
      "EvaluatorHoldout: Processed 4106 ( 100.00% ) in 5.07 sec. Users per second: 810\n"
     ]
    },
    {
     "data": {
      "text/plain": [
       "0.07330344697863617"
      ]
     },
     "execution_count": 7,
     "metadata": {},
     "output_type": "execute_result"
    }
   ],
   "source": [
    "list_recommender = [icb, icf, p3a]\n",
    "merged1 = HybridCombinationMergedSearch(URM_train, ICM_all, list_recommender)\n",
    "params={'alpha': 0.9004575733942728, 'l1_ratio': 0.26510663025884135, 'topK': 888}\n",
    "merged1.fit(**params)\n",
    "result, _ = evaluator_test.evaluateRecommender(merged1)\n",
    "result[10]['MAP']"
   ]
  },
  {
   "cell_type": "code",
   "execution_count": 8,
   "metadata": {},
   "outputs": [
    {
     "name": "stdout",
     "output_type": "stream",
     "text": [
      "HybridCombinationMergedSearch: URM Detected 27 (0.34 %) cold users.\n",
      "HybridCombinationMergedSearch: URM Detected 1634 (6.29 %) cold items.\n",
      "EvaluatorHoldout: Processed 4106 ( 100.00% ) in 5.53 sec. Users per second: 742\n"
     ]
    },
    {
     "data": {
      "text/plain": [
       "0.07380063236981378"
      ]
     },
     "execution_count": 8,
     "metadata": {},
     "output_type": "execute_result"
    }
   ],
   "source": [
    "list_recommender = [icb, icf, rp3b]\n",
    "merged2 = HybridCombinationMergedSearch(URM_train, ICM_all, list_recommender)\n",
    "params={'alpha': 0.6299182764826382, 'l1_ratio': 0.9675762628242017, 'topK': 864}\n",
    "merged2.fit(**params)\n",
    "result, _ = evaluator_test.evaluateRecommender(merged2)\n",
    "result[10]['MAP']"
   ]
  },
  {
   "cell_type": "code",
   "execution_count": 9,
   "metadata": {},
   "outputs": [
    {
     "name": "stdout",
     "output_type": "stream",
     "text": [
      "HybridCombinationMergedSearch: URM Detected 27 (0.34 %) cold users.\n",
      "HybridCombinationMergedSearch: URM Detected 1634 (6.29 %) cold items.\n",
      "EvaluatorHoldout: Processed 4106 ( 100.00% ) in 6.23 sec. Users per second: 659\n"
     ]
    },
    {
     "data": {
      "text/plain": [
       "0.07395118960024694"
      ]
     },
     "execution_count": 9,
     "metadata": {},
     "output_type": "execute_result"
    }
   ],
   "source": [
    "list_recommender = [icb, icf, sen]\n",
    "merged3 = HybridCombinationMergedSearch(URM_train, ICM_all, list_recommender)\n",
    "params={'alpha': 0.3791657333411357, 'l1_ratio': 0.23126551664267164, 'topK': 990}\n",
    "merged3.fit(**params)\n",
    "result, _ = evaluator_test.evaluateRecommender(merged3)\n",
    "result[10]['MAP']"
   ]
  },
  {
   "cell_type": "code",
   "execution_count": 10,
   "metadata": {},
   "outputs": [
    {
     "name": "stdout",
     "output_type": "stream",
     "text": [
      "HybridCombinationMergedSearch: URM Detected 27 (0.34 %) cold users.\n",
      "HybridCombinationMergedSearch: URM Detected 1634 (6.29 %) cold items.\n",
      "EvaluatorHoldout: Processed 4106 ( 100.00% ) in 5.69 sec. Users per second: 721\n"
     ]
    },
    {
     "data": {
      "text/plain": [
       "0.07359655012354013"
      ]
     },
     "execution_count": 10,
     "metadata": {},
     "output_type": "execute_result"
    }
   ],
   "source": [
    "list_recommender = [icb, p3a, rp3b]\n",
    "merged4 = HybridCombinationMergedSearch(URM_train, ICM_all, list_recommender)\n",
    "params={'alpha': 0.6299182764826382, 'l1_ratio': 0.9675762628242017, 'topK': 864}\n",
    "merged4.fit(**params)\n",
    "result, _ = evaluator_test.evaluateRecommender(merged4)\n",
    "result[10]['MAP']"
   ]
  },
  {
   "cell_type": "code",
   "execution_count": 11,
   "metadata": {},
   "outputs": [
    {
     "name": "stdout",
     "output_type": "stream",
     "text": [
      "HybridCombinationMergedSearch: URM Detected 27 (0.34 %) cold users.\n",
      "HybridCombinationMergedSearch: URM Detected 1634 (6.29 %) cold items.\n",
      "EvaluatorHoldout: Processed 4106 ( 100.00% ) in 5.50 sec. Users per second: 746\n"
     ]
    },
    {
     "data": {
      "text/plain": [
       "0.07335509381676558"
      ]
     },
     "execution_count": 11,
     "metadata": {},
     "output_type": "execute_result"
    }
   ],
   "source": [
    "list_recommender = [icb, p3a, sen]\n",
    "merged5 = HybridCombinationMergedSearch(URM_train, ICM_all, list_recommender)\n",
    "params={'alpha': 0.9712321721669441, 'l1_ratio': 0.6879306727642494, 'topK': 990}\n",
    "merged5.fit(**params)\n",
    "result, _ = evaluator_test.evaluateRecommender(merged5)\n",
    "result[10]['MAP']"
   ]
  },
  {
   "cell_type": "code",
   "execution_count": 12,
   "metadata": {},
   "outputs": [
    {
     "name": "stdout",
     "output_type": "stream",
     "text": [
      "HybridCombinationMergedSearch: URM Detected 27 (0.34 %) cold users.\n",
      "HybridCombinationMergedSearch: URM Detected 1634 (6.29 %) cold items.\n",
      "EvaluatorHoldout: Processed 4106 ( 100.00% ) in 5.25 sec. Users per second: 782\n"
     ]
    },
    {
     "data": {
      "text/plain": [
       "0.07427017856176389"
      ]
     },
     "execution_count": 12,
     "metadata": {},
     "output_type": "execute_result"
    }
   ],
   "source": [
    "list_recommender = [icb, rp3b, sen]\n",
    "merged6 = HybridCombinationMergedSearch(URM_train, ICM_all, list_recommender)\n",
    "params={'alpha': 0.6355738550417837, 'l1_ratio': 0.6617849709204384, 'topK': 538}\n",
    "merged6.fit(**params)\n",
    "result, _ = evaluator_test.evaluateRecommender(merged6)\n",
    "result[10]['MAP']"
   ]
  },
  {
   "cell_type": "code",
   "execution_count": 13,
   "metadata": {},
   "outputs": [
    {
     "name": "stdout",
     "output_type": "stream",
     "text": [
      "HybridCombinationMergedSearch: URM Detected 27 (0.34 %) cold users.\n",
      "HybridCombinationMergedSearch: URM Detected 1634 (6.29 %) cold items.\n",
      "EvaluatorHoldout: Processed 4106 ( 100.00% ) in 5.12 sec. Users per second: 802\n"
     ]
    },
    {
     "data": {
      "text/plain": [
       "0.06444040946690227"
      ]
     },
     "execution_count": 13,
     "metadata": {},
     "output_type": "execute_result"
    }
   ],
   "source": [
    "list_recommender = [icf, p3a, rp3b]\n",
    "merged7 = HybridCombinationMergedSearch(URM_train, ICM_all, list_recommender)\n",
    "params = {'alpha': 0.44112400857241485, 'l1_ratio': 0.4636970676140909, 'topK': 489}\n",
    "merged7.fit(**params)\n",
    "result, _ = evaluator_test.evaluateRecommender(merged7)\n",
    "result[10]['MAP']"
   ]
  },
  {
   "cell_type": "code",
   "execution_count": 14,
   "metadata": {},
   "outputs": [
    {
     "name": "stdout",
     "output_type": "stream",
     "text": [
      "HybridCombinationMergedSearch: URM Detected 27 (0.34 %) cold users.\n",
      "HybridCombinationMergedSearch: URM Detected 1634 (6.29 %) cold items.\n",
      "EvaluatorHoldout: Processed 4106 ( 100.00% ) in 5.30 sec. Users per second: 775\n"
     ]
    },
    {
     "data": {
      "text/plain": [
       "0.06460658641061004"
      ]
     },
     "execution_count": 14,
     "metadata": {},
     "output_type": "execute_result"
    }
   ],
   "source": [
    "list_recommender = [p3a, rp3b, sen]\n",
    "merged8 = HybridCombinationMergedSearch(URM_train, ICM_all, list_recommender)\n",
    "params={'alpha': 0.8589000153868548, 'l1_ratio': 0.4263692698842382, 'topK': 636}\n",
    "merged8.fit(**params)\n",
    "result,_ = evaluator_test.evaluateRecommender(merged8)\n",
    "result[10]['MAP']"
   ]
  },
  {
   "cell_type": "markdown",
   "metadata": {},
   "source": [
    "---\n",
    "## linear combo norm"
   ]
  },
  {
   "cell_type": "code",
   "execution_count": 16,
   "metadata": {},
   "outputs": [],
   "source": [
    "combo_labels ={\n",
    "    'combo1': 'icf_ucf_p3a', ###\n",
    "    'combo2': 'icf_ucf_rp3b', ###\n",
    "    'combo3': 'icf_p3a_rp3b', ###\n",
    "    'combo4': 'ucf_p3a_rp3b', ### \n",
    "    'combo5': 'icb_icf_sen', ###\n",
    "    'combo6': 'icf_sen_sbpr', ###\n",
    "    'combo7': 'icb_icf_ucf', ###\n",
    "    'combo8': 'icf_ucf_sen', ###\n",
    "    'combo9': 'icb_p3a_sen', ###\n",
    "    'combo10': 'icb_icf_p3a', ###\n",
    "    'combo11': 'icf_p3a_sen', ### useless\n",
    "    'combo12': 'p3a_sen_sbpr', ### useless\n",
    "    'combo13': 'icb_ucf_p3a', ###\n",
    "    'combo14': 'ucf_p3a_sen', ### useless\n",
    "    'combo15': 'icb_rp3b_sen', ###\n",
    "    'combo16': 'icb_icf_rp3b', ###\n",
    "    'combo17': 'icf_rp3b_sen', ###\n",
    "    'combo18': 'icb_p3a_rp3b', ###\n",
    "    'combo19': 'rp3b_sen_sbpr', ### useless\n",
    "    'combo20': 'icb_ucf_rp3b', ###\n",
    "    'combo21': 'ucf_rp3b_sen', ###\n",
    "    'combo22': 'icb_ucf_sen', ###\n",
    "    'combo23': 'ucf_sen_sbpr', ###\n",
    "    'combo24': 'icb_sen_sbpr', ###\n",
    "    'combo25': 'icb_icf_sbpr', ###\n",
    "    'combo26': 'icb_p3a_sbpr', ###\n",
    "    'combo27': 'icb_rp3b_sbpr', ###\n",
    "    'combo28': 'icb_ucf_sbpr', ###\n",
    "}"
   ]
  },
  {
   "cell_type": "code",
   "execution_count": 17,
   "metadata": {},
   "outputs": [
    {
     "name": "stdout",
     "output_type": "stream",
     "text": [
      "HybridCombinationSearch: URM Detected 27 (0.34 %) cold users.\n",
      "HybridCombinationSearch: URM Detected 1634 (6.29 %) cold items.\n",
      "EvaluatorHoldout: Processed 4106 ( 100.00% ) in 7.02 sec. Users per second: 585\n"
     ]
    },
    {
     "data": {
      "text/plain": [
       "0.06512626456474592"
      ]
     },
     "execution_count": 17,
     "metadata": {},
     "output_type": "execute_result"
    }
   ],
   "source": [
    "list_recommender = [icf, ucf, p3a]\n",
    "combo1 = HybridCombinationSearch(URM_train, ICM_all, list_recommender)\n",
    "params={'alpha': 0.4318367153026247, 'l1_ratio': 0.06753630242082177}\n",
    "combo1.fit(**params)\n",
    "result, _ = evaluator_test.evaluateRecommender(combo1)\n",
    "result[10]['MAP']"
   ]
  },
  {
   "cell_type": "code",
   "execution_count": 18,
   "metadata": {},
   "outputs": [
    {
     "name": "stdout",
     "output_type": "stream",
     "text": [
      "HybridCombinationSearch: URM Detected 27 (0.34 %) cold users.\n",
      "HybridCombinationSearch: URM Detected 1634 (6.29 %) cold items.\n",
      "EvaluatorHoldout: Processed 4106 ( 100.00% ) in 7.56 sec. Users per second: 543\n"
     ]
    },
    {
     "data": {
      "text/plain": [
       "0.06421845647840414"
      ]
     },
     "execution_count": 18,
     "metadata": {},
     "output_type": "execute_result"
    }
   ],
   "source": [
    "list_recommender = [icf, ucf, rp3b]\n",
    "combo2 = HybridCombinationSearch(URM_train, ICM_all, list_recommender)\n",
    "params={'alpha': 0.19390580434445875, 'l1_ratio': 0.2522643001286576}\n",
    "combo2.fit(**params)\n",
    "result, _ = evaluator_test.evaluateRecommender(combo2)\n",
    "result[10]['MAP']"
   ]
  },
  {
   "cell_type": "code",
   "execution_count": 19,
   "metadata": {},
   "outputs": [
    {
     "name": "stdout",
     "output_type": "stream",
     "text": [
      "HybridCombinationSearch: URM Detected 27 (0.34 %) cold users.\n",
      "HybridCombinationSearch: URM Detected 1634 (6.29 %) cold items.\n",
      "EvaluatorHoldout: Processed 4106 ( 100.00% ) in 7.26 sec. Users per second: 565\n"
     ]
    },
    {
     "data": {
      "text/plain": [
       "0.06362883519800368"
      ]
     },
     "execution_count": 19,
     "metadata": {},
     "output_type": "execute_result"
    }
   ],
   "source": [
    "list_recommender = [icf, p3a, rp3b]\n",
    "combo3 = HybridCombinationSearch(URM_train, ICM_all, list_recommender)\n",
    "params={'alpha': 0.13211292014716505, 'l1_ratio': 0.9841972871240037}\n",
    "combo3.fit(**params)\n",
    "result, _ = evaluator_test.evaluateRecommender(combo3)\n",
    "result[10]['MAP']"
   ]
  },
  {
   "cell_type": "code",
   "execution_count": 20,
   "metadata": {},
   "outputs": [
    {
     "name": "stdout",
     "output_type": "stream",
     "text": [
      "HybridCombinationSearch: URM Detected 27 (0.34 %) cold users.\n",
      "HybridCombinationSearch: URM Detected 1634 (6.29 %) cold items.\n",
      "EvaluatorHoldout: Processed 4106 ( 100.00% ) in 7.24 sec. Users per second: 568\n"
     ]
    },
    {
     "data": {
      "text/plain": [
       "0.0648004066187821"
      ]
     },
     "execution_count": 20,
     "metadata": {},
     "output_type": "execute_result"
    }
   ],
   "source": [
    "list_recommender = [ucf, p3a, rp3b]\n",
    "combo4 = HybridCombinationSearch(URM_train, ICM_all, list_recommender)\n",
    "params={'alpha': 0.9394644725243001, 'l1_ratio': 0.4569374184464653}\n",
    "combo4.fit(**params)\n",
    "result, _ = evaluator_test.evaluateRecommender(combo4)\n",
    "result[10]['MAP']"
   ]
  },
  {
   "cell_type": "code",
   "execution_count": 21,
   "metadata": {},
   "outputs": [
    {
     "name": "stdout",
     "output_type": "stream",
     "text": [
      "HybridCombinationSearch: URM Detected 27 (0.34 %) cold users.\n",
      "HybridCombinationSearch: URM Detected 1634 (6.29 %) cold items.\n",
      "EvaluatorHoldout: Processed 4106 ( 100.00% ) in 7.11 sec. Users per second: 577\n"
     ]
    },
    {
     "data": {
      "text/plain": [
       "0.07338964065853994"
      ]
     },
     "execution_count": 21,
     "metadata": {},
     "output_type": "execute_result"
    }
   ],
   "source": [
    "list_recommender = [icb, icf, sen]\n",
    "combo5 = HybridCombinationSearch(URM_train, ICM_all, list_recommender)\n",
    "params={'alpha': 0.5011523958099686, 'l1_ratio': 0.6835202748204333}\n",
    "combo5.fit(**params)\n",
    "result = evaluator(combo5, URM_test, cutoff=10)\n",
    "result, _ = evaluator_test.evaluateRecommender(combo5)\n",
    "result[10]['MAP']"
   ]
  },
  {
   "cell_type": "code",
   "execution_count": 22,
   "metadata": {},
   "outputs": [
    {
     "name": "stdout",
     "output_type": "stream",
     "text": [
      "HybridCombinationSearch: URM Detected 27 (0.34 %) cold users.\n",
      "HybridCombinationSearch: URM Detected 1634 (6.29 %) cold items.\n",
      "EvaluatorHoldout: Processed 4106 ( 100.00% ) in 7.91 sec. Users per second: 519\n"
     ]
    },
    {
     "data": {
      "text/plain": [
       "0.06359055543344495"
      ]
     },
     "execution_count": 22,
     "metadata": {},
     "output_type": "execute_result"
    }
   ],
   "source": [
    "list_recommender = [icf, sen, sbpr]\n",
    "combo6 = HybridCombinationSearch(URM_train, ICM_all, list_recommender)\n",
    "params={'alpha': 0.8434066208554849, 'l1_ratio': 0.4628304123637582}\n",
    "combo6.fit(**params)\n",
    "result, _ = evaluator_test.evaluateRecommender(combo6)\n",
    "result[10]['MAP']"
   ]
  },
  {
   "cell_type": "code",
   "execution_count": 23,
   "metadata": {},
   "outputs": [
    {
     "name": "stdout",
     "output_type": "stream",
     "text": [
      "HybridCombinationSearch: URM Detected 27 (0.34 %) cold users.\n",
      "HybridCombinationSearch: URM Detected 1634 (6.29 %) cold items.\n",
      "EvaluatorHoldout: Processed 4106 ( 100.00% ) in 7.06 sec. Users per second: 582\n"
     ]
    },
    {
     "data": {
      "text/plain": [
       "0.07308931554391875"
      ]
     },
     "execution_count": 23,
     "metadata": {},
     "output_type": "execute_result"
    }
   ],
   "source": [
    "list_recommender = [icb, icf, ucf]\n",
    "combo7 = HybridCombinationSearch(URM_train, ICM_all, list_recommender)\n",
    "params={'alpha': 0.23127746676269062, 'l1_ratio': 0.47037997538194565}\n",
    "combo7.fit(**params)\n",
    "result, _ = evaluator_test.evaluateRecommender(combo7)\n",
    "result[10]['MAP']"
   ]
  },
  {
   "cell_type": "code",
   "execution_count": 24,
   "metadata": {},
   "outputs": [
    {
     "name": "stdout",
     "output_type": "stream",
     "text": [
      "HybridCombinationSearch: URM Detected 27 (0.34 %) cold users.\n",
      "HybridCombinationSearch: URM Detected 1634 (6.29 %) cold items.\n",
      "EvaluatorHoldout: Processed 4106 ( 100.00% ) in 7.20 sec. Users per second: 570\n"
     ]
    },
    {
     "data": {
      "text/plain": [
       "0.0638307684297582"
      ]
     },
     "execution_count": 24,
     "metadata": {},
     "output_type": "execute_result"
    }
   ],
   "source": [
    "list_recommender = [icf, ucf, sen]\n",
    "combo8 = HybridCombinationSearch(URM_train, ICM_all, list_recommender)\n",
    "params={'alpha': 0.8854496569140459, 'l1_ratio': 0.17103030574896252}\n",
    "combo8.fit(**params)\n",
    "result, _ = evaluator_test.evaluateRecommender(combo8)\n",
    "result[10]['MAP']"
   ]
  },
  {
   "cell_type": "code",
   "execution_count": 25,
   "metadata": {},
   "outputs": [
    {
     "name": "stdout",
     "output_type": "stream",
     "text": [
      "HybridCombinationSearch: URM Detected 27 (0.34 %) cold users.\n",
      "HybridCombinationSearch: URM Detected 1634 (6.29 %) cold items.\n",
      "EvaluatorHoldout: Processed 4106 ( 100.00% ) in 7.17 sec. Users per second: 573\n"
     ]
    },
    {
     "data": {
      "text/plain": [
       "0.0716113936757433"
      ]
     },
     "execution_count": 25,
     "metadata": {},
     "output_type": "execute_result"
    }
   ],
   "source": [
    "list_recommender = [icb, p3a, sen]\n",
    "combo9 = HybridCombinationSearch(URM_train, ICM_all, list_recommender)\n",
    "params={'alpha': 0.9678477202248401, 'l1_ratio': 0.26287752701640094}\n",
    "combo9.fit(**params)\n",
    "result, _ = evaluator_test.evaluateRecommender(combo9)\n",
    "result[10]['MAP']"
   ]
  },
  {
   "cell_type": "code",
   "execution_count": 26,
   "metadata": {},
   "outputs": [
    {
     "name": "stdout",
     "output_type": "stream",
     "text": [
      "HybridCombinationSearch: URM Detected 27 (0.34 %) cold users.\n",
      "HybridCombinationSearch: URM Detected 1634 (6.29 %) cold items.\n",
      "EvaluatorHoldout: Processed 4106 ( 100.00% ) in 6.75 sec. Users per second: 608\n"
     ]
    },
    {
     "data": {
      "text/plain": [
       "0.07140408738994852"
      ]
     },
     "execution_count": 26,
     "metadata": {},
     "output_type": "execute_result"
    }
   ],
   "source": [
    "list_recommender = [icb, icf, p3a]\n",
    "combo10 = HybridCombinationSearch(URM_train, ICM_all, list_recommender)\n",
    "params={'alpha': 0.27094237120805925, 'l1_ratio': 0.9998550263180496}\n",
    "combo10.fit(**params)\n",
    "result, _ = evaluator_test.evaluateRecommender(combo10)\n",
    "result[10]['MAP']"
   ]
  },
  {
   "cell_type": "code",
   "execution_count": 27,
   "metadata": {},
   "outputs": [
    {
     "name": "stdout",
     "output_type": "stream",
     "text": [
      "HybridCombinationSearch: URM Detected 27 (0.34 %) cold users.\n",
      "HybridCombinationSearch: URM Detected 1634 (6.29 %) cold items.\n",
      "EvaluatorHoldout: Processed 4106 ( 100.00% ) in 7.00 sec. Users per second: 587\n"
     ]
    },
    {
     "data": {
      "text/plain": [
       "0.06369466104485845"
      ]
     },
     "execution_count": 27,
     "metadata": {},
     "output_type": "execute_result"
    }
   ],
   "source": [
    "list_recommender = [icf, p3a, sen]\n",
    "combo11 = HybridCombinationSearch(URM_train, ICM_all, list_recommender)\n",
    "params={'alpha': 1.0, 'l1_ratio': 0.0}\n",
    "combo11.fit(**params)\n",
    "result, _ = evaluator_test.evaluateRecommender(combo11)\n",
    "result[10]['MAP']"
   ]
  },
  {
   "cell_type": "code",
   "execution_count": 28,
   "metadata": {},
   "outputs": [
    {
     "name": "stdout",
     "output_type": "stream",
     "text": [
      "HybridCombinationSearch: URM Detected 27 (0.34 %) cold users.\n",
      "HybridCombinationSearch: URM Detected 1634 (6.29 %) cold items.\n",
      "EvaluatorHoldout: Processed 4106 ( 100.00% ) in 7.52 sec. Users per second: 546\n"
     ]
    },
    {
     "data": {
      "text/plain": [
       "0.06369466104485845"
      ]
     },
     "execution_count": 28,
     "metadata": {},
     "output_type": "execute_result"
    }
   ],
   "source": [
    "list_recommender = [p3a, sen, sbpr]\n",
    "combo12 = HybridCombinationSearch(URM_train, ICM_all, list_recommender)\n",
    "params={'alpha': 1.0, 'l1_ratio': 1.0}\n",
    "combo12.fit(**params)\n",
    "result, _ = evaluator_test.evaluateRecommender(combo12)\n",
    "result[10]['MAP']"
   ]
  },
  {
   "cell_type": "code",
   "execution_count": 29,
   "metadata": {},
   "outputs": [
    {
     "name": "stdout",
     "output_type": "stream",
     "text": [
      "HybridCombinationSearch: URM Detected 27 (0.34 %) cold users.\n",
      "HybridCombinationSearch: URM Detected 1634 (6.29 %) cold items.\n",
      "EvaluatorHoldout: Processed 4106 ( 100.00% ) in 6.83 sec. Users per second: 601\n"
     ]
    },
    {
     "data": {
      "text/plain": [
       "0.07380966632291629"
      ]
     },
     "execution_count": 29,
     "metadata": {},
     "output_type": "execute_result"
    }
   ],
   "source": [
    "list_recommender = [icb, ucf, p3a]\n",
    "combo13 = HybridCombinationSearch(URM_train, ICM_all, list_recommender)\n",
    "params={'alpha': 0.4840277797811048, 'l1_ratio': 0.356265002578487}\n",
    "combo13.fit(**params)\n",
    "result, _ = evaluator_test.evaluateRecommender(combo13)\n",
    "result[10]['MAP']"
   ]
  },
  {
   "cell_type": "code",
   "execution_count": 30,
   "metadata": {},
   "outputs": [
    {
     "name": "stdout",
     "output_type": "stream",
     "text": [
      "HybridCombinationSearch: URM Detected 27 (0.34 %) cold users.\n",
      "HybridCombinationSearch: URM Detected 1634 (6.29 %) cold items.\n",
      "EvaluatorHoldout: Processed 4106 ( 100.00% ) in 6.95 sec. Users per second: 591\n"
     ]
    },
    {
     "data": {
      "text/plain": [
       "0.06369466104485845"
      ]
     },
     "execution_count": 30,
     "metadata": {},
     "output_type": "execute_result"
    }
   ],
   "source": [
    "list_recommender = [ucf, p3a, sen]\n",
    "combo14 = HybridCombinationSearch(URM_train, ICM_all, list_recommender)\n",
    "params={'alpha': 1.0, 'l1_ratio': 0.0}\n",
    "combo14.fit(**params)\n",
    "result, _ = evaluator_test.evaluateRecommender(combo14)\n",
    "result[10]['MAP']"
   ]
  },
  {
   "cell_type": "code",
   "execution_count": 31,
   "metadata": {},
   "outputs": [
    {
     "name": "stdout",
     "output_type": "stream",
     "text": [
      "HybridCombinationSearch: URM Detected 27 (0.34 %) cold users.\n",
      "HybridCombinationSearch: URM Detected 1634 (6.29 %) cold items.\n",
      "EvaluatorHoldout: Processed 4106 ( 100.00% ) in 7.45 sec. Users per second: 551\n"
     ]
    },
    {
     "data": {
      "text/plain": [
       "0.07501168908959174"
      ]
     },
     "execution_count": 31,
     "metadata": {},
     "output_type": "execute_result"
    }
   ],
   "source": [
    "list_recommender = [icb, rp3b, sen]\n",
    "combo15 = HybridCombinationSearch(URM_train, ICM_all, list_recommender)\n",
    "params={'alpha': 0.7389620492322015, 'l1_ratio': 0.3355244273594045}\n",
    "combo15.fit(**params)\n",
    "result, _ = evaluator_test.evaluateRecommender(combo15)\n",
    "result[10]['MAP']"
   ]
  },
  {
   "cell_type": "code",
   "execution_count": 32,
   "metadata": {},
   "outputs": [
    {
     "name": "stdout",
     "output_type": "stream",
     "text": [
      "HybridCombinationSearch: URM Detected 27 (0.34 %) cold users.\n",
      "HybridCombinationSearch: URM Detected 1634 (6.29 %) cold items.\n",
      "EvaluatorHoldout: Processed 4106 ( 100.00% ) in 7.23 sec. Users per second: 568\n"
     ]
    },
    {
     "data": {
      "text/plain": [
       "0.07274475570657978"
      ]
     },
     "execution_count": 32,
     "metadata": {},
     "output_type": "execute_result"
    }
   ],
   "source": [
    "list_recommender = [icb, icf, rp3b]\n",
    "combo16 = HybridCombinationSearch(URM_train, ICM_all, list_recommender)\n",
    "params={'alpha': 0.30215925285279965, 'l1_ratio': 0.48033878522040957}\n",
    "combo16.fit(**params)\n",
    "result, _ = evaluator_test.evaluateRecommender(combo16)\n",
    "result[10]['MAP']"
   ]
  },
  {
   "cell_type": "code",
   "execution_count": 33,
   "metadata": {},
   "outputs": [
    {
     "name": "stdout",
     "output_type": "stream",
     "text": [
      "HybridCombinationSearch: URM Detected 27 (0.34 %) cold users.\n",
      "HybridCombinationSearch: URM Detected 1634 (6.29 %) cold items.\n",
      "EvaluatorHoldout: Processed 4106 ( 100.00% ) in 7.60 sec. Users per second: 540\n"
     ]
    },
    {
     "data": {
      "text/plain": [
       "0.0637003076586482"
      ]
     },
     "execution_count": 33,
     "metadata": {},
     "output_type": "execute_result"
    }
   ],
   "source": [
    "list_recommender = [icf, rp3b, sen]\n",
    "combo17 = HybridCombinationSearch(URM_train, ICM_all, list_recommender)\n",
    "params={'alpha': 0.9949623682515907, 'l1_ratio': 0.007879399002699851}\n",
    "combo17.fit(**params)\n",
    "result, _ = evaluator_test.evaluateRecommender(combo17)\n",
    "result[10]['MAP']"
   ]
  },
  {
   "cell_type": "code",
   "execution_count": 34,
   "metadata": {},
   "outputs": [
    {
     "name": "stdout",
     "output_type": "stream",
     "text": [
      "HybridCombinationSearch: URM Detected 27 (0.34 %) cold users.\n",
      "HybridCombinationSearch: URM Detected 1634 (6.29 %) cold items.\n",
      "EvaluatorHoldout: Processed 4106 ( 100.00% ) in 7.21 sec. Users per second: 569\n"
     ]
    },
    {
     "data": {
      "text/plain": [
       "0.07299985414237488"
      ]
     },
     "execution_count": 34,
     "metadata": {},
     "output_type": "execute_result"
    }
   ],
   "source": [
    "list_recommender = [icb, p3a, rp3b]\n",
    "combo18 = HybridCombinationSearch(URM_train, ICM_all, list_recommender)\n",
    "params={'alpha': 0.32630431880229166, 'l1_ratio': 0.4598175570701317}\n",
    "combo18.fit(**params)\n",
    "result, _ = evaluator_test.evaluateRecommender(combo18)\n",
    "result[10]['MAP']"
   ]
  },
  {
   "cell_type": "code",
   "execution_count": 35,
   "metadata": {},
   "outputs": [
    {
     "name": "stdout",
     "output_type": "stream",
     "text": [
      "HybridCombinationSearch: URM Detected 27 (0.34 %) cold users.\n",
      "HybridCombinationSearch: URM Detected 1634 (6.29 %) cold items.\n",
      "EvaluatorHoldout: Processed 4106 ( 100.00% ) in 8.32 sec. Users per second: 493\n"
     ]
    },
    {
     "data": {
      "text/plain": [
       "0.06309358676540552"
      ]
     },
     "execution_count": 35,
     "metadata": {},
     "output_type": "execute_result"
    }
   ],
   "source": [
    "list_recommender = [rp3b, sen, sbpr]\n",
    "combo19 = HybridCombinationSearch(URM_train, ICM_all, list_recommender)\n",
    "params={'alpha': 1.0, 'l1_ratio': 1.0}\n",
    "combo19.fit(**params)\n",
    "result, _ = evaluator_test.evaluateRecommender(combo19)\n",
    "result[10]['MAP']"
   ]
  },
  {
   "cell_type": "code",
   "execution_count": 36,
   "metadata": {},
   "outputs": [
    {
     "name": "stdout",
     "output_type": "stream",
     "text": [
      "HybridCombinationSearch: URM Detected 27 (0.34 %) cold users.\n",
      "HybridCombinationSearch: URM Detected 1634 (6.29 %) cold items.\n",
      "EvaluatorHoldout: Processed 4106 ( 100.00% ) in 7.44 sec. Users per second: 552\n"
     ]
    },
    {
     "data": {
      "text/plain": [
       "0.0736875937075412"
      ]
     },
     "execution_count": 36,
     "metadata": {},
     "output_type": "execute_result"
    }
   ],
   "source": [
    "list_recommender = [icb, ucf, rp3b]\n",
    "combo20 = HybridCombinationSearch(URM_train, ICM_all, list_recommender)\n",
    "params={'alpha': 0.39585017788453875, 'l1_ratio': 0.2969289208656836}\n",
    "combo20.fit(**params)\n",
    "result, _ = evaluator_test.evaluateRecommender(combo20)\n",
    "result[10]['MAP']"
   ]
  },
  {
   "cell_type": "code",
   "execution_count": 37,
   "metadata": {},
   "outputs": [
    {
     "name": "stdout",
     "output_type": "stream",
     "text": [
      "HybridCombinationSearch: URM Detected 27 (0.34 %) cold users.\n",
      "HybridCombinationSearch: URM Detected 1634 (6.29 %) cold items.\n",
      "EvaluatorHoldout: Processed 4106 ( 100.00% ) in 7.58 sec. Users per second: 542\n"
     ]
    },
    {
     "data": {
      "text/plain": [
       "0.0638918196944488"
      ]
     },
     "execution_count": 37,
     "metadata": {},
     "output_type": "execute_result"
    }
   ],
   "source": [
    "list_recommender = [ucf, rp3b, sen]\n",
    "combo21 = HybridCombinationSearch(URM_train, ICM_all, list_recommender)\n",
    "params={'alpha': 0.9824185519731099, 'l1_ratio': 0.0049365500554859896}\n",
    "combo21.fit(**params)\n",
    "result, _ = evaluator_test.evaluateRecommender(combo21)\n",
    "result[10]['MAP']"
   ]
  },
  {
   "cell_type": "code",
   "execution_count": 38,
   "metadata": {},
   "outputs": [
    {
     "name": "stdout",
     "output_type": "stream",
     "text": [
      "HybridCombinationSearch: URM Detected 27 (0.34 %) cold users.\n",
      "HybridCombinationSearch: URM Detected 1634 (6.29 %) cold items.\n",
      "EvaluatorHoldout: Processed 4106 ( 100.00% ) in 7.32 sec. Users per second: 561\n"
     ]
    },
    {
     "data": {
      "text/plain": [
       "0.07461615659144523"
      ]
     },
     "execution_count": 38,
     "metadata": {},
     "output_type": "execute_result"
    }
   ],
   "source": [
    "list_recommender = [icb, ucf, sen]\n",
    "combo22 = HybridCombinationSearch(URM_train, ICM_all, list_recommender)\n",
    "params={'alpha': 0.696288087190842, 'l1_ratio': 0.3051487184937027}\n",
    "combo22.fit(**params)\n",
    "result, _ = evaluator_test.evaluateRecommender(combo22)\n",
    "result[10]['MAP']"
   ]
  },
  {
   "cell_type": "code",
   "execution_count": 39,
   "metadata": {},
   "outputs": [
    {
     "name": "stdout",
     "output_type": "stream",
     "text": [
      "HybridCombinationSearch: URM Detected 27 (0.34 %) cold users.\n",
      "HybridCombinationSearch: URM Detected 1634 (6.29 %) cold items.\n",
      "EvaluatorHoldout: Processed 4106 ( 100.00% ) in 8.05 sec. Users per second: 510\n"
     ]
    },
    {
     "data": {
      "text/plain": [
       "0.06543588081621846"
      ]
     },
     "execution_count": 39,
     "metadata": {},
     "output_type": "execute_result"
    }
   ],
   "source": [
    "list_recommender = [ucf, sen, sbpr]\n",
    "combo23 = HybridCombinationSearch(URM_train, ICM_all, list_recommender)\n",
    "params={'alpha': 0.9979141772440999, 'l1_ratio': 0.9695756615044695}\n",
    "combo23.fit(**params)\n",
    "result, _ = evaluator_test.evaluateRecommender(combo23)\n",
    "result[10]['MAP']"
   ]
  },
  {
   "cell_type": "code",
   "execution_count": 40,
   "metadata": {},
   "outputs": [
    {
     "name": "stdout",
     "output_type": "stream",
     "text": [
      "HybridCombinationSearch: URM Detected 27 (0.34 %) cold users.\n",
      "HybridCombinationSearch: URM Detected 1634 (6.29 %) cold items.\n",
      "EvaluatorHoldout: Processed 4106 ( 100.00% ) in 7.88 sec. Users per second: 521\n"
     ]
    },
    {
     "data": {
      "text/plain": [
       "0.07487893847802678"
      ]
     },
     "execution_count": 40,
     "metadata": {},
     "output_type": "execute_result"
    }
   ],
   "source": [
    "list_recommender = [icb, sen, sbpr]\n",
    "combo24 = HybridCombinationSearch(URM_train, ICM_all, list_recommender)\n",
    "params={'alpha': 0.7753869940322178, 'l1_ratio': 0.4380906766055395}\n",
    "combo24.fit(**params)\n",
    "result, _ = evaluator_test.evaluateRecommender(combo24)\n",
    "result[10]['MAP']"
   ]
  },
  {
   "cell_type": "code",
   "execution_count": 41,
   "metadata": {},
   "outputs": [
    {
     "name": "stdout",
     "output_type": "stream",
     "text": [
      "HybridCombinationSearch: URM Detected 27 (0.34 %) cold users.\n",
      "HybridCombinationSearch: URM Detected 1634 (6.29 %) cold items.\n",
      "EvaluatorHoldout: Processed 4106 ( 100.00% ) in 7.59 sec. Users per second: 541\n"
     ]
    },
    {
     "data": {
      "text/plain": [
       "0.068265948966767"
      ]
     },
     "execution_count": 41,
     "metadata": {},
     "output_type": "execute_result"
    }
   ],
   "source": [
    "list_recommender = [icb, icf, sbpr]\n",
    "combo25 = HybridCombinationSearch(URM_train, ICM_all, list_recommender)\n",
    "params={'alpha': 0.8124123649444593, 'l1_ratio': 0.25648942001711633}\n",
    "combo25.fit(**params)\n",
    "result, _ = evaluator_test.evaluateRecommender(combo25)\n",
    "result[10]['MAP']"
   ]
  },
  {
   "cell_type": "code",
   "execution_count": 42,
   "metadata": {},
   "outputs": [
    {
     "name": "stdout",
     "output_type": "stream",
     "text": [
      "HybridCombinationSearch: URM Detected 27 (0.34 %) cold users.\n",
      "HybridCombinationSearch: URM Detected 1634 (6.29 %) cold items.\n",
      "EvaluatorHoldout: Processed 4106 ( 100.00% ) in 7.69 sec. Users per second: 534\n"
     ]
    },
    {
     "data": {
      "text/plain": [
       "0.07132848062192154"
      ]
     },
     "execution_count": 42,
     "metadata": {},
     "output_type": "execute_result"
    }
   ],
   "source": [
    "list_recommender = [icb, p3a, sbpr]\n",
    "combo26 = HybridCombinationSearch(URM_train, ICM_all, list_recommender)\n",
    "params={'alpha': 0.9966101776460795, 'l1_ratio': 0.24103276386735034}\n",
    "combo26.fit(**params)\n",
    "result, _ = evaluator_test.evaluateRecommender(combo26)\n",
    "result[10]['MAP']"
   ]
  },
  {
   "cell_type": "code",
   "execution_count": 43,
   "metadata": {},
   "outputs": [
    {
     "name": "stdout",
     "output_type": "stream",
     "text": [
      "HybridCombinationSearch: URM Detected 27 (0.34 %) cold users.\n",
      "HybridCombinationSearch: URM Detected 1634 (6.29 %) cold items.\n",
      "EvaluatorHoldout: Processed 4106 ( 100.00% ) in 7.98 sec. Users per second: 515\n"
     ]
    },
    {
     "data": {
      "text/plain": [
       "0.07247436661157572"
      ]
     },
     "execution_count": 43,
     "metadata": {},
     "output_type": "execute_result"
    }
   ],
   "source": [
    "list_recommender = [icb, rp3b, sbpr]\n",
    "combo27 = HybridCombinationSearch(URM_train, ICM_all, list_recommender)\n",
    "params={'alpha': 0.7781420779249448, 'l1_ratio': 0.27134602211348197}\n",
    "combo27.fit(**params)\n",
    "result, _ = evaluator_test.evaluateRecommender(combo27)\n",
    "result[10]['MAP']"
   ]
  },
  {
   "cell_type": "code",
   "execution_count": 44,
   "metadata": {},
   "outputs": [
    {
     "name": "stdout",
     "output_type": "stream",
     "text": [
      "HybridCombinationSearch: URM Detected 27 (0.34 %) cold users.\n",
      "HybridCombinationSearch: URM Detected 1634 (6.29 %) cold items.\n",
      "EvaluatorHoldout: Processed 4106 ( 100.00% ) in 7.65 sec. Users per second: 537\n"
     ]
    },
    {
     "data": {
      "text/plain": [
       "0.07174618515119048"
      ]
     },
     "execution_count": 44,
     "metadata": {},
     "output_type": "execute_result"
    }
   ],
   "source": [
    "list_recommender = [icb, ucf, sbpr]\n",
    "combo28 = HybridCombinationSearch(URM_train, ICM_all, list_recommender)\n",
    "params={'alpha': 0.8170261573317669, 'l1_ratio': 0.20761151334998523}\n",
    "combo28.fit(**params)\n",
    "result, _ = evaluator_test.evaluateRecommender(combo28)\n",
    "result[10]['MAP']"
   ]
  },
  {
   "cell_type": "markdown",
   "metadata": {},
   "source": [
    "---\n",
    "### USER WISE PLOTS"
   ]
  },
  {
   "cell_type": "code",
   "execution_count": 45,
   "metadata": {},
   "outputs": [],
   "source": [
    "merged_hybrid = [merged1, merged2, merged3, merged4, merged5, merged6, merged7, merged8]\n",
    "combo_hybrid = [combo1, combo2, combo3, combo4, combo5, combo6, combo7, combo8, combo9, combo10,\n",
    "                combo11, combo12, combo13, combo14, combo15, combo16, combo17, combo18, combo19, combo20,\n",
    "                combo21, combo22, combo23, combo24, combo25, combo26, combo27, combo28]"
   ]
  },
  {
   "cell_type": "code",
   "execution_count": 46,
   "metadata": {},
   "outputs": [],
   "source": [
    "num_merged = 8\n",
    "num_combo = 28"
   ]
  },
  {
   "cell_type": "code",
   "execution_count": 47,
   "metadata": {
    "scrolled": true
   },
   "outputs": [
    {
     "name": "stdout",
     "output_type": "stream",
     "text": [
      "Warning: the URM_test filtered in (0, 3) has 566 of 4106 total users in the original URM_test. (0.14)\n",
      "EvaluatorHoldout: Processed 566 ( 100.00% ) in 0.58 sec. Users per second: 971\n",
      "EvaluatorHoldout: Processed 566 ( 100.00% ) in 0.63 sec. Users per second: 902\n",
      "EvaluatorHoldout: Processed 566 ( 100.00% ) in 0.62 sec. Users per second: 906\n",
      "EvaluatorHoldout: Processed 566 ( 100.00% ) in 0.66 sec. Users per second: 863\n",
      "EvaluatorHoldout: Processed 566 ( 100.00% ) in 0.64 sec. Users per second: 890\n",
      "EvaluatorHoldout: Processed 566 ( 100.00% ) in 0.65 sec. Users per second: 867\n",
      "EvaluatorHoldout: Processed 566 ( 100.00% ) in 0.63 sec. Users per second: 893\n",
      "EvaluatorHoldout: Processed 566 ( 100.00% ) in 0.63 sec. Users per second: 897\n",
      "EvaluatorHoldout: Processed 566 ( 100.00% ) in 0.89 sec. Users per second: 635\n",
      "EvaluatorHoldout: Processed 566 ( 100.00% ) in 0.90 sec. Users per second: 628\n",
      "EvaluatorHoldout: Processed 566 ( 100.00% ) in 0.87 sec. Users per second: 650\n",
      "EvaluatorHoldout: Processed 566 ( 100.00% ) in 0.87 sec. Users per second: 648\n",
      "EvaluatorHoldout: Processed 566 ( 100.00% ) in 0.87 sec. Users per second: 647\n",
      "EvaluatorHoldout: Processed 566 ( 100.00% ) in 0.94 sec. Users per second: 602\n",
      "EvaluatorHoldout: Processed 566 ( 100.00% ) in 0.89 sec. Users per second: 637\n",
      "EvaluatorHoldout: Processed 566 ( 100.00% ) in 0.90 sec. Users per second: 626\n",
      "EvaluatorHoldout: Processed 566 ( 100.00% ) in 0.90 sec. Users per second: 632\n",
      "EvaluatorHoldout: Processed 566 ( 100.00% ) in 0.87 sec. Users per second: 653\n",
      "EvaluatorHoldout: Processed 566 ( 100.00% ) in 0.95 sec. Users per second: 593\n",
      "EvaluatorHoldout: Processed 566 ( 100.00% ) in 0.91 sec. Users per second: 619\n",
      "EvaluatorHoldout: Processed 566 ( 100.00% ) in 0.87 sec. Users per second: 651\n",
      "EvaluatorHoldout: Processed 566 ( 100.00% ) in 0.85 sec. Users per second: 670\n",
      "EvaluatorHoldout: Processed 566 ( 100.00% ) in 0.85 sec. Users per second: 664\n",
      "EvaluatorHoldout: Processed 566 ( 100.00% ) in 0.85 sec. Users per second: 664\n",
      "EvaluatorHoldout: Processed 566 ( 100.00% ) in 0.85 sec. Users per second: 668\n",
      "EvaluatorHoldout: Processed 566 ( 100.00% ) in 0.84 sec. Users per second: 674\n",
      "EvaluatorHoldout: Processed 566 ( 100.00% ) in 0.85 sec. Users per second: 664\n",
      "EvaluatorHoldout: Processed 566 ( 100.00% ) in 0.90 sec. Users per second: 627\n",
      "EvaluatorHoldout: Processed 566 ( 100.00% ) in 0.89 sec. Users per second: 638\n",
      "EvaluatorHoldout: Processed 566 ( 100.00% ) in 0.91 sec. Users per second: 621\n",
      "EvaluatorHoldout: Processed 566 ( 100.00% ) in 0.98 sec. Users per second: 580\n",
      "EvaluatorHoldout: Processed 566 ( 100.00% ) in 0.88 sec. Users per second: 643\n",
      "EvaluatorHoldout: Processed 566 ( 100.00% ) in 0.94 sec. Users per second: 599\n",
      "EvaluatorHoldout: Processed 566 ( 100.00% ) in 0.84 sec. Users per second: 675\n",
      "EvaluatorHoldout: Processed 566 ( 100.00% ) in 0.86 sec. Users per second: 656\n",
      "EvaluatorHoldout: Processed 566 ( 100.00% ) in 0.85 sec. Users per second: 665\n",
      "Warning: the URM_test filtered in (3, 5) has 581 of 4106 total users in the original URM_test. (0.14)\n",
      "EvaluatorHoldout: Processed 581 ( 100.00% ) in 0.62 sec. Users per second: 944\n",
      "EvaluatorHoldout: Processed 581 ( 100.00% ) in 0.70 sec. Users per second: 834\n",
      "EvaluatorHoldout: Processed 581 ( 100.00% ) in 0.79 sec. Users per second: 738\n",
      "EvaluatorHoldout: Processed 581 ( 100.00% ) in 0.75 sec. Users per second: 772\n",
      "EvaluatorHoldout: Processed 581 ( 100.00% ) in 0.75 sec. Users per second: 772\n",
      "EvaluatorHoldout: Processed 581 ( 100.00% ) in 0.76 sec. Users per second: 763\n",
      "EvaluatorHoldout: Processed 581 ( 100.00% ) in 0.73 sec. Users per second: 793\n",
      "EvaluatorHoldout: Processed 581 ( 100.00% ) in 0.75 sec. Users per second: 772\n",
      "EvaluatorHoldout: Processed 581 ( 100.00% ) in 1.02 sec. Users per second: 568\n",
      "EvaluatorHoldout: Processed 581 ( 100.00% ) in 1.10 sec. Users per second: 526\n",
      "EvaluatorHoldout: Processed 581 ( 100.00% ) in 0.98 sec. Users per second: 593\n",
      "EvaluatorHoldout: Processed 581 ( 100.00% ) in 0.89 sec. Users per second: 652\n",
      "EvaluatorHoldout: Processed 581 ( 100.00% ) in 0.89 sec. Users per second: 656\n",
      "EvaluatorHoldout: Processed 581 ( 100.00% ) in 0.90 sec. Users per second: 644\n",
      "EvaluatorHoldout: Processed 581 ( 100.00% ) in 0.88 sec. Users per second: 658\n",
      "EvaluatorHoldout: Processed 581 ( 100.00% ) in 0.90 sec. Users per second: 646\n",
      "EvaluatorHoldout: Processed 581 ( 100.00% ) in 0.89 sec. Users per second: 654\n",
      "EvaluatorHoldout: Processed 581 ( 100.00% ) in 0.89 sec. Users per second: 654\n",
      "EvaluatorHoldout: Processed 581 ( 100.00% ) in 0.92 sec. Users per second: 629\n",
      "EvaluatorHoldout: Processed 581 ( 100.00% ) in 0.91 sec. Users per second: 640\n",
      "EvaluatorHoldout: Processed 581 ( 100.00% ) in 0.93 sec. Users per second: 623\n",
      "EvaluatorHoldout: Processed 581 ( 100.00% ) in 0.91 sec. Users per second: 639\n",
      "EvaluatorHoldout: Processed 581 ( 100.00% ) in 0.94 sec. Users per second: 615\n",
      "EvaluatorHoldout: Processed 581 ( 100.00% ) in 0.92 sec. Users per second: 628\n",
      "EvaluatorHoldout: Processed 581 ( 100.00% ) in 0.91 sec. Users per second: 638\n",
      "EvaluatorHoldout: Processed 581 ( 100.00% ) in 0.90 sec. Users per second: 648\n",
      "EvaluatorHoldout: Processed 581 ( 100.00% ) in 0.98 sec. Users per second: 595\n",
      "EvaluatorHoldout: Processed 581 ( 100.00% ) in 0.95 sec. Users per second: 615\n",
      "EvaluatorHoldout: Processed 581 ( 100.00% ) in 0.97 sec. Users per second: 598\n",
      "EvaluatorHoldout: Processed 581 ( 100.00% ) in 0.95 sec. Users per second: 614\n",
      "EvaluatorHoldout: Processed 581 ( 100.00% ) in 0.99 sec. Users per second: 590\n",
      "EvaluatorHoldout: Processed 581 ( 100.00% ) in 1.03 sec. Users per second: 567\n",
      "EvaluatorHoldout: Processed 581 ( 100.00% ) in 0.95 sec. Users per second: 613\n",
      "EvaluatorHoldout: Processed 581 ( 100.00% ) in 0.91 sec. Users per second: 639\n",
      "EvaluatorHoldout: Processed 581 ( 100.00% ) in 0.93 sec. Users per second: 626\n",
      "EvaluatorHoldout: Processed 581 ( 100.00% ) in 0.92 sec. Users per second: 632\n",
      "Warning: the URM_test filtered in (5, 10) has 1027 of 4106 total users in the original URM_test. (0.25)\n",
      "EvaluatorHoldout: Processed 1027 ( 100.00% ) in 1.16 sec. Users per second: 882\n",
      "EvaluatorHoldout: Processed 1027 ( 100.00% ) in 1.28 sec. Users per second: 799\n",
      "EvaluatorHoldout: Processed 1027 ( 100.00% ) in 1.24 sec. Users per second: 828\n",
      "EvaluatorHoldout: Processed 1027 ( 100.00% ) in 1.26 sec. Users per second: 814\n",
      "EvaluatorHoldout: Processed 1027 ( 100.00% ) in 1.29 sec. Users per second: 796\n",
      "EvaluatorHoldout: Processed 1027 ( 100.00% ) in 1.26 sec. Users per second: 814\n",
      "EvaluatorHoldout: Processed 1027 ( 100.00% ) in 1.24 sec. Users per second: 831\n",
      "EvaluatorHoldout: Processed 1027 ( 100.00% ) in 1.27 sec. Users per second: 811\n",
      "EvaluatorHoldout: Processed 1027 ( 100.00% ) in 1.62 sec. Users per second: 634\n",
      "EvaluatorHoldout: Processed 1027 ( 100.00% ) in 1.66 sec. Users per second: 617\n",
      "EvaluatorHoldout: Processed 1027 ( 100.00% ) in 1.63 sec. Users per second: 628\n",
      "EvaluatorHoldout: Processed 1027 ( 100.00% ) in 1.66 sec. Users per second: 620\n",
      "EvaluatorHoldout: Processed 1027 ( 100.00% ) in 1.63 sec. Users per second: 629\n",
      "EvaluatorHoldout: Processed 1027 ( 100.00% ) in 1.70 sec. Users per second: 604\n",
      "EvaluatorHoldout: Processed 1027 ( 100.00% ) in 1.62 sec. Users per second: 634\n",
      "EvaluatorHoldout: Processed 1027 ( 100.00% ) in 1.66 sec. Users per second: 620\n",
      "EvaluatorHoldout: Processed 1027 ( 100.00% ) in 1.65 sec. Users per second: 621\n",
      "EvaluatorHoldout: Processed 1027 ( 100.00% ) in 1.58 sec. Users per second: 649\n",
      "EvaluatorHoldout: Processed 1027 ( 100.00% ) in 1.58 sec. Users per second: 650\n",
      "EvaluatorHoldout: Processed 1027 ( 100.00% ) in 1.64 sec. Users per second: 625\n",
      "EvaluatorHoldout: Processed 1027 ( 100.00% ) in 1.60 sec. Users per second: 641\n",
      "EvaluatorHoldout: Processed 1027 ( 100.00% ) in 1.61 sec. Users per second: 639\n",
      "EvaluatorHoldout: Processed 1027 ( 100.00% ) in 1.69 sec. Users per second: 607\n",
      "EvaluatorHoldout: Processed 1027 ( 100.00% ) in 1.69 sec. Users per second: 608\n",
      "EvaluatorHoldout: Processed 1027 ( 100.00% ) in 1.83 sec. Users per second: 560\n",
      "EvaluatorHoldout: Processed 1027 ( 100.00% ) in 1.73 sec. Users per second: 594\n",
      "EvaluatorHoldout: Processed 1027 ( 100.00% ) in 1.80 sec. Users per second: 571\n",
      "EvaluatorHoldout: Processed 1027 ( 100.00% ) in 1.77 sec. Users per second: 582\n"
     ]
    },
    {
     "name": "stdout",
     "output_type": "stream",
     "text": [
      "EvaluatorHoldout: Processed 1027 ( 100.00% ) in 1.82 sec. Users per second: 565\n",
      "EvaluatorHoldout: Processed 1027 ( 100.00% ) in 1.67 sec. Users per second: 615\n",
      "EvaluatorHoldout: Processed 1027 ( 100.00% ) in 1.80 sec. Users per second: 571\n",
      "EvaluatorHoldout: Processed 1027 ( 100.00% ) in 1.76 sec. Users per second: 582\n",
      "EvaluatorHoldout: Processed 1027 ( 100.00% ) in 1.45 sec. Users per second: 707\n",
      "EvaluatorHoldout: Processed 1027 ( 100.00% ) in 1.26 sec. Users per second: 818\n",
      "EvaluatorHoldout: Processed 1027 ( 100.00% ) in 1.20 sec. Users per second: 853\n",
      "EvaluatorHoldout: Processed 1027 ( 100.00% ) in 1.38 sec. Users per second: 743\n",
      "Warning: the URM_test filtered in (10, 17) has 676 of 4106 total users in the original URM_test. (0.16)\n",
      "EvaluatorHoldout: Processed 676 ( 100.00% ) in 0.79 sec. Users per second: 859\n",
      "EvaluatorHoldout: Processed 676 ( 100.00% ) in 0.90 sec. Users per second: 752\n",
      "EvaluatorHoldout: Processed 676 ( 100.00% ) in 0.88 sec. Users per second: 766\n",
      "EvaluatorHoldout: Processed 676 ( 100.00% ) in 0.88 sec. Users per second: 770\n",
      "EvaluatorHoldout: Processed 676 ( 100.00% ) in 0.87 sec. Users per second: 779\n",
      "EvaluatorHoldout: Processed 676 ( 100.00% ) in 0.86 sec. Users per second: 788\n",
      "EvaluatorHoldout: Processed 676 ( 100.00% ) in 0.82 sec. Users per second: 821\n",
      "EvaluatorHoldout: Processed 676 ( 100.00% ) in 0.83 sec. Users per second: 811\n",
      "EvaluatorHoldout: Processed 676 ( 100.00% ) in 1.09 sec. Users per second: 620\n",
      "EvaluatorHoldout: Processed 676 ( 100.00% ) in 1.17 sec. Users per second: 578\n",
      "EvaluatorHoldout: Processed 676 ( 100.00% ) in 1.15 sec. Users per second: 587\n",
      "EvaluatorHoldout: Processed 676 ( 100.00% ) in 1.18 sec. Users per second: 575\n",
      "EvaluatorHoldout: Processed 676 ( 100.00% ) in 1.14 sec. Users per second: 593\n",
      "EvaluatorHoldout: Processed 676 ( 100.00% ) in 1.23 sec. Users per second: 547\n",
      "EvaluatorHoldout: Processed 676 ( 100.00% ) in 1.10 sec. Users per second: 613\n",
      "EvaluatorHoldout: Processed 676 ( 100.00% ) in 1.17 sec. Users per second: 579\n",
      "EvaluatorHoldout: Processed 676 ( 100.00% ) in 1.14 sec. Users per second: 595\n",
      "EvaluatorHoldout: Processed 676 ( 100.00% ) in 1.09 sec. Users per second: 622\n",
      "EvaluatorHoldout: Processed 676 ( 100.00% ) in 1.08 sec. Users per second: 625\n",
      "EvaluatorHoldout: Processed 676 ( 100.00% ) in 1.17 sec. Users per second: 576\n",
      "EvaluatorHoldout: Processed 676 ( 100.00% ) in 1.10 sec. Users per second: 616\n",
      "EvaluatorHoldout: Processed 676 ( 100.00% ) in 1.10 sec. Users per second: 615\n",
      "EvaluatorHoldout: Processed 676 ( 100.00% ) in 1.18 sec. Users per second: 571\n",
      "EvaluatorHoldout: Processed 676 ( 100.00% ) in 1.15 sec. Users per second: 588\n",
      "EvaluatorHoldout: Processed 676 ( 100.00% ) in 1.28 sec. Users per second: 530\n",
      "EvaluatorHoldout: Processed 676 ( 100.00% ) in 1.23 sec. Users per second: 548\n",
      "EvaluatorHoldout: Processed 676 ( 100.00% ) in 1.32 sec. Users per second: 513\n",
      "EvaluatorHoldout: Processed 676 ( 100.00% ) in 1.17 sec. Users per second: 577\n",
      "EvaluatorHoldout: Processed 676 ( 100.00% ) in 1.22 sec. Users per second: 555\n",
      "EvaluatorHoldout: Processed 676 ( 100.00% ) in 1.18 sec. Users per second: 575\n",
      "EvaluatorHoldout: Processed 676 ( 100.00% ) in 1.29 sec. Users per second: 523\n",
      "EvaluatorHoldout: Processed 676 ( 100.00% ) in 1.24 sec. Users per second: 543\n",
      "EvaluatorHoldout: Processed 676 ( 100.00% ) in 1.20 sec. Users per second: 565\n",
      "EvaluatorHoldout: Processed 676 ( 100.00% ) in 1.18 sec. Users per second: 572\n",
      "EvaluatorHoldout: Processed 676 ( 100.00% ) in 1.25 sec. Users per second: 542\n",
      "EvaluatorHoldout: Processed 676 ( 100.00% ) in 1.21 sec. Users per second: 558\n",
      "Warning: the URM_test filtered in (17, 30) has 589 of 4106 total users in the original URM_test. (0.14)\n",
      "EvaluatorHoldout: Processed 589 ( 100.00% ) in 0.72 sec. Users per second: 816\n",
      "EvaluatorHoldout: Processed 589 ( 100.00% ) in 0.83 sec. Users per second: 712\n",
      "EvaluatorHoldout: Processed 589 ( 100.00% ) in 0.82 sec. Users per second: 716\n",
      "EvaluatorHoldout: Processed 589 ( 100.00% ) in 0.82 sec. Users per second: 717\n",
      "EvaluatorHoldout: Processed 589 ( 100.00% ) in 0.81 sec. Users per second: 728\n",
      "EvaluatorHoldout: Processed 589 ( 100.00% ) in 0.81 sec. Users per second: 732\n",
      "EvaluatorHoldout: Processed 589 ( 100.00% ) in 0.77 sec. Users per second: 769\n",
      "EvaluatorHoldout: Processed 589 ( 100.00% ) in 0.78 sec. Users per second: 756\n",
      "EvaluatorHoldout: Processed 589 ( 100.00% ) in 1.00 sec. Users per second: 590\n",
      "EvaluatorHoldout: Processed 589 ( 100.00% ) in 1.10 sec. Users per second: 537\n",
      "EvaluatorHoldout: Processed 589 ( 100.00% ) in 1.07 sec. Users per second: 550\n",
      "EvaluatorHoldout: Processed 589 ( 100.00% ) in 1.10 sec. Users per second: 534\n",
      "EvaluatorHoldout: Processed 589 ( 100.00% ) in 1.08 sec. Users per second: 544\n",
      "EvaluatorHoldout: Processed 589 ( 100.00% ) in 1.23 sec. Users per second: 480\n",
      "EvaluatorHoldout: Processed 589 ( 100.00% ) in 1.03 sec. Users per second: 574\n",
      "EvaluatorHoldout: Processed 589 ( 100.00% ) in 1.10 sec. Users per second: 534\n",
      "EvaluatorHoldout: Processed 589 ( 100.00% ) in 1.10 sec. Users per second: 537\n",
      "EvaluatorHoldout: Processed 589 ( 100.00% ) in 1.00 sec. Users per second: 588\n",
      "EvaluatorHoldout: Processed 589 ( 100.00% ) in 1.03 sec. Users per second: 569\n",
      "EvaluatorHoldout: Processed 589 ( 100.00% ) in 1.24 sec. Users per second: 475\n",
      "EvaluatorHoldout: Processed 589 ( 100.00% ) in 1.01 sec. Users per second: 583\n",
      "EvaluatorHoldout: Processed 589 ( 100.00% ) in 1.03 sec. Users per second: 572\n",
      "EvaluatorHoldout: Processed 589 ( 100.00% ) in 1.13 sec. Users per second: 521\n",
      "EvaluatorHoldout: Processed 589 ( 100.00% ) in 1.09 sec. Users per second: 541\n",
      "EvaluatorHoldout: Processed 589 ( 100.00% ) in 1.15 sec. Users per second: 512\n",
      "EvaluatorHoldout: Processed 589 ( 100.00% ) in 1.09 sec. Users per second: 538\n",
      "EvaluatorHoldout: Processed 589 ( 100.00% ) in 1.27 sec. Users per second: 464\n",
      "EvaluatorHoldout: Processed 589 ( 100.00% ) in 1.09 sec. Users per second: 538\n",
      "EvaluatorHoldout: Processed 589 ( 100.00% ) in 1.15 sec. Users per second: 512\n",
      "EvaluatorHoldout: Processed 589 ( 100.00% ) in 1.08 sec. Users per second: 547\n",
      "EvaluatorHoldout: Processed 589 ( 100.00% ) in 1.22 sec. Users per second: 482\n",
      "EvaluatorHoldout: Processed 589 ( 100.00% ) in 1.23 sec. Users per second: 479\n",
      "EvaluatorHoldout: Processed 589 ( 100.00% ) in 1.17 sec. Users per second: 505\n",
      "EvaluatorHoldout: Processed 589 ( 100.00% ) in 1.14 sec. Users per second: 516\n",
      "EvaluatorHoldout: Processed 589 ( 100.00% ) in 1.22 sec. Users per second: 482\n",
      "EvaluatorHoldout: Processed 589 ( 100.00% ) in 1.16 sec. Users per second: 507\n",
      "Warning: the URM_test filtered in (30, 100) has 522 of 4106 total users in the original URM_test. (0.13)\n",
      "EvaluatorHoldout: Processed 522 ( 100.00% ) in 0.74 sec. Users per second: 704\n",
      "EvaluatorHoldout: Processed 522 ( 100.00% ) in 0.88 sec. Users per second: 592\n",
      "EvaluatorHoldout: Processed 522 ( 100.00% ) in 0.89 sec. Users per second: 588\n",
      "EvaluatorHoldout: Processed 522 ( 100.00% ) in 0.88 sec. Users per second: 595\n",
      "EvaluatorHoldout: Processed 522 ( 100.00% ) in 0.86 sec. Users per second: 608\n",
      "EvaluatorHoldout: Processed 522 ( 100.00% ) in 0.85 sec. Users per second: 612\n",
      "EvaluatorHoldout: Processed 522 ( 100.00% ) in 0.80 sec. Users per second: 653\n",
      "EvaluatorHoldout: Processed 522 ( 100.00% ) in 0.84 sec. Users per second: 623\n",
      "EvaluatorHoldout: Processed 522 ( 100.00% ) in 1.06 sec. Users per second: 493\n",
      "EvaluatorHoldout: Processed 522 ( 100.00% ) in 1.17 sec. Users per second: 445\n",
      "EvaluatorHoldout: Processed 522 ( 100.00% ) in 1.16 sec. Users per second: 452\n",
      "EvaluatorHoldout: Processed 522 ( 100.00% ) in 1.16 sec. Users per second: 450\n",
      "EvaluatorHoldout: Processed 522 ( 100.00% ) in 1.13 sec. Users per second: 461\n",
      "EvaluatorHoldout: Processed 522 ( 100.00% ) in 1.37 sec. Users per second: 380\n",
      "EvaluatorHoldout: Processed 522 ( 100.00% ) in 1.01 sec. Users per second: 517\n",
      "EvaluatorHoldout: Processed 522 ( 100.00% ) in 1.12 sec. Users per second: 466\n",
      "EvaluatorHoldout: Processed 522 ( 100.00% ) in 1.09 sec. Users per second: 478\n",
      "EvaluatorHoldout: Processed 522 ( 100.00% ) in 1.02 sec. Users per second: 514\n",
      "EvaluatorHoldout: Processed 522 ( 100.00% ) in 1.08 sec. Users per second: 485\n",
      "EvaluatorHoldout: Processed 522 ( 100.00% ) in 1.28 sec. Users per second: 408\n"
     ]
    },
    {
     "name": "stdout",
     "output_type": "stream",
     "text": [
      "EvaluatorHoldout: Processed 522 ( 100.00% ) in 0.99 sec. Users per second: 526\n",
      "EvaluatorHoldout: Processed 522 ( 100.00% ) in 1.07 sec. Users per second: 487\n",
      "EvaluatorHoldout: Processed 522 ( 100.00% ) in 1.22 sec. Users per second: 429\n",
      "EvaluatorHoldout: Processed 522 ( 100.00% ) in 1.12 sec. Users per second: 465\n",
      "EvaluatorHoldout: Processed 522 ( 100.00% ) in 1.23 sec. Users per second: 423\n",
      "EvaluatorHoldout: Processed 522 ( 100.00% ) in 1.11 sec. Users per second: 472\n",
      "EvaluatorHoldout: Processed 522 ( 100.00% ) in 1.45 sec. Users per second: 360\n",
      "EvaluatorHoldout: Processed 522 ( 100.00% ) in 1.13 sec. Users per second: 461\n",
      "EvaluatorHoldout: Processed 522 ( 100.00% ) in 1.25 sec. Users per second: 416\n",
      "EvaluatorHoldout: Processed 522 ( 100.00% ) in 1.16 sec. Users per second: 451\n",
      "EvaluatorHoldout: Processed 522 ( 100.00% ) in 1.40 sec. Users per second: 372\n",
      "EvaluatorHoldout: Processed 522 ( 100.00% ) in 1.40 sec. Users per second: 373\n",
      "EvaluatorHoldout: Processed 522 ( 100.00% ) in 1.31 sec. Users per second: 399\n",
      "EvaluatorHoldout: Processed 522 ( 100.00% ) in 1.29 sec. Users per second: 405\n",
      "EvaluatorHoldout: Processed 522 ( 100.00% ) in 1.41 sec. Users per second: 370\n",
      "EvaluatorHoldout: Processed 522 ( 100.00% ) in 1.26 sec. Users per second: 416\n",
      "Warning: the URM_test filtered in (100, 200) has 80 of 4106 total users in the original URM_test. (0.02)\n",
      "EvaluatorHoldout: Processed 80 ( 100.00% ) in 0.16 sec. Users per second: 497\n",
      "EvaluatorHoldout: Processed 80 ( 100.00% ) in 0.22 sec. Users per second: 360\n",
      "EvaluatorHoldout: Processed 80 ( 100.00% ) in 0.21 sec. Users per second: 372\n",
      "EvaluatorHoldout: Processed 80 ( 100.00% ) in 0.22 sec. Users per second: 360\n",
      "EvaluatorHoldout: Processed 80 ( 100.00% ) in 0.21 sec. Users per second: 372\n",
      "EvaluatorHoldout: Processed 80 ( 100.00% ) in 0.21 sec. Users per second: 381\n",
      "EvaluatorHoldout: Processed 80 ( 100.00% ) in 0.19 sec. Users per second: 423\n",
      "EvaluatorHoldout: Processed 80 ( 100.00% ) in 0.20 sec. Users per second: 398\n",
      "EvaluatorHoldout: Processed 80 ( 100.00% ) in 0.19 sec. Users per second: 412\n",
      "EvaluatorHoldout: Processed 80 ( 100.00% ) in 0.24 sec. Users per second: 338\n",
      "EvaluatorHoldout: Processed 80 ( 100.00% ) in 0.23 sec. Users per second: 345\n",
      "EvaluatorHoldout: Processed 80 ( 100.00% ) in 0.24 sec. Users per second: 340\n",
      "EvaluatorHoldout: Processed 80 ( 100.00% ) in 0.22 sec. Users per second: 356\n",
      "EvaluatorHoldout: Processed 80 ( 100.00% ) in 0.30 sec. Users per second: 270\n",
      "EvaluatorHoldout: Processed 80 ( 100.00% ) in 0.20 sec. Users per second: 406\n",
      "EvaluatorHoldout: Processed 80 ( 100.00% ) in 0.23 sec. Users per second: 346\n",
      "EvaluatorHoldout: Processed 80 ( 100.00% ) in 0.23 sec. Users per second: 353\n",
      "EvaluatorHoldout: Processed 80 ( 100.00% ) in 0.19 sec. Users per second: 412\n",
      "EvaluatorHoldout: Processed 80 ( 100.00% ) in 0.22 sec. Users per second: 357\n",
      "EvaluatorHoldout: Processed 80 ( 100.00% ) in 0.30 sec. Users per second: 265\n",
      "EvaluatorHoldout: Processed 80 ( 100.00% ) in 0.20 sec. Users per second: 408\n",
      "EvaluatorHoldout: Processed 80 ( 100.00% ) in 0.22 sec. Users per second: 360\n",
      "EvaluatorHoldout: Processed 80 ( 100.00% ) in 0.28 sec. Users per second: 290\n",
      "EvaluatorHoldout: Processed 80 ( 100.00% ) in 0.24 sec. Users per second: 332\n",
      "EvaluatorHoldout: Processed 80 ( 100.00% ) in 0.27 sec. Users per second: 297\n",
      "EvaluatorHoldout: Processed 80 ( 100.00% ) in 0.23 sec. Users per second: 342\n",
      "EvaluatorHoldout: Processed 80 ( 100.00% ) in 0.34 sec. Users per second: 236\n",
      "EvaluatorHoldout: Processed 80 ( 100.00% ) in 0.24 sec. Users per second: 340\n",
      "EvaluatorHoldout: Processed 80 ( 100.00% ) in 0.27 sec. Users per second: 295\n",
      "EvaluatorHoldout: Processed 80 ( 100.00% ) in 0.23 sec. Users per second: 349\n",
      "EvaluatorHoldout: Processed 80 ( 100.00% ) in 0.30 sec. Users per second: 266\n",
      "EvaluatorHoldout: Processed 80 ( 100.00% ) in 0.30 sec. Users per second: 263\n",
      "EvaluatorHoldout: Processed 80 ( 100.00% ) in 0.27 sec. Users per second: 293\n",
      "EvaluatorHoldout: Processed 80 ( 100.00% ) in 0.27 sec. Users per second: 301\n",
      "EvaluatorHoldout: Processed 80 ( 100.00% ) in 0.29 sec. Users per second: 273\n",
      "EvaluatorHoldout: Processed 80 ( 100.00% ) in 0.27 sec. Users per second: 292\n",
      "Warning: the URM_test filtered in (200, -1) has 38 of 4106 total users in the original URM_test. (0.01)\n",
      "EvaluatorHoldout: Processed 38 ( 100.00% ) in 0.12 sec. Users per second: 330\n",
      "EvaluatorHoldout: Processed 38 ( 100.00% ) in 0.18 sec. Users per second: 207\n",
      "EvaluatorHoldout: Processed 38 ( 100.00% ) in 0.17 sec. Users per second: 224\n",
      "EvaluatorHoldout: Processed 38 ( 100.00% ) in 0.18 sec. Users per second: 217\n",
      "EvaluatorHoldout: Processed 38 ( 100.00% ) in 0.17 sec. Users per second: 228\n",
      "EvaluatorHoldout: Processed 38 ( 100.00% ) in 0.17 sec. Users per second: 229\n",
      "EvaluatorHoldout: Processed 38 ( 100.00% ) in 0.14 sec. Users per second: 268\n",
      "EvaluatorHoldout: Processed 38 ( 100.00% ) in 0.15 sec. Users per second: 245\n",
      "EvaluatorHoldout: Processed 38 ( 100.00% ) in 0.12 sec. Users per second: 314\n",
      "EvaluatorHoldout: Processed 38 ( 100.00% ) in 0.17 sec. Users per second: 222\n",
      "EvaluatorHoldout: Processed 38 ( 100.00% ) in 0.17 sec. Users per second: 221\n",
      "EvaluatorHoldout: Processed 38 ( 100.00% ) in 0.17 sec. Users per second: 229\n",
      "EvaluatorHoldout: Processed 38 ( 100.00% ) in 0.16 sec. Users per second: 238\n",
      "EvaluatorHoldout: Processed 38 ( 100.00% ) in 0.21 sec. Users per second: 178\n",
      "EvaluatorHoldout: Processed 38 ( 100.00% ) in 0.12 sec. Users per second: 317\n",
      "EvaluatorHoldout: Processed 38 ( 100.00% ) in 0.16 sec. Users per second: 244\n",
      "EvaluatorHoldout: Processed 38 ( 100.00% ) in 0.16 sec. Users per second: 242\n",
      "EvaluatorHoldout: Processed 38 ( 100.00% ) in 0.13 sec. Users per second: 302\n",
      "EvaluatorHoldout: Processed 38 ( 100.00% ) in 0.15 sec. Users per second: 247\n",
      "EvaluatorHoldout: Processed 38 ( 100.00% ) in 0.21 sec. Users per second: 183\n",
      "EvaluatorHoldout: Processed 38 ( 100.00% ) in 0.12 sec. Users per second: 322\n",
      "EvaluatorHoldout: Processed 38 ( 100.00% ) in 0.15 sec. Users per second: 259\n",
      "EvaluatorHoldout: Processed 38 ( 100.00% ) in 0.20 sec. Users per second: 188\n",
      "EvaluatorHoldout: Processed 38 ( 100.00% ) in 0.17 sec. Users per second: 220\n",
      "EvaluatorHoldout: Processed 38 ( 100.00% ) in 0.20 sec. Users per second: 188\n",
      "EvaluatorHoldout: Processed 38 ( 100.00% ) in 0.17 sec. Users per second: 226\n",
      "EvaluatorHoldout: Processed 38 ( 100.00% ) in 0.26 sec. Users per second: 148\n",
      "EvaluatorHoldout: Processed 38 ( 100.00% ) in 0.17 sec. Users per second: 229\n",
      "EvaluatorHoldout: Processed 38 ( 100.00% ) in 0.20 sec. Users per second: 193\n",
      "EvaluatorHoldout: Processed 38 ( 100.00% ) in 0.15 sec. Users per second: 247\n",
      "EvaluatorHoldout: Processed 38 ( 100.00% ) in 0.21 sec. Users per second: 182\n",
      "EvaluatorHoldout: Processed 38 ( 100.00% ) in 0.21 sec. Users per second: 177\n",
      "EvaluatorHoldout: Processed 38 ( 100.00% ) in 0.18 sec. Users per second: 210\n",
      "EvaluatorHoldout: Processed 38 ( 100.00% ) in 0.18 sec. Users per second: 212\n",
      "EvaluatorHoldout: Processed 38 ( 100.00% ) in 0.22 sec. Users per second: 170\n",
      "EvaluatorHoldout: Processed 38 ( 100.00% ) in 0.17 sec. Users per second: 217\n"
     ]
    }
   ],
   "source": [
    "f_ranges = [\n",
    "    (0,3),\n",
    "    (3,5),\n",
    "    (5,10),\n",
    "    (10,17),\n",
    "    (17,30),\n",
    "    (30,100),\n",
    "    (100,200),\n",
    "    (200,-1)\n",
    "]\n",
    "MAP_merged_per_group = []\n",
    "MAP_combo_per_group = []\n",
    "cutoff = 10\n",
    "\n",
    "for f_range in f_ranges:\n",
    "    URM_test_group = parser.filter_URM_test_by_range(URM_train, URM_test, f_range)\n",
    "    evaluator_test = EvaluatorHoldout(URM_test_group, cutoff_list=[cutoff])\n",
    "    \n",
    "    merged_dict={}\n",
    "    for i in range (num_merged):\n",
    "        results, _ = evaluator_test.evaluateRecommender(merged_hybrid[i])\n",
    "        key='merged'+str(i+1)\n",
    "        merged_dict[key]=results[cutoff][\"MAP\"]\n",
    "    \n",
    "    MAP_merged_per_group.append(merged_dict)\n",
    " \n",
    "    combo_dict={}\n",
    "    for i in range (num_combo):\n",
    "        results, _ = evaluator_test.evaluateRecommender(combo_hybrid[i])\n",
    "        key='combo'+str(i+1)\n",
    "        combo_dict[key]=results[cutoff][\"MAP\"]\n",
    "    \n",
    "    MAP_combo_per_group.append(combo_dict)"
   ]
  },
  {
   "cell_type": "code",
   "execution_count": 48,
   "metadata": {},
   "outputs": [],
   "source": [
    "def check_if_present(key_list, el):\n",
    "    for key_val, combo_val in key_list:\n",
    "        if key_val == el[0] and combo_val == el[1]:\n",
    "            return True\n",
    "    return False"
   ]
  },
  {
   "cell_type": "code",
   "execution_count": 49,
   "metadata": {},
   "outputs": [
    {
     "name": "stdout",
     "output_type": "stream",
     "text": [
      "RANGE (0, 3)\n",
      "> MAP combo-icf_ucf_p3a:\t 0.06696568792416852\n",
      "> MAP combo-icf_ucf_rp3b:\t 0.06944128947220822\n",
      "> MAP combo-icf_p3a_rp3b:\t 0.06935470301194685\n",
      "> MAP combo-ucf_p3a_rp3b:\t 0.06838752874530261\n",
      "> MAP combo-icb_icf_sen:\t 0.07483243591900836\n",
      "> MAP combo-icf_sen_sbpr:\t 0.06350702039747977\n",
      "> MAP combo-icb_icf_ucf:\t 0.05942623908613309\n",
      "> MAP combo-icf_ucf_sen:\t 0.06514351618150206\n",
      "> MAP combo-icb_p3a_sen:\t 0.07832499018453086\n",
      "> MAP combo-icb_icf_p3a:\t 0.07880980425150037\n",
      "> MAP combo-icf_p3a_sen:\t 0.06497349823321558\n",
      "> MAP combo-p3a_sen_sbpr:\t 0.06497349823321558\n",
      "> MAP combo-icb_ucf_p3a:\t 0.08013804756295924\n",
      "> MAP combo-ucf_p3a_sen:\t 0.06497349823321558\n",
      "> MAP combo-icb_rp3b_sen:\t 0.07615436928599473\n",
      "> MAP combo-icb_icf_rp3b:\t 0.08200684278422796\n",
      "> MAP combo-icf_rp3b_sen:\t 0.0677772168938247\n",
      "> MAP combo-icb_p3a_rp3b:\t 0.0790075158449717\n",
      "> MAP combo-rp3b_sen_sbpr:\t 0.06681109428459255\n",
      "> MAP combo-icb_ucf_rp3b:\t 0.07977732907061533\n",
      "> MAP combo-ucf_rp3b_sen:\t 0.06751710696056988\n",
      "> MAP combo-icb_ucf_sen:\t 0.07321007908463738\n",
      "> MAP combo-ucf_sen_sbpr:\t 0.0640308626395199\n",
      "> MAP combo-icb_sen_sbpr:\t 0.07388103651354536\n",
      "> MAP combo-icb_icf_sbpr:\t 0.0712213949183914\n",
      "> MAP combo-icb_p3a_sbpr:\t 0.08027055639688149\n",
      "> MAP combo-icb_rp3b_sbpr:\t 0.0800440995008133\n",
      "> MAP combo-icb_ucf_sbpr:\t 0.06446975433282853\n",
      "> MAP merged-icb_icf_p3a:\t 0.08038098042515003\n",
      "> MAP merged-icb_icf_rp3b:\t 0.08234232149868193\n",
      "> MAP merged-icb_icf_sen:\t 0.0741674378821022\n",
      "> MAP merged-icb_p3a_rp3b:\t 0.08162368893375962\n",
      "> MAP merged-icb_p3a_sen:\t 0.07937945201637783\n",
      "> MAP merged-icb_rp3b_sen:\t 0.08074941107184924\n",
      "> MAP merged-icf_p3a_rp3b:\t 0.06619166806887657\n",
      "> MAP merged-p3a_rp3b_sen:\t 0.0666719249537271\n",
      "Max MAP is 0.08234232149868193 from icb_icf_rp3b(MERGED) with difference from previous max of 0.0003354787144539684 from icb_icf_rp3b(COMBO) \n",
      "\n",
      "RANGE (3, 5)\n",
      "> MAP combo-icf_ucf_p3a:\t 0.07140227576974567\n",
      "> MAP combo-icf_ucf_rp3b:\t 0.06927505942135892\n",
      "> MAP combo-icf_p3a_rp3b:\t 0.0719264814359479\n",
      "> MAP combo-ucf_p3a_rp3b:\t 0.07117142037537909\n",
      "> MAP combo-icb_icf_sen:\t 0.07700820287954543\n",
      "> MAP combo-icf_sen_sbpr:\t 0.06773659262901949\n",
      "> MAP combo-icb_icf_ucf:\t 0.06695830942818896\n",
      "> MAP combo-icf_ucf_sen:\t 0.06427785973827282\n",
      "> MAP combo-icb_p3a_sen:\t 0.07701554517389288\n",
      "> MAP combo-icb_icf_p3a:\t 0.07646709286124088\n",
      "> MAP combo-icf_p3a_sen:\t 0.06932765073901048\n",
      "> MAP combo-p3a_sen_sbpr:\t 0.06932765073901048\n",
      "> MAP combo-icb_ucf_p3a:\t 0.07839111548233753\n",
      "> MAP combo-ucf_p3a_sen:\t 0.06932765073901048\n",
      "> MAP combo-icb_rp3b_sen:\t 0.07975234270414996\n",
      "> MAP combo-icb_icf_rp3b:\t 0.08257349124388715\n",
      "> MAP combo-icf_rp3b_sen:\t 0.06827719039423\n",
      "> MAP combo-icb_p3a_rp3b:\t 0.08058663224325878\n",
      "> MAP combo-rp3b_sen_sbpr:\t 0.0676037483266399\n",
      "> MAP combo-icb_ucf_rp3b:\t 0.07967550474004867\n",
      "> MAP combo-ucf_rp3b_sen:\t 0.06833934376963638\n",
      "> MAP combo-icb_ucf_sen:\t 0.07976958855831491\n",
      "> MAP combo-ucf_sen_sbpr:\t 0.07030730632279686\n",
      "> MAP combo-icb_sen_sbpr:\t 0.08277258694642517\n",
      "> MAP combo-icb_icf_sbpr:\t 0.07376103051662435\n",
      "> MAP combo-icb_p3a_sbpr:\t 0.07700256809551131\n",
      "> MAP combo-icb_rp3b_sbpr:\t 0.08499394403008867\n",
      "> MAP combo-icb_ucf_sbpr:\t 0.06828026391279403\n",
      "> MAP merged-icb_icf_p3a:\t 0.07823675655000957\n",
      "> MAP merged-icb_icf_rp3b:\t 0.0795102177417152\n",
      "> MAP merged-icb_icf_sen:\t 0.07648860749118924\n",
      "> MAP merged-icb_p3a_rp3b:\t 0.0807539682539683\n",
      "> MAP merged-icb_p3a_sen:\t 0.08085243468203883\n",
      "> MAP merged-icb_rp3b_sen:\t 0.07853625385897334\n",
      "> MAP merged-icf_p3a_rp3b:\t 0.06879832254186816\n",
      "> MAP merged-p3a_rp3b_sen:\t 0.07191862688850643\n",
      "Max MAP is 0.08499394403008867 from icb_rp3b_sbpr(COMBO) with difference from previous max of 0.0022213570836635 from icb_sen_sbpr(COMBO) \n",
      "\n",
      "RANGE (5, 10)\n",
      "> MAP combo-icf_ucf_p3a:\t 0.07705535205535204\n",
      "> MAP combo-icf_ucf_rp3b:\t 0.07919925245874614\n",
      "> MAP combo-icf_p3a_rp3b:\t 0.0795132610006028\n",
      "> MAP combo-ucf_p3a_rp3b:\t 0.0782752584967775\n",
      "> MAP combo-icb_icf_sen:\t 0.08441021004312148\n",
      "> MAP combo-icf_sen_sbpr:\t 0.0764301685187761\n",
      "> MAP combo-icb_icf_ucf:\t 0.07028005105536757\n",
      "> MAP combo-icf_ucf_sen:\t 0.07505499657398391\n",
      "> MAP combo-icb_p3a_sen:\t 0.08492533603293102\n",
      "> MAP combo-icb_icf_p3a:\t 0.0807222840450689\n",
      "> MAP combo-icf_p3a_sen:\t 0.07766057196436942\n",
      "> MAP combo-p3a_sen_sbpr:\t 0.07766057196436942\n",
      "> MAP combo-icb_ucf_p3a:\t 0.0845506316234165\n",
      "> MAP combo-ucf_p3a_sen:\t 0.07766057196436942\n",
      "> MAP combo-icb_rp3b_sen:\t 0.09264068561536917\n",
      "> MAP combo-icb_icf_rp3b:\t 0.08735078798369939\n",
      "> MAP combo-icf_rp3b_sen:\t 0.07866738278130685\n",
      "> MAP combo-icb_p3a_rp3b:\t 0.08862511140992156\n",
      "> MAP combo-rp3b_sen_sbpr:\t 0.07751850821471079\n",
      "> MAP combo-icb_ucf_rp3b:\t 0.08796920964642485\n",
      "> MAP combo-ucf_rp3b_sen:\t 0.0792348649943587\n",
      "> MAP combo-icb_ucf_sen:\t 0.08518832784655572\n",
      "> MAP combo-ucf_sen_sbpr:\t 0.07640589017171298\n",
      "> MAP combo-icb_sen_sbpr:\t 0.08744685811141512\n",
      "> MAP combo-icb_icf_sbpr:\t 0.07612665698108735\n",
      "> MAP combo-icb_p3a_sbpr:\t 0.08332750524206227\n",
      "> MAP combo-icb_rp3b_sbpr:\t 0.0873911660304066\n",
      "> MAP combo-icb_ucf_sbpr:\t 0.07384793769287445\n",
      "> MAP merged-icb_icf_p3a:\t 0.08567712760750743\n",
      "> MAP merged-icb_icf_rp3b:\t 0.0904922901758345\n",
      "> MAP merged-icb_icf_sen:\t 0.08698094568347742\n",
      "> MAP merged-icb_p3a_rp3b:\t 0.09003924462785227\n",
      "> MAP merged-icb_p3a_sen:\t 0.08480033796489499\n",
      "> MAP merged-icb_rp3b_sen:\t 0.09064691169121555\n",
      "> MAP merged-icf_p3a_rp3b:\t 0.07744927950624154\n",
      "> MAP merged-p3a_rp3b_sen:\t 0.07850934812960132\n",
      "Max MAP is 0.09264068561536917 from icb_rp3b_sen(COMBO) with difference from previous max of 0.00771534958243815 from icb_p3a_sen(COMBO) \n",
      "\n",
      "RANGE (10, 17)\n",
      "> MAP combo-icf_ucf_p3a:\t 0.05783814787420556\n",
      "> MAP combo-icf_ucf_rp3b:\t 0.057775067702952335\n",
      "> MAP combo-icf_p3a_rp3b:\t 0.057083802949187586\n",
      "> MAP combo-ucf_p3a_rp3b:\t 0.05759248008046087\n",
      "> MAP combo-icb_icf_sen:\t 0.071844210810557\n",
      "> MAP combo-icf_sen_sbpr:\t 0.058379805735574976\n",
      "> MAP combo-icb_icf_ucf:\t 0.06735319612723463\n",
      "> MAP combo-icf_ucf_sen:\t 0.059592725650417996\n",
      "> MAP combo-icb_p3a_sen:\t 0.07131070763282307\n",
      "> MAP combo-icb_icf_p3a:\t 0.06900807347922737\n",
      "> MAP combo-icf_p3a_sen:\t 0.056911263149243926\n",
      "> MAP combo-p3a_sen_sbpr:\t 0.056911263149243926\n",
      "> MAP combo-icb_ucf_p3a:\t 0.0706573056573057\n",
      "> MAP combo-ucf_p3a_sen:\t 0.056911263149243926\n",
      "> MAP combo-icb_rp3b_sen:\t 0.07508555813844282\n",
      "> MAP combo-icb_icf_rp3b:\t 0.0694061952114837\n",
      "> MAP combo-icf_rp3b_sen:\t 0.057062474562474576\n",
      "> MAP combo-icb_p3a_rp3b:\t 0.06857839943176482\n",
      "> MAP combo-rp3b_sen_sbpr:\t 0.05701052330860026\n",
      "> MAP combo-icb_ucf_rp3b:\t 0.06889803172255095\n",
      "> MAP combo-ucf_rp3b_sen:\t 0.05699927209542595\n",
      "> MAP combo-icb_ucf_sen:\t 0.07431693395635708\n",
      "> MAP combo-ucf_sen_sbpr:\t 0.05995018158479698\n",
      "> MAP combo-icb_sen_sbpr:\t 0.07310966899909215\n",
      "> MAP combo-icb_icf_sbpr:\t 0.06713425730252653\n",
      "> MAP combo-icb_p3a_sbpr:\t 0.07061910045083128\n",
      "> MAP combo-icb_rp3b_sbpr:\t 0.07247080554772868\n",
      "> MAP combo-icb_ucf_sbpr:\t 0.06771296100623028\n",
      "> MAP merged-icb_icf_p3a:\t 0.07394313930371627\n",
      "> MAP merged-icb_icf_rp3b:\t 0.06847565139632449\n",
      "> MAP merged-icb_icf_sen:\t 0.07107688785573407\n",
      "> MAP merged-icb_p3a_rp3b:\t 0.06812285248583326\n",
      "> MAP merged-icb_p3a_sen:\t 0.07352502465483238\n",
      "> MAP merged-icb_rp3b_sen:\t 0.06955172720797725\n",
      "> MAP merged-icf_p3a_rp3b:\t 0.058279293267274046\n",
      "> MAP merged-p3a_rp3b_sen:\t 0.056616755306659154\n",
      "Max MAP is 0.07508555813844282 from icb_rp3b_sen(COMBO) with difference from previous max of 0.0032413473278858213 from icb_icf_sen(COMBO) \n",
      "\n",
      "RANGE (17, 30)\n",
      "> MAP combo-icf_ucf_p3a:\t 0.06373707566407061\n",
      "> MAP combo-icf_ucf_rp3b:\t 0.06422909873249433\n",
      "> MAP combo-icf_p3a_rp3b:\t 0.06261404519362926\n",
      "> MAP combo-ucf_p3a_rp3b:\t 0.0652965859990478\n",
      "> MAP combo-icb_icf_sen:\t 0.07245462125616144\n",
      "> MAP combo-icf_sen_sbpr:\t 0.06843861124906482\n",
      "> MAP combo-icb_icf_ucf:\t 0.07014181960277038\n",
      "> MAP combo-icf_ucf_sen:\t 0.06614736887020424\n",
      "> MAP combo-icb_p3a_sen:\t 0.07032761114255177\n",
      "> MAP combo-icb_icf_p3a:\t 0.0681811495584841\n",
      "> MAP combo-icf_p3a_sen:\t 0.06434933660315663\n",
      "> MAP combo-p3a_sen_sbpr:\t 0.06434933660315663\n",
      "> MAP combo-icb_ucf_p3a:\t 0.07135016560859399\n",
      "> MAP combo-ucf_p3a_sen:\t 0.06434933660315663\n",
      "> MAP combo-icb_rp3b_sen:\t 0.07559830355458542\n",
      "> MAP combo-icb_icf_rp3b:\t 0.07016178599340135\n",
      "> MAP combo-icf_rp3b_sen:\t 0.06332663536080348\n",
      "> MAP combo-icb_p3a_rp3b:\t 0.07127141330027581\n",
      "> MAP combo-rp3b_sen_sbpr:\t 0.06407140162233543\n",
      "> MAP combo-icb_ucf_rp3b:\t 0.0699845203125582\n",
      "> MAP combo-ucf_rp3b_sen:\t 0.06323622115324155\n",
      "> MAP combo-icb_ucf_sen:\t 0.07662719907808441\n",
      "> MAP combo-ucf_sen_sbpr:\t 0.06514305476954035\n",
      "> MAP combo-icb_sen_sbpr:\t 0.07508898975549477\n",
      "> MAP combo-icb_icf_sbpr:\t 0.06278242649634844\n",
      "> MAP combo-icb_p3a_sbpr:\t 0.07023476510015444\n",
      "> MAP combo-icb_rp3b_sbpr:\t 0.07237091544786188\n",
      "> MAP combo-icb_ucf_sbpr:\t 0.06648036662316313\n",
      "> MAP merged-icb_icf_p3a:\t 0.0699302355350743\n",
      "> MAP merged-icb_icf_rp3b:\t 0.07054133349246136\n",
      "> MAP merged-icb_icf_sen:\t 0.0777449464033869\n",
      "> MAP merged-icb_p3a_rp3b:\t 0.07004808167371838\n",
      "> MAP merged-icb_p3a_sen:\t 0.07019972646670444\n",
      "> MAP merged-icb_rp3b_sen:\t 0.07218813161937108\n",
      "> MAP merged-icf_p3a_rp3b:\t 0.06843349092136385\n",
      "> MAP merged-p3a_rp3b_sen:\t 0.06548173749786658\n",
      "Max MAP is 0.0777449464033869 from icb_icf_sen(MERGED) with difference from previous max of 0.0011177473253024955 from icb_ucf_sen(COMBO) \n",
      "\n",
      "RANGE (30, 100)\n",
      "> MAP combo-icf_ucf_p3a:\t 0.04643135974057571\n",
      "> MAP combo-icf_ucf_rp3b:\t 0.0422761820777694\n",
      "> MAP combo-icf_p3a_rp3b:\t 0.042883947214475436\n",
      "> MAP combo-ucf_p3a_rp3b:\t 0.045497993187625575\n",
      "> MAP combo-icb_icf_sen:\t 0.053869412938298646\n",
      "> MAP combo-icf_sen_sbpr:\t 0.04671363387131494\n",
      "> MAP combo-icb_icf_ucf:\t 0.0516812091481974\n",
      "> MAP combo-icf_ucf_sen:\t 0.04845417527022161\n",
      "> MAP combo-icb_p3a_sen:\t 0.0507838233739643\n",
      "> MAP combo-icb_icf_p3a:\t 0.04963731732227447\n",
      "> MAP combo-icf_p3a_sen:\t 0.04564601415278759\n",
      "> MAP combo-p3a_sen_sbpr:\t 0.04564601415278759\n",
      "> MAP combo-icb_ucf_p3a:\t 0.05212620329102268\n",
      "> MAP combo-ucf_p3a_sen:\t 0.04564601415278759\n",
      "> MAP combo-icb_rp3b_sen:\t 0.05391921762674135\n",
      "> MAP combo-icb_icf_rp3b:\t 0.047816948689508434\n",
      "> MAP combo-icf_rp3b_sen:\t 0.042556771395943084\n",
      "> MAP combo-icb_p3a_rp3b:\t 0.04847578612117474\n",
      "> MAP combo-rp3b_sen_sbpr:\t 0.04182514040808605\n",
      "> MAP combo-icb_ucf_rp3b:\t 0.048413800102132545\n",
      "> MAP combo-ucf_rp3b_sen:\t 0.04199801243400724\n",
      "> MAP combo-icb_ucf_sen:\t 0.0550622852731273\n",
      "> MAP combo-ucf_sen_sbpr:\t 0.04536456327244963\n",
      "> MAP combo-icb_sen_sbpr:\t 0.054621477369151177\n",
      "> MAP combo-icb_icf_sbpr:\t 0.04631080408607319\n",
      "> MAP combo-icb_p3a_sbpr:\t 0.0502438465275425\n",
      "> MAP combo-icb_rp3b_sbpr:\t 0.049637669971493666\n",
      "> MAP combo-icb_ucf_sbpr:\t 0.053353567072493856\n",
      "> MAP merged-icb_icf_p3a:\t 0.04921729279550618\n",
      "> MAP merged-icb_icf_rp3b:\t 0.04783119493362836\n",
      "> MAP merged-icb_icf_sen:\t 0.05550170580861834\n",
      "> MAP merged-icb_p3a_rp3b:\t 0.047518088280437784\n",
      "> MAP merged-icb_p3a_sen:\t 0.04982125330265498\n",
      "> MAP merged-icb_rp3b_sen:\t 0.050381615023616974\n",
      "> MAP merged-icf_p3a_rp3b:\t 0.04419453349666816\n",
      "> MAP merged-p3a_rp3b_sen:\t 0.045122345748999225\n",
      "Max MAP is 0.05550170580861834 from icb_icf_sen(MERGED) with difference from previous max of 0.0004394205354910363 from icb_ucf_sen(COMBO) \n",
      "\n",
      "RANGE (100, 200)\n",
      "> MAP combo-icf_ucf_p3a:\t 0.03894651518014612\n",
      "> MAP combo-icf_ucf_rp3b:\t 0.03856787761400855\n",
      "> MAP combo-icf_p3a_rp3b:\t 0.03838420414462081\n",
      "> MAP combo-ucf_p3a_rp3b:\t 0.03904690255731921\n",
      "> MAP combo-icb_icf_sen:\t 0.04056415343915344\n",
      "> MAP combo-icf_sen_sbpr:\t 0.035492835097001754\n",
      "> MAP combo-icb_icf_ucf:\t 0.0406054894179894\n",
      "> MAP combo-icf_ucf_sen:\t 0.03698065476190475\n",
      "> MAP combo-icb_p3a_sen:\t 0.037486693751574714\n",
      "> MAP combo-icb_icf_p3a:\t 0.03698222946586042\n",
      "> MAP combo-icf_p3a_sen:\t 0.039423776455026455\n",
      "> MAP combo-p3a_sen_sbpr:\t 0.039423776455026455\n",
      "> MAP combo-icb_ucf_p3a:\t 0.043258298689846306\n",
      "> MAP combo-ucf_p3a_sen:\t 0.039423776455026455\n",
      "> MAP combo-icb_rp3b_sen:\t 0.04125534611992945\n",
      "> MAP combo-icb_icf_rp3b:\t 0.03905175264550264\n",
      "> MAP combo-icf_rp3b_sen:\t 0.03810011967750063\n",
      "> MAP combo-icb_p3a_rp3b:\t 0.04160419816074577\n",
      "> MAP combo-rp3b_sen_sbpr:\t 0.03801331412194507\n",
      "> MAP combo-icb_ucf_rp3b:\t 0.040857859347442675\n",
      "> MAP combo-ucf_rp3b_sen:\t 0.03825636967750063\n",
      "> MAP combo-icb_ucf_sen:\t 0.04260587522045854\n",
      "> MAP combo-ucf_sen_sbpr:\t 0.0354619708994709\n",
      "> MAP combo-icb_sen_sbpr:\t 0.040197089947089946\n",
      "> MAP combo-icb_icf_sbpr:\t 0.03970430996472662\n",
      "> MAP combo-icb_p3a_sbpr:\t 0.038669398778029725\n",
      "> MAP combo-icb_rp3b_sbpr:\t 0.04246977355757117\n",
      "> MAP combo-icb_ucf_sbpr:\t 0.04090231324011086\n",
      "> MAP merged-icb_icf_p3a:\t 0.042471064814814816\n",
      "> MAP merged-icb_icf_rp3b:\t 0.03872585978835978\n",
      "> MAP merged-icb_icf_sen:\t 0.04245701058201058\n",
      "> MAP merged-icb_p3a_rp3b:\t 0.03804844576719576\n",
      "> MAP merged-icb_p3a_sen:\t 0.041779045414462083\n",
      "> MAP merged-icb_rp3b_sen:\t 0.03927910052910053\n",
      "> MAP merged-icf_p3a_rp3b:\t 0.04160493827160494\n",
      "> MAP merged-p3a_rp3b_sen:\t 0.04079574514991181\n",
      "Max MAP is 0.043258298689846306 from icb_ucf_p3a(COMBO) with difference from previous max of 0.002652809271856904 from icb_icf_ucf(COMBO) \n",
      "\n",
      "RANGE (200, -1)\n",
      "> MAP combo-icf_ucf_p3a:\t 0.03532372598162072\n",
      "> MAP combo-icf_ucf_rp3b:\t 0.03347013366750209\n",
      "> MAP combo-icf_p3a_rp3b:\t 0.03162176274018379\n",
      "> MAP combo-ucf_p3a_rp3b:\t 0.03703111946532999\n",
      "> MAP combo-icb_icf_sen:\t 0.04807539682539683\n",
      "> MAP combo-icf_sen_sbpr:\t 0.03633980785296575\n",
      "> MAP combo-icb_icf_ucf:\t 0.03215956558061821\n",
      "> MAP combo-icf_ucf_sen:\t 0.030045948203842935\n",
      "> MAP combo-icb_p3a_sen:\t 0.043636173767752716\n",
      "> MAP combo-icb_icf_p3a:\t 0.04614661654135338\n",
      "> MAP combo-icf_p3a_sen:\t 0.03588450292397661\n",
      "> MAP combo-p3a_sen_sbpr:\t 0.03588450292397661\n",
      "> MAP combo-icb_ucf_p3a:\t 0.04029135338345865\n",
      "> MAP combo-ucf_p3a_sen:\t 0.03588450292397661\n",
      "> MAP combo-icb_rp3b_sen:\t 0.040189014202172094\n",
      "> MAP combo-icb_icf_rp3b:\t 0.0343922305764411\n",
      "> MAP combo-icf_rp3b_sen:\t 0.030680868838763576\n",
      "> MAP combo-icb_p3a_rp3b:\t 0.03749269005847953\n",
      "> MAP combo-rp3b_sen_sbpr:\t 0.030665204678362576\n",
      "> MAP combo-icb_ucf_rp3b:\t 0.03700292397660818\n",
      "> MAP combo-ucf_rp3b_sen:\t 0.030815580618212202\n",
      "> MAP combo-icb_ucf_sen:\t 0.034696115288220544\n",
      "> MAP combo-ucf_sen_sbpr:\t 0.028538011695906428\n",
      "> MAP combo-icb_sen_sbpr:\t 0.0452829991645781\n",
      "> MAP combo-icb_icf_sbpr:\t 0.030640142021720964\n",
      "> MAP combo-icb_p3a_sbpr:\t 0.04235693400167085\n",
      "> MAP combo-icb_rp3b_sbpr:\t 0.03695279866332498\n",
      "> MAP combo-icb_ucf_sbpr:\t 0.03652360066833751\n",
      "> MAP merged-icb_icf_p3a:\t 0.04680973266499583\n",
      "> MAP merged-icb_icf_rp3b:\t 0.036428571428571435\n",
      "> MAP merged-icb_icf_sen:\t 0.04440267335004178\n",
      "> MAP merged-icb_p3a_rp3b:\t 0.03795739348370927\n",
      "> MAP merged-icb_p3a_sen:\t 0.04743316624895573\n",
      "> MAP merged-icb_rp3b_sen:\t 0.040735171261487055\n",
      "> MAP merged-icf_p3a_rp3b:\t 0.03982978279030911\n",
      "> MAP merged-p3a_rp3b_sen:\t 0.03856098579782791\n",
      "Max MAP is 0.04807539682539683 from icb_icf_sen(COMBO) with difference from previous max of 0.011044277360066836 from ucf_p3a_rp3b(COMBO) \n",
      "\n"
     ]
    }
   ],
   "source": [
    "to_be_plotted = []\n",
    "for i in range(0, len (f_ranges)):\n",
    "    print(f\"RANGE {f_ranges[i]}\")\n",
    "    maxp = 0\n",
    "    difference = 0\n",
    "    old_name = ''\n",
    "    max_name=''\n",
    "    max_isCombo=None\n",
    "    old_isCombo=None\n",
    "    max_key=None\n",
    "    old_key=None\n",
    "    \n",
    "    combo_dict = MAP_combo_per_group[i]\n",
    "    for key in combo_dict:\n",
    "        value = combo_dict[key]\n",
    "        print(f\"> MAP combo-{combo_labels[key]}:\\t {value}\")\n",
    "        if value > maxp:\n",
    "            difference=value - maxp\n",
    "            maxp=value\n",
    "            old_name=max_name\n",
    "            old_isCombo=max_isCombo\n",
    "            max_name=combo_labels[key]\n",
    "            max_isCombo=True\n",
    "            old_key=max_key\n",
    "            max_key=key\n",
    "   \n",
    "    merged_dict = MAP_merged_per_group[i]\n",
    "    for key in merged_dict:\n",
    "        value = merged_dict[key]\n",
    "        print(f\"> MAP merged-{merged_labels[key]}:\\t {value}\")\n",
    "        if value > maxp:\n",
    "            difference=value - maxp\n",
    "            maxp=value\n",
    "            old_name=max_name\n",
    "            old_isCombo=max_isCombo\n",
    "            max_name=merged_labels[key]\n",
    "            max_isCombo=False\n",
    "            old_key=max_key\n",
    "            max_key=key\n",
    "            \n",
    "    if not check_if_present(to_be_plotted, (max_key, max_isCombo)):\n",
    "        to_be_plotted.append((max_key, max_isCombo))\n",
    "    \n",
    "    if not old_key is None and not check_if_present(to_be_plotted, (old_key, old_isCombo)):\n",
    "        to_be_plotted.append((old_key, old_isCombo))\n",
    "    \n",
    "    \n",
    "    print(f\"Max MAP is {maxp} from {max_name}({'COMBO' if max_isCombo else 'MERGED'}) with difference from previous max of {difference} from {old_name}({'COMBO' if old_isCombo else 'MERGED'}) \\n\")\n",
    "        "
   ]
  },
  {
   "cell_type": "code",
   "execution_count": 50,
   "metadata": {},
   "outputs": [
    {
     "data": {
      "text/plain": [
       "[('merged2', False),\n",
       " ('combo16', True),\n",
       " ('combo27', True),\n",
       " ('combo24', True),\n",
       " ('combo15', True),\n",
       " ('combo9', True),\n",
       " ('combo5', True),\n",
       " ('merged3', False),\n",
       " ('combo22', True),\n",
       " ('combo13', True),\n",
       " ('combo7', True),\n",
       " ('combo4', True)]"
      ]
     },
     "execution_count": 50,
     "metadata": {},
     "output_type": "execute_result"
    }
   ],
   "source": [
    "to_be_plotted"
   ]
  },
  {
   "cell_type": "code",
   "execution_count": 51,
   "metadata": {
    "scrolled": false
   },
   "outputs": [
    {
     "data": {
      "image/png": "[encoded data removed]",
      "text/plain": [
       "<Figure size 1440x1440 with 1 Axes>"
      ]
     },
     "metadata": {
      "needs_background": "light"
     },
     "output_type": "display_data"
    }
   ],
   "source": [
    "import matplotlib.pyplot as pyplot\n",
    "%matplotlib inline  \n",
    "pyplot.figure(figsize=(20,20))\n",
    "for key, isCombo in to_be_plotted:\n",
    "    l=[]\n",
    "    if isCombo:\n",
    "        for combo_dict in MAP_combo_per_group:\n",
    "            l.append(combo_dict[key])\n",
    "        style = '--o'\n",
    "        label = combo_labels[key]\n",
    "    else:\n",
    "        for merged_dict in MAP_merged_per_group:\n",
    "            l.append(merged_dict[key])\n",
    "        style = '--x'\n",
    "        label = merged_labels[key]\n",
    "    pyplot.plot(l, style, label = label)\n",
    "\n",
    "pyplot.xticks(ticks=range(0,len(f_ranges)), labels=f_ranges)\n",
    "pyplot.ylabel('MAP')\n",
    "pyplot.xlabel('User Group')\n",
    "pyplot.legend()\n",
    "pyplot.show()"
   ]
  },
  {
   "cell_type": "code",
   "execution_count": null,
   "metadata": {},
   "outputs": [],
   "source": []
  }
 ],
 "metadata": {
  "kernelspec": {
   "display_name": "Python 3",
   "language": "python",
   "name": "python3"
  },
  "language_info": {
   "codemirror_mode": {
    "name": "ipython",
    "version": 3
   },
   "file_extension": ".py",
   "mimetype": "text/x-python",
   "name": "python",
   "nbconvert_exporter": "python",
   "pygments_lexer": "ipython3",
   "version": "3.6.10"
  }
 },
 "nbformat": 4,
 "nbformat_minor": 4
}
