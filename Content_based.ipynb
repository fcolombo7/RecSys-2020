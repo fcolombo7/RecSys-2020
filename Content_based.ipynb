{
 "cells": [
  {
   "cell_type": "code",
   "execution_count": 200,
   "metadata": {},
   "outputs": [],
   "source": [
    "from DataParser import DataParser\n",
    "import numpy as np"
   ]
  },
  {
   "cell_type": "code",
   "execution_count": 207,
   "metadata": {},
   "outputs": [],
   "source": [
    "import scipy.sparse as sp"
   ]
  },
  {
   "cell_type": "code",
   "execution_count": 201,
   "metadata": {},
   "outputs": [],
   "source": [
    "data_pars = DataParser('data')"
   ]
  },
  {
   "cell_type": "code",
   "execution_count": 202,
   "metadata": {},
   "outputs": [],
   "source": [
    "seed = 3001"
   ]
  },
  {
   "cell_type": "code",
   "execution_count": 260,
   "metadata": {},
   "outputs": [
    {
     "name": "stdout",
     "output_type": "stream",
     "text": [
      "Users:\n",
      "num_users=7947\n",
      "min_user_id=0\n",
      "max_user_id=7946\n",
      "\n",
      "Items:\n",
      "num_items=24896\n",
      "min_item_id=0\n",
      "max_item_id=25974\n",
      "\n",
      "Ratings:\n",
      "tot_ratings=339804\n",
      "sparsity=0.00172\n"
     ]
    }
   ],
   "source": [
    "num_users, num_items, _ = data_pars.get_statistics()\n",
    "num_users = num_users['max']+1\n",
    "num_items = num_items['max']+1"
   ]
  },
  {
   "cell_type": "code",
   "execution_count": 261,
   "metadata": {},
   "outputs": [],
   "source": [
    "from sklearn.model_selection import train_test_split\n",
    "\n",
    "def dataset_splits(ratings, num_users, num_items, validation_percentage: float, testing_percentage: float):\n",
    "    seed = 1234\n",
    "    \n",
    "    (user_ids_training, user_ids_test,\n",
    "     item_ids_training, item_ids_test,\n",
    "     ratings_training, ratings_test) = train_test_split(ratings.user_id,\n",
    "                                                        ratings.item_id,\n",
    "                                                        ratings.ratings,\n",
    "                                                        test_size=testing_percentage,\n",
    "                                                        shuffle=True,\n",
    "                                                        random_state=seed)\n",
    "    \n",
    "    (user_ids_training, user_ids_validation,\n",
    "     item_ids_training, item_ids_validation,\n",
    "     ratings_training, ratings_validation) = train_test_split(user_ids_training,\n",
    "                                                              item_ids_training,\n",
    "                                                              ratings_training,\n",
    "                                                              test_size=validation_percentage,\n",
    "                                                             )\n",
    "    \n",
    "    urm_train = sp.csr_matrix((ratings_training, (user_ids_training, item_ids_training)), \n",
    "                              shape=(num_users, num_items))\n",
    "    \n",
    "    urm_validation = sp.csr_matrix((ratings_validation, (user_ids_validation, item_ids_validation)), \n",
    "                              shape=(num_users, num_items))\n",
    "    \n",
    "    urm_test = sp.csr_matrix((ratings_test, (user_ids_test, item_ids_test)), \n",
    "                              shape=(num_users, num_items))\n",
    "    \n",
    "    \n",
    "    \n",
    "    return urm_train, urm_validation, urm_test"
   ]
  },
  {
   "cell_type": "code",
   "execution_count": 262,
   "metadata": {},
   "outputs": [],
   "source": [
    "URM_train, URM_validation, URM_test = dataset_splits(data_pars.get_mapped_ratings(), num_users=num_users, num_items=num_items_urm, validation_percentage=0.10, testing_percentage=0.20) "
   ]
  },
  {
   "cell_type": "code",
   "execution_count": 263,
   "metadata": {},
   "outputs": [
    {
     "data": {
      "text/plain": [
       "<7947x25975 sparse matrix of type '<class 'numpy.float32'>'\n",
       "\twith 81552 stored elements in Compressed Sparse Row format>"
      ]
     },
     "execution_count": 263,
     "metadata": {},
     "output_type": "execute_result"
    }
   ],
   "source": [
    "URM_train"
   ]
  },
  {
   "cell_type": "code",
   "execution_count": 264,
   "metadata": {},
   "outputs": [
    {
     "data": {
      "text/plain": [
       "<7947x25975 sparse matrix of type '<class 'numpy.float32'>'\n",
       "\twith 9062 stored elements in Compressed Sparse Row format>"
      ]
     },
     "execution_count": 264,
     "metadata": {},
     "output_type": "execute_result"
    }
   ],
   "source": [
    "URM_validation"
   ]
  },
  {
   "cell_type": "code",
   "execution_count": 265,
   "metadata": {},
   "outputs": [
    {
     "data": {
      "text/plain": [
       "<7947x25975 sparse matrix of type '<class 'numpy.float32'>'\n",
       "\twith 22654 stored elements in Compressed Sparse Row format>"
      ]
     },
     "execution_count": 265,
     "metadata": {},
     "output_type": "execute_result"
    }
   ],
   "source": [
    "URM_test"
   ]
  },
  {
   "cell_type": "code",
   "execution_count": 266,
   "metadata": {},
   "outputs": [],
   "source": [
    "item_list = data_pars.get_icm().item_id.to_list()\n",
    "weight_list = data_pars.get_icm().value.to_list()\n",
    "feature_list = data_pars.get_icm().feature_id.to_list()"
   ]
  },
  {
   "cell_type": "code",
   "execution_count": 267,
   "metadata": {},
   "outputs": [],
   "source": [
    "unique_items, unique_features = len(set(item_list)), len(set(feature_list))"
   ]
  },
  {
   "cell_type": "code",
   "execution_count": 268,
   "metadata": {},
   "outputs": [],
   "source": [
    "num_features = max(feature_list) + 1\n",
    "num_items = max(item_list) + 1"
   ]
  },
  {
   "cell_type": "code",
   "execution_count": 269,
   "metadata": {},
   "outputs": [
    {
     "data": {
      "text/plain": [
       "<25975x20000 sparse matrix of type '<class 'numpy.float64'>'\n",
       "\twith 490691 stored elements in Compressed Sparse Row format>"
      ]
     },
     "execution_count": 269,
     "metadata": {},
     "output_type": "execute_result"
    }
   ],
   "source": [
    "ICM_shape = (num_items, num_features)\n",
    "ICM = sp.coo_matrix((weight_list, (item_list, feature_list)), shape=ICM_shape)\n",
    "ICM = ICM.tocsr()\n",
    "ICM"
   ]
  },
  {
   "cell_type": "code",
   "execution_count": 270,
   "metadata": {},
   "outputs": [],
   "source": [
    "items_per_feature = np.array((ICM>0).sum(axis=0)).squeeze()"
   ]
  },
  {
   "cell_type": "code",
   "execution_count": 271,
   "metadata": {},
   "outputs": [
    {
     "data": {
      "text/plain": [
       "array([ 5,  3,  2, ...,  6, 75, 17], dtype=int32)"
      ]
     },
     "execution_count": 271,
     "metadata": {},
     "output_type": "execute_result"
    }
   ],
   "source": [
    "items_per_feature"
   ]
  },
  {
   "cell_type": "code",
   "execution_count": 272,
   "metadata": {},
   "outputs": [],
   "source": [
    "features_per_item = np.array((ICM>0).sum(axis=1)).squeeze()"
   ]
  },
  {
   "cell_type": "code",
   "execution_count": 273,
   "metadata": {},
   "outputs": [
    {
     "data": {
      "text/plain": [
       "array([17,  5, 21, ..., 25, 14, 15])"
      ]
     },
     "execution_count": 273,
     "metadata": {},
     "output_type": "execute_result"
    }
   ],
   "source": [
    "features_per_item"
   ]
  },
  {
   "cell_type": "code",
   "execution_count": 274,
   "metadata": {},
   "outputs": [],
   "source": [
    "ICM = sps.csr_matrix(ICM)\n",
    "features_per_item2 = np.diff(ICM.indptr)\n",
    "\n",
    "ICM = sps.csc_matrix(ICM)\n",
    "items_per_feature2 = np.diff(ICM.indptr)\n",
    "\n",
    "ICM = sps.csr_matrix(ICM)"
   ]
  },
  {
   "cell_type": "code",
   "execution_count": 275,
   "metadata": {},
   "outputs": [
    {
     "data": {
      "text/plain": [
       "(array([ 5,  3,  2, ...,  6, 75, 17], dtype=int32),\n",
       " array([17,  5, 21, ..., 25, 14, 15], dtype=int32))"
      ]
     },
     "execution_count": 275,
     "metadata": {},
     "output_type": "execute_result"
    }
   ],
   "source": [
    "items_per_feature2, features_per_item2"
   ]
  },
  {
   "cell_type": "code",
   "execution_count": 276,
   "metadata": {},
   "outputs": [],
   "source": [
    "items_per_feature = np.sort(items_per_feature)\n",
    "features_per_item = np.sort(features_per_item)\n",
    "\n",
    "items_per_feature2 = np.sort(items_per_feature2)\n",
    "features_per_item2 = np.sort(features_per_item2)"
   ]
  },
  {
   "cell_type": "code",
   "execution_count": 277,
   "metadata": {},
   "outputs": [
    {
     "data": {
      "image/png": "[encoded data removed]",
      "text/plain": [
       "<Figure size 432x288 with 1 Axes>"
      ]
     },
     "metadata": {
      "needs_background": "light"
     },
     "output_type": "display_data"
    }
   ],
   "source": [
    "import matplotlib.pyplot as pyplot\n",
    "%matplotlib inline  \n",
    "\n",
    "pyplot.plot(features_per_item2, 'bo')\n",
    "pyplot.ylabel('Num features ')\n",
    "pyplot.xlabel('Item Index')\n",
    "pyplot.show()"
   ]
  },
  {
   "cell_type": "code",
   "execution_count": 278,
   "metadata": {},
   "outputs": [
    {
     "data": {
      "image/png": "[encoded data removed]",
      "text/plain": [
       "<Figure size 432x288 with 1 Axes>"
      ]
     },
     "metadata": {
      "needs_background": "light"
     },
     "output_type": "display_data"
    }
   ],
   "source": [
    "pyplot.plot(items_per_feature2, 'ro')\n",
    "pyplot.ylabel('Num items ')\n",
    "pyplot.xlabel('Feature Index')\n",
    "pyplot.show()"
   ]
  },
  {
   "cell_type": "code",
   "execution_count": 279,
   "metadata": {},
   "outputs": [],
   "source": [
    "from Base.Similarity.Compute_Similarity_Python import Compute_Similarity_Python\n",
    "\n",
    "class ItemKNNContentBasedRec(object):\n",
    "    def __init__(self, URM, ICM):\n",
    "        self.URM = URM\n",
    "        self.ICM = ICM\n",
    "    \n",
    "    def fit(self, topK, shrink, similarity, normalize):\n",
    "        similarity_object = Compute_Similarity_Python(self.ICM.T, shrink=shrink, topK=topK, normalize=normalize, similarity=similarity)\n",
    "        \n",
    "        self.W_sparse = similarity_object.compute_similarity()\n",
    "    \n",
    "    def recommend(self, user_id, at=None, exclude_seen=True):\n",
    "        user_profile = self.URM[user_id]\n",
    "        scores = user_profile.dot(self.W_sparse).toarray().ravel()\n",
    "        if exclude_seen:\n",
    "            scores = self.filter_seen(user_id, scores)\n",
    "\n",
    "        # rank items\n",
    "        ranking = scores.argsort()[::-1]\n",
    "            \n",
    "        return ranking[:at]\n",
    "    \n",
    "    def filter_seen(self, user_id, scores):\n",
    "\n",
    "        start_pos = self.URM.indptr[user_id]\n",
    "        end_pos = self.URM.indptr[user_id+1]\n",
    "\n",
    "        user_profile = self.URM.indices[start_pos:end_pos]\n",
    "        \n",
    "        scores[user_profile] = -np.inf\n",
    "\n",
    "        return scores"
   ]
  },
  {
   "cell_type": "code",
   "execution_count": 280,
   "metadata": {},
   "outputs": [
    {
     "name": "stdout",
     "output_type": "stream",
     "text": [
      "Similarity column 25975 ( 100 % ), 1717.18 column/sec, elapsed time 0.25 min\n"
     ]
    }
   ],
   "source": [
    "recommender = ItemKNNContentBasedRec(URM_train, ICM)\n",
    "recommender.fit(topK=100, shrink=50.0, similarity='cosine', normalize=True)"
   ]
  },
  {
   "cell_type": "code",
   "execution_count": 281,
   "metadata": {},
   "outputs": [
    {
     "name": "stdout",
     "output_type": "stream",
     "text": [
      "[ 7908 13005 14168 24573   413]\n",
      "[12119  6198 12561  8097  4549]\n",
      "[14353  1353 11936 18003  2368]\n",
      "[17510 17174  4750  6253  9462]\n",
      "[ 5191 13864 12587  3162  7704]\n",
      "[16172 22517 25285  9301 15150]\n",
      "[  426 25930  3569 11295 21470]\n",
      "[17332  4314  8104 13840 20620]\n",
      "[14059  9316 24317  4044 13091]\n",
      "[ 3699  1376 15782  5741  8890]\n"
     ]
    }
   ],
   "source": [
    "for user_id in list(set(data_pars.get_ratings().user_id.to_list()))[0:10]:\n",
    "    print(recommender.recommend(user_id, at=5))"
   ]
  },
  {
   "cell_type": "code",
   "execution_count": 282,
   "metadata": {},
   "outputs": [
    {
     "name": "stdout",
     "output_type": "stream",
     "text": [
      "Reasonable implementation speed is 1806.24 usr/sec\n"
     ]
    }
   ],
   "source": [
    "import time\n",
    "\n",
    "n_users_to_test = 1000\n",
    "\n",
    "start_time = time.time()\n",
    "\n",
    "for user_id in range(n_users_to_test):\n",
    "    recommender.recommend(user_id, at=5)\n",
    "    \n",
    "end_time = time.time()\n",
    "\n",
    "print(\"Reasonable implementation speed is {:.2f} usr/sec\".format(n_users_to_test/(end_time-start_time)))"
   ]
  },
  {
   "cell_type": "code",
   "execution_count": 283,
   "metadata": {},
   "outputs": [],
   "source": [
    "def recall(recommendations: np.array, relevant_items: np.array) -> float:\n",
    "    is_relevant = np.in1d(recommendations, relevant_items, assume_unique=True)\n",
    "    \n",
    "    recall_score = np.sum(is_relevant) / relevant_items.shape[0]\n",
    "    \n",
    "    return recall_score\n",
    "    \n",
    "    \n",
    "def precision(recommendations: np.array, relevant_items: np.array) -> float:\n",
    "    is_relevant = np.in1d(recommendations, relevant_items, assume_unique=True)\n",
    "    \n",
    "    precision_score = np.sum(is_relevant) / recommendations.shape[0]\n",
    "\n",
    "    return precision_score\n",
    "\n",
    "def mean_average_precision(recommendations: np.array, relevant_items: np.array) -> float:\n",
    "    is_relevant = np.in1d(recommendations, relevant_items, assume_unique=True)\n",
    "    \n",
    "    precision_at_k = is_relevant * np.cumsum(is_relevant, dtype=np.float32) / (1 + np.arange(is_relevant.shape[0]))\n",
    "\n",
    "    map_score = np.sum(precision_at_k) / np.min([relevant_items.shape[0], is_relevant.shape[0]])\n",
    "\n",
    "    return map_score"
   ]
  },
  {
   "cell_type": "code",
   "execution_count": 284,
   "metadata": {},
   "outputs": [],
   "source": [
    "def evaluator(recommender: object, urm_train: sp.csr_matrix, urm_test: sp.csr_matrix):\n",
    "    recommendation_length = 10\n",
    "    accum_precision = 0\n",
    "    accum_recall = 0\n",
    "    accum_map = 0\n",
    "    \n",
    "    num_users = urm_train.shape[0]\n",
    "    \n",
    "    num_users_evaluated = 0\n",
    "    num_users_skipped = 0\n",
    "    for user_id in range(num_users):\n",
    "        user_profile_start = urm_test.indptr[user_id]\n",
    "        user_profile_end = urm_test.indptr[user_id+1]\n",
    "        \n",
    "        relevant_items = urm_test.indices[user_profile_start:user_profile_end]\n",
    "        \n",
    "        if relevant_items.size == 0:\n",
    "            num_users_skipped += 1\n",
    "            continue\n",
    "            \n",
    "        recommendations = recommender.recommend(user_id=user_id, \n",
    "                                               at=recommendation_length, \n",
    "                                               exclude_seen=True)\n",
    "        \n",
    "        accum_precision += precision(recommendations, relevant_items)\n",
    "        accum_recall += recall(recommendations, relevant_items)\n",
    "        accum_map += mean_average_precision(recommendations, relevant_items)\n",
    "        \n",
    "        num_users_evaluated += 1\n",
    "        \n",
    "    \n",
    "    accum_precision /= max(num_users_evaluated, 1)\n",
    "    accum_recall /= max(num_users_evaluated, 1)\n",
    "    accum_map /=  max(num_users_evaluated, 1)\n",
    "    \n",
    "    print(\"Evaluation done\\n\")\n",
    "    \n",
    "    result_dic = {'precision': accum_precision, 'recall': accum_recall, 'MAP': accum_map, 'eval_users': num_users_evaluated, 'skipped_users': num_users_skipped}\n",
    "    \n",
    "    return result_dic"
   ]
  },
  {
   "cell_type": "code",
   "execution_count": 289,
   "metadata": {},
   "outputs": [
    {
     "name": "stdout",
     "output_type": "stream",
     "text": [
      "Similarity column 25975 ( 100 % ), 1681.37 column/sec, elapsed time 0.26 min\n",
      "Evaluation done\n",
      "\n",
      "Similarity column 25975 ( 100 % ), 1641.42 column/sec, elapsed time 0.26 min\n",
      "Evaluation done\n",
      "\n",
      "Similarity column 25975 ( 100 % ), 1569.91 column/sec, elapsed time 0.28 min\n",
      "Evaluation done\n",
      "\n",
      "Similarity column 25975 ( 100 % ), 1217.43 column/sec, elapsed time 0.36 min\n",
      "Evaluation done\n",
      "\n",
      "Similarity column 25975 ( 100 % ), 1335.06 column/sec, elapsed time 0.32 min\n",
      "Evaluation done\n",
      "\n",
      "Similarity column 25975 ( 100 % ), 1291.13 column/sec, elapsed time 0.34 min\n",
      "Evaluation done\n",
      "\n",
      "Similarity column 25975 ( 100 % ), 1227.38 column/sec, elapsed time 0.35 min\n",
      "Evaluation done\n",
      "\n",
      "Similarity column 25975 ( 100 % ), 1214.12 column/sec, elapsed time 0.36 min\n",
      "Evaluation done\n",
      "\n",
      "Similarity column 25975 ( 100 % ), 1239.18 column/sec, elapsed time 0.35 min\n",
      "Evaluation done\n",
      "\n",
      "Similarity column 25975 ( 100 % ), 1204.01 column/sec, elapsed time 0.36 min\n",
      "Evaluation done\n",
      "\n",
      "Similarity column 25975 ( 100 % ), 1145.46 column/sec, elapsed time 0.38 min\n",
      "Evaluation done\n",
      "\n",
      "Similarity column 25975 ( 100 % ), 1140.81 column/sec, elapsed time 0.38 min\n",
      "Evaluation done\n",
      "\n",
      "Similarity column 25975 ( 100 % ), 1114.52 column/sec, elapsed time 0.39 min\n",
      "Evaluation done\n",
      "\n",
      "Similarity column 25975 ( 100 % ), 998.43 column/sec, elapsed time 0.43 min\n",
      "Evaluation done\n",
      "\n",
      "Similarity column 25975 ( 100 % ), 920.41 column/sec, elapsed time 0.47 min\n",
      "Evaluation done\n",
      "\n"
     ]
    }
   ],
   "source": [
    "x_tick = np.arange(10,1500,100)\n",
    "MAP_per_k = []\n",
    "\n",
    "for topK in x_tick:\n",
    "    \n",
    "    recommender = ItemKNNContentBasedRec(URM_train, ICM)\n",
    "    recommender.fit(shrink=0.0, topK=topK, normalize = True, similarity = 'cosine')\n",
    "    \n",
    "    result_dict = evaluator(recommender, URM_train, URM_test)\n",
    "    \n",
    "    MAP_per_k.append(result_dict[\"MAP\"])"
   ]
  },
  {
   "cell_type": "code",
   "execution_count": 290,
   "metadata": {},
   "outputs": [
    {
     "data": {
      "image/png": "[encoded data removed]",
      "text/plain": [
       "<Figure size 432x288 with 1 Axes>"
      ]
     },
     "metadata": {
      "needs_background": "light"
     },
     "output_type": "display_data"
    }
   ],
   "source": [
    "pyplot.plot(x_tick, MAP_per_k)\n",
    "pyplot.ylabel('MAP')\n",
    "pyplot.xlabel('TopK')\n",
    "pyplot.show()"
   ]
  },
  {
   "cell_type": "code",
   "execution_count": 296,
   "metadata": {},
   "outputs": [
    {
     "name": "stdout",
     "output_type": "stream",
     "text": [
      "Similarity column 25975 ( 100 % ), 1338.41 column/sec, elapsed time 0.32 min\n",
      "Evaluation done\n",
      "\n",
      "Similarity column 25975 ( 100 % ), 1368.09 column/sec, elapsed time 0.32 min\n",
      "Evaluation done\n",
      "\n",
      "Similarity column 25975 ( 100 % ), 1375.43 column/sec, elapsed time 0.31 min\n",
      "Evaluation done\n",
      "\n",
      "Similarity column 25975 ( 100 % ), 1383.16 column/sec, elapsed time 0.31 min\n",
      "Evaluation done\n",
      "\n",
      "Similarity column 25975 ( 100 % ), 1380.41 column/sec, elapsed time 0.31 min\n",
      "Evaluation done\n",
      "\n",
      "Similarity column 25975 ( 100 % ), 1372.31 column/sec, elapsed time 0.32 min\n",
      "Evaluation done\n",
      "\n",
      "Similarity column 25975 ( 100 % ), 1377.86 column/sec, elapsed time 0.31 min\n",
      "Evaluation done\n",
      "\n",
      "Similarity column 25975 ( 100 % ), 1374.26 column/sec, elapsed time 0.32 min\n",
      "Evaluation done\n",
      "\n",
      "Similarity column 25975 ( 100 % ), 1375.51 column/sec, elapsed time 0.31 min\n",
      "Evaluation done\n",
      "\n",
      "Similarity column 25975 ( 100 % ), 1304.46 column/sec, elapsed time 0.33 min\n",
      "Evaluation done\n",
      "\n",
      "Similarity column 25975 ( 100 % ), 1426.34 column/sec, elapsed time 0.30 min\n",
      "Evaluation done\n",
      "\n",
      "Similarity column 25975 ( 100 % ), 1432.17 column/sec, elapsed time 0.30 min\n",
      "Evaluation done\n",
      "\n",
      "Similarity column 25975 ( 100 % ), 1425.16 column/sec, elapsed time 0.30 min\n",
      "Evaluation done\n",
      "\n",
      "Similarity column 25975 ( 100 % ), 1431.09 column/sec, elapsed time 0.30 min\n",
      "Evaluation done\n",
      "\n",
      "Similarity column 25975 ( 100 % ), 1430.49 column/sec, elapsed time 0.30 min\n",
      "Evaluation done\n",
      "\n",
      "Similarity column 25975 ( 100 % ), 1330.11 column/sec, elapsed time 0.33 min\n",
      "Evaluation done\n",
      "\n",
      "Similarity column 25975 ( 100 % ), 1311.85 column/sec, elapsed time 0.33 min\n",
      "Evaluation done\n",
      "\n",
      "Similarity column 25975 ( 100 % ), 1316.26 column/sec, elapsed time 0.33 min\n",
      "Evaluation done\n",
      "\n",
      "Similarity column 25975 ( 100 % ), 1359.54 column/sec, elapsed time 0.32 min\n",
      "Evaluation done\n",
      "\n",
      "Similarity column 25975 ( 100 % ), 1332.31 column/sec, elapsed time 0.32 min\n",
      "Evaluation done\n",
      "\n"
     ]
    }
   ],
   "source": [
    "x_tick = np.arange(0,100,5)\n",
    "MAP_per_shrink = []\n",
    "\n",
    "for shrink in x_tick:\n",
    "    \n",
    "    recommender = ItemKNNContentBasedRec(URM_train, ICM)\n",
    "    recommender.fit(shrink=shrink, topK=550, normalize = True, similarity = 'cosine')\n",
    "    \n",
    "    result_dict = evaluator(recommender, URM_train, URM_test)\n",
    "    \n",
    "    MAP_per_shrink.append(result_dict[\"MAP\"])"
   ]
  },
  {
   "cell_type": "code",
   "execution_count": 297,
   "metadata": {},
   "outputs": [
    {
     "data": {
      "image/png": "[encoded data removed]",
      "text/plain": [
       "<Figure size 432x288 with 1 Axes>"
      ]
     },
     "metadata": {
      "needs_background": "light"
     },
     "output_type": "display_data"
    }
   ],
   "source": [
    "pyplot.plot(x_tick, MAP_per_shrink)\n",
    "pyplot.ylabel('MAP')\n",
    "pyplot.xlabel('Shrinkage')\n",
    "pyplot.show()"
   ]
  },
  {
   "cell_type": "code",
   "execution_count": 299,
   "metadata": {},
   "outputs": [
    {
     "name": "stdout",
     "output_type": "stream",
     "text": [
      "Similarity column 25975 ( 100 % ), 1376.68 column/sec, elapsed time 0.31 min\n",
      "Evaluation done\n",
      "\n"
     ]
    },
    {
     "data": {
      "text/plain": [
       "{'precision': 0.009675675675675724,\n",
       " 'recall': 0.04965296510714923,\n",
       " 'MAP': 0.020242353961103975,\n",
       " 'eval_users': 3700,\n",
       " 'skipped_users': 4247}"
      ]
     },
     "execution_count": 299,
     "metadata": {},
     "output_type": "execute_result"
    }
   ],
   "source": [
    "recommender = ItemKNNContentBasedRec(URM_train, ICM)\n",
    "recommender.fit(shrink=10, topK=550, normalize = True, similarity = 'cosine')\n",
    "    \n",
    "result_dict = evaluator(recommender, URM_train, URM_validation)\n",
    "result_dict"
   ]
  },
  {
   "cell_type": "code",
   "execution_count": null,
   "metadata": {},
   "outputs": [],
   "source": []
  }
 ],
 "metadata": {
  "kernelspec": {
   "display_name": "Python 3",
   "language": "python",
   "name": "python3"
  },
  "language_info": {
   "codemirror_mode": {
    "name": "ipython",
    "version": 3
   },
   "file_extension": ".py",
   "mimetype": "text/x-python",
   "name": "python",
   "nbconvert_exporter": "python",
   "pygments_lexer": "ipython3",
   "version": "3.8.3"
  }
 },
 "nbformat": 4,
 "nbformat_minor": 4
}
