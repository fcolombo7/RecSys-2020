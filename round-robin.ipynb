{
 "cells": [
  {
   "cell_type": "code",
   "execution_count": 1,
   "metadata": {},
   "outputs": [],
   "source": [
    "from DataParser import DataParser\n",
    "import numpy as np\n",
    "import scipy.sparse as sps\n",
    "\n",
    "from Data_manager.split_functions.split_train_validation_random_holdout import \\\n",
    "split_train_in_two_percentage_global_sample\n",
    "\n",
    "import matplotlib.pyplot as plt\n",
    "from matplotlib.pyplot import figure\n",
    "from SimpleEvaluator import evaluator\n",
    "from Base.Evaluation.Evaluator import EvaluatorHoldout\n",
    "from Base.NonPersonalizedRecommender import TopPop, Random\n",
    "from Hybrid.HybridCombinationSearch import HybridCombinationMergedSearch,HybridCombinationSearch\n",
    "from KNN.ItemKNNCBFRecommender import ItemKNNCBFRecommender\n",
    "from KNN.UserKNNCFRecommender import UserKNNCFRecommender\n",
    "from KNN.ItemKNNCFRecommender import ItemKNNCFRecommender\n",
    "from MatrixFactorization.IALSRecommender import IALSRecommender\n",
    "from SLIM_BPR.Cython.SLIM_BPR_Cython import SLIM_BPR_Cython\n",
    "from SLIM_ElasticNet.SLIMElasticNetRecommender import SLIMElasticNetRecommender\n",
    "from SLIM_ElasticNet.SSLIM_ElasticNet import SSLIMElasticNet\n",
    "from GraphBased.P3alphaRecommender import P3alphaRecommender\n",
    "from GraphBased.RP3betaRecommender import RP3betaRecommender\n",
    "from MatrixFactorization.Cython.MatrixFactorization_Cython import MatrixFactorization_BPR_Cython, MatrixFactorization_FunkSVD_Cython\n",
    "from MatrixFactorization.PureSVDRecommender import PureSVDRecommender, PureSVDItemRecommender\n",
    "from MatrixFactorization.NMFRecommender import NMFRecommender"
   ]
  },
  {
   "cell_type": "code",
   "execution_count": 2,
   "metadata": {},
   "outputs": [
    {
     "name": "stdout",
     "output_type": "stream",
     "text": [
      "Warning: 27 (0.34 %) of 7947 users have no train items\n",
      "Warning: 3841 (48.33 %) of 7947 users have no sampled items\n"
     ]
    }
   ],
   "source": [
    "seed = 1205\n",
    "parser = DataParser()\n",
    "\n",
    "URM_all = parser.get_URM_all()\n",
    "ICM_all = parser.get_ICM_all()\n",
    "\n",
    "URM_train, URM_test = split_train_in_two_percentage_global_sample(URM_all, train_percentage=0.9, seed=seed)"
   ]
  },
  {
   "cell_type": "code",
   "execution_count": 3,
   "metadata": {},
   "outputs": [
    {
     "name": "stdout",
     "output_type": "stream",
     "text": [
      "RP3betaRecommender loaded.\n",
      "P3alphaRecommender loaded.\n",
      "ItemKNNCFRecommender loaded.\n",
      "UserKNNCFRecommender loaded.\n",
      "ItemKNNCBFRecommender loaded.\n",
      "SLIMElasticNetRecommender loaded.\n",
      "SLIM_BPR_Recommender loaded.\n",
      "S-SLIMElasticNet loaded.\n"
     ]
    }
   ],
   "source": [
    "rp3b = RP3betaRecommender(URM_train, verbose=False)\n",
    "rp3b_params = {'topK': 1000, 'alpha': 0.38192761611274967, 'beta': 0.0, 'normalize_similarity': False}\n",
    "try:\n",
    "    rp3b.load_model(f'stored_recommenders/seed_{str(seed)}_{rp3b.RECOMMENDER_NAME}/','for_notebook_analysis')\n",
    "    print(f\"{rp3b.RECOMMENDER_NAME} loaded.\")\n",
    "except:\n",
    "    print(f\"Fitting {rp3b.RECOMMENDER_NAME} ...\")\n",
    "    rp3b.fit(**rp3b_params)\n",
    "    print(f\"done.\")\n",
    "    rp3b.save_model(f'stored_recommenders/seed_{str(seed)}_{rp3b.RECOMMENDER_NAME}/','for_notebook_analysis')\n",
    "\n",
    "p3a = P3alphaRecommender(URM_train, verbose=False)\n",
    "p3a_params = {'topK': 131, 'alpha': 0.33660811631883863, 'normalize_similarity': False}\n",
    "try:\n",
    "    p3a.load_model(f'stored_recommenders/seed_{str(seed)}_{p3a.RECOMMENDER_NAME}/','for_notebook_analysis')\n",
    "    print(f\"{p3a.RECOMMENDER_NAME} loaded.\")\n",
    "except:\n",
    "    print(f\"Fitting {p3a.RECOMMENDER_NAME} ...\")\n",
    "    p3a.fit(**p3a_params)\n",
    "    print(f\"done.\")\n",
    "    p3a.save_model(f'stored_recommenders/seed_{str(seed)}_{p3a.RECOMMENDER_NAME}/','for_notebook_analysis')\n",
    "\n",
    "\n",
    "icf = ItemKNNCFRecommender(URM_train, verbose=False)\n",
    "icf_params = {'topK': 55, 'shrink': 1000, 'similarity': 'asymmetric', 'normalize': True, 'asymmetric_alpha': 0.0}\n",
    "try:\n",
    "    icf.load_model(f'stored_recommenders/seed_{str(seed)}_{icf.RECOMMENDER_NAME}/','for_notebook_analysis')\n",
    "    print(f\"{icf.RECOMMENDER_NAME} loaded.\")\n",
    "except:\n",
    "    print(f\"Fitting {icf.RECOMMENDER_NAME} ...\")\n",
    "    icf.fit(**icf_params)\n",
    "    print(f\"done.\")\n",
    "    icf.save_model(f'stored_recommenders/seed_{str(seed)}_{icf.RECOMMENDER_NAME}/','for_notebook_analysis')\n",
    "    \n",
    "ucf = UserKNNCFRecommender(URM_train, verbose=False)\n",
    "ucf_params = {'topK': 190, 'shrink': 0, 'similarity': 'cosine', 'normalize': True}\n",
    "try:\n",
    "    ucf.load_model(f'stored_recommenders/seed_{str(seed)}_{ucf.RECOMMENDER_NAME}/','for_notebook_analysis')\n",
    "    print(f\"{ucf.RECOMMENDER_NAME} loaded.\")\n",
    "except:\n",
    "    print(f\"Fitting {ucf.RECOMMENDER_NAME} ...\")\n",
    "    ucf.fit(**ucf_params)\n",
    "    print(f\"done.\")\n",
    "    ucf.save_model(f'stored_recommenders/seed_{str(seed)}_{ucf.RECOMMENDER_NAME}/','for_notebook_analysis')\n",
    "\n",
    "icb = ItemKNNCBFRecommender(URM_train, ICM_all, verbose=False)\n",
    "icb_params = {'topK': 65, 'shrink': 0, 'similarity': 'dice', 'normalize': True}\n",
    "try:\n",
    "    icb.load_model(f'stored_recommenders/seed_{str(seed)}_{icb.RECOMMENDER_NAME}/','for_notebook_analysis')\n",
    "    print(f\"{icb.RECOMMENDER_NAME} loaded.\")\n",
    "except:\n",
    "    print(f\"Fitting {icb.RECOMMENDER_NAME} ...\")\n",
    "    icb.fit(**icb_params)\n",
    "    print(f\"done.\")\n",
    "    icb.save_model(f'stored_recommenders/seed_{str(seed)}_{icb.RECOMMENDER_NAME}/','for_notebook_analysis')\n",
    "\n",
    "sen = SLIMElasticNetRecommender(URM_train, verbose=False)\n",
    "sen_params = {'topK': 992, 'l1_ratio': 0.004065081925341167, 'alpha': 0.003725005053334143}\n",
    "try:\n",
    "    sen.load_model(f'stored_recommenders/seed_{str(seed)}_{sen.RECOMMENDER_NAME}/','for_notebook_analysis')\n",
    "    print(f\"{sen.RECOMMENDER_NAME} loaded.\")\n",
    "except:\n",
    "    print(f\"Fitting {sen.RECOMMENDER_NAME} ...\")\n",
    "    sen.fit(**sen_params)\n",
    "    print(f\"done.\")\n",
    "    sen.save_model(f'stored_recommenders/seed_{str(seed)}_{sen.RECOMMENDER_NAME}/','for_notebook_analysis')\n",
    "\n",
    "sbpr = SLIM_BPR_Cython(URM_train, verbose=False)\n",
    "sbpr_params = {'topK': 979, 'epochs': 130, 'symmetric': False, 'sgd_mode': 'adam', 'lambda_i': 0.004947329669424629, 'lambda_j': 1.1534760845071758e-05, 'learning_rate': 0.0001}\n",
    "try:\n",
    "    sbpr.load_model(f'stored_recommenders/seed_{str(seed)}_{sbpr.RECOMMENDER_NAME}/','for_notebook_analysis')\n",
    "    print(f\"{sbpr.RECOMMENDER_NAME} loaded.\")\n",
    "except:\n",
    "    print(f\"Fitting {sbpr.RECOMMENDER_NAME} ...\")\n",
    "    sbpr.fit(**sbpr_params)\n",
    "    print(f\"done.\")\n",
    "    sbpr.save_model(f'stored_recommenders/seed_{str(seed)}_{sbpr.RECOMMENDER_NAME}/','for_notebook_analysis')\n",
    "\n",
    "sslim = SSLIMElasticNet(URM_train, ICM_all, verbose=False)\n",
    "sslim_params = {'beta': 0.4849594591575789, 'topK': 1000, 'l1_ratio': 1e-05, 'alpha': 0.001}\n",
    "try:\n",
    "    sslim.load_model(f'stored_recommenders/seed_{str(seed)}_{sslim.RECOMMENDER_NAME}/','for_notebook_analysis')\n",
    "    print(f\"{sslim.RECOMMENDER_NAME} loaded.\")\n",
    "except:\n",
    "    print(f\"Fitting {sslim.RECOMMENDER_NAME} ...\")\n",
    "    sslim.fit(**sslim_params)\n",
    "    print(f\"done.\")\n",
    "    sslim.save_model(f'stored_recommenders/seed_{str(seed)}_{sslim.RECOMMENDER_NAME}/','for_notebook_analysis')\n"
   ]
  },
  {
   "cell_type": "code",
   "execution_count": 4,
   "metadata": {},
   "outputs": [],
   "source": [
    "evaluator_test = EvaluatorHoldout(URM_test, cutoff_list=[10])"
   ]
  },
  {
   "cell_type": "code",
   "execution_count": 5,
   "metadata": {},
   "outputs": [
    {
     "name": "stdout",
     "output_type": "stream",
     "text": [
      "HybridCombinationMergedSearch: URM Detected 27 (0.34 %) cold users.\n",
      "HybridCombinationMergedSearch: URM Detected 1634 (6.29 %) cold items.\n",
      "EvaluatorHoldout: Processed 4106 ( 100.00% ) in 4.16 sec. Users per second: 987\n"
     ]
    },
    {
     "data": {
      "text/plain": [
       "0.07693455065542647"
      ]
     },
     "execution_count": 5,
     "metadata": {},
     "output_type": "execute_result"
    }
   ],
   "source": [
    "list_recommender = [sslim, p3a, icb]\n",
    "rec1 = HybridCombinationMergedSearch(URM_train, ICM_all, list_recommender)\n",
    "params={'alpha': 0.859343616443417, 'l1_ratio': 0.8995038091652459, 'topK': 900}\n",
    "rec1.fit(**params)\n",
    "result, _ = evaluator_test.evaluateRecommender(rec1)\n",
    "result[10]['MAP']"
   ]
  },
  {
   "cell_type": "code",
   "execution_count": 6,
   "metadata": {},
   "outputs": [
    {
     "name": "stdout",
     "output_type": "stream",
     "text": [
      "HybridCombinationSearch: URM Detected 27 (0.34 %) cold users.\n",
      "HybridCombinationSearch: URM Detected 1634 (6.29 %) cold items.\n",
      "EvaluatorHoldout: Processed 4106 ( 100.00% ) in 6.29 sec. Users per second: 653\n"
     ]
    },
    {
     "data": {
      "text/plain": [
       "0.07698283769046922"
      ]
     },
     "execution_count": 6,
     "metadata": {},
     "output_type": "execute_result"
    }
   ],
   "source": [
    "list_recommender = [sslim, icb, ucf]\n",
    "rec2 = HybridCombinationSearch(URM_train, ICM_all, list_recommender)\n",
    "params={'alpha': 0.6461624491197696, 'l1_ratio': 0.7617220099582368}\n",
    "\n",
    "rec2.fit(**params)\n",
    "result, _ = evaluator_test.evaluateRecommender(rec2)\n",
    "result[10]['MAP']"
   ]
  },
  {
   "cell_type": "code",
   "execution_count": 7,
   "metadata": {},
   "outputs": [
    {
     "name": "stdout",
     "output_type": "stream",
     "text": [
      "HybridCombinationSearch: URM Detected 27 (0.34 %) cold users.\n",
      "HybridCombinationSearch: URM Detected 1634 (6.29 %) cold items.\n",
      "EvaluatorHoldout: Processed 4106 ( 100.00% ) in 6.55 sec. Users per second: 627\n"
     ]
    },
    {
     "data": {
      "text/plain": [
       "0.07679706039972213"
      ]
     },
     "execution_count": 7,
     "metadata": {},
     "output_type": "execute_result"
    }
   ],
   "source": [
    "list_recommender = [sslim, rp3b, icb]\n",
    "rec3 = HybridCombinationSearch(URM_train, ICM_all, list_recommender)\n",
    "params={'alpha': 0.8416340030829476, 'l1_ratio': 0.6651408407090509}\n",
    "\n",
    "rec3.fit(**params)\n",
    "result, _ = evaluator_test.evaluateRecommender(rec3)\n",
    "result[10]['MAP']"
   ]
  },
  {
   "cell_type": "code",
   "execution_count": 8,
   "metadata": {},
   "outputs": [],
   "source": [
    "from Hybrid.ListHybrid002 import ListHybrid002"
   ]
  },
  {
   "cell_type": "code",
   "execution_count": 9,
   "metadata": {},
   "outputs": [
    {
     "name": "stdout",
     "output_type": "stream",
     "text": [
      "ListHybrid002: URM Detected 27 (0.34 %) cold users.\n",
      "ListHybrid002: URM Detected 1634 (6.29 %) cold items.\n"
     ]
    }
   ],
   "source": [
    "round_rec = ListHybrid002(URM_train, [rec1, rec2, rec3]) "
   ]
  },
  {
   "cell_type": "code",
   "execution_count": 10,
   "metadata": {},
   "outputs": [
    {
     "data": {
      "text/plain": [
       "{'MAP': 0.07660562502814977,\n",
       " 'Precision': 0.03397467121285866,\n",
       " 'Recall': 0.16626525099845516}"
      ]
     },
     "execution_count": 10,
     "metadata": {},
     "output_type": "execute_result"
    }
   ],
   "source": [
    "from SimpleEvaluator import evaluator\n",
    "result = evaluator(round_rec, URM_test, 10)\n",
    "result"
   ]
  },
  {
   "cell_type": "code",
   "execution_count": null,
   "metadata": {},
   "outputs": [],
   "source": []
  }
 ],
 "metadata": {
  "kernelspec": {
   "display_name": "Python 3",
   "language": "python",
   "name": "python3"
  },
  "language_info": {
   "codemirror_mode": {
    "name": "ipython",
    "version": 3
   },
   "file_extension": ".py",
   "mimetype": "text/x-python",
   "name": "python",
   "nbconvert_exporter": "python",
   "pygments_lexer": "ipython3",
   "version": "3.6.10"
  }
 },
 "nbformat": 4,
 "nbformat_minor": 4
}
