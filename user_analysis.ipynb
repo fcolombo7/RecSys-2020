{
 "cells": [
  {
   "cell_type": "code",
   "execution_count": 2,
   "metadata": {},
   "outputs": [],
   "source": [
    "from DataParser import DataParser\n",
    "import numpy as np\n",
    "import pandas as pd\n",
    "import scipy.sparse as sp\n",
    "\n",
    "from Base.Evaluation.Evaluator import EvaluatorHoldout\n",
    "from Data_manager.split_functions.split_train_validation_random_holdout import \\\n",
    "split_train_in_two_percentage_global_sample\n",
    "\n",
    "from KNN.ItemKNNCBFRecommender import ItemKNNCBFRecommender\n",
    "from Base.NonPersonalizedRecommender import TopPop\n",
    "from SLIM_ElasticNet.SLIMElasticNetRecommender import SLIMElasticNetRecommender\n",
    "import seaborn as sns\n",
    "import matplotlib.pyplot as plt\n",
    "from matplotlib.pyplot import figure\n",
    "\n",
    "plt.rcParams.update({'font.size': 40})\n",
    "\n",
    "%matplotlib inline"
   ]
  },
  {
   "cell_type": "code",
   "execution_count": 3,
   "metadata": {},
   "outputs": [
    {
     "name": "stdout",
     "output_type": "stream",
     "text": [
      "Warning: 42 (0.53 %) of 7947 users have no train items\n",
      "Warning: 2945 (37.06 %) of 7947 users have no sampled items\n"
     ]
    }
   ],
   "source": [
    "seed = 1024\n",
    "parser = DataParser()\n",
    "\n",
    "URM_all = parser.get_URM_all()\n",
    "ICM_all = parser.get_ICM_all()\n",
    "\n",
    "URM_train, URM_test = split_train_in_two_percentage_global_sample(URM_all, train_percentage=0.85, seed=seed)\n",
    "\n",
    "evaluator_test = EvaluatorHoldout(URM_test, cutoff_list=[10])"
   ]
  },
  {
   "cell_type": "code",
   "execution_count": 4,
   "metadata": {},
   "outputs": [],
   "source": [
    "mat = URM_all.tocoo()\n",
    "d={'user_id':mat.row,\n",
    "   'item_id':mat.col,\n",
    "   'rating':mat.data}\n",
    "frame = pd.DataFrame(data=d)\n",
    "frame_n = frame.groupby(['user_id']).size().reset_index(name='num_inter')"
   ]
  },
  {
   "cell_type": "code",
   "execution_count": 5,
   "metadata": {},
   "outputs": [],
   "source": [
    "#frame_n.loc[frame_n['num_inter'] < 2]"
   ]
  },
  {
   "cell_type": "code",
   "execution_count": 216,
   "metadata": {},
   "outputs": [],
   "source": [
    "range_all=30\n",
    "mat = URM_train.tocoo()\n",
    "d={'user_id':mat.row,\n",
    "   'item_id':mat.col,\n",
    "   'rating':mat.data}\n",
    "frame = pd.DataFrame(data=d)\n",
    "frame_train = frame.groupby(['user_id']).size().reset_index(name='num_inter')\n",
    "\n",
    "mat = URM_test.tocoo()\n",
    "d={'user_id':mat.row,\n",
    "   'item_id':mat.col,\n",
    "   'rating':mat.data}\n",
    "frame_test = pd.DataFrame(data=d)\n",
    "frame_join = frame_test.join(frame_train.set_index('user_id'), on='user_id')\n",
    "frame_join = frame_join.loc[frame_join['num_inter'] < 500]\n",
    "frame_join = frame_join.loc[frame_join['num_inter'] >= 200]"
   ]
  },
  {
   "cell_type": "code",
   "execution_count": 7,
   "metadata": {},
   "outputs": [],
   "source": [
    "def split_datasets(frame, size = 20):\n",
    "    max_value = frame['num_inter'].max()\n",
    "    frame_list=[]\n",
    "    start_value = 0\n",
    "    while start_value <= max_value:\n",
    "        end_value = start_value+size\n",
    "        sub_frame = frame_join.loc[(frame_join['num_inter'] >= start_value) & (frame_join['num_inter'] < end_value)].iloc[:,:3]\n",
    "        if not sub_frame.empty:\n",
    "            t = (start_value, end_value, sub_frame)\n",
    "        else:\n",
    "            t = (start_value, end_value, None)\n",
    "        frame_list.append(t)\n",
    "        start_value = end_value\n",
    "    return frame_list"
   ]
  },
  {
   "cell_type": "code",
   "execution_count": 8,
   "metadata": {},
   "outputs": [],
   "source": [
    "def compute_map_per_range(recommender, URM_test, range_size=20, limit=None):\n",
    "    map_list=[]\n",
    "    \n",
    "    URM_train = recommender.get_URM_train()\n",
    "    mat = URM_train.tocoo()\n",
    "    d={'user_id':mat.row,\n",
    "       'item_id':mat.col,\n",
    "       'rating':mat.data}\n",
    "    frame = pd.DataFrame(data=d)\n",
    "    frame_train = frame.groupby(['user_id']).size().reset_index(name='num_inter')\n",
    "\n",
    "    mat = URM_test.tocoo()\n",
    "    d={'user_id':mat.row,\n",
    "       'item_id':mat.col,\n",
    "       'rating':mat.data}\n",
    "    frame_test = pd.DataFrame(data=d)\n",
    "    frame_join = frame_test.join(frame_train.set_index('user_id'), on='user_id')\n",
    "    \n",
    "    frame_list = split_datasets(frame_join, range_size)\n",
    "    \n",
    "    for (start_value, end_value, sub_frame) in frame_list[:limit]:\n",
    "        if sub_frame is None:\n",
    "            frame_map = None\n",
    "            frame_len = None\n",
    "        else:\n",
    "            frame_len = len(sub_frame.user_id.unique())\n",
    "            partial_urm_test = sp.csr_matrix((sub_frame.rating, (sub_frame.user_id, sub_frame.item_id)), \n",
    "                              shape=URM_train.shape)\n",
    "            evaluator_test = EvaluatorHoldout(partial_urm_test, cutoff_list=[10])\n",
    "            result, _ = evaluator_test.evaluateRecommender(recommender)\n",
    "            frame_map = result[10]['MAP']\n",
    "        map_list.append((start_value, end_value, frame_map, frame_len))\n",
    "    \n",
    "    return map_list\n",
    "    "
   ]
  },
  {
   "cell_type": "code",
   "execution_count": 9,
   "metadata": {},
   "outputs": [],
   "source": [
    "def frame_to_plot(map_list):\n",
    "    x = []\n",
    "    y = []\n",
    "    z = []\n",
    "    for (low, high, val, support) in map_list:\n",
    "        x_val = str(low)+'-'+str(high)\n",
    "        if val is None:\n",
    "            #y.append(0)\n",
    "            continue\n",
    "        else:\n",
    "            y.append(val)\n",
    "        x.append(x_val)\n",
    "        z.append(support)\n",
    "    return x,y,z"
   ]
  },
  {
   "cell_type": "code",
   "execution_count": 10,
   "metadata": {},
   "outputs": [],
   "source": [
    "def plot_frame(x,y):\n",
    "    #figure(num=None, figsize=(100, 20), dpi=80, facecolor='w', edgecolor='k')\n",
    "    #igure(figsize=(50,20))\n",
    "    axes = plt.gca()\n",
    "    #axis_font = {'fontname':'Arial', 'size':'22'}\n",
    "    #axes.set_ylim([0,0.3])\n",
    "    #axes.tick_params(axis='both', labelsize='large')\n",
    "    plt.setp(axes.get_xticklabels(), rotation='vertical', fontsize=14)\n",
    "    \n",
    "    plt.bar(x, y) #, align='center'\n",
    "    plt.xticks(range(len(x)), x)"
   ]
  },
  {
   "cell_type": "code",
   "execution_count": 90,
   "metadata": {},
   "outputs": [],
   "source": [
    "def multiplot_frame(maps, ymax=0.6):\n",
    "    plt.style.use('seaborn-deep')\n",
    "    figure(num=None, figsize=(30, 6), dpi=80, facecolor='w', edgecolor='k')\n",
    "    axes = plt.gca()\n",
    "    axes.set_ylim([0,ymax])\n",
    "    clabel= 0\n",
    "    for x, y in maps:\n",
    "        plt.bar(range(len(x)), list(y), align='center', label = str(clabel))\n",
    "        clabel+=1\n",
    "    plt.legend()\n",
    "    plt.xticks(range(len(x)), list(list(x)))"
   ]
  },
  {
   "cell_type": "code",
   "execution_count": 89,
   "metadata": {},
   "outputs": [],
   "source": [
    "def multiplot_frame2(maps, ymax=0.6):\n",
    "    plt.style.use('seaborn-deep')\n",
    "    figure(num=None, figsize=(30, 6), dpi=80, facecolor='w', edgecolor='k')\n",
    "    axes = plt.gca()\n",
    "    axes.set_ylim([0,ymax])\n",
    "    clabel= 0\n",
    "    plt.bar(range(len(maps[0][0])), list(maps[0][1]), align='center')\n",
    "    clabel+=1\n",
    "    rects = axes.patches\n",
    "\n",
    "    # Make some labels.\n",
    "    labels = maps[0][2]\n",
    "\n",
    "    for rect, label in zip(rects, labels):\n",
    "        height = rect.get_height()\n",
    "        axes.text(rect.get_x() + rect.get_width()/2, height, label, ha='center', va='bottom')\n",
    "    plt.xticks(range(len(maps[0][0])), list(list(maps[0][0])))"
   ]
  },
  {
   "cell_type": "code",
   "execution_count": 74,
   "metadata": {},
   "outputs": [],
   "source": [
    "def max_rec_map(maps):\n",
    "    y_max=[(0,0) for x in range(len(x_cf))]\n",
    "    c=0\n",
    "    for _, y in maps:\n",
    "        for n, val in enumerate(y):\n",
    "            if val > y_max[n][0]:\n",
    "                y_max[n] = (val,c)\n",
    "        c+=1\n",
    "    y_max,c = zip(*y_max)\n",
    "    list(y_max)\n",
    "    c = [x for x in c]\n",
    "    #fill the name in the same order of appearance in the maps list\n",
    "    for n in range(len(c)):\n",
    "        if c[n]==0:\n",
    "            c[n]='itemCF'\n",
    "        elif c[n]==1:\n",
    "            c[n]='itemCBF'\n",
    "        elif c[n]==2:\n",
    "            c[n]='PageRankBB'\n",
    "        elif c[n]==3:\n",
    "            c[n]='SlimBPR'\n",
    "        elif c[n]==4:\n",
    "            c[n]='userCF'\n",
    "        elif c[n]==5:\n",
    "            c[n]='PureSVD'\n",
    "        elif c[n]==6:\n",
    "            c[n]='PageRankAA'\n",
    "    c = list(c)\n",
    "    return y_max, c"
   ]
  },
  {
   "cell_type": "code",
   "execution_count": 18,
   "metadata": {},
   "outputs": [
    {
     "name": "stdout",
     "output_type": "stream",
     "text": [
      "ItemKNNCBFRecommender: URM Detected 42 (0.53 %) cold users.\n",
      "ItemKNNCBFRecommender: URM Detected 1971 (7.59 %) cold items.\n",
      "Similarity column 25975 ( 100 % ), 5553.35 column/sec, elapsed time 0.08 min\n",
      "EvaluatorHoldout: Processed 5002 ( 100.00% ) in 2.58 sec. Users per second: 1940\n"
     ]
    }
   ],
   "source": [
    "rec1 = ItemKNNCBFRecommender(URM_train, ICM_all)\n",
    "rec1.fit(topK=40, shrink=1000, similarity='cosine', feature_weighting='BM25')\n",
    "result_eval, _ = evaluator_test.evaluateRecommender(rec1) "
   ]
  },
  {
   "cell_type": "code",
   "execution_count": 217,
   "metadata": {},
   "outputs": [
    {
     "name": "stdout",
     "output_type": "stream",
     "text": [
      "EvaluatorHoldout: Processed 3 ( 100.00% ) in 0.01 sec. Users per second: 500\n",
      "EvaluatorHoldout: Processed 5 ( 100.00% ) in 0.01 sec. Users per second: 623\n",
      "EvaluatorHoldout: Processed 3 ( 100.00% ) in 0.01 sec. Users per second: 500\n",
      "EvaluatorHoldout: Processed 5 ( 100.00% ) in 0.01 sec. Users per second: 715\n",
      "EvaluatorHoldout: Processed 1 ( 100.00% ) in 0.00 sec. Users per second: 250\n",
      "EvaluatorHoldout: Processed 2 ( 100.00% ) in 0.01 sec. Users per second: 397\n"
     ]
    },
    {
     "name": "stderr",
     "output_type": "stream",
     "text": [
      "C:\\Users\\gio_d\\Documents\\Projects\\RecSys\\RecSys-2020\\Base\\Evaluation\\metrics.py:947: RuntimeWarning: invalid value encountered in double_scalars\n",
      "  self.diversity = diversity_cumulative/all_user_couples_count\n"
     ]
    },
    {
     "name": "stdout",
     "output_type": "stream",
     "text": [
      "EvaluatorHoldout: Processed 3 ( 100.00% ) in 0.01 sec. Users per second: 502\n",
      "EvaluatorHoldout: Processed 1 ( 100.00% ) in 0.00 sec. Users per second: 248\n",
      "EvaluatorHoldout: Processed 2 ( 100.00% ) in 0.01 sec. Users per second: 333\n"
     ]
    }
   ],
   "source": [
    "map_list_knn = compute_map_per_range(rec1, URM_test, range_size=range_all)\n",
    "x_knn,y_knn,_ = frame_to_plot(map_list_knn)\n",
    "frame_knn = pd.DataFrame({'range':x_knn, 'MAP':y_knn})\n",
    "#frame_knn"
   ]
  },
  {
   "cell_type": "code",
   "execution_count": 53,
   "metadata": {
    "scrolled": true
   },
   "outputs": [
    {
     "name": "stdout",
     "output_type": "stream",
     "text": [
      "SLIMElasticNetRecommender: URM Detected 42 (0.53 %) cold users.\n",
      "SLIMElasticNetRecommender: URM Detected 1971 (7.59 %) cold items.\n",
      "SLIMElasticNetRecommender: Processed 10147 ( 39.06% ) in 5.00 min. Items per second: 33.81\n",
      "SLIMElasticNetRecommender: Processed 20218 ( 77.84% ) in 10.00 min. Items per second: 33.69\n",
      "SLIMElasticNetRecommender: Processed 25975 ( 100.00% ) in 12.85 min. Items per second: 33.68\n"
     ]
    }
   ],
   "source": [
    "rec_elasticnet = SLIMElasticNetRecommender(URM_train)\n",
    "rec_elasticnet.fit(topK=120, l1_ratio=1e-5, alpha=0.066)\n"
   ]
  },
  {
   "cell_type": "code",
   "execution_count": 218,
   "metadata": {},
   "outputs": [
    {
     "name": "stdout",
     "output_type": "stream",
     "text": [
      "EvaluatorHoldout: Processed 3 ( 100.00% ) in 0.01 sec. Users per second: 500\n",
      "EvaluatorHoldout: Processed 5 ( 100.00% ) in 0.01 sec. Users per second: 553\n",
      "EvaluatorHoldout: Processed 3 ( 100.00% ) in 0.01 sec. Users per second: 497\n",
      "EvaluatorHoldout: Processed 5 ( 100.00% ) in 0.01 sec. Users per second: 555\n",
      "EvaluatorHoldout: Processed 1 ( 100.00% ) in 0.00 sec. Users per second: 250\n",
      "EvaluatorHoldout: Processed 2 ( 100.00% ) in 0.01 sec. Users per second: 331\n",
      "EvaluatorHoldout: Processed 3 ( 100.00% ) in 0.01 sec. Users per second: 429\n",
      "EvaluatorHoldout: Processed 1 ( 100.00% ) in 0.00 sec. Users per second: 247\n",
      "EvaluatorHoldout: Processed 2 ( 100.00% ) in 0.01 sec. Users per second: 399\n"
     ]
    }
   ],
   "source": [
    "mappone = compute_map_per_range(rec_elasticnet, URM_test, range_size=range_all)\n",
    "x_slim,y_slim,_ = frame_to_plot(mappone)"
   ]
  },
  {
   "cell_type": "code",
   "execution_count": 20,
   "metadata": {},
   "outputs": [
    {
     "name": "stdout",
     "output_type": "stream",
     "text": [
      "RP3betaRecommender: URM Detected 42 (0.53 %) cold users.\n",
      "RP3betaRecommender: URM Detected 1971 (7.59 %) cold items.\n"
     ]
    }
   ],
   "source": [
    "from GraphBased.RP3betaRecommender import RP3betaRecommender\n",
    "recommender_apr = RP3betaRecommender(URM_train)\n",
    "recommender_apr.fit(alpha=0.4530815441932864,  beta=0.008742088319964482, topK=104, normalize_similarity=False)"
   ]
  },
  {
   "cell_type": "code",
   "execution_count": 219,
   "metadata": {
    "scrolled": true
   },
   "outputs": [
    {
     "name": "stdout",
     "output_type": "stream",
     "text": [
      "EvaluatorHoldout: Processed 3 ( 100.00% ) in 0.01 sec. Users per second: 428\n",
      "EvaluatorHoldout: Processed 5 ( 100.00% ) in 0.01 sec. Users per second: 622\n",
      "EvaluatorHoldout: Processed 3 ( 100.00% ) in 0.01 sec. Users per second: 497\n",
      "EvaluatorHoldout: Processed 5 ( 100.00% ) in 0.01 sec. Users per second: 624\n",
      "EvaluatorHoldout: Processed 1 ( 100.00% ) in 0.00 sec. Users per second: 250\n",
      "EvaluatorHoldout: Processed 2 ( 100.00% ) in 0.01 sec. Users per second: 397\n",
      "EvaluatorHoldout: Processed 3 ( 100.00% ) in 0.01 sec. Users per second: 500\n",
      "EvaluatorHoldout: Processed 1 ( 100.00% ) in 0.01 sec. Users per second: 200\n",
      "EvaluatorHoldout: Processed 2 ( 100.00% ) in 0.00 sec. Users per second: 400\n"
     ]
    }
   ],
   "source": [
    "list2=compute_map_per_range(recommender_apr, URM_test, range_size=range_all)\n",
    "x_apr,y_apr,_ = frame_to_plot(list2)\n",
    "#pd.DataFrame({'range':x, 'MAP':y})"
   ]
  },
  {
   "cell_type": "code",
   "execution_count": 56,
   "metadata": {},
   "outputs": [
    {
     "name": "stdout",
     "output_type": "stream",
     "text": [
      "P3alphaRecommender: URM Detected 42 (0.53 %) cold users.\n",
      "P3alphaRecommender: URM Detected 1971 (7.59 %) cold items.\n"
     ]
    }
   ],
   "source": [
    "from GraphBased.P3alphaRecommender import P3alphaRecommender\n",
    "recommender_alph = P3alphaRecommender(URM_train)\n",
    "recommender_alph.fit(alpha=0.4905425214201532, topK=1000, normalize_similarity=False)"
   ]
  },
  {
   "cell_type": "code",
   "execution_count": 220,
   "metadata": {},
   "outputs": [
    {
     "name": "stdout",
     "output_type": "stream",
     "text": [
      "EvaluatorHoldout: Processed 3 ( 100.00% ) in 0.01 sec. Users per second: 369\n",
      "EvaluatorHoldout: Processed 5 ( 100.00% ) in 0.01 sec. Users per second: 500\n",
      "EvaluatorHoldout: Processed 3 ( 100.00% ) in 0.01 sec. Users per second: 335\n",
      "EvaluatorHoldout: Processed 5 ( 100.00% ) in 0.01 sec. Users per second: 456\n",
      "EvaluatorHoldout: Processed 1 ( 100.00% ) in 0.01 sec. Users per second: 167\n",
      "EvaluatorHoldout: Processed 2 ( 100.00% ) in 0.01 sec. Users per second: 249\n",
      "EvaluatorHoldout: Processed 3 ( 100.00% ) in 0.01 sec. Users per second: 333\n",
      "EvaluatorHoldout: Processed 1 ( 100.00% ) in 0.01 sec. Users per second: 165\n",
      "EvaluatorHoldout: Processed 2 ( 100.00% ) in 0.01 sec. Users per second: 248\n"
     ]
    }
   ],
   "source": [
    "list_alph=compute_map_per_range(recommender_alph, URM_test, range_size=range_all)\n",
    "x_alph,y_alph,_= frame_to_plot(list_alph)"
   ]
  },
  {
   "cell_type": "code",
   "execution_count": 221,
   "metadata": {},
   "outputs": [
    {
     "name": "stdout",
     "output_type": "stream",
     "text": [
      "ItemKNNCFRecommender: URM Detected 42 (0.53 %) cold users.\n",
      "ItemKNNCFRecommender: URM Detected 1971 (7.59 %) cold items.\n",
      "Similarity column 25975 ( 100 % ), 7625.14 column/sec, elapsed time 0.06 min\n"
     ]
    }
   ],
   "source": [
    "from KNN.ItemKNNCFRecommender import ItemKNNCFRecommender\n",
    "#'topK': 967, 'shrink': 356, 'similarity': 'cosine', 'normalize': True\n",
    "recommender_cf_knn = ItemKNNCFRecommender(URM_train)\n",
    "recommender_cf_knn.fit(topK=967, shrink=356, similarity='cosine', normalize=True)"
   ]
  },
  {
   "cell_type": "code",
   "execution_count": 222,
   "metadata": {
    "scrolled": true
   },
   "outputs": [
    {
     "name": "stdout",
     "output_type": "stream",
     "text": [
      "EvaluatorHoldout: Processed 3 ( 100.00% ) in 0.01 sec. Users per second: 375\n",
      "EvaluatorHoldout: Processed 5 ( 100.00% ) in 0.01 sec. Users per second: 485\n",
      "EvaluatorHoldout: Processed 3 ( 100.00% ) in 0.01 sec. Users per second: 332\n",
      "EvaluatorHoldout: Processed 5 ( 100.00% ) in 0.01 sec. Users per second: 418\n",
      "EvaluatorHoldout: Processed 1 ( 100.00% ) in 0.01 sec. Users per second: 168\n",
      "EvaluatorHoldout: Processed 2 ( 100.00% ) in 0.01 sec. Users per second: 249\n",
      "EvaluatorHoldout: Processed 3 ( 100.00% ) in 0.01 sec. Users per second: 299\n",
      "EvaluatorHoldout: Processed 1 ( 100.00% ) in 0.01 sec. Users per second: 142\n",
      "EvaluatorHoldout: Processed 2 ( 100.00% ) in 0.01 sec. Users per second: 222\n"
     ]
    }
   ],
   "source": [
    "list_cf=compute_map_per_range(recommender_cf_knn, URM_test, range_size=range_all)\n",
    "x_cf,y_cf,z_cf = frame_to_plot(list_cf)"
   ]
  },
  {
   "cell_type": "code",
   "execution_count": 58,
   "metadata": {},
   "outputs": [
    {
     "name": "stdout",
     "output_type": "stream",
     "text": [
      "MatrixFactorization_BPR_Cython_Recommender: URM Detected 42 (0.53 %) cold users.\n",
      "MatrixFactorization_BPR_Cython_Recommender: URM Detected 1971 (7.59 %) cold items.\n",
      "MF_BPR: Processed 7944 ( 99.95% ) in 1.14 seconds. BPR loss 5.70E+01. Sample per second: 6947\n",
      "MF_BPR: Epoch 1 of 220. Elapsed time 0.48 sec\n",
      "MF_BPR: Processed 7944 ( 99.95% ) in 0.59 seconds. BPR loss 9.45E+02. Sample per second: 13411\n",
      "MF_BPR: Epoch 2 of 220. Elapsed time 0.93 sec\n",
      "MF_BPR: Processed 7944 ( 99.95% ) in 1.00 seconds. BPR loss 3.70E+03. Sample per second: 7934\n",
      "MF_BPR: Epoch 3 of 220. Elapsed time 1.34 sec\n",
      "MF_BPR: Processed 7944 ( 99.95% ) in 0.41 seconds. BPR loss 8.85E+03. Sample per second: 19551\n",
      "MF_BPR: Epoch 4 of 220. Elapsed time 1.74 sec\n",
      "MF_BPR: Processed 7944 ( 99.95% ) in 0.81 seconds. BPR loss 1.66E+04. Sample per second: 9816\n",
      "MF_BPR: Epoch 5 of 220. Elapsed time 2.15 sec\n",
      "MF_BPR: Processed 7944 ( 99.95% ) in 1.22 seconds. BPR loss 2.61E+04. Sample per second: 6537\n",
      "MF_BPR: Epoch 6 of 220. Elapsed time 2.55 sec\n",
      "MF_BPR: Processed 7944 ( 99.95% ) in 0.62 seconds. BPR loss 3.73E+04. Sample per second: 12766\n",
      "MF_BPR: Epoch 7 of 220. Elapsed time 2.96 sec\n",
      "MF_BPR: Processed 7944 ( 99.95% ) in 1.03 seconds. BPR loss 5.31E+04. Sample per second: 7696\n",
      "MF_BPR: Epoch 8 of 220. Elapsed time 3.37 sec\n",
      "MF_BPR: Processed 7944 ( 99.95% ) in 0.44 seconds. BPR loss 6.78E+04. Sample per second: 18124\n",
      "MF_BPR: Epoch 9 of 220. Elapsed time 3.78 sec\n",
      "MF_BPR: Processed 7944 ( 99.95% ) in 0.85 seconds. BPR loss 8.87E+04. Sample per second: 9387\n",
      "MF_BPR: Epoch 10 of 220. Elapsed time 4.18 sec\n",
      "MF_BPR: Processed 7944 ( 99.95% ) in 1.25 seconds. BPR loss 1.09E+05. Sample per second: 6349\n",
      "MF_BPR: Epoch 11 of 220. Elapsed time 4.59 sec\n",
      "MF_BPR: Processed 7944 ( 99.95% ) in 0.66 seconds. BPR loss 1.31E+05. Sample per second: 12085\n",
      "MF_BPR: Epoch 12 of 220. Elapsed time 4.99 sec\n",
      "MF_BPR: Processed 7944 ( 99.95% ) in 1.06 seconds. BPR loss 1.55E+05. Sample per second: 7471\n",
      "MF_BPR: Epoch 13 of 220. Elapsed time 5.40 sec\n",
      "MF_BPR: Processed 7944 ( 99.95% ) in 0.47 seconds. BPR loss 1.82E+05. Sample per second: 17002\n",
      "MF_BPR: Epoch 14 of 220. Elapsed time 5.80 sec\n",
      "MF_BPR: Processed 7944 ( 99.95% ) in 0.87 seconds. BPR loss 2.07E+05. Sample per second: 9095\n",
      "MF_BPR: Epoch 15 of 220. Elapsed time 6.21 sec\n",
      "MF_BPR: Processed 7944 ( 99.95% ) in 1.29 seconds. BPR loss 2.33E+05. Sample per second: 6142\n",
      "MF_BPR: Epoch 16 of 220. Elapsed time 6.63 sec\n",
      "MF_BPR: Processed 7944 ( 99.95% ) in 0.70 seconds. BPR loss 2.80E+05. Sample per second: 11274\n",
      "MF_BPR: Epoch 17 of 220. Elapsed time 7.04 sec\n",
      "MF_BPR: Processed 7944 ( 99.95% ) in 1.12 seconds. BPR loss 3.09E+05. Sample per second: 7099\n",
      "MF_BPR: Epoch 18 of 220. Elapsed time 7.46 sec\n",
      "MF_BPR: Processed 7944 ( 99.95% ) in 0.53 seconds. BPR loss 3.35E+05. Sample per second: 15114\n",
      "MF_BPR: Epoch 19 of 220. Elapsed time 7.86 sec\n",
      "MF_BPR: Processed 7944 ( 99.95% ) in 0.93 seconds. BPR loss 3.60E+05. Sample per second: 8584\n",
      "MF_BPR: Epoch 20 of 220. Elapsed time 8.26 sec\n",
      "MF_BPR: Processed 7944 ( 99.95% ) in 1.33 seconds. BPR loss 3.97E+05. Sample per second: 5962\n",
      "MF_BPR: Epoch 21 of 220. Elapsed time 8.67 sec\n",
      "MF_BPR: Processed 7944 ( 99.95% ) in 0.73 seconds. BPR loss 4.26E+05. Sample per second: 10831\n",
      "MF_BPR: Epoch 22 of 220. Elapsed time 9.07 sec\n",
      "MF_BPR: Processed 7944 ( 99.95% ) in 1.13 seconds. BPR loss 4.64E+05. Sample per second: 7015\n",
      "MF_BPR: Epoch 23 of 220. Elapsed time 9.47 sec\n",
      "MF_BPR: Processed 7944 ( 99.95% ) in 0.53 seconds. BPR loss 4.92E+05. Sample per second: 15000\n",
      "MF_BPR: Epoch 24 of 220. Elapsed time 9.87 sec\n",
      "MF_BPR: Processed 7944 ( 99.95% ) in 0.92 seconds. BPR loss 5.28E+05. Sample per second: 8600\n",
      "MF_BPR: Epoch 25 of 220. Elapsed time 10.26 sec\n",
      "MF_BPR: Processed 7944 ( 99.95% ) in 1.32 seconds. BPR loss 5.76E+05. Sample per second: 6034\n",
      "MF_BPR: Epoch 26 of 220. Elapsed time 10.65 sec\n",
      "MF_BPR: Processed 7944 ( 99.95% ) in 0.71 seconds. BPR loss 5.82E+05. Sample per second: 11205\n",
      "MF_BPR: Epoch 27 of 220. Elapsed time 11.05 sec\n",
      "MF_BPR: Processed 7944 ( 99.95% ) in 1.10 seconds. BPR loss 6.32E+05. Sample per second: 7205\n",
      "MF_BPR: Epoch 28 of 220. Elapsed time 11.44 sec\n",
      "MF_BPR: Processed 7944 ( 99.95% ) in 0.49 seconds. BPR loss 6.61E+05. Sample per second: 16196\n",
      "MF_BPR: Epoch 29 of 220. Elapsed time 11.83 sec\n",
      "MF_BPR: Processed 7944 ( 99.95% ) in 0.87 seconds. BPR loss 7.08E+05. Sample per second: 9096\n",
      "MF_BPR: Epoch 30 of 220. Elapsed time 12.22 sec\n",
      "MF_BPR: Processed 7944 ( 99.95% ) in 1.27 seconds. BPR loss 7.49E+05. Sample per second: 6278\n",
      "MF_BPR: Epoch 31 of 220. Elapsed time 12.60 sec\n",
      "MF_BPR: Processed 7944 ( 99.95% ) in 0.65 seconds. BPR loss 7.74E+05. Sample per second: 12155\n",
      "MF_BPR: Epoch 32 of 220. Elapsed time 12.99 sec\n",
      "MF_BPR: Processed 7944 ( 99.95% ) in 1.04 seconds. BPR loss 8.14E+05. Sample per second: 7619\n",
      "MF_BPR: Epoch 33 of 220. Elapsed time 13.38 sec\n",
      "MF_BPR: Processed 7944 ( 99.95% ) in 0.43 seconds. BPR loss 8.30E+05. Sample per second: 18271\n",
      "MF_BPR: Epoch 34 of 220. Elapsed time 13.77 sec\n",
      "MF_BPR: Processed 7944 ( 99.95% ) in 0.82 seconds. BPR loss 8.74E+05. Sample per second: 9668\n",
      "MF_BPR: Epoch 35 of 220. Elapsed time 14.16 sec\n",
      "MF_BPR: Processed 7944 ( 99.95% ) in 1.21 seconds. BPR loss 8.77E+05. Sample per second: 6575\n",
      "MF_BPR: Epoch 36 of 220. Elapsed time 14.54 sec\n",
      "MF_BPR: Processed 7944 ( 99.95% ) in 0.59 seconds. BPR loss 9.50E+05. Sample per second: 13494\n",
      "MF_BPR: Epoch 37 of 220. Elapsed time 14.93 sec\n",
      "MF_BPR: Processed 7944 ( 99.95% ) in 0.96 seconds. BPR loss 9.70E+05. Sample per second: 8244\n",
      "MF_BPR: Epoch 38 of 220. Elapsed time 15.30 sec\n",
      "MF_BPR: Processed 7944 ( 99.95% ) in 1.36 seconds. BPR loss 9.75E+05. Sample per second: 5853\n",
      "MF_BPR: Epoch 39 of 220. Elapsed time 15.70 sec\n",
      "MF_BPR: Processed 7944 ( 99.95% ) in 0.74 seconds. BPR loss 1.04E+06. Sample per second: 10712\n",
      "MF_BPR: Epoch 40 of 220. Elapsed time 16.08 sec\n",
      "MF_BPR: Processed 7944 ( 99.95% ) in 1.13 seconds. BPR loss 1.06E+06. Sample per second: 7057\n",
      "MF_BPR: Epoch 41 of 220. Elapsed time 16.46 sec\n",
      "MF_BPR: Processed 7944 ( 99.95% ) in 0.51 seconds. BPR loss 1.08E+06. Sample per second: 15664\n",
      "MF_BPR: Epoch 42 of 220. Elapsed time 16.84 sec\n",
      "MF_BPR: Processed 7944 ( 99.95% ) in 0.88 seconds. BPR loss 1.14E+06. Sample per second: 9005\n",
      "MF_BPR: Epoch 43 of 220. Elapsed time 17.22 sec\n",
      "MF_BPR: Processed 7944 ( 99.95% ) in 1.27 seconds. BPR loss 1.17E+06. Sample per second: 6271\n",
      "MF_BPR: Epoch 44 of 220. Elapsed time 17.60 sec\n",
      "MF_BPR: Processed 7944 ( 99.95% ) in 0.64 seconds. BPR loss 1.19E+06. Sample per second: 12353\n",
      "MF_BPR: Epoch 45 of 220. Elapsed time 17.98 sec\n",
      "MF_BPR: Processed 7944 ( 99.95% ) in 1.01 seconds. BPR loss 1.21E+06. Sample per second: 7851\n",
      "MF_BPR: Epoch 46 of 220. Elapsed time 18.35 sec\n",
      "MF_BPR: Processed 7944 ( 99.95% ) in 0.39 seconds. BPR loss 1.27E+06. Sample per second: 20155\n",
      "MF_BPR: Epoch 47 of 220. Elapsed time 18.73 sec\n",
      "MF_BPR: Processed 7944 ( 99.95% ) in 0.77 seconds. BPR loss 1.23E+06. Sample per second: 10283\n",
      "MF_BPR: Epoch 48 of 220. Elapsed time 19.11 sec\n",
      "MF_BPR: Processed 7944 ( 99.95% ) in 1.15 seconds. BPR loss 1.30E+06. Sample per second: 6938\n",
      "MF_BPR: Epoch 49 of 220. Elapsed time 19.48 sec\n",
      "MF_BPR: Processed 7944 ( 99.95% ) in 0.53 seconds. BPR loss 1.32E+06. Sample per second: 15120\n",
      "MF_BPR: Epoch 50 of 220. Elapsed time 19.86 sec\n",
      "MF_BPR: Processed 7944 ( 99.95% ) in 0.90 seconds. BPR loss 1.35E+06. Sample per second: 8824\n",
      "MF_BPR: Epoch 51 of 220. Elapsed time 20.24 sec\n",
      "MF_BPR: Processed 7944 ( 99.95% ) in 1.28 seconds. BPR loss 1.37E+06. Sample per second: 6219\n",
      "MF_BPR: Epoch 52 of 220. Elapsed time 20.61 sec\n",
      "MF_BPR: Processed 7944 ( 99.95% ) in 0.68 seconds. BPR loss 1.42E+06. Sample per second: 11732\n",
      "MF_BPR: Epoch 53 of 220. Elapsed time 21.01 sec\n",
      "MF_BPR: Processed 7944 ( 99.95% ) in 1.04 seconds. BPR loss 1.44E+06. Sample per second: 7653\n",
      "MF_BPR: Epoch 54 of 220. Elapsed time 21.37 sec\n",
      "MF_BPR: Processed 7944 ( 99.95% ) in 0.41 seconds. BPR loss 1.43E+06. Sample per second: 19147\n",
      "MF_BPR: Epoch 55 of 220. Elapsed time 21.75 sec\n",
      "MF_BPR: Processed 7944 ( 99.95% ) in 0.77 seconds. BPR loss 1.47E+06. Sample per second: 10303\n",
      "MF_BPR: Epoch 56 of 220. Elapsed time 22.11 sec\n",
      "MF_BPR: Processed 7944 ( 99.95% ) in 1.15 seconds. BPR loss 1.51E+06. Sample per second: 6897\n"
     ]
    },
    {
     "name": "stdout",
     "output_type": "stream",
     "text": [
      "MF_BPR: Epoch 57 of 220. Elapsed time 22.49 sec\n",
      "MF_BPR: Processed 7944 ( 99.95% ) in 0.51 seconds. BPR loss 1.53E+06. Sample per second: 15630\n",
      "MF_BPR: Epoch 58 of 220. Elapsed time 22.84 sec\n",
      "MF_BPR: Processed 7944 ( 99.95% ) in 0.89 seconds. BPR loss 1.56E+06. Sample per second: 8897\n",
      "MF_BPR: Epoch 59 of 220. Elapsed time 23.23 sec\n",
      "MF_BPR: Processed 7944 ( 99.95% ) in 1.27 seconds. BPR loss 1.55E+06. Sample per second: 6261\n",
      "MF_BPR: Epoch 60 of 220. Elapsed time 23.61 sec\n",
      "MF_BPR: Processed 7944 ( 99.95% ) in 0.65 seconds. BPR loss 1.60E+06. Sample per second: 12262\n",
      "MF_BPR: Epoch 61 of 220. Elapsed time 23.99 sec\n",
      "MF_BPR: Processed 7944 ( 99.95% ) in 1.02 seconds. BPR loss 1.62E+06. Sample per second: 7782\n",
      "MF_BPR: Epoch 62 of 220. Elapsed time 24.36 sec\n",
      "MF_BPR: Processed 7944 ( 99.95% ) in 0.38 seconds. BPR loss 1.65E+06. Sample per second: 20896\n",
      "MF_BPR: Epoch 63 of 220. Elapsed time 24.72 sec\n",
      "MF_BPR: Processed 7944 ( 99.95% ) in 0.76 seconds. BPR loss 1.64E+06. Sample per second: 10504\n",
      "MF_BPR: Epoch 64 of 220. Elapsed time 25.09 sec\n",
      "MF_BPR: Processed 7944 ( 99.95% ) in 1.13 seconds. BPR loss 1.67E+06. Sample per second: 7030\n",
      "MF_BPR: Epoch 65 of 220. Elapsed time 25.47 sec\n",
      "MF_BPR: Processed 7944 ( 99.95% ) in 0.50 seconds. BPR loss 1.68E+06. Sample per second: 15953\n",
      "MF_BPR: Epoch 66 of 220. Elapsed time 25.83 sec\n",
      "MF_BPR: Processed 7944 ( 99.95% ) in 0.86 seconds. BPR loss 1.74E+06. Sample per second: 9191\n",
      "MF_BPR: Epoch 67 of 220. Elapsed time 26.20 sec\n",
      "MF_BPR: Processed 7944 ( 99.95% ) in 1.25 seconds. BPR loss 1.66E+06. Sample per second: 6373\n",
      "MF_BPR: Epoch 68 of 220. Elapsed time 26.59 sec\n",
      "MF_BPR: Processed 7944 ( 99.95% ) in 0.61 seconds. BPR loss 1.73E+06. Sample per second: 12929\n",
      "MF_BPR: Epoch 69 of 220. Elapsed time 26.95 sec\n",
      "MF_BPR: Processed 7944 ( 99.95% ) in 0.99 seconds. BPR loss 1.74E+06. Sample per second: 8029\n",
      "MF_BPR: Epoch 70 of 220. Elapsed time 27.33 sec\n",
      "MF_BPR: Processed 7944 ( 99.95% ) in 1.36 seconds. BPR loss 1.78E+06. Sample per second: 5823\n",
      "MF_BPR: Epoch 71 of 220. Elapsed time 27.70 sec\n",
      "MF_BPR: Processed 7944 ( 99.95% ) in 0.73 seconds. BPR loss 1.80E+06. Sample per second: 10850\n",
      "MF_BPR: Epoch 72 of 220. Elapsed time 28.07 sec\n",
      "MF_BPR: Processed 7944 ( 99.95% ) in 1.10 seconds. BPR loss 1.80E+06. Sample per second: 7242\n",
      "MF_BPR: Epoch 73 of 220. Elapsed time 28.43 sec\n",
      "MF_BPR: Processed 7944 ( 99.95% ) in 0.47 seconds. BPR loss 1.83E+06. Sample per second: 17081\n",
      "MF_BPR: Epoch 74 of 220. Elapsed time 28.80 sec\n",
      "MF_BPR: Processed 7944 ( 99.95% ) in 0.82 seconds. BPR loss 1.81E+06. Sample per second: 9721\n",
      "MF_BPR: Epoch 75 of 220. Elapsed time 29.15 sec\n",
      "MF_BPR: Processed 7944 ( 99.95% ) in 1.20 seconds. BPR loss 1.88E+06. Sample per second: 6615\n",
      "MF_BPR: Epoch 76 of 220. Elapsed time 29.54 sec\n",
      "MF_BPR: Processed 7944 ( 99.95% ) in 0.57 seconds. BPR loss 1.85E+06. Sample per second: 13937\n",
      "MF_BPR: Epoch 77 of 220. Elapsed time 29.91 sec\n",
      "MF_BPR: Processed 7944 ( 99.95% ) in 0.92 seconds. BPR loss 1.90E+06. Sample per second: 8669\n",
      "MF_BPR: Epoch 78 of 220. Elapsed time 30.25 sec\n",
      "MF_BPR: Processed 7944 ( 99.95% ) in 1.30 seconds. BPR loss 1.89E+06. Sample per second: 6104\n",
      "MF_BPR: Epoch 79 of 220. Elapsed time 30.64 sec\n",
      "MF_BPR: Processed 7944 ( 99.95% ) in 0.65 seconds. BPR loss 1.97E+06. Sample per second: 12170\n",
      "MF_BPR: Epoch 80 of 220. Elapsed time 30.99 sec\n",
      "MF_BPR: Processed 7944 ( 99.95% ) in 1.01 seconds. BPR loss 1.91E+06. Sample per second: 7848\n",
      "MF_BPR: Epoch 81 of 220. Elapsed time 31.36 sec\n",
      "MF_BPR: Processed 7944 ( 99.95% ) in 0.38 seconds. BPR loss 1.89E+06. Sample per second: 20826\n",
      "MF_BPR: Epoch 82 of 220. Elapsed time 31.72 sec\n",
      "MF_BPR: Processed 7944 ( 99.95% ) in 0.73 seconds. BPR loss 1.94E+06. Sample per second: 10838\n",
      "MF_BPR: Epoch 83 of 220. Elapsed time 32.09 sec\n",
      "MF_BPR: Processed 7944 ( 99.95% ) in 1.10 seconds. BPR loss 1.96E+06. Sample per second: 7217\n",
      "MF_BPR: Epoch 84 of 220. Elapsed time 32.44 sec\n",
      "MF_BPR: Processed 7944 ( 99.95% ) in 0.46 seconds. BPR loss 1.98E+06. Sample per second: 17226\n",
      "MF_BPR: Epoch 85 of 220. Elapsed time 32.80 sec\n",
      "MF_BPR: Processed 7944 ( 99.95% ) in 0.83 seconds. BPR loss 1.98E+06. Sample per second: 9522\n",
      "MF_BPR: Epoch 86 of 220. Elapsed time 33.17 sec\n",
      "MF_BPR: Processed 7944 ( 99.95% ) in 1.19 seconds. BPR loss 1.98E+06. Sample per second: 6682\n",
      "MF_BPR: Epoch 87 of 220. Elapsed time 33.53 sec\n",
      "MF_BPR: Processed 7944 ( 99.95% ) in 0.55 seconds. BPR loss 2.00E+06. Sample per second: 14348\n",
      "MF_BPR: Epoch 88 of 220. Elapsed time 33.89 sec\n",
      "MF_BPR: Processed 7944 ( 99.95% ) in 0.91 seconds. BPR loss 1.97E+06. Sample per second: 8755\n",
      "MF_BPR: Epoch 89 of 220. Elapsed time 34.24 sec\n",
      "MF_BPR: Processed 7944 ( 99.95% ) in 1.27 seconds. BPR loss 2.01E+06. Sample per second: 6242\n",
      "MF_BPR: Epoch 90 of 220. Elapsed time 34.61 sec\n",
      "MF_BPR: Processed 7944 ( 99.95% ) in 0.63 seconds. BPR loss 2.05E+06. Sample per second: 12578\n",
      "MF_BPR: Epoch 91 of 220. Elapsed time 34.97 sec\n",
      "MF_BPR: Processed 7944 ( 99.95% ) in 1.00 seconds. BPR loss 2.08E+06. Sample per second: 7980\n",
      "MF_BPR: Epoch 92 of 220. Elapsed time 35.33 sec\n",
      "MF_BPR: Processed 7944 ( 99.95% ) in 1.36 seconds. BPR loss 2.06E+06. Sample per second: 5842\n",
      "MF_BPR: Epoch 93 of 220. Elapsed time 35.70 sec\n",
      "MF_BPR: Processed 7944 ( 99.95% ) in 0.72 seconds. BPR loss 2.06E+06. Sample per second: 11020\n",
      "MF_BPR: Epoch 94 of 220. Elapsed time 36.06 sec\n",
      "MF_BPR: Processed 7944 ( 99.95% ) in 1.08 seconds. BPR loss 2.11E+06. Sample per second: 7338\n",
      "MF_BPR: Epoch 95 of 220. Elapsed time 36.42 sec\n",
      "MF_BPR: Processed 7944 ( 99.95% ) in 0.44 seconds. BPR loss 2.08E+06. Sample per second: 17940\n",
      "MF_BPR: Epoch 96 of 220. Elapsed time 36.78 sec\n",
      "MF_BPR: Processed 7944 ( 99.95% ) in 0.80 seconds. BPR loss 2.06E+06. Sample per second: 9908\n",
      "MF_BPR: Epoch 97 of 220. Elapsed time 37.14 sec\n",
      "MF_BPR: Processed 7944 ( 99.95% ) in 1.16 seconds. BPR loss 2.12E+06. Sample per second: 6844\n",
      "MF_BPR: Epoch 98 of 220. Elapsed time 37.50 sec\n",
      "MF_BPR: Processed 7944 ( 99.95% ) in 0.51 seconds. BPR loss 2.13E+06. Sample per second: 15649\n",
      "MF_BPR: Epoch 99 of 220. Elapsed time 37.84 sec\n",
      "MF_BPR: Processed 7944 ( 99.95% ) in 0.88 seconds. BPR loss 2.15E+06. Sample per second: 9065\n",
      "MF_BPR: Epoch 100 of 220. Elapsed time 38.21 sec\n",
      "MF_BPR: Processed 7944 ( 99.95% ) in 1.23 seconds. BPR loss 2.16E+06. Sample per second: 6479\n",
      "MF_BPR: Epoch 101 of 220. Elapsed time 38.56 sec\n",
      "MF_BPR: Processed 7944 ( 99.95% ) in 0.60 seconds. BPR loss 2.17E+06. Sample per second: 13322\n",
      "MF_BPR: Epoch 102 of 220. Elapsed time 38.93 sec\n",
      "MF_BPR: Processed 7944 ( 99.95% ) in 0.94 seconds. BPR loss 2.15E+06. Sample per second: 8473\n",
      "MF_BPR: Epoch 103 of 220. Elapsed time 39.27 sec\n",
      "MF_BPR: Processed 7944 ( 99.95% ) in 1.29 seconds. BPR loss 2.18E+06. Sample per second: 6163\n",
      "MF_BPR: Epoch 104 of 220. Elapsed time 39.63 sec\n",
      "MF_BPR: Processed 7944 ( 99.95% ) in 0.64 seconds. BPR loss 2.21E+06. Sample per second: 12439\n",
      "MF_BPR: Epoch 105 of 220. Elapsed time 39.98 sec\n",
      "MF_BPR: Processed 7944 ( 99.95% ) in 0.99 seconds. BPR loss 2.19E+06. Sample per second: 8034\n",
      "MF_BPR: Epoch 106 of 220. Elapsed time 40.33 sec\n",
      "MF_BPR: Processed 7944 ( 99.95% ) in 1.36 seconds. BPR loss 2.14E+06. Sample per second: 5852\n",
      "MF_BPR: Epoch 107 of 220. Elapsed time 40.70 sec\n",
      "MF_BPR: Processed 7944 ( 99.95% ) in 0.72 seconds. BPR loss 2.20E+06. Sample per second: 11078\n",
      "MF_BPR: Epoch 108 of 220. Elapsed time 41.06 sec\n",
      "MF_BPR: Processed 7944 ( 99.95% ) in 1.07 seconds. BPR loss 2.21E+06. Sample per second: 7455\n",
      "MF_BPR: Epoch 109 of 220. Elapsed time 41.40 sec\n",
      "MF_BPR: Processed 7944 ( 99.95% ) in 0.42 seconds. BPR loss 2.26E+06. Sample per second: 18726\n",
      "MF_BPR: Epoch 110 of 220. Elapsed time 41.76 sec\n",
      "MF_BPR: Processed 7944 ( 99.95% ) in 0.76 seconds. BPR loss 2.24E+06. Sample per second: 10410\n",
      "MF_BPR: Epoch 111 of 220. Elapsed time 42.10 sec\n",
      "MF_BPR: Processed 7944 ( 99.95% ) in 1.11 seconds. BPR loss 2.21E+06. Sample per second: 7136\n",
      "MF_BPR: Epoch 112 of 220. Elapsed time 42.45 sec\n",
      "MF_BPR: Processed 7944 ( 99.95% ) in 0.47 seconds. BPR loss 2.24E+06. Sample per second: 17083\n",
      "MF_BPR: Epoch 113 of 220. Elapsed time 42.80 sec\n",
      "MF_BPR: Processed 7944 ( 99.95% ) in 0.83 seconds. BPR loss 2.24E+06. Sample per second: 9586\n",
      "MF_BPR: Epoch 114 of 220. Elapsed time 43.17 sec\n",
      "MF_BPR: Processed 7944 ( 99.95% ) in 1.19 seconds. BPR loss 2.21E+06. Sample per second: 6695\n"
     ]
    },
    {
     "name": "stdout",
     "output_type": "stream",
     "text": [
      "MF_BPR: Epoch 115 of 220. Elapsed time 43.52 sec\n",
      "MF_BPR: Processed 7944 ( 99.95% ) in 0.54 seconds. BPR loss 2.25E+06. Sample per second: 14807\n",
      "MF_BPR: Epoch 116 of 220. Elapsed time 43.89 sec\n",
      "MF_BPR: Processed 7944 ( 99.95% ) in 0.89 seconds. BPR loss 2.24E+06. Sample per second: 8922\n",
      "MF_BPR: Epoch 117 of 220. Elapsed time 44.23 sec\n",
      "MF_BPR: Processed 7944 ( 99.95% ) in 1.24 seconds. BPR loss 2.25E+06. Sample per second: 6392\n",
      "MF_BPR: Epoch 118 of 220. Elapsed time 44.58 sec\n",
      "MF_BPR: Processed 7944 ( 99.95% ) in 0.60 seconds. BPR loss 2.27E+06. Sample per second: 13347\n",
      "MF_BPR: Epoch 119 of 220. Elapsed time 44.93 sec\n",
      "MF_BPR: Processed 7944 ( 99.95% ) in 0.94 seconds. BPR loss 2.31E+06. Sample per second: 8425\n",
      "MF_BPR: Epoch 120 of 220. Elapsed time 45.28 sec\n",
      "MF_BPR: Processed 7944 ( 99.95% ) in 1.29 seconds. BPR loss 2.30E+06. Sample per second: 6150\n",
      "MF_BPR: Epoch 121 of 220. Elapsed time 45.63 sec\n",
      "MF_BPR: Processed 7944 ( 99.95% ) in 0.64 seconds. BPR loss 2.32E+06. Sample per second: 12423\n",
      "MF_BPR: Epoch 122 of 220. Elapsed time 45.98 sec\n",
      "MF_BPR: Processed 7944 ( 99.95% ) in 0.99 seconds. BPR loss 2.35E+06. Sample per second: 8038\n",
      "MF_BPR: Epoch 123 of 220. Elapsed time 46.32 sec\n",
      "MF_BPR: Processed 7944 ( 99.95% ) in 1.34 seconds. BPR loss 2.27E+06. Sample per second: 5911\n",
      "MF_BPR: Epoch 124 of 220. Elapsed time 46.68 sec\n",
      "MF_BPR: Processed 7944 ( 99.95% ) in 0.69 seconds. BPR loss 2.31E+06. Sample per second: 11539\n",
      "MF_BPR: Epoch 125 of 220. Elapsed time 47.02 sec\n",
      "MF_BPR: Processed 7944 ( 99.95% ) in 1.04 seconds. BPR loss 2.32E+06. Sample per second: 7649\n",
      "MF_BPR: Epoch 126 of 220. Elapsed time 47.38 sec\n",
      "MF_BPR: Processed 7944 ( 99.95% ) in 0.39 seconds. BPR loss 2.29E+06. Sample per second: 20503\n",
      "MF_BPR: Epoch 127 of 220. Elapsed time 47.72 sec\n",
      "MF_BPR: Processed 7944 ( 99.95% ) in 0.74 seconds. BPR loss 2.34E+06. Sample per second: 10792\n",
      "MF_BPR: Epoch 128 of 220. Elapsed time 48.07 sec\n",
      "MF_BPR: Processed 7944 ( 99.95% ) in 1.09 seconds. BPR loss 2.36E+06. Sample per second: 7306\n",
      "MF_BPR: Epoch 129 of 220. Elapsed time 48.44 sec\n",
      "MF_BPR: Processed 7944 ( 99.95% ) in 0.44 seconds. BPR loss 2.34E+06. Sample per second: 18001\n",
      "MF_BPR: Epoch 130 of 220. Elapsed time 48.78 sec\n",
      "MF_BPR: Processed 7944 ( 99.95% ) in 0.79 seconds. BPR loss 2.30E+06. Sample per second: 10016\n",
      "MF_BPR: Epoch 131 of 220. Elapsed time 49.13 sec\n",
      "MF_BPR: Processed 7944 ( 99.95% ) in 1.14 seconds. BPR loss 2.32E+06. Sample per second: 6966\n",
      "MF_BPR: Epoch 132 of 220. Elapsed time 49.49 sec\n",
      "MF_BPR: Processed 7944 ( 99.95% ) in 0.51 seconds. BPR loss 2.38E+06. Sample per second: 15614\n",
      "MF_BPR: Epoch 133 of 220. Elapsed time 49.85 sec\n",
      "MF_BPR: Processed 7944 ( 99.95% ) in 0.85 seconds. BPR loss 2.33E+06. Sample per second: 9375\n",
      "MF_BPR: Epoch 134 of 220. Elapsed time 50.18 sec\n",
      "MF_BPR: Processed 7944 ( 99.95% ) in 1.20 seconds. BPR loss 2.40E+06. Sample per second: 6642\n",
      "MF_BPR: Epoch 135 of 220. Elapsed time 50.53 sec\n",
      "MF_BPR: Processed 7944 ( 99.95% ) in 0.55 seconds. BPR loss 2.43E+06. Sample per second: 14563\n",
      "MF_BPR: Epoch 136 of 220. Elapsed time 50.88 sec\n",
      "MF_BPR: Processed 7944 ( 99.95% ) in 0.89 seconds. BPR loss 2.34E+06. Sample per second: 8894\n",
      "MF_BPR: Epoch 137 of 220. Elapsed time 51.23 sec\n",
      "MF_BPR: Processed 7944 ( 99.95% ) in 1.24 seconds. BPR loss 2.41E+06. Sample per second: 6397\n",
      "MF_BPR: Epoch 138 of 220. Elapsed time 51.58 sec\n",
      "MF_BPR: Processed 7944 ( 99.95% ) in 0.59 seconds. BPR loss 2.32E+06. Sample per second: 13402\n",
      "MF_BPR: Epoch 139 of 220. Elapsed time 51.93 sec\n",
      "MF_BPR: Processed 7944 ( 99.95% ) in 0.94 seconds. BPR loss 2.33E+06. Sample per second: 8439\n",
      "MF_BPR: Epoch 140 of 220. Elapsed time 52.28 sec\n",
      "MF_BPR: Processed 7944 ( 99.95% ) in 1.30 seconds. BPR loss 2.38E+06. Sample per second: 6119\n",
      "MF_BPR: Epoch 141 of 220. Elapsed time 52.63 sec\n",
      "MF_BPR: Processed 7944 ( 99.95% ) in 0.65 seconds. BPR loss 2.38E+06. Sample per second: 12307\n",
      "MF_BPR: Epoch 142 of 220. Elapsed time 52.98 sec\n",
      "MF_BPR: Processed 7944 ( 99.95% ) in 0.99 seconds. BPR loss 2.37E+06. Sample per second: 8009\n",
      "MF_BPR: Epoch 143 of 220. Elapsed time 53.33 sec\n",
      "MF_BPR: Processed 7944 ( 99.95% ) in 1.34 seconds. BPR loss 2.39E+06. Sample per second: 5938\n",
      "MF_BPR: Epoch 144 of 220. Elapsed time 53.67 sec\n",
      "MF_BPR: Processed 7944 ( 99.95% ) in 0.68 seconds. BPR loss 2.44E+06. Sample per second: 11612\n",
      "MF_BPR: Epoch 145 of 220. Elapsed time 54.02 sec\n",
      "MF_BPR: Processed 7944 ( 99.95% ) in 1.03 seconds. BPR loss 2.36E+06. Sample per second: 7701\n",
      "MF_BPR: Epoch 146 of 220. Elapsed time 54.37 sec\n",
      "MF_BPR: Processed 7944 ( 99.95% ) in 0.39 seconds. BPR loss 2.39E+06. Sample per second: 20181\n",
      "MF_BPR: Epoch 147 of 220. Elapsed time 54.73 sec\n",
      "MF_BPR: Processed 7944 ( 99.95% ) in 0.73 seconds. BPR loss 2.40E+06. Sample per second: 10859\n",
      "MF_BPR: Epoch 148 of 220. Elapsed time 55.07 sec\n",
      "MF_BPR: Processed 7944 ( 99.95% ) in 1.08 seconds. BPR loss 2.42E+06. Sample per second: 7359\n",
      "MF_BPR: Epoch 149 of 220. Elapsed time 55.42 sec\n",
      "MF_BPR: Processed 7944 ( 99.95% ) in 0.43 seconds. BPR loss 2.38E+06. Sample per second: 18690\n",
      "MF_BPR: Epoch 150 of 220. Elapsed time 55.76 sec\n",
      "MF_BPR: Processed 7944 ( 99.95% ) in 0.77 seconds. BPR loss 2.42E+06. Sample per second: 10279\n",
      "MF_BPR: Epoch 151 of 220. Elapsed time 56.11 sec\n",
      "MF_BPR: Processed 7944 ( 99.95% ) in 1.12 seconds. BPR loss 2.40E+06. Sample per second: 7106\n",
      "MF_BPR: Epoch 152 of 220. Elapsed time 56.45 sec\n",
      "MF_BPR: Processed 7944 ( 99.95% ) in 0.47 seconds. BPR loss 2.39E+06. Sample per second: 16948\n",
      "MF_BPR: Epoch 153 of 220. Elapsed time 56.81 sec\n",
      "MF_BPR: Processed 7944 ( 99.95% ) in 0.81 seconds. BPR loss 2.39E+06. Sample per second: 9750\n",
      "MF_BPR: Epoch 154 of 220. Elapsed time 57.15 sec\n",
      "MF_BPR: Processed 7944 ( 99.95% ) in 1.16 seconds. BPR loss 2.37E+06. Sample per second: 6835\n",
      "MF_BPR: Epoch 155 of 220. Elapsed time 57.50 sec\n",
      "MF_BPR: Processed 7944 ( 99.95% ) in 0.51 seconds. BPR loss 2.39E+06. Sample per second: 15548\n",
      "MF_BPR: Epoch 156 of 220. Elapsed time 57.85 sec\n",
      "MF_BPR: Processed 7944 ( 99.95% ) in 0.86 seconds. BPR loss 2.41E+06. Sample per second: 9205\n",
      "MF_BPR: Epoch 157 of 220. Elapsed time 58.20 sec\n",
      "MF_BPR: Processed 7944 ( 99.95% ) in 1.21 seconds. BPR loss 2.39E+06. Sample per second: 6571\n",
      "MF_BPR: Epoch 158 of 220. Elapsed time 58.56 sec\n",
      "MF_BPR: Processed 7944 ( 99.95% ) in 0.56 seconds. BPR loss 2.39E+06. Sample per second: 14127\n",
      "MF_BPR: Epoch 159 of 220. Elapsed time 58.90 sec\n",
      "MF_BPR: Processed 7944 ( 99.95% ) in 0.91 seconds. BPR loss 2.42E+06. Sample per second: 8722\n",
      "MF_BPR: Epoch 160 of 220. Elapsed time 59.25 sec\n",
      "MF_BPR: Processed 7944 ( 99.95% ) in 1.26 seconds. BPR loss 2.42E+06. Sample per second: 6313\n",
      "MF_BPR: Epoch 161 of 220. Elapsed time 59.59 sec\n",
      "MF_BPR: Processed 7944 ( 99.95% ) in 0.60 seconds. BPR loss 2.43E+06. Sample per second: 13202\n",
      "MF_BPR: Epoch 162 of 220. Elapsed time 59.94 sec\n",
      "MF_BPR: Processed 7944 ( 99.95% ) in 0.95 seconds. BPR loss 2.43E+06. Sample per second: 8366\n",
      "MF_BPR: Epoch 163 of 220. Elapsed time 1.00 min\n",
      "MF_BPR: Processed 7944 ( 99.95% ) in 1.31 seconds. BPR loss 2.45E+06. Sample per second: 6060\n",
      "MF_BPR: Epoch 164 of 220. Elapsed time 1.01 min\n",
      "MF_BPR: Processed 7944 ( 99.95% ) in 0.65 seconds. BPR loss 2.40E+06. Sample per second: 12167\n",
      "MF_BPR: Epoch 165 of 220. Elapsed time 1.02 min\n",
      "MF_BPR: Processed 7944 ( 99.95% ) in 1.00 seconds. BPR loss 2.41E+06. Sample per second: 7948\n",
      "MF_BPR: Epoch 166 of 220. Elapsed time 1.02 min\n",
      "MF_BPR: Processed 7944 ( 99.95% ) in 1.35 seconds. BPR loss 2.41E+06. Sample per second: 5896\n",
      "MF_BPR: Epoch 167 of 220. Elapsed time 1.03 min\n",
      "MF_BPR: Processed 7944 ( 99.95% ) in 0.69 seconds. BPR loss 2.43E+06. Sample per second: 11449\n",
      "MF_BPR: Epoch 168 of 220. Elapsed time 1.03 min\n",
      "MF_BPR: Processed 7944 ( 99.95% ) in 1.04 seconds. BPR loss 2.40E+06. Sample per second: 7651\n",
      "MF_BPR: Epoch 169 of 220. Elapsed time 1.04 min\n",
      "MF_BPR: Processed 7944 ( 99.95% ) in 0.39 seconds. BPR loss 2.41E+06. Sample per second: 20598\n",
      "MF_BPR: Epoch 170 of 220. Elapsed time 1.05 min\n",
      "MF_BPR: Processed 7944 ( 99.95% ) in 0.74 seconds. BPR loss 2.43E+06. Sample per second: 10808\n",
      "MF_BPR: Epoch 171 of 220. Elapsed time 1.05 min\n",
      "MF_BPR: Processed 7944 ( 99.95% ) in 1.08 seconds. BPR loss 2.41E+06. Sample per second: 7345\n",
      "MF_BPR: Epoch 172 of 220. Elapsed time 1.06 min\n"
     ]
    },
    {
     "name": "stdout",
     "output_type": "stream",
     "text": [
      "MF_BPR: Processed 7944 ( 99.95% ) in 0.44 seconds. BPR loss 2.40E+06. Sample per second: 17973\n",
      "MF_BPR: Epoch 173 of 220. Elapsed time 1.06 min\n",
      "MF_BPR: Processed 7944 ( 99.95% ) in 0.78 seconds. BPR loss 2.43E+06. Sample per second: 10199\n",
      "MF_BPR: Epoch 174 of 220. Elapsed time 1.07 min\n",
      "MF_BPR: Processed 7944 ( 99.95% ) in 1.12 seconds. BPR loss 2.44E+06. Sample per second: 7065\n",
      "MF_BPR: Epoch 175 of 220. Elapsed time 1.07 min\n",
      "MF_BPR: Processed 7944 ( 99.95% ) in 0.47 seconds. BPR loss 2.37E+06. Sample per second: 16783\n",
      "MF_BPR: Epoch 176 of 220. Elapsed time 1.08 min\n",
      "MF_BPR: Processed 7944 ( 99.95% ) in 0.82 seconds. BPR loss 2.40E+06. Sample per second: 9699\n",
      "MF_BPR: Epoch 177 of 220. Elapsed time 1.09 min\n",
      "MF_BPR: Processed 7944 ( 99.95% ) in 1.17 seconds. BPR loss 2.43E+06. Sample per second: 6813\n",
      "MF_BPR: Epoch 178 of 220. Elapsed time 1.09 min\n",
      "MF_BPR: Processed 7944 ( 99.95% ) in 0.51 seconds. BPR loss 2.40E+06. Sample per second: 15448\n",
      "MF_BPR: Epoch 179 of 220. Elapsed time 1.10 min\n",
      "MF_BPR: Processed 7944 ( 99.95% ) in 0.86 seconds. BPR loss 2.47E+06. Sample per second: 9240\n",
      "MF_BPR: Epoch 180 of 220. Elapsed time 1.10 min\n",
      "MF_BPR: Processed 7944 ( 99.95% ) in 1.20 seconds. BPR loss 2.43E+06. Sample per second: 6594\n",
      "MF_BPR: Epoch 181 of 220. Elapsed time 1.11 min\n",
      "MF_BPR: Processed 7944 ( 99.95% ) in 0.56 seconds. BPR loss 2.44E+06. Sample per second: 14310\n",
      "MF_BPR: Epoch 182 of 220. Elapsed time 1.11 min\n",
      "MF_BPR: Processed 7944 ( 99.95% ) in 0.90 seconds. BPR loss 2.37E+06. Sample per second: 8830\n",
      "MF_BPR: Epoch 183 of 220. Elapsed time 1.12 min\n",
      "MF_BPR: Processed 7944 ( 99.95% ) in 1.25 seconds. BPR loss 2.39E+06. Sample per second: 6367\n",
      "MF_BPR: Epoch 184 of 220. Elapsed time 1.13 min\n",
      "MF_BPR: Processed 7944 ( 99.95% ) in 0.59 seconds. BPR loss 2.41E+06. Sample per second: 13401\n",
      "MF_BPR: Epoch 185 of 220. Elapsed time 1.13 min\n",
      "MF_BPR: Processed 7944 ( 99.95% ) in 0.94 seconds. BPR loss 2.47E+06. Sample per second: 8418\n",
      "MF_BPR: Epoch 186 of 220. Elapsed time 1.14 min\n",
      "MF_BPR: Processed 7944 ( 99.95% ) in 1.29 seconds. BPR loss 2.46E+06. Sample per second: 6149\n",
      "MF_BPR: Epoch 187 of 220. Elapsed time 1.14 min\n",
      "MF_BPR: Processed 7944 ( 99.95% ) in 0.64 seconds. BPR loss 2.41E+06. Sample per second: 12384\n",
      "MF_BPR: Epoch 188 of 220. Elapsed time 1.15 min\n",
      "MF_BPR: Processed 7944 ( 99.95% ) in 0.99 seconds. BPR loss 2.43E+06. Sample per second: 8060\n",
      "MF_BPR: Epoch 189 of 220. Elapsed time 1.16 min\n",
      "MF_BPR: Processed 7944 ( 99.95% ) in 1.33 seconds. BPR loss 2.45E+06. Sample per second: 5974\n",
      "MF_BPR: Epoch 190 of 220. Elapsed time 1.16 min\n",
      "MF_BPR: Processed 7944 ( 99.95% ) in 0.68 seconds. BPR loss 2.49E+06. Sample per second: 11609\n",
      "MF_BPR: Epoch 191 of 220. Elapsed time 1.17 min\n",
      "MF_BPR: Processed 7944 ( 99.95% ) in 1.02 seconds. BPR loss 2.47E+06. Sample per second: 7758\n",
      "MF_BPR: Epoch 192 of 220. Elapsed time 1.17 min\n",
      "MF_BPR: Processed 7944 ( 99.95% ) in 0.40 seconds. BPR loss 2.39E+06. Sample per second: 20016\n",
      "MF_BPR: Epoch 193 of 220. Elapsed time 1.18 min\n",
      "MF_BPR: Processed 7944 ( 99.95% ) in 0.75 seconds. BPR loss 2.44E+06. Sample per second: 10553\n",
      "MF_BPR: Epoch 194 of 220. Elapsed time 1.18 min\n",
      "MF_BPR: Processed 7944 ( 99.95% ) in 1.11 seconds. BPR loss 2.44E+06. Sample per second: 7161\n",
      "MF_BPR: Epoch 195 of 220. Elapsed time 1.19 min\n",
      "MF_BPR: Processed 7944 ( 99.95% ) in 0.45 seconds. BPR loss 2.43E+06. Sample per second: 17551\n",
      "MF_BPR: Epoch 196 of 220. Elapsed time 1.20 min\n",
      "MF_BPR: Processed 7944 ( 99.95% ) in 0.81 seconds. BPR loss 2.45E+06. Sample per second: 9857\n",
      "MF_BPR: Epoch 197 of 220. Elapsed time 1.20 min\n",
      "MF_BPR: Processed 7944 ( 99.95% ) in 1.15 seconds. BPR loss 2.42E+06. Sample per second: 6884\n",
      "MF_BPR: Epoch 198 of 220. Elapsed time 1.21 min\n",
      "MF_BPR: Processed 7944 ( 99.95% ) in 0.51 seconds. BPR loss 2.45E+06. Sample per second: 15662\n",
      "MF_BPR: Epoch 199 of 220. Elapsed time 1.21 min\n",
      "MF_BPR: Processed 7944 ( 99.95% ) in 0.87 seconds. BPR loss 2.43E+06. Sample per second: 9146\n",
      "MF_BPR: Epoch 200 of 220. Elapsed time 1.22 min\n",
      "MF_BPR: Processed 7944 ( 99.95% ) in 1.21 seconds. BPR loss 2.40E+06. Sample per second: 6562\n",
      "MF_BPR: Epoch 201 of 220. Elapsed time 1.23 min\n",
      "MF_BPR: Processed 7944 ( 99.95% ) in 0.56 seconds. BPR loss 2.45E+06. Sample per second: 14252\n",
      "MF_BPR: Epoch 202 of 220. Elapsed time 1.23 min\n",
      "MF_BPR: Processed 7944 ( 99.95% ) in 0.90 seconds. BPR loss 2.42E+06. Sample per second: 8809\n",
      "MF_BPR: Epoch 203 of 220. Elapsed time 1.24 min\n",
      "MF_BPR: Processed 7944 ( 99.95% ) in 1.25 seconds. BPR loss 2.41E+06. Sample per second: 6375\n",
      "MF_BPR: Epoch 204 of 220. Elapsed time 1.24 min\n",
      "MF_BPR: Processed 7944 ( 99.95% ) in 0.60 seconds. BPR loss 2.45E+06. Sample per second: 13324\n",
      "MF_BPR: Epoch 205 of 220. Elapsed time 1.25 min\n",
      "MF_BPR: Processed 7944 ( 99.95% ) in 0.94 seconds. BPR loss 2.43E+06. Sample per second: 8459\n",
      "MF_BPR: Epoch 206 of 220. Elapsed time 1.25 min\n",
      "MF_BPR: Processed 7944 ( 99.95% ) in 1.29 seconds. BPR loss 2.43E+06. Sample per second: 6179\n",
      "MF_BPR: Epoch 207 of 220. Elapsed time 1.26 min\n",
      "MF_BPR: Processed 7944 ( 99.95% ) in 0.64 seconds. BPR loss 2.45E+06. Sample per second: 12466\n",
      "MF_BPR: Epoch 208 of 220. Elapsed time 1.27 min\n",
      "MF_BPR: Processed 7944 ( 99.95% ) in 0.98 seconds. BPR loss 2.44E+06. Sample per second: 8094\n",
      "MF_BPR: Epoch 209 of 220. Elapsed time 1.27 min\n",
      "MF_BPR: Processed 7944 ( 99.95% ) in 1.33 seconds. BPR loss 2.45E+06. Sample per second: 5989\n",
      "MF_BPR: Epoch 210 of 220. Elapsed time 1.28 min\n",
      "MF_BPR: Processed 7944 ( 99.95% ) in 0.67 seconds. BPR loss 2.43E+06. Sample per second: 11839\n",
      "MF_BPR: Epoch 211 of 220. Elapsed time 1.28 min\n",
      "MF_BPR: Processed 7944 ( 99.95% ) in 1.02 seconds. BPR loss 2.41E+06. Sample per second: 7813\n",
      "MF_BPR: Epoch 212 of 220. Elapsed time 1.29 min\n",
      "MF_BPR: Processed 7944 ( 99.95% ) in 0.36 seconds. BPR loss 2.40E+06. Sample per second: 21913\n",
      "MF_BPR: Epoch 213 of 220. Elapsed time 1.29 min\n",
      "MF_BPR: Processed 7944 ( 99.95% ) in 0.71 seconds. BPR loss 2.45E+06. Sample per second: 11178\n",
      "MF_BPR: Epoch 214 of 220. Elapsed time 1.30 min\n",
      "MF_BPR: Processed 7944 ( 99.95% ) in 1.06 seconds. BPR loss 2.46E+06. Sample per second: 7519\n",
      "MF_BPR: Epoch 215 of 220. Elapsed time 1.31 min\n",
      "MF_BPR: Processed 7944 ( 99.95% ) in 0.40 seconds. BPR loss 2.37E+06. Sample per second: 19691\n",
      "MF_BPR: Epoch 216 of 220. Elapsed time 1.31 min\n",
      "MF_BPR: Processed 7944 ( 99.95% ) in 0.78 seconds. BPR loss 2.41E+06. Sample per second: 10228\n",
      "MF_BPR: Epoch 217 of 220. Elapsed time 1.32 min\n",
      "MF_BPR: Processed 7944 ( 99.95% ) in 1.13 seconds. BPR loss 2.40E+06. Sample per second: 7003\n",
      "MF_BPR: Epoch 218 of 220. Elapsed time 1.32 min\n",
      "MF_BPR: Processed 7944 ( 99.95% ) in 0.49 seconds. BPR loss 2.40E+06. Sample per second: 16223\n",
      "MF_BPR: Epoch 219 of 220. Elapsed time 1.33 min\n",
      "MF_BPR: Processed 7944 ( 99.95% ) in 0.83 seconds. BPR loss 2.37E+06. Sample per second: 9521\n",
      "MF_BPR: Epoch 220 of 220. Elapsed time 1.34 min\n",
      "MF_BPR: Terminating at epoch 220. Elapsed time 1.34 min\n"
     ]
    }
   ],
   "source": [
    "from MatrixFactorization.Cython.MatrixFactorization_Cython import MatrixFactorization_BPR_Cython,\\\n",
    "    MatrixFactorization_FunkSVD_Cython, MatrixFactorization_AsySVD_Cython\n",
    "\n",
    "recommender_mf = MatrixFactorization_BPR_Cython(URM_train)\n",
    "recommender_mf.fit(epochs = 220,\n",
    "                   batch_size = 4,\n",
    "                   num_factors=200,\n",
    "                   learning_rate = 0.1,\n",
    "                   sgd_mode='adam',\n",
    "                   positive_reg = 1e-5, negative_reg = 0.01)"
   ]
  },
  {
   "cell_type": "code",
   "execution_count": 223,
   "metadata": {},
   "outputs": [
    {
     "name": "stdout",
     "output_type": "stream",
     "text": [
      "EvaluatorHoldout: Processed 3 ( 100.00% ) in 0.01 sec. Users per second: 375\n",
      "EvaluatorHoldout: Processed 5 ( 100.00% ) in 0.01 sec. Users per second: 417\n",
      "EvaluatorHoldout: Processed 3 ( 100.00% ) in 0.01 sec. Users per second: 300\n",
      "EvaluatorHoldout: Processed 5 ( 100.00% ) in 0.01 sec. Users per second: 357\n",
      "EvaluatorHoldout: Processed 1 ( 100.00% ) in 0.01 sec. Users per second: 143\n",
      "EvaluatorHoldout: Processed 2 ( 100.00% ) in 0.01 sec. Users per second: 251\n",
      "EvaluatorHoldout: Processed 3 ( 100.00% ) in 0.01 sec. Users per second: 300\n",
      "EvaluatorHoldout: Processed 1 ( 100.00% ) in 0.01 sec. Users per second: 166\n",
      "EvaluatorHoldout: Processed 2 ( 100.00% ) in 0.01 sec. Users per second: 182\n"
     ]
    }
   ],
   "source": [
    "list_mf=compute_map_per_range(recommender_mf, URM_test, range_size=range_all)\n",
    "x_mf,y_mf,_ = frame_to_plot(list_mf)"
   ]
  },
  {
   "cell_type": "code",
   "execution_count": 60,
   "metadata": {},
   "outputs": [
    {
     "name": "stdout",
     "output_type": "stream",
     "text": [
      "PureSVDRecommender: URM Detected 42 (0.53 %) cold users.\n",
      "PureSVDRecommender: URM Detected 1971 (7.59 %) cold items.\n",
      "PureSVDRecommender: Computing SVD decomposition...\n",
      "PureSVDRecommender: Computing SVD decomposition... Done!\n"
     ]
    }
   ],
   "source": [
    "from MatrixFactorization.PureSVDRecommender import PureSVDRecommender\n",
    "\n",
    "recommender_pure = PureSVDRecommender(URM_train)\n",
    "recommender_pure.fit(num_factors = 350)"
   ]
  },
  {
   "cell_type": "code",
   "execution_count": 224,
   "metadata": {},
   "outputs": [
    {
     "name": "stdout",
     "output_type": "stream",
     "text": [
      "EvaluatorHoldout: Processed 3 ( 100.00% ) in 0.06 sec. Users per second: 54\n",
      "EvaluatorHoldout: Processed 5 ( 100.00% ) in 0.06 sec. Users per second: 83\n",
      "EvaluatorHoldout: Processed 3 ( 100.00% ) in 0.05 sec. Users per second: 58\n",
      "EvaluatorHoldout: Processed 5 ( 100.00% ) in 0.06 sec. Users per second: 87\n",
      "EvaluatorHoldout: Processed 1 ( 100.00% ) in 0.05 sec. Users per second: 18\n",
      "EvaluatorHoldout: Processed 2 ( 100.00% ) in 0.05 sec. Users per second: 37\n",
      "EvaluatorHoldout: Processed 3 ( 100.00% ) in 0.06 sec. Users per second: 52\n",
      "EvaluatorHoldout: Processed 1 ( 100.00% ) in 0.05 sec. Users per second: 21\n",
      "EvaluatorHoldout: Processed 2 ( 100.00% ) in 0.06 sec. Users per second: 36\n"
     ]
    }
   ],
   "source": [
    "list_pure=compute_map_per_range(recommender_pure, URM_test, range_size=range_all)\n",
    "x_pp,y_pp,_ = frame_to_plot(list_pure)"
   ]
  },
  {
   "cell_type": "code",
   "execution_count": 24,
   "metadata": {},
   "outputs": [
    {
     "name": "stdout",
     "output_type": "stream",
     "text": [
      "SLIM_BPR_Recommender: URM Detected 42 (0.53 %) cold users.\n",
      "SLIM_BPR_Recommender: URM Detected 1971 (7.59 %) cold items.\n",
      "Unable to read memory status: list index out of range\n",
      "SLIM_BPR_Recommender: Automatic selection of fastest train mode. Unable to get current RAM status, you may be using a non-Linux operating system. Using dense matrix.\n",
      "Processed 7947 ( 100.00% ) in 0.13 seconds. BPR loss is 5.64E-07. Sample per second: 59252\n",
      "SLIM_BPR_Recommender: Epoch 1 of 190. Elapsed time 0.03 sec\n",
      "Processed 7947 ( 100.00% ) in 0.18 seconds. BPR loss is 3.74E-06. Sample per second: 44990\n",
      "SLIM_BPR_Recommender: Epoch 2 of 190. Elapsed time 0.08 sec\n",
      "Processed 7947 ( 100.00% ) in 0.21 seconds. BPR loss is 7.26E-06. Sample per second: 38085\n",
      "SLIM_BPR_Recommender: Epoch 3 of 190. Elapsed time 0.11 sec\n",
      "Processed 7947 ( 100.00% ) in 0.24 seconds. BPR loss is 1.37E-05. Sample per second: 33303\n",
      "SLIM_BPR_Recommender: Epoch 4 of 190. Elapsed time 0.14 sec\n",
      "Processed 7947 ( 100.00% ) in 0.27 seconds. BPR loss is 1.78E-05. Sample per second: 29806\n",
      "SLIM_BPR_Recommender: Epoch 5 of 190. Elapsed time 0.17 sec\n",
      "Processed 7947 ( 100.00% ) in 0.29 seconds. BPR loss is 2.63E-05. Sample per second: 27251\n",
      "SLIM_BPR_Recommender: Epoch 6 of 190. Elapsed time 0.19 sec\n",
      "Processed 7947 ( 100.00% ) in 0.32 seconds. BPR loss is 3.43E-05. Sample per second: 25100\n",
      "SLIM_BPR_Recommender: Epoch 7 of 190. Elapsed time 0.22 sec\n",
      "Processed 7947 ( 100.00% ) in 0.34 seconds. BPR loss is 4.66E-05. Sample per second: 23263\n",
      "SLIM_BPR_Recommender: Epoch 8 of 190. Elapsed time 0.24 sec\n",
      "Processed 7947 ( 100.00% ) in 0.37 seconds. BPR loss is 4.82E-05. Sample per second: 21677\n",
      "SLIM_BPR_Recommender: Epoch 9 of 190. Elapsed time 0.27 sec\n",
      "Processed 7947 ( 100.00% ) in 0.39 seconds. BPR loss is 6.22E-05. Sample per second: 20345\n",
      "SLIM_BPR_Recommender: Epoch 10 of 190. Elapsed time 0.29 sec\n",
      "Processed 7947 ( 100.00% ) in 0.41 seconds. BPR loss is 8.04E-05. Sample per second: 19353\n",
      "SLIM_BPR_Recommender: Epoch 11 of 190. Elapsed time 0.31 sec\n",
      "Processed 7947 ( 100.00% ) in 0.43 seconds. BPR loss is 8.44E-05. Sample per second: 18456\n",
      "SLIM_BPR_Recommender: Epoch 12 of 190. Elapsed time 0.33 sec\n",
      "Processed 7947 ( 100.00% ) in 0.45 seconds. BPR loss is 1.01E-04. Sample per second: 17636\n",
      "SLIM_BPR_Recommender: Epoch 13 of 190. Elapsed time 0.35 sec\n",
      "Processed 7947 ( 100.00% ) in 0.47 seconds. BPR loss is 1.12E-04. Sample per second: 16887\n",
      "SLIM_BPR_Recommender: Epoch 14 of 190. Elapsed time 0.37 sec\n",
      "Processed 7947 ( 100.00% ) in 0.49 seconds. BPR loss is 1.39E-04. Sample per second: 16231\n",
      "SLIM_BPR_Recommender: Epoch 15 of 190. Elapsed time 0.39 sec\n",
      "Processed 7947 ( 100.00% ) in 0.51 seconds. BPR loss is 1.57E-04. Sample per second: 15624\n",
      "SLIM_BPR_Recommender: Epoch 16 of 190. Elapsed time 0.41 sec\n",
      "Processed 7947 ( 100.00% ) in 0.53 seconds. BPR loss is 1.57E-04. Sample per second: 15091\n",
      "SLIM_BPR_Recommender: Epoch 17 of 190. Elapsed time 0.43 sec\n",
      "Processed 7947 ( 100.00% ) in 0.54 seconds. BPR loss is 1.79E-04. Sample per second: 14618\n",
      "SLIM_BPR_Recommender: Epoch 18 of 190. Elapsed time 0.45 sec\n",
      "Processed 7947 ( 100.00% ) in 0.56 seconds. BPR loss is 2.01E-04. Sample per second: 14227\n",
      "SLIM_BPR_Recommender: Epoch 19 of 190. Elapsed time 0.46 sec\n",
      "Processed 7947 ( 100.00% ) in 0.58 seconds. BPR loss is 1.98E-04. Sample per second: 13807\n",
      "SLIM_BPR_Recommender: Epoch 20 of 190. Elapsed time 0.48 sec\n",
      "Processed 7947 ( 100.00% ) in 0.59 seconds. BPR loss is 2.12E-04. Sample per second: 13433\n",
      "SLIM_BPR_Recommender: Epoch 21 of 190. Elapsed time 0.49 sec\n",
      "Processed 7947 ( 100.00% ) in 0.61 seconds. BPR loss is 2.62E-04. Sample per second: 13080\n",
      "SLIM_BPR_Recommender: Epoch 22 of 190. Elapsed time 0.51 sec\n",
      "Processed 7947 ( 100.00% ) in 0.62 seconds. BPR loss is 2.68E-04. Sample per second: 12765\n",
      "SLIM_BPR_Recommender: Epoch 23 of 190. Elapsed time 0.52 sec\n",
      "Processed 7947 ( 100.00% ) in 0.64 seconds. BPR loss is 2.77E-04. Sample per second: 12445\n",
      "SLIM_BPR_Recommender: Epoch 24 of 190. Elapsed time 0.54 sec\n",
      "Processed 7947 ( 100.00% ) in 0.65 seconds. BPR loss is 2.97E-04. Sample per second: 12177\n",
      "SLIM_BPR_Recommender: Epoch 25 of 190. Elapsed time 0.55 sec\n",
      "Processed 7947 ( 100.00% ) in 0.67 seconds. BPR loss is 2.94E-04. Sample per second: 11904\n",
      "SLIM_BPR_Recommender: Epoch 26 of 190. Elapsed time 0.57 sec\n",
      "Processed 7947 ( 100.00% ) in 0.68 seconds. BPR loss is 3.37E-04. Sample per second: 11660\n",
      "SLIM_BPR_Recommender: Epoch 27 of 190. Elapsed time 0.58 sec\n",
      "Processed 7947 ( 100.00% ) in 0.69 seconds. BPR loss is 3.40E-04. Sample per second: 11441\n",
      "SLIM_BPR_Recommender: Epoch 28 of 190. Elapsed time 0.60 sec\n",
      "Processed 7947 ( 100.00% ) in 0.71 seconds. BPR loss is 3.64E-04. Sample per second: 11216\n",
      "SLIM_BPR_Recommender: Epoch 29 of 190. Elapsed time 0.61 sec\n",
      "Processed 7947 ( 100.00% ) in 0.72 seconds. BPR loss is 3.94E-04. Sample per second: 11014\n",
      "SLIM_BPR_Recommender: Epoch 30 of 190. Elapsed time 0.62 sec\n",
      "Processed 7947 ( 100.00% ) in 0.73 seconds. BPR loss is 4.34E-04. Sample per second: 10833\n",
      "SLIM_BPR_Recommender: Epoch 31 of 190. Elapsed time 0.64 sec\n",
      "Processed 7947 ( 100.00% ) in 0.75 seconds. BPR loss is 4.30E-04. Sample per second: 10645\n",
      "SLIM_BPR_Recommender: Epoch 32 of 190. Elapsed time 0.65 sec\n",
      "Processed 7947 ( 100.00% ) in 0.76 seconds. BPR loss is 5.93E-04. Sample per second: 10449\n",
      "SLIM_BPR_Recommender: Epoch 33 of 190. Elapsed time 0.66 sec\n",
      "Processed 7947 ( 100.00% ) in 0.77 seconds. BPR loss is 5.02E-04. Sample per second: 10273\n",
      "SLIM_BPR_Recommender: Epoch 34 of 190. Elapsed time 0.68 sec\n",
      "Processed 7947 ( 100.00% ) in 0.79 seconds. BPR loss is 5.20E-04. Sample per second: 10091\n",
      "SLIM_BPR_Recommender: Epoch 35 of 190. Elapsed time 0.69 sec\n",
      "Processed 7947 ( 100.00% ) in 0.80 seconds. BPR loss is 5.23E-04. Sample per second: 9927\n",
      "SLIM_BPR_Recommender: Epoch 36 of 190. Elapsed time 0.70 sec\n",
      "Processed 7947 ( 100.00% ) in 0.81 seconds. BPR loss is 5.57E-04. Sample per second: 9792\n",
      "SLIM_BPR_Recommender: Epoch 37 of 190. Elapsed time 0.71 sec\n",
      "Processed 7947 ( 100.00% ) in 0.82 seconds. BPR loss is 6.04E-04. Sample per second: 9650\n",
      "SLIM_BPR_Recommender: Epoch 38 of 190. Elapsed time 0.73 sec\n",
      "Processed 7947 ( 100.00% ) in 0.84 seconds. BPR loss is 5.98E-04. Sample per second: 9500\n",
      "SLIM_BPR_Recommender: Epoch 39 of 190. Elapsed time 0.74 sec\n",
      "Processed 7947 ( 100.00% ) in 0.85 seconds. BPR loss is 6.14E-04. Sample per second: 9354\n",
      "SLIM_BPR_Recommender: Epoch 40 of 190. Elapsed time 0.75 sec\n",
      "Processed 7947 ( 100.00% ) in 0.86 seconds. BPR loss is 6.07E-04. Sample per second: 9224\n",
      "SLIM_BPR_Recommender: Epoch 41 of 190. Elapsed time 0.76 sec\n",
      "Processed 7947 ( 100.00% ) in 0.87 seconds. BPR loss is 6.45E-04. Sample per second: 9097\n",
      "SLIM_BPR_Recommender: Epoch 42 of 190. Elapsed time 0.78 sec\n",
      "Processed 7947 ( 100.00% ) in 0.89 seconds. BPR loss is 7.16E-04. Sample per second: 8974\n",
      "SLIM_BPR_Recommender: Epoch 43 of 190. Elapsed time 0.79 sec\n",
      "Processed 7947 ( 100.00% ) in 0.90 seconds. BPR loss is 7.04E-04. Sample per second: 8854\n",
      "SLIM_BPR_Recommender: Epoch 44 of 190. Elapsed time 0.80 sec\n",
      "Processed 7947 ( 100.00% ) in 0.91 seconds. BPR loss is 7.33E-04. Sample per second: 8747\n",
      "SLIM_BPR_Recommender: Epoch 45 of 190. Elapsed time 0.81 sec\n",
      "Processed 7947 ( 100.00% ) in 0.92 seconds. BPR loss is 7.81E-04. Sample per second: 8633\n",
      "SLIM_BPR_Recommender: Epoch 46 of 190. Elapsed time 0.82 sec\n",
      "Processed 7947 ( 100.00% ) in 0.93 seconds. BPR loss is 8.25E-04. Sample per second: 8522\n",
      "SLIM_BPR_Recommender: Epoch 47 of 190. Elapsed time 0.83 sec\n",
      "Processed 7947 ( 100.00% ) in 0.94 seconds. BPR loss is 8.91E-04. Sample per second: 8414\n",
      "SLIM_BPR_Recommender: Epoch 48 of 190. Elapsed time 0.85 sec\n",
      "Processed 7947 ( 100.00% ) in 0.96 seconds. BPR loss is 8.33E-04. Sample per second: 8317\n",
      "SLIM_BPR_Recommender: Epoch 49 of 190. Elapsed time 0.86 sec\n",
      "Processed 7947 ( 100.00% ) in 0.97 seconds. BPR loss is 8.22E-04. Sample per second: 8214\n",
      "SLIM_BPR_Recommender: Epoch 50 of 190. Elapsed time 0.87 sec\n",
      "Processed 7947 ( 100.00% ) in 0.98 seconds. BPR loss is 9.17E-04. Sample per second: 8121\n",
      "SLIM_BPR_Recommender: Epoch 51 of 190. Elapsed time 0.88 sec\n",
      "Processed 7947 ( 100.00% ) in 0.99 seconds. BPR loss is 8.68E-04. Sample per second: 8031\n",
      "SLIM_BPR_Recommender: Epoch 52 of 190. Elapsed time 0.89 sec\n"
     ]
    },
    {
     "name": "stdout",
     "output_type": "stream",
     "text": [
      "Processed 7947 ( 100.00% ) in 1.00 seconds. BPR loss is 9.35E-04. Sample per second: 7943\n",
      "SLIM_BPR_Recommender: Epoch 53 of 190. Elapsed time 0.90 sec\n",
      "Processed 7947 ( 100.00% ) in 0.01 seconds. BPR loss is 9.67E-04. Sample per second: 745712\n",
      "SLIM_BPR_Recommender: Epoch 54 of 190. Elapsed time 0.91 sec\n",
      "Processed 7947 ( 100.00% ) in 0.02 seconds. BPR loss is 9.64E-04. Sample per second: 366979\n",
      "SLIM_BPR_Recommender: Epoch 55 of 190. Elapsed time 0.92 sec\n",
      "Processed 7947 ( 100.00% ) in 0.03 seconds. BPR loss is 9.59E-04. Sample per second: 243368\n",
      "SLIM_BPR_Recommender: Epoch 56 of 190. Elapsed time 0.93 sec\n",
      "Processed 7947 ( 100.00% ) in 0.04 seconds. BPR loss is 1.02E-03. Sample per second: 182052\n",
      "SLIM_BPR_Recommender: Epoch 57 of 190. Elapsed time 0.95 sec\n",
      "Processed 7947 ( 100.00% ) in 0.05 seconds. BPR loss is 1.12E-03. Sample per second: 145415\n",
      "SLIM_BPR_Recommender: Epoch 58 of 190. Elapsed time 0.96 sec\n",
      "Processed 7947 ( 100.00% ) in 0.06 seconds. BPR loss is 1.09E-03. Sample per second: 122923\n",
      "SLIM_BPR_Recommender: Epoch 59 of 190. Elapsed time 0.97 sec\n",
      "Processed 7947 ( 100.00% ) in 0.07 seconds. BPR loss is 1.14E-03. Sample per second: 106461\n",
      "SLIM_BPR_Recommender: Epoch 60 of 190. Elapsed time 0.98 sec\n",
      "Processed 7947 ( 100.00% ) in 0.08 seconds. BPR loss is 1.08E-03. Sample per second: 93883\n",
      "SLIM_BPR_Recommender: Epoch 61 of 190. Elapsed time 0.99 sec\n",
      "Processed 7947 ( 100.00% ) in 0.09 seconds. BPR loss is 1.19E-03. Sample per second: 85699\n",
      "SLIM_BPR_Recommender: Epoch 62 of 190. Elapsed time 0.99 sec\n",
      "Processed 7947 ( 100.00% ) in 0.11 seconds. BPR loss is 1.21E-03. Sample per second: 75457\n",
      "SLIM_BPR_Recommender: Epoch 63 of 190. Elapsed time 1.01 sec\n",
      "Processed 7947 ( 100.00% ) in 0.11 seconds. BPR loss is 1.22E-03. Sample per second: 69546\n",
      "SLIM_BPR_Recommender: Epoch 64 of 190. Elapsed time 1.02 sec\n",
      "Processed 7947 ( 100.00% ) in 0.12 seconds. BPR loss is 1.24E-03. Sample per second: 63925\n",
      "SLIM_BPR_Recommender: Epoch 65 of 190. Elapsed time 1.03 sec\n",
      "Processed 7947 ( 100.00% ) in 0.13 seconds. BPR loss is 1.26E-03. Sample per second: 59021\n",
      "SLIM_BPR_Recommender: Epoch 66 of 190. Elapsed time 1.04 sec\n",
      "Processed 7947 ( 100.00% ) in 0.14 seconds. BPR loss is 1.36E-03. Sample per second: 55306\n",
      "SLIM_BPR_Recommender: Epoch 67 of 190. Elapsed time 1.05 sec\n",
      "Processed 7947 ( 100.00% ) in 0.15 seconds. BPR loss is 1.35E-03. Sample per second: 51708\n",
      "SLIM_BPR_Recommender: Epoch 68 of 190. Elapsed time 1.06 sec\n",
      "Processed 7947 ( 100.00% ) in 0.16 seconds. BPR loss is 1.47E-03. Sample per second: 48549\n",
      "SLIM_BPR_Recommender: Epoch 69 of 190. Elapsed time 1.07 sec\n",
      "Processed 7947 ( 100.00% ) in 0.17 seconds. BPR loss is 1.43E-03. Sample per second: 46019\n",
      "SLIM_BPR_Recommender: Epoch 70 of 190. Elapsed time 1.08 sec\n",
      "Processed 7947 ( 100.00% ) in 0.18 seconds. BPR loss is 1.44E-03. Sample per second: 43282\n",
      "SLIM_BPR_Recommender: Epoch 71 of 190. Elapsed time 1.09 sec\n",
      "Processed 7947 ( 100.00% ) in 0.19 seconds. BPR loss is 1.48E-03. Sample per second: 41447\n",
      "SLIM_BPR_Recommender: Epoch 72 of 190. Elapsed time 1.09 sec\n",
      "Processed 7947 ( 100.00% ) in 0.20 seconds. BPR loss is 1.46E-03. Sample per second: 39180\n",
      "SLIM_BPR_Recommender: Epoch 73 of 190. Elapsed time 1.10 sec\n",
      "Processed 7947 ( 100.00% ) in 0.21 seconds. BPR loss is 1.62E-03. Sample per second: 37515\n",
      "SLIM_BPR_Recommender: Epoch 74 of 190. Elapsed time 1.11 sec\n",
      "Processed 7947 ( 100.00% ) in 0.22 seconds. BPR loss is 1.56E-03. Sample per second: 35804\n",
      "SLIM_BPR_Recommender: Epoch 75 of 190. Elapsed time 1.12 sec\n",
      "Processed 7947 ( 100.00% ) in 0.23 seconds. BPR loss is 1.61E-03. Sample per second: 34268\n",
      "SLIM_BPR_Recommender: Epoch 76 of 190. Elapsed time 1.13 sec\n",
      "Processed 7947 ( 100.00% ) in 0.24 seconds. BPR loss is 1.64E-03. Sample per second: 32845\n",
      "SLIM_BPR_Recommender: Epoch 77 of 190. Elapsed time 1.14 sec\n",
      "Processed 7947 ( 100.00% ) in 0.26 seconds. BPR loss is 1.67E-03. Sample per second: 30881\n",
      "SLIM_BPR_Recommender: Epoch 78 of 190. Elapsed time 1.16 sec\n",
      "Processed 7947 ( 100.00% ) in 0.27 seconds. BPR loss is 1.65E-03. Sample per second: 29658\n",
      "SLIM_BPR_Recommender: Epoch 79 of 190. Elapsed time 1.17 sec\n",
      "Processed 7947 ( 100.00% ) in 0.28 seconds. BPR loss is 1.65E-03. Sample per second: 28783\n",
      "SLIM_BPR_Recommender: Epoch 80 of 190. Elapsed time 1.18 sec\n",
      "Processed 7947 ( 100.00% ) in 0.29 seconds. BPR loss is 1.74E-03. Sample per second: 27631\n",
      "SLIM_BPR_Recommender: Epoch 81 of 190. Elapsed time 1.19 sec\n",
      "Processed 7947 ( 100.00% ) in 0.30 seconds. BPR loss is 1.80E-03. Sample per second: 26737\n",
      "SLIM_BPR_Recommender: Epoch 82 of 190. Elapsed time 1.20 sec\n",
      "Processed 7947 ( 100.00% ) in 0.31 seconds. BPR loss is 1.86E-03. Sample per second: 25683\n",
      "SLIM_BPR_Recommender: Epoch 83 of 190. Elapsed time 1.21 sec\n",
      "Processed 7947 ( 100.00% ) in 0.32 seconds. BPR loss is 1.87E-03. Sample per second: 24790\n",
      "SLIM_BPR_Recommender: Epoch 84 of 190. Elapsed time 1.22 sec\n",
      "Processed 7947 ( 100.00% ) in 0.34 seconds. BPR loss is 1.85E-03. Sample per second: 23685\n",
      "SLIM_BPR_Recommender: Epoch 85 of 190. Elapsed time 1.24 sec\n",
      "Processed 7947 ( 100.00% ) in 0.34 seconds. BPR loss is 1.87E-03. Sample per second: 23066\n",
      "SLIM_BPR_Recommender: Epoch 86 of 190. Elapsed time 1.25 sec\n",
      "Processed 7947 ( 100.00% ) in 0.36 seconds. BPR loss is 1.93E-03. Sample per second: 22290\n",
      "SLIM_BPR_Recommender: Epoch 87 of 190. Elapsed time 1.26 sec\n",
      "Processed 7947 ( 100.00% ) in 0.37 seconds. BPR loss is 2.04E-03. Sample per second: 21620\n",
      "SLIM_BPR_Recommender: Epoch 88 of 190. Elapsed time 1.27 sec\n",
      "Processed 7947 ( 100.00% ) in 0.38 seconds. BPR loss is 1.98E-03. Sample per second: 21050\n",
      "SLIM_BPR_Recommender: Epoch 89 of 190. Elapsed time 1.28 sec\n",
      "Processed 7947 ( 100.00% ) in 0.39 seconds. BPR loss is 2.04E-03. Sample per second: 20454\n",
      "SLIM_BPR_Recommender: Epoch 90 of 190. Elapsed time 1.29 sec\n",
      "Processed 7947 ( 100.00% ) in 0.40 seconds. BPR loss is 2.04E-03. Sample per second: 19842\n",
      "SLIM_BPR_Recommender: Epoch 91 of 190. Elapsed time 1.30 sec\n",
      "Processed 7947 ( 100.00% ) in 0.41 seconds. BPR loss is 1.99E-03. Sample per second: 19356\n",
      "SLIM_BPR_Recommender: Epoch 92 of 190. Elapsed time 1.31 sec\n",
      "Processed 7947 ( 100.00% ) in 0.42 seconds. BPR loss is 2.07E-03. Sample per second: 18851\n",
      "SLIM_BPR_Recommender: Epoch 93 of 190. Elapsed time 1.32 sec\n",
      "Processed 7947 ( 100.00% ) in 0.43 seconds. BPR loss is 2.15E-03. Sample per second: 18412\n",
      "SLIM_BPR_Recommender: Epoch 94 of 190. Elapsed time 1.33 sec\n",
      "Processed 7947 ( 100.00% ) in 0.44 seconds. BPR loss is 2.75E-03. Sample per second: 17989\n",
      "SLIM_BPR_Recommender: Epoch 95 of 190. Elapsed time 1.34 sec\n",
      "Processed 7947 ( 100.00% ) in 0.45 seconds. BPR loss is 2.19E-03. Sample per second: 17575\n",
      "SLIM_BPR_Recommender: Epoch 96 of 190. Elapsed time 1.35 sec\n",
      "Processed 7947 ( 100.00% ) in 0.46 seconds. BPR loss is 2.26E-03. Sample per second: 17156\n",
      "SLIM_BPR_Recommender: Epoch 97 of 190. Elapsed time 1.37 sec\n",
      "Processed 7947 ( 100.00% ) in 0.47 seconds. BPR loss is 2.31E-03. Sample per second: 16758\n",
      "SLIM_BPR_Recommender: Epoch 98 of 190. Elapsed time 1.38 sec\n",
      "Processed 7947 ( 100.00% ) in 0.48 seconds. BPR loss is 2.46E-03. Sample per second: 16400\n",
      "SLIM_BPR_Recommender: Epoch 99 of 190. Elapsed time 1.39 sec\n",
      "Processed 7947 ( 100.00% ) in 0.49 seconds. BPR loss is 2.35E-03. Sample per second: 16162\n",
      "SLIM_BPR_Recommender: Epoch 100 of 190. Elapsed time 1.39 sec\n",
      "Processed 7947 ( 100.00% ) in 0.51 seconds. BPR loss is 2.34E-03. Sample per second: 15731\n",
      "SLIM_BPR_Recommender: Epoch 101 of 190. Elapsed time 1.41 sec\n",
      "Processed 7947 ( 100.00% ) in 0.51 seconds. BPR loss is 2.51E-03. Sample per second: 15457\n",
      "SLIM_BPR_Recommender: Epoch 102 of 190. Elapsed time 1.42 sec\n",
      "Processed 7947 ( 100.00% ) in 0.52 seconds. BPR loss is 2.41E-03. Sample per second: 15162\n",
      "SLIM_BPR_Recommender: Epoch 103 of 190. Elapsed time 1.43 sec\n",
      "Processed 7947 ( 100.00% ) in 0.53 seconds. BPR loss is 2.44E-03. Sample per second: 14877\n",
      "SLIM_BPR_Recommender: Epoch 104 of 190. Elapsed time 1.44 sec\n",
      "Processed 7947 ( 100.00% ) in 0.54 seconds. BPR loss is 2.40E-03. Sample per second: 14629\n",
      "SLIM_BPR_Recommender: Epoch 105 of 190. Elapsed time 1.44 sec\n",
      "Processed 7947 ( 100.00% ) in 0.55 seconds. BPR loss is 2.48E-03. Sample per second: 14368\n",
      "SLIM_BPR_Recommender: Epoch 106 of 190. Elapsed time 1.45 sec\n"
     ]
    },
    {
     "name": "stdout",
     "output_type": "stream",
     "text": [
      "Processed 7947 ( 100.00% ) in 0.56 seconds. BPR loss is 2.59E-03. Sample per second: 14138\n",
      "SLIM_BPR_Recommender: Epoch 107 of 190. Elapsed time 1.46 sec\n",
      "Processed 7947 ( 100.00% ) in 0.57 seconds. BPR loss is 2.71E-03. Sample per second: 13890\n",
      "SLIM_BPR_Recommender: Epoch 108 of 190. Elapsed time 1.47 sec\n",
      "Processed 7947 ( 100.00% ) in 0.58 seconds. BPR loss is 2.71E-03. Sample per second: 13676\n",
      "SLIM_BPR_Recommender: Epoch 109 of 190. Elapsed time 1.49 sec\n",
      "Processed 7947 ( 100.00% ) in 0.60 seconds. BPR loss is 2.64E-03. Sample per second: 13198\n",
      "SLIM_BPR_Recommender: Epoch 110 of 190. Elapsed time 1.50 sec\n",
      "Processed 7947 ( 100.00% ) in 0.61 seconds. BPR loss is 2.59E-03. Sample per second: 13004\n",
      "SLIM_BPR_Recommender: Epoch 111 of 190. Elapsed time 1.51 sec\n",
      "Processed 7947 ( 100.00% ) in 0.62 seconds. BPR loss is 2.62E-03. Sample per second: 12795\n",
      "SLIM_BPR_Recommender: Epoch 112 of 190. Elapsed time 1.52 sec\n",
      "Processed 7947 ( 100.00% ) in 0.63 seconds. BPR loss is 2.77E-03. Sample per second: 12612\n",
      "SLIM_BPR_Recommender: Epoch 113 of 190. Elapsed time 1.53 sec\n",
      "Processed 7947 ( 100.00% ) in 0.64 seconds. BPR loss is 2.77E-03. Sample per second: 12414\n",
      "SLIM_BPR_Recommender: Epoch 114 of 190. Elapsed time 1.54 sec\n",
      "Processed 7947 ( 100.00% ) in 0.65 seconds. BPR loss is 2.72E-03. Sample per second: 12243\n",
      "SLIM_BPR_Recommender: Epoch 115 of 190. Elapsed time 1.55 sec\n",
      "Processed 7947 ( 100.00% ) in 0.66 seconds. BPR loss is 2.87E-03. Sample per second: 12057\n",
      "SLIM_BPR_Recommender: Epoch 116 of 190. Elapsed time 1.56 sec\n",
      "Processed 7947 ( 100.00% ) in 0.67 seconds. BPR loss is 2.75E-03. Sample per second: 11895\n",
      "SLIM_BPR_Recommender: Epoch 117 of 190. Elapsed time 1.57 sec\n",
      "Processed 7947 ( 100.00% ) in 0.68 seconds. BPR loss is 2.97E-03. Sample per second: 11737\n",
      "SLIM_BPR_Recommender: Epoch 118 of 190. Elapsed time 1.58 sec\n",
      "Processed 7947 ( 100.00% ) in 0.69 seconds. BPR loss is 2.86E-03. Sample per second: 11565\n",
      "SLIM_BPR_Recommender: Epoch 119 of 190. Elapsed time 1.59 sec\n",
      "Processed 7947 ( 100.00% ) in 0.70 seconds. BPR loss is 2.98E-03. Sample per second: 11417\n",
      "SLIM_BPR_Recommender: Epoch 120 of 190. Elapsed time 1.60 sec\n",
      "Processed 7947 ( 100.00% ) in 0.71 seconds. BPR loss is 2.97E-03. Sample per second: 11254\n",
      "SLIM_BPR_Recommender: Epoch 121 of 190. Elapsed time 1.61 sec\n",
      "Processed 7947 ( 100.00% ) in 0.72 seconds. BPR loss is 2.99E-03. Sample per second: 11097\n",
      "SLIM_BPR_Recommender: Epoch 122 of 190. Elapsed time 1.62 sec\n",
      "Processed 7947 ( 100.00% ) in 0.73 seconds. BPR loss is 3.12E-03. Sample per second: 10959\n",
      "SLIM_BPR_Recommender: Epoch 123 of 190. Elapsed time 1.63 sec\n",
      "Processed 7947 ( 100.00% ) in 0.74 seconds. BPR loss is 3.12E-03. Sample per second: 10810\n",
      "SLIM_BPR_Recommender: Epoch 124 of 190. Elapsed time 1.64 sec\n",
      "Processed 7947 ( 100.00% ) in 0.74 seconds. BPR loss is 3.20E-03. Sample per second: 10680\n",
      "SLIM_BPR_Recommender: Epoch 125 of 190. Elapsed time 1.65 sec\n",
      "Processed 7947 ( 100.00% ) in 0.75 seconds. BPR loss is 3.16E-03. Sample per second: 10538\n",
      "SLIM_BPR_Recommender: Epoch 126 of 190. Elapsed time 1.66 sec\n",
      "Processed 7947 ( 100.00% ) in 0.76 seconds. BPR loss is 3.17E-03. Sample per second: 10480\n",
      "SLIM_BPR_Recommender: Epoch 127 of 190. Elapsed time 1.66 sec\n",
      "Processed 7947 ( 100.00% ) in 0.77 seconds. BPR loss is 3.25E-03. Sample per second: 10270\n",
      "SLIM_BPR_Recommender: Epoch 128 of 190. Elapsed time 1.68 sec\n",
      "Processed 7947 ( 100.00% ) in 0.78 seconds. BPR loss is 3.23E-03. Sample per second: 10143\n",
      "SLIM_BPR_Recommender: Epoch 129 of 190. Elapsed time 1.69 sec\n",
      "Processed 7947 ( 100.00% ) in 0.79 seconds. BPR loss is 3.27E-03. Sample per second: 10039\n",
      "SLIM_BPR_Recommender: Epoch 130 of 190. Elapsed time 1.69 sec\n",
      "Processed 7947 ( 100.00% ) in 0.80 seconds. BPR loss is 3.34E-03. Sample per second: 9884\n",
      "SLIM_BPR_Recommender: Epoch 131 of 190. Elapsed time 1.71 sec\n",
      "Processed 7947 ( 100.00% ) in 0.81 seconds. BPR loss is 3.24E-03. Sample per second: 9821\n",
      "SLIM_BPR_Recommender: Epoch 132 of 190. Elapsed time 1.72 sec\n",
      "Processed 7947 ( 100.00% ) in 0.82 seconds. BPR loss is 3.40E-03. Sample per second: 9635\n",
      "SLIM_BPR_Recommender: Epoch 133 of 190. Elapsed time 1.73 sec\n",
      "Processed 7947 ( 100.00% ) in 0.84 seconds. BPR loss is 3.45E-03. Sample per second: 9512\n",
      "SLIM_BPR_Recommender: Epoch 134 of 190. Elapsed time 1.74 sec\n",
      "Processed 7947 ( 100.00% ) in 0.84 seconds. BPR loss is 3.67E-03. Sample per second: 9443\n",
      "SLIM_BPR_Recommender: Epoch 135 of 190. Elapsed time 1.75 sec\n",
      "Processed 7947 ( 100.00% ) in 0.86 seconds. BPR loss is 3.45E-03. Sample per second: 9282\n",
      "SLIM_BPR_Recommender: Epoch 136 of 190. Elapsed time 1.76 sec\n",
      "Processed 7947 ( 100.00% ) in 0.87 seconds. BPR loss is 3.49E-03. Sample per second: 9168\n",
      "SLIM_BPR_Recommender: Epoch 137 of 190. Elapsed time 1.77 sec\n",
      "Processed 7947 ( 100.00% ) in 0.88 seconds. BPR loss is 3.66E-03. Sample per second: 9083\n",
      "SLIM_BPR_Recommender: Epoch 138 of 190. Elapsed time 1.78 sec\n",
      "Processed 7947 ( 100.00% ) in 0.89 seconds. BPR loss is 3.73E-03. Sample per second: 8945\n",
      "SLIM_BPR_Recommender: Epoch 139 of 190. Elapsed time 1.79 sec\n",
      "Processed 7947 ( 100.00% ) in 0.90 seconds. BPR loss is 3.69E-03. Sample per second: 8849\n",
      "SLIM_BPR_Recommender: Epoch 140 of 190. Elapsed time 1.80 sec\n",
      "Processed 7947 ( 100.00% ) in 0.91 seconds. BPR loss is 3.59E-03. Sample per second: 8750\n",
      "SLIM_BPR_Recommender: Epoch 141 of 190. Elapsed time 1.81 sec\n",
      "Processed 7947 ( 100.00% ) in 0.92 seconds. BPR loss is 3.67E-03. Sample per second: 8640\n",
      "SLIM_BPR_Recommender: Epoch 142 of 190. Elapsed time 1.82 sec\n",
      "Processed 7947 ( 100.00% ) in 0.93 seconds. BPR loss is 3.64E-03. Sample per second: 8592\n",
      "SLIM_BPR_Recommender: Epoch 143 of 190. Elapsed time 1.83 sec\n",
      "Processed 7947 ( 100.00% ) in 0.94 seconds. BPR loss is 3.73E-03. Sample per second: 8459\n",
      "SLIM_BPR_Recommender: Epoch 144 of 190. Elapsed time 1.84 sec\n",
      "Processed 7947 ( 100.00% ) in 0.95 seconds. BPR loss is 3.74E-03. Sample per second: 8364\n",
      "SLIM_BPR_Recommender: Epoch 145 of 190. Elapsed time 1.85 sec\n",
      "Processed 7947 ( 100.00% ) in 0.96 seconds. BPR loss is 3.79E-03. Sample per second: 8284\n",
      "SLIM_BPR_Recommender: Epoch 146 of 190. Elapsed time 1.86 sec\n",
      "Processed 7947 ( 100.00% ) in 0.97 seconds. BPR loss is 4.00E-03. Sample per second: 8198\n",
      "SLIM_BPR_Recommender: Epoch 147 of 190. Elapsed time 1.87 sec\n",
      "Processed 7947 ( 100.00% ) in 0.98 seconds. BPR loss is 3.71E-03. Sample per second: 8147\n",
      "SLIM_BPR_Recommender: Epoch 148 of 190. Elapsed time 1.88 sec\n",
      "Processed 7947 ( 100.00% ) in 0.99 seconds. BPR loss is 3.88E-03. Sample per second: 8032\n",
      "SLIM_BPR_Recommender: Epoch 149 of 190. Elapsed time 1.89 sec\n",
      "Processed 7947 ( 100.00% ) in 1.00 seconds. BPR loss is 3.89E-03. Sample per second: 7957\n",
      "SLIM_BPR_Recommender: Epoch 150 of 190. Elapsed time 1.90 sec\n",
      "Processed 7947 ( 100.00% ) in 0.01 seconds. BPR loss is 4.05E-03. Sample per second: 889538\n",
      "SLIM_BPR_Recommender: Epoch 151 of 190. Elapsed time 1.91 sec\n",
      "Processed 7947 ( 100.00% ) in 0.02 seconds. BPR loss is 3.95E-03. Sample per second: 443833\n",
      "SLIM_BPR_Recommender: Epoch 152 of 190. Elapsed time 1.92 sec\n",
      "Processed 7947 ( 100.00% ) in 0.03 seconds. BPR loss is 4.04E-03. Sample per second: 317589\n",
      "SLIM_BPR_Recommender: Epoch 153 of 190. Elapsed time 1.93 sec\n",
      "Processed 7947 ( 100.00% ) in 0.04 seconds. BPR loss is 4.10E-03. Sample per second: 217711\n",
      "SLIM_BPR_Recommender: Epoch 154 of 190. Elapsed time 1.94 sec\n",
      "Processed 7947 ( 100.00% ) in 0.04 seconds. BPR loss is 4.10E-03. Sample per second: 186478\n",
      "SLIM_BPR_Recommender: Epoch 155 of 190. Elapsed time 1.94 sec\n",
      "Processed 7947 ( 100.00% ) in 0.05 seconds. BPR loss is 4.20E-03. Sample per second: 146837\n",
      "SLIM_BPR_Recommender: Epoch 156 of 190. Elapsed time 1.96 sec\n",
      "Processed 7947 ( 100.00% ) in 0.06 seconds. BPR loss is 4.18E-03. Sample per second: 125796\n",
      "SLIM_BPR_Recommender: Epoch 157 of 190. Elapsed time 1.96 sec\n",
      "Processed 7947 ( 100.00% ) in 0.07 seconds. BPR loss is 4.08E-03. Sample per second: 110119\n",
      "SLIM_BPR_Recommender: Epoch 158 of 190. Elapsed time 1.97 sec\n",
      "Processed 7947 ( 100.00% ) in 0.08 seconds. BPR loss is 4.21E-03. Sample per second: 96776\n",
      "SLIM_BPR_Recommender: Epoch 159 of 190. Elapsed time 1.98 sec\n",
      "Processed 7947 ( 100.00% ) in 0.09 seconds. BPR loss is 4.25E-03. Sample per second: 87221\n",
      "SLIM_BPR_Recommender: Epoch 160 of 190. Elapsed time 1.99 sec\n"
     ]
    },
    {
     "name": "stdout",
     "output_type": "stream",
     "text": [
      "Processed 7947 ( 100.00% ) in 0.10 seconds. BPR loss is 4.57E-03. Sample per second: 78568\n",
      "SLIM_BPR_Recommender: Epoch 161 of 190. Elapsed time 2.00 sec\n",
      "Processed 7947 ( 100.00% ) in 0.11 seconds. BPR loss is 4.47E-03. Sample per second: 73399\n",
      "SLIM_BPR_Recommender: Epoch 162 of 190. Elapsed time 2.01 sec\n",
      "Processed 7947 ( 100.00% ) in 0.12 seconds. BPR loss is 4.31E-03. Sample per second: 66393\n",
      "SLIM_BPR_Recommender: Epoch 163 of 190. Elapsed time 2.02 sec\n",
      "Processed 7947 ( 100.00% ) in 0.13 seconds. BPR loss is 4.36E-03. Sample per second: 62688\n",
      "SLIM_BPR_Recommender: Epoch 164 of 190. Elapsed time 2.03 sec\n",
      "Processed 7947 ( 100.00% ) in 0.14 seconds. BPR loss is 4.63E-03. Sample per second: 56956\n",
      "SLIM_BPR_Recommender: Epoch 165 of 190. Elapsed time 2.04 sec\n",
      "Processed 7947 ( 100.00% ) in 0.15 seconds. BPR loss is 4.46E-03. Sample per second: 52908\n",
      "SLIM_BPR_Recommender: Epoch 166 of 190. Elapsed time 2.05 sec\n",
      "Processed 7947 ( 100.00% ) in 0.16 seconds. BPR loss is 4.55E-03. Sample per second: 50188\n",
      "SLIM_BPR_Recommender: Epoch 167 of 190. Elapsed time 2.06 sec\n",
      "Processed 7947 ( 100.00% ) in 0.17 seconds. BPR loss is 4.67E-03. Sample per second: 46511\n",
      "SLIM_BPR_Recommender: Epoch 168 of 190. Elapsed time 2.07 sec\n",
      "Processed 7947 ( 100.00% ) in 0.18 seconds. BPR loss is 4.59E-03. Sample per second: 43783\n",
      "SLIM_BPR_Recommender: Epoch 169 of 190. Elapsed time 2.08 sec\n",
      "Processed 7947 ( 100.00% ) in 0.19 seconds. BPR loss is 4.42E-03. Sample per second: 41498\n",
      "SLIM_BPR_Recommender: Epoch 170 of 190. Elapsed time 2.09 sec\n",
      "Processed 7947 ( 100.00% ) in 0.20 seconds. BPR loss is 4.80E-03. Sample per second: 39113\n",
      "SLIM_BPR_Recommender: Epoch 171 of 190. Elapsed time 2.10 sec\n",
      "Processed 7947 ( 100.00% ) in 0.21 seconds. BPR loss is 4.79E-03. Sample per second: 38143\n",
      "SLIM_BPR_Recommender: Epoch 172 of 190. Elapsed time 2.11 sec\n",
      "Processed 7947 ( 100.00% ) in 0.22 seconds. BPR loss is 4.66E-03. Sample per second: 35499\n",
      "SLIM_BPR_Recommender: Epoch 173 of 190. Elapsed time 2.13 sec\n",
      "Processed 7947 ( 100.00% ) in 0.23 seconds. BPR loss is 4.74E-03. Sample per second: 34036\n",
      "SLIM_BPR_Recommender: Epoch 174 of 190. Elapsed time 2.14 sec\n",
      "Processed 7947 ( 100.00% ) in 0.24 seconds. BPR loss is 5.03E-03. Sample per second: 32886\n",
      "SLIM_BPR_Recommender: Epoch 175 of 190. Elapsed time 2.14 sec\n",
      "Processed 7947 ( 100.00% ) in 0.25 seconds. BPR loss is 4.77E-03. Sample per second: 31263\n",
      "SLIM_BPR_Recommender: Epoch 176 of 190. Elapsed time 2.16 sec\n",
      "Processed 7947 ( 100.00% ) in 0.26 seconds. BPR loss is 4.80E-03. Sample per second: 30123\n",
      "SLIM_BPR_Recommender: Epoch 177 of 190. Elapsed time 2.17 sec\n",
      "Processed 7947 ( 100.00% ) in 0.27 seconds. BPR loss is 5.04E-03. Sample per second: 29023\n",
      "SLIM_BPR_Recommender: Epoch 178 of 190. Elapsed time 2.18 sec\n",
      "Processed 7947 ( 100.00% ) in 0.28 seconds. BPR loss is 5.11E-03. Sample per second: 27997\n",
      "SLIM_BPR_Recommender: Epoch 179 of 190. Elapsed time 2.19 sec\n",
      "Processed 7947 ( 100.00% ) in 0.29 seconds. BPR loss is 5.10E-03. Sample per second: 27219\n",
      "SLIM_BPR_Recommender: Epoch 180 of 190. Elapsed time 2.19 sec\n",
      "Processed 7947 ( 100.00% ) in 0.30 seconds. BPR loss is 5.02E-03. Sample per second: 26221\n",
      "SLIM_BPR_Recommender: Epoch 181 of 190. Elapsed time 2.20 sec\n",
      "Processed 7947 ( 100.00% ) in 0.31 seconds. BPR loss is 5.08E-03. Sample per second: 25380\n",
      "SLIM_BPR_Recommender: Epoch 182 of 190. Elapsed time 2.21 sec\n",
      "Processed 7947 ( 100.00% ) in 0.32 seconds. BPR loss is 5.18E-03. Sample per second: 24670\n",
      "SLIM_BPR_Recommender: Epoch 183 of 190. Elapsed time 2.22 sec\n",
      "Processed 7947 ( 100.00% ) in 0.33 seconds. BPR loss is 5.01E-03. Sample per second: 23931\n",
      "SLIM_BPR_Recommender: Epoch 184 of 190. Elapsed time 2.23 sec\n",
      "Processed 7947 ( 100.00% ) in 0.34 seconds. BPR loss is 5.29E-03. Sample per second: 23229\n",
      "SLIM_BPR_Recommender: Epoch 185 of 190. Elapsed time 2.24 sec\n",
      "Processed 7947 ( 100.00% ) in 0.35 seconds. BPR loss is 5.05E-03. Sample per second: 22634\n",
      "SLIM_BPR_Recommender: Epoch 186 of 190. Elapsed time 2.25 sec\n",
      "Processed 7947 ( 100.00% ) in 0.36 seconds. BPR loss is 5.31E-03. Sample per second: 22182\n",
      "SLIM_BPR_Recommender: Epoch 187 of 190. Elapsed time 2.26 sec\n",
      "Processed 7947 ( 100.00% ) in 0.37 seconds. BPR loss is 5.22E-03. Sample per second: 21431\n",
      "SLIM_BPR_Recommender: Epoch 188 of 190. Elapsed time 2.27 sec\n",
      "Processed 7947 ( 100.00% ) in 0.38 seconds. BPR loss is 5.21E-03. Sample per second: 21194\n",
      "SLIM_BPR_Recommender: Epoch 189 of 190. Elapsed time 2.28 sec\n",
      "Processed 7947 ( 100.00% ) in 0.39 seconds. BPR loss is 5.40E-03. Sample per second: 20404\n",
      "SLIM_BPR_Recommender: Epoch 190 of 190. Elapsed time 2.29 sec\n",
      "SLIM_BPR_Recommender: Terminating at epoch 190. Elapsed time 23.41 sec\n",
      "Deallocating Cython objects\n"
     ]
    }
   ],
   "source": [
    "from SLIM_BPR.Cython.SLIM_BPR_Cython import SLIM_BPR_Cython\n",
    "SlimBPR = SLIM_BPR_Cython(URM_train)\n",
    "SlimBPR.fit(topK= 860, epochs= 190, symmetric= False, sgd_mode= 'adam', lambda_i= 0.01, lambda_j= 1e-05, learning_rate= 0.0001)"
   ]
  },
  {
   "cell_type": "code",
   "execution_count": 225,
   "metadata": {},
   "outputs": [
    {
     "name": "stdout",
     "output_type": "stream",
     "text": [
      "EvaluatorHoldout: Processed 3 ( 100.00% ) in 0.01 sec. Users per second: 375\n",
      "EvaluatorHoldout: Processed 5 ( 100.00% ) in 0.01 sec. Users per second: 415\n",
      "EvaluatorHoldout: Processed 3 ( 100.00% ) in 0.01 sec. Users per second: 332\n",
      "EvaluatorHoldout: Processed 5 ( 100.00% ) in 0.01 sec. Users per second: 415\n",
      "EvaluatorHoldout: Processed 1 ( 100.00% ) in 0.01 sec. Users per second: 143\n",
      "EvaluatorHoldout: Processed 2 ( 100.00% ) in 0.01 sec. Users per second: 284\n",
      "EvaluatorHoldout: Processed 3 ( 100.00% ) in 0.01 sec. Users per second: 333\n",
      "EvaluatorHoldout: Processed 1 ( 100.00% ) in 0.01 sec. Users per second: 167\n",
      "EvaluatorHoldout: Processed 2 ( 100.00% ) in 0.01 sec. Users per second: 286\n"
     ]
    }
   ],
   "source": [
    "list_slimbpr=compute_map_per_range(SlimBPR, URM_test, range_size=range_all)\n",
    "x_slb,y_slb,_ = frame_to_plot(list_slimbpr)"
   ]
  },
  {
   "cell_type": "code",
   "execution_count": 26,
   "metadata": {},
   "outputs": [
    {
     "name": "stdout",
     "output_type": "stream",
     "text": [
      "UserKNNCFRecommender: URM Detected 42 (0.53 %) cold users.\n",
      "UserKNNCFRecommender: URM Detected 1971 (7.59 %) cold items.\n",
      "Similarity column 7947 ( 100 % ), 19657.15 column/sec, elapsed time 0.01 min\n"
     ]
    }
   ],
   "source": [
    "from KNN.UserKNNCFRecommender import UserKNNCFRecommender\n",
    "userKnnCF = UserKNNCFRecommender(URM_train)\n",
    "userKnnCF.fit(topK= 201, shrink= 998, similarity= 'cosine', normalize= True, feature_weighting= 'TF-IDF')"
   ]
  },
  {
   "cell_type": "code",
   "execution_count": 226,
   "metadata": {},
   "outputs": [
    {
     "name": "stdout",
     "output_type": "stream",
     "text": [
      "EvaluatorHoldout: Processed 3 ( 100.00% ) in 0.01 sec. Users per second: 599\n",
      "EvaluatorHoldout: Processed 5 ( 100.00% ) in 0.01 sec. Users per second: 622\n",
      "EvaluatorHoldout: Processed 3 ( 100.00% ) in 0.01 sec. Users per second: 426\n",
      "EvaluatorHoldout: Processed 5 ( 100.00% ) in 0.01 sec. Users per second: 624\n",
      "EvaluatorHoldout: Processed 1 ( 100.00% ) in 0.00 sec. Users per second: 250\n",
      "EvaluatorHoldout: Processed 2 ( 100.00% ) in 0.01 sec. Users per second: 396\n",
      "EvaluatorHoldout: Processed 3 ( 100.00% ) in 0.01 sec. Users per second: 501\n",
      "EvaluatorHoldout: Processed 1 ( 100.00% ) in 0.00 sec. Users per second: 247\n",
      "EvaluatorHoldout: Processed 2 ( 100.00% ) in 0.01 sec. Users per second: 400\n"
     ]
    }
   ],
   "source": [
    "list_ucf=compute_map_per_range(userKnnCF, URM_test, range_size=range_all)\n",
    "x_ucf,y_ucf,_ = frame_to_plot(list_ucf)"
   ]
  },
  {
   "cell_type": "code",
   "execution_count": 14,
   "metadata": {},
   "outputs": [
    {
     "name": "stdout",
     "output_type": "stream",
     "text": [
      "HybridLinear10Recommender: URM Detected 42 (0.53 %) cold users.\n",
      "HybridLinear10Recommender: URM Detected 1971 (7.59 %) cold items.\n",
      "SLIM_BPR_Recommender: URM Detected 42 (0.53 %) cold users.\n",
      "SLIM_BPR_Recommender: URM Detected 1971 (7.59 %) cold items.\n",
      "UserKNNCFRecommender: URM Detected 42 (0.53 %) cold users.\n",
      "UserKNNCFRecommender: URM Detected 1971 (7.59 %) cold items.\n",
      "Unable to read memory status: list index out of range\n",
      "SLIM_BPR_Recommender: Automatic selection of fastest train mode. Unable to get current RAM status, you may be using a non-Linux operating system. Using dense matrix.\n",
      "Processed 7947 ( 100.00% ) in 0.97 seconds. BPR loss is 4.34E-07. Sample per second: 8178\n",
      "SLIM_BPR_Recommender: Epoch 1 of 135. Elapsed time 0.05 sec\n",
      "Processed 7947 ( 100.00% ) in 1.01 seconds. BPR loss is 1.55E-06. Sample per second: 7902\n",
      "SLIM_BPR_Recommender: Epoch 2 of 135. Elapsed time 0.08 sec\n",
      "Processed 7947 ( 100.00% ) in 0.04 seconds. BPR loss is 2.42E-06. Sample per second: 221781\n",
      "SLIM_BPR_Recommender: Epoch 3 of 135. Elapsed time 0.11 sec\n",
      "Processed 7947 ( 100.00% ) in 0.06 seconds. BPR loss is 1.50E-06. Sample per second: 126483\n",
      "SLIM_BPR_Recommender: Epoch 4 of 135. Elapsed time 0.14 sec\n",
      "Processed 7947 ( 100.00% ) in 0.09 seconds. BPR loss is 3.69E-06. Sample per second: 87511\n",
      "SLIM_BPR_Recommender: Epoch 5 of 135. Elapsed time 0.17 sec\n",
      "Processed 7947 ( 100.00% ) in 0.12 seconds. BPR loss is 2.59E-06. Sample per second: 68615\n",
      "SLIM_BPR_Recommender: Epoch 6 of 135. Elapsed time 0.19 sec\n",
      "Processed 7947 ( 100.00% ) in 0.14 seconds. BPR loss is 4.20E-06. Sample per second: 57668\n",
      "SLIM_BPR_Recommender: Epoch 7 of 135. Elapsed time 0.21 sec\n",
      "Processed 7947 ( 100.00% ) in 0.16 seconds. BPR loss is 4.22E-06. Sample per second: 49416\n",
      "SLIM_BPR_Recommender: Epoch 8 of 135. Elapsed time 0.24 sec\n",
      "Processed 7947 ( 100.00% ) in 0.18 seconds. BPR loss is 3.82E-06. Sample per second: 43710\n",
      "SLIM_BPR_Recommender: Epoch 9 of 135. Elapsed time 0.26 sec\n",
      "Processed 7947 ( 100.00% ) in 0.20 seconds. BPR loss is 4.44E-06. Sample per second: 39574\n",
      "SLIM_BPR_Recommender: Epoch 10 of 135. Elapsed time 0.28 sec\n",
      "Processed 7947 ( 100.00% ) in 0.22 seconds. BPR loss is 4.31E-06. Sample per second: 36162\n",
      "SLIM_BPR_Recommender: Epoch 11 of 135. Elapsed time 0.30 sec\n",
      "Processed 7947 ( 100.00% ) in 0.24 seconds. BPR loss is 4.98E-06. Sample per second: 33258\n",
      "SLIM_BPR_Recommender: Epoch 12 of 135. Elapsed time 0.31 sec\n",
      "Processed 7947 ( 100.00% ) in 0.26 seconds. BPR loss is 4.60E-06. Sample per second: 30928\n",
      "SLIM_BPR_Recommender: Epoch 13 of 135. Elapsed time 0.33 sec\n",
      "Processed 7947 ( 100.00% ) in 0.27 seconds. BPR loss is 5.79E-06. Sample per second: 29001\n",
      "SLIM_BPR_Recommender: Epoch 14 of 135. Elapsed time 0.35 sec\n",
      "Processed 7947 ( 100.00% ) in 0.29 seconds. BPR loss is 7.06E-06. Sample per second: 27311\n",
      "SLIM_BPR_Recommender: Epoch 15 of 135. Elapsed time 0.37 sec\n",
      "Processed 7947 ( 100.00% ) in 0.31 seconds. BPR loss is 7.17E-06. Sample per second: 25888\n",
      "SLIM_BPR_Recommender: Epoch 16 of 135. Elapsed time 0.38 sec\n",
      "Processed 7947 ( 100.00% ) in 0.32 seconds. BPR loss is 1.18E-05. Sample per second: 24608\n",
      "SLIM_BPR_Recommender: Epoch 17 of 135. Elapsed time 0.40 sec\n",
      "Processed 7947 ( 100.00% ) in 0.34 seconds. BPR loss is 7.35E-06. Sample per second: 23447\n",
      "SLIM_BPR_Recommender: Epoch 18 of 135. Elapsed time 0.41 sec\n",
      "Processed 7947 ( 100.00% ) in 0.35 seconds. BPR loss is 8.49E-06. Sample per second: 22453\n",
      "SLIM_BPR_Recommender: Epoch 19 of 135. Elapsed time 0.43 sec\n",
      "Processed 7947 ( 100.00% ) in 0.37 seconds. BPR loss is 7.51E-06. Sample per second: 21599\n",
      "SLIM_BPR_Recommender: Epoch 20 of 135. Elapsed time 0.44 sec\n",
      "Processed 7947 ( 100.00% ) in 0.38 seconds. BPR loss is 7.57E-06. Sample per second: 20805\n",
      "SLIM_BPR_Recommender: Epoch 21 of 135. Elapsed time 0.46 sec\n",
      "Processed 7947 ( 100.00% ) in 0.40 seconds. BPR loss is 8.77E-06. Sample per second: 20019\n",
      "SLIM_BPR_Recommender: Epoch 22 of 135. Elapsed time 0.47 sec\n",
      "Processed 7947 ( 100.00% ) in 0.41 seconds. BPR loss is 8.44E-06. Sample per second: 19339\n",
      "SLIM_BPR_Recommender: Epoch 23 of 135. Elapsed time 0.49 sec\n",
      "Processed 7947 ( 100.00% ) in 0.42 seconds. BPR loss is 9.41E-06. Sample per second: 18745\n",
      "SLIM_BPR_Recommender: Epoch 24 of 135. Elapsed time 0.50 sec\n",
      "Processed 7947 ( 100.00% ) in 0.44 seconds. BPR loss is 9.84E-06. Sample per second: 18188\n",
      "SLIM_BPR_Recommender: Epoch 25 of 135. Elapsed time 0.51 sec\n",
      "Processed 7947 ( 100.00% ) in 0.45 seconds. BPR loss is 1.03E-05. Sample per second: 17663\n",
      "SLIM_BPR_Recommender: Epoch 26 of 135. Elapsed time 0.53 sec\n",
      "Processed 7947 ( 100.00% ) in 0.46 seconds. BPR loss is 1.11E-05. Sample per second: 17165\n",
      "SLIM_BPR_Recommender: Epoch 27 of 135. Elapsed time 0.54 sec\n",
      "Processed 7947 ( 100.00% ) in 0.47 seconds. BPR loss is 1.37E-05. Sample per second: 16733\n",
      "SLIM_BPR_Recommender: Epoch 28 of 135. Elapsed time 0.55 sec\n",
      "Processed 7947 ( 100.00% ) in 0.49 seconds. BPR loss is 1.14E-05. Sample per second: 16288\n",
      "SLIM_BPR_Recommender: Epoch 29 of 135. Elapsed time 0.56 sec\n",
      "Processed 7947 ( 100.00% ) in 0.50 seconds. BPR loss is 1.16E-05. Sample per second: 15897\n",
      "SLIM_BPR_Recommender: Epoch 30 of 135. Elapsed time 0.58 sec\n",
      "Processed 7947 ( 100.00% ) in 0.51 seconds. BPR loss is 1.27E-05. Sample per second: 15523\n",
      "SLIM_BPR_Recommender: Epoch 31 of 135. Elapsed time 0.59 sec\n",
      "Processed 7947 ( 100.00% ) in 0.52 seconds. BPR loss is 1.09E-05. Sample per second: 15169\n",
      "SLIM_BPR_Recommender: Epoch 32 of 135. Elapsed time 0.60 sec\n",
      "Processed 7947 ( 100.00% ) in 0.53 seconds. BPR loss is 1.21E-05. Sample per second: 14857\n",
      "SLIM_BPR_Recommender: Epoch 33 of 135. Elapsed time 0.61 sec\n",
      "Processed 7947 ( 100.00% ) in 0.55 seconds. BPR loss is 1.20E-05. Sample per second: 14557\n",
      "SLIM_BPR_Recommender: Epoch 34 of 135. Elapsed time 0.62 sec\n",
      "Processed 7947 ( 100.00% ) in 0.56 seconds. BPR loss is 1.59E-05. Sample per second: 14244\n",
      "SLIM_BPR_Recommender: Epoch 35 of 135. Elapsed time 0.63 sec\n",
      "Processed 7947 ( 100.00% ) in 0.57 seconds. BPR loss is 1.34E-05. Sample per second: 13969\n",
      "SLIM_BPR_Recommender: Epoch 36 of 135. Elapsed time 0.64 sec\n",
      "Processed 7947 ( 100.00% ) in 0.58 seconds. BPR loss is 1.38E-05. Sample per second: 13704\n",
      "SLIM_BPR_Recommender: Epoch 37 of 135. Elapsed time 0.66 sec\n",
      "Processed 7947 ( 100.00% ) in 0.59 seconds. BPR loss is 1.41E-05. Sample per second: 13449\n",
      "SLIM_BPR_Recommender: Epoch 38 of 135. Elapsed time 0.67 sec\n",
      "Processed 7947 ( 100.00% ) in 0.60 seconds. BPR loss is 1.56E-05. Sample per second: 13203\n",
      "SLIM_BPR_Recommender: Epoch 39 of 135. Elapsed time 0.68 sec\n",
      "Processed 7947 ( 100.00% ) in 0.61 seconds. BPR loss is 1.60E-05. Sample per second: 12945\n",
      "SLIM_BPR_Recommender: Epoch 40 of 135. Elapsed time 0.69 sec\n",
      "Processed 7947 ( 100.00% ) in 0.63 seconds. BPR loss is 1.50E-05. Sample per second: 12677\n",
      "SLIM_BPR_Recommender: Epoch 41 of 135. Elapsed time 0.70 sec\n",
      "Processed 7947 ( 100.00% ) in 0.64 seconds. BPR loss is 1.52E-05. Sample per second: 12419\n",
      "SLIM_BPR_Recommender: Epoch 42 of 135. Elapsed time 0.72 sec\n",
      "Processed 7947 ( 100.00% ) in 0.65 seconds. BPR loss is 1.44E-05. Sample per second: 12172\n",
      "SLIM_BPR_Recommender: Epoch 43 of 135. Elapsed time 0.73 sec\n",
      "Processed 7947 ( 100.00% ) in 0.66 seconds. BPR loss is 1.85E-05. Sample per second: 11952\n",
      "SLIM_BPR_Recommender: Epoch 44 of 135. Elapsed time 0.74 sec\n",
      "Processed 7947 ( 100.00% ) in 0.68 seconds. BPR loss is 1.53E-05. Sample per second: 11758\n",
      "SLIM_BPR_Recommender: Epoch 45 of 135. Elapsed time 0.75 sec\n",
      "Processed 7947 ( 100.00% ) in 0.69 seconds. BPR loss is 1.65E-05. Sample per second: 11569\n",
      "SLIM_BPR_Recommender: Epoch 46 of 135. Elapsed time 0.76 sec\n",
      "Processed 7947 ( 100.00% ) in 0.70 seconds. BPR loss is 1.57E-05. Sample per second: 11371\n",
      "SLIM_BPR_Recommender: Epoch 47 of 135. Elapsed time 0.77 sec\n",
      "Processed 7947 ( 100.00% ) in 0.71 seconds. BPR loss is 1.81E-05. Sample per second: 11195\n",
      "SLIM_BPR_Recommender: Epoch 48 of 135. Elapsed time 0.79 sec\n",
      "Processed 7947 ( 100.00% ) in 0.72 seconds. BPR loss is 1.71E-05. Sample per second: 11024\n",
      "SLIM_BPR_Recommender: Epoch 49 of 135. Elapsed time 0.80 sec\n",
      "Processed 7947 ( 100.00% ) in 0.73 seconds. BPR loss is 1.82E-05. Sample per second: 10858\n",
      "SLIM_BPR_Recommender: Epoch 50 of 135. Elapsed time 0.81 sec\n",
      "Processed 7947 ( 100.00% ) in 0.74 seconds. BPR loss is 1.82E-05. Sample per second: 10697\n"
     ]
    },
    {
     "name": "stdout",
     "output_type": "stream",
     "text": [
      "SLIM_BPR_Recommender: Epoch 51 of 135. Elapsed time 0.82 sec\n",
      "Processed 7947 ( 100.00% ) in 0.75 seconds. BPR loss is 2.00E-05. Sample per second: 10555\n",
      "SLIM_BPR_Recommender: Epoch 52 of 135. Elapsed time 0.83 sec\n",
      "Processed 7947 ( 100.00% ) in 0.76 seconds. BPR loss is 1.90E-05. Sample per second: 10417\n",
      "SLIM_BPR_Recommender: Epoch 53 of 135. Elapsed time 0.84 sec\n",
      "Processed 7947 ( 100.00% ) in 0.77 seconds. BPR loss is 2.10E-05. Sample per second: 10269\n",
      "SLIM_BPR_Recommender: Epoch 54 of 135. Elapsed time 0.85 sec\n",
      "Processed 7947 ( 100.00% ) in 0.78 seconds. BPR loss is 2.23E-05. Sample per second: 10138\n",
      "SLIM_BPR_Recommender: Epoch 55 of 135. Elapsed time 0.86 sec\n",
      "Processed 7947 ( 100.00% ) in 0.79 seconds. BPR loss is 1.96E-05. Sample per second: 10010\n",
      "SLIM_BPR_Recommender: Epoch 56 of 135. Elapsed time 0.87 sec\n",
      "Processed 7947 ( 100.00% ) in 0.80 seconds. BPR loss is 2.23E-05. Sample per second: 9886\n",
      "SLIM_BPR_Recommender: Epoch 57 of 135. Elapsed time 0.88 sec\n",
      "Processed 7947 ( 100.00% ) in 0.81 seconds. BPR loss is 2.18E-05. Sample per second: 9776\n",
      "SLIM_BPR_Recommender: Epoch 58 of 135. Elapsed time 0.89 sec\n",
      "Processed 7947 ( 100.00% ) in 0.82 seconds. BPR loss is 2.14E-05. Sample per second: 9658\n",
      "SLIM_BPR_Recommender: Epoch 59 of 135. Elapsed time 0.90 sec\n",
      "Processed 7947 ( 100.00% ) in 0.83 seconds. BPR loss is 1.98E-05. Sample per second: 9542\n",
      "SLIM_BPR_Recommender: Epoch 60 of 135. Elapsed time 0.91 sec\n",
      "Processed 7947 ( 100.00% ) in 0.84 seconds. BPR loss is 2.04E-05. Sample per second: 9428\n",
      "SLIM_BPR_Recommender: Epoch 61 of 135. Elapsed time 0.92 sec\n",
      "Processed 7947 ( 100.00% ) in 0.85 seconds. BPR loss is 2.05E-05. Sample per second: 9329\n",
      "SLIM_BPR_Recommender: Epoch 62 of 135. Elapsed time 0.93 sec\n",
      "Processed 7947 ( 100.00% ) in 0.86 seconds. BPR loss is 2.30E-05. Sample per second: 9220\n",
      "SLIM_BPR_Recommender: Epoch 63 of 135. Elapsed time 0.94 sec\n",
      "Processed 7947 ( 100.00% ) in 0.87 seconds. BPR loss is 2.16E-05. Sample per second: 9115\n",
      "SLIM_BPR_Recommender: Epoch 64 of 135. Elapsed time 0.95 sec\n",
      "Processed 7947 ( 100.00% ) in 0.88 seconds. BPR loss is 2.58E-05. Sample per second: 9021\n",
      "SLIM_BPR_Recommender: Epoch 65 of 135. Elapsed time 0.96 sec\n",
      "Processed 7947 ( 100.00% ) in 0.89 seconds. BPR loss is 2.20E-05. Sample per second: 8931\n",
      "SLIM_BPR_Recommender: Epoch 66 of 135. Elapsed time 0.97 sec\n",
      "Processed 7947 ( 100.00% ) in 0.90 seconds. BPR loss is 2.42E-05. Sample per second: 8831\n",
      "SLIM_BPR_Recommender: Epoch 67 of 135. Elapsed time 0.98 sec\n",
      "Processed 7947 ( 100.00% ) in 0.91 seconds. BPR loss is 2.60E-05. Sample per second: 8734\n",
      "SLIM_BPR_Recommender: Epoch 68 of 135. Elapsed time 0.99 sec\n",
      "Processed 7947 ( 100.00% ) in 0.92 seconds. BPR loss is 2.50E-05. Sample per second: 8630\n",
      "SLIM_BPR_Recommender: Epoch 69 of 135. Elapsed time 1.00 sec\n",
      "Processed 7947 ( 100.00% ) in 0.93 seconds. BPR loss is 2.55E-05. Sample per second: 8546\n",
      "SLIM_BPR_Recommender: Epoch 70 of 135. Elapsed time 1.01 sec\n",
      "Processed 7947 ( 100.00% ) in 0.94 seconds. BPR loss is 2.33E-05. Sample per second: 8455\n",
      "SLIM_BPR_Recommender: Epoch 71 of 135. Elapsed time 1.02 sec\n",
      "Processed 7947 ( 100.00% ) in 0.95 seconds. BPR loss is 2.41E-05. Sample per second: 8366\n",
      "SLIM_BPR_Recommender: Epoch 72 of 135. Elapsed time 1.03 sec\n",
      "Processed 7947 ( 100.00% ) in 0.96 seconds. BPR loss is 2.52E-05. Sample per second: 8271\n",
      "SLIM_BPR_Recommender: Epoch 73 of 135. Elapsed time 1.04 sec\n",
      "Processed 7947 ( 100.00% ) in 0.97 seconds. BPR loss is 2.60E-05. Sample per second: 8186\n",
      "SLIM_BPR_Recommender: Epoch 74 of 135. Elapsed time 1.05 sec\n",
      "Processed 7947 ( 100.00% ) in 0.98 seconds. BPR loss is 2.76E-05. Sample per second: 8110\n",
      "SLIM_BPR_Recommender: Epoch 75 of 135. Elapsed time 1.06 sec\n",
      "Processed 7947 ( 100.00% ) in 0.99 seconds. BPR loss is 2.53E-05. Sample per second: 8037\n",
      "SLIM_BPR_Recommender: Epoch 76 of 135. Elapsed time 1.06 sec\n",
      "Processed 7947 ( 100.00% ) in 1.00 seconds. BPR loss is 2.68E-05. Sample per second: 7956\n",
      "SLIM_BPR_Recommender: Epoch 77 of 135. Elapsed time 1.07 sec\n",
      "Processed 7947 ( 100.00% ) in 0.01 seconds. BPR loss is 2.73E-05. Sample per second: 995738\n",
      "SLIM_BPR_Recommender: Epoch 78 of 135. Elapsed time 1.08 sec\n",
      "Processed 7947 ( 100.00% ) in 0.02 seconds. BPR loss is 2.93E-05. Sample per second: 442050\n",
      "SLIM_BPR_Recommender: Epoch 79 of 135. Elapsed time 1.09 sec\n",
      "Processed 7947 ( 100.00% ) in 0.03 seconds. BPR loss is 2.74E-05. Sample per second: 283549\n",
      "SLIM_BPR_Recommender: Epoch 80 of 135. Elapsed time 1.10 sec\n",
      "Processed 7947 ( 100.00% ) in 0.04 seconds. BPR loss is 2.79E-05. Sample per second: 214926\n",
      "SLIM_BPR_Recommender: Epoch 81 of 135. Elapsed time 1.11 sec\n",
      "Processed 7947 ( 100.00% ) in 0.05 seconds. BPR loss is 2.94E-05. Sample per second: 162147\n",
      "SLIM_BPR_Recommender: Epoch 82 of 135. Elapsed time 1.13 sec\n",
      "Processed 7947 ( 100.00% ) in 0.06 seconds. BPR loss is 2.71E-05. Sample per second: 134754\n",
      "SLIM_BPR_Recommender: Epoch 83 of 135. Elapsed time 1.14 sec\n",
      "Processed 7947 ( 100.00% ) in 0.07 seconds. BPR loss is 3.26E-05. Sample per second: 115221\n",
      "SLIM_BPR_Recommender: Epoch 84 of 135. Elapsed time 1.14 sec\n",
      "Processed 7947 ( 100.00% ) in 0.08 seconds. BPR loss is 2.88E-05. Sample per second: 100588\n",
      "SLIM_BPR_Recommender: Epoch 85 of 135. Elapsed time 1.15 sec\n",
      "Processed 7947 ( 100.00% ) in 0.09 seconds. BPR loss is 2.94E-05. Sample per second: 89291\n",
      "SLIM_BPR_Recommender: Epoch 86 of 135. Elapsed time 1.16 sec\n",
      "Processed 7947 ( 100.00% ) in 0.10 seconds. BPR loss is 3.06E-05. Sample per second: 81915\n",
      "SLIM_BPR_Recommender: Epoch 87 of 135. Elapsed time 1.17 sec\n",
      "Processed 7947 ( 100.00% ) in 0.11 seconds. BPR loss is 3.26E-05. Sample per second: 74294\n",
      "SLIM_BPR_Recommender: Epoch 88 of 135. Elapsed time 1.18 sec\n",
      "Processed 7947 ( 100.00% ) in 0.12 seconds. BPR loss is 3.28E-05. Sample per second: 68509\n",
      "SLIM_BPR_Recommender: Epoch 89 of 135. Elapsed time 1.19 sec\n",
      "Processed 7947 ( 100.00% ) in 0.13 seconds. BPR loss is 3.31E-05. Sample per second: 63566\n",
      "SLIM_BPR_Recommender: Epoch 90 of 135. Elapsed time 1.20 sec\n",
      "Processed 7947 ( 100.00% ) in 0.13 seconds. BPR loss is 3.17E-05. Sample per second: 59321\n",
      "SLIM_BPR_Recommender: Epoch 91 of 135. Elapsed time 1.21 sec\n",
      "Processed 7947 ( 100.00% ) in 0.14 seconds. BPR loss is 3.36E-05. Sample per second: 55567\n",
      "SLIM_BPR_Recommender: Epoch 92 of 135. Elapsed time 1.22 sec\n",
      "Processed 7947 ( 100.00% ) in 0.15 seconds. BPR loss is 3.11E-05. Sample per second: 52284\n",
      "SLIM_BPR_Recommender: Epoch 93 of 135. Elapsed time 1.23 sec\n",
      "Processed 7947 ( 100.00% ) in 0.16 seconds. BPR loss is 3.50E-05. Sample per second: 49357\n",
      "SLIM_BPR_Recommender: Epoch 94 of 135. Elapsed time 1.24 sec\n",
      "Processed 7947 ( 100.00% ) in 0.17 seconds. BPR loss is 3.80E-05. Sample per second: 46748\n",
      "SLIM_BPR_Recommender: Epoch 95 of 135. Elapsed time 1.25 sec\n",
      "Processed 7947 ( 100.00% ) in 0.18 seconds. BPR loss is 3.63E-05. Sample per second: 44395\n",
      "SLIM_BPR_Recommender: Epoch 96 of 135. Elapsed time 1.25 sec\n",
      "Processed 7947 ( 100.00% ) in 0.19 seconds. BPR loss is 3.45E-05. Sample per second: 42272\n",
      "SLIM_BPR_Recommender: Epoch 97 of 135. Elapsed time 1.26 sec\n",
      "Processed 7947 ( 100.00% ) in 0.20 seconds. BPR loss is 3.35E-05. Sample per second: 40339\n",
      "SLIM_BPR_Recommender: Epoch 98 of 135. Elapsed time 1.27 sec\n",
      "Processed 7947 ( 100.00% ) in 0.21 seconds. BPR loss is 3.49E-05. Sample per second: 38586\n",
      "SLIM_BPR_Recommender: Epoch 99 of 135. Elapsed time 1.28 sec\n",
      "Processed 7947 ( 100.00% ) in 0.21 seconds. BPR loss is 4.06E-05. Sample per second: 37135\n",
      "SLIM_BPR_Recommender: Epoch 100 of 135. Elapsed time 1.29 sec\n",
      "Processed 7947 ( 100.00% ) in 0.22 seconds. BPR loss is 3.44E-05. Sample per second: 35478\n",
      "SLIM_BPR_Recommender: Epoch 101 of 135. Elapsed time 1.30 sec\n",
      "Processed 7947 ( 100.00% ) in 0.23 seconds. BPR loss is 3.65E-05. Sample per second: 34254\n",
      "SLIM_BPR_Recommender: Epoch 102 of 135. Elapsed time 1.31 sec\n",
      "Processed 7947 ( 100.00% ) in 0.24 seconds. BPR loss is 3.61E-05. Sample per second: 32839\n",
      "SLIM_BPR_Recommender: Epoch 103 of 135. Elapsed time 1.32 sec\n",
      "Processed 7947 ( 100.00% ) in 0.25 seconds. BPR loss is 3.80E-05. Sample per second: 31794\n",
      "SLIM_BPR_Recommender: Epoch 104 of 135. Elapsed time 1.33 sec\n",
      "Processed 7947 ( 100.00% ) in 0.26 seconds. BPR loss is 3.62E-05. Sample per second: 30684\n"
     ]
    },
    {
     "name": "stdout",
     "output_type": "stream",
     "text": [
      "SLIM_BPR_Recommender: Epoch 105 of 135. Elapsed time 1.33 sec\n",
      "Processed 7947 ( 100.00% ) in 0.27 seconds. BPR loss is 3.66E-05. Sample per second: 29653\n",
      "SLIM_BPR_Recommender: Epoch 106 of 135. Elapsed time 1.34 sec\n",
      "Processed 7947 ( 100.00% ) in 0.28 seconds. BPR loss is 3.59E-05. Sample per second: 28690\n",
      "SLIM_BPR_Recommender: Epoch 107 of 135. Elapsed time 1.35 sec\n",
      "Processed 7947 ( 100.00% ) in 0.29 seconds. BPR loss is 5.92E-05. Sample per second: 27792\n",
      "SLIM_BPR_Recommender: Epoch 108 of 135. Elapsed time 1.36 sec\n",
      "Processed 7947 ( 100.00% ) in 0.29 seconds. BPR loss is 3.75E-05. Sample per second: 26944\n",
      "SLIM_BPR_Recommender: Epoch 109 of 135. Elapsed time 1.37 sec\n",
      "Processed 7947 ( 100.00% ) in 0.30 seconds. BPR loss is 3.85E-05. Sample per second: 26146\n",
      "SLIM_BPR_Recommender: Epoch 110 of 135. Elapsed time 1.38 sec\n",
      "Processed 7947 ( 100.00% ) in 0.31 seconds. BPR loss is 3.75E-05. Sample per second: 25394\n",
      "SLIM_BPR_Recommender: Epoch 111 of 135. Elapsed time 1.39 sec\n",
      "Processed 7947 ( 100.00% ) in 0.32 seconds. BPR loss is 3.88E-05. Sample per second: 24681\n",
      "SLIM_BPR_Recommender: Epoch 112 of 135. Elapsed time 1.40 sec\n",
      "Processed 7947 ( 100.00% ) in 0.33 seconds. BPR loss is 3.78E-05. Sample per second: 24083\n",
      "SLIM_BPR_Recommender: Epoch 113 of 135. Elapsed time 1.41 sec\n",
      "Processed 7947 ( 100.00% ) in 0.34 seconds. BPR loss is 3.90E-05. Sample per second: 23375\n",
      "SLIM_BPR_Recommender: Epoch 114 of 135. Elapsed time 1.42 sec\n",
      "Processed 7947 ( 100.00% ) in 0.35 seconds. BPR loss is 3.95E-05. Sample per second: 22771\n",
      "SLIM_BPR_Recommender: Epoch 115 of 135. Elapsed time 1.42 sec\n",
      "Processed 7947 ( 100.00% ) in 0.36 seconds. BPR loss is 4.17E-05. Sample per second: 22137\n",
      "SLIM_BPR_Recommender: Epoch 116 of 135. Elapsed time 1.43 sec\n",
      "Processed 7947 ( 100.00% ) in 0.37 seconds. BPR loss is 4.15E-05. Sample per second: 21599\n",
      "SLIM_BPR_Recommender: Epoch 117 of 135. Elapsed time 1.44 sec\n",
      "Processed 7947 ( 100.00% ) in 0.38 seconds. BPR loss is 4.15E-05. Sample per second: 21025\n",
      "SLIM_BPR_Recommender: Epoch 118 of 135. Elapsed time 1.45 sec\n",
      "Processed 7947 ( 100.00% ) in 0.39 seconds. BPR loss is 4.23E-05. Sample per second: 20537\n",
      "SLIM_BPR_Recommender: Epoch 119 of 135. Elapsed time 1.46 sec\n",
      "Processed 7947 ( 100.00% ) in 0.40 seconds. BPR loss is 4.57E-05. Sample per second: 20019\n",
      "SLIM_BPR_Recommender: Epoch 120 of 135. Elapsed time 1.47 sec\n",
      "Processed 7947 ( 100.00% ) in 0.41 seconds. BPR loss is 4.39E-05. Sample per second: 19577\n",
      "SLIM_BPR_Recommender: Epoch 121 of 135. Elapsed time 1.48 sec\n",
      "Processed 7947 ( 100.00% ) in 0.42 seconds. BPR loss is 3.95E-05. Sample per second: 19150\n",
      "SLIM_BPR_Recommender: Epoch 122 of 135. Elapsed time 1.49 sec\n",
      "Processed 7947 ( 100.00% ) in 0.42 seconds. BPR loss is 4.16E-05. Sample per second: 18702\n",
      "SLIM_BPR_Recommender: Epoch 123 of 135. Elapsed time 1.50 sec\n",
      "Processed 7947 ( 100.00% ) in 0.43 seconds. BPR loss is 4.15E-05. Sample per second: 18313\n",
      "SLIM_BPR_Recommender: Epoch 124 of 135. Elapsed time 1.51 sec\n",
      "Processed 7947 ( 100.00% ) in 0.44 seconds. BPR loss is 4.32E-05. Sample per second: 17900\n",
      "SLIM_BPR_Recommender: Epoch 125 of 135. Elapsed time 1.52 sec\n",
      "Processed 7947 ( 100.00% ) in 0.45 seconds. BPR loss is 4.25E-05. Sample per second: 17545\n",
      "SLIM_BPR_Recommender: Epoch 126 of 135. Elapsed time 1.53 sec\n",
      "Processed 7947 ( 100.00% ) in 0.46 seconds. BPR loss is 4.79E-05. Sample per second: 17165\n",
      "SLIM_BPR_Recommender: Epoch 127 of 135. Elapsed time 1.54 sec\n",
      "Processed 7947 ( 100.00% ) in 0.47 seconds. BPR loss is 4.53E-05. Sample per second: 16840\n",
      "SLIM_BPR_Recommender: Epoch 128 of 135. Elapsed time 1.55 sec\n",
      "Processed 7947 ( 100.00% ) in 0.48 seconds. BPR loss is 4.52E-05. Sample per second: 16489\n",
      "SLIM_BPR_Recommender: Epoch 129 of 135. Elapsed time 1.56 sec\n",
      "Processed 7947 ( 100.00% ) in 0.49 seconds. BPR loss is 4.66E-05. Sample per second: 16186\n",
      "SLIM_BPR_Recommender: Epoch 130 of 135. Elapsed time 1.57 sec\n",
      "Processed 7947 ( 100.00% ) in 0.50 seconds. BPR loss is 4.37E-05. Sample per second: 15897\n",
      "SLIM_BPR_Recommender: Epoch 131 of 135. Elapsed time 1.58 sec\n",
      "Processed 7947 ( 100.00% ) in 0.51 seconds. BPR loss is 4.66E-05. Sample per second: 15614\n",
      "SLIM_BPR_Recommender: Epoch 132 of 135. Elapsed time 1.58 sec\n",
      "Processed 7947 ( 100.00% ) in 0.52 seconds. BPR loss is 4.55E-05. Sample per second: 15344\n",
      "SLIM_BPR_Recommender: Epoch 133 of 135. Elapsed time 1.59 sec\n",
      "Processed 7947 ( 100.00% ) in 0.53 seconds. BPR loss is 4.62E-05. Sample per second: 15081\n",
      "SLIM_BPR_Recommender: Epoch 134 of 135. Elapsed time 1.60 sec\n",
      "Processed 7947 ( 100.00% ) in 0.54 seconds. BPR loss is 4.62E-05. Sample per second: 14828\n",
      "SLIM_BPR_Recommender: Epoch 135 of 135. Elapsed time 1.61 sec\n",
      "SLIM_BPR_Recommender: Terminating at epoch 135. Elapsed time 20.62 sec\n",
      "Deallocating Cython objects\n",
      "Similarity column 7947 ( 100 % ), 19955.60 column/sec, elapsed time 0.01 min\n"
     ]
    }
   ],
   "source": [
    "from Hybrid.HybridLinear10Recommneder import HybridLinear10Recommneder\n",
    "HybridL = HybridLinear10Recommneder(URM_train, seed)\n",
    "HybridL.fit(alpha = 7.038567451844725e-05)"
   ]
  },
  {
   "cell_type": "code",
   "execution_count": 15,
   "metadata": {},
   "outputs": [
    {
     "name": "stdout",
     "output_type": "stream",
     "text": [
      "EvaluatorHoldout: Processed 4362 ( 100.00% ) in 3.64 sec. Users per second: 1199\n",
      "EvaluatorHoldout: Processed 368 ( 100.00% ) in 0.43 sec. Users per second: 862\n",
      "EvaluatorHoldout: Processed 104 ( 100.00% ) in 0.14 sec. Users per second: 723\n",
      "EvaluatorHoldout: Processed 41 ( 100.00% ) in 0.06 sec. Users per second: 633\n",
      "EvaluatorHoldout: Processed 23 ( 100.00% ) in 0.04 sec. Users per second: 545\n",
      "EvaluatorHoldout: Processed 19 ( 100.00% ) in 0.04 sec. Users per second: 478\n",
      "EvaluatorHoldout: Processed 15 ( 100.00% ) in 0.03 sec. Users per second: 455\n",
      "EvaluatorHoldout: Processed 5 ( 100.00% ) in 0.01 sec. Users per second: 416\n",
      "EvaluatorHoldout: Processed 3 ( 100.00% ) in 0.01 sec. Users per second: 301\n",
      "EvaluatorHoldout: Processed 5 ( 100.00% ) in 0.01 sec. Users per second: 357\n",
      "EvaluatorHoldout: Processed 1 ( 100.00% ) in 0.01 sec. Users per second: 143\n",
      "EvaluatorHoldout: Processed 2 ( 100.00% ) in 0.01 sec. Users per second: 250\n"
     ]
    },
    {
     "name": "stderr",
     "output_type": "stream",
     "text": [
      "C:\\Users\\gio_d\\Documents\\Projects\\RecSys\\RecSys-2020\\Base\\Evaluation\\metrics.py:947: RuntimeWarning: invalid value encountered in double_scalars\n",
      "  self.diversity = diversity_cumulative/all_user_couples_count\n"
     ]
    },
    {
     "name": "stdout",
     "output_type": "stream",
     "text": [
      "EvaluatorHoldout: Processed 3 ( 100.00% ) in 0.01 sec. Users per second: 299\n",
      "EvaluatorHoldout: Processed 1 ( 100.00% ) in 0.01 sec. Users per second: 166\n",
      "EvaluatorHoldout: Processed 2 ( 100.00% ) in 0.01 sec. Users per second: 250\n",
      "EvaluatorHoldout: Processed 1 ( 100.00% ) in 0.01 sec. Users per second: 125\n",
      "EvaluatorHoldout: Processed 2 ( 100.00% ) in 0.01 sec. Users per second: 200\n",
      "EvaluatorHoldout: Processed 1 ( 100.00% ) in 0.01 sec. Users per second: 167\n",
      "EvaluatorHoldout: Processed 1 ( 100.00% ) in 0.01 sec. Users per second: 143\n",
      "EvaluatorHoldout: Processed 1 ( 100.00% ) in 0.01 sec. Users per second: 143\n"
     ]
    }
   ],
   "source": [
    "list_hl=compute_map_per_range(HybridL, URM_test, range_size=30)\n",
    "x_hl,y_hl,_ = frame_to_plot(list_hl)"
   ]
  },
  {
   "cell_type": "markdown",
   "metadata": {},
   "source": [
    "**HybridLinear10**"
   ]
  },
  {
   "cell_type": "code",
   "execution_count": 16,
   "metadata": {},
   "outputs": [
    {
     "data": {
      "image/png": "[encoded data removed]",
      "text/plain": [
       "<Figure size 432x288 with 1 Axes>"
      ]
     },
     "metadata": {
      "needs_background": "light"
     },
     "output_type": "display_data"
    }
   ],
   "source": [
    "plot_frame(x_hl, y_hl)"
   ]
  },
  {
   "cell_type": "markdown",
   "metadata": {},
   "source": [
    "**PageRankAlpha**"
   ]
  },
  {
   "cell_type": "code",
   "execution_count": 174,
   "metadata": {},
   "outputs": [
    {
     "data": {
      "image/png": "[encoded data removed]",
      "text/plain": [
       "<Figure size 432x288 with 1 Axes>"
      ]
     },
     "metadata": {
      "needs_background": "light"
     },
     "output_type": "display_data"
    }
   ],
   "source": [
    "plot_frame(x_alph, y_alph)"
   ]
  },
  {
   "cell_type": "markdown",
   "metadata": {},
   "source": [
    "**UserKNNCF**"
   ]
  },
  {
   "cell_type": "code",
   "execution_count": 69,
   "metadata": {},
   "outputs": [
    {
     "data": {
      "image/png": "[encoded data removed]",
      "text/plain": [
       "<Figure size 432x288 with 1 Axes>"
      ]
     },
     "metadata": {
      "needs_background": "light"
     },
     "output_type": "display_data"
    }
   ],
   "source": [
    "plot_frame(x_ucf, y_ucf)"
   ]
  },
  {
   "cell_type": "markdown",
   "metadata": {},
   "source": [
    "**SlimBPR**"
   ]
  },
  {
   "cell_type": "code",
   "execution_count": 64,
   "metadata": {},
   "outputs": [
    {
     "data": {
      "image/png": "[encoded data removed]",
      "text/plain": [
       "<Figure size 432x288 with 1 Axes>"
      ]
     },
     "metadata": {
      "needs_background": "light"
     },
     "output_type": "display_data"
    }
   ],
   "source": [
    "plot_frame(x_slb, y_slb)"
   ]
  },
  {
   "cell_type": "markdown",
   "metadata": {},
   "source": [
    "**PureSVD**"
   ]
  },
  {
   "cell_type": "code",
   "execution_count": 60,
   "metadata": {},
   "outputs": [
    {
     "data": {
      "image/png": "[encoded data removed]",
      "text/plain": [
       "<Figure size 432x288 with 1 Axes>"
      ]
     },
     "metadata": {
      "needs_background": "light"
     },
     "output_type": "display_data"
    }
   ],
   "source": [
    "plot_frame(x_pp, y_pp)"
   ]
  },
  {
   "cell_type": "markdown",
   "metadata": {},
   "source": [
    "**Matrix Factorization BPR**"
   ]
  },
  {
   "cell_type": "code",
   "execution_count": 56,
   "metadata": {},
   "outputs": [
    {
     "data": {
      "image/png": "[encoded data removed]",
      "text/plain": [
       "<Figure size 432x288 with 1 Axes>"
      ]
     },
     "metadata": {
      "needs_background": "light"
     },
     "output_type": "display_data"
    }
   ],
   "source": [
    "plot_frame(x_mf, y_mf)"
   ]
  },
  {
   "cell_type": "markdown",
   "metadata": {},
   "source": [
    "#### ItemKNNCBF"
   ]
  },
  {
   "cell_type": "code",
   "execution_count": 18,
   "metadata": {
    "scrolled": true
   },
   "outputs": [
    {
     "data": {
      "image/png": "[encoded data removed]",
      "text/plain": [
       "<Figure size 432x288 with 1 Axes>"
      ]
     },
     "metadata": {
      "needs_background": "light"
     },
     "output_type": "display_data"
    }
   ],
   "source": [
    "plot_frame(x_knn,y_knn)"
   ]
  },
  {
   "cell_type": "markdown",
   "metadata": {},
   "source": [
    "#### ItemKNNCF"
   ]
  },
  {
   "cell_type": "code",
   "execution_count": 51,
   "metadata": {},
   "outputs": [
    {
     "data": {
      "image/png": "[encoded data removed]",
      "text/plain": [
       "<Figure size 432x288 with 1 Axes>"
      ]
     },
     "metadata": {
      "needs_background": "light"
     },
     "output_type": "display_data"
    }
   ],
   "source": [
    "plot_frame(x_cf,y_cf)"
   ]
  },
  {
   "cell_type": "markdown",
   "metadata": {},
   "source": [
    "#### SLIM ELASTICNET"
   ]
  },
  {
   "cell_type": "code",
   "execution_count": 41,
   "metadata": {
    "scrolled": true
   },
   "outputs": [
    {
     "data": {
      "image/png": "[encoded data removed]",
      "text/plain": [
       "<Figure size 432x288 with 1 Axes>"
      ]
     },
     "metadata": {
      "needs_background": "light"
     },
     "output_type": "display_data"
    }
   ],
   "source": [
    "plot_frame(x_slim,y_slim)"
   ]
  },
  {
   "cell_type": "markdown",
   "metadata": {},
   "source": [
    "#### PageRank"
   ]
  },
  {
   "cell_type": "code",
   "execution_count": 38,
   "metadata": {
    "scrolled": true
   },
   "outputs": [
    {
     "data": {
      "image/png": "[encoded data removed]",
      "text/plain": [
       "<Figure size 432x288 with 1 Axes>"
      ]
     },
     "metadata": {
      "needs_background": "light"
     },
     "output_type": "display_data"
    }
   ],
   "source": [
    "plot_frame(x_apr,y_apr)"
   ]
  },
  {
   "cell_type": "code",
   "execution_count": 49,
   "metadata": {},
   "outputs": [
    {
     "data": {
      "image/png": "[encoded data removed]",
      "text/plain": [
       "<Figure size 2400x480 with 1 Axes>"
      ]
     },
     "metadata": {},
     "output_type": "display_data"
    }
   ],
   "source": [
    "maps = [(x_mf, y_mf), (x_slim,y_slim), (x_cf,y_cf), (x_knn,y_knn), (x_apr,y_apr), (x_pp, y_pp), (x_slb, y_slb), (x_ucf, y_ucf), (x_alph, y_alph), (x_hl, y_hl)]\n",
    "#maps = [(x_cf,y_cf), (x_knn,y_knn), (x_apr,y_apr), (x_slb, y_slb), (x_ucf, y_ucf)]\n",
    "multiplot_frame(maps)"
   ]
  },
  {
   "cell_type": "code",
   "execution_count": 124,
   "metadata": {
    "scrolled": true
   },
   "outputs": [
    {
     "data": {
      "image/png": "[encoded data removed]",
      "text/plain": [
       "<Figure size 2400x480 with 1 Axes>"
      ]
     },
     "metadata": {},
     "output_type": "display_data"
    }
   ],
   "source": [
    "maps = [(x_cf,y_cf), (x_knn,y_knn), (x_apr,y_apr), (x_slb, y_slb), (x_ucf, y_ucf), (x_pp, y_pp), (x_alph, y_alph), (x_mf, y_mf), (x_slim,y_slim)]\n",
    "#maps = [(x_cf,y_cf), (x_knn,y_knn), (x_apr,y_apr), (x_slb, y_slb), (x_ucf, y_ucf)]\n",
    "y_max, c = max_rec_map(maps)\n",
    "maps = [(x_cf,y_max,c)]\n",
    "multiplot_frame2(maps, ymax=0.15)"
   ]
  },
  {
   "cell_type": "code",
   "execution_count": 135,
   "metadata": {
    "scrolled": true
   },
   "outputs": [
    {
     "data": {
      "image/png": "[encoded data removed]",
      "text/plain": [
       "<Figure size 2400x480 with 1 Axes>"
      ]
     },
     "metadata": {},
     "output_type": "display_data"
    }
   ],
   "source": [
    "maps = [(x_cf,y_cf), (x_knn,y_knn), (x_apr,y_apr), (x_slb, y_slb), (x_ucf, y_ucf), (x_pp, y_pp), (x_alph, y_alph), (x_mf, y_mf), (x_slim,y_slim)]\n",
    "#maps = [(x_cf,y_cf), (x_knn,y_knn), (x_apr,y_apr), (x_slb, y_slb), (x_ucf, y_ucf)]\n",
    "y_max, c = max_rec_map(maps)\n",
    "maps = [(x_cf,y_max,c)]\n",
    "multiplot_frame2(maps, ymax=0.15)"
   ]
  },
  {
   "cell_type": "code",
   "execution_count": 92,
   "metadata": {},
   "outputs": [
    {
     "data": {
      "image/png": "[encoded data removed]",
      "text/plain": [
       "<Figure size 2400x480 with 1 Axes>"
      ]
     },
     "metadata": {},
     "output_type": "display_data"
    }
   ],
   "source": [
    "maps = [(x_cf,y_cf), (x_knn,y_knn), (x_apr,y_apr), (x_slb, y_slb), (x_ucf, y_ucf), (x_pp, y_pp), (x_alph, y_alph), (x_mf, y_mf), (x_slim,y_slim)]\n",
    "#maps = [(x_cf,y_cf), (x_knn,y_knn), (x_apr,y_apr), (x_slb, y_slb), (x_ucf, y_ucf)]\n",
    "y_max, c = max_rec_map(maps)\n",
    "maps = [(x_cf,y_max,c)]\n",
    "multiplot_frame2(maps, ymax=0.2)"
   ]
  },
  {
   "cell_type": "code",
   "execution_count": 148,
   "metadata": {
    "scrolled": true
   },
   "outputs": [
    {
     "data": {
      "image/png": "[encoded data removed]",
      "text/plain": [
       "<Figure size 2400x480 with 1 Axes>"
      ]
     },
     "metadata": {},
     "output_type": "display_data"
    }
   ],
   "source": [
    "maps = [(x_cf,y_cf), (x_knn,y_knn), (x_apr,y_apr), (x_slb, y_slb), (x_ucf, y_ucf), (x_pp, y_pp), (x_alph, y_alph), (x_mf, y_mf), (x_slim,y_slim)]\n",
    "#maps = [(x_cf,y_cf), (x_knn,y_knn), (x_apr,y_apr), (x_slb, y_slb), (x_ucf, y_ucf)]\n",
    "y_max, c = max_rec_map(maps)\n",
    "maps = [(x_cf,y_max,c)]\n",
    "multiplot_frame2(maps, ymax=0.15)"
   ]
  },
  {
   "cell_type": "code",
   "execution_count": 162,
   "metadata": {
    "scrolled": true
   },
   "outputs": [
    {
     "data": {
      "image/png": "[encoded data removed]",
      "text/plain": [
       "<Figure size 2400x480 with 1 Axes>"
      ]
     },
     "metadata": {},
     "output_type": "display_data"
    }
   ],
   "source": [
    "maps = [(x_cf,y_cf), (x_knn,y_knn), (x_apr,y_apr), (x_slb, y_slb), (x_ucf, y_ucf), (x_pp, y_pp), (x_alph, y_alph), (x_mf, y_mf), (x_slim,y_slim)]\n",
    "#maps = [(x_cf,y_cf), (x_knn,y_knn), (x_apr,y_apr), (x_slb, y_slb), (x_ucf, y_ucf)]\n",
    "y_max, c = max_rec_map(maps)\n",
    "maps = [(x_cf,y_max,c)]\n",
    "multiplot_frame2(maps, ymax=0.2)"
   ]
  },
  {
   "cell_type": "code",
   "execution_count": 232,
   "metadata": {},
   "outputs": [
    {
     "data": {
      "image/png": "[encoded data removed]",
      "text/plain": [
       "<Figure size 2400x480 with 1 Axes>"
      ]
     },
     "metadata": {},
     "output_type": "display_data"
    }
   ],
   "source": [
    "maps = [(x_cf,y_cf), (x_knn,y_knn), (x_apr,y_apr), (x_slb, y_slb), (x_ucf, y_ucf), (x_pp, y_pp), (x_alph, y_alph)]#, (x_mf, y_mf), (x_slim,y_slim)]\n",
    "#maps = [(x_cf,y_cf), (x_knn,y_knn), (x_apr,y_apr), (x_slb, y_slb), (x_ucf, y_ucf)]\n",
    "y_max, c = max_rec_map(maps)\n",
    "maps = [(x_cf,y_max,c)]\n",
    "multiplot_frame2(maps, ymax=0.3)"
   ]
  },
  {
   "cell_type": "code",
   "execution_count": 189,
   "metadata": {},
   "outputs": [
    {
     "data": {
      "image/png": "[encoded data removed]",
      "text/plain": [
       "<Figure size 2400x480 with 1 Axes>"
      ]
     },
     "metadata": {},
     "output_type": "display_data"
    }
   ],
   "source": [
    "maps = [(x_cf,y_cf), (x_knn,y_knn), (x_apr,y_apr), (x_slb, y_slb), (x_ucf, y_ucf), (x_pp, y_pp), (x_alph, y_alph), (x_slim,y_slim)]\n",
    "#maps = [(x_cf,y_cf), (x_knn,y_knn), (x_apr,y_apr), (x_slb, y_slb), (x_ucf, y_ucf)]\n",
    "y_max, c = max_rec_map(maps)\n",
    "maps = [(x_cf,y_max,c)]\n",
    "multiplot_frame2(maps, ymax=0.6)"
   ]
  },
  {
   "cell_type": "code",
   "execution_count": 63,
   "metadata": {
    "scrolled": true
   },
   "outputs": [
    {
     "name": "stdout",
     "output_type": "stream",
     "text": [
      "EvaluatorHoldout: Processed 5002 ( 100.00% ) in 2.67 sec. Users per second: 1871\n"
     ]
    },
    {
     "data": {
      "text/plain": [
       "0.03492096280031698"
      ]
     },
     "execution_count": 63,
     "metadata": {},
     "output_type": "execute_result"
    }
   ],
   "source": [
    "result_eval, _ = evaluator_test.evaluateRecommender(rec1)\n",
    "result_eval[10]['MAP']"
   ]
  },
  {
   "cell_type": "code",
   "execution_count": 65,
   "metadata": {},
   "outputs": [
    {
     "name": "stdout",
     "output_type": "stream",
     "text": [
      "EvaluatorHoldout: Processed 5002 ( 100.00% ) in 2.94 sec. Users per second: 1704\n"
     ]
    },
    {
     "data": {
      "text/plain": [
       "0.05483607952006887"
      ]
     },
     "execution_count": 65,
     "metadata": {},
     "output_type": "execute_result"
    }
   ],
   "source": [
    "result_eval, _ = evaluator_test.evaluateRecommender(rec_elasticnet)\n",
    "result_eval[10]['MAP']"
   ]
  },
  {
   "cell_type": "code",
   "execution_count": 19,
   "metadata": {
    "scrolled": false
   },
   "outputs": [
    {
     "name": "stdout",
     "output_type": "stream",
     "text": [
      "EvaluatorHoldout: Processed 5002 ( 100.00% ) in 2.67 sec. Users per second: 1871\n"
     ]
    },
    {
     "data": {
      "text/plain": [
       "0.06227232563764613"
      ]
     },
     "execution_count": 19,
     "metadata": {},
     "output_type": "execute_result"
    }
   ],
   "source": [
    "result_eval, _ = evaluator_test.evaluateRecommender(recommender_apr)\n",
    "result_eval[10]['MAP']"
   ]
  },
  {
   "cell_type": "markdown",
   "metadata": {},
   "source": [
    "---"
   ]
  },
  {
   "cell_type": "markdown",
   "metadata": {},
   "source": [
    "#### Testing the `filter_URM_test_by_range` function"
   ]
  },
  {
   "cell_type": "code",
   "execution_count": 7,
   "metadata": {},
   "outputs": [],
   "source": [
    "from DataParser import DataParser\n",
    "import numpy as np\n",
    "import pandas as pd\n",
    "import scipy.sparse as sp\n",
    "\n",
    "from Base.Evaluation.Evaluator import EvaluatorHoldout\n",
    "from Data_manager.split_functions.split_train_validation_random_holdout import \\\n",
    "split_train_in_two_percentage_global_sample"
   ]
  },
  {
   "cell_type": "code",
   "execution_count": 8,
   "metadata": {},
   "outputs": [
    {
     "name": "stdout",
     "output_type": "stream",
     "text": [
      "Warning: 42 (0.53 %) of 7947 users have no train items\n",
      "Warning: 2945 (37.06 %) of 7947 users have no sampled items\n"
     ]
    }
   ],
   "source": [
    "seed = 1024\n",
    "parser = DataParser()\n",
    "URM_train, URM_test = split_train_in_two_percentage_global_sample(parser.get_URM_all(),train_percentage=0.85, seed=seed)"
   ]
  },
  {
   "cell_type": "code",
   "execution_count": 9,
   "metadata": {},
   "outputs": [
    {
     "name": "stdout",
     "output_type": "stream",
     "text": [
      "Warning: the URM_test filtered in (1, 2) has 335 of 5002 total users in the original URM_test. (0.07)\n"
     ]
    }
   ],
   "source": [
    "new_urm_test = parser.filter_URM_test_by_range(URM_train, URM_test, filter_range=(1,2))"
   ]
  },
  {
   "cell_type": "code",
   "execution_count": 10,
   "metadata": {},
   "outputs": [
    {
     "name": "stdout",
     "output_type": "stream",
     "text": [
      "Warning: the URM_test filtered in (1000, -1) has 1 of 5002 total users in the original URM_test. (0.00)\n"
     ]
    }
   ],
   "source": [
    "new_urm_test = parser.filter_URM_test_by_range(URM_train, URM_test, filter_range=(1000,-1))"
   ]
  },
  {
   "cell_type": "code",
   "execution_count": 5,
   "metadata": {},
   "outputs": [
    {
     "ename": "AssertionError",
     "evalue": "There are no user in the selected range.",
     "output_type": "error",
     "traceback": [
      "\u001b[0;31m---------------------------------------------------------------------------\u001b[0m",
      "\u001b[0;31mAssertionError\u001b[0m                            Traceback (most recent call last)",
      "\u001b[0;32m<ipython-input-5-4181764ec21b>\u001b[0m in \u001b[0;36m<module>\u001b[0;34m\u001b[0m\n\u001b[0;32m----> 1\u001b[0;31m \u001b[0mnew_urm_test\u001b[0m \u001b[0;34m=\u001b[0m \u001b[0mparser\u001b[0m\u001b[0;34m.\u001b[0m\u001b[0mfilter_URM_test_by_range\u001b[0m\u001b[0;34m(\u001b[0m\u001b[0mURM_train\u001b[0m\u001b[0;34m,\u001b[0m \u001b[0mURM_test\u001b[0m\u001b[0;34m,\u001b[0m \u001b[0mfilter_range\u001b[0m\u001b[0;34m=\u001b[0m\u001b[0;34m(\u001b[0m\u001b[0;36m0\u001b[0m\u001b[0;34m,\u001b[0m\u001b[0;36m1\u001b[0m\u001b[0;34m)\u001b[0m\u001b[0;34m)\u001b[0m\u001b[0;34m\u001b[0m\u001b[0;34m\u001b[0m\u001b[0m\n\u001b[0m",
      "\u001b[0;32m~/challenge/RecSys-2020/DataParser.py\u001b[0m in \u001b[0;36mfilter_URM_test_by_range\u001b[0;34m(self, URM_train, URM_test, filter_range)\u001b[0m\n\u001b[1;32m    124\u001b[0m             \u001b[0mframe_test\u001b[0m \u001b[0;34m=\u001b[0m \u001b[0mframe_test\u001b[0m\u001b[0;34m.\u001b[0m\u001b[0mloc\u001b[0m\u001b[0;34m[\u001b[0m\u001b[0mframe_test\u001b[0m\u001b[0;34m[\u001b[0m\u001b[0;34m'num_inter'\u001b[0m\u001b[0;34m]\u001b[0m \u001b[0;34m<\u001b[0m \u001b[0mfilter_range\u001b[0m\u001b[0;34m[\u001b[0m\u001b[0;36m1\u001b[0m\u001b[0;34m]\u001b[0m\u001b[0;34m]\u001b[0m\u001b[0;34m\u001b[0m\u001b[0;34m\u001b[0m\u001b[0m\n\u001b[1;32m    125\u001b[0m \u001b[0;34m\u001b[0m\u001b[0m\n\u001b[0;32m--> 126\u001b[0;31m         \u001b[0;32massert\u001b[0m \u001b[0;32mnot\u001b[0m \u001b[0mframe_test\u001b[0m\u001b[0;34m.\u001b[0m\u001b[0mempty\u001b[0m\u001b[0;34m,\u001b[0m \u001b[0;34m\"There are no user in the selected range.\"\u001b[0m\u001b[0;34m\u001b[0m\u001b[0;34m\u001b[0m\u001b[0m\n\u001b[0m\u001b[1;32m    127\u001b[0m \u001b[0;34m\u001b[0m\u001b[0m\n\u001b[1;32m    128\u001b[0m         partial_urm_test = sp.csr_matrix((frame_test.rating, (frame_test.user_id, frame_test.item_id)),\n",
      "\u001b[0;31mAssertionError\u001b[0m: There are no user in the selected range."
     ]
    }
   ],
   "source": [
    "new_urm_test = parser.filter_URM_test_by_range(URM_train, URM_test, filter_range=(0,1))"
   ]
  },
  {
   "cell_type": "code",
   "execution_count": 6,
   "metadata": {},
   "outputs": [
    {
     "ename": "AssertionError",
     "evalue": "Invalid filter range.",
     "output_type": "error",
     "traceback": [
      "\u001b[0;31m---------------------------------------------------------------------------\u001b[0m",
      "\u001b[0;31mAssertionError\u001b[0m                            Traceback (most recent call last)",
      "\u001b[0;32m<ipython-input-6-8e63080189f9>\u001b[0m in \u001b[0;36m<module>\u001b[0;34m\u001b[0m\n\u001b[0;32m----> 1\u001b[0;31m \u001b[0mnew_urm_test\u001b[0m \u001b[0;34m=\u001b[0m \u001b[0mparser\u001b[0m\u001b[0;34m.\u001b[0m\u001b[0mfilter_URM_test_by_range\u001b[0m\u001b[0;34m(\u001b[0m\u001b[0mURM_train\u001b[0m\u001b[0;34m,\u001b[0m \u001b[0mURM_test\u001b[0m\u001b[0;34m,\u001b[0m \u001b[0mfilter_range\u001b[0m\u001b[0;34m=\u001b[0m\u001b[0;34m(\u001b[0m\u001b[0;36m1\u001b[0m\u001b[0;34m,\u001b[0m\u001b[0;36m1\u001b[0m\u001b[0;34m)\u001b[0m\u001b[0;34m)\u001b[0m\u001b[0;34m\u001b[0m\u001b[0;34m\u001b[0m\u001b[0m\n\u001b[0m",
      "\u001b[0;32m~/challenge/RecSys-2020/DataParser.py\u001b[0m in \u001b[0;36mfilter_URM_test_by_range\u001b[0;34m(self, URM_train, URM_test, filter_range)\u001b[0m\n\u001b[1;32m    106\u001b[0m         \u001b[0mset\u001b[0m \u001b[0mmax\u001b[0m \u001b[0;34m=\u001b[0m \u001b[0;34m-\u001b[0m\u001b[0;36m1\u001b[0m \u001b[0mto\u001b[0m \u001b[0mspecify\u001b[0m \u001b[0man\u001b[0m \u001b[0munbounded\u001b[0m \u001b[0mrange\u001b[0m\u001b[0;34m\u001b[0m\u001b[0;34m\u001b[0m\u001b[0m\n\u001b[1;32m    107\u001b[0m         \"\"\"\n\u001b[0;32m--> 108\u001b[0;31m         \u001b[0;32massert\u001b[0m \u001b[0mfilter_range\u001b[0m\u001b[0;34m[\u001b[0m\u001b[0;36m0\u001b[0m\u001b[0;34m]\u001b[0m \u001b[0;34m>=\u001b[0m \u001b[0;36m0\u001b[0m \u001b[0;32mand\u001b[0m \u001b[0;34m(\u001b[0m\u001b[0mfilter_range\u001b[0m\u001b[0;34m[\u001b[0m\u001b[0;36m1\u001b[0m\u001b[0;34m]\u001b[0m \u001b[0;34m>\u001b[0m \u001b[0mfilter_range\u001b[0m\u001b[0;34m[\u001b[0m\u001b[0;36m0\u001b[0m\u001b[0;34m]\u001b[0m \u001b[0;32mor\u001b[0m \u001b[0mfilter_range\u001b[0m\u001b[0;34m[\u001b[0m\u001b[0;36m1\u001b[0m\u001b[0;34m]\u001b[0m \u001b[0;34m==\u001b[0m \u001b[0;34m-\u001b[0m\u001b[0;36m1\u001b[0m\u001b[0;34m)\u001b[0m\u001b[0;34m,\u001b[0m \u001b[0;34m\"Invalid filter range.\"\u001b[0m\u001b[0;34m\u001b[0m\u001b[0;34m\u001b[0m\u001b[0m\n\u001b[0m\u001b[1;32m    109\u001b[0m         \u001b[0mmat\u001b[0m \u001b[0;34m=\u001b[0m \u001b[0mURM_train\u001b[0m\u001b[0;34m.\u001b[0m\u001b[0mtocoo\u001b[0m\u001b[0;34m(\u001b[0m\u001b[0;34m)\u001b[0m\u001b[0;34m\u001b[0m\u001b[0;34m\u001b[0m\u001b[0m\n\u001b[1;32m    110\u001b[0m         d = {'user_id': mat.row,\n",
      "\u001b[0;31mAssertionError\u001b[0m: Invalid filter range."
     ]
    }
   ],
   "source": [
    "new_urm_test = parser.filter_URM_test_by_range(URM_train, URM_test, filter_range=(1,1))"
   ]
  },
  {
   "cell_type": "code",
   "execution_count": 6,
   "metadata": {
    "scrolled": true
   },
   "outputs": [
    {
     "name": "stdout",
     "output_type": "stream",
     "text": [
      "Warning: the URM_test filtered in (0, -1) has 4949 of 4997 total users in the original URM_test. (0.99)\n"
     ]
    }
   ],
   "source": [
    "new_urm_test = parser.filter_URM_test_by_range(URM_train, URM_test, filter_range=(0,-1))"
   ]
  },
  {
   "cell_type": "code",
   "execution_count": 11,
   "metadata": {},
   "outputs": [
    {
     "name": "stdout",
     "output_type": "stream",
     "text": [
      "Warning: 42 (0.53 %) of 7947 users have no train items\n",
      "Warning: 2945 (37.06 %) of 7947 users have no sampled items\n"
     ]
    }
   ],
   "source": [
    "URM_train, URM_test = split_train_in_two_percentage_global_sample(parser.get_URM_all(), train_percentage=0.85, seed=seed)"
   ]
  },
  {
   "cell_type": "code",
   "execution_count": 12,
   "metadata": {},
   "outputs": [
    {
     "name": "stdout",
     "output_type": "stream",
     "text": [
      "Warning: the URM_test filtered in (0, 2) has 335 of 5002 total users in the original URM_test. (0.07)\n"
     ]
    }
   ],
   "source": [
    "n_URM_test = parser.filter_URM_test_by_range(URM_train, URM_test, (0,2))\n",
    "evaluator_test = EvaluatorHoldout(n_URM_test, cutoff_list=[10])"
   ]
  },
  {
   "cell_type": "code",
   "execution_count": 13,
   "metadata": {},
   "outputs": [
    {
     "name": "stdout",
     "output_type": "stream",
     "text": [
      "P3alphaRecommender: URM Detected 42 (0.53 %) cold users.\n",
      "P3alphaRecommender: URM Detected 1971 (7.59 %) cold items.\n"
     ]
    }
   ],
   "source": [
    "from GraphBased.P3alphaRecommender import P3alphaRecommender\n",
    "recommender_alph = P3alphaRecommender(URM_train)\n",
    "recommender_alph.fit(alpha=0.4905425214201532, topK=1000, normalize_similarity=False)\n"
   ]
  },
  {
   "cell_type": "code",
   "execution_count": 14,
   "metadata": {
    "scrolled": true
   },
   "outputs": [
    {
     "name": "stdout",
     "output_type": "stream",
     "text": [
      "EvaluatorHoldout: Processed 335 ( 100.00% ) in 0.18 sec. Users per second: 1812\n"
     ]
    },
    {
     "data": {
      "text/plain": [
       "({10: {'ROC_AUC': 0.09216417910447763,\n",
       "   'PRECISION': 0.013432835820895522,\n",
       "   'PRECISION_RECALL_MIN_DEN': 0.11343283582089553,\n",
       "   'RECALL': 0.11343283582089553,\n",
       "   'MAP': 0.06216003316749585,\n",
       "   'MRR': 0.07094290452499406,\n",
       "   'NDCG': 0.07657123750715114,\n",
       "   'F1': 0.02402107111501317,\n",
       "   'HIT_RATE': 0.13432835820895522,\n",
       "   'ARHR': 0.07168917318171049,\n",
       "   'NOVELTY': 0.005150645204157994,\n",
       "   'AVERAGE_POPULARITY': 0.0706862085966564,\n",
       "   'DIVERSITY_MEAN_INTER_LIST': 0.9837322370185003,\n",
       "   'DIVERSITY_HERFINDAHL': 0.9980795722878146,\n",
       "   'COVERAGE_ITEM': 0.0806929740134745,\n",
       "   'COVERAGE_ITEM_CORRECT': 0.001693936477382098,\n",
       "   'COVERAGE_USER': 0.0421542720523468,\n",
       "   'COVERAGE_USER_CORRECT': 0.005536680508367938,\n",
       "   'DIVERSITY_GINI': 0.05325935766195202,\n",
       "   'SHANNON_ENTROPY': 10.382128701432213}},\n",
       " 'CUTOFF: 10 - ROC_AUC: 0.0921642, PRECISION: 0.0134328, PRECISION_RECALL_MIN_DEN: 0.1134328, RECALL: 0.1134328, MAP: 0.0621600, MRR: 0.0709429, NDCG: 0.0765712, F1: 0.0240211, HIT_RATE: 0.1343284, ARHR: 0.0716892, NOVELTY: 0.0051506, AVERAGE_POPULARITY: 0.0706862, DIVERSITY_MEAN_INTER_LIST: 0.9837322, DIVERSITY_HERFINDAHL: 0.9980796, COVERAGE_ITEM: 0.0806930, COVERAGE_ITEM_CORRECT: 0.0016939, COVERAGE_USER: 0.0421543, COVERAGE_USER_CORRECT: 0.0055367, DIVERSITY_GINI: 0.0532594, SHANNON_ENTROPY: 10.3821287, \\n')"
      ]
     },
     "execution_count": 14,
     "metadata": {},
     "output_type": "execute_result"
    }
   ],
   "source": [
    "evaluator_test.evaluateRecommender(recommender_alph)"
   ]
  },
  {
   "cell_type": "code",
   "execution_count": 15,
   "metadata": {},
   "outputs": [
    {
     "name": "stdout",
     "output_type": "stream",
     "text": [
      "EvaluatorHoldout: Processed 335 ( 100.00% ) in 0.21 sec. Users per second: 1593\n"
     ]
    },
    {
     "data": {
      "text/plain": [
       "({10: {'ROC_AUC': 0.09183250414593701,\n",
       "   'PRECISION': 0.013432835820895522,\n",
       "   'PRECISION_RECALL_MIN_DEN': 0.11343283582089553,\n",
       "   'RECALL': 0.11343283582089553,\n",
       "   'MAP': 0.06147773039564084,\n",
       "   'MRR': 0.0700722577588249,\n",
       "   'NDCG': 0.07598219144700179,\n",
       "   'F1': 0.02402107111501317,\n",
       "   'HIT_RATE': 0.13432835820895522,\n",
       "   'ARHR': 0.07081852641554132,\n",
       "   'NOVELTY': 0.0052298198195768406,\n",
       "   'AVERAGE_POPULARITY': 0.054666308099143954,\n",
       "   'DIVERSITY_MEAN_INTER_LIST': 0.98584502636518,\n",
       "   'DIVERSITY_HERFINDAHL': 0.9982902205390956,\n",
       "   'COVERAGE_ITEM': 0.0851973051010587,\n",
       "   'COVERAGE_ITEM_CORRECT': 0.001693936477382098,\n",
       "   'COVERAGE_USER': 0.0421542720523468,\n",
       "   'COVERAGE_USER_CORRECT': 0.005536680508367938,\n",
       "   'DIVERSITY_GINI': 0.0588675884513374,\n",
       "   'SHANNON_ENTROPY': 10.538661194079546}},\n",
       " 'CUTOFF: 10 - ROC_AUC: 0.0918325, PRECISION: 0.0134328, PRECISION_RECALL_MIN_DEN: 0.1134328, RECALL: 0.1134328, MAP: 0.0614777, MRR: 0.0700723, NDCG: 0.0759822, F1: 0.0240211, HIT_RATE: 0.1343284, ARHR: 0.0708185, NOVELTY: 0.0052298, AVERAGE_POPULARITY: 0.0546663, DIVERSITY_MEAN_INTER_LIST: 0.9858450, DIVERSITY_HERFINDAHL: 0.9982902, COVERAGE_ITEM: 0.0851973, COVERAGE_ITEM_CORRECT: 0.0016939, COVERAGE_USER: 0.0421543, COVERAGE_USER_CORRECT: 0.0055367, DIVERSITY_GINI: 0.0588676, SHANNON_ENTROPY: 10.5386612, \\n')"
      ]
     },
     "execution_count": 15,
     "metadata": {},
     "output_type": "execute_result"
    }
   ],
   "source": [
    "recommender_alph.fit(alpha=0.7369378837701063, topK=433, normalize_similarity=False) #'topK': 999, 'alpha': 0.017149898389464017, 'normalize_similarity': True\n",
    "evaluator_test.evaluateRecommender(recommender_alph)"
   ]
  },
  {
   "cell_type": "code",
   "execution_count": null,
   "metadata": {},
   "outputs": [],
   "source": []
  }
 ],
 "metadata": {
  "kernelspec": {
   "display_name": "Python 3",
   "language": "python",
   "name": "python3"
  },
  "language_info": {
   "codemirror_mode": {
    "name": "ipython",
    "version": 3
   },
   "file_extension": ".py",
   "mimetype": "text/x-python",
   "name": "python",
   "nbconvert_exporter": "python",
   "pygments_lexer": "ipython3",
   "version": "3.6.10"
  }
 },
 "nbformat": 4,
 "nbformat_minor": 4
}
