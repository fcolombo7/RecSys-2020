{
 "cells": [
  {
   "cell_type": "code",
   "execution_count": 1,
   "metadata": {},
   "outputs": [],
   "source": [
    "from DataParser import DataParser\n",
    "import numpy as np\n",
    "import pandas as pd\n",
    "import scipy.sparse as sp\n",
    "\n",
    "from Base.Evaluation.Evaluator import EvaluatorHoldout\n",
    "from Data_manager.split_functions.split_train_validation_random_holdout import \\\n",
    "split_train_in_two_percentage_global_sample\n",
    "\n",
    "from KNN.ItemKNNCBFRecommender import ItemKNNCBFRecommender\n",
    "from Base.NonPersonalizedRecommender import TopPop\n",
    "from SLIM_ElasticNet.SLIMElasticNetRecommender import SLIMElasticNetRecommender\n",
    "import seaborn as sns\n",
    "import matplotlib.pyplot as plt\n",
    "from matplotlib.pyplot import figure\n",
    "\n",
    "plt.rcParams.update({'font.size': 40})\n",
    "\n",
    "%matplotlib inline"
   ]
  },
  {
   "cell_type": "code",
   "execution_count": 2,
   "metadata": {},
   "outputs": [
    {
     "name": "stdout",
     "output_type": "stream",
     "text": [
      "Warning: 42 (0.53 %) of 7947 users have no train items\n",
      "Warning: 2945 (37.06 %) of 7947 users have no sampled items\n"
     ]
    }
   ],
   "source": [
    "seed = 1024\n",
    "parser = DataParser()\n",
    "\n",
    "URM_all = parser.get_URM_all()\n",
    "ICM_all = parser.get_ICM_all()\n",
    "\n",
    "URM_train, URM_test = split_train_in_two_percentage_global_sample(URM_all, train_percentage=0.85, seed=seed)\n",
    "\n",
    "evaluator_test = EvaluatorHoldout(URM_test, cutoff_list=[10])"
   ]
  },
  {
   "cell_type": "code",
   "execution_count": 3,
   "metadata": {},
   "outputs": [],
   "source": [
    "mat = URM_all.tocoo()\n",
    "d={'user_id':mat.row,\n",
    "   'item_id':mat.col,\n",
    "   'rating':mat.data}\n",
    "frame = pd.DataFrame(data=d)\n",
    "frame_n = frame.groupby(['user_id']).size().reset_index(name='num_inter')"
   ]
  },
  {
   "cell_type": "code",
   "execution_count": 4,
   "metadata": {},
   "outputs": [],
   "source": [
    "#frame_n.loc[frame_n['num_inter'] < 2]"
   ]
  },
  {
   "cell_type": "code",
   "execution_count": 5,
   "metadata": {},
   "outputs": [],
   "source": [
    "mat = URM_train.tocoo()\n",
    "d={'user_id':mat.row,\n",
    "   'item_id':mat.col,\n",
    "   'rating':mat.data}\n",
    "frame = pd.DataFrame(data=d)\n",
    "frame_train = frame.groupby(['user_id']).size().reset_index(name='num_inter')\n",
    "\n",
    "mat = URM_test.tocoo()\n",
    "d={'user_id':mat.row,\n",
    "   'item_id':mat.col,\n",
    "   'rating':mat.data}\n",
    "frame_test = pd.DataFrame(data=d)\n",
    "frame_join = frame_test.join(frame_train.set_index('user_id'), on='user_id')\n",
    "#frame_join"
   ]
  },
  {
   "cell_type": "code",
   "execution_count": 6,
   "metadata": {},
   "outputs": [],
   "source": [
    "def split_datasets(frame, size = 20):\n",
    "    max_value = frame['num_inter'].max()\n",
    "    frame_list=[]\n",
    "    start_value = 0\n",
    "    while start_value <= max_value:\n",
    "        end_value = start_value+size\n",
    "        sub_frame = frame_join.loc[(frame_join['num_inter'] >= start_value) & (frame_join['num_inter'] < end_value)].iloc[:,:3]\n",
    "        if not sub_frame.empty:\n",
    "            t = (start_value, end_value, sub_frame)\n",
    "        else:\n",
    "            t = (start_value, end_value, None)\n",
    "        frame_list.append(t)\n",
    "        start_value = end_value\n",
    "    return frame_list"
   ]
  },
  {
   "cell_type": "code",
   "execution_count": 45,
   "metadata": {},
   "outputs": [],
   "source": [
    "def compute_map_per_range(recommender, URM_test, range_size=20, limit=None):\n",
    "    map_list=[]\n",
    "    \n",
    "    URM_train = recommender.get_URM_train()\n",
    "    mat = URM_train.tocoo()\n",
    "    d={'user_id':mat.row,\n",
    "       'item_id':mat.col,\n",
    "       'rating':mat.data}\n",
    "    frame = pd.DataFrame(data=d)\n",
    "    frame_train = frame.groupby(['user_id']).size().reset_index(name='num_inter')\n",
    "\n",
    "    mat = URM_test.tocoo()\n",
    "    d={'user_id':mat.row,\n",
    "       'item_id':mat.col,\n",
    "       'rating':mat.data}\n",
    "    frame_test = pd.DataFrame(data=d)\n",
    "    frame_join = frame_test.join(frame_train.set_index('user_id'), on='user_id')\n",
    "    \n",
    "    frame_list = split_datasets(frame_join, range_size)\n",
    "    \n",
    "    for (start_value, end_value, sub_frame) in frame_list[:limit]:\n",
    "        if sub_frame is None:\n",
    "            frame_map = None\n",
    "            frame_len = None\n",
    "        else:\n",
    "            frame_len = len(sub_frame.user_id.unique())\n",
    "            partial_urm_test = sp.csr_matrix((sub_frame.rating, (sub_frame.user_id, sub_frame.item_id)), \n",
    "                              shape=URM_train.shape)\n",
    "            evaluator_test = EvaluatorHoldout(partial_urm_test, cutoff_list=[10])\n",
    "            result, _ = evaluator_test.evaluateRecommender(recommender)\n",
    "            frame_map = result[10]['MAP']\n",
    "        map_list.append((start_value, end_value, frame_map, frame_len))\n",
    "    \n",
    "    return map_list\n",
    "    "
   ]
  },
  {
   "cell_type": "code",
   "execution_count": 8,
   "metadata": {},
   "outputs": [],
   "source": [
    "def frame_to_plot(map_list):\n",
    "    x = []\n",
    "    y = []\n",
    "    z = []\n",
    "    for (low, high, val, support) in map_list:\n",
    "        x_val = str(low)+'-'+str(high)\n",
    "        if val is None:\n",
    "            #y.append(0)\n",
    "            continue\n",
    "        else:\n",
    "            y.append(val)\n",
    "        x.append(x_val)\n",
    "        z.append(support)\n",
    "    return x,y,z"
   ]
  },
  {
   "cell_type": "code",
   "execution_count": 9,
   "metadata": {},
   "outputs": [],
   "source": [
    "def plot_frame(x,y):\n",
    "    #figure(num=None, figsize=(100, 20), dpi=80, facecolor='w', edgecolor='k')\n",
    "    #igure(figsize=(50,20))\n",
    "    axes = plt.gca()\n",
    "    #axis_font = {'fontname':'Arial', 'size':'22'}\n",
    "    #axes.set_ylim([0,0.3])\n",
    "    #axes.tick_params(axis='both', labelsize='large')\n",
    "    plt.setp(axes.get_xticklabels(), rotation='vertical', fontsize=14)\n",
    "    \n",
    "    plt.bar(x, y) #, align='center'\n",
    "    plt.xticks(range(len(x)), x)"
   ]
  },
  {
   "cell_type": "code",
   "execution_count": 87,
   "metadata": {},
   "outputs": [],
   "source": [
    "def multiplot_frame(maps):\n",
    "    plt.style.use('seaborn-deep')\n",
    "    figure(num=None, figsize=(30, 6), dpi=80, facecolor='w', edgecolor='k')\n",
    "    axes = plt.gca()\n",
    "    axes.set_ylim([0,0.6])\n",
    "    clabel= 0\n",
    "    for x, y in maps:\n",
    "        plt.bar(range(len(x)), list(y), align='center', label = str(clabel))\n",
    "        clabel+=1\n",
    "    plt.legend()\n",
    "    plt.xticks(range(len(x)), list(list(x)))"
   ]
  },
  {
   "cell_type": "code",
   "execution_count": 108,
   "metadata": {},
   "outputs": [],
   "source": [
    "def multiplot_frame2(maps):\n",
    "    plt.style.use('seaborn-deep')\n",
    "    figure(num=None, figsize=(30, 6), dpi=80, facecolor='w', edgecolor='k')\n",
    "    axes = plt.gca()\n",
    "    axes.set_ylim([0,0.6])\n",
    "    clabel= 0\n",
    "    plt.bar(range(len(maps[0][0])), list(maps[0][1]), align='center')\n",
    "    clabel+=1\n",
    "    rects = axes.patches\n",
    "\n",
    "    # Make some labels.\n",
    "    labels = maps[0][2]\n",
    "\n",
    "    for rect, label in zip(rects, labels):\n",
    "        height = rect.get_height()\n",
    "        axes.text(rect.get_x() + rect.get_width()/2, height, label, ha='center', va='bottom')\n",
    "    plt.xticks(range(len(maps[0][0])), list(list(maps[0][0])))"
   ]
  },
  {
   "cell_type": "code",
   "execution_count": 129,
   "metadata": {},
   "outputs": [],
   "source": [
    "def max_rec_map(maps):\n",
    "    y_max=[(0,0) for x in range(len(x_mf))]\n",
    "    c=0\n",
    "    for _, y in maps:\n",
    "        for n, val in enumerate(y):\n",
    "            if val > y_max[n][0]:\n",
    "                y_max[n] = (val,c)\n",
    "        c+=1\n",
    "    y_max,c = zip(*y_max)\n",
    "    list(y_max)\n",
    "    c = [x for x in c]\n",
    "    #fill the name in the same order of appearance in the maps list\n",
    "    for n in range(len(c)):\n",
    "        if c[n]==0:\n",
    "            c[n]='itemCF'\n",
    "        elif c[n]==1:\n",
    "            c[n]='itemCBF'\n",
    "        elif c[n]==2:\n",
    "            c[n]='PageRankBB'\n",
    "        elif c[n]==3:\n",
    "            c[n]='SlimBPR'\n",
    "        elif c[n]==4:\n",
    "            c[n]='userCF'\n",
    "        elif c[n]==5:\n",
    "            c[n]='PageRankAA'\n",
    "    c = list(c)\n",
    "    return y_max, c"
   ]
  },
  {
   "cell_type": "code",
   "execution_count": 10,
   "metadata": {},
   "outputs": [
    {
     "name": "stdout",
     "output_type": "stream",
     "text": [
      "ItemKNNCBFRecommender: URM Detected 42 (0.53 %) cold users.\n",
      "ItemKNNCBFRecommender: URM Detected 1971 (7.59 %) cold items.\n",
      "Similarity column 25975 ( 100 % ), 4793.13 column/sec, elapsed time 0.09 min\n",
      "EvaluatorHoldout: Processed 5002 ( 100.00% ) in 2.69 sec. Users per second: 1863\n"
     ]
    }
   ],
   "source": [
    "rec1 = ItemKNNCBFRecommender(URM_train, ICM_all)\n",
    "rec1.fit(topK=40, shrink=1000, similarity='cosine', feature_weighting='BM25')\n",
    "result_eval, _ = evaluator_test.evaluateRecommender(rec1) "
   ]
  },
  {
   "cell_type": "code",
   "execution_count": 11,
   "metadata": {},
   "outputs": [
    {
     "name": "stdout",
     "output_type": "stream",
     "text": [
      "EvaluatorHoldout: Processed 4362 ( 100.00% ) in 2.23 sec. Users per second: 1952\n",
      "EvaluatorHoldout: Processed 368 ( 100.00% ) in 0.23 sec. Users per second: 1616\n",
      "EvaluatorHoldout: Processed 104 ( 100.00% ) in 0.08 sec. Users per second: 1284\n",
      "EvaluatorHoldout: Processed 41 ( 100.00% ) in 0.03 sec. Users per second: 1171\n",
      "EvaluatorHoldout: Processed 23 ( 100.00% ) in 0.02 sec. Users per second: 1000\n",
      "EvaluatorHoldout: Processed 19 ( 100.00% ) in 0.02 sec. Users per second: 1000\n",
      "EvaluatorHoldout: Processed 15 ( 100.00% ) in 0.02 sec. Users per second: 882\n",
      "EvaluatorHoldout: Processed 5 ( 100.00% ) in 0.01 sec. Users per second: 556\n",
      "EvaluatorHoldout: Processed 3 ( 100.00% ) in 0.01 sec. Users per second: 429\n",
      "EvaluatorHoldout: Processed 5 ( 100.00% ) in 0.01 sec. Users per second: 556\n",
      "EvaluatorHoldout: Processed 1 ( 100.00% ) in 0.00 sec. Users per second: 200\n",
      "EvaluatorHoldout: Processed 2 ( 100.00% ) in 0.01 sec. Users per second: 333\n"
     ]
    },
    {
     "name": "stderr",
     "output_type": "stream",
     "text": [
      "C:\\Users\\gio_d\\Documents\\Projects\\RecSys\\RecSys-2020\\Base\\Evaluation\\metrics.py:947: RuntimeWarning: invalid value encountered in double_scalars\n",
      "  self.diversity = diversity_cumulative/all_user_couples_count\n"
     ]
    },
    {
     "name": "stdout",
     "output_type": "stream",
     "text": [
      "EvaluatorHoldout: Processed 3 ( 100.00% ) in 0.01 sec. Users per second: 429\n",
      "EvaluatorHoldout: Processed 1 ( 100.00% ) in 0.01 sec. Users per second: 167\n",
      "EvaluatorHoldout: Processed 2 ( 100.00% ) in 0.01 sec. Users per second: 250\n",
      "EvaluatorHoldout: Processed 1 ( 100.00% ) in 0.01 sec. Users per second: 143\n",
      "EvaluatorHoldout: Processed 2 ( 100.00% ) in 0.01 sec. Users per second: 286\n",
      "EvaluatorHoldout: Processed 1 ( 100.00% ) in 0.01 sec. Users per second: 143\n",
      "EvaluatorHoldout: Processed 1 ( 100.00% ) in 0.00 sec. Users per second: 200\n",
      "EvaluatorHoldout: Processed 1 ( 100.00% ) in 0.01 sec. Users per second: 143\n"
     ]
    }
   ],
   "source": [
    "map_list_knn = compute_map_per_range(rec1, URM_test, range_size=30)\n",
    "x_knn,y_knn,_ = frame_to_plot(map_list_knn)\n",
    "frame_knn = pd.DataFrame({'range':x_knn, 'MAP':y_knn})\n",
    "#frame_knn"
   ]
  },
  {
   "cell_type": "code",
   "execution_count": 12,
   "metadata": {
    "scrolled": true
   },
   "outputs": [
    {
     "name": "stdout",
     "output_type": "stream",
     "text": [
      "SLIMElasticNetRecommender: URM Detected 42 (0.53 %) cold users.\n",
      "SLIMElasticNetRecommender: URM Detected 1971 (7.59 %) cold items.\n",
      "SLIMElasticNetRecommender: Processed 9406 ( 36.21% ) in 5.00 min. Items per second: 31.35\n",
      "SLIMElasticNetRecommender: Processed 19151 ( 73.73% ) in 10.00 min. Items per second: 31.92\n",
      "SLIMElasticNetRecommender: Processed 25975 ( 100.00% ) in 13.55 min. Items per second: 31.95\n"
     ]
    }
   ],
   "source": [
    "rec_elasticnet = SLIMElasticNetRecommender(URM_train)\n",
    "rec_elasticnet.fit(topK=120, l1_ratio=1e-5, alpha=0.066)\n"
   ]
  },
  {
   "cell_type": "code",
   "execution_count": 13,
   "metadata": {},
   "outputs": [
    {
     "name": "stdout",
     "output_type": "stream",
     "text": [
      "EvaluatorHoldout: Processed 4362 ( 100.00% ) in 2.44 sec. Users per second: 1787\n",
      "EvaluatorHoldout: Processed 368 ( 100.00% ) in 0.26 sec. Users per second: 1401\n",
      "EvaluatorHoldout: Processed 104 ( 100.00% ) in 0.09 sec. Users per second: 1118\n",
      "EvaluatorHoldout: Processed 41 ( 100.00% ) in 0.04 sec. Users per second: 1108\n",
      "EvaluatorHoldout: Processed 23 ( 100.00% ) in 0.02 sec. Users per second: 920\n",
      "EvaluatorHoldout: Processed 19 ( 100.00% ) in 0.03 sec. Users per second: 729\n",
      "EvaluatorHoldout: Processed 15 ( 100.00% ) in 0.02 sec. Users per second: 790\n",
      "EvaluatorHoldout: Processed 5 ( 100.00% ) in 0.01 sec. Users per second: 502\n",
      "EvaluatorHoldout: Processed 3 ( 100.00% ) in 0.01 sec. Users per second: 429\n",
      "EvaluatorHoldout: Processed 5 ( 100.00% ) in 0.01 sec. Users per second: 417\n",
      "EvaluatorHoldout: Processed 1 ( 100.00% ) in 0.01 sec. Users per second: 143\n",
      "EvaluatorHoldout: Processed 2 ( 100.00% ) in 0.01 sec. Users per second: 334\n"
     ]
    },
    {
     "name": "stderr",
     "output_type": "stream",
     "text": [
      "C:\\Users\\gio_d\\Documents\\Projects\\RecSys\\RecSys-2020\\Base\\Evaluation\\metrics.py:947: RuntimeWarning: invalid value encountered in double_scalars\n",
      "  self.diversity = diversity_cumulative/all_user_couples_count\n"
     ]
    },
    {
     "name": "stdout",
     "output_type": "stream",
     "text": [
      "EvaluatorHoldout: Processed 3 ( 100.00% ) in 0.01 sec. Users per second: 375\n",
      "EvaluatorHoldout: Processed 1 ( 100.00% ) in 0.00 sec. Users per second: 200\n",
      "EvaluatorHoldout: Processed 2 ( 100.00% ) in 0.01 sec. Users per second: 286\n",
      "EvaluatorHoldout: Processed 1 ( 100.00% ) in 0.00 sec. Users per second: 200\n",
      "EvaluatorHoldout: Processed 2 ( 100.00% ) in 0.01 sec. Users per second: 286\n",
      "EvaluatorHoldout: Processed 1 ( 100.00% ) in 0.01 sec. Users per second: 167\n",
      "EvaluatorHoldout: Processed 1 ( 100.00% ) in 0.01 sec. Users per second: 167\n",
      "EvaluatorHoldout: Processed 1 ( 100.00% ) in 0.00 sec. Users per second: 200\n"
     ]
    }
   ],
   "source": [
    "mappone = compute_map_per_range(rec_elasticnet, URM_test, range_size=30)\n",
    "x_slim,y_slim,_ = frame_to_plot(mappone)"
   ]
  },
  {
   "cell_type": "code",
   "execution_count": 14,
   "metadata": {},
   "outputs": [
    {
     "name": "stdout",
     "output_type": "stream",
     "text": [
      "RP3betaRecommender: URM Detected 42 (0.53 %) cold users.\n",
      "RP3betaRecommender: URM Detected 1971 (7.59 %) cold items.\n"
     ]
    }
   ],
   "source": [
    "from GraphBased.RP3betaRecommender import RP3betaRecommender\n",
    "recommender_apr = RP3betaRecommender(URM_train)\n",
    "recommender_apr.fit(alpha=0.4530815441932864,  beta=0.008742088319964482, topK=104, normalize_similarity=False)"
   ]
  },
  {
   "cell_type": "code",
   "execution_count": 15,
   "metadata": {
    "scrolled": true
   },
   "outputs": [
    {
     "name": "stdout",
     "output_type": "stream",
     "text": [
      "EvaluatorHoldout: Processed 4362 ( 100.00% ) in 2.39 sec. Users per second: 1823\n",
      "EvaluatorHoldout: Processed 368 ( 100.00% ) in 0.22 sec. Users per second: 1706\n",
      "EvaluatorHoldout: Processed 104 ( 100.00% ) in 0.07 sec. Users per second: 1550\n",
      "EvaluatorHoldout: Processed 41 ( 100.00% ) in 0.03 sec. Users per second: 1321\n",
      "EvaluatorHoldout: Processed 23 ( 100.00% ) in 0.02 sec. Users per second: 1045\n",
      "EvaluatorHoldout: Processed 19 ( 100.00% ) in 0.02 sec. Users per second: 998\n",
      "EvaluatorHoldout: Processed 15 ( 100.00% ) in 0.01 sec. Users per second: 1000\n",
      "EvaluatorHoldout: Processed 5 ( 100.00% ) in 0.01 sec. Users per second: 624\n",
      "EvaluatorHoldout: Processed 3 ( 100.00% ) in 0.01 sec. Users per second: 500\n",
      "EvaluatorHoldout: Processed 5 ( 100.00% ) in 0.01 sec. Users per second: 625\n",
      "EvaluatorHoldout: Processed 1 ( 100.00% ) in 0.01 sec. Users per second: 166\n",
      "EvaluatorHoldout: Processed 2 ( 100.00% ) in 0.00 sec. Users per second: 400\n",
      "EvaluatorHoldout: Processed 3 ( 100.00% ) in 0.01 sec. Users per second: 429\n",
      "EvaluatorHoldout: Processed 1 ( 100.00% ) in 0.01 sec. Users per second: 200\n",
      "EvaluatorHoldout: Processed 2 ( 100.00% ) in 0.01 sec. Users per second: 286\n",
      "EvaluatorHoldout: Processed 1 ( 100.00% ) in 0.00 sec. Users per second: 200\n",
      "EvaluatorHoldout: Processed 2 ( 100.00% ) in 0.01 sec. Users per second: 333\n",
      "EvaluatorHoldout: Processed 1 ( 100.00% ) in 0.00 sec. Users per second: 200\n",
      "EvaluatorHoldout: Processed 1 ( 100.00% ) in 0.01 sec. Users per second: 143\n",
      "EvaluatorHoldout: Processed 1 ( 100.00% ) in 0.00 sec. Users per second: 200\n"
     ]
    }
   ],
   "source": [
    "list2=compute_map_per_range(recommender_apr, URM_test, range_size=30)\n",
    "x_apr,y_apr,_ = frame_to_plot(list2)\n",
    "#pd.DataFrame({'range':x, 'MAP':y})"
   ]
  },
  {
   "cell_type": "code",
   "execution_count": 123,
   "metadata": {},
   "outputs": [
    {
     "name": "stdout",
     "output_type": "stream",
     "text": [
      "P3alphaRecommender: URM Detected 42 (0.53 %) cold users.\n",
      "P3alphaRecommender: URM Detected 1971 (7.59 %) cold items.\n"
     ]
    }
   ],
   "source": [
    "from GraphBased.P3alphaRecommender import P3alphaRecommender\n",
    "recommender_alph = P3alphaRecommender(URM_train)\n",
    "recommender_alph.fit(alpha=0.4905425214201532, topK=1000, normalize_similarity=False)"
   ]
  },
  {
   "cell_type": "code",
   "execution_count": 124,
   "metadata": {},
   "outputs": [
    {
     "name": "stdout",
     "output_type": "stream",
     "text": [
      "EvaluatorHoldout: Processed 4362 ( 100.00% ) in 2.40 sec. Users per second: 1818\n",
      "EvaluatorHoldout: Processed 368 ( 100.00% ) in 0.26 sec. Users per second: 1389\n",
      "EvaluatorHoldout: Processed 104 ( 100.00% ) in 0.09 sec. Users per second: 1109\n",
      "EvaluatorHoldout: Processed 41 ( 100.00% ) in 0.04 sec. Users per second: 976\n",
      "EvaluatorHoldout: Processed 23 ( 100.00% ) in 0.03 sec. Users per second: 793\n",
      "EvaluatorHoldout: Processed 19 ( 100.00% ) in 0.03 sec. Users per second: 730\n",
      "EvaluatorHoldout: Processed 15 ( 100.00% ) in 0.02 sec. Users per second: 682\n",
      "EvaluatorHoldout: Processed 5 ( 100.00% ) in 0.01 sec. Users per second: 499\n",
      "EvaluatorHoldout: Processed 3 ( 100.00% ) in 0.01 sec. Users per second: 333\n",
      "EvaluatorHoldout: Processed 5 ( 100.00% ) in 0.01 sec. Users per second: 501\n",
      "EvaluatorHoldout: Processed 1 ( 100.00% ) in 0.01 sec. Users per second: 198\n",
      "EvaluatorHoldout: Processed 2 ( 100.00% ) in 0.01 sec. Users per second: 286\n"
     ]
    },
    {
     "name": "stderr",
     "output_type": "stream",
     "text": [
      "C:\\Users\\gio_d\\Documents\\Projects\\RecSys\\RecSys-2020\\Base\\Evaluation\\metrics.py:947: RuntimeWarning: invalid value encountered in double_scalars\n",
      "  self.diversity = diversity_cumulative/all_user_couples_count\n"
     ]
    },
    {
     "name": "stdout",
     "output_type": "stream",
     "text": [
      "EvaluatorHoldout: Processed 3 ( 100.00% ) in 0.01 sec. Users per second: 299\n",
      "EvaluatorHoldout: Processed 1 ( 100.00% ) in 0.01 sec. Users per second: 143\n",
      "EvaluatorHoldout: Processed 2 ( 100.00% ) in 0.01 sec. Users per second: 250\n",
      "EvaluatorHoldout: Processed 1 ( 100.00% ) in 0.01 sec. Users per second: 143\n",
      "EvaluatorHoldout: Processed 2 ( 100.00% ) in 0.01 sec. Users per second: 250\n",
      "EvaluatorHoldout: Processed 1 ( 100.00% ) in 0.01 sec. Users per second: 143\n",
      "EvaluatorHoldout: Processed 1 ( 100.00% ) in 0.01 sec. Users per second: 125\n",
      "EvaluatorHoldout: Processed 1 ( 100.00% ) in 0.01 sec. Users per second: 125\n"
     ]
    }
   ],
   "source": [
    "list_alph=compute_map_per_range(recommender_alph, URM_test, range_size=30)\n",
    "x_alph,y_alph,_= frame_to_plot(list_alph)"
   ]
  },
  {
   "cell_type": "code",
   "execution_count": 16,
   "metadata": {},
   "outputs": [
    {
     "name": "stdout",
     "output_type": "stream",
     "text": [
      "ItemKNNCFRecommender: URM Detected 42 (0.53 %) cold users.\n",
      "ItemKNNCFRecommender: URM Detected 1971 (7.59 %) cold items.\n",
      "Similarity column 25975 ( 100 % ), 6459.74 column/sec, elapsed time 0.07 min\n"
     ]
    }
   ],
   "source": [
    "from KNN.ItemKNNCFRecommender import ItemKNNCFRecommender\n",
    "#'topK': 967, 'shrink': 356, 'similarity': 'cosine', 'normalize': True\n",
    "recommender_cf_knn = ItemKNNCFRecommender(URM_train)\n",
    "recommender_cf_knn.fit(topK=967, shrink=356, similarity='cosine', normalize=True)"
   ]
  },
  {
   "cell_type": "code",
   "execution_count": 50,
   "metadata": {
    "scrolled": true
   },
   "outputs": [
    {
     "name": "stdout",
     "output_type": "stream",
     "text": [
      "EvaluatorHoldout: Processed 4362 ( 100.00% ) in 2.63 sec. Users per second: 1661\n",
      "EvaluatorHoldout: Processed 368 ( 100.00% ) in 0.30 sec. Users per second: 1247\n",
      "EvaluatorHoldout: Processed 104 ( 100.00% ) in 0.10 sec. Users per second: 1064\n",
      "EvaluatorHoldout: Processed 41 ( 100.00% ) in 0.05 sec. Users per second: 872\n",
      "EvaluatorHoldout: Processed 23 ( 100.00% ) in 0.03 sec. Users per second: 741\n",
      "EvaluatorHoldout: Processed 19 ( 100.00% ) in 0.03 sec. Users per second: 655\n",
      "EvaluatorHoldout: Processed 15 ( 100.00% ) in 0.02 sec. Users per second: 600\n",
      "EvaluatorHoldout: Processed 5 ( 100.00% ) in 0.01 sec. Users per second: 455\n",
      "EvaluatorHoldout: Processed 3 ( 100.00% ) in 0.01 sec. Users per second: 375\n",
      "EvaluatorHoldout: Processed 5 ( 100.00% ) in 0.01 sec. Users per second: 385\n",
      "EvaluatorHoldout: Processed 1 ( 100.00% ) in 0.01 sec. Users per second: 144\n",
      "EvaluatorHoldout: Processed 2 ( 100.00% ) in 0.01 sec. Users per second: 287\n",
      "EvaluatorHoldout: Processed 3 ( 100.00% ) in 0.01 sec. Users per second: 273\n",
      "EvaluatorHoldout: Processed 1 ( 100.00% ) in 0.01 sec. Users per second: 166\n",
      "EvaluatorHoldout: Processed 2 ( 100.00% ) in 0.01 sec. Users per second: 222\n",
      "EvaluatorHoldout: Processed 1 ( 100.00% ) in 0.01 sec. Users per second: 167\n",
      "EvaluatorHoldout: Processed 2 ( 100.00% ) in 0.01 sec. Users per second: 222\n",
      "EvaluatorHoldout: Processed 1 ( 100.00% ) in 0.01 sec. Users per second: 143\n",
      "EvaluatorHoldout: Processed 1 ( 100.00% ) in 0.01 sec. Users per second: 126\n",
      "EvaluatorHoldout: Processed 1 ( 100.00% ) in 0.01 sec. Users per second: 111\n"
     ]
    }
   ],
   "source": [
    "list_cf=compute_map_per_range(recommender_cf_knn, URM_test, range_size=30)\n",
    "x_cf,y_cf,z_cf = frame_to_plot(list_cf)"
   ]
  },
  {
   "cell_type": "code",
   "execution_count": 53,
   "metadata": {},
   "outputs": [
    {
     "name": "stdout",
     "output_type": "stream",
     "text": [
      "MatrixFactorization_BPR_Cython_Recommender: URM Detected 42 (0.53 %) cold users.\n",
      "MatrixFactorization_BPR_Cython_Recommender: URM Detected 1971 (7.59 %) cold items.\n",
      "MF_BPR: Processed 7944 ( 99.95% ) in 1.31 seconds. BPR loss 5.65E+01. Sample per second: 6060\n",
      "MF_BPR: Epoch 1 of 220. Elapsed time 0.46 sec\n",
      "MF_BPR: Processed 7944 ( 99.95% ) in 0.72 seconds. BPR loss 8.70E+02. Sample per second: 10996\n",
      "MF_BPR: Epoch 2 of 220. Elapsed time 0.88 sec\n",
      "MF_BPR: Processed 7944 ( 99.95% ) in 1.14 seconds. BPR loss 3.61E+03. Sample per second: 6976\n",
      "MF_BPR: Epoch 3 of 220. Elapsed time 1.29 sec\n",
      "MF_BPR: Processed 7944 ( 99.95% ) in 0.55 seconds. BPR loss 8.30E+03. Sample per second: 14346\n",
      "MF_BPR: Epoch 4 of 220. Elapsed time 1.71 sec\n",
      "MF_BPR: Processed 7944 ( 99.95% ) in 0.96 seconds. BPR loss 1.59E+04. Sample per second: 8272\n",
      "MF_BPR: Epoch 5 of 220. Elapsed time 2.11 sec\n",
      "MF_BPR: Processed 7944 ( 99.95% ) in 1.39 seconds. BPR loss 2.57E+04. Sample per second: 5711\n",
      "MF_BPR: Epoch 6 of 220. Elapsed time 2.54 sec\n",
      "MF_BPR: Processed 7944 ( 99.95% ) in 0.80 seconds. BPR loss 3.86E+04. Sample per second: 9911\n",
      "MF_BPR: Epoch 7 of 220. Elapsed time 2.95 sec\n",
      "MF_BPR: Processed 7944 ( 99.95% ) in 1.23 seconds. BPR loss 5.05E+04. Sample per second: 6458\n",
      "MF_BPR: Epoch 8 of 220. Elapsed time 3.38 sec\n",
      "MF_BPR: Processed 7944 ( 99.95% ) in 0.65 seconds. BPR loss 6.91E+04. Sample per second: 12282\n",
      "MF_BPR: Epoch 9 of 220. Elapsed time 3.80 sec\n",
      "MF_BPR: Processed 7944 ( 99.95% ) in 1.05 seconds. BPR loss 8.72E+04. Sample per second: 7547\n",
      "MF_BPR: Epoch 10 of 220. Elapsed time 4.20 sec\n",
      "MF_BPR: Processed 7944 ( 99.95% ) in 0.47 seconds. BPR loss 1.09E+05. Sample per second: 16864\n",
      "MF_BPR: Epoch 11 of 220. Elapsed time 4.62 sec\n",
      "MF_BPR: Processed 7944 ( 99.95% ) in 0.89 seconds. BPR loss 1.29E+05. Sample per second: 8968\n",
      "MF_BPR: Epoch 12 of 220. Elapsed time 5.04 sec\n",
      "MF_BPR: Processed 7944 ( 99.95% ) in 1.32 seconds. BPR loss 1.57E+05. Sample per second: 6032\n",
      "MF_BPR: Epoch 13 of 220. Elapsed time 5.47 sec\n",
      "MF_BPR: Processed 7944 ( 99.95% ) in 0.72 seconds. BPR loss 1.78E+05. Sample per second: 10959\n",
      "MF_BPR: Epoch 14 of 220. Elapsed time 5.88 sec\n",
      "MF_BPR: Processed 7944 ( 99.95% ) in 1.14 seconds. BPR loss 2.05E+05. Sample per second: 6971\n",
      "MF_BPR: Epoch 15 of 220. Elapsed time 6.29 sec\n",
      "MF_BPR: Processed 7944 ( 99.95% ) in 0.53 seconds. BPR loss 2.42E+05. Sample per second: 14984\n",
      "MF_BPR: Epoch 16 of 220. Elapsed time 6.68 sec\n",
      "MF_BPR: Processed 7944 ( 99.95% ) in 0.94 seconds. BPR loss 2.60E+05. Sample per second: 8446\n",
      "MF_BPR: Epoch 17 of 220. Elapsed time 7.09 sec\n",
      "MF_BPR: Processed 7944 ( 99.95% ) in 1.36 seconds. BPR loss 2.92E+05. Sample per second: 5842\n",
      "MF_BPR: Epoch 18 of 220. Elapsed time 7.51 sec\n",
      "MF_BPR: Processed 7944 ( 99.95% ) in 0.76 seconds. BPR loss 3.29E+05. Sample per second: 10432\n",
      "MF_BPR: Epoch 19 of 220. Elapsed time 7.91 sec\n",
      "MF_BPR: Processed 7944 ( 99.95% ) in 1.17 seconds. BPR loss 3.48E+05. Sample per second: 6803\n",
      "MF_BPR: Epoch 20 of 220. Elapsed time 8.32 sec\n",
      "MF_BPR: Processed 7944 ( 99.95% ) in 0.55 seconds. BPR loss 3.99E+05. Sample per second: 14377\n",
      "MF_BPR: Epoch 21 of 220. Elapsed time 8.70 sec\n",
      "MF_BPR: Processed 7944 ( 99.95% ) in 0.97 seconds. BPR loss 4.28E+05. Sample per second: 8178\n",
      "MF_BPR: Epoch 22 of 220. Elapsed time 9.12 sec\n",
      "MF_BPR: Processed 7944 ( 99.95% ) in 1.41 seconds. BPR loss 4.56E+05. Sample per second: 5653\n",
      "MF_BPR: Epoch 23 of 220. Elapsed time 9.56 sec\n",
      "MF_BPR: Processed 7944 ( 99.95% ) in 0.84 seconds. BPR loss 4.98E+05. Sample per second: 9511\n",
      "MF_BPR: Epoch 24 of 220. Elapsed time 9.99 sec\n",
      "MF_BPR: Processed 7944 ( 99.95% ) in 1.27 seconds. BPR loss 5.19E+05. Sample per second: 6259\n",
      "MF_BPR: Epoch 25 of 220. Elapsed time 10.42 sec\n",
      "MF_BPR: Processed 7944 ( 99.95% ) in 0.67 seconds. BPR loss 5.80E+05. Sample per second: 11905\n",
      "MF_BPR: Epoch 26 of 220. Elapsed time 10.82 sec\n",
      "MF_BPR: Processed 7944 ( 99.95% ) in 1.10 seconds. BPR loss 6.04E+05. Sample per second: 7203\n",
      "MF_BPR: Epoch 27 of 220. Elapsed time 11.26 sec\n",
      "MF_BPR: Processed 7944 ( 99.95% ) in 0.51 seconds. BPR loss 6.52E+05. Sample per second: 15441\n",
      "MF_BPR: Epoch 28 of 220. Elapsed time 11.67 sec\n",
      "MF_BPR: Processed 7944 ( 99.95% ) in 0.90 seconds. BPR loss 6.82E+05. Sample per second: 8869\n",
      "MF_BPR: Epoch 29 of 220. Elapsed time 12.06 sec\n",
      "MF_BPR: Processed 7944 ( 99.95% ) in 1.32 seconds. BPR loss 6.83E+05. Sample per second: 6006\n",
      "MF_BPR: Epoch 30 of 220. Elapsed time 12.47 sec\n",
      "MF_BPR: Processed 7944 ( 99.95% ) in 0.72 seconds. BPR loss 7.40E+05. Sample per second: 11015\n",
      "MF_BPR: Epoch 31 of 220. Elapsed time 12.87 sec\n",
      "MF_BPR: Processed 7944 ( 99.95% ) in 1.14 seconds. BPR loss 7.91E+05. Sample per second: 6965\n",
      "MF_BPR: Epoch 32 of 220. Elapsed time 13.29 sec\n",
      "MF_BPR: Processed 7944 ( 99.95% ) in 0.55 seconds. BPR loss 8.26E+05. Sample per second: 14516\n",
      "MF_BPR: Epoch 33 of 220. Elapsed time 13.70 sec\n",
      "MF_BPR: Processed 7944 ( 99.95% ) in 0.94 seconds. BPR loss 8.26E+05. Sample per second: 8417\n",
      "MF_BPR: Epoch 34 of 220. Elapsed time 14.10 sec\n",
      "MF_BPR: Processed 7944 ( 99.95% ) in 1.35 seconds. BPR loss 8.65E+05. Sample per second: 5871\n",
      "MF_BPR: Epoch 35 of 220. Elapsed time 14.51 sec\n",
      "MF_BPR: Processed 7944 ( 99.95% ) in 0.74 seconds. BPR loss 9.17E+05. Sample per second: 10712\n",
      "MF_BPR: Epoch 36 of 220. Elapsed time 14.89 sec\n",
      "MF_BPR: Processed 7944 ( 99.95% ) in 1.13 seconds. BPR loss 9.35E+05. Sample per second: 7041\n",
      "MF_BPR: Epoch 37 of 220. Elapsed time 15.28 sec\n",
      "MF_BPR: Processed 7944 ( 99.95% ) in 0.54 seconds. BPR loss 9.66E+05. Sample per second: 14749\n",
      "MF_BPR: Epoch 38 of 220. Elapsed time 15.69 sec\n",
      "MF_BPR: Processed 7944 ( 99.95% ) in 0.93 seconds. BPR loss 1.04E+06. Sample per second: 8533\n",
      "MF_BPR: Epoch 39 of 220. Elapsed time 16.08 sec\n",
      "MF_BPR: Processed 7944 ( 99.95% ) in 1.33 seconds. BPR loss 1.06E+06. Sample per second: 5993\n",
      "MF_BPR: Epoch 40 of 220. Elapsed time 16.48 sec\n",
      "MF_BPR: Processed 7944 ( 99.95% ) in 0.72 seconds. BPR loss 1.07E+06. Sample per second: 10963\n",
      "MF_BPR: Epoch 41 of 220. Elapsed time 16.88 sec\n",
      "MF_BPR: Processed 7944 ( 99.95% ) in 1.12 seconds. BPR loss 1.10E+06. Sample per second: 7074\n",
      "MF_BPR: Epoch 42 of 220. Elapsed time 17.27 sec\n",
      "MF_BPR: Processed 7944 ( 99.95% ) in 0.52 seconds. BPR loss 1.17E+06. Sample per second: 15360\n",
      "MF_BPR: Epoch 43 of 220. Elapsed time 17.67 sec\n",
      "MF_BPR: Processed 7944 ( 99.95% ) in 0.90 seconds. BPR loss 1.14E+06. Sample per second: 8803\n",
      "MF_BPR: Epoch 44 of 220. Elapsed time 18.05 sec\n",
      "MF_BPR: Processed 7944 ( 99.95% ) in 1.29 seconds. BPR loss 1.21E+06. Sample per second: 6173\n",
      "MF_BPR: Epoch 45 of 220. Elapsed time 18.44 sec\n",
      "MF_BPR: Processed 7944 ( 99.95% ) in 0.69 seconds. BPR loss 1.24E+06. Sample per second: 11559\n",
      "MF_BPR: Epoch 46 of 220. Elapsed time 18.84 sec\n",
      "MF_BPR: Processed 7944 ( 99.95% ) in 1.07 seconds. BPR loss 1.23E+06. Sample per second: 7432\n",
      "MF_BPR: Epoch 47 of 220. Elapsed time 19.22 sec\n",
      "MF_BPR: Processed 7944 ( 99.95% ) in 0.45 seconds. BPR loss 1.26E+06. Sample per second: 17841\n",
      "MF_BPR: Epoch 48 of 220. Elapsed time 19.60 sec\n",
      "MF_BPR: Processed 7944 ( 99.95% ) in 0.84 seconds. BPR loss 1.34E+06. Sample per second: 9497\n",
      "MF_BPR: Epoch 49 of 220. Elapsed time 19.99 sec\n",
      "MF_BPR: Processed 7944 ( 99.95% ) in 1.22 seconds. BPR loss 1.35E+06. Sample per second: 6506\n",
      "MF_BPR: Epoch 50 of 220. Elapsed time 20.37 sec\n",
      "MF_BPR: Processed 7944 ( 99.95% ) in 0.60 seconds. BPR loss 1.35E+06. Sample per second: 13204\n",
      "MF_BPR: Epoch 51 of 220. Elapsed time 20.75 sec\n",
      "MF_BPR: Processed 7944 ( 99.95% ) in 0.98 seconds. BPR loss 1.36E+06. Sample per second: 8140\n",
      "MF_BPR: Epoch 52 of 220. Elapsed time 21.13 sec\n",
      "MF_BPR: Processed 7944 ( 99.95% ) in 1.36 seconds. BPR loss 1.35E+06. Sample per second: 5824\n",
      "MF_BPR: Epoch 53 of 220. Elapsed time 21.52 sec\n",
      "MF_BPR: Processed 7944 ( 99.95% ) in 0.74 seconds. BPR loss 1.43E+06. Sample per second: 10700\n",
      "MF_BPR: Epoch 54 of 220. Elapsed time 21.89 sec\n",
      "MF_BPR: Processed 7944 ( 99.95% ) in 1.14 seconds. BPR loss 1.44E+06. Sample per second: 6979\n",
      "MF_BPR: Epoch 55 of 220. Elapsed time 22.29 sec\n",
      "MF_BPR: Processed 7944 ( 99.95% ) in 0.52 seconds. BPR loss 1.46E+06. Sample per second: 15395\n",
      "MF_BPR: Epoch 56 of 220. Elapsed time 22.67 sec\n",
      "MF_BPR: Processed 7944 ( 99.95% ) in 0.90 seconds. BPR loss 1.46E+06. Sample per second: 8844\n"
     ]
    },
    {
     "name": "stdout",
     "output_type": "stream",
     "text": [
      "MF_BPR: Epoch 57 of 220. Elapsed time 23.05 sec\n",
      "MF_BPR: Processed 7944 ( 99.95% ) in 1.30 seconds. BPR loss 1.51E+06. Sample per second: 6117\n",
      "MF_BPR: Epoch 58 of 220. Elapsed time 23.45 sec\n",
      "MF_BPR: Processed 7944 ( 99.95% ) in 0.68 seconds. BPR loss 1.56E+06. Sample per second: 11705\n",
      "MF_BPR: Epoch 59 of 220. Elapsed time 23.83 sec\n",
      "MF_BPR: Processed 7944 ( 99.95% ) in 1.04 seconds. BPR loss 1.57E+06. Sample per second: 7642\n",
      "MF_BPR: Epoch 60 of 220. Elapsed time 24.19 sec\n",
      "MF_BPR: Processed 7944 ( 99.95% ) in 0.41 seconds. BPR loss 1.58E+06. Sample per second: 19407\n",
      "MF_BPR: Epoch 61 of 220. Elapsed time 24.58 sec\n",
      "MF_BPR: Processed 7944 ( 99.95% ) in 0.79 seconds. BPR loss 1.61E+06. Sample per second: 10032\n",
      "MF_BPR: Epoch 62 of 220. Elapsed time 24.94 sec\n",
      "MF_BPR: Processed 7944 ( 99.95% ) in 1.16 seconds. BPR loss 1.64E+06. Sample per second: 6852\n",
      "MF_BPR: Epoch 63 of 220. Elapsed time 25.31 sec\n",
      "MF_BPR: Processed 7944 ( 99.95% ) in 0.55 seconds. BPR loss 1.66E+06. Sample per second: 14405\n",
      "MF_BPR: Epoch 64 of 220. Elapsed time 25.70 sec\n",
      "MF_BPR: Processed 7944 ( 99.95% ) in 0.92 seconds. BPR loss 1.66E+06. Sample per second: 8607\n",
      "MF_BPR: Epoch 65 of 220. Elapsed time 26.07 sec\n",
      "MF_BPR: Processed 7944 ( 99.95% ) in 1.31 seconds. BPR loss 1.64E+06. Sample per second: 6058\n",
      "MF_BPR: Epoch 66 of 220. Elapsed time 26.46 sec\n",
      "MF_BPR: Processed 7944 ( 99.95% ) in 0.69 seconds. BPR loss 1.72E+06. Sample per second: 11504\n",
      "MF_BPR: Epoch 67 of 220. Elapsed time 26.84 sec\n",
      "MF_BPR: Processed 7944 ( 99.95% ) in 1.05 seconds. BPR loss 1.73E+06. Sample per second: 7540\n",
      "MF_BPR: Epoch 68 of 220. Elapsed time 27.21 sec\n",
      "MF_BPR: Processed 7944 ( 99.95% ) in 0.44 seconds. BPR loss 1.76E+06. Sample per second: 17857\n",
      "MF_BPR: Epoch 69 of 220. Elapsed time 27.60 sec\n",
      "MF_BPR: Processed 7944 ( 99.95% ) in 0.81 seconds. BPR loss 1.81E+06. Sample per second: 9764\n",
      "MF_BPR: Epoch 70 of 220. Elapsed time 27.97 sec\n",
      "MF_BPR: Processed 7944 ( 99.95% ) in 1.18 seconds. BPR loss 1.76E+06. Sample per second: 6750\n",
      "MF_BPR: Epoch 71 of 220. Elapsed time 28.33 sec\n",
      "MF_BPR: Processed 7944 ( 99.95% ) in 0.57 seconds. BPR loss 1.80E+06. Sample per second: 13996\n",
      "MF_BPR: Epoch 72 of 220. Elapsed time 28.72 sec\n",
      "MF_BPR: Processed 7944 ( 99.95% ) in 0.93 seconds. BPR loss 1.84E+06. Sample per second: 8531\n",
      "MF_BPR: Epoch 73 of 220. Elapsed time 29.08 sec\n",
      "MF_BPR: Processed 7944 ( 99.95% ) in 1.29 seconds. BPR loss 1.84E+06. Sample per second: 6139\n",
      "MF_BPR: Epoch 74 of 220. Elapsed time 29.45 sec\n",
      "MF_BPR: Processed 7944 ( 99.95% ) in 0.68 seconds. BPR loss 1.87E+06. Sample per second: 11765\n",
      "MF_BPR: Epoch 75 of 220. Elapsed time 29.83 sec\n",
      "MF_BPR: Processed 7944 ( 99.95% ) in 1.08 seconds. BPR loss 1.86E+06. Sample per second: 7375\n",
      "MF_BPR: Epoch 76 of 220. Elapsed time 30.23 sec\n",
      "MF_BPR: Processed 7944 ( 99.95% ) in 0.44 seconds. BPR loss 1.90E+06. Sample per second: 17902\n",
      "MF_BPR: Epoch 77 of 220. Elapsed time 30.60 sec\n",
      "MF_BPR: Processed 7944 ( 99.95% ) in 0.84 seconds. BPR loss 1.87E+06. Sample per second: 9436\n",
      "MF_BPR: Epoch 78 of 220. Elapsed time 31.01 sec\n",
      "MF_BPR: Processed 7944 ( 99.95% ) in 1.24 seconds. BPR loss 1.96E+06. Sample per second: 6404\n",
      "MF_BPR: Epoch 79 of 220. Elapsed time 31.41 sec\n",
      "MF_BPR: Processed 7944 ( 99.95% ) in 0.63 seconds. BPR loss 1.96E+06. Sample per second: 12517\n",
      "MF_BPR: Epoch 80 of 220. Elapsed time 31.79 sec\n",
      "MF_BPR: Processed 7944 ( 99.95% ) in 1.01 seconds. BPR loss 1.94E+06. Sample per second: 7891\n",
      "MF_BPR: Epoch 81 of 220. Elapsed time 32.16 sec\n",
      "MF_BPR: Processed 7944 ( 99.95% ) in 0.38 seconds. BPR loss 1.94E+06. Sample per second: 20975\n",
      "MF_BPR: Epoch 82 of 220. Elapsed time 32.53 sec\n",
      "MF_BPR: Processed 7944 ( 99.95% ) in 0.75 seconds. BPR loss 1.95E+06. Sample per second: 10545\n",
      "MF_BPR: Epoch 83 of 220. Elapsed time 32.91 sec\n",
      "MF_BPR: Processed 7944 ( 99.95% ) in 1.12 seconds. BPR loss 2.00E+06. Sample per second: 7071\n",
      "MF_BPR: Epoch 84 of 220. Elapsed time 33.28 sec\n",
      "MF_BPR: Processed 7944 ( 99.95% ) in 0.52 seconds. BPR loss 2.05E+06. Sample per second: 15171\n",
      "MF_BPR: Epoch 85 of 220. Elapsed time 33.68 sec\n",
      "MF_BPR: Processed 7944 ( 99.95% ) in 0.91 seconds. BPR loss 2.00E+06. Sample per second: 8776\n",
      "MF_BPR: Epoch 86 of 220. Elapsed time 34.06 sec\n",
      "MF_BPR: Processed 7944 ( 99.95% ) in 1.29 seconds. BPR loss 2.03E+06. Sample per second: 6167\n",
      "MF_BPR: Epoch 87 of 220. Elapsed time 34.44 sec\n",
      "MF_BPR: Processed 7944 ( 99.95% ) in 0.67 seconds. BPR loss 2.01E+06. Sample per second: 11838\n",
      "MF_BPR: Epoch 88 of 220. Elapsed time 34.82 sec\n",
      "MF_BPR: Processed 7944 ( 99.95% ) in 1.03 seconds. BPR loss 2.05E+06. Sample per second: 7720\n",
      "MF_BPR: Epoch 89 of 220. Elapsed time 35.20 sec\n",
      "MF_BPR: Processed 7944 ( 99.95% ) in 0.40 seconds. BPR loss 2.04E+06. Sample per second: 19898\n",
      "MF_BPR: Epoch 90 of 220. Elapsed time 35.57 sec\n",
      "MF_BPR: Processed 7944 ( 99.95% ) in 0.79 seconds. BPR loss 2.08E+06. Sample per second: 10000\n",
      "MF_BPR: Epoch 91 of 220. Elapsed time 35.95 sec\n",
      "MF_BPR: Processed 7944 ( 99.95% ) in 1.16 seconds. BPR loss 2.11E+06. Sample per second: 6865\n",
      "MF_BPR: Epoch 92 of 220. Elapsed time 36.31 sec\n",
      "MF_BPR: Processed 7944 ( 99.95% ) in 0.53 seconds. BPR loss 2.08E+06. Sample per second: 15128\n",
      "MF_BPR: Epoch 93 of 220. Elapsed time 36.68 sec\n",
      "MF_BPR: Processed 7944 ( 99.95% ) in 0.90 seconds. BPR loss 2.10E+06. Sample per second: 8804\n",
      "MF_BPR: Epoch 94 of 220. Elapsed time 37.05 sec\n",
      "MF_BPR: Processed 7944 ( 99.95% ) in 1.29 seconds. BPR loss 2.14E+06. Sample per second: 6179\n",
      "MF_BPR: Epoch 95 of 220. Elapsed time 37.44 sec\n",
      "MF_BPR: Processed 7944 ( 99.95% ) in 0.66 seconds. BPR loss 2.12E+06. Sample per second: 12114\n",
      "MF_BPR: Epoch 96 of 220. Elapsed time 37.81 sec\n",
      "MF_BPR: Processed 7944 ( 99.95% ) in 1.04 seconds. BPR loss 2.09E+06. Sample per second: 7662\n",
      "MF_BPR: Epoch 97 of 220. Elapsed time 38.19 sec\n",
      "MF_BPR: Processed 7944 ( 99.95% ) in 0.42 seconds. BPR loss 2.11E+06. Sample per second: 19085\n",
      "MF_BPR: Epoch 98 of 220. Elapsed time 38.57 sec\n",
      "MF_BPR: Processed 7944 ( 99.95% ) in 0.78 seconds. BPR loss 2.16E+06. Sample per second: 10179\n",
      "MF_BPR: Epoch 99 of 220. Elapsed time 38.93 sec\n",
      "MF_BPR: Processed 7944 ( 99.95% ) in 1.16 seconds. BPR loss 2.19E+06. Sample per second: 6835\n",
      "MF_BPR: Epoch 100 of 220. Elapsed time 39.32 sec\n",
      "MF_BPR: Processed 7944 ( 99.95% ) in 0.53 seconds. BPR loss 2.18E+06. Sample per second: 15122\n",
      "MF_BPR: Epoch 101 of 220. Elapsed time 39.69 sec\n",
      "MF_BPR: Processed 7944 ( 99.95% ) in 0.90 seconds. BPR loss 2.20E+06. Sample per second: 8810\n",
      "MF_BPR: Epoch 102 of 220. Elapsed time 40.07 sec\n",
      "MF_BPR: Processed 7944 ( 99.95% ) in 1.30 seconds. BPR loss 2.16E+06. Sample per second: 6106\n",
      "MF_BPR: Epoch 103 of 220. Elapsed time 40.45 sec\n",
      "MF_BPR: Processed 7944 ( 99.95% ) in 0.67 seconds. BPR loss 2.22E+06. Sample per second: 11839\n",
      "MF_BPR: Epoch 104 of 220. Elapsed time 40.82 sec\n",
      "MF_BPR: Processed 7944 ( 99.95% ) in 1.03 seconds. BPR loss 2.24E+06. Sample per second: 7681\n",
      "MF_BPR: Epoch 105 of 220. Elapsed time 41.19 sec\n",
      "MF_BPR: Processed 7944 ( 99.95% ) in 0.40 seconds. BPR loss 2.19E+06. Sample per second: 20006\n",
      "MF_BPR: Epoch 106 of 220. Elapsed time 41.55 sec\n",
      "MF_BPR: Processed 7944 ( 99.95% ) in 0.76 seconds. BPR loss 2.23E+06. Sample per second: 10480\n",
      "MF_BPR: Epoch 107 of 220. Elapsed time 41.91 sec\n",
      "MF_BPR: Processed 7944 ( 99.95% ) in 1.12 seconds. BPR loss 2.21E+06. Sample per second: 7125\n",
      "MF_BPR: Epoch 108 of 220. Elapsed time 42.27 sec\n",
      "MF_BPR: Processed 7944 ( 99.95% ) in 0.48 seconds. BPR loss 2.24E+06. Sample per second: 16687\n",
      "MF_BPR: Epoch 109 of 220. Elapsed time 42.63 sec\n",
      "MF_BPR: Processed 7944 ( 99.95% ) in 0.83 seconds. BPR loss 2.26E+06. Sample per second: 9552\n",
      "MF_BPR: Epoch 110 of 220. Elapsed time 42.98 sec\n",
      "MF_BPR: Processed 7944 ( 99.95% ) in 1.20 seconds. BPR loss 2.25E+06. Sample per second: 6608\n",
      "MF_BPR: Epoch 111 of 220. Elapsed time 43.35 sec\n",
      "MF_BPR: Processed 7944 ( 99.95% ) in 0.56 seconds. BPR loss 2.24E+06. Sample per second: 14237\n",
      "MF_BPR: Epoch 112 of 220. Elapsed time 43.71 sec\n",
      "MF_BPR: Processed 7944 ( 99.95% ) in 0.93 seconds. BPR loss 2.25E+06. Sample per second: 8548\n",
      "MF_BPR: Epoch 113 of 220. Elapsed time 44.08 sec\n",
      "MF_BPR: Processed 7944 ( 99.95% ) in 1.29 seconds. BPR loss 2.30E+06. Sample per second: 6173\n",
      "MF_BPR: Epoch 114 of 220. Elapsed time 44.44 sec\n",
      "MF_BPR: Processed 7944 ( 99.95% ) in 0.64 seconds. BPR loss 2.22E+06. Sample per second: 12487\n"
     ]
    },
    {
     "name": "stdout",
     "output_type": "stream",
     "text": [
      "MF_BPR: Epoch 115 of 220. Elapsed time 44.79 sec\n",
      "MF_BPR: Processed 7944 ( 99.95% ) in 1.01 seconds. BPR loss 2.28E+06. Sample per second: 7883\n",
      "MF_BPR: Epoch 116 of 220. Elapsed time 45.16 sec\n",
      "MF_BPR: Processed 7944 ( 99.95% ) in 0.37 seconds. BPR loss 2.25E+06. Sample per second: 21403\n",
      "MF_BPR: Epoch 117 of 220. Elapsed time 45.52 sec\n",
      "MF_BPR: Processed 7944 ( 99.95% ) in 0.74 seconds. BPR loss 2.26E+06. Sample per second: 10699\n",
      "MF_BPR: Epoch 118 of 220. Elapsed time 45.89 sec\n",
      "MF_BPR: Processed 7944 ( 99.95% ) in 1.14 seconds. BPR loss 2.27E+06. Sample per second: 6956\n",
      "MF_BPR: Epoch 119 of 220. Elapsed time 46.30 sec\n",
      "MF_BPR: Processed 7944 ( 99.95% ) in 0.52 seconds. BPR loss 2.29E+06. Sample per second: 15395\n",
      "MF_BPR: Epoch 120 of 220. Elapsed time 46.67 sec\n",
      "MF_BPR: Processed 7944 ( 99.95% ) in 0.90 seconds. BPR loss 2.33E+06. Sample per second: 8832\n",
      "MF_BPR: Epoch 121 of 220. Elapsed time 47.05 sec\n",
      "MF_BPR: Processed 7944 ( 99.95% ) in 1.28 seconds. BPR loss 2.36E+06. Sample per second: 6212\n",
      "MF_BPR: Epoch 122 of 220. Elapsed time 47.43 sec\n",
      "MF_BPR: Processed 7944 ( 99.95% ) in 0.63 seconds. BPR loss 2.33E+06. Sample per second: 12662\n",
      "MF_BPR: Epoch 123 of 220. Elapsed time 47.78 sec\n",
      "MF_BPR: Processed 7944 ( 99.95% ) in 1.01 seconds. BPR loss 2.32E+06. Sample per second: 7881\n",
      "MF_BPR: Epoch 124 of 220. Elapsed time 48.16 sec\n",
      "MF_BPR: Processed 7944 ( 99.95% ) in 0.36 seconds. BPR loss 2.35E+06. Sample per second: 21777\n",
      "MF_BPR: Epoch 125 of 220. Elapsed time 48.52 sec\n",
      "MF_BPR: Processed 7944 ( 99.95% ) in 0.72 seconds. BPR loss 2.31E+06. Sample per second: 11013\n",
      "MF_BPR: Epoch 126 of 220. Elapsed time 48.87 sec\n",
      "MF_BPR: Processed 7944 ( 99.95% ) in 1.09 seconds. BPR loss 2.40E+06. Sample per second: 7316\n",
      "MF_BPR: Epoch 127 of 220. Elapsed time 49.24 sec\n",
      "MF_BPR: Processed 7944 ( 99.95% ) in 0.45 seconds. BPR loss 2.35E+06. Sample per second: 17513\n",
      "MF_BPR: Epoch 128 of 220. Elapsed time 49.61 sec\n",
      "MF_BPR: Processed 7944 ( 99.95% ) in 0.82 seconds. BPR loss 2.35E+06. Sample per second: 9706\n",
      "MF_BPR: Epoch 129 of 220. Elapsed time 49.97 sec\n",
      "MF_BPR: Processed 7944 ( 99.95% ) in 1.21 seconds. BPR loss 2.33E+06. Sample per second: 6584\n",
      "MF_BPR: Epoch 130 of 220. Elapsed time 50.36 sec\n",
      "MF_BPR: Processed 7944 ( 99.95% ) in 0.57 seconds. BPR loss 2.36E+06. Sample per second: 13996\n",
      "MF_BPR: Epoch 131 of 220. Elapsed time 50.72 sec\n",
      "MF_BPR: Processed 7944 ( 99.95% ) in 0.94 seconds. BPR loss 2.36E+06. Sample per second: 8418\n",
      "MF_BPR: Epoch 132 of 220. Elapsed time 51.10 sec\n",
      "MF_BPR: Processed 7944 ( 99.95% ) in 1.32 seconds. BPR loss 2.36E+06. Sample per second: 6011\n",
      "MF_BPR: Epoch 133 of 220. Elapsed time 51.47 sec\n",
      "MF_BPR: Processed 7944 ( 99.95% ) in 0.68 seconds. BPR loss 2.39E+06. Sample per second: 11637\n",
      "MF_BPR: Epoch 134 of 220. Elapsed time 51.84 sec\n",
      "MF_BPR: Processed 7944 ( 99.95% ) in 1.04 seconds. BPR loss 2.34E+06. Sample per second: 7635\n",
      "MF_BPR: Epoch 135 of 220. Elapsed time 52.19 sec\n",
      "MF_BPR: Processed 7944 ( 99.95% ) in 0.42 seconds. BPR loss 2.38E+06. Sample per second: 19015\n",
      "MF_BPR: Epoch 136 of 220. Elapsed time 52.57 sec\n",
      "MF_BPR: Processed 7944 ( 99.95% ) in 0.83 seconds. BPR loss 2.32E+06. Sample per second: 9557\n",
      "MF_BPR: Epoch 137 of 220. Elapsed time 52.98 sec\n",
      "MF_BPR: Processed 7944 ( 99.95% ) in 1.20 seconds. BPR loss 2.39E+06. Sample per second: 6642\n",
      "MF_BPR: Epoch 138 of 220. Elapsed time 53.35 sec\n",
      "MF_BPR: Processed 7944 ( 99.95% ) in 0.55 seconds. BPR loss 2.38E+06. Sample per second: 14371\n",
      "MF_BPR: Epoch 139 of 220. Elapsed time 53.70 sec\n",
      "MF_BPR: Processed 7944 ( 99.95% ) in 0.91 seconds. BPR loss 2.39E+06. Sample per second: 8752\n",
      "MF_BPR: Epoch 140 of 220. Elapsed time 54.06 sec\n",
      "MF_BPR: Processed 7944 ( 99.95% ) in 1.27 seconds. BPR loss 2.34E+06. Sample per second: 6253\n",
      "MF_BPR: Epoch 141 of 220. Elapsed time 54.42 sec\n",
      "MF_BPR: Processed 7944 ( 99.95% ) in 0.63 seconds. BPR loss 2.41E+06. Sample per second: 12636\n",
      "MF_BPR: Epoch 142 of 220. Elapsed time 54.78 sec\n",
      "MF_BPR: Processed 7944 ( 99.95% ) in 1.02 seconds. BPR loss 2.41E+06. Sample per second: 7827\n",
      "MF_BPR: Epoch 143 of 220. Elapsed time 55.17 sec\n",
      "MF_BPR: Processed 7944 ( 99.95% ) in 0.38 seconds. BPR loss 2.48E+06. Sample per second: 20807\n",
      "MF_BPR: Epoch 144 of 220. Elapsed time 55.53 sec\n",
      "MF_BPR: Processed 7944 ( 99.95% ) in 0.75 seconds. BPR loss 2.47E+06. Sample per second: 10600\n",
      "MF_BPR: Epoch 145 of 220. Elapsed time 55.90 sec\n",
      "MF_BPR: Processed 7944 ( 99.95% ) in 1.10 seconds. BPR loss 2.39E+06. Sample per second: 7204\n",
      "MF_BPR: Epoch 146 of 220. Elapsed time 56.27 sec\n",
      "MF_BPR: Processed 7944 ( 99.95% ) in 0.50 seconds. BPR loss 2.40E+06. Sample per second: 15980\n",
      "MF_BPR: Epoch 147 of 220. Elapsed time 56.65 sec\n",
      "MF_BPR: Processed 7944 ( 99.95% ) in 0.88 seconds. BPR loss 2.39E+06. Sample per second: 9016\n",
      "MF_BPR: Epoch 148 of 220. Elapsed time 57.03 sec\n",
      "MF_BPR: Processed 7944 ( 99.95% ) in 1.26 seconds. BPR loss 2.40E+06. Sample per second: 6281\n",
      "MF_BPR: Epoch 149 of 220. Elapsed time 57.42 sec\n",
      "MF_BPR: Processed 7944 ( 99.95% ) in 0.65 seconds. BPR loss 2.40E+06. Sample per second: 12248\n",
      "MF_BPR: Epoch 150 of 220. Elapsed time 57.80 sec\n",
      "MF_BPR: Processed 7944 ( 99.95% ) in 1.02 seconds. BPR loss 2.44E+06. Sample per second: 7792\n",
      "MF_BPR: Epoch 151 of 220. Elapsed time 58.17 sec\n",
      "MF_BPR: Processed 7944 ( 99.95% ) in 0.41 seconds. BPR loss 2.37E+06. Sample per second: 19460\n",
      "MF_BPR: Epoch 152 of 220. Elapsed time 58.56 sec\n",
      "MF_BPR: Processed 7944 ( 99.95% ) in 0.79 seconds. BPR loss 2.40E+06. Sample per second: 10086\n",
      "MF_BPR: Epoch 153 of 220. Elapsed time 58.94 sec\n",
      "MF_BPR: Processed 7944 ( 99.95% ) in 1.17 seconds. BPR loss 2.41E+06. Sample per second: 6804\n",
      "MF_BPR: Epoch 154 of 220. Elapsed time 59.32 sec\n",
      "MF_BPR: Processed 7944 ( 99.95% ) in 0.55 seconds. BPR loss 2.44E+06. Sample per second: 14533\n",
      "MF_BPR: Epoch 155 of 220. Elapsed time 59.70 sec\n",
      "MF_BPR: Processed 7944 ( 99.95% ) in 0.90 seconds. BPR loss 2.44E+06. Sample per second: 8801\n",
      "MF_BPR: Epoch 156 of 220. Elapsed time 1.00 min\n",
      "MF_BPR: Processed 7944 ( 99.95% ) in 1.28 seconds. BPR loss 2.40E+06. Sample per second: 6213\n",
      "MF_BPR: Epoch 157 of 220. Elapsed time 1.01 min\n",
      "MF_BPR: Processed 7944 ( 99.95% ) in 0.65 seconds. BPR loss 2.40E+06. Sample per second: 12315\n",
      "MF_BPR: Epoch 158 of 220. Elapsed time 1.01 min\n",
      "MF_BPR: Processed 7944 ( 99.95% ) in 1.01 seconds. BPR loss 2.42E+06. Sample per second: 7867\n",
      "MF_BPR: Epoch 159 of 220. Elapsed time 1.02 min\n",
      "MF_BPR: Processed 7944 ( 99.95% ) in 0.38 seconds. BPR loss 2.43E+06. Sample per second: 20739\n",
      "MF_BPR: Epoch 160 of 220. Elapsed time 1.03 min\n",
      "MF_BPR: Processed 7944 ( 99.95% ) in 0.76 seconds. BPR loss 2.41E+06. Sample per second: 10432\n",
      "MF_BPR: Epoch 161 of 220. Elapsed time 1.03 min\n",
      "MF_BPR: Processed 7944 ( 99.95% ) in 1.14 seconds. BPR loss 2.42E+06. Sample per second: 6985\n",
      "MF_BPR: Epoch 162 of 220. Elapsed time 1.04 min\n",
      "MF_BPR: Processed 7944 ( 99.95% ) in 0.52 seconds. BPR loss 2.45E+06. Sample per second: 15201\n",
      "MF_BPR: Epoch 163 of 220. Elapsed time 1.04 min\n",
      "MF_BPR: Processed 7944 ( 99.95% ) in 0.90 seconds. BPR loss 2.46E+06. Sample per second: 8838\n",
      "MF_BPR: Epoch 164 of 220. Elapsed time 1.05 min\n",
      "MF_BPR: Processed 7944 ( 99.95% ) in 1.26 seconds. BPR loss 2.45E+06. Sample per second: 6292\n",
      "MF_BPR: Epoch 165 of 220. Elapsed time 1.06 min\n",
      "MF_BPR: Processed 7944 ( 99.95% ) in 0.62 seconds. BPR loss 2.46E+06. Sample per second: 12762\n",
      "MF_BPR: Epoch 166 of 220. Elapsed time 1.06 min\n",
      "MF_BPR: Processed 7944 ( 99.95% ) in 1.00 seconds. BPR loss 2.48E+06. Sample per second: 7971\n",
      "MF_BPR: Epoch 167 of 220. Elapsed time 1.07 min\n",
      "MF_BPR: Processed 7944 ( 99.95% ) in 1.38 seconds. BPR loss 2.46E+06. Sample per second: 5738\n",
      "MF_BPR: Epoch 168 of 220. Elapsed time 1.08 min\n",
      "MF_BPR: Processed 7944 ( 99.95% ) in 0.76 seconds. BPR loss 2.48E+06. Sample per second: 10487\n",
      "MF_BPR: Epoch 169 of 220. Elapsed time 1.08 min\n",
      "MF_BPR: Processed 7944 ( 99.95% ) in 1.14 seconds. BPR loss 2.42E+06. Sample per second: 6981\n",
      "MF_BPR: Epoch 170 of 220. Elapsed time 1.09 min\n",
      "MF_BPR: Processed 7944 ( 99.95% ) in 0.50 seconds. BPR loss 2.44E+06. Sample per second: 15928\n",
      "MF_BPR: Epoch 171 of 220. Elapsed time 1.09 min\n",
      "MF_BPR: Processed 7944 ( 99.95% ) in 0.88 seconds. BPR loss 2.47E+06. Sample per second: 9041\n",
      "MF_BPR: Epoch 172 of 220. Elapsed time 1.10 min\n"
     ]
    },
    {
     "name": "stdout",
     "output_type": "stream",
     "text": [
      "MF_BPR: Processed 7944 ( 99.95% ) in 1.23 seconds. BPR loss 2.44E+06. Sample per second: 6439\n",
      "MF_BPR: Epoch 173 of 220. Elapsed time 1.11 min\n",
      "MF_BPR: Processed 7944 ( 99.95% ) in 0.60 seconds. BPR loss 2.45E+06. Sample per second: 13152\n",
      "MF_BPR: Epoch 174 of 220. Elapsed time 1.11 min\n",
      "MF_BPR: Processed 7944 ( 99.95% ) in 0.98 seconds. BPR loss 2.40E+06. Sample per second: 8096\n",
      "MF_BPR: Epoch 175 of 220. Elapsed time 1.12 min\n",
      "MF_BPR: Processed 7944 ( 99.95% ) in 1.36 seconds. BPR loss 2.44E+06. Sample per second: 5852\n",
      "MF_BPR: Epoch 176 of 220. Elapsed time 1.13 min\n",
      "MF_BPR: Processed 7944 ( 99.95% ) in 0.72 seconds. BPR loss 2.42E+06. Sample per second: 11034\n",
      "MF_BPR: Epoch 177 of 220. Elapsed time 1.13 min\n",
      "MF_BPR: Processed 7944 ( 99.95% ) in 1.09 seconds. BPR loss 2.45E+06. Sample per second: 7280\n",
      "MF_BPR: Epoch 178 of 220. Elapsed time 1.14 min\n",
      "MF_BPR: Processed 7944 ( 99.95% ) in 0.47 seconds. BPR loss 2.44E+06. Sample per second: 16918\n",
      "MF_BPR: Epoch 179 of 220. Elapsed time 1.14 min\n",
      "MF_BPR: Processed 7944 ( 99.95% ) in 0.85 seconds. BPR loss 2.41E+06. Sample per second: 9349\n",
      "MF_BPR: Epoch 180 of 220. Elapsed time 1.15 min\n",
      "MF_BPR: Processed 7944 ( 99.95% ) in 1.23 seconds. BPR loss 2.49E+06. Sample per second: 6437\n",
      "MF_BPR: Epoch 181 of 220. Elapsed time 1.16 min\n",
      "MF_BPR: Processed 7944 ( 99.95% ) in 0.62 seconds. BPR loss 2.44E+06. Sample per second: 12868\n",
      "MF_BPR: Epoch 182 of 220. Elapsed time 1.16 min\n",
      "MF_BPR: Processed 7944 ( 99.95% ) in 0.99 seconds. BPR loss 2.45E+06. Sample per second: 7988\n",
      "MF_BPR: Epoch 183 of 220. Elapsed time 1.17 min\n",
      "MF_BPR: Processed 7944 ( 99.95% ) in 1.36 seconds. BPR loss 2.44E+06. Sample per second: 5825\n",
      "MF_BPR: Epoch 184 of 220. Elapsed time 1.18 min\n",
      "MF_BPR: Processed 7944 ( 99.95% ) in 0.74 seconds. BPR loss 2.42E+06. Sample per second: 10702\n",
      "MF_BPR: Epoch 185 of 220. Elapsed time 1.18 min\n",
      "MF_BPR: Processed 7944 ( 99.95% ) in 1.12 seconds. BPR loss 2.44E+06. Sample per second: 7093\n",
      "MF_BPR: Epoch 186 of 220. Elapsed time 1.19 min\n",
      "MF_BPR: Processed 7944 ( 99.95% ) in 0.46 seconds. BPR loss 2.47E+06. Sample per second: 17185\n",
      "MF_BPR: Epoch 187 of 220. Elapsed time 1.19 min\n",
      "MF_BPR: Processed 7944 ( 99.95% ) in 0.83 seconds. BPR loss 2.42E+06. Sample per second: 9602\n",
      "MF_BPR: Epoch 188 of 220. Elapsed time 1.20 min\n",
      "MF_BPR: Processed 7944 ( 99.95% ) in 1.21 seconds. BPR loss 2.46E+06. Sample per second: 6585\n",
      "MF_BPR: Epoch 189 of 220. Elapsed time 1.21 min\n",
      "MF_BPR: Processed 7944 ( 99.95% ) in 0.56 seconds. BPR loss 2.43E+06. Sample per second: 14096\n",
      "MF_BPR: Epoch 190 of 220. Elapsed time 1.21 min\n",
      "MF_BPR: Processed 7944 ( 99.95% ) in 0.94 seconds. BPR loss 2.46E+06. Sample per second: 8470\n",
      "MF_BPR: Epoch 191 of 220. Elapsed time 1.22 min\n",
      "MF_BPR: Processed 7944 ( 99.95% ) in 1.30 seconds. BPR loss 2.43E+06. Sample per second: 6128\n",
      "MF_BPR: Epoch 192 of 220. Elapsed time 1.22 min\n",
      "MF_BPR: Processed 7944 ( 99.95% ) in 0.66 seconds. BPR loss 2.48E+06. Sample per second: 12108\n",
      "MF_BPR: Epoch 193 of 220. Elapsed time 1.23 min\n",
      "MF_BPR: Processed 7944 ( 99.95% ) in 1.02 seconds. BPR loss 2.45E+06. Sample per second: 7765\n",
      "MF_BPR: Epoch 194 of 220. Elapsed time 1.24 min\n",
      "MF_BPR: Processed 7944 ( 99.95% ) in 0.38 seconds. BPR loss 2.45E+06. Sample per second: 21030\n",
      "MF_BPR: Epoch 195 of 220. Elapsed time 1.24 min\n",
      "MF_BPR: Processed 7944 ( 99.95% ) in 0.72 seconds. BPR loss 2.39E+06. Sample per second: 11025\n",
      "MF_BPR: Epoch 196 of 220. Elapsed time 1.25 min\n",
      "MF_BPR: Processed 7944 ( 99.95% ) in 1.08 seconds. BPR loss 2.45E+06. Sample per second: 7333\n",
      "MF_BPR: Epoch 197 of 220. Elapsed time 1.25 min\n",
      "MF_BPR: Processed 7944 ( 99.95% ) in 0.44 seconds. BPR loss 2.47E+06. Sample per second: 17917\n",
      "MF_BPR: Epoch 198 of 220. Elapsed time 1.26 min\n",
      "MF_BPR: Processed 7944 ( 99.95% ) in 0.80 seconds. BPR loss 2.42E+06. Sample per second: 9887\n",
      "MF_BPR: Epoch 199 of 220. Elapsed time 1.27 min\n",
      "MF_BPR: Processed 7944 ( 99.95% ) in 1.17 seconds. BPR loss 2.46E+06. Sample per second: 6779\n",
      "MF_BPR: Epoch 200 of 220. Elapsed time 1.27 min\n",
      "MF_BPR: Processed 7944 ( 99.95% ) in 0.53 seconds. BPR loss 2.42E+06. Sample per second: 14904\n",
      "MF_BPR: Epoch 201 of 220. Elapsed time 1.28 min\n",
      "MF_BPR: Processed 7944 ( 99.95% ) in 0.90 seconds. BPR loss 2.43E+06. Sample per second: 8826\n",
      "MF_BPR: Epoch 202 of 220. Elapsed time 1.28 min\n",
      "MF_BPR: Processed 7944 ( 99.95% ) in 1.25 seconds. BPR loss 2.43E+06. Sample per second: 6359\n",
      "MF_BPR: Epoch 203 of 220. Elapsed time 1.29 min\n",
      "MF_BPR: Processed 7944 ( 99.95% ) in 0.60 seconds. BPR loss 2.49E+06. Sample per second: 13169\n",
      "MF_BPR: Epoch 204 of 220. Elapsed time 1.30 min\n",
      "MF_BPR: Processed 7944 ( 99.95% ) in 0.96 seconds. BPR loss 2.48E+06. Sample per second: 8258\n",
      "MF_BPR: Epoch 205 of 220. Elapsed time 1.30 min\n",
      "MF_BPR: Processed 7944 ( 99.95% ) in 1.34 seconds. BPR loss 2.47E+06. Sample per second: 5945\n",
      "MF_BPR: Epoch 206 of 220. Elapsed time 1.31 min\n",
      "MF_BPR: Processed 7944 ( 99.95% ) in 0.70 seconds. BPR loss 2.45E+06. Sample per second: 11412\n",
      "MF_BPR: Epoch 207 of 220. Elapsed time 1.31 min\n",
      "MF_BPR: Processed 7944 ( 99.95% ) in 1.07 seconds. BPR loss 2.42E+06. Sample per second: 7411\n",
      "MF_BPR: Epoch 208 of 220. Elapsed time 1.32 min\n",
      "MF_BPR: Processed 7944 ( 99.95% ) in 0.44 seconds. BPR loss 2.44E+06. Sample per second: 18156\n",
      "MF_BPR: Epoch 209 of 220. Elapsed time 1.33 min\n",
      "MF_BPR: Processed 7944 ( 99.95% ) in 0.80 seconds. BPR loss 2.46E+06. Sample per second: 9983\n",
      "MF_BPR: Epoch 210 of 220. Elapsed time 1.33 min\n",
      "MF_BPR: Processed 7944 ( 99.95% ) in 1.17 seconds. BPR loss 2.43E+06. Sample per second: 6781\n",
      "MF_BPR: Epoch 211 of 220. Elapsed time 1.34 min\n",
      "MF_BPR: Processed 7944 ( 99.95% ) in 0.54 seconds. BPR loss 2.47E+06. Sample per second: 14609\n",
      "MF_BPR: Epoch 212 of 220. Elapsed time 1.34 min\n",
      "MF_BPR: Processed 7944 ( 99.95% ) in 0.94 seconds. BPR loss 2.44E+06. Sample per second: 8461\n",
      "MF_BPR: Epoch 213 of 220. Elapsed time 1.35 min\n",
      "MF_BPR: Processed 7944 ( 99.95% ) in 1.32 seconds. BPR loss 2.43E+06. Sample per second: 6038\n",
      "MF_BPR: Epoch 214 of 220. Elapsed time 1.36 min\n",
      "MF_BPR: Processed 7944 ( 99.95% ) in 0.69 seconds. BPR loss 2.41E+06. Sample per second: 11526\n",
      "MF_BPR: Epoch 215 of 220. Elapsed time 1.36 min\n",
      "MF_BPR: Processed 7944 ( 99.95% ) in 1.05 seconds. BPR loss 2.38E+06. Sample per second: 7556\n",
      "MF_BPR: Epoch 216 of 220. Elapsed time 1.37 min\n",
      "MF_BPR: Processed 7944 ( 99.95% ) in 0.42 seconds. BPR loss 2.45E+06. Sample per second: 18962\n",
      "MF_BPR: Epoch 217 of 220. Elapsed time 1.38 min\n",
      "MF_BPR: Processed 7944 ( 99.95% ) in 0.78 seconds. BPR loss 2.41E+06. Sample per second: 10241\n",
      "MF_BPR: Epoch 218 of 220. Elapsed time 1.38 min\n",
      "MF_BPR: Processed 7944 ( 99.95% ) in 1.16 seconds. BPR loss 2.42E+06. Sample per second: 6871\n",
      "MF_BPR: Epoch 219 of 220. Elapsed time 1.39 min\n",
      "MF_BPR: Processed 7944 ( 99.95% ) in 0.52 seconds. BPR loss 2.43E+06. Sample per second: 15358\n",
      "MF_BPR: Epoch 220 of 220. Elapsed time 1.39 min\n",
      "MF_BPR: Terminating at epoch 220. Elapsed time 1.40 min\n"
     ]
    }
   ],
   "source": [
    "from MatrixFactorization.Cython.MatrixFactorization_Cython import MatrixFactorization_BPR_Cython,\\\n",
    "    MatrixFactorization_FunkSVD_Cython, MatrixFactorization_AsySVD_Cython\n",
    "\n",
    "recommender_mf = MatrixFactorization_BPR_Cython(URM_train)\n",
    "recommender_mf.fit(epochs = 220,\n",
    "                   batch_size = 4,\n",
    "                   num_factors=200,\n",
    "                   learning_rate = 0.1,\n",
    "                   sgd_mode='adam',\n",
    "                   positive_reg = 1e-5, negative_reg = 0.01)"
   ]
  },
  {
   "cell_type": "code",
   "execution_count": 55,
   "metadata": {},
   "outputs": [
    {
     "name": "stdout",
     "output_type": "stream",
     "text": [
      "EvaluatorHoldout: Processed 4362 ( 100.00% ) in 3.95 sec. Users per second: 1104\n",
      "EvaluatorHoldout: Processed 368 ( 100.00% ) in 0.32 sec. Users per second: 1148\n",
      "EvaluatorHoldout: Processed 104 ( 100.00% ) in 0.09 sec. Users per second: 1156\n",
      "EvaluatorHoldout: Processed 41 ( 100.00% ) in 0.05 sec. Users per second: 909\n",
      "EvaluatorHoldout: Processed 23 ( 100.00% ) in 0.03 sec. Users per second: 858\n",
      "EvaluatorHoldout: Processed 19 ( 100.00% ) in 0.03 sec. Users per second: 703\n",
      "EvaluatorHoldout: Processed 15 ( 100.00% ) in 0.02 sec. Users per second: 652\n",
      "EvaluatorHoldout: Processed 5 ( 100.00% ) in 0.01 sec. Users per second: 455\n",
      "EvaluatorHoldout: Processed 3 ( 100.00% ) in 0.01 sec. Users per second: 273\n",
      "EvaluatorHoldout: Processed 5 ( 100.00% ) in 0.01 sec. Users per second: 356\n",
      "EvaluatorHoldout: Processed 1 ( 100.00% ) in 0.01 sec. Users per second: 142\n",
      "EvaluatorHoldout: Processed 2 ( 100.00% ) in 0.01 sec. Users per second: 200\n",
      "EvaluatorHoldout: Processed 3 ( 100.00% ) in 0.01 sec. Users per second: 273\n",
      "EvaluatorHoldout: Processed 1 ( 100.00% ) in 0.01 sec. Users per second: 143\n",
      "EvaluatorHoldout: Processed 2 ( 100.00% ) in 0.01 sec. Users per second: 200\n",
      "EvaluatorHoldout: Processed 1 ( 100.00% ) in 0.01 sec. Users per second: 143\n",
      "EvaluatorHoldout: Processed 2 ( 100.00% ) in 0.01 sec. Users per second: 222\n",
      "EvaluatorHoldout: Processed 1 ( 100.00% ) in 0.01 sec. Users per second: 143\n",
      "EvaluatorHoldout: Processed 1 ( 100.00% ) in 0.01 sec. Users per second: 143\n",
      "EvaluatorHoldout: Processed 1 ( 100.00% ) in 0.01 sec. Users per second: 167\n"
     ]
    }
   ],
   "source": [
    "list_mf=compute_map_per_range(recommender_mf, URM_test, range_size=30)\n",
    "x_mf,y_mf,_ = frame_to_plot(list_mf)"
   ]
  },
  {
   "cell_type": "code",
   "execution_count": 58,
   "metadata": {},
   "outputs": [
    {
     "name": "stdout",
     "output_type": "stream",
     "text": [
      "PureSVDRecommender: URM Detected 42 (0.53 %) cold users.\n",
      "PureSVDRecommender: URM Detected 1971 (7.59 %) cold items.\n",
      "PureSVDRecommender: Computing SVD decomposition...\n",
      "PureSVDRecommender: Computing SVD decomposition... Done!\n"
     ]
    }
   ],
   "source": [
    "from MatrixFactorization.PureSVDRecommender import PureSVDRecommender\n",
    "\n",
    "recommender_pure = PureSVDRecommender(URM_train)\n",
    "recommender_pure.fit(num_factors = 350)"
   ]
  },
  {
   "cell_type": "code",
   "execution_count": 59,
   "metadata": {},
   "outputs": [
    {
     "name": "stdout",
     "output_type": "stream",
     "text": [
      "EvaluatorHoldout: Processed 4362 ( 100.00% ) in 3.43 sec. Users per second: 1273\n",
      "EvaluatorHoldout: Processed 368 ( 100.00% ) in 0.32 sec. Users per second: 1133\n",
      "EvaluatorHoldout: Processed 104 ( 100.00% ) in 0.13 sec. Users per second: 832\n",
      "EvaluatorHoldout: Processed 41 ( 100.00% ) in 0.09 sec. Users per second: 456\n",
      "EvaluatorHoldout: Processed 23 ( 100.00% ) in 0.08 sec. Users per second: 274\n",
      "EvaluatorHoldout: Processed 19 ( 100.00% ) in 0.06 sec. Users per second: 323\n",
      "EvaluatorHoldout: Processed 15 ( 100.00% ) in 0.07 sec. Users per second: 224\n",
      "EvaluatorHoldout: Processed 5 ( 100.00% ) in 0.06 sec. Users per second: 82\n",
      "EvaluatorHoldout: Processed 3 ( 100.00% ) in 0.06 sec. Users per second: 50\n",
      "EvaluatorHoldout: Processed 5 ( 100.00% ) in 0.06 sec. Users per second: 82\n",
      "EvaluatorHoldout: Processed 1 ( 100.00% ) in 0.05 sec. Users per second: 21\n",
      "EvaluatorHoldout: Processed 2 ( 100.00% ) in 0.06 sec. Users per second: 34\n"
     ]
    },
    {
     "name": "stderr",
     "output_type": "stream",
     "text": [
      "C:\\Users\\gio_d\\Documents\\Projects\\RecSys\\RecSys-2020\\Base\\Evaluation\\metrics.py:947: RuntimeWarning: invalid value encountered in double_scalars\n",
      "  self.diversity = diversity_cumulative/all_user_couples_count\n"
     ]
    },
    {
     "name": "stdout",
     "output_type": "stream",
     "text": [
      "EvaluatorHoldout: Processed 3 ( 100.00% ) in 0.07 sec. Users per second: 46\n",
      "EvaluatorHoldout: Processed 1 ( 100.00% ) in 0.06 sec. Users per second: 16\n",
      "EvaluatorHoldout: Processed 2 ( 100.00% ) in 0.07 sec. Users per second: 30\n",
      "EvaluatorHoldout: Processed 1 ( 100.00% ) in 0.06 sec. Users per second: 18\n",
      "EvaluatorHoldout: Processed 2 ( 100.00% ) in 0.06 sec. Users per second: 32\n",
      "EvaluatorHoldout: Processed 1 ( 100.00% ) in 0.06 sec. Users per second: 17\n",
      "EvaluatorHoldout: Processed 1 ( 100.00% ) in 0.06 sec. Users per second: 18\n",
      "EvaluatorHoldout: Processed 1 ( 100.00% ) in 0.06 sec. Users per second: 17\n"
     ]
    }
   ],
   "source": [
    "list_pure=compute_map_per_range(recommender_pure, URM_test, range_size=30)\n",
    "x_pp,y_pp,_ = frame_to_plot(list_pure)"
   ]
  },
  {
   "cell_type": "code",
   "execution_count": 62,
   "metadata": {},
   "outputs": [
    {
     "name": "stdout",
     "output_type": "stream",
     "text": [
      "SLIM_BPR_Recommender: URM Detected 42 (0.53 %) cold users.\n",
      "SLIM_BPR_Recommender: URM Detected 1971 (7.59 %) cold items.\n",
      "Unable to read memory status: list index out of range\n",
      "SLIM_BPR_Recommender: Automatic selection of fastest train mode. Unable to get current RAM status, you may be using a non-Linux operating system. Using dense matrix.\n",
      "Processed 7947 ( 100.00% ) in 0.57 seconds. BPR loss is 7.27E-07. Sample per second: 14044\n",
      "SLIM_BPR_Recommender: Epoch 1 of 190. Elapsed time 0.04 sec\n",
      "Processed 7947 ( 100.00% ) in 0.60 seconds. BPR loss is 3.80E-06. Sample per second: 13183\n",
      "SLIM_BPR_Recommender: Epoch 2 of 190. Elapsed time 0.08 sec\n",
      "Processed 7947 ( 100.00% ) in 0.64 seconds. BPR loss is 6.60E-06. Sample per second: 12479\n",
      "SLIM_BPR_Recommender: Epoch 3 of 190. Elapsed time 0.11 sec\n",
      "Processed 7947 ( 100.00% ) in 0.67 seconds. BPR loss is 1.12E-05. Sample per second: 11935\n",
      "SLIM_BPR_Recommender: Epoch 4 of 190. Elapsed time 0.14 sec\n",
      "Processed 7947 ( 100.00% ) in 0.69 seconds. BPR loss is 2.01E-05. Sample per second: 11437\n",
      "SLIM_BPR_Recommender: Epoch 5 of 190. Elapsed time 0.17 sec\n",
      "Processed 7947 ( 100.00% ) in 0.72 seconds. BPR loss is 2.76E-05. Sample per second: 11040\n",
      "SLIM_BPR_Recommender: Epoch 6 of 190. Elapsed time 0.19 sec\n",
      "Processed 7947 ( 100.00% ) in 0.74 seconds. BPR loss is 3.53E-05. Sample per second: 10684\n",
      "SLIM_BPR_Recommender: Epoch 7 of 190. Elapsed time 0.22 sec\n",
      "Processed 7947 ( 100.00% ) in 0.77 seconds. BPR loss is 5.14E-05. Sample per second: 10363\n",
      "SLIM_BPR_Recommender: Epoch 8 of 190. Elapsed time 0.24 sec\n",
      "Processed 7947 ( 100.00% ) in 0.79 seconds. BPR loss is 4.92E-05. Sample per second: 10062\n",
      "SLIM_BPR_Recommender: Epoch 9 of 190. Elapsed time 0.26 sec\n",
      "Processed 7947 ( 100.00% ) in 0.81 seconds. BPR loss is 6.67E-05. Sample per second: 9801\n",
      "SLIM_BPR_Recommender: Epoch 10 of 190. Elapsed time 0.28 sec\n",
      "Processed 7947 ( 100.00% ) in 0.83 seconds. BPR loss is 7.24E-05. Sample per second: 9553\n",
      "SLIM_BPR_Recommender: Epoch 11 of 190. Elapsed time 0.30 sec\n",
      "Processed 7947 ( 100.00% ) in 0.85 seconds. BPR loss is 8.29E-05. Sample per second: 9352\n",
      "SLIM_BPR_Recommender: Epoch 12 of 190. Elapsed time 0.32 sec\n",
      "Processed 7947 ( 100.00% ) in 0.87 seconds. BPR loss is 1.00E-04. Sample per second: 9147\n",
      "SLIM_BPR_Recommender: Epoch 13 of 190. Elapsed time 0.34 sec\n",
      "Processed 7947 ( 100.00% ) in 0.89 seconds. BPR loss is 1.01E-04. Sample per second: 8961\n",
      "SLIM_BPR_Recommender: Epoch 14 of 190. Elapsed time 0.36 sec\n",
      "Processed 7947 ( 100.00% ) in 0.90 seconds. BPR loss is 1.24E-04. Sample per second: 8783\n",
      "SLIM_BPR_Recommender: Epoch 15 of 190. Elapsed time 0.38 sec\n",
      "Processed 7947 ( 100.00% ) in 0.92 seconds. BPR loss is 1.50E-04. Sample per second: 8621\n",
      "SLIM_BPR_Recommender: Epoch 16 of 190. Elapsed time 0.39 sec\n",
      "Processed 7947 ( 100.00% ) in 0.94 seconds. BPR loss is 1.51E-04. Sample per second: 8465\n",
      "SLIM_BPR_Recommender: Epoch 17 of 190. Elapsed time 0.41 sec\n",
      "Processed 7947 ( 100.00% ) in 0.95 seconds. BPR loss is 1.58E-04. Sample per second: 8323\n",
      "SLIM_BPR_Recommender: Epoch 18 of 190. Elapsed time 0.43 sec\n",
      "Processed 7947 ( 100.00% ) in 0.97 seconds. BPR loss is 1.85E-04. Sample per second: 8186\n",
      "SLIM_BPR_Recommender: Epoch 19 of 190. Elapsed time 0.44 sec\n",
      "Processed 7947 ( 100.00% ) in 0.99 seconds. BPR loss is 2.06E-04. Sample per second: 8061\n",
      "SLIM_BPR_Recommender: Epoch 20 of 190. Elapsed time 0.46 sec\n",
      "Processed 7947 ( 100.00% ) in 1.00 seconds. BPR loss is 2.17E-04. Sample per second: 7941\n",
      "SLIM_BPR_Recommender: Epoch 21 of 190. Elapsed time 0.47 sec\n",
      "Processed 7947 ( 100.00% ) in 0.01 seconds. BPR loss is 2.73E-04. Sample per second: 531070\n",
      "SLIM_BPR_Recommender: Epoch 22 of 190. Elapsed time 0.49 sec\n",
      "Processed 7947 ( 100.00% ) in 0.03 seconds. BPR loss is 2.57E-04. Sample per second: 265227\n",
      "SLIM_BPR_Recommender: Epoch 23 of 190. Elapsed time 0.50 sec\n",
      "Processed 7947 ( 100.00% ) in 0.04 seconds. BPR loss is 2.93E-04. Sample per second: 180765\n",
      "SLIM_BPR_Recommender: Epoch 24 of 190. Elapsed time 0.52 sec\n",
      "Processed 7947 ( 100.00% ) in 0.06 seconds. BPR loss is 2.88E-04. Sample per second: 137111\n",
      "SLIM_BPR_Recommender: Epoch 25 of 190. Elapsed time 0.53 sec\n",
      "Processed 7947 ( 100.00% ) in 0.07 seconds. BPR loss is 3.09E-04. Sample per second: 111996\n",
      "SLIM_BPR_Recommender: Epoch 26 of 190. Elapsed time 0.54 sec\n",
      "Processed 7947 ( 100.00% ) in 0.08 seconds. BPR loss is 3.61E-04. Sample per second: 93595\n",
      "SLIM_BPR_Recommender: Epoch 27 of 190. Elapsed time 0.56 sec\n",
      "Processed 7947 ( 100.00% ) in 0.10 seconds. BPR loss is 3.54E-04. Sample per second: 81170\n",
      "SLIM_BPR_Recommender: Epoch 28 of 190. Elapsed time 0.57 sec\n",
      "Processed 7947 ( 100.00% ) in 0.11 seconds. BPR loss is 3.60E-04. Sample per second: 72306\n",
      "SLIM_BPR_Recommender: Epoch 29 of 190. Elapsed time 0.58 sec\n",
      "Processed 7947 ( 100.00% ) in 0.12 seconds. BPR loss is 3.92E-04. Sample per second: 64660\n",
      "SLIM_BPR_Recommender: Epoch 30 of 190. Elapsed time 0.60 sec\n",
      "Processed 7947 ( 100.00% ) in 0.13 seconds. BPR loss is 4.28E-04. Sample per second: 58889\n",
      "SLIM_BPR_Recommender: Epoch 31 of 190. Elapsed time 0.61 sec\n",
      "Processed 7947 ( 100.00% ) in 0.15 seconds. BPR loss is 4.56E-04. Sample per second: 54081\n",
      "SLIM_BPR_Recommender: Epoch 32 of 190. Elapsed time 0.62 sec\n",
      "Processed 7947 ( 100.00% ) in 0.16 seconds. BPR loss is 4.52E-04. Sample per second: 50002\n",
      "SLIM_BPR_Recommender: Epoch 33 of 190. Elapsed time 0.63 sec\n",
      "Processed 7947 ( 100.00% ) in 0.17 seconds. BPR loss is 4.68E-04. Sample per second: 46491\n",
      "SLIM_BPR_Recommender: Epoch 34 of 190. Elapsed time 0.64 sec\n",
      "Processed 7947 ( 100.00% ) in 0.18 seconds. BPR loss is 4.82E-04. Sample per second: 43447\n",
      "SLIM_BPR_Recommender: Epoch 35 of 190. Elapsed time 0.66 sec\n",
      "Processed 7947 ( 100.00% ) in 0.19 seconds. BPR loss is 5.31E-04. Sample per second: 40977\n",
      "SLIM_BPR_Recommender: Epoch 36 of 190. Elapsed time 0.67 sec\n",
      "Processed 7947 ( 100.00% ) in 0.21 seconds. BPR loss is 5.34E-04. Sample per second: 38598\n",
      "SLIM_BPR_Recommender: Epoch 37 of 190. Elapsed time 0.68 sec\n",
      "Processed 7947 ( 100.00% ) in 0.22 seconds. BPR loss is 5.64E-04. Sample per second: 36634\n",
      "SLIM_BPR_Recommender: Epoch 38 of 190. Elapsed time 0.69 sec\n",
      "Processed 7947 ( 100.00% ) in 0.23 seconds. BPR loss is 5.69E-04. Sample per second: 34712\n",
      "SLIM_BPR_Recommender: Epoch 39 of 190. Elapsed time 0.70 sec\n",
      "Processed 7947 ( 100.00% ) in 0.24 seconds. BPR loss is 6.17E-04. Sample per second: 33128\n",
      "SLIM_BPR_Recommender: Epoch 40 of 190. Elapsed time 0.71 sec\n",
      "Processed 7947 ( 100.00% ) in 0.25 seconds. BPR loss is 7.21E-04. Sample per second: 31671\n",
      "SLIM_BPR_Recommender: Epoch 41 of 190. Elapsed time 0.72 sec\n",
      "Processed 7947 ( 100.00% ) in 0.26 seconds. BPR loss is 6.43E-04. Sample per second: 30340\n",
      "SLIM_BPR_Recommender: Epoch 42 of 190. Elapsed time 0.73 sec\n",
      "Processed 7947 ( 100.00% ) in 0.27 seconds. BPR loss is 7.05E-04. Sample per second: 29119\n",
      "SLIM_BPR_Recommender: Epoch 43 of 190. Elapsed time 0.75 sec\n",
      "Processed 7947 ( 100.00% ) in 0.28 seconds. BPR loss is 7.03E-04. Sample per second: 27990\n",
      "SLIM_BPR_Recommender: Epoch 44 of 190. Elapsed time 0.76 sec\n",
      "Processed 7947 ( 100.00% ) in 0.29 seconds. BPR loss is 7.08E-04. Sample per second: 26946\n",
      "SLIM_BPR_Recommender: Epoch 45 of 190. Elapsed time 0.77 sec\n",
      "Processed 7947 ( 100.00% ) in 0.31 seconds. BPR loss is 7.52E-04. Sample per second: 25978\n",
      "SLIM_BPR_Recommender: Epoch 46 of 190. Elapsed time 0.78 sec\n",
      "Processed 7947 ( 100.00% ) in 0.32 seconds. BPR loss is 7.61E-04. Sample per second: 24840\n",
      "SLIM_BPR_Recommender: Epoch 47 of 190. Elapsed time 0.79 sec\n",
      "Processed 7947 ( 100.00% ) in 0.33 seconds. BPR loss is 9.95E-04. Sample per second: 23870\n",
      "SLIM_BPR_Recommender: Epoch 48 of 190. Elapsed time 0.81 sec\n",
      "Processed 7947 ( 100.00% ) in 0.34 seconds. BPR loss is 8.31E-04. Sample per second: 23040\n",
      "SLIM_BPR_Recommender: Epoch 49 of 190. Elapsed time 0.82 sec\n",
      "Processed 7947 ( 100.00% ) in 0.36 seconds. BPR loss is 8.62E-04. Sample per second: 22268\n",
      "SLIM_BPR_Recommender: Epoch 50 of 190. Elapsed time 0.83 sec\n",
      "Processed 7947 ( 100.00% ) in 0.37 seconds. BPR loss is 8.91E-04. Sample per second: 21544\n",
      "SLIM_BPR_Recommender: Epoch 51 of 190. Elapsed time 0.84 sec\n",
      "Processed 7947 ( 100.00% ) in 0.38 seconds. BPR loss is 8.69E-04. Sample per second: 20920\n",
      "SLIM_BPR_Recommender: Epoch 52 of 190. Elapsed time 0.85 sec\n"
     ]
    },
    {
     "name": "stdout",
     "output_type": "stream",
     "text": [
      "Processed 7947 ( 100.00% ) in 0.39 seconds. BPR loss is 9.46E-04. Sample per second: 20280\n",
      "SLIM_BPR_Recommender: Epoch 53 of 190. Elapsed time 0.86 sec\n",
      "Processed 7947 ( 100.00% ) in 0.40 seconds. BPR loss is 9.50E-04. Sample per second: 19726\n",
      "SLIM_BPR_Recommender: Epoch 54 of 190. Elapsed time 0.88 sec\n",
      "Processed 7947 ( 100.00% ) in 0.41 seconds. BPR loss is 1.01E-03. Sample per second: 19200\n",
      "SLIM_BPR_Recommender: Epoch 55 of 190. Elapsed time 0.89 sec\n",
      "Processed 7947 ( 100.00% ) in 0.43 seconds. BPR loss is 1.03E-03. Sample per second: 18659\n",
      "SLIM_BPR_Recommender: Epoch 56 of 190. Elapsed time 0.90 sec\n",
      "Processed 7947 ( 100.00% ) in 0.44 seconds. BPR loss is 1.07E-03. Sample per second: 18191\n",
      "SLIM_BPR_Recommender: Epoch 57 of 190. Elapsed time 0.91 sec\n",
      "Processed 7947 ( 100.00% ) in 0.45 seconds. BPR loss is 1.04E-03. Sample per second: 17782\n",
      "SLIM_BPR_Recommender: Epoch 58 of 190. Elapsed time 0.92 sec\n",
      "Processed 7947 ( 100.00% ) in 0.46 seconds. BPR loss is 1.05E-03. Sample per second: 17355\n",
      "SLIM_BPR_Recommender: Epoch 59 of 190. Elapsed time 0.93 sec\n",
      "Processed 7947 ( 100.00% ) in 0.47 seconds. BPR loss is 1.09E-03. Sample per second: 16984\n",
      "SLIM_BPR_Recommender: Epoch 60 of 190. Elapsed time 0.94 sec\n",
      "Processed 7947 ( 100.00% ) in 0.48 seconds. BPR loss is 1.16E-03. Sample per second: 16629\n",
      "SLIM_BPR_Recommender: Epoch 61 of 190. Elapsed time 0.95 sec\n",
      "Processed 7947 ( 100.00% ) in 0.49 seconds. BPR loss is 1.18E-03. Sample per second: 16222\n",
      "SLIM_BPR_Recommender: Epoch 62 of 190. Elapsed time 0.96 sec\n",
      "Processed 7947 ( 100.00% ) in 0.50 seconds. BPR loss is 1.18E-03. Sample per second: 15929\n",
      "SLIM_BPR_Recommender: Epoch 63 of 190. Elapsed time 0.97 sec\n",
      "Processed 7947 ( 100.00% ) in 0.51 seconds. BPR loss is 1.28E-03. Sample per second: 15585\n",
      "SLIM_BPR_Recommender: Epoch 64 of 190. Elapsed time 0.98 sec\n",
      "Processed 7947 ( 100.00% ) in 0.52 seconds. BPR loss is 1.26E-03. Sample per second: 15286\n",
      "SLIM_BPR_Recommender: Epoch 65 of 190. Elapsed time 0.99 sec\n",
      "Processed 7947 ( 100.00% ) in 0.53 seconds. BPR loss is 1.35E-03. Sample per second: 14969\n",
      "SLIM_BPR_Recommender: Epoch 66 of 190. Elapsed time 1.00 sec\n",
      "Processed 7947 ( 100.00% ) in 0.54 seconds. BPR loss is 1.27E-03. Sample per second: 14693\n",
      "SLIM_BPR_Recommender: Epoch 67 of 190. Elapsed time 1.01 sec\n",
      "Processed 7947 ( 100.00% ) in 0.55 seconds. BPR loss is 1.32E-03. Sample per second: 14427\n",
      "SLIM_BPR_Recommender: Epoch 68 of 190. Elapsed time 1.02 sec\n",
      "Processed 7947 ( 100.00% ) in 0.56 seconds. BPR loss is 1.36E-03. Sample per second: 14169\n",
      "SLIM_BPR_Recommender: Epoch 69 of 190. Elapsed time 1.03 sec\n",
      "Processed 7947 ( 100.00% ) in 0.57 seconds. BPR loss is 1.38E-03. Sample per second: 13921\n",
      "SLIM_BPR_Recommender: Epoch 70 of 190. Elapsed time 1.04 sec\n",
      "Processed 7947 ( 100.00% ) in 0.58 seconds. BPR loss is 1.50E-03. Sample per second: 13681\n",
      "SLIM_BPR_Recommender: Epoch 71 of 190. Elapsed time 1.05 sec\n",
      "Processed 7947 ( 100.00% ) in 0.59 seconds. BPR loss is 1.47E-03. Sample per second: 13449\n",
      "SLIM_BPR_Recommender: Epoch 72 of 190. Elapsed time 1.06 sec\n",
      "Processed 7947 ( 100.00% ) in 0.60 seconds. BPR loss is 1.48E-03. Sample per second: 13248\n",
      "SLIM_BPR_Recommender: Epoch 73 of 190. Elapsed time 1.07 sec\n",
      "Processed 7947 ( 100.00% ) in 0.61 seconds. BPR loss is 1.56E-03. Sample per second: 13009\n",
      "SLIM_BPR_Recommender: Epoch 74 of 190. Elapsed time 1.08 sec\n",
      "Processed 7947 ( 100.00% ) in 0.62 seconds. BPR loss is 1.59E-03. Sample per second: 12820\n",
      "SLIM_BPR_Recommender: Epoch 75 of 190. Elapsed time 1.09 sec\n",
      "Processed 7947 ( 100.00% ) in 0.63 seconds. BPR loss is 1.50E-03. Sample per second: 12617\n",
      "SLIM_BPR_Recommender: Epoch 76 of 190. Elapsed time 1.10 sec\n",
      "Processed 7947 ( 100.00% ) in 0.64 seconds. BPR loss is 1.64E-03. Sample per second: 12419\n",
      "SLIM_BPR_Recommender: Epoch 77 of 190. Elapsed time 1.11 sec\n",
      "Processed 7947 ( 100.00% ) in 0.65 seconds. BPR loss is 1.65E-03. Sample per second: 12247\n",
      "SLIM_BPR_Recommender: Epoch 78 of 190. Elapsed time 1.12 sec\n",
      "Processed 7947 ( 100.00% ) in 0.66 seconds. BPR loss is 1.65E-03. Sample per second: 12061\n",
      "SLIM_BPR_Recommender: Epoch 79 of 190. Elapsed time 1.13 sec\n",
      "Processed 7947 ( 100.00% ) in 0.67 seconds. BPR loss is 1.67E-03. Sample per second: 11881\n",
      "SLIM_BPR_Recommender: Epoch 80 of 190. Elapsed time 1.14 sec\n",
      "Processed 7947 ( 100.00% ) in 0.68 seconds. BPR loss is 1.72E-03. Sample per second: 11706\n",
      "SLIM_BPR_Recommender: Epoch 81 of 190. Elapsed time 1.15 sec\n",
      "Processed 7947 ( 100.00% ) in 0.69 seconds. BPR loss is 1.68E-03. Sample per second: 11536\n",
      "SLIM_BPR_Recommender: Epoch 82 of 190. Elapsed time 1.16 sec\n",
      "Processed 7947 ( 100.00% ) in 0.70 seconds. BPR loss is 1.82E-03. Sample per second: 11387\n",
      "SLIM_BPR_Recommender: Epoch 83 of 190. Elapsed time 1.17 sec\n",
      "Processed 7947 ( 100.00% ) in 0.71 seconds. BPR loss is 1.85E-03. Sample per second: 11227\n",
      "SLIM_BPR_Recommender: Epoch 84 of 190. Elapsed time 1.18 sec\n",
      "Processed 7947 ( 100.00% ) in 0.72 seconds. BPR loss is 1.90E-03. Sample per second: 11070\n",
      "SLIM_BPR_Recommender: Epoch 85 of 190. Elapsed time 1.19 sec\n",
      "Processed 7947 ( 100.00% ) in 0.73 seconds. BPR loss is 1.92E-03. Sample per second: 10933\n",
      "SLIM_BPR_Recommender: Epoch 86 of 190. Elapsed time 1.20 sec\n",
      "Processed 7947 ( 100.00% ) in 0.74 seconds. BPR loss is 2.01E-03. Sample per second: 10785\n",
      "SLIM_BPR_Recommender: Epoch 87 of 190. Elapsed time 1.21 sec\n",
      "Processed 7947 ( 100.00% ) in 0.75 seconds. BPR loss is 1.90E-03. Sample per second: 10640\n",
      "SLIM_BPR_Recommender: Epoch 88 of 190. Elapsed time 1.22 sec\n",
      "Processed 7947 ( 100.00% ) in 0.76 seconds. BPR loss is 2.02E-03. Sample per second: 10500\n",
      "SLIM_BPR_Recommender: Epoch 89 of 190. Elapsed time 1.23 sec\n",
      "Processed 7947 ( 100.00% ) in 0.77 seconds. BPR loss is 2.04E-03. Sample per second: 10376\n",
      "SLIM_BPR_Recommender: Epoch 90 of 190. Elapsed time 1.24 sec\n",
      "Processed 7947 ( 100.00% ) in 0.78 seconds. BPR loss is 2.10E-03. Sample per second: 10243\n",
      "SLIM_BPR_Recommender: Epoch 91 of 190. Elapsed time 1.25 sec\n",
      "Processed 7947 ( 100.00% ) in 0.79 seconds. BPR loss is 1.99E-03. Sample per second: 10113\n",
      "SLIM_BPR_Recommender: Epoch 92 of 190. Elapsed time 1.26 sec\n",
      "Processed 7947 ( 100.00% ) in 0.80 seconds. BPR loss is 2.18E-03. Sample per second: 9985\n",
      "SLIM_BPR_Recommender: Epoch 93 of 190. Elapsed time 1.27 sec\n",
      "Processed 7947 ( 100.00% ) in 0.81 seconds. BPR loss is 2.09E-03. Sample per second: 9862\n",
      "SLIM_BPR_Recommender: Epoch 94 of 190. Elapsed time 1.28 sec\n",
      "Processed 7947 ( 100.00% ) in 0.81 seconds. BPR loss is 2.21E-03. Sample per second: 9753\n",
      "SLIM_BPR_Recommender: Epoch 95 of 190. Elapsed time 1.29 sec\n",
      "Processed 7947 ( 100.00% ) in 0.83 seconds. BPR loss is 2.20E-03. Sample per second: 9623\n",
      "SLIM_BPR_Recommender: Epoch 96 of 190. Elapsed time 1.30 sec\n",
      "Processed 7947 ( 100.00% ) in 0.84 seconds. BPR loss is 2.39E-03. Sample per second: 9508\n",
      "SLIM_BPR_Recommender: Epoch 97 of 190. Elapsed time 1.31 sec\n",
      "Processed 7947 ( 100.00% ) in 0.84 seconds. BPR loss is 2.26E-03. Sample per second: 9406\n",
      "SLIM_BPR_Recommender: Epoch 98 of 190. Elapsed time 1.32 sec\n",
      "Processed 7947 ( 100.00% ) in 0.85 seconds. BPR loss is 2.37E-03. Sample per second: 9307\n",
      "SLIM_BPR_Recommender: Epoch 99 of 190. Elapsed time 1.33 sec\n",
      "Processed 7947 ( 100.00% ) in 0.86 seconds. BPR loss is 2.30E-03. Sample per second: 9199\n",
      "SLIM_BPR_Recommender: Epoch 100 of 190. Elapsed time 1.34 sec\n",
      "Processed 7947 ( 100.00% ) in 0.87 seconds. BPR loss is 2.32E-03. Sample per second: 9105\n",
      "SLIM_BPR_Recommender: Epoch 101 of 190. Elapsed time 1.35 sec\n",
      "Processed 7947 ( 100.00% ) in 0.88 seconds. BPR loss is 2.29E-03. Sample per second: 9001\n",
      "SLIM_BPR_Recommender: Epoch 102 of 190. Elapsed time 1.36 sec\n",
      "Processed 7947 ( 100.00% ) in 0.89 seconds. BPR loss is 2.46E-03. Sample per second: 8901\n",
      "SLIM_BPR_Recommender: Epoch 103 of 190. Elapsed time 1.37 sec\n",
      "Processed 7947 ( 100.00% ) in 0.90 seconds. BPR loss is 2.39E-03. Sample per second: 8802\n",
      "SLIM_BPR_Recommender: Epoch 104 of 190. Elapsed time 1.38 sec\n",
      "Processed 7947 ( 100.00% ) in 0.91 seconds. BPR loss is 2.42E-03. Sample per second: 8715\n",
      "SLIM_BPR_Recommender: Epoch 105 of 190. Elapsed time 1.38 sec\n",
      "Processed 7947 ( 100.00% ) in 0.92 seconds. BPR loss is 2.46E-03. Sample per second: 8621\n",
      "SLIM_BPR_Recommender: Epoch 106 of 190. Elapsed time 1.39 sec\n"
     ]
    },
    {
     "name": "stdout",
     "output_type": "stream",
     "text": [
      "Processed 7947 ( 100.00% ) in 0.93 seconds. BPR loss is 2.47E-03. Sample per second: 8537\n",
      "SLIM_BPR_Recommender: Epoch 107 of 190. Elapsed time 1.40 sec\n",
      "Processed 7947 ( 100.00% ) in 0.94 seconds. BPR loss is 2.56E-03. Sample per second: 8447\n",
      "SLIM_BPR_Recommender: Epoch 108 of 190. Elapsed time 1.41 sec\n",
      "Processed 7947 ( 100.00% ) in 0.95 seconds. BPR loss is 2.56E-03. Sample per second: 8358\n",
      "SLIM_BPR_Recommender: Epoch 109 of 190. Elapsed time 1.42 sec\n",
      "Processed 7947 ( 100.00% ) in 0.96 seconds. BPR loss is 2.58E-03. Sample per second: 8279\n",
      "SLIM_BPR_Recommender: Epoch 110 of 190. Elapsed time 1.43 sec\n",
      "Processed 7947 ( 100.00% ) in 0.97 seconds. BPR loss is 2.53E-03. Sample per second: 8194\n",
      "SLIM_BPR_Recommender: Epoch 111 of 190. Elapsed time 1.44 sec\n",
      "Processed 7947 ( 100.00% ) in 0.98 seconds. BPR loss is 2.73E-03. Sample per second: 8110\n",
      "SLIM_BPR_Recommender: Epoch 112 of 190. Elapsed time 1.45 sec\n",
      "Processed 7947 ( 100.00% ) in 0.99 seconds. BPR loss is 2.74E-03. Sample per second: 8037\n",
      "SLIM_BPR_Recommender: Epoch 113 of 190. Elapsed time 1.46 sec\n",
      "Processed 7947 ( 100.00% ) in 1.00 seconds. BPR loss is 2.79E-03. Sample per second: 7956\n",
      "SLIM_BPR_Recommender: Epoch 114 of 190. Elapsed time 1.47 sec\n",
      "Processed 7947 ( 100.00% ) in 0.01 seconds. BPR loss is 2.87E-03. Sample per second: 886416\n",
      "SLIM_BPR_Recommender: Epoch 115 of 190. Elapsed time 1.48 sec\n",
      "Processed 7947 ( 100.00% ) in 0.02 seconds. BPR loss is 3.04E-03. Sample per second: 419362\n",
      "SLIM_BPR_Recommender: Epoch 116 of 190. Elapsed time 1.49 sec\n",
      "Processed 7947 ( 100.00% ) in 0.03 seconds. BPR loss is 2.86E-03. Sample per second: 274873\n",
      "SLIM_BPR_Recommender: Epoch 117 of 190. Elapsed time 1.50 sec\n",
      "Processed 7947 ( 100.00% ) in 0.04 seconds. BPR loss is 2.86E-03. Sample per second: 209610\n",
      "SLIM_BPR_Recommender: Epoch 118 of 190. Elapsed time 1.51 sec\n",
      "Processed 7947 ( 100.00% ) in 0.05 seconds. BPR loss is 3.00E-03. Sample per second: 165707\n",
      "SLIM_BPR_Recommender: Epoch 119 of 190. Elapsed time 1.52 sec\n",
      "Processed 7947 ( 100.00% ) in 0.06 seconds. BPR loss is 3.04E-03. Sample per second: 137231\n",
      "SLIM_BPR_Recommender: Epoch 120 of 190. Elapsed time 1.53 sec\n",
      "Processed 7947 ( 100.00% ) in 0.07 seconds. BPR loss is 2.94E-03. Sample per second: 112072\n",
      "SLIM_BPR_Recommender: Epoch 121 of 190. Elapsed time 1.54 sec\n",
      "Processed 7947 ( 100.00% ) in 0.08 seconds. BPR loss is 3.08E-03. Sample per second: 95854\n",
      "SLIM_BPR_Recommender: Epoch 122 of 190. Elapsed time 1.56 sec\n",
      "Processed 7947 ( 100.00% ) in 0.09 seconds. BPR loss is 3.00E-03. Sample per second: 84624\n",
      "SLIM_BPR_Recommender: Epoch 123 of 190. Elapsed time 1.57 sec\n",
      "Processed 7947 ( 100.00% ) in 0.10 seconds. BPR loss is 3.12E-03. Sample per second: 75729\n",
      "SLIM_BPR_Recommender: Epoch 124 of 190. Elapsed time 1.58 sec\n",
      "Processed 7947 ( 100.00% ) in 0.11 seconds. BPR loss is 3.01E-03. Sample per second: 69134\n",
      "SLIM_BPR_Recommender: Epoch 125 of 190. Elapsed time 1.59 sec\n",
      "Processed 7947 ( 100.00% ) in 0.12 seconds. BPR loss is 3.07E-03. Sample per second: 63625\n",
      "SLIM_BPR_Recommender: Epoch 126 of 190. Elapsed time 1.60 sec\n",
      "Processed 7947 ( 100.00% ) in 0.14 seconds. BPR loss is 3.31E-03. Sample per second: 58459\n",
      "SLIM_BPR_Recommender: Epoch 127 of 190. Elapsed time 1.61 sec\n",
      "Processed 7947 ( 100.00% ) in 0.15 seconds. BPR loss is 3.17E-03. Sample per second: 54468\n",
      "SLIM_BPR_Recommender: Epoch 128 of 190. Elapsed time 1.62 sec\n",
      "Processed 7947 ( 100.00% ) in 0.16 seconds. BPR loss is 3.11E-03. Sample per second: 50976\n",
      "SLIM_BPR_Recommender: Epoch 129 of 190. Elapsed time 1.63 sec\n",
      "Processed 7947 ( 100.00% ) in 0.17 seconds. BPR loss is 3.15E-03. Sample per second: 47616\n",
      "SLIM_BPR_Recommender: Epoch 130 of 190. Elapsed time 1.64 sec\n",
      "Processed 7947 ( 100.00% ) in 0.18 seconds. BPR loss is 3.29E-03. Sample per second: 44912\n",
      "SLIM_BPR_Recommender: Epoch 131 of 190. Elapsed time 1.65 sec\n",
      "Processed 7947 ( 100.00% ) in 0.19 seconds. BPR loss is 3.24E-03. Sample per second: 42514\n",
      "SLIM_BPR_Recommender: Epoch 132 of 190. Elapsed time 1.66 sec\n",
      "Processed 7947 ( 100.00% ) in 0.20 seconds. BPR loss is 3.37E-03. Sample per second: 40352\n",
      "SLIM_BPR_Recommender: Epoch 133 of 190. Elapsed time 1.67 sec\n",
      "Processed 7947 ( 100.00% ) in 0.21 seconds. BPR loss is 3.49E-03. Sample per second: 38402\n",
      "SLIM_BPR_Recommender: Epoch 134 of 190. Elapsed time 1.68 sec\n",
      "Processed 7947 ( 100.00% ) in 0.22 seconds. BPR loss is 3.40E-03. Sample per second: 36640\n",
      "SLIM_BPR_Recommender: Epoch 135 of 190. Elapsed time 1.69 sec\n",
      "Processed 7947 ( 100.00% ) in 0.23 seconds. BPR loss is 3.51E-03. Sample per second: 34864\n",
      "SLIM_BPR_Recommender: Epoch 136 of 190. Elapsed time 1.70 sec\n",
      "Processed 7947 ( 100.00% ) in 0.24 seconds. BPR loss is 3.52E-03. Sample per second: 33543\n",
      "SLIM_BPR_Recommender: Epoch 137 of 190. Elapsed time 1.71 sec\n",
      "Processed 7947 ( 100.00% ) in 0.25 seconds. BPR loss is 3.50E-03. Sample per second: 32189\n",
      "SLIM_BPR_Recommender: Epoch 138 of 190. Elapsed time 1.72 sec\n",
      "Processed 7947 ( 100.00% ) in 0.26 seconds. BPR loss is 3.53E-03. Sample per second: 30931\n",
      "SLIM_BPR_Recommender: Epoch 139 of 190. Elapsed time 1.73 sec\n",
      "Processed 7947 ( 100.00% ) in 0.27 seconds. BPR loss is 3.57E-03. Sample per second: 29885\n",
      "SLIM_BPR_Recommender: Epoch 140 of 190. Elapsed time 1.74 sec\n",
      "Processed 7947 ( 100.00% ) in 0.28 seconds. BPR loss is 3.47E-03. Sample per second: 28801\n",
      "SLIM_BPR_Recommender: Epoch 141 of 190. Elapsed time 1.75 sec\n",
      "Processed 7947 ( 100.00% ) in 0.29 seconds. BPR loss is 3.53E-03. Sample per second: 27798\n",
      "SLIM_BPR_Recommender: Epoch 142 of 190. Elapsed time 1.76 sec\n",
      "Processed 7947 ( 100.00% ) in 0.30 seconds. BPR loss is 3.81E-03. Sample per second: 26854\n",
      "SLIM_BPR_Recommender: Epoch 143 of 190. Elapsed time 1.77 sec\n",
      "Processed 7947 ( 100.00% ) in 0.31 seconds. BPR loss is 3.67E-03. Sample per second: 25812\n",
      "SLIM_BPR_Recommender: Epoch 144 of 190. Elapsed time 1.78 sec\n",
      "Processed 7947 ( 100.00% ) in 0.32 seconds. BPR loss is 3.92E-03. Sample per second: 24919\n",
      "SLIM_BPR_Recommender: Epoch 145 of 190. Elapsed time 1.79 sec\n",
      "Processed 7947 ( 100.00% ) in 0.33 seconds. BPR loss is 3.88E-03. Sample per second: 24091\n",
      "SLIM_BPR_Recommender: Epoch 146 of 190. Elapsed time 1.80 sec\n",
      "Processed 7947 ( 100.00% ) in 0.34 seconds. BPR loss is 3.81E-03. Sample per second: 23380\n",
      "SLIM_BPR_Recommender: Epoch 147 of 190. Elapsed time 1.81 sec\n",
      "Processed 7947 ( 100.00% ) in 0.35 seconds. BPR loss is 3.94E-03. Sample per second: 22649\n",
      "SLIM_BPR_Recommender: Epoch 148 of 190. Elapsed time 1.82 sec\n",
      "Processed 7947 ( 100.00% ) in 0.36 seconds. BPR loss is 4.03E-03. Sample per second: 21958\n",
      "SLIM_BPR_Recommender: Epoch 149 of 190. Elapsed time 1.83 sec\n",
      "Processed 7947 ( 100.00% ) in 0.37 seconds. BPR loss is 3.92E-03. Sample per second: 21313\n",
      "SLIM_BPR_Recommender: Epoch 150 of 190. Elapsed time 1.85 sec\n",
      "Processed 7947 ( 100.00% ) in 0.38 seconds. BPR loss is 3.97E-03. Sample per second: 20753\n",
      "SLIM_BPR_Recommender: Epoch 151 of 190. Elapsed time 1.86 sec\n",
      "Processed 7947 ( 100.00% ) in 0.39 seconds. BPR loss is 4.05E-03. Sample per second: 20174\n",
      "SLIM_BPR_Recommender: Epoch 152 of 190. Elapsed time 1.87 sec\n",
      "Processed 7947 ( 100.00% ) in 0.40 seconds. BPR loss is 4.05E-03. Sample per second: 19676\n",
      "SLIM_BPR_Recommender: Epoch 153 of 190. Elapsed time 1.88 sec\n",
      "Processed 7947 ( 100.00% ) in 0.41 seconds. BPR loss is 3.99E-03. Sample per second: 19202\n",
      "SLIM_BPR_Recommender: Epoch 154 of 190. Elapsed time 1.89 sec\n",
      "Processed 7947 ( 100.00% ) in 0.42 seconds. BPR loss is 4.14E-03. Sample per second: 18703\n",
      "SLIM_BPR_Recommender: Epoch 155 of 190. Elapsed time 1.90 sec\n",
      "Processed 7947 ( 100.00% ) in 0.43 seconds. BPR loss is 4.19E-03. Sample per second: 18273\n",
      "SLIM_BPR_Recommender: Epoch 156 of 190. Elapsed time 1.91 sec\n",
      "Processed 7947 ( 100.00% ) in 0.44 seconds. BPR loss is 4.19E-03. Sample per second: 17862\n",
      "SLIM_BPR_Recommender: Epoch 157 of 190. Elapsed time 1.92 sec\n",
      "Processed 7947 ( 100.00% ) in 0.45 seconds. BPR loss is 4.43E-03. Sample per second: 17470\n",
      "SLIM_BPR_Recommender: Epoch 158 of 190. Elapsed time 1.93 sec\n",
      "Processed 7947 ( 100.00% ) in 0.46 seconds. BPR loss is 4.01E-03. Sample per second: 17094\n",
      "SLIM_BPR_Recommender: Epoch 159 of 190. Elapsed time 1.94 sec\n",
      "Processed 7947 ( 100.00% ) in 0.47 seconds. BPR loss is 4.39E-03. Sample per second: 16734\n"
     ]
    },
    {
     "name": "stdout",
     "output_type": "stream",
     "text": [
      "SLIM_BPR_Recommender: Epoch 160 of 190. Elapsed time 1.95 sec\n",
      "Processed 7947 ( 100.00% ) in 0.49 seconds. BPR loss is 4.54E-03. Sample per second: 16355\n",
      "SLIM_BPR_Recommender: Epoch 161 of 190. Elapsed time 1.96 sec\n",
      "Processed 7947 ( 100.00% ) in 0.50 seconds. BPR loss is 4.40E-03. Sample per second: 16025\n",
      "SLIM_BPR_Recommender: Epoch 162 of 190. Elapsed time 1.97 sec\n",
      "Processed 7947 ( 100.00% ) in 0.51 seconds. BPR loss is 4.39E-03. Sample per second: 15678\n",
      "SLIM_BPR_Recommender: Epoch 163 of 190. Elapsed time 1.98 sec\n",
      "Processed 7947 ( 100.00% ) in 0.52 seconds. BPR loss is 4.58E-03. Sample per second: 15376\n",
      "SLIM_BPR_Recommender: Epoch 164 of 190. Elapsed time 1.99 sec\n",
      "Processed 7947 ( 100.00% ) in 0.53 seconds. BPR loss is 4.29E-03. Sample per second: 15082\n",
      "SLIM_BPR_Recommender: Epoch 165 of 190. Elapsed time 2.00 sec\n",
      "Processed 7947 ( 100.00% ) in 0.54 seconds. BPR loss is 4.52E-03. Sample per second: 14803\n",
      "SLIM_BPR_Recommender: Epoch 166 of 190. Elapsed time 2.01 sec\n",
      "Processed 7947 ( 100.00% ) in 0.55 seconds. BPR loss is 4.57E-03. Sample per second: 14532\n",
      "SLIM_BPR_Recommender: Epoch 167 of 190. Elapsed time 2.02 sec\n",
      "Processed 7947 ( 100.00% ) in 0.56 seconds. BPR loss is 4.44E-03. Sample per second: 14270\n",
      "SLIM_BPR_Recommender: Epoch 168 of 190. Elapsed time 2.03 sec\n",
      "Processed 7947 ( 100.00% ) in 0.57 seconds. BPR loss is 4.67E-03. Sample per second: 13994\n",
      "SLIM_BPR_Recommender: Epoch 169 of 190. Elapsed time 2.04 sec\n",
      "Processed 7947 ( 100.00% ) in 0.58 seconds. BPR loss is 4.74E-03. Sample per second: 13753\n",
      "SLIM_BPR_Recommender: Epoch 170 of 190. Elapsed time 2.05 sec\n",
      "Processed 7947 ( 100.00% ) in 0.59 seconds. BPR loss is 4.67E-03. Sample per second: 13518\n",
      "SLIM_BPR_Recommender: Epoch 171 of 190. Elapsed time 2.06 sec\n",
      "Processed 7947 ( 100.00% ) in 0.60 seconds. BPR loss is 4.81E-03. Sample per second: 13292\n",
      "SLIM_BPR_Recommender: Epoch 172 of 190. Elapsed time 2.07 sec\n",
      "Processed 7947 ( 100.00% ) in 0.61 seconds. BPR loss is 4.77E-03. Sample per second: 13095\n",
      "SLIM_BPR_Recommender: Epoch 173 of 190. Elapsed time 2.08 sec\n",
      "Processed 7947 ( 100.00% ) in 0.62 seconds. BPR loss is 4.87E-03. Sample per second: 12862\n",
      "SLIM_BPR_Recommender: Epoch 174 of 190. Elapsed time 2.09 sec\n",
      "Processed 7947 ( 100.00% ) in 0.63 seconds. BPR loss is 4.93E-03. Sample per second: 12677\n",
      "SLIM_BPR_Recommender: Epoch 175 of 190. Elapsed time 2.10 sec\n",
      "Processed 7947 ( 100.00% ) in 0.64 seconds. BPR loss is 4.87E-03. Sample per second: 12478\n",
      "SLIM_BPR_Recommender: Epoch 176 of 190. Elapsed time 2.11 sec\n",
      "Processed 7947 ( 100.00% ) in 0.65 seconds. BPR loss is 4.92E-03. Sample per second: 12286\n",
      "SLIM_BPR_Recommender: Epoch 177 of 190. Elapsed time 2.12 sec\n",
      "Processed 7947 ( 100.00% ) in 0.66 seconds. BPR loss is 4.83E-03. Sample per second: 12098\n",
      "SLIM_BPR_Recommender: Epoch 178 of 190. Elapsed time 2.13 sec\n",
      "Processed 7947 ( 100.00% ) in 0.67 seconds. BPR loss is 4.90E-03. Sample per second: 11917\n",
      "SLIM_BPR_Recommender: Epoch 179 of 190. Elapsed time 2.14 sec\n",
      "Processed 7947 ( 100.00% ) in 0.68 seconds. BPR loss is 5.05E-03. Sample per second: 11741\n",
      "SLIM_BPR_Recommender: Epoch 180 of 190. Elapsed time 2.15 sec\n",
      "Processed 7947 ( 100.00% ) in 0.69 seconds. BPR loss is 5.11E-03. Sample per second: 11570\n",
      "SLIM_BPR_Recommender: Epoch 181 of 190. Elapsed time 2.16 sec\n",
      "Processed 7947 ( 100.00% ) in 0.70 seconds. BPR loss is 5.01E-03. Sample per second: 11404\n",
      "SLIM_BPR_Recommender: Epoch 182 of 190. Elapsed time 2.17 sec\n",
      "Processed 7947 ( 100.00% ) in 0.71 seconds. BPR loss is 5.12E-03. Sample per second: 11242\n",
      "SLIM_BPR_Recommender: Epoch 183 of 190. Elapsed time 2.18 sec\n",
      "Processed 7947 ( 100.00% ) in 0.72 seconds. BPR loss is 5.07E-03. Sample per second: 11086\n",
      "SLIM_BPR_Recommender: Epoch 184 of 190. Elapsed time 2.19 sec\n",
      "Processed 7947 ( 100.00% ) in 0.73 seconds. BPR loss is 5.31E-03. Sample per second: 10933\n",
      "SLIM_BPR_Recommender: Epoch 185 of 190. Elapsed time 2.20 sec\n",
      "Processed 7947 ( 100.00% ) in 0.74 seconds. BPR loss is 5.34E-03. Sample per second: 10785\n",
      "SLIM_BPR_Recommender: Epoch 186 of 190. Elapsed time 2.21 sec\n",
      "Processed 7947 ( 100.00% ) in 0.75 seconds. BPR loss is 5.42E-03. Sample per second: 10640\n",
      "SLIM_BPR_Recommender: Epoch 187 of 190. Elapsed time 2.22 sec\n",
      "Processed 7947 ( 100.00% ) in 0.76 seconds. BPR loss is 5.49E-03. Sample per second: 10500\n",
      "SLIM_BPR_Recommender: Epoch 188 of 190. Elapsed time 2.23 sec\n",
      "Processed 7947 ( 100.00% ) in 0.77 seconds. BPR loss is 5.26E-03. Sample per second: 10376\n",
      "SLIM_BPR_Recommender: Epoch 189 of 190. Elapsed time 2.24 sec\n",
      "Processed 7947 ( 100.00% ) in 0.78 seconds. BPR loss is 5.30E-03. Sample per second: 10243\n",
      "SLIM_BPR_Recommender: Epoch 190 of 190. Elapsed time 2.25 sec\n",
      "SLIM_BPR_Recommender: Terminating at epoch 190. Elapsed time 23.79 sec\n",
      "Deallocating Cython objects\n"
     ]
    }
   ],
   "source": [
    "from SLIM_BPR.Cython.SLIM_BPR_Cython import SLIM_BPR_Cython\n",
    "SlimBPR = SLIM_BPR_Cython(URM_train)\n",
    "SlimBPR.fit(topK= 860, epochs= 190, symmetric= False, sgd_mode= 'adam', lambda_i= 0.01, lambda_j= 1e-05, learning_rate= 0.0001)"
   ]
  },
  {
   "cell_type": "code",
   "execution_count": 63,
   "metadata": {},
   "outputs": [
    {
     "name": "stdout",
     "output_type": "stream",
     "text": [
      "EvaluatorHoldout: Processed 4362 ( 100.00% ) in 2.68 sec. Users per second: 1625\n",
      "EvaluatorHoldout: Processed 368 ( 100.00% ) in 0.33 sec. Users per second: 1113\n",
      "EvaluatorHoldout: Processed 104 ( 100.00% ) in 0.11 sec. Users per second: 905\n",
      "EvaluatorHoldout: Processed 41 ( 100.00% ) in 0.05 sec. Users per second: 891\n",
      "EvaluatorHoldout: Processed 23 ( 100.00% ) in 0.03 sec. Users per second: 675\n",
      "EvaluatorHoldout: Processed 19 ( 100.00% ) in 0.03 sec. Users per second: 612\n",
      "EvaluatorHoldout: Processed 15 ( 100.00% ) in 0.02 sec. Users per second: 604\n",
      "EvaluatorHoldout: Processed 5 ( 100.00% ) in 0.01 sec. Users per second: 417\n",
      "EvaluatorHoldout: Processed 3 ( 100.00% ) in 0.01 sec. Users per second: 335\n",
      "EvaluatorHoldout: Processed 5 ( 100.00% ) in 0.01 sec. Users per second: 356\n",
      "EvaluatorHoldout: Processed 1 ( 100.00% ) in 0.00 sec. Users per second: 200\n",
      "EvaluatorHoldout: Processed 2 ( 100.00% ) in 0.01 sec. Users per second: 285\n"
     ]
    },
    {
     "name": "stderr",
     "output_type": "stream",
     "text": [
      "C:\\Users\\gio_d\\Documents\\Projects\\RecSys\\RecSys-2020\\Base\\Evaluation\\metrics.py:947: RuntimeWarning: invalid value encountered in double_scalars\n",
      "  self.diversity = diversity_cumulative/all_user_couples_count\n"
     ]
    },
    {
     "name": "stdout",
     "output_type": "stream",
     "text": [
      "EvaluatorHoldout: Processed 3 ( 100.00% ) in 0.01 sec. Users per second: 332\n",
      "EvaluatorHoldout: Processed 1 ( 100.00% ) in 0.01 sec. Users per second: 143\n",
      "EvaluatorHoldout: Processed 2 ( 100.00% ) in 0.01 sec. Users per second: 285\n",
      "EvaluatorHoldout: Processed 1 ( 100.00% ) in 0.01 sec. Users per second: 167\n",
      "EvaluatorHoldout: Processed 2 ( 100.00% ) in 0.01 sec. Users per second: 221\n",
      "EvaluatorHoldout: Processed 1 ( 100.00% ) in 0.01 sec. Users per second: 165\n",
      "EvaluatorHoldout: Processed 1 ( 100.00% ) in 0.01 sec. Users per second: 125\n",
      "EvaluatorHoldout: Processed 1 ( 100.00% ) in 0.01 sec. Users per second: 111\n"
     ]
    }
   ],
   "source": [
    "list_slimbpr=compute_map_per_range(SlimBPR, URM_test, range_size=30)\n",
    "x_slb,y_slb,_ = frame_to_plot(list_slimbpr)"
   ]
  },
  {
   "cell_type": "code",
   "execution_count": 67,
   "metadata": {},
   "outputs": [
    {
     "name": "stdout",
     "output_type": "stream",
     "text": [
      "UserKNNCFRecommender: URM Detected 42 (0.53 %) cold users.\n",
      "UserKNNCFRecommender: URM Detected 1971 (7.59 %) cold items.\n",
      "Similarity column 7947 ( 100 % ), 17540.63 column/sec, elapsed time 0.01 min\n"
     ]
    }
   ],
   "source": [
    "from KNN.UserKNNCFRecommender import UserKNNCFRecommender\n",
    "userKnnCF = UserKNNCFRecommender(URM_train)\n",
    "userKnnCF.fit(topK= 201, shrink= 998, similarity= 'cosine', normalize= True, feature_weighting= 'TF-IDF')"
   ]
  },
  {
   "cell_type": "code",
   "execution_count": 68,
   "metadata": {},
   "outputs": [
    {
     "name": "stdout",
     "output_type": "stream",
     "text": [
      "EvaluatorHoldout: Processed 4362 ( 100.00% ) in 2.30 sec. Users per second: 1899\n",
      "EvaluatorHoldout: Processed 368 ( 100.00% ) in 0.24 sec. Users per second: 1508\n",
      "EvaluatorHoldout: Processed 104 ( 100.00% ) in 0.08 sec. Users per second: 1299\n",
      "EvaluatorHoldout: Processed 41 ( 100.00% ) in 0.04 sec. Users per second: 1164\n",
      "EvaluatorHoldout: Processed 23 ( 100.00% ) in 0.02 sec. Users per second: 1000\n",
      "EvaluatorHoldout: Processed 19 ( 100.00% ) in 0.02 sec. Users per second: 950\n",
      "EvaluatorHoldout: Processed 15 ( 100.00% ) in 0.02 sec. Users per second: 938\n",
      "EvaluatorHoldout: Processed 5 ( 100.00% ) in 0.01 sec. Users per second: 714\n",
      "EvaluatorHoldout: Processed 3 ( 100.00% ) in 0.01 sec. Users per second: 429\n",
      "EvaluatorHoldout: Processed 5 ( 100.00% ) in 0.01 sec. Users per second: 625\n",
      "EvaluatorHoldout: Processed 1 ( 100.00% ) in 0.00 sec. Users per second: 250\n",
      "EvaluatorHoldout: Processed 2 ( 100.00% ) in 0.00 sec. Users per second: 401\n"
     ]
    },
    {
     "name": "stderr",
     "output_type": "stream",
     "text": [
      "C:\\Users\\gio_d\\Documents\\Projects\\RecSys\\RecSys-2020\\Base\\Evaluation\\metrics.py:947: RuntimeWarning: invalid value encountered in double_scalars\n",
      "  self.diversity = diversity_cumulative/all_user_couples_count\n"
     ]
    },
    {
     "name": "stdout",
     "output_type": "stream",
     "text": [
      "EvaluatorHoldout: Processed 3 ( 100.00% ) in 0.01 sec. Users per second: 500\n",
      "EvaluatorHoldout: Processed 1 ( 100.00% ) in 0.01 sec. Users per second: 167\n",
      "EvaluatorHoldout: Processed 2 ( 100.00% ) in 0.01 sec. Users per second: 400\n",
      "EvaluatorHoldout: Processed 1 ( 100.00% ) in 0.00 sec. Users per second: 200\n",
      "EvaluatorHoldout: Processed 2 ( 100.00% ) in 0.00 sec. Users per second: 400\n",
      "EvaluatorHoldout: Processed 1 ( 100.00% ) in 0.00 sec. Users per second: 200\n",
      "EvaluatorHoldout: Processed 1 ( 100.00% ) in 0.00 sec. Users per second: 250\n",
      "EvaluatorHoldout: Processed 1 ( 100.00% ) in 0.00 sec. Users per second: 250\n"
     ]
    }
   ],
   "source": [
    "list_ucf=compute_map_per_range(userKnnCF, URM_test, range_size=30)\n",
    "x_ucf,y_ucf,_ = frame_to_plot(list_ucf)"
   ]
  },
  {
   "cell_type": "markdown",
   "metadata": {},
   "source": [
    "**PageRankAlpha**"
   ]
  },
  {
   "cell_type": "code",
   "execution_count": 125,
   "metadata": {},
   "outputs": [
    {
     "data": {
      "image/png": "[encoded data removed]",
      "text/plain": [
       "<Figure size 432x288 with 1 Axes>"
      ]
     },
     "metadata": {
      "needs_background": "light"
     },
     "output_type": "display_data"
    }
   ],
   "source": [
    "plot_frame(x_alph, y_alph)"
   ]
  },
  {
   "cell_type": "markdown",
   "metadata": {},
   "source": [
    "**UserKNNCF**"
   ]
  },
  {
   "cell_type": "code",
   "execution_count": 69,
   "metadata": {},
   "outputs": [
    {
     "data": {
      "image/png": "[encoded data removed]",
      "text/plain": [
       "<Figure size 432x288 with 1 Axes>"
      ]
     },
     "metadata": {
      "needs_background": "light"
     },
     "output_type": "display_data"
    }
   ],
   "source": [
    "plot_frame(x_ucf, y_ucf)"
   ]
  },
  {
   "cell_type": "markdown",
   "metadata": {},
   "source": [
    "**SlimBPR**"
   ]
  },
  {
   "cell_type": "code",
   "execution_count": 64,
   "metadata": {},
   "outputs": [
    {
     "data": {
      "image/png": "[encoded data removed]",
      "text/plain": [
       "<Figure size 432x288 with 1 Axes>"
      ]
     },
     "metadata": {
      "needs_background": "light"
     },
     "output_type": "display_data"
    }
   ],
   "source": [
    "plot_frame(x_slb, y_slb)"
   ]
  },
  {
   "cell_type": "markdown",
   "metadata": {},
   "source": [
    "**PureSVD**"
   ]
  },
  {
   "cell_type": "code",
   "execution_count": 60,
   "metadata": {},
   "outputs": [
    {
     "data": {
      "image/png": "[encoded data removed]",
      "text/plain": [
       "<Figure size 432x288 with 1 Axes>"
      ]
     },
     "metadata": {
      "needs_background": "light"
     },
     "output_type": "display_data"
    }
   ],
   "source": [
    "plot_frame(x_pp, y_pp)"
   ]
  },
  {
   "cell_type": "markdown",
   "metadata": {},
   "source": [
    "**Matrix Factorization BPR**"
   ]
  },
  {
   "cell_type": "code",
   "execution_count": 56,
   "metadata": {},
   "outputs": [
    {
     "data": {
      "image/png": "[encoded data removed]",
      "text/plain": [
       "<Figure size 432x288 with 1 Axes>"
      ]
     },
     "metadata": {
      "needs_background": "light"
     },
     "output_type": "display_data"
    }
   ],
   "source": [
    "plot_frame(x_mf, y_mf)"
   ]
  },
  {
   "cell_type": "markdown",
   "metadata": {},
   "source": [
    "#### ItemKNNCBF"
   ]
  },
  {
   "cell_type": "code",
   "execution_count": 18,
   "metadata": {
    "scrolled": true
   },
   "outputs": [
    {
     "data": {
      "image/png": "[encoded data removed]",
      "text/plain": [
       "<Figure size 432x288 with 1 Axes>"
      ]
     },
     "metadata": {
      "needs_background": "light"
     },
     "output_type": "display_data"
    }
   ],
   "source": [
    "plot_frame(x_knn,y_knn)"
   ]
  },
  {
   "cell_type": "markdown",
   "metadata": {},
   "source": [
    "#### ItemKNNCF"
   ]
  },
  {
   "cell_type": "code",
   "execution_count": 51,
   "metadata": {},
   "outputs": [
    {
     "data": {
      "image/png": "[encoded data removed]",
      "text/plain": [
       "<Figure size 432x288 with 1 Axes>"
      ]
     },
     "metadata": {
      "needs_background": "light"
     },
     "output_type": "display_data"
    }
   ],
   "source": [
    "plot_frame(x_cf,y_cf)"
   ]
  },
  {
   "cell_type": "markdown",
   "metadata": {},
   "source": [
    "#### SLIM ELASTICNET"
   ]
  },
  {
   "cell_type": "code",
   "execution_count": 41,
   "metadata": {
    "scrolled": true
   },
   "outputs": [
    {
     "data": {
      "image/png": "[encoded data removed]",
      "text/plain": [
       "<Figure size 432x288 with 1 Axes>"
      ]
     },
     "metadata": {
      "needs_background": "light"
     },
     "output_type": "display_data"
    }
   ],
   "source": [
    "plot_frame(x_slim,y_slim)"
   ]
  },
  {
   "cell_type": "markdown",
   "metadata": {},
   "source": [
    "#### PageRank"
   ]
  },
  {
   "cell_type": "code",
   "execution_count": 38,
   "metadata": {
    "scrolled": true
   },
   "outputs": [
    {
     "data": {
      "image/png": "[encoded data removed]",
      "text/plain": [
       "<Figure size 432x288 with 1 Axes>"
      ]
     },
     "metadata": {
      "needs_background": "light"
     },
     "output_type": "display_data"
    }
   ],
   "source": [
    "plot_frame(x_apr,y_apr)"
   ]
  },
  {
   "cell_type": "code",
   "execution_count": 133,
   "metadata": {},
   "outputs": [
    {
     "data": {
      "image/png": "[encoded data removed]",
      "text/plain": [
       "<Figure size 2400x480 with 1 Axes>"
      ]
     },
     "metadata": {},
     "output_type": "display_data"
    }
   ],
   "source": [
    "maps = [(x_mf, y_mf), (x_slim,y_slim), (x_cf,y_cf), (x_knn,y_knn), (x_apr,y_apr), (x_pp, y_pp), (x_slb, y_slb), (x_ucf, y_ucf), (x_alph, y_alph)]\n",
    "maps = [(x_cf,y_cf), (x_knn,y_knn), (x_apr,y_apr), (x_slb, y_slb), (x_ucf, y_ucf)]\n",
    "multiplot_frame(maps)"
   ]
  },
  {
   "cell_type": "code",
   "execution_count": 132,
   "metadata": {},
   "outputs": [
    {
     "data": {
      "image/png": "[encoded data removed]",
      "text/plain": [
       "<Figure size 2400x480 with 1 Axes>"
      ]
     },
     "metadata": {},
     "output_type": "display_data"
    }
   ],
   "source": [
    "maps = [(x_mf, y_mf), (x_slim,y_slim), (x_cf,y_cf), (x_knn,y_knn), (x_apr,y_apr), (x_pp, y_pp), (x_slb, y_slb), (x_ucf, y_ucf), (x_alph, y_alph)]\n",
    "maps = [(x_cf,y_cf), (x_knn,y_knn), (x_apr,y_apr), (x_slb, y_slb), (x_ucf, y_ucf)]\n",
    "y_max, c = max_rec_map(maps)\n",
    "maps = [(x_cf,y_max,c)]\n",
    "multiplot_frame2(maps)"
   ]
  },
  {
   "cell_type": "code",
   "execution_count": 63,
   "metadata": {
    "scrolled": true
   },
   "outputs": [
    {
     "name": "stdout",
     "output_type": "stream",
     "text": [
      "EvaluatorHoldout: Processed 5002 ( 100.00% ) in 2.67 sec. Users per second: 1871\n"
     ]
    },
    {
     "data": {
      "text/plain": [
       "0.03492096280031698"
      ]
     },
     "execution_count": 63,
     "metadata": {},
     "output_type": "execute_result"
    }
   ],
   "source": [
    "result_eval, _ = evaluator_test.evaluateRecommender(rec1)\n",
    "result_eval[10]['MAP']"
   ]
  },
  {
   "cell_type": "code",
   "execution_count": 65,
   "metadata": {},
   "outputs": [
    {
     "name": "stdout",
     "output_type": "stream",
     "text": [
      "EvaluatorHoldout: Processed 5002 ( 100.00% ) in 2.94 sec. Users per second: 1704\n"
     ]
    },
    {
     "data": {
      "text/plain": [
       "0.05483607952006887"
      ]
     },
     "execution_count": 65,
     "metadata": {},
     "output_type": "execute_result"
    }
   ],
   "source": [
    "result_eval, _ = evaluator_test.evaluateRecommender(rec_elasticnet)\n",
    "result_eval[10]['MAP']"
   ]
  },
  {
   "cell_type": "code",
   "execution_count": 19,
   "metadata": {
    "scrolled": false
   },
   "outputs": [
    {
     "name": "stdout",
     "output_type": "stream",
     "text": [
      "EvaluatorHoldout: Processed 5002 ( 100.00% ) in 2.67 sec. Users per second: 1871\n"
     ]
    },
    {
     "data": {
      "text/plain": [
       "0.06227232563764613"
      ]
     },
     "execution_count": 19,
     "metadata": {},
     "output_type": "execute_result"
    }
   ],
   "source": [
    "result_eval, _ = evaluator_test.evaluateRecommender(recommender_apr)\n",
    "result_eval[10]['MAP']"
   ]
  },
  {
   "cell_type": "markdown",
   "metadata": {},
   "source": [
    "---"
   ]
  },
  {
   "cell_type": "code",
   "execution_count": 4,
   "metadata": {},
   "outputs": [
    {
     "name": "stdout",
     "output_type": "stream",
     "text": [
      "RP3betaRecommender: URM Detected 42 (0.53 %) cold users.\n",
      "RP3betaRecommender: URM Detected 1971 (7.59 %) cold items.\n"
     ]
    }
   ],
   "source": [
    "from GraphBased.RP3betaRecommender import RP3betaRecommender\n",
    "recommender_apr_1 = RP3betaRecommender(URM_train)\n",
    "recommender_apr_1.fit(alpha=0.4530815441932864,  beta=0.008742088319964482, topK=104, normalize_similarity=False)"
   ]
  },
  {
   "cell_type": "code",
   "execution_count": 5,
   "metadata": {},
   "outputs": [
    {
     "name": "stdout",
     "output_type": "stream",
     "text": [
      "RP3betaRecommender: URM Detected 42 (0.53 %) cold users.\n",
      "RP3betaRecommender: URM Detected 1971 (7.59 %) cold items.\n"
     ]
    }
   ],
   "source": [
    "recommender_apr_2 = RP3betaRecommender(URM_train)\n",
    "#topK': 946, 'alpha': 0.47193263239089045, 'beta': 0.0316773658685341, 'normalize_similarity': False\n",
    "recommender_apr_2.fit(alpha=0.47193263239089045,  beta=0.0316773658685341, topK=946, normalize_similarity=False)"
   ]
  },
  {
   "cell_type": "code",
   "execution_count": 6,
   "metadata": {},
   "outputs": [
    {
     "name": "stdout",
     "output_type": "stream",
     "text": [
      "EvaluatorHoldout: Processed 5002 ( 100.00% ) in 2.69 sec. Users per second: 1861\n"
     ]
    },
    {
     "data": {
      "text/plain": [
       "('1', 0.06227232563764613)"
      ]
     },
     "execution_count": 6,
     "metadata": {},
     "output_type": "execute_result"
    }
   ],
   "source": [
    "result_eval_1, _ = evaluator_test.evaluateRecommender(recommender_apr_1)\n",
    "'1',result_eval_1[10]['MAP']"
   ]
  },
  {
   "cell_type": "code",
   "execution_count": 7,
   "metadata": {},
   "outputs": [
    {
     "name": "stdout",
     "output_type": "stream",
     "text": [
      "EvaluatorHoldout: Processed 5002 ( 100.00% ) in 3.09 sec. Users per second: 1620\n"
     ]
    },
    {
     "data": {
      "text/plain": [
       "('2', 0.06227232563764613)"
      ]
     },
     "execution_count": 7,
     "metadata": {},
     "output_type": "execute_result"
    }
   ],
   "source": [
    "result_eval_2, _ = evaluator_test.evaluateRecommender(recommender_apr_2)\n",
    "'2',result_eval_1[10]['MAP']"
   ]
  }
 ],
 "metadata": {
  "kernelspec": {
   "display_name": "Python 3",
   "language": "python",
   "name": "python3"
  },
  "language_info": {
   "codemirror_mode": {
    "name": "ipython",
    "version": 3
   },
   "file_extension": ".py",
   "mimetype": "text/x-python",
   "name": "python",
   "nbconvert_exporter": "python",
   "pygments_lexer": "ipython3",
   "version": "3.6.10"
  }
 },
 "nbformat": 4,
 "nbformat_minor": 4
}
