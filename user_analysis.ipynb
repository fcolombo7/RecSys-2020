{
 "cells": [
  {
   "cell_type": "code",
   "execution_count": 2,
   "metadata": {},
   "outputs": [],
   "source": [
    "from DataParser import DataParser\n",
    "import numpy as np\n",
    "import pandas as pd\n",
    "import scipy.sparse as sp\n",
    "\n",
    "from Base.Evaluation.Evaluator import EvaluatorHoldout\n",
    "from Data_manager.split_functions.split_train_validation_random_holdout import \\\n",
    "split_train_in_two_percentage_global_sample\n",
    "\n",
    "from KNN.ItemKNNCBFRecommender import ItemKNNCBFRecommender\n",
    "from Base.NonPersonalizedRecommender import TopPop\n",
    "from SLIM_ElasticNet.SLIMElasticNetRecommender import SLIMElasticNetRecommender\n",
    "import seaborn as sns\n",
    "import matplotlib.pyplot as plt\n",
    "from matplotlib.pyplot import figure\n",
    "\n",
    "plt.rcParams.update({'font.size': 40})\n",
    "\n",
    "%matplotlib inline"
   ]
  },
  {
   "cell_type": "code",
   "execution_count": 3,
   "metadata": {},
   "outputs": [
    {
     "name": "stdout",
     "output_type": "stream",
     "text": [
      "Warning: 42 (0.53 %) of 7947 users have no train items\n",
      "Warning: 2945 (37.06 %) of 7947 users have no sampled items\n"
     ]
    }
   ],
   "source": [
    "seed = 1024\n",
    "parser = DataParser()\n",
    "\n",
    "URM_all = parser.get_URM_all()\n",
    "ICM_all = parser.get_ICM_all()\n",
    "\n",
    "URM_train, URM_test = split_train_in_two_percentage_global_sample(URM_all, train_percentage=0.85, seed=seed)\n",
    "\n",
    "evaluator_test = EvaluatorHoldout(URM_test, cutoff_list=[10])"
   ]
  },
  {
   "cell_type": "code",
   "execution_count": 4,
   "metadata": {},
   "outputs": [],
   "source": [
    "mat = URM_all.tocoo()\n",
    "d={'user_id':mat.row,\n",
    "   'item_id':mat.col,\n",
    "   'rating':mat.data}\n",
    "frame = pd.DataFrame(data=d)\n",
    "frame_n = frame.groupby(['user_id']).size().reset_index(name='num_inter')"
   ]
  },
  {
   "cell_type": "code",
   "execution_count": 3,
   "metadata": {},
   "outputs": [],
   "source": [
    "#frame_n.loc[frame_n['num_inter'] < 2]"
   ]
  },
  {
   "cell_type": "code",
   "execution_count": 4,
   "metadata": {},
   "outputs": [],
   "source": [
    "mat = URM_train.tocoo()\n",
    "d={'user_id':mat.row,\n",
    "   'item_id':mat.col,\n",
    "   'rating':mat.data}\n",
    "frame = pd.DataFrame(data=d)\n",
    "frame_train = frame.groupby(['user_id']).size().reset_index(name='num_inter')\n",
    "\n",
    "mat = URM_test.tocoo()\n",
    "d={'user_id':mat.row,\n",
    "   'item_id':mat.col,\n",
    "   'rating':mat.data}\n",
    "frame_test = pd.DataFrame(data=d)\n",
    "frame_join = frame_test.join(frame_train.set_index('user_id'), on='user_id')\n",
    "#frame_join"
   ]
  },
  {
   "cell_type": "code",
   "execution_count": 5,
   "metadata": {},
   "outputs": [],
   "source": [
    "def split_datasets(frame, size = 20):\n",
    "    max_value = frame['num_inter'].max()\n",
    "    frame_list=[]\n",
    "    start_value = 0\n",
    "    while start_value <= max_value:\n",
    "        end_value = start_value+size\n",
    "        sub_frame = frame_join.loc[(frame_join['num_inter'] >= start_value) & (frame_join['num_inter'] < end_value)].iloc[:,:3]\n",
    "        if not sub_frame.empty:\n",
    "            t = (start_value, end_value, sub_frame)\n",
    "        else:\n",
    "            t = (start_value, end_value, None)\n",
    "        frame_list.append(t)\n",
    "        start_value = end_value\n",
    "    return frame_list"
   ]
  },
  {
   "cell_type": "code",
   "execution_count": 6,
   "metadata": {},
   "outputs": [],
   "source": [
    "def compute_map_per_range(recommender, URM_test, range_size=20):\n",
    "    map_list=[]\n",
    "    \n",
    "    URM_train = recommender.get_URM_train()\n",
    "    mat = URM_train.tocoo()\n",
    "    d={'user_id':mat.row,\n",
    "       'item_id':mat.col,\n",
    "       'rating':mat.data}\n",
    "    frame = pd.DataFrame(data=d)\n",
    "    frame_train = frame.groupby(['user_id']).size().reset_index(name='num_inter')\n",
    "\n",
    "    mat = URM_test.tocoo()\n",
    "    d={'user_id':mat.row,\n",
    "       'item_id':mat.col,\n",
    "       'rating':mat.data}\n",
    "    frame_test = pd.DataFrame(data=d)\n",
    "    frame_join = frame_test.join(frame_train.set_index('user_id'), on='user_id')\n",
    "    \n",
    "    frame_list = split_datasets(frame_join, range_size)\n",
    "    \n",
    "    for (start_value, end_value, sub_frame) in frame_list:\n",
    "        if sub_frame is None:\n",
    "            frame_map = None\n",
    "            frame_len = None\n",
    "        else:\n",
    "            frame_len = len(sub_frame.user_id.unique())\n",
    "            partial_urm_test = sp.csr_matrix((sub_frame.rating, (sub_frame.user_id, sub_frame.item_id)), \n",
    "                              shape=URM_train.shape)\n",
    "            evaluator_test = EvaluatorHoldout(partial_urm_test, cutoff_list=[10])\n",
    "            result, _ = evaluator_test.evaluateRecommender(recommender)\n",
    "            frame_map = result[10]['MAP']\n",
    "        map_list.append((start_value, end_value, frame_map, frame_len))\n",
    "    \n",
    "    return map_list\n",
    "    "
   ]
  },
  {
   "cell_type": "code",
   "execution_count": 7,
   "metadata": {},
   "outputs": [],
   "source": [
    "def frame_to_plot(map_list):\n",
    "    x = []\n",
    "    y = []\n",
    "    z = []\n",
    "    for (low, high, val, support) in map_list:\n",
    "        x_val = str(low)+'-'+str(high)\n",
    "        if val is None:\n",
    "            #y.append(0)\n",
    "            continue\n",
    "        else:\n",
    "            y.append(val)\n",
    "        x.append(x_val)\n",
    "        z.append(support)\n",
    "    return x,y,z"
   ]
  },
  {
   "cell_type": "code",
   "execution_count": 35,
   "metadata": {},
   "outputs": [],
   "source": [
    "def plot_frame(x,y):\n",
    "    #figure(num=None, figsize=(100, 20), dpi=80, facecolor='w', edgecolor='k')\n",
    "    #igure(figsize=(50,20))\n",
    "    axes = plt.gca()\n",
    "    #axis_font = {'fontname':'Arial', 'size':'22'}\n",
    "    #axes.set_ylim([0,0.3])\n",
    "    #axes.tick_params(axis='both', labelsize='large')\n",
    "    plt.setp(axes.get_xticklabels(), rotation='vertical', fontsize=14)\n",
    "    \n",
    "    plt.bar(x, y) #, align='center'\n",
    "    plt.xticks(range(len(x)), x)"
   ]
  },
  {
   "cell_type": "code",
   "execution_count": 9,
   "metadata": {},
   "outputs": [
    {
     "name": "stdout",
     "output_type": "stream",
     "text": [
      "ItemKNNCBFRecommender: URM Detected 42 (0.53 %) cold users.\n",
      "ItemKNNCBFRecommender: URM Detected 1971 (7.59 %) cold items.\n",
      "Similarity column 25975 ( 100 % ), 4812.78 column/sec, elapsed time 0.09 min\n",
      "EvaluatorHoldout: Processed 5002 ( 100.00% ) in 2.85 sec. Users per second: 1757\n"
     ]
    }
   ],
   "source": [
    "rec1 = ItemKNNCBFRecommender(URM_train, ICM_all)\n",
    "rec1.fit(topK=40, shrink=1000, similarity='cosine', feature_weighting='BM25')\n",
    "result_eval, _ = evaluator_test.evaluateRecommender(rec1) "
   ]
  },
  {
   "cell_type": "code",
   "execution_count": 10,
   "metadata": {},
   "outputs": [
    {
     "name": "stdout",
     "output_type": "stream",
     "text": [
      "EvaluatorHoldout: Processed 4362 ( 100.00% ) in 2.90 sec. Users per second: 1503\n",
      "EvaluatorHoldout: Processed 368 ( 100.00% ) in 0.27 sec. Users per second: 1359\n",
      "EvaluatorHoldout: Processed 104 ( 100.00% ) in 0.09 sec. Users per second: 1191\n",
      "EvaluatorHoldout: Processed 41 ( 100.00% ) in 0.04 sec. Users per second: 1052\n",
      "EvaluatorHoldout: Processed 23 ( 100.00% ) in 0.02 sec. Users per second: 948\n",
      "EvaluatorHoldout: Processed 19 ( 100.00% ) in 0.02 sec. Users per second: 928\n",
      "EvaluatorHoldout: Processed 15 ( 100.00% ) in 0.02 sec. Users per second: 781\n",
      "EvaluatorHoldout: Processed 5 ( 100.00% ) in 0.01 sec. Users per second: 417\n",
      "EvaluatorHoldout: Processed 3 ( 100.00% ) in 0.01 sec. Users per second: 286\n",
      "EvaluatorHoldout: Processed 5 ( 100.00% ) in 0.01 sec. Users per second: 473\n",
      "EvaluatorHoldout: Processed 1 ( 100.00% ) in 0.01 sec. Users per second: 114\n",
      "EvaluatorHoldout: Processed 2 ( 100.00% ) in 0.01 sec. Users per second: 247\n"
     ]
    },
    {
     "name": "stderr",
     "output_type": "stream",
     "text": [
      "/home/filippo/challenge/RecSys-2020/Base/Evaluation/metrics.py:947: RuntimeWarning: invalid value encountered in double_scalars\n",
      "  self.diversity = diversity_cumulative/all_user_couples_count\n"
     ]
    },
    {
     "name": "stdout",
     "output_type": "stream",
     "text": [
      "EvaluatorHoldout: Processed 3 ( 100.00% ) in 0.01 sec. Users per second: 303\n",
      "EvaluatorHoldout: Processed 1 ( 100.00% ) in 0.01 sec. Users per second: 150\n",
      "EvaluatorHoldout: Processed 2 ( 100.00% ) in 0.01 sec. Users per second: 223\n",
      "EvaluatorHoldout: Processed 1 ( 100.00% ) in 0.01 sec. Users per second: 132\n",
      "EvaluatorHoldout: Processed 2 ( 100.00% ) in 0.01 sec. Users per second: 198\n",
      "EvaluatorHoldout: Processed 1 ( 100.00% ) in 0.01 sec. Users per second: 125\n",
      "EvaluatorHoldout: Processed 1 ( 100.00% ) in 0.01 sec. Users per second: 118\n",
      "EvaluatorHoldout: Processed 1 ( 100.00% ) in 0.01 sec. Users per second: 154\n"
     ]
    }
   ],
   "source": [
    "map_list_knn = compute_map_per_range(rec1, URM_test, range_size=30)\n",
    "x_knn,y_knn,_ = frame_to_plot(map_list_knn)\n",
    "frame_knn = pd.DataFrame({'range':x_knn, 'MAP':y_knn})\n",
    "#frame_knn"
   ]
  },
  {
   "cell_type": "code",
   "execution_count": 39,
   "metadata": {
    "scrolled": true
   },
   "outputs": [
    {
     "name": "stdout",
     "output_type": "stream",
     "text": [
      "SLIMElasticNetRecommender: URM Detected 42 (0.53 %) cold users.\n",
      "SLIMElasticNetRecommender: URM Detected 1971 (7.59 %) cold items.\n",
      "SLIMElasticNetRecommender: Processed 9309 ( 35.84% ) in 5.00 min. Items per second: 31.03\n",
      "SLIMElasticNetRecommender: Processed 18904 ( 72.78% ) in 10.00 min. Items per second: 31.50\n",
      "SLIMElasticNetRecommender: Processed 25975 ( 100.00% ) in 13.65 min. Items per second: 31.72\n"
     ]
    }
   ],
   "source": [
    "rec_elasticnet = SLIMElasticNetRecommender(URM_train)\n",
    "rec_elasticnet.fit(topK=120, l1_ratio=1e-5, alpha=0.066)\n"
   ]
  },
  {
   "cell_type": "code",
   "execution_count": 40,
   "metadata": {},
   "outputs": [
    {
     "name": "stdout",
     "output_type": "stream",
     "text": [
      "EvaluatorHoldout: Processed 4362 ( 100.00% ) in 3.33 sec. Users per second: 1309\n",
      "EvaluatorHoldout: Processed 368 ( 100.00% ) in 0.39 sec. Users per second: 947\n",
      "EvaluatorHoldout: Processed 104 ( 100.00% ) in 0.10 sec. Users per second: 1028\n",
      "EvaluatorHoldout: Processed 41 ( 100.00% ) in 0.04 sec. Users per second: 1088\n",
      "EvaluatorHoldout: Processed 23 ( 100.00% ) in 0.03 sec. Users per second: 801\n",
      "EvaluatorHoldout: Processed 19 ( 100.00% ) in 0.02 sec. Users per second: 878\n",
      "EvaluatorHoldout: Processed 15 ( 100.00% ) in 0.02 sec. Users per second: 845\n",
      "EvaluatorHoldout: Processed 5 ( 100.00% ) in 0.01 sec. Users per second: 592\n",
      "EvaluatorHoldout: Processed 3 ( 100.00% ) in 0.01 sec. Users per second: 433\n",
      "EvaluatorHoldout: Processed 5 ( 100.00% ) in 0.01 sec. Users per second: 558\n",
      "EvaluatorHoldout: Processed 1 ( 100.00% ) in 0.00 sec. Users per second: 202\n",
      "EvaluatorHoldout: Processed 2 ( 100.00% ) in 0.01 sec. Users per second: 345\n"
     ]
    },
    {
     "name": "stderr",
     "output_type": "stream",
     "text": [
      "/home/filippo/challenge/RecSys-2020/Base/Evaluation/metrics.py:947: RuntimeWarning: invalid value encountered in double_scalars\n",
      "  self.diversity = diversity_cumulative/all_user_couples_count\n"
     ]
    },
    {
     "name": "stdout",
     "output_type": "stream",
     "text": [
      "EvaluatorHoldout: Processed 3 ( 100.00% ) in 0.01 sec. Users per second: 382\n",
      "EvaluatorHoldout: Processed 1 ( 100.00% ) in 0.01 sec. Users per second: 186\n",
      "EvaluatorHoldout: Processed 2 ( 100.00% ) in 0.01 sec. Users per second: 308\n",
      "EvaluatorHoldout: Processed 1 ( 100.00% ) in 0.01 sec. Users per second: 172\n",
      "EvaluatorHoldout: Processed 2 ( 100.00% ) in 0.01 sec. Users per second: 294\n",
      "EvaluatorHoldout: Processed 1 ( 100.00% ) in 0.01 sec. Users per second: 181\n",
      "EvaluatorHoldout: Processed 1 ( 100.00% ) in 0.01 sec. Users per second: 183\n",
      "EvaluatorHoldout: Processed 1 ( 100.00% ) in 0.01 sec. Users per second: 173\n"
     ]
    }
   ],
   "source": [
    "mappone = compute_map_per_range(rec_elasticnet, URM_test, range_size=30)\n",
    "x_slim,y_slim,_ = frame_to_plot(mappone)"
   ]
  },
  {
   "cell_type": "code",
   "execution_count": 13,
   "metadata": {},
   "outputs": [
    {
     "name": "stdout",
     "output_type": "stream",
     "text": [
      "RP3betaRecommender: URM Detected 42 (0.53 %) cold users.\n",
      "RP3betaRecommender: URM Detected 1971 (7.59 %) cold items.\n"
     ]
    }
   ],
   "source": [
    "from GraphBased.RP3betaRecommender import RP3betaRecommender\n",
    "recommender_apr = RP3betaRecommender(URM_train)\n",
    "recommender_apr.fit(alpha=0.4530815441932864,  beta=0.008742088319964482, topK=104, normalize_similarity=False)"
   ]
  },
  {
   "cell_type": "code",
   "execution_count": 14,
   "metadata": {
    "scrolled": true
   },
   "outputs": [
    {
     "name": "stdout",
     "output_type": "stream",
     "text": [
      "EvaluatorHoldout: Processed 4362 ( 100.00% ) in 2.34 sec. Users per second: 1862\n",
      "EvaluatorHoldout: Processed 368 ( 100.00% ) in 0.22 sec. Users per second: 1705\n",
      "EvaluatorHoldout: Processed 104 ( 100.00% ) in 0.06 sec. Users per second: 1803\n",
      "EvaluatorHoldout: Processed 41 ( 100.00% ) in 0.03 sec. Users per second: 1333\n",
      "EvaluatorHoldout: Processed 23 ( 100.00% ) in 0.02 sec. Users per second: 1133\n",
      "EvaluatorHoldout: Processed 19 ( 100.00% ) in 0.02 sec. Users per second: 1070\n",
      "EvaluatorHoldout: Processed 15 ( 100.00% ) in 0.02 sec. Users per second: 835\n",
      "EvaluatorHoldout: Processed 5 ( 100.00% ) in 0.01 sec. Users per second: 746\n",
      "EvaluatorHoldout: Processed 3 ( 100.00% ) in 0.01 sec. Users per second: 289\n",
      "EvaluatorHoldout: Processed 5 ( 100.00% ) in 0.01 sec. Users per second: 421\n",
      "EvaluatorHoldout: Processed 1 ( 100.00% ) in 0.01 sec. Users per second: 133\n",
      "EvaluatorHoldout: Processed 2 ( 100.00% ) in 0.00 sec. Users per second: 414\n"
     ]
    },
    {
     "name": "stderr",
     "output_type": "stream",
     "text": [
      "/home/filippo/challenge/RecSys-2020/Base/Evaluation/metrics.py:947: RuntimeWarning: invalid value encountered in double_scalars\n",
      "  self.diversity = diversity_cumulative/all_user_couples_count\n"
     ]
    },
    {
     "name": "stdout",
     "output_type": "stream",
     "text": [
      "EvaluatorHoldout: Processed 3 ( 100.00% ) in 0.01 sec. Users per second: 300\n",
      "EvaluatorHoldout: Processed 1 ( 100.00% ) in 0.00 sec. Users per second: 226\n",
      "EvaluatorHoldout: Processed 2 ( 100.00% ) in 0.01 sec. Users per second: 248\n",
      "EvaluatorHoldout: Processed 1 ( 100.00% ) in 0.00 sec. Users per second: 234\n",
      "EvaluatorHoldout: Processed 2 ( 100.00% ) in 0.01 sec. Users per second: 270\n",
      "EvaluatorHoldout: Processed 1 ( 100.00% ) in 0.01 sec. Users per second: 199\n",
      "EvaluatorHoldout: Processed 1 ( 100.00% ) in 0.00 sec. Users per second: 206\n",
      "EvaluatorHoldout: Processed 1 ( 100.00% ) in 0.01 sec. Users per second: 144\n"
     ]
    }
   ],
   "source": [
    "list2=compute_map_per_range(recommender_apr, URM_test, range_size=30)\n",
    "x_apr,y_apr,_ = frame_to_plot(list2)\n",
    "#pd.DataFrame({'range':x, 'MAP':y})"
   ]
  },
  {
   "cell_type": "code",
   "execution_count": 15,
   "metadata": {},
   "outputs": [
    {
     "name": "stdout",
     "output_type": "stream",
     "text": [
      "ItemKNNCFRecommender: URM Detected 42 (0.53 %) cold users.\n",
      "ItemKNNCFRecommender: URM Detected 1971 (7.59 %) cold items.\n",
      "Similarity column 25975 ( 100 % ), 7489.84 column/sec, elapsed time 0.06 min\n"
     ]
    }
   ],
   "source": [
    "from KNN.ItemKNNCFRecommender import ItemKNNCFRecommender\n",
    "#'topK': 967, 'shrink': 356, 'similarity': 'cosine', 'normalize': True\n",
    "recommender_cf_knn = ItemKNNCFRecommender(URM_train)\n",
    "recommender_cf_knn.fit(topK=967, shrink=356, similarity='cosine', normalize=True)"
   ]
  },
  {
   "cell_type": "code",
   "execution_count": 16,
   "metadata": {},
   "outputs": [
    {
     "name": "stdout",
     "output_type": "stream",
     "text": [
      "EvaluatorHoldout: Processed 4362 ( 100.00% ) in 2.83 sec. Users per second: 1542\n",
      "EvaluatorHoldout: Processed 368 ( 100.00% ) in 0.34 sec. Users per second: 1095\n",
      "EvaluatorHoldout: Processed 104 ( 100.00% ) in 0.11 sec. Users per second: 978\n",
      "EvaluatorHoldout: Processed 41 ( 100.00% ) in 0.05 sec. Users per second: 850\n",
      "EvaluatorHoldout: Processed 23 ( 100.00% ) in 0.03 sec. Users per second: 720\n",
      "EvaluatorHoldout: Processed 19 ( 100.00% ) in 0.03 sec. Users per second: 625\n",
      "EvaluatorHoldout: Processed 15 ( 100.00% ) in 0.03 sec. Users per second: 560\n",
      "EvaluatorHoldout: Processed 5 ( 100.00% ) in 0.01 sec. Users per second: 361\n",
      "EvaluatorHoldout: Processed 3 ( 100.00% ) in 0.01 sec. Users per second: 267\n",
      "EvaluatorHoldout: Processed 5 ( 100.00% ) in 0.01 sec. Users per second: 368\n",
      "EvaluatorHoldout: Processed 1 ( 100.00% ) in 0.01 sec. Users per second: 100\n",
      "EvaluatorHoldout: Processed 2 ( 100.00% ) in 0.01 sec. Users per second: 174\n"
     ]
    },
    {
     "name": "stderr",
     "output_type": "stream",
     "text": [
      "/home/filippo/challenge/RecSys-2020/Base/Evaluation/metrics.py:947: RuntimeWarning: invalid value encountered in double_scalars\n",
      "  self.diversity = diversity_cumulative/all_user_couples_count\n"
     ]
    },
    {
     "name": "stdout",
     "output_type": "stream",
     "text": [
      "EvaluatorHoldout: Processed 3 ( 100.00% ) in 0.02 sec. Users per second: 200\n",
      "EvaluatorHoldout: Processed 1 ( 100.00% ) in 0.01 sec. Users per second: 135\n",
      "EvaluatorHoldout: Processed 2 ( 100.00% ) in 0.01 sec. Users per second: 141\n",
      "EvaluatorHoldout: Processed 1 ( 100.00% ) in 0.01 sec. Users per second: 126\n",
      "EvaluatorHoldout: Processed 2 ( 100.00% ) in 0.01 sec. Users per second: 154\n",
      "EvaluatorHoldout: Processed 1 ( 100.00% ) in 0.01 sec. Users per second: 96\n",
      "EvaluatorHoldout: Processed 1 ( 100.00% ) in 0.01 sec. Users per second: 96\n",
      "EvaluatorHoldout: Processed 1 ( 100.00% ) in 0.01 sec. Users per second: 86\n"
     ]
    }
   ],
   "source": [
    "list_cf=compute_map_per_range(recommender_cf_knn, URM_test, range_size=30)\n",
    "x_cf,y_cf,_ = frame_to_plot(list_cf)"
   ]
  },
  {
   "cell_type": "markdown",
   "metadata": {},
   "source": [
    "#### ItemKNNCBF"
   ]
  },
  {
   "cell_type": "code",
   "execution_count": 36,
   "metadata": {},
   "outputs": [
    {
     "data": {
      "image/png": "[encoded data removed]",
      "text/plain": [
       "<Figure size 432x288 with 1 Axes>"
      ]
     },
     "metadata": {
      "needs_background": "light"
     },
     "output_type": "display_data"
    }
   ],
   "source": [
    "plot_frame(x_knn,y_knn)"
   ]
  },
  {
   "cell_type": "markdown",
   "metadata": {},
   "source": [
    "#### ItemKNNCF"
   ]
  },
  {
   "cell_type": "code",
   "execution_count": 37,
   "metadata": {},
   "outputs": [
    {
     "data": {
      "image/png": "[encoded data removed]",
      "text/plain": [
       "<Figure size 432x288 with 1 Axes>"
      ]
     },
     "metadata": {
      "needs_background": "light"
     },
     "output_type": "display_data"
    }
   ],
   "source": [
    "plot_frame(x_cf,y_cf)"
   ]
  },
  {
   "cell_type": "markdown",
   "metadata": {},
   "source": [
    "#### SLIM ELASTICNET"
   ]
  },
  {
   "cell_type": "code",
   "execution_count": 41,
   "metadata": {
    "scrolled": true
   },
   "outputs": [
    {
     "data": {
      "image/png": "[encoded data removed]",
      "text/plain": [
       "<Figure size 432x288 with 1 Axes>"
      ]
     },
     "metadata": {
      "needs_background": "light"
     },
     "output_type": "display_data"
    }
   ],
   "source": [
    "plot_frame(x_slim,y_slim)"
   ]
  },
  {
   "cell_type": "markdown",
   "metadata": {},
   "source": [
    "#### PageRank"
   ]
  },
  {
   "cell_type": "code",
   "execution_count": 38,
   "metadata": {},
   "outputs": [
    {
     "data": {
      "image/png": "[encoded data removed]",
      "text/plain": [
       "<Figure size 432x288 with 1 Axes>"
      ]
     },
     "metadata": {
      "needs_background": "light"
     },
     "output_type": "display_data"
    }
   ],
   "source": [
    "plot_frame(x_apr,y_apr)"
   ]
  },
  {
   "cell_type": "code",
   "execution_count": 63,
   "metadata": {
    "scrolled": true
   },
   "outputs": [
    {
     "name": "stdout",
     "output_type": "stream",
     "text": [
      "EvaluatorHoldout: Processed 5002 ( 100.00% ) in 2.67 sec. Users per second: 1871\n"
     ]
    },
    {
     "data": {
      "text/plain": [
       "0.03492096280031698"
      ]
     },
     "execution_count": 63,
     "metadata": {},
     "output_type": "execute_result"
    }
   ],
   "source": [
    "result_eval, _ = evaluator_test.evaluateRecommender(rec1)\n",
    "result_eval[10]['MAP']"
   ]
  },
  {
   "cell_type": "code",
   "execution_count": 65,
   "metadata": {},
   "outputs": [
    {
     "name": "stdout",
     "output_type": "stream",
     "text": [
      "EvaluatorHoldout: Processed 5002 ( 100.00% ) in 2.94 sec. Users per second: 1704\n"
     ]
    },
    {
     "data": {
      "text/plain": [
       "0.05483607952006887"
      ]
     },
     "execution_count": 65,
     "metadata": {},
     "output_type": "execute_result"
    }
   ],
   "source": [
    "result_eval, _ = evaluator_test.evaluateRecommender(rec_elasticnet)\n",
    "result_eval[10]['MAP']"
   ]
  },
  {
   "cell_type": "code",
   "execution_count": 19,
   "metadata": {
    "scrolled": false
   },
   "outputs": [
    {
     "name": "stdout",
     "output_type": "stream",
     "text": [
      "EvaluatorHoldout: Processed 5002 ( 100.00% ) in 2.67 sec. Users per second: 1871\n"
     ]
    },
    {
     "data": {
      "text/plain": [
       "0.06227232563764613"
      ]
     },
     "execution_count": 19,
     "metadata": {},
     "output_type": "execute_result"
    }
   ],
   "source": [
    "result_eval, _ = evaluator_test.evaluateRecommender(recommender_apr)\n",
    "result_eval[10]['MAP']"
   ]
  },
  {
   "cell_type": "markdown",
   "metadata": {},
   "source": [
    "---"
   ]
  },
  {
   "cell_type": "code",
   "execution_count": 4,
   "metadata": {},
   "outputs": [
    {
     "name": "stdout",
     "output_type": "stream",
     "text": [
      "RP3betaRecommender: URM Detected 42 (0.53 %) cold users.\n",
      "RP3betaRecommender: URM Detected 1971 (7.59 %) cold items.\n"
     ]
    }
   ],
   "source": [
    "from GraphBased.RP3betaRecommender import RP3betaRecommender\n",
    "recommender_apr_1 = RP3betaRecommender(URM_train)\n",
    "recommender_apr_1.fit(alpha=0.4530815441932864,  beta=0.008742088319964482, topK=104, normalize_similarity=False)"
   ]
  },
  {
   "cell_type": "code",
   "execution_count": 5,
   "metadata": {},
   "outputs": [
    {
     "name": "stdout",
     "output_type": "stream",
     "text": [
      "RP3betaRecommender: URM Detected 42 (0.53 %) cold users.\n",
      "RP3betaRecommender: URM Detected 1971 (7.59 %) cold items.\n"
     ]
    }
   ],
   "source": [
    "recommender_apr_2 = RP3betaRecommender(URM_train)\n",
    "#topK': 946, 'alpha': 0.47193263239089045, 'beta': 0.0316773658685341, 'normalize_similarity': False\n",
    "recommender_apr_2.fit(alpha=0.47193263239089045,  beta=0.0316773658685341, topK=946, normalize_similarity=False)"
   ]
  },
  {
   "cell_type": "code",
   "execution_count": 6,
   "metadata": {},
   "outputs": [
    {
     "name": "stdout",
     "output_type": "stream",
     "text": [
      "EvaluatorHoldout: Processed 5002 ( 100.00% ) in 2.69 sec. Users per second: 1861\n"
     ]
    },
    {
     "data": {
      "text/plain": [
       "('1', 0.06227232563764613)"
      ]
     },
     "execution_count": 6,
     "metadata": {},
     "output_type": "execute_result"
    }
   ],
   "source": [
    "result_eval_1, _ = evaluator_test.evaluateRecommender(recommender_apr_1)\n",
    "'1',result_eval_1[10]['MAP']"
   ]
  },
  {
   "cell_type": "code",
   "execution_count": 7,
   "metadata": {},
   "outputs": [
    {
     "name": "stdout",
     "output_type": "stream",
     "text": [
      "EvaluatorHoldout: Processed 5002 ( 100.00% ) in 3.09 sec. Users per second: 1620\n"
     ]
    },
    {
     "data": {
      "text/plain": [
       "('2', 0.06227232563764613)"
      ]
     },
     "execution_count": 7,
     "metadata": {},
     "output_type": "execute_result"
    }
   ],
   "source": [
    "result_eval_2, _ = evaluator_test.evaluateRecommender(recommender_apr_2)\n",
    "'2',result_eval_1[10]['MAP']"
   ]
  }
 ],
 "metadata": {
  "kernelspec": {
   "display_name": "Python 3",
   "language": "python",
   "name": "python3"
  },
  "language_info": {
   "codemirror_mode": {
    "name": "ipython",
    "version": 3
   },
   "file_extension": ".py",
   "mimetype": "text/x-python",
   "name": "python",
   "nbconvert_exporter": "python",
   "pygments_lexer": "ipython3",
   "version": "3.6.10"
  }
 },
 "nbformat": 4,
 "nbformat_minor": 4
}
