{
 "cells": [
  {
   "cell_type": "code",
   "execution_count": 1,
   "metadata": {},
   "outputs": [],
   "source": [
    "from DataParser import DataParser\n",
    "import numpy as np\n",
    "import scipy.sparse as sps\n",
    "\n",
    "from Data_manager.split_functions.split_train_validation_random_holdout import \\\n",
    "split_train_in_two_percentage_global_sample\n",
    "\n",
    "import matplotlib.pyplot as plt\n",
    "from matplotlib.pyplot import figure\n",
    "from SimpleEvaluator import evaluator\n",
    "from Base.Evaluation.Evaluator import EvaluatorHoldout"
   ]
  },
  {
   "cell_type": "code",
   "execution_count": 2,
   "metadata": {},
   "outputs": [
    {
     "name": "stderr",
     "output_type": "stream",
     "text": [
      "/home/filippo/anaconda3/envs/RecSysFramework2/lib/python3.6/importlib/_bootstrap.py:219: RuntimeWarning: numpy.ufunc size changed, may indicate binary incompatibility. Expected 216, got 192\n",
      "  return f(*args, **kwds)\n"
     ]
    }
   ],
   "source": [
    "from Base.NonPersonalizedRecommender import TopPop, Random\n",
    "from Hybrid.HybridCombinationSearch import HybridCombinationMergedSearch,HybridCombinationSearch\n",
    "from KNN.ItemKNNCBFRecommender import ItemKNNCBFRecommender\n",
    "from KNN.UserKNNCFRecommender import UserKNNCFRecommender\n",
    "from KNN.ItemKNNCFRecommender import ItemKNNCFRecommender\n",
    "from MatrixFactorization.IALSRecommender import IALSRecommender\n",
    "from SLIM_BPR.Cython.SLIM_BPR_Cython import SLIM_BPR_Cython\n",
    "from SLIM_ElasticNet.SLIMElasticNetRecommender import SLIMElasticNetRecommender\n",
    "from SLIM_ElasticNet.SSLIM_ElasticNet import SSLIMElasticNet\n",
    "from GraphBased.P3alphaRecommender import P3alphaRecommender\n",
    "from GraphBased.RP3betaRecommender import RP3betaRecommender\n",
    "from MatrixFactorization.Cython.MatrixFactorization_Cython import MatrixFactorization_BPR_Cython, MatrixFactorization_FunkSVD_Cython\n",
    "from MatrixFactorization.PureSVDRecommender import PureSVDRecommender, PureSVDItemRecommender\n",
    "from MatrixFactorization.NMFRecommender import NMFRecommender"
   ]
  },
  {
   "cell_type": "code",
   "execution_count": 3,
   "metadata": {},
   "outputs": [
    {
     "name": "stdout",
     "output_type": "stream",
     "text": [
      "Warning: 27 (0.34 %) of 7947 users have no train items\n",
      "Warning: 3841 (48.33 %) of 7947 users have no sampled items\n"
     ]
    }
   ],
   "source": [
    "seed = 1205\n",
    "parser = DataParser()\n",
    "\n",
    "URM_all = parser.get_URM_all()\n",
    "ICM_all = parser.get_ICM_all()\n",
    "\n",
    "URM_train, URM_test = split_train_in_two_percentage_global_sample(URM_all, train_percentage=0.9, seed=seed)"
   ]
  },
  {
   "cell_type": "code",
   "execution_count": 5,
   "metadata": {},
   "outputs": [
    {
     "name": "stdout",
     "output_type": "stream",
     "text": [
      "RP3betaRecommender loaded.\n",
      "P3alphaRecommender loaded.\n",
      "ItemKNNCFRecommender loaded.\n",
      "UserKNNCFRecommender loaded.\n",
      "ItemKNNCBFRecommender loaded.\n",
      "SLIMElasticNetRecommender loaded.\n",
      "SLIM_BPR_Recommender loaded.\n",
      "S-SLIMElasticNet loaded.\n"
     ]
    }
   ],
   "source": [
    "rp3b = RP3betaRecommender(URM_train, verbose=False)\n",
    "rp3b_params = {'topK': 1000, 'alpha': 0.38192761611274967, 'beta': 0.0, 'normalize_similarity': False}\n",
    "try:\n",
    "    rp3b.load_model(f'stored_recommenders/seed_{str(seed)}_{rp3b.RECOMMENDER_NAME}/','for_notebook_analysis')\n",
    "    print(f\"{rp3b.RECOMMENDER_NAME} loaded.\")\n",
    "except:\n",
    "    print(f\"Fitting {rp3b.RECOMMENDER_NAME} ...\")\n",
    "    rp3b.fit(**rp3b_params)\n",
    "    print(f\"done.\")\n",
    "    rp3b.save_model(f'stored_recommenders/seed_{str(seed)}_{rp3b.RECOMMENDER_NAME}/','for_notebook_analysis')\n",
    "\n",
    "p3a = P3alphaRecommender(URM_train, verbose=False)\n",
    "p3a_params = {'topK': 131, 'alpha': 0.33660811631883863, 'normalize_similarity': False}\n",
    "try:\n",
    "    p3a.load_model(f'stored_recommenders/seed_{str(seed)}_{p3a.RECOMMENDER_NAME}/','for_notebook_analysis')\n",
    "    print(f\"{p3a.RECOMMENDER_NAME} loaded.\")\n",
    "except:\n",
    "    print(f\"Fitting {p3a.RECOMMENDER_NAME} ...\")\n",
    "    p3a.fit(**p3a_params)\n",
    "    print(f\"done.\")\n",
    "    p3a.save_model(f'stored_recommenders/seed_{str(seed)}_{p3a.RECOMMENDER_NAME}/','for_notebook_analysis')\n",
    "\n",
    "\n",
    "icf = ItemKNNCFRecommender(URM_train, verbose=False)\n",
    "icf_params = {'topK': 55, 'shrink': 1000, 'similarity': 'asymmetric', 'normalize': True, 'asymmetric_alpha': 0.0}\n",
    "try:\n",
    "    icf.load_model(f'stored_recommenders/seed_{str(seed)}_{icf.RECOMMENDER_NAME}/','for_notebook_analysis')\n",
    "    print(f\"{icf.RECOMMENDER_NAME} loaded.\")\n",
    "except:\n",
    "    print(f\"Fitting {icf.RECOMMENDER_NAME} ...\")\n",
    "    icf.fit(**icf_params)\n",
    "    print(f\"done.\")\n",
    "    icf.save_model(f'stored_recommenders/seed_{str(seed)}_{icf.RECOMMENDER_NAME}/','for_notebook_analysis')\n",
    "    \n",
    "ucf = UserKNNCFRecommender(URM_train, verbose=False)\n",
    "ucf_params = {'topK': 190, 'shrink': 0, 'similarity': 'cosine', 'normalize': True}\n",
    "try:\n",
    "    ucf.load_model(f'stored_recommenders/seed_{str(seed)}_{ucf.RECOMMENDER_NAME}/','for_notebook_analysis')\n",
    "    print(f\"{ucf.RECOMMENDER_NAME} loaded.\")\n",
    "except:\n",
    "    print(f\"Fitting {ucf.RECOMMENDER_NAME} ...\")\n",
    "    ucf.fit(**ucf_params)\n",
    "    print(f\"done.\")\n",
    "    ucf.save_model(f'stored_recommenders/seed_{str(seed)}_{ucf.RECOMMENDER_NAME}/','for_notebook_analysis')\n",
    "\n",
    "icb = ItemKNNCBFRecommender(URM_train, ICM_all, verbose=False)\n",
    "icb_params = {'topK': 65, 'shrink': 0, 'similarity': 'dice', 'normalize': True}\n",
    "try:\n",
    "    icb.load_model(f'stored_recommenders/seed_{str(seed)}_{icb.RECOMMENDER_NAME}/','for_notebook_analysis')\n",
    "    print(f\"{icb.RECOMMENDER_NAME} loaded.\")\n",
    "except:\n",
    "    print(f\"Fitting {icb.RECOMMENDER_NAME} ...\")\n",
    "    icb.fit(**icb_params)\n",
    "    print(f\"done.\")\n",
    "    icb.save_model(f'stored_recommenders/seed_{str(seed)}_{icb.RECOMMENDER_NAME}/','for_notebook_analysis')\n",
    "\n",
    "sen = SLIMElasticNetRecommender(URM_train, verbose=False)\n",
    "sen_params = {'topK': 992, 'l1_ratio': 0.004065081925341167, 'alpha': 0.003725005053334143}\n",
    "try:\n",
    "    sen.load_model(f'stored_recommenders/seed_{str(seed)}_{sen.RECOMMENDER_NAME}/','for_notebook_analysis')\n",
    "    print(f\"{sen.RECOMMENDER_NAME} loaded.\")\n",
    "except:\n",
    "    print(f\"Fitting {sen.RECOMMENDER_NAME} ...\")\n",
    "    sen.fit(**sen_params)\n",
    "    print(f\"done.\")\n",
    "    sen.save_model(f'stored_recommenders/seed_{str(seed)}_{sen.RECOMMENDER_NAME}/','for_notebook_analysis')\n",
    "\n",
    "sbpr = SLIM_BPR_Cython(URM_train, verbose=False)\n",
    "sbpr_params = {'topK': 979, 'epochs': 130, 'symmetric': False, 'sgd_mode': 'adam', 'lambda_i': 0.004947329669424629, 'lambda_j': 1.1534760845071758e-05, 'learning_rate': 0.0001}\n",
    "try:\n",
    "    sbpr.load_model(f'stored_recommenders/seed_{str(seed)}_{sbpr.RECOMMENDER_NAME}/','for_notebook_analysis')\n",
    "    print(f\"{sbpr.RECOMMENDER_NAME} loaded.\")\n",
    "except:\n",
    "    print(f\"Fitting {sbpr.RECOMMENDER_NAME} ...\")\n",
    "    sbpr.fit(**sbpr_params)\n",
    "    print(f\"done.\")\n",
    "    sbpr.save_model(f'stored_recommenders/seed_{str(seed)}_{sbpr.RECOMMENDER_NAME}/','for_notebook_analysis')\n",
    "\n",
    "sslim = SSLIMElasticNet(URM_train, ICM_all, verbose=False)\n",
    "sslim_params = {'beta': 0.4849594591575789, 'topK': 1000, 'l1_ratio': 1e-05, 'alpha': 0.001}\n",
    "try:\n",
    "    sslim.load_model(f'stored_recommenders/seed_{str(seed)}_{sslim.RECOMMENDER_NAME}/','for_notebook_analysis')\n",
    "    print(f\"{sslim.RECOMMENDER_NAME} loaded.\")\n",
    "except:\n",
    "    print(f\"Fitting {sslim.RECOMMENDER_NAME} ...\")\n",
    "    sslim.fit(**sslim_params)\n",
    "    print(f\"done.\")\n",
    "    sslim.save_model(f'stored_recommenders/seed_{str(seed)}_{sslim.RECOMMENDER_NAME}/','for_notebook_analysis')\n"
   ]
  },
  {
   "cell_type": "markdown",
   "metadata": {},
   "source": [
    "### MERGED COMBO"
   ]
  },
  {
   "cell_type": "code",
   "execution_count": 6,
   "metadata": {},
   "outputs": [],
   "source": [
    "merged_labels={\n",
    "    'merged1': 'icb_icf_p3a',\n",
    "    'merged2': 'icb_icf_rp3b',\n",
    "    'merged3': 'icb_icf_sen',\n",
    "    'merged4': 'icb_p3a_rp3b',\n",
    "    'merged5': 'icb_p3a_sen',\n",
    "    'merged6': 'icb_rp3b_sen',\n",
    "    'merged7': 'icf_p3a_rp3b',\n",
    "    'merged8': 'p3a_rp3b_sen',\n",
    "}#8 e 9 sono P3a e Rp3b singoli! --> 10 => 8"
   ]
  },
  {
   "cell_type": "code",
   "execution_count": 7,
   "metadata": {},
   "outputs": [],
   "source": [
    "evaluator_test = EvaluatorHoldout(URM_test, cutoff_list=[10])"
   ]
  },
  {
   "cell_type": "code",
   "execution_count": 8,
   "metadata": {},
   "outputs": [
    {
     "name": "stdout",
     "output_type": "stream",
     "text": [
      "HybridCombinationMergedSearch: URM Detected 27 (0.34 %) cold users.\n",
      "HybridCombinationMergedSearch: URM Detected 1634 (6.29 %) cold items.\n",
      "EvaluatorHoldout: Processed 4106 ( 100.00% ) in 2.98 sec. Users per second: 1379\n"
     ]
    },
    {
     "data": {
      "text/plain": [
       "0.07330344697863617"
      ]
     },
     "execution_count": 8,
     "metadata": {},
     "output_type": "execute_result"
    }
   ],
   "source": [
    "list_recommender = [icb, icf, p3a]\n",
    "merged1 = HybridCombinationMergedSearch(URM_train, ICM_all, list_recommender)\n",
    "params={'alpha': 0.9004575733942728, 'l1_ratio': 0.26510663025884135, 'topK': 888}\n",
    "merged1.fit(**params)\n",
    "result, _ = evaluator_test.evaluateRecommender(merged1)\n",
    "result[10]['MAP']"
   ]
  },
  {
   "cell_type": "code",
   "execution_count": 9,
   "metadata": {},
   "outputs": [
    {
     "name": "stdout",
     "output_type": "stream",
     "text": [
      "HybridCombinationMergedSearch: URM Detected 27 (0.34 %) cold users.\n",
      "HybridCombinationMergedSearch: URM Detected 1634 (6.29 %) cold items.\n",
      "EvaluatorHoldout: Processed 4106 ( 100.00% ) in 3.38 sec. Users per second: 1216\n"
     ]
    },
    {
     "data": {
      "text/plain": [
       "0.07380063236981378"
      ]
     },
     "execution_count": 9,
     "metadata": {},
     "output_type": "execute_result"
    }
   ],
   "source": [
    "list_recommender = [icb, icf, rp3b]\n",
    "merged2 = HybridCombinationMergedSearch(URM_train, ICM_all, list_recommender)\n",
    "params={'alpha': 0.6299182764826382, 'l1_ratio': 0.9675762628242017, 'topK': 864}\n",
    "merged2.fit(**params)\n",
    "result, _ = evaluator_test.evaluateRecommender(merged2)\n",
    "result[10]['MAP']"
   ]
  },
  {
   "cell_type": "code",
   "execution_count": 10,
   "metadata": {},
   "outputs": [
    {
     "name": "stdout",
     "output_type": "stream",
     "text": [
      "HybridCombinationMergedSearch: URM Detected 27 (0.34 %) cold users.\n",
      "HybridCombinationMergedSearch: URM Detected 1634 (6.29 %) cold items.\n",
      "EvaluatorHoldout: Processed 4106 ( 100.00% ) in 3.32 sec. Users per second: 1237\n"
     ]
    },
    {
     "data": {
      "text/plain": [
       "0.07392929945110398"
      ]
     },
     "execution_count": 10,
     "metadata": {},
     "output_type": "execute_result"
    }
   ],
   "source": [
    "list_recommender = [icb, icf, sen]\n",
    "merged3 = HybridCombinationMergedSearch(URM_train, ICM_all, list_recommender)\n",
    "params={'alpha': 0.3791657333411357, 'l1_ratio': 0.23126551664267164, 'topK': 990}\n",
    "merged3.fit(**params)\n",
    "result, _ = evaluator_test.evaluateRecommender(merged3)\n",
    "result[10]['MAP']"
   ]
  },
  {
   "cell_type": "code",
   "execution_count": 11,
   "metadata": {},
   "outputs": [
    {
     "name": "stdout",
     "output_type": "stream",
     "text": [
      "HybridCombinationMergedSearch: URM Detected 27 (0.34 %) cold users.\n",
      "HybridCombinationMergedSearch: URM Detected 1634 (6.29 %) cold items.\n",
      "EvaluatorHoldout: Processed 4106 ( 100.00% ) in 3.31 sec. Users per second: 1242\n"
     ]
    },
    {
     "data": {
      "text/plain": [
       "0.07359655012354013"
      ]
     },
     "execution_count": 11,
     "metadata": {},
     "output_type": "execute_result"
    }
   ],
   "source": [
    "list_recommender = [icb, p3a, rp3b]\n",
    "merged4 = HybridCombinationMergedSearch(URM_train, ICM_all, list_recommender)\n",
    "params={'alpha': 0.6299182764826382, 'l1_ratio': 0.9675762628242017, 'topK': 864}\n",
    "merged4.fit(**params)\n",
    "result, _ = evaluator_test.evaluateRecommender(merged4)\n",
    "result[10]['MAP']"
   ]
  },
  {
   "cell_type": "code",
   "execution_count": 12,
   "metadata": {},
   "outputs": [
    {
     "name": "stdout",
     "output_type": "stream",
     "text": [
      "HybridCombinationMergedSearch: URM Detected 27 (0.34 %) cold users.\n",
      "HybridCombinationMergedSearch: URM Detected 1634 (6.29 %) cold items.\n",
      "EvaluatorHoldout: Processed 4106 ( 100.00% ) in 3.14 sec. Users per second: 1309\n"
     ]
    },
    {
     "data": {
      "text/plain": [
       "0.07336524156802389"
      ]
     },
     "execution_count": 12,
     "metadata": {},
     "output_type": "execute_result"
    }
   ],
   "source": [
    "list_recommender = [icb, p3a, sen]\n",
    "merged5 = HybridCombinationMergedSearch(URM_train, ICM_all, list_recommender)\n",
    "params={'alpha': 0.9712321721669441, 'l1_ratio': 0.6879306727642494, 'topK': 990}\n",
    "merged5.fit(**params)\n",
    "result, _ = evaluator_test.evaluateRecommender(merged5)\n",
    "result[10]['MAP']"
   ]
  },
  {
   "cell_type": "code",
   "execution_count": 13,
   "metadata": {},
   "outputs": [
    {
     "name": "stdout",
     "output_type": "stream",
     "text": [
      "HybridCombinationMergedSearch: URM Detected 27 (0.34 %) cold users.\n",
      "HybridCombinationMergedSearch: URM Detected 1634 (6.29 %) cold items.\n",
      "EvaluatorHoldout: Processed 4106 ( 100.00% ) in 3.10 sec. Users per second: 1322\n"
     ]
    },
    {
     "data": {
      "text/plain": [
       "0.07425687603341367"
      ]
     },
     "execution_count": 13,
     "metadata": {},
     "output_type": "execute_result"
    }
   ],
   "source": [
    "list_recommender = [icb, rp3b, sen]\n",
    "merged6 = HybridCombinationMergedSearch(URM_train, ICM_all, list_recommender)\n",
    "params={'alpha': 0.6355738550417837, 'l1_ratio': 0.6617849709204384, 'topK': 538}\n",
    "merged6.fit(**params)\n",
    "result, _ = evaluator_test.evaluateRecommender(merged6)\n",
    "result[10]['MAP']"
   ]
  },
  {
   "cell_type": "code",
   "execution_count": 14,
   "metadata": {},
   "outputs": [
    {
     "name": "stdout",
     "output_type": "stream",
     "text": [
      "HybridCombinationMergedSearch: URM Detected 27 (0.34 %) cold users.\n",
      "HybridCombinationMergedSearch: URM Detected 1634 (6.29 %) cold items.\n",
      "EvaluatorHoldout: Processed 4106 ( 100.00% ) in 2.92 sec. Users per second: 1408\n"
     ]
    },
    {
     "data": {
      "text/plain": [
       "0.06444040946690227"
      ]
     },
     "execution_count": 14,
     "metadata": {},
     "output_type": "execute_result"
    }
   ],
   "source": [
    "list_recommender = [icf, p3a, rp3b]\n",
    "merged7 = HybridCombinationMergedSearch(URM_train, ICM_all, list_recommender)\n",
    "params = {'alpha': 0.44112400857241485, 'l1_ratio': 0.4636970676140909, 'topK': 489}\n",
    "merged7.fit(**params)\n",
    "result, _ = evaluator_test.evaluateRecommender(merged7)\n",
    "result[10]['MAP']"
   ]
  },
  {
   "cell_type": "code",
   "execution_count": 15,
   "metadata": {},
   "outputs": [
    {
     "name": "stdout",
     "output_type": "stream",
     "text": [
      "HybridCombinationMergedSearch: URM Detected 27 (0.34 %) cold users.\n",
      "HybridCombinationMergedSearch: URM Detected 1634 (6.29 %) cold items.\n",
      "EvaluatorHoldout: Processed 4106 ( 100.00% ) in 3.07 sec. Users per second: 1336\n"
     ]
    },
    {
     "data": {
      "text/plain": [
       "0.06504461812056087"
      ]
     },
     "execution_count": 15,
     "metadata": {},
     "output_type": "execute_result"
    }
   ],
   "source": [
    "list_recommender = [p3a, rp3b, sen]\n",
    "merged8 = HybridCombinationMergedSearch(URM_train, ICM_all, list_recommender)\n",
    "params={'alpha': 0.8589000153868548, 'l1_ratio': 0.4263692698842382, 'topK': 636}\n",
    "merged8.fit(**params)\n",
    "result,_ = evaluator_test.evaluateRecommender(merged8)\n",
    "result[10]['MAP']"
   ]
  },
  {
   "cell_type": "markdown",
   "metadata": {},
   "source": [
    "---\n",
    "## linear combo norm"
   ]
  },
  {
   "cell_type": "code",
   "execution_count": 17,
   "metadata": {},
   "outputs": [],
   "source": [
    "combo_labels ={\n",
    "    'combo1': 'icf_ucf_p3a', ###\n",
    "    'combo2': 'icf_ucf_rp3b', ###\n",
    "    'combo3': 'icf_p3a_rp3b', ###\n",
    "    'combo4': 'ucf_p3a_rp3b', ### \n",
    "    'combo5': 'icb_icf_sen', ###\n",
    "    'combo6': 'icf_sen_sbpr', ###\n",
    "    'combo7': 'icb_icf_ucf', ###\n",
    "    'combo8': 'icf_ucf_sen', ###\n",
    "    'combo9': 'icb_p3a_sen', ###\n",
    "    'combo10': 'icb_icf_p3a', ###\n",
    "    'combo11': 'icf_p3a_sen', ### useless\n",
    "    'combo12': 'p3a_sen_sbpr', ### useless\n",
    "    'combo13': 'icb_ucf_p3a', ###\n",
    "    'combo14': 'ucf_p3a_sen', ### useless\n",
    "    'combo15': 'icb_rp3b_sen', ###\n",
    "    'combo16': 'icb_icf_rp3b', ###\n",
    "    'combo17': 'icf_rp3b_sen', ###\n",
    "    'combo18': 'icb_p3a_rp3b', ###\n",
    "    'combo19': 'rp3b_sen_sbpr', ### useless\n",
    "    'combo20': 'icb_ucf_rp3b', ###\n",
    "    'combo21': 'ucf_rp3b_sen', ###\n",
    "    'combo22': 'icb_ucf_sen', ###\n",
    "    'combo23': 'ucf_sen_sbpr', ###\n",
    "    'combo24': 'icb_sen_sbpr', ###\n",
    "    'combo25': 'icb_icf_sbpr', ###\n",
    "    'combo26': 'icb_p3a_sbpr', ###\n",
    "    'combo27': 'icb_rp3b_sbpr', ###\n",
    "    'combo28': 'icb_ucf_sbpr', ###\n",
    "    \n",
    "    'combo29': 'sslim_icb_icf',\n",
    "    'combo30': 'sslim_icb_ucf',\n",
    "    'combo31': 'sslim_icf_ucf',\n",
    "    'combo32': 'sslim_p3a_icb',\n",
    "    'combo33': 'sslim_p3a_icf',\n",
    "    'combo34': 'sslim_p3a_rp3b',\n",
    "    'combo35': 'sslim_p3a_ucf',\n",
    "    'combo36': 'sslim_rp3b_icb',\n",
    "    'combo37': 'sslim_rp3b_icf',\n",
    "    'combo38': 'sslim_rp3b_ucf',\n",
    "}"
   ]
  },
  {
   "cell_type": "code",
   "execution_count": 18,
   "metadata": {},
   "outputs": [
    {
     "name": "stdout",
     "output_type": "stream",
     "text": [
      "HybridCombinationSearch: URM Detected 27 (0.34 %) cold users.\n",
      "HybridCombinationSearch: URM Detected 1634 (6.29 %) cold items.\n",
      "EvaluatorHoldout: Processed 4106 ( 100.00% ) in 4.07 sec. Users per second: 1008\n"
     ]
    },
    {
     "data": {
      "text/plain": [
       "0.06512626456474592"
      ]
     },
     "execution_count": 18,
     "metadata": {},
     "output_type": "execute_result"
    }
   ],
   "source": [
    "list_recommender = [icf, ucf, p3a]\n",
    "combo1 = HybridCombinationSearch(URM_train, ICM_all, list_recommender)\n",
    "params={'alpha': 0.4318367153026247, 'l1_ratio': 0.06753630242082177}\n",
    "combo1.fit(**params)\n",
    "result, _ = evaluator_test.evaluateRecommender(combo1)\n",
    "result[10]['MAP']"
   ]
  },
  {
   "cell_type": "code",
   "execution_count": 19,
   "metadata": {},
   "outputs": [
    {
     "name": "stdout",
     "output_type": "stream",
     "text": [
      "HybridCombinationSearch: URM Detected 27 (0.34 %) cold users.\n",
      "HybridCombinationSearch: URM Detected 1634 (6.29 %) cold items.\n",
      "EvaluatorHoldout: Processed 4106 ( 100.00% ) in 4.28 sec. Users per second: 960\n"
     ]
    },
    {
     "data": {
      "text/plain": [
       "0.06421845647840414"
      ]
     },
     "execution_count": 19,
     "metadata": {},
     "output_type": "execute_result"
    }
   ],
   "source": [
    "list_recommender = [icf, ucf, rp3b]\n",
    "combo2 = HybridCombinationSearch(URM_train, ICM_all, list_recommender)\n",
    "params={'alpha': 0.19390580434445875, 'l1_ratio': 0.2522643001286576}\n",
    "combo2.fit(**params)\n",
    "result, _ = evaluator_test.evaluateRecommender(combo2)\n",
    "result[10]['MAP']"
   ]
  },
  {
   "cell_type": "code",
   "execution_count": 20,
   "metadata": {},
   "outputs": [
    {
     "name": "stdout",
     "output_type": "stream",
     "text": [
      "HybridCombinationSearch: URM Detected 27 (0.34 %) cold users.\n",
      "HybridCombinationSearch: URM Detected 1634 (6.29 %) cold items.\n",
      "EvaluatorHoldout: Processed 4106 ( 100.00% ) in 4.14 sec. Users per second: 992\n"
     ]
    },
    {
     "data": {
      "text/plain": [
       "0.06362883519800368"
      ]
     },
     "execution_count": 20,
     "metadata": {},
     "output_type": "execute_result"
    }
   ],
   "source": [
    "list_recommender = [icf, p3a, rp3b]\n",
    "combo3 = HybridCombinationSearch(URM_train, ICM_all, list_recommender)\n",
    "params={'alpha': 0.13211292014716505, 'l1_ratio': 0.9841972871240037}\n",
    "combo3.fit(**params)\n",
    "result, _ = evaluator_test.evaluateRecommender(combo3)\n",
    "result[10]['MAP']"
   ]
  },
  {
   "cell_type": "code",
   "execution_count": 21,
   "metadata": {},
   "outputs": [
    {
     "name": "stdout",
     "output_type": "stream",
     "text": [
      "HybridCombinationSearch: URM Detected 27 (0.34 %) cold users.\n",
      "HybridCombinationSearch: URM Detected 1634 (6.29 %) cold items.\n",
      "EvaluatorHoldout: Processed 4106 ( 100.00% ) in 4.32 sec. Users per second: 950\n"
     ]
    },
    {
     "data": {
      "text/plain": [
       "0.0648004066187821"
      ]
     },
     "execution_count": 21,
     "metadata": {},
     "output_type": "execute_result"
    }
   ],
   "source": [
    "list_recommender = [ucf, p3a, rp3b]\n",
    "combo4 = HybridCombinationSearch(URM_train, ICM_all, list_recommender)\n",
    "params={'alpha': 0.9394644725243001, 'l1_ratio': 0.4569374184464653}\n",
    "combo4.fit(**params)\n",
    "result, _ = evaluator_test.evaluateRecommender(combo4)\n",
    "result[10]['MAP']"
   ]
  },
  {
   "cell_type": "code",
   "execution_count": 22,
   "metadata": {},
   "outputs": [
    {
     "name": "stdout",
     "output_type": "stream",
     "text": [
      "HybridCombinationSearch: URM Detected 27 (0.34 %) cold users.\n",
      "HybridCombinationSearch: URM Detected 1634 (6.29 %) cold items.\n",
      "EvaluatorHoldout: Processed 4106 ( 100.00% ) in 4.27 sec. Users per second: 961\n"
     ]
    },
    {
     "data": {
      "text/plain": [
       "0.07336267663376782"
      ]
     },
     "execution_count": 22,
     "metadata": {},
     "output_type": "execute_result"
    }
   ],
   "source": [
    "list_recommender = [icb, icf, sen]\n",
    "combo5 = HybridCombinationSearch(URM_train, ICM_all, list_recommender)\n",
    "params={'alpha': 0.5011523958099686, 'l1_ratio': 0.6835202748204333}\n",
    "combo5.fit(**params)\n",
    "result = evaluator(combo5, URM_test, cutoff=10)\n",
    "result, _ = evaluator_test.evaluateRecommender(combo5)\n",
    "result[10]['MAP']"
   ]
  },
  {
   "cell_type": "code",
   "execution_count": 23,
   "metadata": {},
   "outputs": [
    {
     "name": "stdout",
     "output_type": "stream",
     "text": [
      "HybridCombinationSearch: URM Detected 27 (0.34 %) cold users.\n",
      "HybridCombinationSearch: URM Detected 1634 (6.29 %) cold items.\n",
      "EvaluatorHoldout: Processed 4106 ( 100.00% ) in 4.87 sec. Users per second: 843\n"
     ]
    },
    {
     "data": {
      "text/plain": [
       "0.06433127799567438"
      ]
     },
     "execution_count": 23,
     "metadata": {},
     "output_type": "execute_result"
    }
   ],
   "source": [
    "list_recommender = [icf, sen, sbpr]\n",
    "combo6 = HybridCombinationSearch(URM_train, ICM_all, list_recommender)\n",
    "params={'alpha': 0.8434066208554849, 'l1_ratio': 0.4628304123637582}\n",
    "combo6.fit(**params)\n",
    "result, _ = evaluator_test.evaluateRecommender(combo6)\n",
    "result[10]['MAP']"
   ]
  },
  {
   "cell_type": "code",
   "execution_count": 24,
   "metadata": {},
   "outputs": [
    {
     "name": "stdout",
     "output_type": "stream",
     "text": [
      "HybridCombinationSearch: URM Detected 27 (0.34 %) cold users.\n",
      "HybridCombinationSearch: URM Detected 1634 (6.29 %) cold items.\n",
      "EvaluatorHoldout: Processed 4106 ( 100.00% ) in 4.09 sec. Users per second: 1005\n"
     ]
    },
    {
     "data": {
      "text/plain": [
       "0.07308931554391875"
      ]
     },
     "execution_count": 24,
     "metadata": {},
     "output_type": "execute_result"
    }
   ],
   "source": [
    "list_recommender = [icb, icf, ucf]\n",
    "combo7 = HybridCombinationSearch(URM_train, ICM_all, list_recommender)\n",
    "params={'alpha': 0.23127746676269062, 'l1_ratio': 0.47037997538194565}\n",
    "combo7.fit(**params)\n",
    "result, _ = evaluator_test.evaluateRecommender(combo7)\n",
    "result[10]['MAP']"
   ]
  },
  {
   "cell_type": "code",
   "execution_count": 25,
   "metadata": {},
   "outputs": [
    {
     "name": "stdout",
     "output_type": "stream",
     "text": [
      "HybridCombinationSearch: URM Detected 27 (0.34 %) cold users.\n",
      "HybridCombinationSearch: URM Detected 1634 (6.29 %) cold items.\n",
      "EvaluatorHoldout: Processed 4106 ( 100.00% ) in 4.32 sec. Users per second: 951\n"
     ]
    },
    {
     "data": {
      "text/plain": [
       "0.06429947212057584"
      ]
     },
     "execution_count": 25,
     "metadata": {},
     "output_type": "execute_result"
    }
   ],
   "source": [
    "list_recommender = [icf, ucf, sen]\n",
    "combo8 = HybridCombinationSearch(URM_train, ICM_all, list_recommender)\n",
    "params={'alpha': 0.8854496569140459, 'l1_ratio': 0.17103030574896252}\n",
    "combo8.fit(**params)\n",
    "result, _ = evaluator_test.evaluateRecommender(combo8)\n",
    "result[10]['MAP']"
   ]
  },
  {
   "cell_type": "code",
   "execution_count": 26,
   "metadata": {},
   "outputs": [
    {
     "name": "stdout",
     "output_type": "stream",
     "text": [
      "HybridCombinationSearch: URM Detected 27 (0.34 %) cold users.\n",
      "HybridCombinationSearch: URM Detected 1634 (6.29 %) cold items.\n",
      "EvaluatorHoldout: Processed 4106 ( 100.00% ) in 4.03 sec. Users per second: 1018\n"
     ]
    },
    {
     "data": {
      "text/plain": [
       "0.07163381537376169"
      ]
     },
     "execution_count": 26,
     "metadata": {},
     "output_type": "execute_result"
    }
   ],
   "source": [
    "list_recommender = [icb, p3a, sen]\n",
    "combo9 = HybridCombinationSearch(URM_train, ICM_all, list_recommender)\n",
    "params={'alpha': 0.9678477202248401, 'l1_ratio': 0.26287752701640094}\n",
    "combo9.fit(**params)\n",
    "result, _ = evaluator_test.evaluateRecommender(combo9)\n",
    "result[10]['MAP']"
   ]
  },
  {
   "cell_type": "code",
   "execution_count": 27,
   "metadata": {},
   "outputs": [
    {
     "name": "stdout",
     "output_type": "stream",
     "text": [
      "HybridCombinationSearch: URM Detected 27 (0.34 %) cold users.\n",
      "HybridCombinationSearch: URM Detected 1634 (6.29 %) cold items.\n",
      "EvaluatorHoldout: Processed 4106 ( 100.00% ) in 3.76 sec. Users per second: 1093\n"
     ]
    },
    {
     "data": {
      "text/plain": [
       "0.07140408738994852"
      ]
     },
     "execution_count": 27,
     "metadata": {},
     "output_type": "execute_result"
    }
   ],
   "source": [
    "list_recommender = [icb, icf, p3a]\n",
    "combo10 = HybridCombinationSearch(URM_train, ICM_all, list_recommender)\n",
    "params={'alpha': 0.27094237120805925, 'l1_ratio': 0.9998550263180496}\n",
    "combo10.fit(**params)\n",
    "result, _ = evaluator_test.evaluateRecommender(combo10)\n",
    "result[10]['MAP']"
   ]
  },
  {
   "cell_type": "code",
   "execution_count": 28,
   "metadata": {},
   "outputs": [
    {
     "name": "stdout",
     "output_type": "stream",
     "text": [
      "HybridCombinationSearch: URM Detected 27 (0.34 %) cold users.\n",
      "HybridCombinationSearch: URM Detected 1634 (6.29 %) cold items.\n",
      "EvaluatorHoldout: Processed 4106 ( 100.00% ) in 3.85 sec. Users per second: 1066\n"
     ]
    },
    {
     "data": {
      "text/plain": [
       "0.06369466104485845"
      ]
     },
     "execution_count": 28,
     "metadata": {},
     "output_type": "execute_result"
    }
   ],
   "source": [
    "list_recommender = [icf, p3a, sen]\n",
    "combo11 = HybridCombinationSearch(URM_train, ICM_all, list_recommender)\n",
    "params={'alpha': 1.0, 'l1_ratio': 0.0}\n",
    "combo11.fit(**params)\n",
    "result, _ = evaluator_test.evaluateRecommender(combo11)\n",
    "result[10]['MAP']"
   ]
  },
  {
   "cell_type": "code",
   "execution_count": 29,
   "metadata": {},
   "outputs": [
    {
     "name": "stdout",
     "output_type": "stream",
     "text": [
      "HybridCombinationSearch: URM Detected 27 (0.34 %) cold users.\n",
      "HybridCombinationSearch: URM Detected 1634 (6.29 %) cold items.\n",
      "EvaluatorHoldout: Processed 4106 ( 100.00% ) in 4.52 sec. Users per second: 908\n"
     ]
    },
    {
     "data": {
      "text/plain": [
       "0.06369466104485845"
      ]
     },
     "execution_count": 29,
     "metadata": {},
     "output_type": "execute_result"
    }
   ],
   "source": [
    "list_recommender = [p3a, sen, sbpr]\n",
    "combo12 = HybridCombinationSearch(URM_train, ICM_all, list_recommender)\n",
    "params={'alpha': 1.0, 'l1_ratio': 1.0}\n",
    "combo12.fit(**params)\n",
    "result, _ = evaluator_test.evaluateRecommender(combo12)\n",
    "result[10]['MAP']"
   ]
  },
  {
   "cell_type": "code",
   "execution_count": 30,
   "metadata": {},
   "outputs": [
    {
     "name": "stdout",
     "output_type": "stream",
     "text": [
      "HybridCombinationSearch: URM Detected 27 (0.34 %) cold users.\n",
      "HybridCombinationSearch: URM Detected 1634 (6.29 %) cold items.\n",
      "EvaluatorHoldout: Processed 4106 ( 100.00% ) in 3.83 sec. Users per second: 1072\n"
     ]
    },
    {
     "data": {
      "text/plain": [
       "0.07380966632291629"
      ]
     },
     "execution_count": 30,
     "metadata": {},
     "output_type": "execute_result"
    }
   ],
   "source": [
    "list_recommender = [icb, ucf, p3a]\n",
    "combo13 = HybridCombinationSearch(URM_train, ICM_all, list_recommender)\n",
    "params={'alpha': 0.4840277797811048, 'l1_ratio': 0.356265002578487}\n",
    "combo13.fit(**params)\n",
    "result, _ = evaluator_test.evaluateRecommender(combo13)\n",
    "result[10]['MAP']"
   ]
  },
  {
   "cell_type": "code",
   "execution_count": 31,
   "metadata": {},
   "outputs": [
    {
     "name": "stdout",
     "output_type": "stream",
     "text": [
      "HybridCombinationSearch: URM Detected 27 (0.34 %) cold users.\n",
      "HybridCombinationSearch: URM Detected 1634 (6.29 %) cold items.\n",
      "EvaluatorHoldout: Processed 4106 ( 100.00% ) in 3.89 sec. Users per second: 1056\n"
     ]
    },
    {
     "data": {
      "text/plain": [
       "0.06369466104485845"
      ]
     },
     "execution_count": 31,
     "metadata": {},
     "output_type": "execute_result"
    }
   ],
   "source": [
    "list_recommender = [ucf, p3a, sen]\n",
    "combo14 = HybridCombinationSearch(URM_train, ICM_all, list_recommender)\n",
    "params={'alpha': 1.0, 'l1_ratio': 0.0}\n",
    "combo14.fit(**params)\n",
    "result, _ = evaluator_test.evaluateRecommender(combo14)\n",
    "result[10]['MAP']"
   ]
  },
  {
   "cell_type": "code",
   "execution_count": 32,
   "metadata": {},
   "outputs": [
    {
     "name": "stdout",
     "output_type": "stream",
     "text": [
      "HybridCombinationSearch: URM Detected 27 (0.34 %) cold users.\n",
      "HybridCombinationSearch: URM Detected 1634 (6.29 %) cold items.\n",
      "EvaluatorHoldout: Processed 4106 ( 100.00% ) in 4.49 sec. Users per second: 914\n"
     ]
    },
    {
     "data": {
      "text/plain": [
       "0.07494413405978635"
      ]
     },
     "execution_count": 32,
     "metadata": {},
     "output_type": "execute_result"
    }
   ],
   "source": [
    "list_recommender = [icb, rp3b, sen]\n",
    "combo15 = HybridCombinationSearch(URM_train, ICM_all, list_recommender)\n",
    "params={'alpha': 0.7389620492322015, 'l1_ratio': 0.3355244273594045}\n",
    "combo15.fit(**params)\n",
    "result, _ = evaluator_test.evaluateRecommender(combo15)\n",
    "result[10]['MAP']"
   ]
  },
  {
   "cell_type": "code",
   "execution_count": 33,
   "metadata": {},
   "outputs": [
    {
     "name": "stdout",
     "output_type": "stream",
     "text": [
      "HybridCombinationSearch: URM Detected 27 (0.34 %) cold users.\n",
      "HybridCombinationSearch: URM Detected 1634 (6.29 %) cold items.\n",
      "EvaluatorHoldout: Processed 4106 ( 100.00% ) in 4.35 sec. Users per second: 944\n"
     ]
    },
    {
     "data": {
      "text/plain": [
       "0.07274475570657978"
      ]
     },
     "execution_count": 33,
     "metadata": {},
     "output_type": "execute_result"
    }
   ],
   "source": [
    "list_recommender = [icb, icf, rp3b]\n",
    "combo16 = HybridCombinationSearch(URM_train, ICM_all, list_recommender)\n",
    "params={'alpha': 0.30215925285279965, 'l1_ratio': 0.48033878522040957}\n",
    "combo16.fit(**params)\n",
    "result, _ = evaluator_test.evaluateRecommender(combo16)\n",
    "result[10]['MAP']"
   ]
  },
  {
   "cell_type": "code",
   "execution_count": 34,
   "metadata": {},
   "outputs": [
    {
     "name": "stdout",
     "output_type": "stream",
     "text": [
      "HybridCombinationSearch: URM Detected 27 (0.34 %) cold users.\n",
      "HybridCombinationSearch: URM Detected 1634 (6.29 %) cold items.\n",
      "EvaluatorHoldout: Processed 4106 ( 100.00% ) in 4.56 sec. Users per second: 900\n"
     ]
    },
    {
     "data": {
      "text/plain": [
       "0.06415781016498168"
      ]
     },
     "execution_count": 34,
     "metadata": {},
     "output_type": "execute_result"
    }
   ],
   "source": [
    "list_recommender = [icf, rp3b, sen]\n",
    "combo17 = HybridCombinationSearch(URM_train, ICM_all, list_recommender)\n",
    "params={'alpha': 0.9949623682515907, 'l1_ratio': 0.007879399002699851}\n",
    "combo17.fit(**params)\n",
    "result, _ = evaluator_test.evaluateRecommender(combo17)\n",
    "result[10]['MAP']"
   ]
  },
  {
   "cell_type": "code",
   "execution_count": 35,
   "metadata": {},
   "outputs": [
    {
     "name": "stdout",
     "output_type": "stream",
     "text": [
      "HybridCombinationSearch: URM Detected 27 (0.34 %) cold users.\n",
      "HybridCombinationSearch: URM Detected 1634 (6.29 %) cold items.\n",
      "EvaluatorHoldout: Processed 4106 ( 100.00% ) in 4.33 sec. Users per second: 947\n"
     ]
    },
    {
     "data": {
      "text/plain": [
       "0.07299985414237488"
      ]
     },
     "execution_count": 35,
     "metadata": {},
     "output_type": "execute_result"
    }
   ],
   "source": [
    "list_recommender = [icb, p3a, rp3b]\n",
    "combo18 = HybridCombinationSearch(URM_train, ICM_all, list_recommender)\n",
    "params={'alpha': 0.32630431880229166, 'l1_ratio': 0.4598175570701317}\n",
    "combo18.fit(**params)\n",
    "result, _ = evaluator_test.evaluateRecommender(combo18)\n",
    "result[10]['MAP']"
   ]
  },
  {
   "cell_type": "code",
   "execution_count": 36,
   "metadata": {},
   "outputs": [
    {
     "name": "stdout",
     "output_type": "stream",
     "text": [
      "HybridCombinationSearch: URM Detected 27 (0.34 %) cold users.\n",
      "HybridCombinationSearch: URM Detected 1634 (6.29 %) cold items.\n",
      "EvaluatorHoldout: Processed 4106 ( 100.00% ) in 5.10 sec. Users per second: 805\n"
     ]
    },
    {
     "data": {
      "text/plain": [
       "0.06309358676540552"
      ]
     },
     "execution_count": 36,
     "metadata": {},
     "output_type": "execute_result"
    }
   ],
   "source": [
    "list_recommender = [rp3b, sen, sbpr]\n",
    "combo19 = HybridCombinationSearch(URM_train, ICM_all, list_recommender)\n",
    "params={'alpha': 1.0, 'l1_ratio': 1.0}\n",
    "combo19.fit(**params)\n",
    "result, _ = evaluator_test.evaluateRecommender(combo19)\n",
    "result[10]['MAP']"
   ]
  },
  {
   "cell_type": "code",
   "execution_count": 37,
   "metadata": {},
   "outputs": [
    {
     "name": "stdout",
     "output_type": "stream",
     "text": [
      "HybridCombinationSearch: URM Detected 27 (0.34 %) cold users.\n",
      "HybridCombinationSearch: URM Detected 1634 (6.29 %) cold items.\n",
      "EvaluatorHoldout: Processed 4106 ( 100.00% ) in 4.38 sec. Users per second: 938\n"
     ]
    },
    {
     "data": {
      "text/plain": [
       "0.0736875937075412"
      ]
     },
     "execution_count": 37,
     "metadata": {},
     "output_type": "execute_result"
    }
   ],
   "source": [
    "list_recommender = [icb, ucf, rp3b]\n",
    "combo20 = HybridCombinationSearch(URM_train, ICM_all, list_recommender)\n",
    "params={'alpha': 0.39585017788453875, 'l1_ratio': 0.2969289208656836}\n",
    "combo20.fit(**params)\n",
    "result, _ = evaluator_test.evaluateRecommender(combo20)\n",
    "result[10]['MAP']"
   ]
  },
  {
   "cell_type": "code",
   "execution_count": 38,
   "metadata": {},
   "outputs": [
    {
     "name": "stdout",
     "output_type": "stream",
     "text": [
      "HybridCombinationSearch: URM Detected 27 (0.34 %) cold users.\n",
      "HybridCombinationSearch: URM Detected 1634 (6.29 %) cold items.\n",
      "EvaluatorHoldout: Processed 4106 ( 100.00% ) in 4.44 sec. Users per second: 924\n"
     ]
    },
    {
     "data": {
      "text/plain": [
       "0.06405673514918404"
      ]
     },
     "execution_count": 38,
     "metadata": {},
     "output_type": "execute_result"
    }
   ],
   "source": [
    "list_recommender = [ucf, rp3b, sen]\n",
    "combo21 = HybridCombinationSearch(URM_train, ICM_all, list_recommender)\n",
    "params={'alpha': 0.9824185519731099, 'l1_ratio': 0.0049365500554859896}\n",
    "combo21.fit(**params)\n",
    "result, _ = evaluator_test.evaluateRecommender(combo21)\n",
    "result[10]['MAP']"
   ]
  },
  {
   "cell_type": "code",
   "execution_count": 39,
   "metadata": {},
   "outputs": [
    {
     "name": "stdout",
     "output_type": "stream",
     "text": [
      "HybridCombinationSearch: URM Detected 27 (0.34 %) cold users.\n",
      "HybridCombinationSearch: URM Detected 1634 (6.29 %) cold items.\n",
      "EvaluatorHoldout: Processed 4106 ( 100.00% ) in 4.10 sec. Users per second: 1001\n"
     ]
    },
    {
     "data": {
      "text/plain": [
       "0.07454860156163984"
      ]
     },
     "execution_count": 39,
     "metadata": {},
     "output_type": "execute_result"
    }
   ],
   "source": [
    "list_recommender = [icb, ucf, sen]\n",
    "combo22 = HybridCombinationSearch(URM_train, ICM_all, list_recommender)\n",
    "params={'alpha': 0.696288087190842, 'l1_ratio': 0.3051487184937027}\n",
    "combo22.fit(**params)\n",
    "result, _ = evaluator_test.evaluateRecommender(combo22)\n",
    "result[10]['MAP']"
   ]
  },
  {
   "cell_type": "code",
   "execution_count": 40,
   "metadata": {},
   "outputs": [
    {
     "name": "stdout",
     "output_type": "stream",
     "text": [
      "HybridCombinationSearch: URM Detected 27 (0.34 %) cold users.\n",
      "HybridCombinationSearch: URM Detected 1634 (6.29 %) cold items.\n",
      "EvaluatorHoldout: Processed 4106 ( 100.00% ) in 4.65 sec. Users per second: 883\n"
     ]
    },
    {
     "data": {
      "text/plain": [
       "0.06614775408097597"
      ]
     },
     "execution_count": 40,
     "metadata": {},
     "output_type": "execute_result"
    }
   ],
   "source": [
    "list_recommender = [ucf, sen, sbpr]\n",
    "combo23 = HybridCombinationSearch(URM_train, ICM_all, list_recommender)\n",
    "params={'alpha': 0.9979141772440999, 'l1_ratio': 0.9695756615044695}\n",
    "combo23.fit(**params)\n",
    "result, _ = evaluator_test.evaluateRecommender(combo23)\n",
    "result[10]['MAP']"
   ]
  },
  {
   "cell_type": "code",
   "execution_count": 41,
   "metadata": {},
   "outputs": [
    {
     "name": "stdout",
     "output_type": "stream",
     "text": [
      "HybridCombinationSearch: URM Detected 27 (0.34 %) cold users.\n",
      "HybridCombinationSearch: URM Detected 1634 (6.29 %) cold items.\n",
      "EvaluatorHoldout: Processed 4106 ( 100.00% ) in 4.62 sec. Users per second: 888\n"
     ]
    },
    {
     "data": {
      "text/plain": [
       "0.0751415959913758"
      ]
     },
     "execution_count": 41,
     "metadata": {},
     "output_type": "execute_result"
    }
   ],
   "source": [
    "list_recommender = [icb, sen, sbpr]\n",
    "combo24 = HybridCombinationSearch(URM_train, ICM_all, list_recommender)\n",
    "params={'alpha': 0.7753869940322178, 'l1_ratio': 0.4380906766055395}\n",
    "combo24.fit(**params)\n",
    "result, _ = evaluator_test.evaluateRecommender(combo24)\n",
    "result[10]['MAP']"
   ]
  },
  {
   "cell_type": "code",
   "execution_count": 42,
   "metadata": {},
   "outputs": [
    {
     "name": "stdout",
     "output_type": "stream",
     "text": [
      "HybridCombinationSearch: URM Detected 27 (0.34 %) cold users.\n",
      "HybridCombinationSearch: URM Detected 1634 (6.29 %) cold items.\n",
      "EvaluatorHoldout: Processed 4106 ( 100.00% ) in 4.57 sec. Users per second: 899\n"
     ]
    },
    {
     "data": {
      "text/plain": [
       "0.06868809334814355"
      ]
     },
     "execution_count": 42,
     "metadata": {},
     "output_type": "execute_result"
    }
   ],
   "source": [
    "list_recommender = [icb, icf, sbpr]\n",
    "combo25 = HybridCombinationSearch(URM_train, ICM_all, list_recommender)\n",
    "params={'alpha': 0.8124123649444593, 'l1_ratio': 0.25648942001711633}\n",
    "combo25.fit(**params)\n",
    "result, _ = evaluator_test.evaluateRecommender(combo25)\n",
    "result[10]['MAP']"
   ]
  },
  {
   "cell_type": "code",
   "execution_count": 43,
   "metadata": {},
   "outputs": [
    {
     "name": "stdout",
     "output_type": "stream",
     "text": [
      "HybridCombinationSearch: URM Detected 27 (0.34 %) cold users.\n",
      "HybridCombinationSearch: URM Detected 1634 (6.29 %) cold items.\n",
      "EvaluatorHoldout: Processed 4106 ( 100.00% ) in 4.52 sec. Users per second: 909\n"
     ]
    },
    {
     "data": {
      "text/plain": [
       "0.07113642234870157"
      ]
     },
     "execution_count": 43,
     "metadata": {},
     "output_type": "execute_result"
    }
   ],
   "source": [
    "list_recommender = [icb, p3a, sbpr]\n",
    "combo26 = HybridCombinationSearch(URM_train, ICM_all, list_recommender)\n",
    "params={'alpha': 0.9966101776460795, 'l1_ratio': 0.24103276386735034}\n",
    "combo26.fit(**params)\n",
    "result, _ = evaluator_test.evaluateRecommender(combo26)\n",
    "result[10]['MAP']"
   ]
  },
  {
   "cell_type": "code",
   "execution_count": 44,
   "metadata": {},
   "outputs": [
    {
     "name": "stdout",
     "output_type": "stream",
     "text": [
      "HybridCombinationSearch: URM Detected 27 (0.34 %) cold users.\n",
      "HybridCombinationSearch: URM Detected 1634 (6.29 %) cold items.\n",
      "EvaluatorHoldout: Processed 4106 ( 100.00% ) in 4.96 sec. Users per second: 828\n"
     ]
    },
    {
     "data": {
      "text/plain": [
       "0.07191262460947638"
      ]
     },
     "execution_count": 44,
     "metadata": {},
     "output_type": "execute_result"
    }
   ],
   "source": [
    "list_recommender = [icb, rp3b, sbpr]\n",
    "combo27 = HybridCombinationSearch(URM_train, ICM_all, list_recommender)\n",
    "params={'alpha': 0.7781420779249448, 'l1_ratio': 0.27134602211348197}\n",
    "combo27.fit(**params)\n",
    "result, _ = evaluator_test.evaluateRecommender(combo27)\n",
    "result[10]['MAP']"
   ]
  },
  {
   "cell_type": "code",
   "execution_count": 45,
   "metadata": {},
   "outputs": [
    {
     "name": "stdout",
     "output_type": "stream",
     "text": [
      "HybridCombinationSearch: URM Detected 27 (0.34 %) cold users.\n",
      "HybridCombinationSearch: URM Detected 1634 (6.29 %) cold items.\n",
      "EvaluatorHoldout: Processed 4106 ( 100.00% ) in 4.44 sec. Users per second: 926\n"
     ]
    },
    {
     "data": {
      "text/plain": [
       "0.07138969000897968"
      ]
     },
     "execution_count": 45,
     "metadata": {},
     "output_type": "execute_result"
    }
   ],
   "source": [
    "list_recommender = [icb, ucf, sbpr]\n",
    "combo28 = HybridCombinationSearch(URM_train, ICM_all, list_recommender)\n",
    "params={'alpha': 0.8170261573317669, 'l1_ratio': 0.20761151334998523}\n",
    "combo28.fit(**params)\n",
    "result, _ = evaluator_test.evaluateRecommender(combo28)\n",
    "result[10]['MAP']"
   ]
  },
  {
   "cell_type": "markdown",
   "metadata": {},
   "source": [
    "###### Linear combo with S-SLIM"
   ]
  },
  {
   "cell_type": "code",
   "execution_count": 46,
   "metadata": {},
   "outputs": [
    {
     "name": "stdout",
     "output_type": "stream",
     "text": [
      "HybridCombinationSearch: URM Detected 27 (0.34 %) cold users.\n",
      "HybridCombinationSearch: URM Detected 1634 (6.29 %) cold items.\n",
      "EvaluatorHoldout: Processed 4106 ( 100.00% ) in 6.43 sec. Users per second: 639\n"
     ]
    },
    {
     "data": {
      "text/plain": [
       "0.0757426537797741"
      ]
     },
     "execution_count": 46,
     "metadata": {},
     "output_type": "execute_result"
    }
   ],
   "source": [
    "list_recommender = [sslim, icb, icf]\n",
    "combo29 = HybridCombinationSearch(URM_train, ICM_all, list_recommender)\n",
    "params={'alpha': 0.996772013761913, 'l1_ratio': 0.7831508517025596}\n",
    "\n",
    "combo29.fit(**params)\n",
    "result, _ = evaluator_test.evaluateRecommender(combo29)\n",
    "result[10]['MAP']"
   ]
  },
  {
   "cell_type": "code",
   "execution_count": 47,
   "metadata": {},
   "outputs": [
    {
     "name": "stdout",
     "output_type": "stream",
     "text": [
      "HybridCombinationSearch: URM Detected 27 (0.34 %) cold users.\n",
      "HybridCombinationSearch: URM Detected 1634 (6.29 %) cold items.\n",
      "EvaluatorHoldout: Processed 4106 ( 100.00% ) in 6.32 sec. Users per second: 650\n"
     ]
    },
    {
     "data": {
      "text/plain": [
       "0.07698283769046922"
      ]
     },
     "execution_count": 47,
     "metadata": {},
     "output_type": "execute_result"
    }
   ],
   "source": [
    "list_recommender = [sslim, icb, ucf]\n",
    "combo30 = HybridCombinationSearch(URM_train, ICM_all, list_recommender)\n",
    "params={'alpha': 0.6461624491197696, 'l1_ratio': 0.7617220099582368}\n",
    "\n",
    "combo30.fit(**params)\n",
    "result, _ = evaluator_test.evaluateRecommender(combo30)\n",
    "result[10]['MAP']"
   ]
  },
  {
   "cell_type": "code",
   "execution_count": 48,
   "metadata": {},
   "outputs": [
    {
     "name": "stdout",
     "output_type": "stream",
     "text": [
      "HybridCombinationSearch: URM Detected 27 (0.34 %) cold users.\n",
      "HybridCombinationSearch: URM Detected 1634 (6.29 %) cold items.\n",
      "EvaluatorHoldout: Processed 4106 ( 100.00% ) in 6.41 sec. Users per second: 640\n"
     ]
    },
    {
     "data": {
      "text/plain": [
       "0.07230107070971474"
      ]
     },
     "execution_count": 48,
     "metadata": {},
     "output_type": "execute_result"
    }
   ],
   "source": [
    "list_recommender = [sslim, icf, ucf]\n",
    "combo31 = HybridCombinationSearch(URM_train, ICM_all, list_recommender)\n",
    "params={'alpha': 0.6418228871731989, 'l1_ratio': 1.0}\n",
    "\n",
    "combo31.fit(**params)\n",
    "result, _ = evaluator_test.evaluateRecommender(combo31)\n",
    "result[10]['MAP']"
   ]
  },
  {
   "cell_type": "code",
   "execution_count": 49,
   "metadata": {},
   "outputs": [
    {
     "name": "stdout",
     "output_type": "stream",
     "text": [
      "HybridCombinationSearch: URM Detected 27 (0.34 %) cold users.\n",
      "HybridCombinationSearch: URM Detected 1634 (6.29 %) cold items.\n",
      "EvaluatorHoldout: Processed 4106 ( 100.00% ) in 6.24 sec. Users per second: 658\n"
     ]
    },
    {
     "data": {
      "text/plain": [
       "0.07675357770744445"
      ]
     },
     "execution_count": 49,
     "metadata": {},
     "output_type": "execute_result"
    }
   ],
   "source": [
    "list_recommender = [sslim, p3a, icb]\n",
    "combo32 = HybridCombinationSearch(URM_train, ICM_all, list_recommender)\n",
    "params={'alpha': 0.8416340030829476, 'l1_ratio': 0.6651408407090509}\n",
    "\n",
    "combo32.fit(**params)\n",
    "result, _ = evaluator_test.evaluateRecommender(combo32)\n",
    "result[10]['MAP']"
   ]
  },
  {
   "cell_type": "code",
   "execution_count": 50,
   "metadata": {},
   "outputs": [
    {
     "name": "stdout",
     "output_type": "stream",
     "text": [
      "HybridCombinationSearch: URM Detected 27 (0.34 %) cold users.\n",
      "HybridCombinationSearch: URM Detected 1634 (6.29 %) cold items.\n",
      "EvaluatorHoldout: Processed 4106 ( 100.00% ) in 6.45 sec. Users per second: 636\n"
     ]
    },
    {
     "data": {
      "text/plain": [
       "0.07231991258329733"
      ]
     },
     "execution_count": 50,
     "metadata": {},
     "output_type": "execute_result"
    }
   ],
   "source": [
    "list_recommender = [sslim, p3a, icf]\n",
    "combo33 = HybridCombinationSearch(URM_train, ICM_all, list_recommender)\n",
    "params={'alpha': 0.9847198829156348, 'l1_ratio': 0.9996962519963414}\n",
    "\n",
    "combo33.fit(**params)\n",
    "result, _ = evaluator_test.evaluateRecommender(combo33)\n",
    "result[10]['MAP']"
   ]
  },
  {
   "cell_type": "code",
   "execution_count": 51,
   "metadata": {},
   "outputs": [
    {
     "name": "stdout",
     "output_type": "stream",
     "text": [
      "HybridCombinationSearch: URM Detected 27 (0.34 %) cold users.\n",
      "HybridCombinationSearch: URM Detected 1634 (6.29 %) cold items.\n",
      "EvaluatorHoldout: Processed 4106 ( 100.00% ) in 6.83 sec. Users per second: 601\n"
     ]
    },
    {
     "data": {
      "text/plain": [
       "0.07232996530005975"
      ]
     },
     "execution_count": 51,
     "metadata": {},
     "output_type": "execute_result"
    }
   ],
   "source": [
    "list_recommender = [sslim, p3a, rp3b]\n",
    "combo34 = HybridCombinationSearch(URM_train, ICM_all, list_recommender)\n",
    "params={'alpha': 0.9924434125443558, 'l1_ratio': 0.9904105385647505}\n",
    "\n",
    "combo34.fit(**params)\n",
    "result, _ = evaluator_test.evaluateRecommender(combo34)\n",
    "result[10]['MAP']"
   ]
  },
  {
   "cell_type": "code",
   "execution_count": 52,
   "metadata": {},
   "outputs": [
    {
     "name": "stdout",
     "output_type": "stream",
     "text": [
      "HybridCombinationSearch: URM Detected 27 (0.34 %) cold users.\n",
      "HybridCombinationSearch: URM Detected 1634 (6.29 %) cold items.\n",
      "EvaluatorHoldout: Processed 4106 ( 100.00% ) in 6.67 sec. Users per second: 616\n"
     ]
    },
    {
     "data": {
      "text/plain": [
       "0.07287753339415531"
      ]
     },
     "execution_count": 52,
     "metadata": {},
     "output_type": "execute_result"
    }
   ],
   "source": [
    "list_recommender = [sslim, p3a, ucf]\n",
    "combo35 = HybridCombinationSearch(URM_train, ICM_all, list_recommender)\n",
    "params={'alpha': 0.7021255257436378, 'l1_ratio': 0.8799646154792433}\n",
    "\n",
    "combo35.fit(**params)\n",
    "result, _ = evaluator_test.evaluateRecommender(combo35)\n",
    "result[10]['MAP']"
   ]
  },
  {
   "cell_type": "code",
   "execution_count": 53,
   "metadata": {},
   "outputs": [
    {
     "name": "stdout",
     "output_type": "stream",
     "text": [
      "HybridCombinationSearch: URM Detected 27 (0.34 %) cold users.\n",
      "HybridCombinationSearch: URM Detected 1634 (6.29 %) cold items.\n",
      "EvaluatorHoldout: Processed 4106 ( 100.00% ) in 6.46 sec. Users per second: 636\n"
     ]
    },
    {
     "data": {
      "text/plain": [
       "0.07679706039972213"
      ]
     },
     "execution_count": 53,
     "metadata": {},
     "output_type": "execute_result"
    }
   ],
   "source": [
    "list_recommender = [sslim, rp3b, icb]\n",
    "combo36 = HybridCombinationSearch(URM_train, ICM_all, list_recommender)\n",
    "params={'alpha': 0.8416340030829476, 'l1_ratio': 0.6651408407090509}\n",
    "\n",
    "combo36.fit(**params)\n",
    "result, _ = evaluator_test.evaluateRecommender(combo36)\n",
    "result[10]['MAP']"
   ]
  },
  {
   "cell_type": "code",
   "execution_count": 54,
   "metadata": {},
   "outputs": [
    {
     "name": "stdout",
     "output_type": "stream",
     "text": [
      "HybridCombinationSearch: URM Detected 27 (0.34 %) cold users.\n",
      "HybridCombinationSearch: URM Detected 1634 (6.29 %) cold items.\n",
      "EvaluatorHoldout: Processed 4106 ( 100.00% ) in 6.65 sec. Users per second: 617\n"
     ]
    },
    {
     "data": {
      "text/plain": [
       "0.07225193392514577"
      ]
     },
     "execution_count": 54,
     "metadata": {},
     "output_type": "execute_result"
    }
   ],
   "source": [
    "list_recommender = [sslim, rp3b, icf]\n",
    "combo37 = HybridCombinationSearch(URM_train, ICM_all, list_recommender)\n",
    "params={'alpha': 0.99818657042913, 'l1_ratio': 0.9852822057143448}\n",
    "\n",
    "combo37.fit(**params)\n",
    "result, _ = evaluator_test.evaluateRecommender(combo37)\n",
    "result[10]['MAP']"
   ]
  },
  {
   "cell_type": "code",
   "execution_count": 55,
   "metadata": {},
   "outputs": [
    {
     "name": "stdout",
     "output_type": "stream",
     "text": [
      "HybridCombinationSearch: URM Detected 27 (0.34 %) cold users.\n",
      "HybridCombinationSearch: URM Detected 1634 (6.29 %) cold items.\n",
      "EvaluatorHoldout: Processed 4106 ( 100.00% ) in 6.63 sec. Users per second: 620\n"
     ]
    },
    {
     "data": {
      "text/plain": [
       "0.07209747782589779"
      ]
     },
     "execution_count": 55,
     "metadata": {},
     "output_type": "execute_result"
    }
   ],
   "source": [
    "list_recommender = [sslim, rp3b, ucf]\n",
    "combo38 = HybridCombinationSearch(URM_train, ICM_all, list_recommender)\n",
    "params={'alpha': 0.6287606296404341, 'l1_ratio': 0.9991721235523667}\n",
    "\n",
    "combo38.fit(**params)\n",
    "result, _ = evaluator_test.evaluateRecommender(combo38)\n",
    "result[10]['MAP']"
   ]
  },
  {
   "cell_type": "markdown",
   "metadata": {},
   "source": [
    "---\n",
    "### USER WISE PLOTS"
   ]
  },
  {
   "cell_type": "code",
   "execution_count": 56,
   "metadata": {},
   "outputs": [],
   "source": [
    "merged_hybrid = [merged1, merged2, merged3, merged4, merged5, merged6, merged7, merged8]\n",
    "combo_hybrid = [combo1, combo2, combo3, combo4, combo5, combo6, combo7, combo8, combo9, combo10,\n",
    "                combo11, combo12, combo13, combo14, combo15, combo16, combo17, combo18, combo19, combo20,\n",
    "                combo21, combo22, combo23, combo24, combo25, combo26, combo27, combo28, combo29, combo30,\n",
    "                combo31, combo32, combo33, combo34, combo35, combo36, combo37, combo38]"
   ]
  },
  {
   "cell_type": "code",
   "execution_count": 57,
   "metadata": {},
   "outputs": [],
   "source": [
    "num_merged = 8\n",
    "num_combo = 38"
   ]
  },
  {
   "cell_type": "code",
   "execution_count": 58,
   "metadata": {
    "scrolled": true
   },
   "outputs": [
    {
     "name": "stdout",
     "output_type": "stream",
     "text": [
      "Warning: the URM_test filtered in (0, 3) has 566 of 4106 total users in the original URM_test. (0.14)\n",
      "EvaluatorHoldout: Processed 566 ( 100.00% ) in 0.36 sec. Users per second: 1558\n",
      "EvaluatorHoldout: Processed 566 ( 100.00% ) in 0.39 sec. Users per second: 1461\n",
      "EvaluatorHoldout: Processed 566 ( 100.00% ) in 0.37 sec. Users per second: 1513\n",
      "EvaluatorHoldout: Processed 566 ( 100.00% ) in 0.38 sec. Users per second: 1485\n",
      "EvaluatorHoldout: Processed 566 ( 100.00% ) in 0.39 sec. Users per second: 1449\n",
      "EvaluatorHoldout: Processed 566 ( 100.00% ) in 0.37 sec. Users per second: 1523\n",
      "EvaluatorHoldout: Processed 566 ( 100.00% ) in 0.36 sec. Users per second: 1594\n",
      "EvaluatorHoldout: Processed 566 ( 100.00% ) in 0.36 sec. Users per second: 1585\n",
      "EvaluatorHoldout: Processed 566 ( 100.00% ) in 0.48 sec. Users per second: 1190\n",
      "EvaluatorHoldout: Processed 566 ( 100.00% ) in 0.48 sec. Users per second: 1179\n",
      "EvaluatorHoldout: Processed 566 ( 100.00% ) in 0.47 sec. Users per second: 1199\n",
      "EvaluatorHoldout: Processed 566 ( 100.00% ) in 0.48 sec. Users per second: 1171\n",
      "EvaluatorHoldout: Processed 566 ( 100.00% ) in 0.47 sec. Users per second: 1200\n",
      "EvaluatorHoldout: Processed 566 ( 100.00% ) in 0.48 sec. Users per second: 1170\n",
      "EvaluatorHoldout: Processed 566 ( 100.00% ) in 0.48 sec. Users per second: 1179\n",
      "EvaluatorHoldout: Processed 566 ( 100.00% ) in 0.48 sec. Users per second: 1172\n",
      "EvaluatorHoldout: Processed 566 ( 100.00% ) in 0.47 sec. Users per second: 1192\n",
      "EvaluatorHoldout: Processed 566 ( 100.00% ) in 0.47 sec. Users per second: 1202\n",
      "EvaluatorHoldout: Processed 566 ( 100.00% ) in 0.47 sec. Users per second: 1208\n",
      "EvaluatorHoldout: Processed 566 ( 100.00% ) in 0.47 sec. Users per second: 1203\n",
      "EvaluatorHoldout: Processed 566 ( 100.00% ) in 0.49 sec. Users per second: 1166\n",
      "EvaluatorHoldout: Processed 566 ( 100.00% ) in 0.47 sec. Users per second: 1203\n",
      "EvaluatorHoldout: Processed 566 ( 100.00% ) in 0.47 sec. Users per second: 1192\n",
      "EvaluatorHoldout: Processed 566 ( 100.00% ) in 0.48 sec. Users per second: 1183\n",
      "EvaluatorHoldout: Processed 566 ( 100.00% ) in 0.47 sec. Users per second: 1197\n",
      "EvaluatorHoldout: Processed 566 ( 100.00% ) in 0.47 sec. Users per second: 1198\n",
      "EvaluatorHoldout: Processed 566 ( 100.00% ) in 0.48 sec. Users per second: 1184\n",
      "EvaluatorHoldout: Processed 566 ( 100.00% ) in 0.48 sec. Users per second: 1176\n",
      "EvaluatorHoldout: Processed 566 ( 100.00% ) in 0.48 sec. Users per second: 1175\n",
      "EvaluatorHoldout: Processed 566 ( 100.00% ) in 0.48 sec. Users per second: 1175\n",
      "EvaluatorHoldout: Processed 566 ( 100.00% ) in 0.49 sec. Users per second: 1165\n",
      "EvaluatorHoldout: Processed 566 ( 100.00% ) in 0.48 sec. Users per second: 1167\n",
      "EvaluatorHoldout: Processed 566 ( 100.00% ) in 0.48 sec. Users per second: 1187\n",
      "EvaluatorHoldout: Processed 566 ( 100.00% ) in 0.48 sec. Users per second: 1185\n",
      "EvaluatorHoldout: Processed 566 ( 100.00% ) in 0.48 sec. Users per second: 1176\n",
      "EvaluatorHoldout: Processed 566 ( 100.00% ) in 0.48 sec. Users per second: 1172\n",
      "EvaluatorHoldout: Processed 566 ( 100.00% ) in 0.69 sec. Users per second: 822\n",
      "EvaluatorHoldout: Processed 566 ( 100.00% ) in 0.70 sec. Users per second: 814\n",
      "EvaluatorHoldout: Processed 566 ( 100.00% ) in 0.70 sec. Users per second: 813\n",
      "EvaluatorHoldout: Processed 566 ( 100.00% ) in 0.69 sec. Users per second: 817\n",
      "EvaluatorHoldout: Processed 566 ( 100.00% ) in 0.69 sec. Users per second: 822\n",
      "EvaluatorHoldout: Processed 566 ( 100.00% ) in 0.69 sec. Users per second: 817\n",
      "EvaluatorHoldout: Processed 566 ( 100.00% ) in 0.70 sec. Users per second: 813\n",
      "EvaluatorHoldout: Processed 566 ( 100.00% ) in 0.69 sec. Users per second: 818\n",
      "EvaluatorHoldout: Processed 566 ( 100.00% ) in 0.69 sec. Users per second: 819\n",
      "EvaluatorHoldout: Processed 566 ( 100.00% ) in 0.70 sec. Users per second: 812\n",
      "Warning: the URM_test filtered in (3, 5) has 581 of 4106 total users in the original URM_test. (0.14)\n",
      "EvaluatorHoldout: Processed 581 ( 100.00% ) in 0.36 sec. Users per second: 1607\n",
      "EvaluatorHoldout: Processed 581 ( 100.00% ) in 0.39 sec. Users per second: 1475\n",
      "EvaluatorHoldout: Processed 581 ( 100.00% ) in 0.39 sec. Users per second: 1474\n",
      "EvaluatorHoldout: Processed 581 ( 100.00% ) in 0.39 sec. Users per second: 1478\n",
      "EvaluatorHoldout: Processed 581 ( 100.00% ) in 0.39 sec. Users per second: 1492\n",
      "EvaluatorHoldout: Processed 581 ( 100.00% ) in 0.39 sec. Users per second: 1494\n",
      "EvaluatorHoldout: Processed 581 ( 100.00% ) in 0.38 sec. Users per second: 1545\n",
      "EvaluatorHoldout: Processed 581 ( 100.00% ) in 0.38 sec. Users per second: 1521\n",
      "EvaluatorHoldout: Processed 581 ( 100.00% ) in 0.50 sec. Users per second: 1165\n",
      "EvaluatorHoldout: Processed 581 ( 100.00% ) in 0.51 sec. Users per second: 1143\n",
      "EvaluatorHoldout: Processed 581 ( 100.00% ) in 0.50 sec. Users per second: 1161\n",
      "EvaluatorHoldout: Processed 581 ( 100.00% ) in 0.51 sec. Users per second: 1141\n",
      "EvaluatorHoldout: Processed 581 ( 100.00% ) in 0.50 sec. Users per second: 1162\n",
      "EvaluatorHoldout: Processed 581 ( 100.00% ) in 0.52 sec. Users per second: 1127\n",
      "EvaluatorHoldout: Processed 581 ( 100.00% ) in 0.51 sec. Users per second: 1150\n",
      "EvaluatorHoldout: Processed 581 ( 100.00% ) in 0.51 sec. Users per second: 1145\n",
      "EvaluatorHoldout: Processed 581 ( 100.00% ) in 0.50 sec. Users per second: 1165\n",
      "EvaluatorHoldout: Processed 581 ( 100.00% ) in 0.49 sec. Users per second: 1189\n",
      "EvaluatorHoldout: Processed 581 ( 100.00% ) in 0.49 sec. Users per second: 1198\n",
      "EvaluatorHoldout: Processed 581 ( 100.00% ) in 0.50 sec. Users per second: 1168\n",
      "EvaluatorHoldout: Processed 581 ( 100.00% ) in 0.50 sec. Users per second: 1159\n",
      "EvaluatorHoldout: Processed 581 ( 100.00% ) in 0.49 sec. Users per second: 1180\n",
      "EvaluatorHoldout: Processed 581 ( 100.00% ) in 0.51 sec. Users per second: 1141\n",
      "EvaluatorHoldout: Processed 581 ( 100.00% ) in 0.51 sec. Users per second: 1150\n",
      "EvaluatorHoldout: Processed 581 ( 100.00% ) in 0.51 sec. Users per second: 1149\n",
      "EvaluatorHoldout: Processed 581 ( 100.00% ) in 0.50 sec. Users per second: 1155\n",
      "EvaluatorHoldout: Processed 581 ( 100.00% ) in 0.52 sec. Users per second: 1122\n",
      "EvaluatorHoldout: Processed 581 ( 100.00% ) in 0.51 sec. Users per second: 1133\n",
      "EvaluatorHoldout: Processed 581 ( 100.00% ) in 0.51 sec. Users per second: 1129\n",
      "EvaluatorHoldout: Processed 581 ( 100.00% ) in 0.51 sec. Users per second: 1135\n",
      "EvaluatorHoldout: Processed 581 ( 100.00% ) in 0.53 sec. Users per second: 1105\n",
      "EvaluatorHoldout: Processed 581 ( 100.00% ) in 0.56 sec. Users per second: 1037\n",
      "EvaluatorHoldout: Processed 581 ( 100.00% ) in 0.51 sec. Users per second: 1134\n",
      "EvaluatorHoldout: Processed 581 ( 100.00% ) in 0.51 sec. Users per second: 1137\n",
      "EvaluatorHoldout: Processed 581 ( 100.00% ) in 0.52 sec. Users per second: 1115\n",
      "EvaluatorHoldout: Processed 581 ( 100.00% ) in 0.57 sec. Users per second: 1017\n",
      "EvaluatorHoldout: Processed 581 ( 100.00% ) in 0.74 sec. Users per second: 788\n",
      "EvaluatorHoldout: Processed 581 ( 100.00% ) in 0.75 sec. Users per second: 779\n",
      "EvaluatorHoldout: Processed 581 ( 100.00% ) in 0.75 sec. Users per second: 778\n",
      "EvaluatorHoldout: Processed 581 ( 100.00% ) in 0.74 sec. Users per second: 790\n",
      "EvaluatorHoldout: Processed 581 ( 100.00% ) in 0.74 sec. Users per second: 790\n",
      "EvaluatorHoldout: Processed 581 ( 100.00% ) in 0.75 sec. Users per second: 778\n",
      "EvaluatorHoldout: Processed 581 ( 100.00% ) in 0.75 sec. Users per second: 779\n",
      "EvaluatorHoldout: Processed 581 ( 100.00% ) in 0.74 sec. Users per second: 782\n",
      "EvaluatorHoldout: Processed 581 ( 100.00% ) in 0.74 sec. Users per second: 782\n",
      "EvaluatorHoldout: Processed 581 ( 100.00% ) in 0.75 sec. Users per second: 772\n",
      "Warning: the URM_test filtered in (5, 10) has 1027 of 4106 total users in the original URM_test. (0.25)\n",
      "EvaluatorHoldout: Processed 1027 ( 100.00% ) in 0.66 sec. Users per second: 1558\n",
      "EvaluatorHoldout: Processed 1027 ( 100.00% ) in 0.74 sec. Users per second: 1382\n",
      "EvaluatorHoldout: Processed 1027 ( 100.00% ) in 0.74 sec. Users per second: 1395\n",
      "EvaluatorHoldout: Processed 1027 ( 100.00% ) in 0.75 sec. Users per second: 1373\n",
      "EvaluatorHoldout: Processed 1027 ( 100.00% ) in 0.73 sec. Users per second: 1405\n",
      "EvaluatorHoldout: Processed 1027 ( 100.00% ) in 0.72 sec. Users per second: 1419\n",
      "EvaluatorHoldout: Processed 1027 ( 100.00% ) in 0.70 sec. Users per second: 1470\n"
     ]
    },
    {
     "name": "stdout",
     "output_type": "stream",
     "text": [
      "EvaluatorHoldout: Processed 1027 ( 100.00% ) in 0.71 sec. Users per second: 1442\n",
      "EvaluatorHoldout: Processed 1027 ( 100.00% ) in 0.90 sec. Users per second: 1144\n",
      "EvaluatorHoldout: Processed 1027 ( 100.00% ) in 0.94 sec. Users per second: 1096\n",
      "EvaluatorHoldout: Processed 1027 ( 100.00% ) in 0.91 sec. Users per second: 1124\n",
      "EvaluatorHoldout: Processed 1027 ( 100.00% ) in 0.94 sec. Users per second: 1098\n",
      "EvaluatorHoldout: Processed 1027 ( 100.00% ) in 0.91 sec. Users per second: 1125\n",
      "EvaluatorHoldout: Processed 1027 ( 100.00% ) in 0.97 sec. Users per second: 1056\n",
      "EvaluatorHoldout: Processed 1027 ( 100.00% ) in 0.91 sec. Users per second: 1130\n",
      "EvaluatorHoldout: Processed 1027 ( 100.00% ) in 0.93 sec. Users per second: 1102\n",
      "EvaluatorHoldout: Processed 1027 ( 100.00% ) in 0.91 sec. Users per second: 1127\n",
      "EvaluatorHoldout: Processed 1027 ( 100.00% ) in 0.88 sec. Users per second: 1170\n",
      "EvaluatorHoldout: Processed 1027 ( 100.00% ) in 0.88 sec. Users per second: 1163\n",
      "EvaluatorHoldout: Processed 1027 ( 100.00% ) in 0.92 sec. Users per second: 1111\n",
      "EvaluatorHoldout: Processed 1027 ( 100.00% ) in 0.90 sec. Users per second: 1138\n",
      "EvaluatorHoldout: Processed 1027 ( 100.00% ) in 0.89 sec. Users per second: 1159\n",
      "EvaluatorHoldout: Processed 1027 ( 100.00% ) in 0.94 sec. Users per second: 1090\n",
      "EvaluatorHoldout: Processed 1027 ( 100.00% ) in 0.93 sec. Users per second: 1107\n",
      "EvaluatorHoldout: Processed 1027 ( 100.00% ) in 0.94 sec. Users per second: 1095\n",
      "EvaluatorHoldout: Processed 1027 ( 100.00% ) in 0.92 sec. Users per second: 1115\n",
      "EvaluatorHoldout: Processed 1027 ( 100.00% ) in 1.03 sec. Users per second: 999\n",
      "EvaluatorHoldout: Processed 1027 ( 100.00% ) in 0.94 sec. Users per second: 1094\n",
      "EvaluatorHoldout: Processed 1027 ( 100.00% ) in 0.96 sec. Users per second: 1075\n",
      "EvaluatorHoldout: Processed 1027 ( 100.00% ) in 0.93 sec. Users per second: 1099\n",
      "EvaluatorHoldout: Processed 1027 ( 100.00% ) in 0.99 sec. Users per second: 1036\n",
      "EvaluatorHoldout: Processed 1027 ( 100.00% ) in 0.98 sec. Users per second: 1049\n",
      "EvaluatorHoldout: Processed 1027 ( 100.00% ) in 0.96 sec. Users per second: 1074\n",
      "EvaluatorHoldout: Processed 1027 ( 100.00% ) in 0.97 sec. Users per second: 1061\n",
      "EvaluatorHoldout: Processed 1027 ( 100.00% ) in 0.99 sec. Users per second: 1041\n",
      "EvaluatorHoldout: Processed 1027 ( 100.00% ) in 0.97 sec. Users per second: 1055\n",
      "EvaluatorHoldout: Processed 1027 ( 100.00% ) in 1.41 sec. Users per second: 729\n",
      "EvaluatorHoldout: Processed 1027 ( 100.00% ) in 1.43 sec. Users per second: 719\n",
      "EvaluatorHoldout: Processed 1027 ( 100.00% ) in 1.43 sec. Users per second: 718\n",
      "EvaluatorHoldout: Processed 1027 ( 100.00% ) in 1.41 sec. Users per second: 726\n",
      "EvaluatorHoldout: Processed 1027 ( 100.00% ) in 1.41 sec. Users per second: 728\n",
      "EvaluatorHoldout: Processed 1027 ( 100.00% ) in 1.43 sec. Users per second: 716\n",
      "EvaluatorHoldout: Processed 1027 ( 100.00% ) in 1.43 sec. Users per second: 719\n",
      "EvaluatorHoldout: Processed 1027 ( 100.00% ) in 1.43 sec. Users per second: 716\n",
      "EvaluatorHoldout: Processed 1027 ( 100.00% ) in 1.44 sec. Users per second: 714\n",
      "EvaluatorHoldout: Processed 1027 ( 100.00% ) in 1.45 sec. Users per second: 708\n",
      "Warning: the URM_test filtered in (10, 17) has 676 of 4106 total users in the original URM_test. (0.16)\n",
      "EvaluatorHoldout: Processed 676 ( 100.00% ) in 0.46 sec. Users per second: 1475\n",
      "EvaluatorHoldout: Processed 676 ( 100.00% ) in 0.52 sec. Users per second: 1291\n",
      "EvaluatorHoldout: Processed 676 ( 100.00% ) in 0.52 sec. Users per second: 1296\n",
      "EvaluatorHoldout: Processed 676 ( 100.00% ) in 0.52 sec. Users per second: 1293\n",
      "EvaluatorHoldout: Processed 676 ( 100.00% ) in 0.52 sec. Users per second: 1310\n",
      "EvaluatorHoldout: Processed 676 ( 100.00% ) in 0.51 sec. Users per second: 1319\n",
      "EvaluatorHoldout: Processed 676 ( 100.00% ) in 0.49 sec. Users per second: 1381\n",
      "EvaluatorHoldout: Processed 676 ( 100.00% ) in 0.50 sec. Users per second: 1350\n",
      "EvaluatorHoldout: Processed 676 ( 100.00% ) in 0.63 sec. Users per second: 1073\n",
      "EvaluatorHoldout: Processed 676 ( 100.00% ) in 0.67 sec. Users per second: 1008\n",
      "EvaluatorHoldout: Processed 676 ( 100.00% ) in 0.66 sec. Users per second: 1027\n",
      "EvaluatorHoldout: Processed 676 ( 100.00% ) in 0.68 sec. Users per second: 997\n",
      "EvaluatorHoldout: Processed 676 ( 100.00% ) in 0.65 sec. Users per second: 1037\n",
      "EvaluatorHoldout: Processed 676 ( 100.00% ) in 0.73 sec. Users per second: 921\n",
      "EvaluatorHoldout: Processed 676 ( 100.00% ) in 0.64 sec. Users per second: 1062\n",
      "EvaluatorHoldout: Processed 676 ( 100.00% ) in 0.66 sec. Users per second: 1021\n",
      "EvaluatorHoldout: Processed 676 ( 100.00% ) in 0.65 sec. Users per second: 1040\n",
      "EvaluatorHoldout: Processed 676 ( 100.00% ) in 0.61 sec. Users per second: 1104\n",
      "EvaluatorHoldout: Processed 676 ( 100.00% ) in 0.62 sec. Users per second: 1098\n",
      "EvaluatorHoldout: Processed 676 ( 100.00% ) in 0.68 sec. Users per second: 987\n",
      "EvaluatorHoldout: Processed 676 ( 100.00% ) in 0.63 sec. Users per second: 1078\n",
      "EvaluatorHoldout: Processed 676 ( 100.00% ) in 0.63 sec. Users per second: 1070\n",
      "EvaluatorHoldout: Processed 676 ( 100.00% ) in 0.69 sec. Users per second: 980\n",
      "EvaluatorHoldout: Processed 676 ( 100.00% ) in 0.66 sec. Users per second: 1018\n",
      "EvaluatorHoldout: Processed 676 ( 100.00% ) in 0.68 sec. Users per second: 988\n",
      "EvaluatorHoldout: Processed 676 ( 100.00% ) in 0.67 sec. Users per second: 1004\n",
      "EvaluatorHoldout: Processed 676 ( 100.00% ) in 0.75 sec. Users per second: 900\n",
      "EvaluatorHoldout: Processed 676 ( 100.00% ) in 0.67 sec. Users per second: 1003\n",
      "EvaluatorHoldout: Processed 676 ( 100.00% ) in 0.70 sec. Users per second: 972\n",
      "EvaluatorHoldout: Processed 676 ( 100.00% ) in 0.67 sec. Users per second: 1004\n",
      "EvaluatorHoldout: Processed 676 ( 100.00% ) in 0.75 sec. Users per second: 906\n",
      "EvaluatorHoldout: Processed 676 ( 100.00% ) in 0.73 sec. Users per second: 921\n",
      "EvaluatorHoldout: Processed 676 ( 100.00% ) in 0.71 sec. Users per second: 956\n",
      "EvaluatorHoldout: Processed 676 ( 100.00% ) in 0.71 sec. Users per second: 959\n",
      "EvaluatorHoldout: Processed 676 ( 100.00% ) in 0.75 sec. Users per second: 905\n",
      "EvaluatorHoldout: Processed 676 ( 100.00% ) in 0.72 sec. Users per second: 942\n",
      "EvaluatorHoldout: Processed 676 ( 100.00% ) in 1.01 sec. Users per second: 670\n",
      "EvaluatorHoldout: Processed 676 ( 100.00% ) in 1.02 sec. Users per second: 663\n",
      "EvaluatorHoldout: Processed 676 ( 100.00% ) in 1.03 sec. Users per second: 654\n",
      "EvaluatorHoldout: Processed 676 ( 100.00% ) in 1.00 sec. Users per second: 675\n",
      "EvaluatorHoldout: Processed 676 ( 100.00% ) in 1.01 sec. Users per second: 672\n",
      "EvaluatorHoldout: Processed 676 ( 100.00% ) in 1.03 sec. Users per second: 653\n",
      "EvaluatorHoldout: Processed 676 ( 100.00% ) in 1.01 sec. Users per second: 667\n",
      "EvaluatorHoldout: Processed 676 ( 100.00% ) in 1.04 sec. Users per second: 652\n",
      "EvaluatorHoldout: Processed 676 ( 100.00% ) in 1.04 sec. Users per second: 651\n",
      "EvaluatorHoldout: Processed 676 ( 100.00% ) in 1.05 sec. Users per second: 644\n",
      "Warning: the URM_test filtered in (17, 30) has 589 of 4106 total users in the original URM_test. (0.14)\n",
      "EvaluatorHoldout: Processed 589 ( 100.00% ) in 0.43 sec. Users per second: 1372\n",
      "EvaluatorHoldout: Processed 589 ( 100.00% ) in 0.50 sec. Users per second: 1170\n",
      "EvaluatorHoldout: Processed 589 ( 100.00% ) in 0.50 sec. Users per second: 1169\n",
      "EvaluatorHoldout: Processed 589 ( 100.00% ) in 0.50 sec. Users per second: 1173\n",
      "EvaluatorHoldout: Processed 589 ( 100.00% ) in 0.50 sec. Users per second: 1187\n",
      "EvaluatorHoldout: Processed 589 ( 100.00% ) in 0.49 sec. Users per second: 1199\n",
      "EvaluatorHoldout: Processed 589 ( 100.00% ) in 0.46 sec. Users per second: 1270\n",
      "EvaluatorHoldout: Processed 589 ( 100.00% ) in 0.48 sec. Users per second: 1230\n",
      "EvaluatorHoldout: Processed 589 ( 100.00% ) in 0.58 sec. Users per second: 1021\n",
      "EvaluatorHoldout: Processed 589 ( 100.00% ) in 0.64 sec. Users per second: 922\n",
      "EvaluatorHoldout: Processed 589 ( 100.00% ) in 0.63 sec. Users per second: 941\n",
      "EvaluatorHoldout: Processed 589 ( 100.00% ) in 0.63 sec. Users per second: 928\n",
      "EvaluatorHoldout: Processed 589 ( 100.00% ) in 0.62 sec. Users per second: 947\n",
      "EvaluatorHoldout: Processed 589 ( 100.00% ) in 0.74 sec. Users per second: 797\n",
      "EvaluatorHoldout: Processed 589 ( 100.00% ) in 0.58 sec. Users per second: 1008\n"
     ]
    },
    {
     "name": "stdout",
     "output_type": "stream",
     "text": [
      "EvaluatorHoldout: Processed 589 ( 100.00% ) in 0.63 sec. Users per second: 934\n",
      "EvaluatorHoldout: Processed 589 ( 100.00% ) in 0.62 sec. Users per second: 954\n",
      "EvaluatorHoldout: Processed 589 ( 100.00% ) in 0.57 sec. Users per second: 1038\n",
      "EvaluatorHoldout: Processed 589 ( 100.00% ) in 0.58 sec. Users per second: 1007\n",
      "EvaluatorHoldout: Processed 589 ( 100.00% ) in 0.69 sec. Users per second: 853\n",
      "EvaluatorHoldout: Processed 589 ( 100.00% ) in 0.58 sec. Users per second: 1022\n",
      "EvaluatorHoldout: Processed 589 ( 100.00% ) in 0.59 sec. Users per second: 996\n",
      "EvaluatorHoldout: Processed 589 ( 100.00% ) in 0.67 sec. Users per second: 878\n",
      "EvaluatorHoldout: Processed 589 ( 100.00% ) in 0.63 sec. Users per second: 929\n",
      "EvaluatorHoldout: Processed 589 ( 100.00% ) in 0.67 sec. Users per second: 880\n",
      "EvaluatorHoldout: Processed 589 ( 100.00% ) in 0.63 sec. Users per second: 939\n",
      "EvaluatorHoldout: Processed 589 ( 100.00% ) in 0.77 sec. Users per second: 764\n",
      "EvaluatorHoldout: Processed 589 ( 100.00% ) in 0.64 sec. Users per second: 922\n",
      "EvaluatorHoldout: Processed 589 ( 100.00% ) in 0.68 sec. Users per second: 870\n",
      "EvaluatorHoldout: Processed 589 ( 100.00% ) in 0.63 sec. Users per second: 934\n",
      "EvaluatorHoldout: Processed 589 ( 100.00% ) in 0.75 sec. Users per second: 788\n",
      "EvaluatorHoldout: Processed 589 ( 100.00% ) in 0.74 sec. Users per second: 798\n",
      "EvaluatorHoldout: Processed 589 ( 100.00% ) in 0.70 sec. Users per second: 842\n",
      "EvaluatorHoldout: Processed 589 ( 100.00% ) in 0.69 sec. Users per second: 848\n",
      "EvaluatorHoldout: Processed 589 ( 100.00% ) in 0.75 sec. Users per second: 785\n",
      "EvaluatorHoldout: Processed 589 ( 100.00% ) in 0.71 sec. Users per second: 830\n",
      "EvaluatorHoldout: Processed 589 ( 100.00% ) in 0.99 sec. Users per second: 592\n",
      "EvaluatorHoldout: Processed 589 ( 100.00% ) in 1.00 sec. Users per second: 588\n",
      "EvaluatorHoldout: Processed 589 ( 100.00% ) in 1.01 sec. Users per second: 582\n",
      "EvaluatorHoldout: Processed 589 ( 100.00% ) in 0.99 sec. Users per second: 595\n",
      "EvaluatorHoldout: Processed 589 ( 100.00% ) in 1.01 sec. Users per second: 585\n",
      "EvaluatorHoldout: Processed 589 ( 100.00% ) in 1.04 sec. Users per second: 567\n",
      "EvaluatorHoldout: Processed 589 ( 100.00% ) in 1.01 sec. Users per second: 585\n",
      "EvaluatorHoldout: Processed 589 ( 100.00% ) in 1.11 sec. Users per second: 533\n",
      "EvaluatorHoldout: Processed 589 ( 100.00% ) in 1.04 sec. Users per second: 565\n",
      "EvaluatorHoldout: Processed 589 ( 100.00% ) in 1.08 sec. Users per second: 547\n",
      "Warning: the URM_test filtered in (30, 100) has 522 of 4106 total users in the original URM_test. (0.13)\n",
      "EvaluatorHoldout: Processed 522 ( 100.00% ) in 0.45 sec. Users per second: 1153\n",
      "EvaluatorHoldout: Processed 522 ( 100.00% ) in 0.54 sec. Users per second: 966\n",
      "EvaluatorHoldout: Processed 522 ( 100.00% ) in 0.54 sec. Users per second: 969\n",
      "EvaluatorHoldout: Processed 522 ( 100.00% ) in 0.54 sec. Users per second: 969\n",
      "EvaluatorHoldout: Processed 522 ( 100.00% ) in 0.53 sec. Users per second: 983\n",
      "EvaluatorHoldout: Processed 522 ( 100.00% ) in 0.52 sec. Users per second: 996\n",
      "EvaluatorHoldout: Processed 522 ( 100.00% ) in 0.49 sec. Users per second: 1056\n",
      "EvaluatorHoldout: Processed 522 ( 100.00% ) in 0.51 sec. Users per second: 1029\n",
      "EvaluatorHoldout: Processed 522 ( 100.00% ) in 0.58 sec. Users per second: 898\n",
      "EvaluatorHoldout: Processed 522 ( 100.00% ) in 0.68 sec. Users per second: 764\n",
      "EvaluatorHoldout: Processed 522 ( 100.00% ) in 0.67 sec. Users per second: 782\n",
      "EvaluatorHoldout: Processed 522 ( 100.00% ) in 0.67 sec. Users per second: 780\n",
      "EvaluatorHoldout: Processed 522 ( 100.00% ) in 0.66 sec. Users per second: 791\n",
      "EvaluatorHoldout: Processed 522 ( 100.00% ) in 0.85 sec. Users per second: 616\n",
      "EvaluatorHoldout: Processed 522 ( 100.00% ) in 0.59 sec. Users per second: 880\n",
      "EvaluatorHoldout: Processed 522 ( 100.00% ) in 0.68 sec. Users per second: 773\n",
      "EvaluatorHoldout: Processed 522 ( 100.00% ) in 0.65 sec. Users per second: 803\n",
      "EvaluatorHoldout: Processed 522 ( 100.00% ) in 0.58 sec. Users per second: 906\n",
      "EvaluatorHoldout: Processed 522 ( 100.00% ) in 0.62 sec. Users per second: 841\n",
      "EvaluatorHoldout: Processed 522 ( 100.00% ) in 0.79 sec. Users per second: 660\n",
      "EvaluatorHoldout: Processed 522 ( 100.00% ) in 0.58 sec. Users per second: 907\n",
      "EvaluatorHoldout: Processed 522 ( 100.00% ) in 0.62 sec. Users per second: 838\n",
      "EvaluatorHoldout: Processed 522 ( 100.00% ) in 0.73 sec. Users per second: 712\n",
      "EvaluatorHoldout: Processed 522 ( 100.00% ) in 0.68 sec. Users per second: 771\n",
      "EvaluatorHoldout: Processed 522 ( 100.00% ) in 0.74 sec. Users per second: 703\n",
      "EvaluatorHoldout: Processed 522 ( 100.00% ) in 0.67 sec. Users per second: 781\n",
      "EvaluatorHoldout: Processed 522 ( 100.00% ) in 0.90 sec. Users per second: 578\n",
      "EvaluatorHoldout: Processed 522 ( 100.00% ) in 0.67 sec. Users per second: 774\n",
      "EvaluatorHoldout: Processed 522 ( 100.00% ) in 0.74 sec. Users per second: 703\n",
      "EvaluatorHoldout: Processed 522 ( 100.00% ) in 0.67 sec. Users per second: 783\n",
      "EvaluatorHoldout: Processed 522 ( 100.00% ) in 0.87 sec. Users per second: 603\n",
      "EvaluatorHoldout: Processed 522 ( 100.00% ) in 0.84 sec. Users per second: 625\n",
      "EvaluatorHoldout: Processed 522 ( 100.00% ) in 0.77 sec. Users per second: 674\n",
      "EvaluatorHoldout: Processed 522 ( 100.00% ) in 0.76 sec. Users per second: 683\n",
      "EvaluatorHoldout: Processed 522 ( 100.00% ) in 0.85 sec. Users per second: 615\n",
      "EvaluatorHoldout: Processed 522 ( 100.00% ) in 0.78 sec. Users per second: 671\n",
      "EvaluatorHoldout: Processed 522 ( 100.00% ) in 1.07 sec. Users per second: 488\n",
      "EvaluatorHoldout: Processed 522 ( 100.00% ) in 1.07 sec. Users per second: 487\n",
      "EvaluatorHoldout: Processed 522 ( 100.00% ) in 1.08 sec. Users per second: 483\n",
      "EvaluatorHoldout: Processed 522 ( 100.00% ) in 1.06 sec. Users per second: 492\n",
      "EvaluatorHoldout: Processed 522 ( 100.00% ) in 1.07 sec. Users per second: 487\n",
      "EvaluatorHoldout: Processed 522 ( 100.00% ) in 1.14 sec. Users per second: 456\n",
      "EvaluatorHoldout: Processed 522 ( 100.00% ) in 1.07 sec. Users per second: 488\n",
      "EvaluatorHoldout: Processed 522 ( 100.00% ) in 1.14 sec. Users per second: 457\n",
      "EvaluatorHoldout: Processed 522 ( 100.00% ) in 1.15 sec. Users per second: 454\n",
      "EvaluatorHoldout: Processed 522 ( 100.00% ) in 1.16 sec. Users per second: 452\n",
      "Warning: the URM_test filtered in (100, 200) has 80 of 4106 total users in the original URM_test. (0.02)\n",
      "EvaluatorHoldout: Processed 80 ( 100.00% ) in 0.08 sec. Users per second: 1053\n",
      "EvaluatorHoldout: Processed 80 ( 100.00% ) in 0.12 sec. Users per second: 648\n",
      "EvaluatorHoldout: Processed 80 ( 100.00% ) in 0.12 sec. Users per second: 668\n",
      "EvaluatorHoldout: Processed 80 ( 100.00% ) in 0.12 sec. Users per second: 666\n",
      "EvaluatorHoldout: Processed 80 ( 100.00% ) in 0.12 sec. Users per second: 689\n",
      "EvaluatorHoldout: Processed 80 ( 100.00% ) in 0.10 sec. Users per second: 816\n",
      "EvaluatorHoldout: Processed 80 ( 100.00% ) in 0.09 sec. Users per second: 909\n",
      "EvaluatorHoldout: Processed 80 ( 100.00% ) in 0.09 sec. Users per second: 863\n",
      "EvaluatorHoldout: Processed 80 ( 100.00% ) in 0.09 sec. Users per second: 868\n",
      "EvaluatorHoldout: Processed 80 ( 100.00% ) in 0.12 sec. Users per second: 655\n",
      "EvaluatorHoldout: Processed 80 ( 100.00% ) in 0.12 sec. Users per second: 672\n",
      "EvaluatorHoldout: Processed 80 ( 100.00% ) in 0.12 sec. Users per second: 683\n",
      "EvaluatorHoldout: Processed 80 ( 100.00% ) in 0.12 sec. Users per second: 694\n",
      "EvaluatorHoldout: Processed 80 ( 100.00% ) in 0.17 sec. Users per second: 484\n",
      "EvaluatorHoldout: Processed 80 ( 100.00% ) in 0.09 sec. Users per second: 851\n",
      "EvaluatorHoldout: Processed 80 ( 100.00% ) in 0.12 sec. Users per second: 676\n",
      "EvaluatorHoldout: Processed 80 ( 100.00% ) in 0.12 sec. Users per second: 690\n",
      "EvaluatorHoldout: Processed 80 ( 100.00% ) in 0.10 sec. Users per second: 840\n",
      "EvaluatorHoldout: Processed 80 ( 100.00% ) in 0.11 sec. Users per second: 736\n",
      "EvaluatorHoldout: Processed 80 ( 100.00% ) in 0.16 sec. Users per second: 510\n",
      "EvaluatorHoldout: Processed 80 ( 100.00% ) in 0.09 sec. Users per second: 857\n",
      "EvaluatorHoldout: Processed 80 ( 100.00% ) in 0.11 sec. Users per second: 753\n",
      "EvaluatorHoldout: Processed 80 ( 100.00% ) in 0.14 sec. Users per second: 575\n",
      "EvaluatorHoldout: Processed 80 ( 100.00% ) in 0.12 sec. Users per second: 656\n",
      "EvaluatorHoldout: Processed 80 ( 100.00% ) in 0.14 sec. Users per second: 569\n"
     ]
    },
    {
     "name": "stdout",
     "output_type": "stream",
     "text": [
      "EvaluatorHoldout: Processed 80 ( 100.00% ) in 0.12 sec. Users per second: 672\n",
      "EvaluatorHoldout: Processed 80 ( 100.00% ) in 0.19 sec. Users per second: 425\n",
      "EvaluatorHoldout: Processed 80 ( 100.00% ) in 0.12 sec. Users per second: 653\n",
      "EvaluatorHoldout: Processed 80 ( 100.00% ) in 0.14 sec. Users per second: 565\n",
      "EvaluatorHoldout: Processed 80 ( 100.00% ) in 0.11 sec. Users per second: 704\n",
      "EvaluatorHoldout: Processed 80 ( 100.00% ) in 0.17 sec. Users per second: 484\n",
      "EvaluatorHoldout: Processed 80 ( 100.00% ) in 0.16 sec. Users per second: 490\n",
      "EvaluatorHoldout: Processed 80 ( 100.00% ) in 0.14 sec. Users per second: 555\n",
      "EvaluatorHoldout: Processed 80 ( 100.00% ) in 0.14 sec. Users per second: 567\n",
      "EvaluatorHoldout: Processed 80 ( 100.00% ) in 0.17 sec. Users per second: 474\n",
      "EvaluatorHoldout: Processed 80 ( 100.00% ) in 0.14 sec. Users per second: 561\n",
      "EvaluatorHoldout: Processed 80 ( 100.00% ) in 0.25 sec. Users per second: 320\n",
      "EvaluatorHoldout: Processed 80 ( 100.00% ) in 0.25 sec. Users per second: 321\n",
      "EvaluatorHoldout: Processed 80 ( 100.00% ) in 0.25 sec. Users per second: 320\n",
      "EvaluatorHoldout: Processed 80 ( 100.00% ) in 0.25 sec. Users per second: 323\n",
      "EvaluatorHoldout: Processed 80 ( 100.00% ) in 0.25 sec. Users per second: 319\n",
      "EvaluatorHoldout: Processed 80 ( 100.00% ) in 0.27 sec. Users per second: 292\n",
      "EvaluatorHoldout: Processed 80 ( 100.00% ) in 0.25 sec. Users per second: 322\n",
      "EvaluatorHoldout: Processed 80 ( 100.00% ) in 0.27 sec. Users per second: 291\n",
      "EvaluatorHoldout: Processed 80 ( 100.00% ) in 0.28 sec. Users per second: 290\n",
      "EvaluatorHoldout: Processed 80 ( 100.00% ) in 0.28 sec. Users per second: 290\n",
      "Warning: the URM_test filtered in (200, -1) has 38 of 4106 total users in the original URM_test. (0.01)\n",
      "EvaluatorHoldout: Processed 38 ( 100.00% ) in 0.05 sec. Users per second: 703\n",
      "EvaluatorHoldout: Processed 38 ( 100.00% ) in 0.11 sec. Users per second: 360\n",
      "EvaluatorHoldout: Processed 38 ( 100.00% ) in 0.10 sec. Users per second: 394\n",
      "EvaluatorHoldout: Processed 38 ( 100.00% ) in 0.10 sec. Users per second: 373\n",
      "EvaluatorHoldout: Processed 38 ( 100.00% ) in 0.10 sec. Users per second: 391\n",
      "EvaluatorHoldout: Processed 38 ( 100.00% ) in 0.08 sec. Users per second: 486\n",
      "EvaluatorHoldout: Processed 38 ( 100.00% ) in 0.07 sec. Users per second: 550\n",
      "EvaluatorHoldout: Processed 38 ( 100.00% ) in 0.08 sec. Users per second: 486\n",
      "EvaluatorHoldout: Processed 38 ( 100.00% ) in 0.06 sec. Users per second: 596\n",
      "EvaluatorHoldout: Processed 38 ( 100.00% ) in 0.10 sec. Users per second: 391\n",
      "EvaluatorHoldout: Processed 38 ( 100.00% ) in 0.10 sec. Users per second: 389\n",
      "EvaluatorHoldout: Processed 38 ( 100.00% ) in 0.09 sec. Users per second: 412\n",
      "EvaluatorHoldout: Processed 38 ( 100.00% ) in 0.09 sec. Users per second: 416\n",
      "EvaluatorHoldout: Processed 38 ( 100.00% ) in 0.13 sec. Users per second: 285\n",
      "EvaluatorHoldout: Processed 38 ( 100.00% ) in 0.06 sec. Users per second: 592\n",
      "EvaluatorHoldout: Processed 38 ( 100.00% ) in 0.09 sec. Users per second: 434\n",
      "EvaluatorHoldout: Processed 38 ( 100.00% ) in 0.09 sec. Users per second: 424\n",
      "EvaluatorHoldout: Processed 38 ( 100.00% ) in 0.07 sec. Users per second: 563\n",
      "EvaluatorHoldout: Processed 38 ( 100.00% ) in 0.09 sec. Users per second: 431\n",
      "EvaluatorHoldout: Processed 38 ( 100.00% ) in 0.13 sec. Users per second: 292\n",
      "EvaluatorHoldout: Processed 38 ( 100.00% ) in 0.06 sec. Users per second: 586\n",
      "EvaluatorHoldout: Processed 38 ( 100.00% ) in 0.08 sec. Users per second: 453\n",
      "EvaluatorHoldout: Processed 38 ( 100.00% ) in 0.12 sec. Users per second: 311\n",
      "EvaluatorHoldout: Processed 38 ( 100.00% ) in 0.10 sec. Users per second: 376\n",
      "EvaluatorHoldout: Processed 38 ( 100.00% ) in 0.12 sec. Users per second: 313\n",
      "EvaluatorHoldout: Processed 38 ( 100.00% ) in 0.10 sec. Users per second: 391\n",
      "EvaluatorHoldout: Processed 38 ( 100.00% ) in 0.16 sec. Users per second: 231\n",
      "EvaluatorHoldout: Processed 38 ( 100.00% ) in 0.09 sec. Users per second: 403\n",
      "EvaluatorHoldout: Processed 38 ( 100.00% ) in 0.12 sec. Users per second: 324\n",
      "EvaluatorHoldout: Processed 38 ( 100.00% ) in 0.09 sec. Users per second: 433\n",
      "EvaluatorHoldout: Processed 38 ( 100.00% ) in 0.13 sec. Users per second: 295\n",
      "EvaluatorHoldout: Processed 38 ( 100.00% ) in 0.13 sec. Users per second: 284\n",
      "EvaluatorHoldout: Processed 38 ( 100.00% ) in 0.11 sec. Users per second: 343\n",
      "EvaluatorHoldout: Processed 38 ( 100.00% ) in 0.11 sec. Users per second: 349\n",
      "EvaluatorHoldout: Processed 38 ( 100.00% ) in 0.14 sec. Users per second: 270\n",
      "EvaluatorHoldout: Processed 38 ( 100.00% ) in 0.11 sec. Users per second: 354\n",
      "EvaluatorHoldout: Processed 38 ( 100.00% ) in 0.22 sec. Users per second: 176\n",
      "EvaluatorHoldout: Processed 38 ( 100.00% ) in 0.21 sec. Users per second: 178\n",
      "EvaluatorHoldout: Processed 38 ( 100.00% ) in 0.21 sec. Users per second: 177\n",
      "EvaluatorHoldout: Processed 38 ( 100.00% ) in 0.21 sec. Users per second: 178\n",
      "EvaluatorHoldout: Processed 38 ( 100.00% ) in 0.21 sec. Users per second: 178\n",
      "EvaluatorHoldout: Processed 38 ( 100.00% ) in 0.25 sec. Users per second: 155\n",
      "EvaluatorHoldout: Processed 38 ( 100.00% ) in 0.21 sec. Users per second: 180\n",
      "EvaluatorHoldout: Processed 38 ( 100.00% ) in 0.25 sec. Users per second: 155\n",
      "EvaluatorHoldout: Processed 38 ( 100.00% ) in 0.25 sec. Users per second: 155\n",
      "EvaluatorHoldout: Processed 38 ( 100.00% ) in 0.24 sec. Users per second: 157\n"
     ]
    }
   ],
   "source": [
    "f_ranges = [\n",
    "    (0,3),\n",
    "    (3,5),\n",
    "    (5,10),\n",
    "    (10,17),\n",
    "    (17,30),\n",
    "    (30,100),\n",
    "    (100,200),\n",
    "    (200,-1)\n",
    "]\n",
    "MAP_merged_per_group = []\n",
    "MAP_combo_per_group = []\n",
    "cutoff = 10\n",
    "\n",
    "for f_range in f_ranges:\n",
    "    URM_test_group = parser.filter_URM_test_by_range(URM_train, URM_test, f_range)\n",
    "    evaluator_test = EvaluatorHoldout(URM_test_group, cutoff_list=[cutoff])\n",
    "    \n",
    "    merged_dict={}\n",
    "    for i in range (num_merged):\n",
    "        results, _ = evaluator_test.evaluateRecommender(merged_hybrid[i])\n",
    "        key='merged'+str(i+1)\n",
    "        merged_dict[key]=results[cutoff][\"MAP\"]\n",
    "    \n",
    "    MAP_merged_per_group.append(merged_dict)\n",
    " \n",
    "    combo_dict={}\n",
    "    for i in range (num_combo):\n",
    "        results, _ = evaluator_test.evaluateRecommender(combo_hybrid[i])\n",
    "        key='combo'+str(i+1)\n",
    "        combo_dict[key]=results[cutoff][\"MAP\"]\n",
    "    \n",
    "    MAP_combo_per_group.append(combo_dict)"
   ]
  },
  {
   "cell_type": "code",
   "execution_count": 59,
   "metadata": {},
   "outputs": [],
   "source": [
    "def check_if_present(key_list, el):\n",
    "    for key_val, combo_val in key_list:\n",
    "        if key_val == el[0] and combo_val == el[1]:\n",
    "            return True\n",
    "    return False"
   ]
  },
  {
   "cell_type": "code",
   "execution_count": 60,
   "metadata": {},
   "outputs": [
    {
     "name": "stdout",
     "output_type": "stream",
     "text": [
      "RANGE (0, 3)\n",
      "> MAP combo-icf_ucf_p3a:\t 0.06696568792416852\n",
      "> MAP combo-icf_ucf_rp3b:\t 0.06944128947220822\n",
      "> MAP combo-icf_p3a_rp3b:\t 0.06935470301194685\n",
      "> MAP combo-ucf_p3a_rp3b:\t 0.06838752874530261\n",
      "> MAP combo-icb_icf_sen:\t 0.07483243591900836\n",
      "> MAP combo-icf_sen_sbpr:\t 0.0644405416269374\n",
      "> MAP combo-icb_icf_ucf:\t 0.05942623908613309\n",
      "> MAP combo-icf_ucf_sen:\t 0.06561465870211454\n",
      "> MAP combo-icb_p3a_sen:\t 0.07850166862976055\n",
      "> MAP combo-icb_icf_p3a:\t 0.07880980425150037\n",
      "> MAP combo-icf_p3a_sen:\t 0.06497349823321558\n",
      "> MAP combo-p3a_sen_sbpr:\t 0.06497349823321558\n",
      "> MAP combo-icb_ucf_p3a:\t 0.08013804756295924\n",
      "> MAP combo-ucf_p3a_sen:\t 0.06497349823321558\n",
      "> MAP combo-icb_rp3b_sen:\t 0.07618591900835718\n",
      "> MAP combo-icb_icf_rp3b:\t 0.08200684278422796\n",
      "> MAP combo-icf_rp3b_sen:\t 0.06825817488361659\n",
      "> MAP combo-icb_p3a_rp3b:\t 0.0790075158449717\n",
      "> MAP combo-rp3b_sen_sbpr:\t 0.06681109428459255\n",
      "> MAP combo-icb_ucf_rp3b:\t 0.07977732907061533\n",
      "> MAP combo-ucf_rp3b_sen:\t 0.06804714229625893\n",
      "> MAP combo-icb_ucf_sen:\t 0.07321007908463738\n",
      "> MAP combo-ucf_sen_sbpr:\t 0.06441857367210725\n",
      "> MAP combo-icb_sen_sbpr:\t 0.0749488193392787\n",
      "> MAP combo-icb_icf_sbpr:\t 0.0735672920522744\n",
      "> MAP combo-icb_p3a_sbpr:\t 0.07881225811879523\n",
      "> MAP combo-icb_rp3b_sbpr:\t 0.07695923775870772\n",
      "> MAP combo-icb_ucf_sbpr:\t 0.06324106792304675\n",
      "> MAP combo-sslim_icb_icf:\t 0.07535230523304731\n",
      "> MAP combo-sslim_icb_ucf:\t 0.07645619496326211\n",
      "> MAP combo-sslim_icf_ucf:\t 0.07513881877839478\n",
      "> MAP combo-sslim_p3a_icb:\t 0.08045003926187672\n",
      "> MAP combo-sslim_p3a_icf:\t 0.07631737618486739\n",
      "> MAP combo-sslim_p3a_rp3b:\t 0.07628512535756356\n",
      "> MAP combo-sslim_p3a_ucf:\t 0.07823968908332869\n",
      "> MAP combo-sslim_rp3b_icb:\t 0.08104282348981995\n",
      "> MAP combo-sslim_rp3b_icf:\t 0.07628512535756356\n",
      "> MAP combo-sslim_rp3b_ucf:\t 0.07513881877839478\n",
      "> MAP merged-icb_icf_p3a:\t 0.08038098042515003\n",
      "> MAP merged-icb_icf_rp3b:\t 0.08234232149868193\n",
      "> MAP merged-icb_icf_sen:\t 0.0741674378821022\n",
      "> MAP merged-icb_p3a_rp3b:\t 0.08162368893375962\n",
      "> MAP merged-icb_p3a_sen:\t 0.07942151831286108\n",
      "> MAP merged-icb_rp3b_sen:\t 0.08080830388692581\n",
      "> MAP merged-icf_p3a_rp3b:\t 0.06619166806887657\n",
      "> MAP merged-p3a_rp3b_sen:\t 0.06720196028941613\n",
      "Max MAP is 0.08234232149868193 from icb_icf_rp3b(MERGED) with difference from previous max of 0.0003354787144539684 from icb_icf_rp3b(COMBO) \n",
      "\n",
      "RANGE (3, 5)\n",
      "> MAP combo-icf_ucf_p3a:\t 0.07140227576974567\n",
      "> MAP combo-icf_ucf_rp3b:\t 0.06927505942135892\n",
      "> MAP combo-icf_p3a_rp3b:\t 0.0719264814359479\n",
      "> MAP combo-ucf_p3a_rp3b:\t 0.07117142037537909\n",
      "> MAP combo-icb_icf_sen:\t 0.07700820287954543\n",
      "> MAP combo-icf_sen_sbpr:\t 0.06747978307788982\n",
      "> MAP combo-icb_icf_ucf:\t 0.06695830942818896\n",
      "> MAP combo-icf_ucf_sen:\t 0.06420887632161298\n",
      "> MAP combo-icb_p3a_sen:\t 0.07718766221347978\n",
      "> MAP combo-icb_icf_p3a:\t 0.07646709286124088\n",
      "> MAP combo-icf_p3a_sen:\t 0.06932765073901048\n",
      "> MAP combo-p3a_sen_sbpr:\t 0.06932765073901048\n",
      "> MAP combo-icb_ucf_p3a:\t 0.07839111548233753\n",
      "> MAP combo-ucf_p3a_sen:\t 0.06932765073901048\n",
      "> MAP combo-icb_rp3b_sen:\t 0.07977624784853703\n",
      "> MAP combo-icb_icf_rp3b:\t 0.08257349124388715\n",
      "> MAP combo-icf_rp3b_sen:\t 0.06836324891402344\n",
      "> MAP combo-icb_p3a_rp3b:\t 0.08058663224325878\n",
      "> MAP combo-rp3b_sen_sbpr:\t 0.0676037483266399\n",
      "> MAP combo-icb_ucf_rp3b:\t 0.07967550474004867\n",
      "> MAP combo-ucf_rp3b_sen:\t 0.06836324891402346\n",
      "> MAP combo-icb_ucf_sen:\t 0.07976958855831491\n",
      "> MAP combo-ucf_sen_sbpr:\t 0.06954712273128798\n",
      "> MAP combo-icb_sen_sbpr:\t 0.08122285058601757\n",
      "> MAP combo-icb_icf_sbpr:\t 0.07400281397699643\n",
      "> MAP combo-icb_p3a_sbpr:\t 0.07681132694041475\n",
      "> MAP combo-icb_rp3b_sbpr:\t 0.08136389093790129\n",
      "> MAP combo-icb_ucf_sbpr:\t 0.06808833975357213\n",
      "> MAP combo-sslim_icb_icf:\t 0.08322815069803023\n",
      "> MAP combo-sslim_icb_ucf:\t 0.08071879354151303\n",
      "> MAP combo-sslim_icf_ucf:\t 0.08065720933621108\n",
      "> MAP combo-sslim_p3a_icb:\t 0.08540266508209711\n",
      "> MAP combo-sslim_p3a_icf:\t 0.07981848027028755\n",
      "> MAP combo-sslim_p3a_rp3b:\t 0.08028702110027416\n",
      "> MAP combo-sslim_p3a_ucf:\t 0.0799154668560865\n",
      "> MAP combo-sslim_rp3b_icb:\t 0.08502154878015462\n",
      "> MAP combo-sslim_rp3b_icf:\t 0.08028702110027416\n",
      "> MAP combo-sslim_rp3b_ucf:\t 0.08065720933621108\n",
      "> MAP merged-icb_icf_p3a:\t 0.07823675655000957\n",
      "> MAP merged-icb_icf_rp3b:\t 0.0795102177417152\n",
      "> MAP merged-icb_icf_sen:\t 0.07651251263557632\n",
      "> MAP merged-icb_p3a_rp3b:\t 0.0807539682539683\n",
      "> MAP merged-icb_p3a_sen:\t 0.08088316986767938\n",
      "> MAP merged-icb_rp3b_sen:\t 0.07857723410649403\n",
      "> MAP merged-icf_p3a_rp3b:\t 0.06879832254186816\n",
      "> MAP merged-p3a_rp3b_sen:\t 0.0718469114553452\n",
      "Max MAP is 0.08540266508209711 from sslim_p3a_icb(COMBO) with difference from previous max of 0.002174514384066878 from sslim_icb_icf(COMBO) \n",
      "\n",
      "RANGE (5, 10)\n",
      "> MAP combo-icf_ucf_p3a:\t 0.07705535205535204\n",
      "> MAP combo-icf_ucf_rp3b:\t 0.07919925245874614\n",
      "> MAP combo-icf_p3a_rp3b:\t 0.0795132610006028\n",
      "> MAP combo-ucf_p3a_rp3b:\t 0.0782752584967775\n",
      "> MAP combo-icb_icf_sen:\t 0.08421546807622761\n",
      "> MAP combo-icf_sen_sbpr:\t 0.07686814474789161\n",
      "> MAP combo-icb_icf_ucf:\t 0.07028005105536757\n",
      "> MAP combo-icf_ucf_sen:\t 0.07585405686671509\n",
      "> MAP combo-icb_p3a_sen:\t 0.08492533603293102\n",
      "> MAP combo-icb_icf_p3a:\t 0.0807222840450689\n",
      "> MAP combo-icf_p3a_sen:\t 0.07766057196436942\n",
      "> MAP combo-p3a_sen_sbpr:\t 0.07766057196436942\n",
      "> MAP combo-icb_ucf_p3a:\t 0.0845506316234165\n",
      "> MAP combo-ucf_p3a_sen:\t 0.07766057196436942\n",
      "> MAP combo-icb_rp3b_sen:\t 0.09236480116226953\n",
      "> MAP combo-icb_icf_rp3b:\t 0.08735078798369939\n",
      "> MAP combo-icf_rp3b_sen:\t 0.07912976615508263\n",
      "> MAP combo-icb_p3a_rp3b:\t 0.08862511140992156\n",
      "> MAP combo-rp3b_sen_sbpr:\t 0.07751850821471079\n",
      "> MAP combo-icb_ucf_rp3b:\t 0.08796920964642485\n",
      "> MAP combo-ucf_rp3b_sen:\t 0.07908919491197973\n",
      "> MAP combo-icb_ucf_sen:\t 0.08491244339345609\n",
      "> MAP combo-ucf_sen_sbpr:\t 0.07744663915549994\n",
      "> MAP combo-icb_sen_sbpr:\t 0.08787420853876553\n",
      "> MAP combo-icb_icf_sbpr:\t 0.07564218481940004\n",
      "> MAP combo-icb_p3a_sbpr:\t 0.08295560218028578\n",
      "> MAP combo-icb_rp3b_sbpr:\t 0.08805350767376091\n",
      "> MAP combo-icb_ucf_sbpr:\t 0.07290742543907108\n",
      "> MAP combo-sslim_icb_icf:\t 0.08874833851099675\n",
      "> MAP combo-sslim_icb_ucf:\t 0.08963916709169874\n",
      "> MAP combo-sslim_icf_ucf:\t 0.0871074764429195\n",
      "> MAP combo-sslim_p3a_icb:\t 0.09044637383244981\n",
      "> MAP combo-sslim_p3a_icf:\t 0.08632316347506222\n",
      "> MAP combo-sslim_p3a_rp3b:\t 0.08675476422311865\n",
      "> MAP combo-sslim_p3a_ucf:\t 0.08734530120606071\n",
      "> MAP combo-sslim_rp3b_icb:\t 0.08989241536709895\n",
      "> MAP combo-sslim_rp3b_icf:\t 0.08626790930588399\n",
      "> MAP combo-sslim_rp3b_ucf:\t 0.08705048350617971\n",
      "> MAP merged-icb_icf_p3a:\t 0.08567712760750743\n",
      "> MAP merged-icb_icf_rp3b:\t 0.0904922901758345\n",
      "> MAP merged-icb_icf_sen:\t 0.08688763182434077\n",
      "> MAP merged-icb_p3a_rp3b:\t 0.09003924462785227\n",
      "> MAP merged-icb_p3a_sen:\t 0.08480033796489499\n",
      "> MAP merged-icb_rp3b_sen:\t 0.0905170837132863\n",
      "> MAP merged-icf_p3a_rp3b:\t 0.07744927950624154\n",
      "> MAP merged-p3a_rp3b_sen:\t 0.07933931984564899\n",
      "Max MAP is 0.09236480116226953 from icb_rp3b_sen(COMBO) with difference from previous max of 0.0074394651293385045 from icb_p3a_sen(COMBO) \n",
      "\n",
      "RANGE (10, 17)\n",
      "> MAP combo-icf_ucf_p3a:\t 0.05783814787420556\n",
      "> MAP combo-icf_ucf_rp3b:\t 0.057775067702952335\n",
      "> MAP combo-icf_p3a_rp3b:\t 0.057083802949187586\n",
      "> MAP combo-ucf_p3a_rp3b:\t 0.05759248008046087\n",
      "> MAP combo-icb_icf_sen:\t 0.07183247041420122\n",
      "> MAP combo-icf_sen_sbpr:\t 0.05993961522807678\n",
      "> MAP combo-icb_icf_ucf:\t 0.06735319612723463\n",
      "> MAP combo-icf_ucf_sen:\t 0.06050495444726218\n",
      "> MAP combo-icb_p3a_sen:\t 0.0712989672364673\n",
      "> MAP combo-icb_icf_p3a:\t 0.06900807347922737\n",
      "> MAP combo-icf_p3a_sen:\t 0.056911263149243926\n",
      "> MAP combo-p3a_sen_sbpr:\t 0.056911263149243926\n",
      "> MAP combo-icb_ucf_p3a:\t 0.0706573056573057\n",
      "> MAP combo-ucf_p3a_sen:\t 0.056911263149243926\n",
      "> MAP combo-icb_rp3b_sen:\t 0.07507381774208703\n",
      "> MAP combo-icb_icf_rp3b:\t 0.0694061952114837\n",
      "> MAP combo-icf_rp3b_sen:\t 0.057735394946933416\n",
      "> MAP combo-icb_p3a_rp3b:\t 0.06857839943176482\n",
      "> MAP combo-rp3b_sen_sbpr:\t 0.05701052330860026\n",
      "> MAP combo-icb_ucf_rp3b:\t 0.06889803172255095\n",
      "> MAP combo-ucf_rp3b_sen:\t 0.05778118249272095\n",
      "> MAP combo-icb_ucf_sen:\t 0.0743051935600013\n",
      "> MAP combo-ucf_sen_sbpr:\t 0.06095310494348957\n",
      "> MAP combo-icb_sen_sbpr:\t 0.07169241726934039\n",
      "> MAP combo-icb_icf_sbpr:\t 0.06617561480542253\n",
      "> MAP combo-icb_p3a_sbpr:\t 0.07054513595378988\n",
      "> MAP combo-icb_rp3b_sbpr:\t 0.0720894383394384\n",
      "> MAP combo-icb_ucf_sbpr:\t 0.06565115173288248\n",
      "> MAP combo-sslim_icb_icf:\t 0.07549039635578106\n",
      "> MAP combo-sslim_icb_ucf:\t 0.07631046304123235\n",
      "> MAP combo-sslim_icf_ucf:\t 0.06449572062552837\n",
      "> MAP combo-sslim_p3a_icb:\t 0.07512530427193893\n",
      "> MAP combo-sslim_p3a_icf:\t 0.06637560267367966\n",
      "> MAP combo-sslim_p3a_rp3b:\t 0.06593797939951791\n",
      "> MAP combo-sslim_p3a_ucf:\t 0.06582399971823055\n",
      "> MAP combo-sslim_rp3b_icb:\t 0.07508475098619334\n",
      "> MAP combo-sslim_rp3b_icf:\t 0.06609911633950101\n",
      "> MAP combo-sslim_rp3b_ucf:\t 0.06439651427632201\n",
      "> MAP merged-icb_icf_p3a:\t 0.07394313930371627\n",
      "> MAP merged-icb_icf_rp3b:\t 0.06847565139632449\n",
      "> MAP merged-icb_icf_sen:\t 0.07106514745937828\n",
      "> MAP merged-icb_p3a_rp3b:\t 0.06812285248583326\n",
      "> MAP merged-icb_p3a_sen:\t 0.07352502465483238\n",
      "> MAP merged-icb_rp3b_sen:\t 0.06953998681162148\n",
      "> MAP merged-icf_p3a_rp3b:\t 0.058279293267274046\n",
      "> MAP merged-p3a_rp3b_sen:\t 0.05724545353151123\n",
      "Max MAP is 0.07631046304123235 from sslim_icb_ucf(COMBO) with difference from previous max of 0.0008200666854512872 from sslim_icb_icf(COMBO) \n",
      "\n",
      "RANGE (17, 30)\n",
      "> MAP combo-icf_ucf_p3a:\t 0.06373707566407061\n",
      "> MAP combo-icf_ucf_rp3b:\t 0.06422909873249433\n",
      "> MAP combo-icf_p3a_rp3b:\t 0.06261404519362926\n",
      "> MAP combo-ucf_p3a_rp3b:\t 0.0652965859990478\n",
      "> MAP combo-icb_icf_sen:\t 0.07245462125616144\n",
      "> MAP combo-icf_sen_sbpr:\t 0.06988352377359174\n",
      "> MAP combo-icb_icf_ucf:\t 0.07014181960277038\n",
      "> MAP combo-icf_ucf_sen:\t 0.06656496752634279\n",
      "> MAP combo-icb_p3a_sen:\t 0.07032761114255177\n",
      "> MAP combo-icb_icf_p3a:\t 0.0681811495584841\n",
      "> MAP combo-icf_p3a_sen:\t 0.06434933660315663\n",
      "> MAP combo-p3a_sen_sbpr:\t 0.06434933660315663\n",
      "> MAP combo-icb_ucf_p3a:\t 0.07135016560859399\n",
      "> MAP combo-ucf_p3a_sen:\t 0.06434933660315663\n",
      "> MAP combo-icb_rp3b_sen:\t 0.07559830355458542\n",
      "> MAP combo-icb_icf_rp3b:\t 0.07016178599340135\n",
      "> MAP combo-icf_rp3b_sen:\t 0.06326431558286401\n",
      "> MAP combo-icb_p3a_rp3b:\t 0.07127141330027581\n",
      "> MAP combo-rp3b_sen_sbpr:\t 0.06407140162233543\n",
      "> MAP combo-icb_ucf_rp3b:\t 0.0699845203125582\n",
      "> MAP combo-ucf_rp3b_sen:\t 0.06347516977928698\n",
      "> MAP combo-icb_ucf_sen:\t 0.07662719907808441\n",
      "> MAP combo-ucf_sen_sbpr:\t 0.06574388480160977\n",
      "> MAP combo-icb_sen_sbpr:\t 0.07405121386415352\n",
      "> MAP combo-icb_icf_sbpr:\t 0.06219262313489823\n",
      "> MAP combo-icb_p3a_sbpr:\t 0.07009328236104861\n",
      "> MAP combo-icb_rp3b_sbpr:\t 0.07354204443520476\n",
      "> MAP combo-icb_ucf_sbpr:\t 0.0667274593293269\n",
      "> MAP combo-sslim_icb_icf:\t 0.07501432151808096\n",
      "> MAP combo-sslim_icb_ucf:\t 0.07590576383354708\n",
      "> MAP combo-sslim_icf_ucf:\t 0.07096278362316445\n",
      "> MAP combo-sslim_p3a_icb:\t 0.07749638914233874\n",
      "> MAP combo-sslim_p3a_icf:\t 0.07066562495588695\n",
      "> MAP combo-sslim_p3a_rp3b:\t 0.07049220754138295\n",
      "> MAP combo-sslim_p3a_ucf:\t 0.07148807759285573\n",
      "> MAP combo-sslim_rp3b_icb:\t 0.07587833190246489\n",
      "> MAP combo-sslim_rp3b_icf:\t 0.07049220754138295\n",
      "> MAP combo-sslim_rp3b_ucf:\t 0.07096693827502708\n",
      "> MAP merged-icb_icf_p3a:\t 0.0699302355350743\n",
      "> MAP merged-icb_icf_rp3b:\t 0.07054133349246136\n",
      "> MAP merged-icb_icf_sen:\t 0.0777449464033869\n",
      "> MAP merged-icb_p3a_rp3b:\t 0.07004808167371838\n",
      "> MAP merged-icb_p3a_sen:\t 0.07019972646670444\n",
      "> MAP merged-icb_rp3b_sen:\t 0.07218813161937108\n",
      "> MAP merged-icf_p3a_rp3b:\t 0.06843349092136385\n",
      "> MAP merged-p3a_rp3b_sen:\t 0.06586452690866958\n",
      "Max MAP is 0.0777449464033869 from icb_icf_sen(MERGED) with difference from previous max of 0.00024855726104816567 from sslim_p3a_icb(COMBO) \n",
      "\n",
      "RANGE (30, 100)\n",
      "> MAP combo-icf_ucf_p3a:\t 0.04643135974057571\n",
      "> MAP combo-icf_ucf_rp3b:\t 0.0422761820777694\n",
      "> MAP combo-icf_p3a_rp3b:\t 0.042883947214475436\n",
      "> MAP combo-ucf_p3a_rp3b:\t 0.045497993187625575\n",
      "> MAP combo-icb_icf_sen:\t 0.053869412938298646\n",
      "> MAP combo-icf_sen_sbpr:\t 0.04714691637972063\n",
      "> MAP combo-icb_icf_ucf:\t 0.0516812091481974\n",
      "> MAP combo-icf_ucf_sen:\t 0.04876430386259798\n",
      "> MAP combo-icb_p3a_sen:\t 0.0507838233739643\n",
      "> MAP combo-icb_icf_p3a:\t 0.04963731732227447\n",
      "> MAP combo-icf_p3a_sen:\t 0.04564601415278759\n",
      "> MAP combo-p3a_sen_sbpr:\t 0.04564601415278759\n",
      "> MAP combo-icb_ucf_p3a:\t 0.05212620329102268\n",
      "> MAP combo-ucf_p3a_sen:\t 0.04564601415278759\n",
      "> MAP combo-icb_rp3b_sen:\t 0.05391921762674135\n",
      "> MAP combo-icb_icf_rp3b:\t 0.047816948689508434\n",
      "> MAP combo-icf_rp3b_sen:\t 0.042718998483457525\n",
      "> MAP combo-icb_p3a_rp3b:\t 0.04847578612117474\n",
      "> MAP combo-rp3b_sen_sbpr:\t 0.04182514040808605\n",
      "> MAP combo-icb_ucf_rp3b:\t 0.048413800102132545\n",
      "> MAP combo-ucf_rp3b_sen:\t 0.041951302250004596\n",
      "> MAP combo-icb_ucf_sen:\t 0.0550622852731273\n",
      "> MAP combo-ucf_sen_sbpr:\t 0.04575713153858111\n",
      "> MAP combo-icb_sen_sbpr:\t 0.05337397155541659\n",
      "> MAP combo-icb_icf_sbpr:\t 0.04684800529052263\n",
      "> MAP combo-icb_p3a_sbpr:\t 0.05016528509019617\n",
      "> MAP combo-icb_rp3b_sbpr:\t 0.04991869459576085\n",
      "> MAP combo-icb_ucf_sbpr:\t 0.05210145117717872\n",
      "> MAP combo-sslim_icb_icf:\t 0.05556195904997448\n",
      "> MAP combo-sslim_icb_ucf:\t 0.0555534529336071\n",
      "> MAP combo-sslim_icf_ucf:\t 0.05131524704390059\n",
      "> MAP combo-sslim_p3a_icb:\t 0.05435266876723727\n",
      "> MAP combo-sslim_p3a_icf:\t 0.05176518129246877\n",
      "> MAP combo-sslim_p3a_rp3b:\t 0.05179525994802635\n",
      "> MAP combo-sslim_p3a_ucf:\t 0.05109220018360689\n",
      "> MAP combo-sslim_rp3b_icb:\t 0.05339666297908406\n",
      "> MAP combo-sslim_rp3b_icf:\t 0.05184528123367982\n",
      "> MAP combo-sslim_rp3b_ucf:\t 0.05140393726669043\n",
      "> MAP merged-icb_icf_p3a:\t 0.04921729279550618\n",
      "> MAP merged-icb_icf_rp3b:\t 0.04783119493362836\n",
      "> MAP merged-icb_icf_sen:\t 0.05550170580861834\n",
      "> MAP merged-icb_p3a_rp3b:\t 0.047518088280437784\n",
      "> MAP merged-icb_p3a_sen:\t 0.04982125330265498\n",
      "> MAP merged-icb_rp3b_sen:\t 0.05043814146561139\n",
      "> MAP merged-icf_p3a_rp3b:\t 0.04419453349666816\n",
      "> MAP merged-p3a_rp3b_sen:\t 0.045174799680763496\n",
      "Max MAP is 0.05556195904997448 from sslim_icb_icf(COMBO) with difference from previous max of 0.000499673776847176 from icb_ucf_sen(COMBO) \n",
      "\n",
      "RANGE (100, 200)\n",
      "> MAP combo-icf_ucf_p3a:\t 0.03894651518014612\n",
      "> MAP combo-icf_ucf_rp3b:\t 0.03856787761400855\n",
      "> MAP combo-icf_p3a_rp3b:\t 0.03838420414462081\n",
      "> MAP combo-ucf_p3a_rp3b:\t 0.03904690255731921\n",
      "> MAP combo-icb_icf_sen:\t 0.04056415343915344\n",
      "> MAP combo-icf_sen_sbpr:\t 0.035501267636684285\n",
      "> MAP combo-icb_icf_ucf:\t 0.0406054894179894\n",
      "> MAP combo-icf_ucf_sen:\t 0.03698065476190475\n",
      "> MAP combo-icb_p3a_sen:\t 0.037486693751574714\n",
      "> MAP combo-icb_icf_p3a:\t 0.03698222946586042\n",
      "> MAP combo-icf_p3a_sen:\t 0.039423776455026455\n",
      "> MAP combo-p3a_sen_sbpr:\t 0.039423776455026455\n",
      "> MAP combo-icb_ucf_p3a:\t 0.043258298689846306\n",
      "> MAP combo-ucf_p3a_sen:\t 0.039423776455026455\n",
      "> MAP combo-icb_rp3b_sen:\t 0.04125534611992945\n",
      "> MAP combo-icb_icf_rp3b:\t 0.03905175264550264\n",
      "> MAP combo-icf_rp3b_sen:\t 0.03810011967750063\n",
      "> MAP combo-icb_p3a_rp3b:\t 0.04160419816074577\n",
      "> MAP combo-rp3b_sen_sbpr:\t 0.03801331412194507\n",
      "> MAP combo-icb_ucf_rp3b:\t 0.040857859347442675\n",
      "> MAP combo-ucf_rp3b_sen:\t 0.03825636967750063\n",
      "> MAP combo-icb_ucf_sen:\t 0.04260587522045854\n",
      "> MAP combo-ucf_sen_sbpr:\t 0.0354619708994709\n",
      "> MAP combo-icb_sen_sbpr:\t 0.04014566798941798\n",
      "> MAP combo-icb_icf_sbpr:\t 0.03910063932980599\n",
      "> MAP combo-icb_p3a_sbpr:\t 0.038669398778029725\n",
      "> MAP combo-icb_rp3b_sbpr:\t 0.041507251511715804\n",
      "> MAP combo-icb_ucf_sbpr:\t 0.041601387314184925\n",
      "> MAP combo-sslim_icb_icf:\t 0.041239473104056436\n",
      "> MAP combo-sslim_icb_ucf:\t 0.043967206790123455\n",
      "> MAP combo-sslim_icf_ucf:\t 0.039947751322751315\n",
      "> MAP combo-sslim_p3a_icb:\t 0.043383487654320985\n",
      "> MAP combo-sslim_p3a_icf:\t 0.0415798611111111\n",
      "> MAP combo-sslim_p3a_rp3b:\t 0.0415798611111111\n",
      "> MAP combo-sslim_p3a_ucf:\t 0.040043627173091456\n",
      "> MAP combo-sslim_rp3b_icb:\t 0.04462626763668429\n",
      "> MAP combo-sslim_rp3b_icf:\t 0.0414548611111111\n",
      "> MAP combo-sslim_rp3b_ucf:\t 0.03986838624338624\n",
      "> MAP merged-icb_icf_p3a:\t 0.042471064814814816\n",
      "> MAP merged-icb_icf_rp3b:\t 0.03872585978835978\n",
      "> MAP merged-icb_icf_sen:\t 0.04245701058201058\n",
      "> MAP merged-icb_p3a_rp3b:\t 0.03804844576719576\n",
      "> MAP merged-icb_p3a_sen:\t 0.041779045414462083\n",
      "> MAP merged-icb_rp3b_sen:\t 0.03927910052910053\n",
      "> MAP merged-icf_p3a_rp3b:\t 0.04160493827160494\n",
      "> MAP merged-p3a_rp3b_sen:\t 0.04079574514991181\n",
      "Max MAP is 0.04462626763668429 from sslim_rp3b_icb(COMBO) with difference from previous max of 0.0006590608465608383 from sslim_icb_ucf(COMBO) \n",
      "\n",
      "RANGE (200, -1)\n",
      "> MAP combo-icf_ucf_p3a:\t 0.03532372598162072\n",
      "> MAP combo-icf_ucf_rp3b:\t 0.03347013366750209\n",
      "> MAP combo-icf_p3a_rp3b:\t 0.03162176274018379\n",
      "> MAP combo-ucf_p3a_rp3b:\t 0.03703111946532999\n",
      "> MAP combo-icb_icf_sen:\t 0.04807539682539683\n",
      "> MAP combo-icf_sen_sbpr:\t 0.03698517126148705\n",
      "> MAP combo-icb_icf_ucf:\t 0.03215956558061821\n",
      "> MAP combo-icf_ucf_sen:\t 0.030309106098579775\n",
      "> MAP combo-icb_p3a_sen:\t 0.043636173767752716\n",
      "> MAP combo-icb_icf_p3a:\t 0.04614661654135338\n",
      "> MAP combo-icf_p3a_sen:\t 0.03588450292397661\n",
      "> MAP combo-p3a_sen_sbpr:\t 0.03588450292397661\n",
      "> MAP combo-icb_ucf_p3a:\t 0.04029135338345865\n",
      "> MAP combo-ucf_p3a_sen:\t 0.03588450292397661\n",
      "> MAP combo-icb_rp3b_sen:\t 0.040189014202172094\n",
      "> MAP combo-icb_icf_rp3b:\t 0.0343922305764411\n",
      "> MAP combo-icf_rp3b_sen:\t 0.030680868838763576\n",
      "> MAP combo-icb_p3a_rp3b:\t 0.03749269005847953\n",
      "> MAP combo-rp3b_sen_sbpr:\t 0.030665204678362576\n",
      "> MAP combo-icb_ucf_rp3b:\t 0.03700292397660818\n",
      "> MAP combo-ucf_rp3b_sen:\t 0.030815580618212202\n",
      "> MAP combo-icb_ucf_sen:\t 0.034696115288220544\n",
      "> MAP combo-ucf_sen_sbpr:\t 0.028538011695906428\n",
      "> MAP combo-icb_sen_sbpr:\t 0.043390768588137\n",
      "> MAP combo-icb_icf_sbpr:\t 0.028436716791979944\n",
      "> MAP combo-icb_p3a_sbpr:\t 0.04235693400167085\n",
      "> MAP combo-icb_rp3b_sbpr:\t 0.03742794486215538\n",
      "> MAP combo-icb_ucf_sbpr:\t 0.034949874686716786\n",
      "> MAP combo-sslim_icb_icf:\t 0.046691729323308284\n",
      "> MAP combo-sslim_icb_ucf:\t 0.04444757727652465\n",
      "> MAP combo-sslim_icf_ucf:\t 0.042509398496240594\n",
      "> MAP combo-sslim_p3a_icb:\t 0.043118212197159576\n",
      "> MAP combo-sslim_p3a_icf:\t 0.0463189223057644\n",
      "> MAP combo-sslim_p3a_rp3b:\t 0.04695384294068503\n",
      "> MAP combo-sslim_p3a_ucf:\t 0.04211675020885547\n",
      "> MAP combo-sslim_rp3b_icb:\t 0.04458228905597328\n",
      "> MAP combo-sslim_rp3b_icf:\t 0.04695384294068503\n",
      "> MAP combo-sslim_rp3b_ucf:\t 0.042377819548872174\n",
      "> MAP merged-icb_icf_p3a:\t 0.04680973266499583\n",
      "> MAP merged-icb_icf_rp3b:\t 0.036428571428571435\n",
      "> MAP merged-icb_icf_sen:\t 0.04440267335004178\n",
      "> MAP merged-icb_p3a_rp3b:\t 0.03795739348370927\n",
      "> MAP merged-icb_p3a_sen:\t 0.04743316624895573\n",
      "> MAP merged-icb_rp3b_sen:\t 0.040735171261487055\n",
      "> MAP merged-icf_p3a_rp3b:\t 0.03982978279030911\n",
      "> MAP merged-p3a_rp3b_sen:\t 0.038824143692564754\n",
      "Max MAP is 0.04807539682539683 from icb_icf_sen(COMBO) with difference from previous max of 0.011044277360066836 from ucf_p3a_rp3b(COMBO) \n",
      "\n"
     ]
    }
   ],
   "source": [
    "to_be_plotted = []\n",
    "for i in range(0, len (f_ranges)):\n",
    "    print(f\"RANGE {f_ranges[i]}\")\n",
    "    maxp = 0\n",
    "    difference = 0\n",
    "    old_name = ''\n",
    "    max_name=''\n",
    "    max_isCombo=None\n",
    "    old_isCombo=None\n",
    "    max_key=None\n",
    "    old_key=None\n",
    "    \n",
    "    combo_dict = MAP_combo_per_group[i]\n",
    "    for key in combo_dict:\n",
    "        value = combo_dict[key]\n",
    "        print(f\"> MAP combo-{combo_labels[key]}:\\t {value}\")\n",
    "        if value > maxp:\n",
    "            difference=value - maxp\n",
    "            maxp=value\n",
    "            old_name=max_name\n",
    "            old_isCombo=max_isCombo\n",
    "            max_name=combo_labels[key]\n",
    "            max_isCombo=True\n",
    "            old_key=max_key\n",
    "            max_key=key\n",
    "   \n",
    "    merged_dict = MAP_merged_per_group[i]\n",
    "    for key in merged_dict:\n",
    "        value = merged_dict[key]\n",
    "        print(f\"> MAP merged-{merged_labels[key]}:\\t {value}\")\n",
    "        if value > maxp:\n",
    "            difference=value - maxp\n",
    "            maxp=value\n",
    "            old_name=max_name\n",
    "            old_isCombo=max_isCombo\n",
    "            max_name=merged_labels[key]\n",
    "            max_isCombo=False\n",
    "            old_key=max_key\n",
    "            max_key=key\n",
    "            \n",
    "    if not check_if_present(to_be_plotted, (max_key, max_isCombo)):\n",
    "        to_be_plotted.append((max_key, max_isCombo))\n",
    "    \n",
    "    if not old_key is None and not check_if_present(to_be_plotted, (old_key, old_isCombo)):\n",
    "        to_be_plotted.append((old_key, old_isCombo))\n",
    "    \n",
    "    \n",
    "    print(f\"Max MAP is {maxp} from {max_name}({'COMBO' if max_isCombo else 'MERGED'}) with difference from previous max of {difference} from {old_name}({'COMBO' if old_isCombo else 'MERGED'}) \\n\")\n",
    "        "
   ]
  },
  {
   "cell_type": "code",
   "execution_count": 61,
   "metadata": {},
   "outputs": [
    {
     "data": {
      "text/plain": [
       "[('merged2', False),\n",
       " ('combo16', True),\n",
       " ('combo32', True),\n",
       " ('combo29', True),\n",
       " ('combo15', True),\n",
       " ('combo9', True),\n",
       " ('combo30', True),\n",
       " ('merged3', False),\n",
       " ('combo22', True),\n",
       " ('combo36', True),\n",
       " ('combo5', True),\n",
       " ('combo4', True)]"
      ]
     },
     "execution_count": 61,
     "metadata": {},
     "output_type": "execute_result"
    }
   ],
   "source": [
    "to_be_plotted"
   ]
  },
  {
   "cell_type": "code",
   "execution_count": 62,
   "metadata": {
    "scrolled": false
   },
   "outputs": [
    {
     "data": {
      "image/png": "[encoded data removed]",
      "text/plain": [
       "<Figure size 1440x1440 with 1 Axes>"
      ]
     },
     "metadata": {
      "needs_background": "light"
     },
     "output_type": "display_data"
    }
   ],
   "source": [
    "import matplotlib.pyplot as pyplot\n",
    "%matplotlib inline  \n",
    "pyplot.figure(figsize=(20,20))\n",
    "for key, isCombo in to_be_plotted:\n",
    "    l=[]\n",
    "    if isCombo:\n",
    "        for combo_dict in MAP_combo_per_group:\n",
    "            l.append(combo_dict[key])\n",
    "        style = '--o'\n",
    "        label = combo_labels[key]\n",
    "    else:\n",
    "        for merged_dict in MAP_merged_per_group:\n",
    "            l.append(merged_dict[key])\n",
    "        style = '--x'\n",
    "        label = merged_labels[key]\n",
    "    pyplot.plot(l, style, label = label)\n",
    "\n",
    "pyplot.xticks(ticks=range(0,len(f_ranges)), labels=f_ranges)\n",
    "pyplot.ylabel('MAP')\n",
    "pyplot.xlabel('User Group')\n",
    "pyplot.legend()\n",
    "pyplot.show()"
   ]
  },
  {
   "cell_type": "code",
   "execution_count": 63,
   "metadata": {},
   "outputs": [
    {
     "data": {
      "text/plain": [
       "<25975x25975 sparse matrix of type '<class 'numpy.float32'>'\n",
       "\twith 24414421 stored elements in Compressed Sparse Row format>"
      ]
     },
     "execution_count": 63,
     "metadata": {},
     "output_type": "execute_result"
    }
   ],
   "source": [
    "sslim.W_sparse"
   ]
  },
  {
   "cell_type": "code",
   "execution_count": 65,
   "metadata": {},
   "outputs": [
    {
     "data": {
      "text/plain": [
       "<25975x25975 sparse matrix of type '<class 'numpy.float32'>'\n",
       "\twith 5845955 stored elements in Compressed Sparse Row format>"
      ]
     },
     "execution_count": 65,
     "metadata": {},
     "output_type": "execute_result"
    }
   ],
   "source": [
    "sen.W_sparse"
   ]
  },
  {
   "cell_type": "code",
   "execution_count": 67,
   "metadata": {},
   "outputs": [],
   "source": [
    "m=sen.W_sparse.max()"
   ]
  },
  {
   "cell_type": "code",
   "execution_count": 68,
   "metadata": {},
   "outputs": [
    {
     "data": {
      "text/plain": [
       "array([0.02481073, 0.01905169, 0.02689747, ..., 0.09830687, 0.11163714,\n",
       "       0.1001489 ])"
      ]
     },
     "execution_count": 68,
     "metadata": {},
     "output_type": "execute_result"
    }
   ],
   "source": [
    "mat1=sen.W_sparse/m\n",
    "mat1.data"
   ]
  },
  {
   "cell_type": "code",
   "execution_count": 69,
   "metadata": {},
   "outputs": [
    {
     "data": {
      "text/plain": [
       "array([0.02481073, 0.01905169, 0.02689747, ..., 0.09830687, 0.11163715,\n",
       "       0.10014889], dtype=float32)"
      ]
     },
     "execution_count": 69,
     "metadata": {},
     "output_type": "execute_result"
    }
   ],
   "source": [
    "mat2=sen.W_sparse.multiply(1/m)\n",
    "mat2.data"
   ]
  }
 ],
 "metadata": {
  "kernelspec": {
   "display_name": "Python 3",
   "language": "python",
   "name": "python3"
  },
  "language_info": {
   "codemirror_mode": {
    "name": "ipython",
    "version": 3
   },
   "file_extension": ".py",
   "mimetype": "text/x-python",
   "name": "python",
   "nbconvert_exporter": "python",
   "pygments_lexer": "ipython3",
   "version": "3.6.10"
  }
 },
 "nbformat": 4,
 "nbformat_minor": 4
}
