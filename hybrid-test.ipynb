{
 "cells": [
  {
   "cell_type": "code",
   "execution_count": 2,
   "metadata": {},
   "outputs": [],
   "source": [
    "from DataParser import DataParser\n",
    "import numpy as np\n",
    "\n",
    "from Data_manager.split_functions.split_train_validation_random_holdout import \\\n",
    "split_train_in_two_percentage_global_sample\n",
    "\n",
    "import matplotlib.pyplot as plt\n",
    "from matplotlib.pyplot import figure\n",
    "\n",
    "from Hybrid.UserWiseHybrid001 import UserWiseHybrid001"
   ]
  },
  {
   "cell_type": "code",
   "execution_count": 2,
   "metadata": {},
   "outputs": [],
   "source": [
    "from Base.NonPersonalizedRecommender import TopPop, Random\n",
    "from EASE_R.EASE_R_Recommender import EASE_R_Recommender\n",
    "from Hybrid.HybridCombinationSearch import HybridCombinationSearch\n",
    "from Hybrid.LinearHybrid002ggg import LinearHybrid002ggg\n",
    "from Hybrid.LinearHybrid002 import LinearHybrid002\n",
    "from Hybrid.LinearHybrid001 import LinearHybrid001\n",
    "from Hybrid.MergedHybrid000 import MergedHybrid000\n",
    "from Hybrid.PipeHybrid001 import PipeHybrid001\n",
    "from KNN.ItemKNNCBFRecommender import ItemKNNCBFRecommender\n",
    "from KNN.UserKNNCFRecommender import UserKNNCFRecommender\n",
    "from KNN.ItemKNNCFRecommender import ItemKNNCFRecommender\n",
    "from MatrixFactorization.IALSRecommender import IALSRecommender\n",
    "from SLIM_BPR.Cython.SLIM_BPR_Cython import SLIM_BPR_Cython\n",
    "from SLIM_ElasticNet.SLIMElasticNetRecommender import SLIMElasticNetRecommender\n",
    "from GraphBased.P3alphaRecommender import P3alphaRecommender\n",
    "from GraphBased.RP3betaRecommender import RP3betaRecommender\n",
    "from MatrixFactorization.Cython.MatrixFactorization_Cython import MatrixFactorization_BPR_Cython, MatrixFactorization_FunkSVD_Cython\n",
    "from MatrixFactorization.PureSVDRecommender import PureSVDRecommender, PureSVDItemRecommender\n",
    "from MatrixFactorization.NMFRecommender import NMFRecommender\n",
    "\n",
    "import traceback\n",
    "\n",
    "import os, multiprocessing\n",
    "from functools import partial\n",
    "from itertools import combinations\n",
    "\n",
    "from DataParser import DataParser\n",
    "from Data_manager.Movielens.Movielens10MReader import Movielens10MReader\n",
    "from Data_manager.split_functions.split_train_validation_random_holdout import split_train_in_two_percentage_global_sample"
   ]
  },
  {
   "cell_type": "code",
   "execution_count": 3,
   "metadata": {},
   "outputs": [
    {
     "name": "stdout",
     "output_type": "stream",
     "text": [
      "Warning: 48 (0.60 %) of 7947 users have no train items\n",
      "Warning: 2950 (37.12 %) of 7947 users have no sampled items\n"
     ]
    }
   ],
   "source": [
    "seed = 1205\n",
    "parser = DataParser()\n",
    "\n",
    "URM_all = parser.get_URM_all()\n",
    "ICM_all = parser.get_ICM_all()\n",
    "\n",
    "URM_train, URM_test = split_train_in_two_percentage_global_sample(URM_all, train_percentage=0.85, seed=seed)"
   ]
  },
  {
   "cell_type": "code",
   "execution_count": 3,
   "metadata": {},
   "outputs": [
    {
     "name": "stdout",
     "output_type": "stream",
     "text": [
      "UserWiseHybrid001: URM Detected 42 (0.53 %) cold users.\n",
      "UserWiseHybrid001: URM Detected 1971 (7.59 %) cold items.\n",
      "TopPopRecommender: URM Detected 42 (0.53 %) cold users.\n",
      "TopPopRecommender: URM Detected 1971 (7.59 %) cold items.\n",
      "P3alphaRecommender: URM Detected 42 (0.53 %) cold users.\n",
      "P3alphaRecommender: URM Detected 1971 (7.59 %) cold items.\n",
      "RP3betaRecommender: URM Detected 42 (0.53 %) cold users.\n",
      "RP3betaRecommender: URM Detected 1971 (7.59 %) cold items.\n",
      "UserKNNCFRecommender: URM Detected 42 (0.53 %) cold users.\n",
      "UserKNNCFRecommender: URM Detected 1971 (7.59 %) cold items.\n",
      "RP3betaRecommender: URM Detected 42 (0.53 %) cold users.\n",
      "RP3betaRecommender: URM Detected 1971 (7.59 %) cold items.\n",
      "SLIM_BPR_Recommender: URM Detected 42 (0.53 %) cold users.\n",
      "SLIM_BPR_Recommender: URM Detected 1971 (7.59 %) cold items.\n"
     ]
    }
   ],
   "source": [
    "recommender = UserWiseHybrid001(URM_train, ICM_all)"
   ]
  },
  {
   "cell_type": "code",
   "execution_count": 4,
   "metadata": {},
   "outputs": [
    {
     "name": "stdout",
     "output_type": "stream",
     "text": [
      "TopPopRecommender: Loading model from file 'stored_recommenders/UserWiseHybrid001/0-1_TopPopRecommender'\n",
      "TopPopRecommender: Loading complete\n",
      "INFO: TopPopRecommender loaded.\n",
      "P3alphaRecommender: Loading model from file 'stored_recommenders/UserWiseHybrid001/1-25_P3alphaRecommender'\n",
      "P3alphaRecommender: Loading complete\n",
      "INFO: P3alphaRecommender loaded.\n",
      "RP3betaRecommender: Loading model from file 'stored_recommenders/UserWiseHybrid001/25-50_RP3betaRecommender'\n",
      "WARNING: Errors occur in loading RP3betaRecommender. The recommender will be trained.\n",
      "UserKNNCFRecommender: Loading model from file 'stored_recommenders/UserWiseHybrid001/50-100_UserKNNCFRecommender'\n",
      "WARNING: Errors occur in loading UserKNNCFRecommender. The recommender will be trained.\n",
      "RP3betaRecommender: Loading model from file 'stored_recommenders/UserWiseHybrid001/100-200_RP3betaRecommender'\n",
      "RP3betaRecommender: Loading complete\n",
      "INFO: RP3betaRecommender loaded.\n",
      "SLIM_BPR_Recommender: Loading model from file 'stored_recommenders/UserWiseHybrid001/200--1_SLIM_BPR_Recommender'\n",
      "SLIM_BPR_Recommender: Loading complete\n",
      "INFO: SLIM_BPR_Recommender loaded.\n",
      "INFO: 4/6 loaded.\n"
     ]
    }
   ],
   "source": [
    "recommender.load_model('stored_recommenders')"
   ]
  },
  {
   "cell_type": "code",
   "execution_count": 5,
   "metadata": {},
   "outputs": [
    {
     "name": "stdout",
     "output_type": "stream",
     "text": [
      "INFO: Start fitting the recommenders... \n",
      "Fitting RP3betaRecommender [25 - 50]\n",
      "Fitting UserKNNCFRecommender [50 - 100]\n",
      "Similarity column 7947 ( 100 % ), 18938.77 column/sec, elapsed time 0.01 min\n",
      "INFO: 2/6 fitted.\n"
     ]
    }
   ],
   "source": [
    "recommender.fit()"
   ]
  },
  {
   "cell_type": "code",
   "execution_count": 6,
   "metadata": {
    "scrolled": true
   },
   "outputs": [
    {
     "name": "stdout",
     "output_type": "stream",
     "text": [
      "UserWiseHybrid001: Saving the sub-models in directory 'stored_recommendersUserWiseHybrid001'\n",
      "TopPopRecommender: Saving model in file 'stored_recommenders/UserWiseHybrid001/0-1_TopPopRecommender'\n",
      "TopPopRecommender: Saving complete\n",
      "P3alphaRecommender: Saving model in file 'stored_recommenders/UserWiseHybrid001/1-25_P3alphaRecommender'\n",
      "P3alphaRecommender: Saving complete\n",
      "RP3betaRecommender: Saving model in file 'stored_recommenders/UserWiseHybrid001/25-50_RP3betaRecommender'\n",
      "RP3betaRecommender: Saving complete\n",
      "UserKNNCFRecommender: Saving model in file 'stored_recommenders/UserWiseHybrid001/50-100_UserKNNCFRecommender'\n",
      "UserKNNCFRecommender: Saving complete\n",
      "RP3betaRecommender: Saving model in file 'stored_recommenders/UserWiseHybrid001/100-200_RP3betaRecommender'\n",
      "RP3betaRecommender: Saving complete\n",
      "SLIM_BPR_Recommender: Saving model in file 'stored_recommenders/UserWiseHybrid001/200--1_SLIM_BPR_Recommender'\n",
      "SLIM_BPR_Recommender: Saving complete\n"
     ]
    }
   ],
   "source": [
    "recommender.save_model('stored_recommenders')"
   ]
  },
  {
   "cell_type": "code",
   "execution_count": 7,
   "metadata": {},
   "outputs": [],
   "source": [
    "from SimpleEvaluator import evaluator"
   ]
  },
  {
   "cell_type": "code",
   "execution_count": 8,
   "metadata": {
    "scrolled": true
   },
   "outputs": [
    {
     "data": {
      "text/plain": [
       "{'MAP': 0.06163059278682059,\n",
       " 'Precision': 0.03340663734506127,\n",
       " 'Recall': 0.12984026105061286}"
      ]
     },
     "execution_count": 8,
     "metadata": {},
     "output_type": "execute_result"
    }
   ],
   "source": [
    "result = evaluator(recommender,URM_test, cutoff=10)\n",
    "result"
   ]
  },
  {
   "cell_type": "markdown",
   "metadata": {},
   "source": [
    "---"
   ]
  },
  {
   "cell_type": "code",
   "execution_count": 16,
   "metadata": {},
   "outputs": [
    {
     "name": "stdout",
     "output_type": "stream",
     "text": [
      "LinearHybrid001: URM Detected 48 (0.60 %) cold users.\n",
      "LinearHybrid001: URM Detected 2016 (7.76 %) cold items.\n",
      "Fitting SLIMElasticNetRecommender ...\n",
      "done.\n",
      "Fitting ItemKNNCFRecommender ...\n",
      "Similarity column 25975 ( 100 % ), 4628.83 column/sec, elapsed time 0.09 min\n",
      "done.\n",
      "Fitting ItemKNNCBFRecommender ...\n",
      "Similarity column 25975 ( 100 % ), 3385.71 column/sec, elapsed time 0.13 min\n",
      "done.\n"
     ]
    }
   ],
   "source": [
    "from Hybrid.LinearHybrid001 import LinearHybrid001\n",
    "rec = LinearHybrid001(URM_train, ICM_all)\n",
    "params={'alpha': 0.96043629212176, 'l1_ratio': 0.7177631978847901}\n",
    "rec.fit(**params)"
   ]
  },
  {
   "cell_type": "code",
   "execution_count": 17,
   "metadata": {},
   "outputs": [
    {
     "data": {
      "text/plain": [
       "{'MAP': 0.06750847617413978,\n",
       " 'Precision': 0.0350610366219724,\n",
       " 'Recall': 0.14510205467727377}"
      ]
     },
     "execution_count": 17,
     "metadata": {},
     "output_type": "execute_result"
    }
   ],
   "source": [
    "result = evaluator(rec, URM_test, cutoff=10)\n",
    "result"
   ]
  },
  {
   "cell_type": "markdown",
   "metadata": {},
   "source": [
    "---"
   ]
  },
  {
   "cell_type": "code",
   "execution_count": 3,
   "metadata": {},
   "outputs": [
    {
     "name": "stdout",
     "output_type": "stream",
     "text": [
      "Warning: 27 (0.34 %) of 7947 users have no train items\n",
      "Warning: 3841 (48.33 %) of 7947 users have no sampled items\n"
     ]
    }
   ],
   "source": [
    "seed = 1205\n",
    "parser = DataParser()\n",
    "\n",
    "URM_all = parser.get_URM_all()\n",
    "ICM_all = parser.get_ICM_all()\n",
    "\n",
    "URM_train, URM_test = split_train_in_two_percentage_global_sample(URM_all, train_percentage=0.90, seed=seed)"
   ]
  },
  {
   "cell_type": "code",
   "execution_count": 3,
   "metadata": {},
   "outputs": [
    {
     "name": "stdout",
     "output_type": "stream",
     "text": [
      "LinearHybrid002: URM Detected 27 (0.34 %) cold users.\n",
      "LinearHybrid002: URM Detected 1634 (6.29 %) cold items.\n",
      "Similarity column 7947 ( 100 % ), 15369.16 column/sec, elapsed time 0.01 min\n",
      "Similarity column 25975 ( 100 % ), 5624.88 column/sec, elapsed time 0.08 min\n",
      "Similarity column 25975 ( 100 % ), 3765.36 column/sec, elapsed time 0.11 min\n"
     ]
    }
   ],
   "source": [
    "from Hybrid.LinearHybrid002 import LinearHybrid002\n",
    "recommender = LinearHybrid002(URM_train, ICM_all, submission=True)\n",
    "best={'alpha': 0.550021925463694, 'l1_ratio': 0.787554314369364}\n",
    "recommender.fit(**best)"
   ]
  },
  {
   "cell_type": "code",
   "execution_count": 4,
   "metadata": {},
   "outputs": [],
   "source": [
    "from SimpleEvaluator import evaluator"
   ]
  },
  {
   "cell_type": "code",
   "execution_count": 5,
   "metadata": {},
   "outputs": [
    {
     "data": {
      "text/plain": [
       "{'MAP': 0.07395518561287873,\n",
       " 'Precision': 0.03209936678032102,\n",
       " 'Recall': 0.16026427889394051}"
      ]
     },
     "execution_count": 5,
     "metadata": {},
     "output_type": "execute_result"
    }
   ],
   "source": [
    "result = evaluator(recommender, URM_test, cutoff=10)\n",
    "result"
   ]
  },
  {
   "cell_type": "code",
   "execution_count": 8,
   "metadata": {},
   "outputs": [
    {
     "name": "stdout",
     "output_type": "stream",
     "text": [
      "LinearHybrid002ggg: URM Detected 27 (0.34 %) cold users.\n",
      "LinearHybrid002ggg: URM Detected 1634 (6.29 %) cold items.\n",
      "Similarity column 25975 ( 100 % ), 6703.53 column/sec, elapsed time 0.06 min\n",
      "Similarity column 25975 ( 100 % ), 4737.08 column/sec, elapsed time 0.09 min\n"
     ]
    }
   ],
   "source": [
    "from Hybrid.LinearHybrid002ggg import LinearHybrid002ggg\n",
    "recommenderg = LinearHybrid002ggg(URM_train, ICM_all, submission=True)\n",
    "best={'alpha': 0.5937057261191784, 'l1_ratio': 0.5134107532127052}\n",
    "recommenderg.fit(**best)"
   ]
  },
  {
   "cell_type": "code",
   "execution_count": 9,
   "metadata": {},
   "outputs": [
    {
     "data": {
      "text/plain": [
       "{'MAP': 0.07454714632195165,\n",
       " 'Precision': 0.032562104237700416,\n",
       " 'Recall': 0.1625939602799799}"
      ]
     },
     "execution_count": 9,
     "metadata": {},
     "output_type": "execute_result"
    }
   ],
   "source": [
    "result = evaluator(recommenderg, URM_test, cutoff=10)\n",
    "result"
   ]
  },
  {
   "cell_type": "code",
   "execution_count": 6,
   "metadata": {},
   "outputs": [
    {
     "name": "stdout",
     "output_type": "stream",
     "text": [
      "LinearHybrid003ggg: URM Detected 27 (0.34 %) cold users.\n",
      "LinearHybrid003ggg: URM Detected 1634 (6.29 %) cold items.\n",
      "Similarity column 25975 ( 100 % ), 6142.17 column/sec, elapsed time 0.07 min\n",
      "Similarity column 25975 ( 100 % ), 4080.34 column/sec, elapsed time 0.11 min\n"
     ]
    }
   ],
   "source": [
    "from Hybrid.LinearHybrid003ggg import LinearHybrid003ggg\n",
    "recommenderg = LinearHybrid003ggg(URM_train, ICM_all, submission=True)\n",
    "best={'alpha': 0.3860260032821631, 'l1_ratio': 0.9135874767446409}\n",
    "recommenderg.fit(**best)"
   ]
  },
  {
   "cell_type": "code",
   "execution_count": 7,
   "metadata": {},
   "outputs": [
    {
     "data": {
      "text/plain": [
       "{'MAP': 0.07404839746374624,\n",
       " 'Precision': 0.03302484169507981,\n",
       " 'Recall': 0.16416171509215122}"
      ]
     },
     "execution_count": 7,
     "metadata": {},
     "output_type": "execute_result"
    }
   ],
   "source": [
    "result = evaluator(recommenderg, URM_test, cutoff=10)\n",
    "result"
   ]
  },
  {
   "cell_type": "code",
   "execution_count": 5,
   "metadata": {},
   "outputs": [
    {
     "name": "stdout",
     "output_type": "stream",
     "text": [
      "Rp3beta training...\n",
      "Done\n",
      "P3alpha training...\n",
      "Done\n",
      "ItemKnnCF training...\n",
      "Similarity column 25975 ( 100 % ), 3726.05 column/sec, elapsed time 0.12 min\n",
      "Done\n",
      "UserKnnCF training...\n",
      "Similarity column 7947 ( 100 % ), 10074.51 column/sec, elapsed time 0.01 min\n",
      "Done\n",
      "ItemKnnCBF training...\n",
      "Similarity column 25975 ( 100 % ), 2589.72 column/sec, elapsed time 0.17 min\n",
      "Done\n",
      "SlimBPR training...\n",
      "Unable to read memory status: list index out of range\n",
      "SLIM_BPR_Recommender: Epoch 1 of 130. Elapsed time 0.05 sec\n",
      "SLIM_BPR_Recommender: Epoch 2 of 130. Elapsed time 0.11 sec\n",
      "SLIM_BPR_Recommender: Epoch 3 of 130. Elapsed time 0.16 sec\n",
      "SLIM_BPR_Recommender: Epoch 4 of 130. Elapsed time 0.20 sec\n",
      "SLIM_BPR_Recommender: Epoch 5 of 130. Elapsed time 0.24 sec\n",
      "SLIM_BPR_Recommender: Epoch 6 of 130. Elapsed time 0.28 sec\n",
      "SLIM_BPR_Recommender: Epoch 7 of 130. Elapsed time 0.31 sec\n",
      "SLIM_BPR_Recommender: Epoch 8 of 130. Elapsed time 0.34 sec\n",
      "SLIM_BPR_Recommender: Epoch 9 of 130. Elapsed time 0.37 sec\n",
      "SLIM_BPR_Recommender: Epoch 10 of 130. Elapsed time 0.40 sec\n",
      "SLIM_BPR_Recommender: Epoch 11 of 130. Elapsed time 0.43 sec\n",
      "SLIM_BPR_Recommender: Epoch 12 of 130. Elapsed time 0.46 sec\n",
      "SLIM_BPR_Recommender: Epoch 13 of 130. Elapsed time 0.48 sec\n",
      "SLIM_BPR_Recommender: Epoch 14 of 130. Elapsed time 0.51 sec\n",
      "SLIM_BPR_Recommender: Epoch 15 of 130. Elapsed time 0.53 sec\n",
      "SLIM_BPR_Recommender: Epoch 16 of 130. Elapsed time 0.55 sec\n",
      "SLIM_BPR_Recommender: Epoch 17 of 130. Elapsed time 0.58 sec\n",
      "SLIM_BPR_Recommender: Epoch 18 of 130. Elapsed time 0.60 sec\n",
      "SLIM_BPR_Recommender: Epoch 19 of 130. Elapsed time 0.62 sec\n",
      "SLIM_BPR_Recommender: Epoch 20 of 130. Elapsed time 0.64 sec\n",
      "SLIM_BPR_Recommender: Epoch 21 of 130. Elapsed time 0.66 sec\n",
      "SLIM_BPR_Recommender: Epoch 22 of 130. Elapsed time 0.69 sec\n",
      "SLIM_BPR_Recommender: Epoch 23 of 130. Elapsed time 0.71 sec\n",
      "SLIM_BPR_Recommender: Epoch 24 of 130. Elapsed time 0.72 sec\n",
      "SLIM_BPR_Recommender: Epoch 25 of 130. Elapsed time 0.74 sec\n",
      "SLIM_BPR_Recommender: Epoch 26 of 130. Elapsed time 0.76 sec\n",
      "SLIM_BPR_Recommender: Epoch 27 of 130. Elapsed time 0.78 sec\n",
      "SLIM_BPR_Recommender: Epoch 28 of 130. Elapsed time 0.80 sec\n",
      "SLIM_BPR_Recommender: Epoch 29 of 130. Elapsed time 0.81 sec\n",
      "SLIM_BPR_Recommender: Epoch 30 of 130. Elapsed time 0.83 sec\n",
      "SLIM_BPR_Recommender: Epoch 31 of 130. Elapsed time 0.85 sec\n",
      "SLIM_BPR_Recommender: Epoch 32 of 130. Elapsed time 0.87 sec\n",
      "SLIM_BPR_Recommender: Epoch 33 of 130. Elapsed time 0.88 sec\n",
      "SLIM_BPR_Recommender: Epoch 34 of 130. Elapsed time 0.90 sec\n",
      "SLIM_BPR_Recommender: Epoch 35 of 130. Elapsed time 0.90 sec\n",
      "SLIM_BPR_Recommender: Epoch 36 of 130. Elapsed time 0.93 sec\n",
      "SLIM_BPR_Recommender: Epoch 37 of 130. Elapsed time 0.95 sec\n",
      "SLIM_BPR_Recommender: Epoch 38 of 130. Elapsed time 0.96 sec\n",
      "SLIM_BPR_Recommender: Epoch 39 of 130. Elapsed time 0.98 sec\n",
      "SLIM_BPR_Recommender: Epoch 40 of 130. Elapsed time 0.99 sec\n",
      "SLIM_BPR_Recommender: Epoch 41 of 130. Elapsed time 1.01 sec\n",
      "SLIM_BPR_Recommender: Epoch 42 of 130. Elapsed time 1.03 sec\n",
      "SLIM_BPR_Recommender: Epoch 43 of 130. Elapsed time 1.04 sec\n",
      "SLIM_BPR_Recommender: Epoch 44 of 130. Elapsed time 1.06 sec\n",
      "SLIM_BPR_Recommender: Epoch 45 of 130. Elapsed time 1.07 sec\n",
      "SLIM_BPR_Recommender: Epoch 46 of 130. Elapsed time 1.09 sec\n",
      "SLIM_BPR_Recommender: Epoch 47 of 130. Elapsed time 1.10 sec\n",
      "SLIM_BPR_Recommender: Epoch 48 of 130. Elapsed time 1.12 sec\n",
      "SLIM_BPR_Recommender: Epoch 49 of 130. Elapsed time 1.13 sec\n",
      "SLIM_BPR_Recommender: Epoch 50 of 130. Elapsed time 1.15 sec\n",
      "SLIM_BPR_Recommender: Epoch 51 of 130. Elapsed time 1.16 sec\n",
      "SLIM_BPR_Recommender: Epoch 52 of 130. Elapsed time 1.18 sec\n",
      "SLIM_BPR_Recommender: Epoch 53 of 130. Elapsed time 1.19 sec\n",
      "SLIM_BPR_Recommender: Epoch 54 of 130. Elapsed time 1.21 sec\n",
      "SLIM_BPR_Recommender: Epoch 55 of 130. Elapsed time 1.22 sec\n",
      "SLIM_BPR_Recommender: Epoch 56 of 130. Elapsed time 1.24 sec\n",
      "SLIM_BPR_Recommender: Epoch 57 of 130. Elapsed time 1.25 sec\n",
      "SLIM_BPR_Recommender: Epoch 58 of 130. Elapsed time 1.27 sec\n",
      "SLIM_BPR_Recommender: Epoch 59 of 130. Elapsed time 1.28 sec\n",
      "SLIM_BPR_Recommender: Epoch 60 of 130. Elapsed time 1.29 sec\n",
      "SLIM_BPR_Recommender: Epoch 61 of 130. Elapsed time 1.31 sec\n",
      "SLIM_BPR_Recommender: Epoch 62 of 130. Elapsed time 1.32 sec\n",
      "SLIM_BPR_Recommender: Epoch 63 of 130. Elapsed time 1.34 sec\n",
      "SLIM_BPR_Recommender: Epoch 64 of 130. Elapsed time 1.36 sec\n",
      "SLIM_BPR_Recommender: Epoch 65 of 130. Elapsed time 1.37 sec\n",
      "SLIM_BPR_Recommender: Epoch 66 of 130. Elapsed time 1.38 sec\n",
      "SLIM_BPR_Recommender: Epoch 67 of 130. Elapsed time 1.40 sec\n",
      "SLIM_BPR_Recommender: Epoch 68 of 130. Elapsed time 1.41 sec\n",
      "SLIM_BPR_Recommender: Epoch 69 of 130. Elapsed time 1.43 sec\n",
      "SLIM_BPR_Recommender: Epoch 70 of 130. Elapsed time 1.44 sec\n",
      "SLIM_BPR_Recommender: Epoch 71 of 130. Elapsed time 1.46 sec\n",
      "SLIM_BPR_Recommender: Epoch 72 of 130. Elapsed time 1.47 sec\n",
      "SLIM_BPR_Recommender: Epoch 73 of 130. Elapsed time 1.48 sec\n",
      "SLIM_BPR_Recommender: Epoch 74 of 130. Elapsed time 1.49 sec\n",
      "SLIM_BPR_Recommender: Epoch 75 of 130. Elapsed time 1.51 sec\n",
      "SLIM_BPR_Recommender: Epoch 76 of 130. Elapsed time 1.52 sec\n",
      "SLIM_BPR_Recommender: Epoch 77 of 130. Elapsed time 1.53 sec\n",
      "SLIM_BPR_Recommender: Epoch 78 of 130. Elapsed time 1.54 sec\n",
      "SLIM_BPR_Recommender: Epoch 79 of 130. Elapsed time 1.56 sec\n",
      "SLIM_BPR_Recommender: Epoch 80 of 130. Elapsed time 1.57 sec\n",
      "SLIM_BPR_Recommender: Epoch 81 of 130. Elapsed time 1.59 sec\n",
      "SLIM_BPR_Recommender: Epoch 82 of 130. Elapsed time 1.60 sec\n",
      "SLIM_BPR_Recommender: Epoch 83 of 130. Elapsed time 1.61 sec\n",
      "SLIM_BPR_Recommender: Epoch 84 of 130. Elapsed time 1.62 sec\n",
      "SLIM_BPR_Recommender: Epoch 85 of 130. Elapsed time 1.64 sec\n",
      "SLIM_BPR_Recommender: Epoch 86 of 130. Elapsed time 1.65 sec\n",
      "SLIM_BPR_Recommender: Epoch 87 of 130. Elapsed time 1.67 sec\n",
      "SLIM_BPR_Recommender: Epoch 88 of 130. Elapsed time 1.68 sec\n",
      "SLIM_BPR_Recommender: Epoch 89 of 130. Elapsed time 1.69 sec\n",
      "SLIM_BPR_Recommender: Epoch 90 of 130. Elapsed time 1.71 sec\n",
      "SLIM_BPR_Recommender: Epoch 91 of 130. Elapsed time 1.71 sec\n",
      "SLIM_BPR_Recommender: Epoch 92 of 130. Elapsed time 1.73 sec\n",
      "SLIM_BPR_Recommender: Epoch 93 of 130. Elapsed time 1.74 sec\n",
      "SLIM_BPR_Recommender: Epoch 94 of 130. Elapsed time 1.76 sec\n",
      "SLIM_BPR_Recommender: Epoch 95 of 130. Elapsed time 1.77 sec\n",
      "SLIM_BPR_Recommender: Epoch 96 of 130. Elapsed time 1.79 sec\n",
      "SLIM_BPR_Recommender: Epoch 97 of 130. Elapsed time 1.81 sec\n",
      "SLIM_BPR_Recommender: Epoch 98 of 130. Elapsed time 1.83 sec\n",
      "SLIM_BPR_Recommender: Epoch 99 of 130. Elapsed time 1.84 sec\n",
      "SLIM_BPR_Recommender: Epoch 100 of 130. Elapsed time 1.85 sec\n",
      "SLIM_BPR_Recommender: Epoch 101 of 130. Elapsed time 1.87 sec\n",
      "SLIM_BPR_Recommender: Epoch 102 of 130. Elapsed time 1.88 sec\n",
      "SLIM_BPR_Recommender: Epoch 103 of 130. Elapsed time 1.89 sec\n",
      "SLIM_BPR_Recommender: Epoch 104 of 130. Elapsed time 1.91 sec\n",
      "SLIM_BPR_Recommender: Epoch 105 of 130. Elapsed time 1.92 sec\n",
      "SLIM_BPR_Recommender: Epoch 106 of 130. Elapsed time 1.93 sec\n",
      "SLIM_BPR_Recommender: Epoch 107 of 130. Elapsed time 1.95 sec\n",
      "SLIM_BPR_Recommender: Epoch 108 of 130. Elapsed time 1.96 sec\n",
      "SLIM_BPR_Recommender: Epoch 109 of 130. Elapsed time 1.97 sec\n",
      "SLIM_BPR_Recommender: Epoch 110 of 130. Elapsed time 1.99 sec\n",
      "SLIM_BPR_Recommender: Epoch 111 of 130. Elapsed time 2.00 sec\n",
      "SLIM_BPR_Recommender: Epoch 112 of 130. Elapsed time 2.02 sec\n",
      "SLIM_BPR_Recommender: Epoch 113 of 130. Elapsed time 2.03 sec\n",
      "SLIM_BPR_Recommender: Epoch 114 of 130. Elapsed time 2.04 sec\n",
      "SLIM_BPR_Recommender: Epoch 115 of 130. Elapsed time 2.05 sec\n",
      "SLIM_BPR_Recommender: Epoch 116 of 130. Elapsed time 2.07 sec\n",
      "SLIM_BPR_Recommender: Epoch 117 of 130. Elapsed time 2.08 sec\n",
      "SLIM_BPR_Recommender: Epoch 118 of 130. Elapsed time 2.09 sec\n",
      "SLIM_BPR_Recommender: Epoch 119 of 130. Elapsed time 2.11 sec\n",
      "SLIM_BPR_Recommender: Epoch 120 of 130. Elapsed time 2.12 sec\n",
      "SLIM_BPR_Recommender: Epoch 121 of 130. Elapsed time 2.13 sec\n",
      "SLIM_BPR_Recommender: Epoch 122 of 130. Elapsed time 2.15 sec\n",
      "SLIM_BPR_Recommender: Epoch 123 of 130. Elapsed time 2.16 sec\n",
      "SLIM_BPR_Recommender: Epoch 124 of 130. Elapsed time 2.18 sec\n",
      "SLIM_BPR_Recommender: Epoch 125 of 130. Elapsed time 2.19 sec\n",
      "SLIM_BPR_Recommender: Epoch 126 of 130. Elapsed time 2.20 sec\n",
      "SLIM_BPR_Recommender: Epoch 127 of 130. Elapsed time 2.22 sec\n",
      "SLIM_BPR_Recommender: Epoch 128 of 130. Elapsed time 2.23 sec\n",
      "SLIM_BPR_Recommender: Epoch 129 of 130. Elapsed time 2.24 sec\n",
      "SLIM_BPR_Recommender: Epoch 130 of 130. Elapsed time 2.26 sec\n",
      "SLIM_BPR_Recommender: Terminating at epoch 130. Elapsed time 43.05 sec\n",
      "Deallocating Cython objects\n",
      "Done\n"
     ]
    },
    {
     "data": {
      "text/plain": [
       "'print(\"SlimElasticNet training...\")\\nsen = SLIMElasticNetRecommender(URM_train, verbose=False)\\nsen_params = {\\'topK\\': 992, \\'l1_ratio\\': 0.004065081925341167, \\'alpha\\': 0.003725005053334143}\\nsen.fit(**sen_params)\\nprint(\"Done\")'"
      ]
     },
     "execution_count": 5,
     "metadata": {},
     "output_type": "execute_result"
    }
   ],
   "source": [
    "from Hybrid.HybridCombinationSearch import HybridCombinationSearch\n",
    "from test_submission import create_csv\n",
    "\n",
    "print(\"Rp3beta training...\")\n",
    "rp3b = RP3betaRecommender(URM_train, verbose=False)\n",
    "rp3b_params = {'topK': 1000, 'alpha': 0.38192761611274967, 'beta': 0.0, 'normalize_similarity': False}\n",
    "rp3b.fit(**rp3b_params)\n",
    "print(\"Done\")\n",
    "print(\"P3alpha training...\")\n",
    "p3a = P3alphaRecommender(URM_train, verbose=False)\n",
    "p3a_params = {'topK': 131, 'alpha': 0.33660811631883863, 'normalize_similarity': False}\n",
    "p3a.fit(**p3a_params)\n",
    "print(\"Done\")\n",
    "print(\"ItemKnnCF training...\")\n",
    "icf = ItemKNNCFRecommender(URM_train, verbose=False)\n",
    "icf_params = {'topK': 100, 'shrink': 1000, 'similarity': 'asymmetric', 'normalize': True, 'asymmetric_alpha': 0.0}\n",
    "icf.fit(**icf_params)\n",
    "print(\"Done\")\n",
    "print(\"UserKnnCF training...\")\n",
    "ucf = UserKNNCFRecommender(URM_train, verbose=False)\n",
    "ucf_params = {'topK': 190, 'shrink': 0, 'similarity': 'cosine', 'normalize': True}\n",
    "ucf.fit(**ucf_params)\n",
    "print(\"Done\")\n",
    "print(\"ItemKnnCBF training...\")\n",
    "icb = ItemKNNCBFRecommender(URM_train, ICM_all, verbose=False)\n",
    "icb_params = {'topK': 205, 'shrink': 1000, 'similarity': 'cosine', 'normalize': True, 'feature_weighting': 'BM25'}\n",
    "icb.fit(**icb_params)\n",
    "print(\"Done\")\n",
    "print(\"SlimBPR training...\")\n",
    "sbpr = SLIM_BPR_Cython(URM_train, verbose=False)\n",
    "sbpr_params = {'topK': 979, 'epochs': 130, 'symmetric': False, 'sgd_mode': 'adam', 'lambda_i': 0.004947329669424629, 'lambda_j': 1.1534760845071758e-05, 'learning_rate': 0.0001}\n",
    "sbpr.fit(**sbpr_params)\n",
    "print(\"Done\")\n",
    "'''print(\"SlimElasticNet training...\")\n",
    "sen = SLIMElasticNetRecommender(URM_train, verbose=False)\n",
    "sen_params = {'topK': 992, 'l1_ratio': 0.004065081925341167, 'alpha': 0.003725005053334143}\n",
    "sen.fit(**sen_params)\n",
    "print(\"Done\")'''"
   ]
  },
  {
   "cell_type": "code",
   "execution_count": 9,
   "metadata": {},
   "outputs": [
    {
     "name": "stdout",
     "output_type": "stream",
     "text": [
      "HybridCombinationSearch: URM Detected 48 (0.60 %) cold users.\n",
      "HybridCombinationSearch: URM Detected 2016 (7.76 %) cold items.\n"
     ]
    },
    {
     "data": {
      "text/plain": [
       "{'MAP': 0.07693970495423981,\n",
       " 'Precision': 0.03930358214928864,\n",
       " 'Recall': 0.16273283780432932}"
      ]
     },
     "execution_count": 9,
     "metadata": {},
     "output_type": "execute_result"
    }
   ],
   "source": [
    "list_recommender = [p3a, icf, icb]\n",
    "rec = HybridCombinationSearch(URM_train, ICM_all, list_recommender)\n",
    "rec.fit(alpha=0.4066665999396494, l1_ratio=0.7594645794234393) #MAP val = 0.0677491\n",
    "result = evaluator(rec, URM_test, cutoff=10)\n",
    "result"
   ]
  },
  {
   "cell_type": "code",
   "execution_count": 10,
   "metadata": {},
   "outputs": [
    {
     "name": "stdout",
     "output_type": "stream",
     "text": [
      "HybridCombinationSearch: URM Detected 48 (0.60 %) cold users.\n",
      "HybridCombinationSearch: URM Detected 2016 (7.76 %) cold items.\n"
     ]
    },
    {
     "data": {
      "text/plain": [
       "{'MAP': 0.0769789910290341,\n",
       " 'Precision': 0.03902341404842814,\n",
       " 'Recall': 0.1614891218912885}"
      ]
     },
     "execution_count": 10,
     "metadata": {},
     "output_type": "execute_result"
    }
   ],
   "source": [
    "list_recommender = [p3a, ucf, icb]\n",
    "rec = HybridCombinationSearch(URM_train, ICM_all, list_recommender)\n",
    "rec.fit(alpha=0.37776131907747645, l1_ratio=0.44018901104481) #MAP val = 0.0681188\n",
    "result = evaluator(rec, URM_test, cutoff=10)\n",
    "result"
   ]
  },
  {
   "cell_type": "code",
   "execution_count": 8,
   "metadata": {},
   "outputs": [
    {
     "name": "stdout",
     "output_type": "stream",
     "text": [
      "HybridCombinationSearch: URM Detected 48 (0.60 %) cold users.\n",
      "HybridCombinationSearch: URM Detected 2016 (7.76 %) cold items.\n"
     ]
    },
    {
     "data": {
      "text/plain": [
       "{'MAP': 0.07714023778338555,\n",
       " 'Precision': 0.03940364218531025,\n",
       " 'Recall': 0.1630819026436321}"
      ]
     },
     "execution_count": 8,
     "metadata": {},
     "output_type": "execute_result"
    }
   ],
   "source": [
    "list_recommender = [rp3b, p3a, icb]\n",
    "rec = HybridCombinationSearch(URM_train, ICM_all, list_recommender)\n",
    "rec.fit(alpha=0.3553383791480798, l1_ratio=0.000435281815357902) #MAP val = 0.0677085\n",
    "result = evaluator(rec, URM_test, cutoff=10)\n",
    "result"
   ]
  },
  {
   "cell_type": "code",
   "execution_count": 14,
   "metadata": {},
   "outputs": [
    {
     "name": "stdout",
     "output_type": "stream",
     "text": [
      "HybridCombinationSearch: URM Detected 48 (0.60 %) cold users.\n",
      "HybridCombinationSearch: URM Detected 2016 (7.76 %) cold items.\n"
     ]
    },
    {
     "data": {
      "text/plain": [
       "{'MAP': 0.07642533160990067,\n",
       " 'Precision': 0.03904342605563251,\n",
       " 'Recall': 0.16060490551700546}"
      ]
     },
     "execution_count": 14,
     "metadata": {},
     "output_type": "execute_result"
    }
   ],
   "source": [
    "list_recommender = [rp3b, ucf, icb]\n",
    "rec = HybridCombinationSearch(URM_train, ICM_all, list_recommender)\n",
    "rec.fit(alpha=0.4648716125499346, l1_ratio=0.292302921903516) #MAP val = 0.0680765\n",
    "result = evaluator(rec, URM_test, cutoff=10)\n",
    "result"
   ]
  },
  {
   "cell_type": "code",
   "execution_count": 6,
   "metadata": {},
   "outputs": [
    {
     "name": "stdout",
     "output_type": "stream",
     "text": [
      "HybridCombinationSearch: URM Detected 48 (0.60 %) cold users.\n",
      "HybridCombinationSearch: URM Detected 2016 (7.76 %) cold items.\n"
     ]
    },
    {
     "data": {
      "text/plain": [
       "{'MAP': 0.0773660474944578,\n",
       " 'Precision': 0.039563738242944825,\n",
       " 'Recall': 0.16382477378327617}"
      ]
     },
     "execution_count": 6,
     "metadata": {},
     "output_type": "execute_result"
    }
   ],
   "source": [
    "list_recommender = [p3a, icb, sbpr]\n",
    "rec = HybridCombinationSearch(URM_train, ICM_all, list_recommender)\n",
    "rec.fit(alpha=0.5521014101582482, l1_ratio=0.33884991586467056) #MAP val = 0.0681493\n",
    "result = evaluator(rec, URM_test, cutoff=10)\n",
    "result"
   ]
  },
  {
   "cell_type": "code",
   "execution_count": 7,
   "metadata": {},
   "outputs": [
    {
     "name": "stdout",
     "output_type": "stream",
     "text": [
      "HybridCombinationSearch: URM Detected 48 (0.60 %) cold users.\n",
      "HybridCombinationSearch: URM Detected 2016 (7.76 %) cold items.\n"
     ]
    },
    {
     "data": {
      "text/plain": [
       "{'MAP': 0.07588654156212551,\n",
       " 'Precision': 0.03882329397638496,\n",
       " 'Recall': 0.1608535453009278}"
      ]
     },
     "execution_count": 7,
     "metadata": {},
     "output_type": "execute_result"
    }
   ],
   "source": [
    "list_recommender = [rp3b, icb, sbpr]\n",
    "rec = HybridCombinationSearch(URM_train, ICM_all, list_recommender)\n",
    "rec.fit(alpha=0.3592184105265153, l1_ratio=0.2874563071761684) #MAP val = 0.0676888\n",
    "result = evaluator(rec, URM_test, cutoff=10)\n",
    "result"
   ]
  },
  {
   "cell_type": "code",
   "execution_count": 8,
   "metadata": {},
   "outputs": [
    {
     "name": "stdout",
     "output_type": "stream",
     "text": [
      "HybridCombinationSearch: URM Detected 48 (0.60 %) cold users.\n",
      "HybridCombinationSearch: URM Detected 2016 (7.76 %) cold items.\n"
     ]
    },
    {
     "data": {
      "text/plain": [
       "{'MAP': 0.07609351797775558,\n",
       " 'Precision': 0.038663197918750385,\n",
       " 'Recall': 0.15815438193030076}"
      ]
     },
     "execution_count": 8,
     "metadata": {},
     "output_type": "execute_result"
    }
   ],
   "source": [
    "list_recommender = [ucf, icb, sbpr]\n",
    "rec = HybridCombinationSearch(URM_train, ICM_all, list_recommender)\n",
    "rec.fit(alpha=0.36976685355295563, l1_ratio=0.46692198040584476) #MAP val = 0.0666102\n",
    "result = evaluator(rec, URM_test, cutoff=10)\n",
    "result"
   ]
  },
  {
   "cell_type": "markdown",
   "metadata": {},
   "source": [
    "---"
   ]
  },
  {
   "cell_type": "code",
   "execution_count": null,
   "metadata": {},
   "outputs": [
    {
     "name": "stdout",
     "output_type": "stream",
     "text": [
      "UserWiseHybrid002: URM Detected 27 (0.34 %) cold users.\n",
      "UserWiseHybrid002: URM Detected 1634 (6.29 %) cold items.\n",
      "LinearHybridC001: URM Detected 27 (0.34 %) cold users.\n",
      "LinearHybridC001: URM Detected 1634 (6.29 %) cold items.\n",
      "LinearHybridW001: URM Detected 27 (0.34 %) cold users.\n",
      "LinearHybridW001: URM Detected 1634 (6.29 %) cold items.\n"
     ]
    }
   ],
   "source": [
    "from Hybrid.UserWiseHybrid002 import UserWiseHybrid002\n",
    "rec_uw = UserWiseHybrid002(URM_train, ICM_all, verbose=True, submission=True)\n",
    "rec_uw.fit()"
   ]
  },
  {
   "cell_type": "code",
   "execution_count": null,
   "metadata": {},
   "outputs": [],
   "source": [
    "from SimpleEvaluator import evaluator\n",
    "evaluator(rec_uw, URM_test, cutoff=10)"
   ]
  }
 ],
 "metadata": {
  "kernelspec": {
   "display_name": "Python 3",
   "language": "python",
   "name": "python3"
  },
  "language_info": {
   "codemirror_mode": {
    "name": "ipython",
    "version": 3
   },
   "file_extension": ".py",
   "mimetype": "text/x-python",
   "name": "python",
   "nbconvert_exporter": "python",
   "pygments_lexer": "ipython3",
   "version": "3.6.10"
  }
 },
 "nbformat": 4,
 "nbformat_minor": 4
}
