{
 "cells": [
  {
   "cell_type": "code",
   "execution_count": 1,
   "metadata": {},
   "outputs": [],
   "source": [
    "from DataParser import DataParser\n",
    "import numpy as np\n",
    "\n",
    "from Data_manager.split_functions.split_train_validation_random_holdout import \\\n",
    "split_train_in_two_percentage_global_sample\n",
    "\n",
    "import matplotlib.pyplot as plt\n",
    "from matplotlib.pyplot import figure\n",
    "\n",
    "from Hybrid.UserWiseHybrid001 import UserWiseHybrid001"
   ]
  },
  {
   "cell_type": "code",
   "execution_count": 15,
   "metadata": {},
   "outputs": [
    {
     "name": "stdout",
     "output_type": "stream",
     "text": [
      "Warning: 48 (0.60 %) of 7947 users have no train items\n",
      "Warning: 2950 (37.12 %) of 7947 users have no sampled items\n"
     ]
    }
   ],
   "source": [
    "seed = 1205\n",
    "parser = DataParser()\n",
    "\n",
    "URM_all = parser.get_URM_all()\n",
    "ICM_all = parser.get_ICM_all()\n",
    "\n",
    "URM_train, URM_test = split_train_in_two_percentage_global_sample(URM_all, train_percentage=0.85, seed=seed)"
   ]
  },
  {
   "cell_type": "code",
   "execution_count": 3,
   "metadata": {},
   "outputs": [
    {
     "name": "stdout",
     "output_type": "stream",
     "text": [
      "UserWiseHybrid001: URM Detected 42 (0.53 %) cold users.\n",
      "UserWiseHybrid001: URM Detected 1971 (7.59 %) cold items.\n",
      "TopPopRecommender: URM Detected 42 (0.53 %) cold users.\n",
      "TopPopRecommender: URM Detected 1971 (7.59 %) cold items.\n",
      "P3alphaRecommender: URM Detected 42 (0.53 %) cold users.\n",
      "P3alphaRecommender: URM Detected 1971 (7.59 %) cold items.\n",
      "RP3betaRecommender: URM Detected 42 (0.53 %) cold users.\n",
      "RP3betaRecommender: URM Detected 1971 (7.59 %) cold items.\n",
      "UserKNNCFRecommender: URM Detected 42 (0.53 %) cold users.\n",
      "UserKNNCFRecommender: URM Detected 1971 (7.59 %) cold items.\n",
      "RP3betaRecommender: URM Detected 42 (0.53 %) cold users.\n",
      "RP3betaRecommender: URM Detected 1971 (7.59 %) cold items.\n",
      "SLIM_BPR_Recommender: URM Detected 42 (0.53 %) cold users.\n",
      "SLIM_BPR_Recommender: URM Detected 1971 (7.59 %) cold items.\n"
     ]
    }
   ],
   "source": [
    "recommender = UserWiseHybrid001(URM_train, ICM_all)"
   ]
  },
  {
   "cell_type": "code",
   "execution_count": 4,
   "metadata": {},
   "outputs": [
    {
     "name": "stdout",
     "output_type": "stream",
     "text": [
      "TopPopRecommender: Loading model from file 'stored_recommenders/UserWiseHybrid001/0-1_TopPopRecommender'\n",
      "TopPopRecommender: Loading complete\n",
      "INFO: TopPopRecommender loaded.\n",
      "P3alphaRecommender: Loading model from file 'stored_recommenders/UserWiseHybrid001/1-25_P3alphaRecommender'\n",
      "P3alphaRecommender: Loading complete\n",
      "INFO: P3alphaRecommender loaded.\n",
      "RP3betaRecommender: Loading model from file 'stored_recommenders/UserWiseHybrid001/25-50_RP3betaRecommender'\n",
      "WARNING: Errors occur in loading RP3betaRecommender. The recommender will be trained.\n",
      "UserKNNCFRecommender: Loading model from file 'stored_recommenders/UserWiseHybrid001/50-100_UserKNNCFRecommender'\n",
      "WARNING: Errors occur in loading UserKNNCFRecommender. The recommender will be trained.\n",
      "RP3betaRecommender: Loading model from file 'stored_recommenders/UserWiseHybrid001/100-200_RP3betaRecommender'\n",
      "RP3betaRecommender: Loading complete\n",
      "INFO: RP3betaRecommender loaded.\n",
      "SLIM_BPR_Recommender: Loading model from file 'stored_recommenders/UserWiseHybrid001/200--1_SLIM_BPR_Recommender'\n",
      "SLIM_BPR_Recommender: Loading complete\n",
      "INFO: SLIM_BPR_Recommender loaded.\n",
      "INFO: 4/6 loaded.\n"
     ]
    }
   ],
   "source": [
    "recommender.load_model('stored_recommenders')"
   ]
  },
  {
   "cell_type": "code",
   "execution_count": 5,
   "metadata": {},
   "outputs": [
    {
     "name": "stdout",
     "output_type": "stream",
     "text": [
      "INFO: Start fitting the recommenders... \n",
      "Fitting RP3betaRecommender [25 - 50]\n",
      "Fitting UserKNNCFRecommender [50 - 100]\n",
      "Similarity column 7947 ( 100 % ), 18938.77 column/sec, elapsed time 0.01 min\n",
      "INFO: 2/6 fitted.\n"
     ]
    }
   ],
   "source": [
    "recommender.fit()"
   ]
  },
  {
   "cell_type": "code",
   "execution_count": 6,
   "metadata": {
    "scrolled": true
   },
   "outputs": [
    {
     "name": "stdout",
     "output_type": "stream",
     "text": [
      "UserWiseHybrid001: Saving the sub-models in directory 'stored_recommendersUserWiseHybrid001'\n",
      "TopPopRecommender: Saving model in file 'stored_recommenders/UserWiseHybrid001/0-1_TopPopRecommender'\n",
      "TopPopRecommender: Saving complete\n",
      "P3alphaRecommender: Saving model in file 'stored_recommenders/UserWiseHybrid001/1-25_P3alphaRecommender'\n",
      "P3alphaRecommender: Saving complete\n",
      "RP3betaRecommender: Saving model in file 'stored_recommenders/UserWiseHybrid001/25-50_RP3betaRecommender'\n",
      "RP3betaRecommender: Saving complete\n",
      "UserKNNCFRecommender: Saving model in file 'stored_recommenders/UserWiseHybrid001/50-100_UserKNNCFRecommender'\n",
      "UserKNNCFRecommender: Saving complete\n",
      "RP3betaRecommender: Saving model in file 'stored_recommenders/UserWiseHybrid001/100-200_RP3betaRecommender'\n",
      "RP3betaRecommender: Saving complete\n",
      "SLIM_BPR_Recommender: Saving model in file 'stored_recommenders/UserWiseHybrid001/200--1_SLIM_BPR_Recommender'\n",
      "SLIM_BPR_Recommender: Saving complete\n"
     ]
    }
   ],
   "source": [
    "recommender.save_model('stored_recommenders')"
   ]
  },
  {
   "cell_type": "code",
   "execution_count": 7,
   "metadata": {},
   "outputs": [],
   "source": [
    "from SimpleEvaluator import evaluator"
   ]
  },
  {
   "cell_type": "code",
   "execution_count": 8,
   "metadata": {
    "scrolled": true
   },
   "outputs": [
    {
     "data": {
      "text/plain": [
       "{'MAP': 0.06163059278682059,\n",
       " 'Precision': 0.03340663734506127,\n",
       " 'Recall': 0.12984026105061286}"
      ]
     },
     "execution_count": 8,
     "metadata": {},
     "output_type": "execute_result"
    }
   ],
   "source": [
    "result = evaluator(recommender,URM_test, cutoff=10)\n",
    "result"
   ]
  },
  {
   "cell_type": "markdown",
   "metadata": {},
   "source": [
    "---"
   ]
  },
  {
   "cell_type": "code",
   "execution_count": 16,
   "metadata": {},
   "outputs": [
    {
     "name": "stdout",
     "output_type": "stream",
     "text": [
      "LinearHybrid001: URM Detected 48 (0.60 %) cold users.\n",
      "LinearHybrid001: URM Detected 2016 (7.76 %) cold items.\n",
      "Fitting SLIMElasticNetRecommender ...\n",
      "done.\n",
      "Fitting ItemKNNCFRecommender ...\n",
      "Similarity column 25975 ( 100 % ), 4628.83 column/sec, elapsed time 0.09 min\n",
      "done.\n",
      "Fitting ItemKNNCBFRecommender ...\n",
      "Similarity column 25975 ( 100 % ), 3385.71 column/sec, elapsed time 0.13 min\n",
      "done.\n"
     ]
    }
   ],
   "source": [
    "from Hybrid.LinearHybrid001 import LinearHybrid001\n",
    "rec = LinearHybrid001(URM_train, ICM_all)\n",
    "params={'alpha': 0.96043629212176, 'l1_ratio': 0.7177631978847901}\n",
    "rec.fit(**params)"
   ]
  },
  {
   "cell_type": "code",
   "execution_count": 17,
   "metadata": {},
   "outputs": [
    {
     "data": {
      "text/plain": [
       "{'MAP': 0.06750847617413978,\n",
       " 'Precision': 0.0350610366219724,\n",
       " 'Recall': 0.14510205467727377}"
      ]
     },
     "execution_count": 17,
     "metadata": {},
     "output_type": "execute_result"
    }
   ],
   "source": [
    "result = evaluator(rec, URM_test, cutoff=10)\n",
    "result"
   ]
  },
  {
   "cell_type": "markdown",
   "metadata": {},
   "source": [
    "---"
   ]
  },
  {
   "cell_type": "code",
   "execution_count": 2,
   "metadata": {},
   "outputs": [
    {
     "name": "stdout",
     "output_type": "stream",
     "text": [
      "Warning: 27 (0.34 %) of 7947 users have no train items\n",
      "Warning: 3841 (48.33 %) of 7947 users have no sampled items\n"
     ]
    }
   ],
   "source": [
    "seed = 1205\n",
    "parser = DataParser()\n",
    "\n",
    "URM_all = parser.get_URM_all()\n",
    "ICM_all = parser.get_ICM_all()\n",
    "\n",
    "URM_train, URM_test = split_train_in_two_percentage_global_sample(URM_all, train_percentage=0.90, seed=seed)"
   ]
  },
  {
   "cell_type": "code",
   "execution_count": 5,
   "metadata": {},
   "outputs": [
    {
     "name": "stdout",
     "output_type": "stream",
     "text": [
      "LinearHybrid002: URM Detected 27 (0.34 %) cold users.\n",
      "LinearHybrid002: URM Detected 1634 (6.29 %) cold items.\n",
      "Similarity column 7947 ( 100 % ), 20523.61 column/sec, elapsed time 0.01 min\n",
      "Similarity column 25975 ( 100 % ), 7902.41 column/sec, elapsed time 0.05 min\n",
      "Similarity column 25975 ( 100 % ), 5213.71 column/sec, elapsed time 0.08 min\n"
     ]
    }
   ],
   "source": [
    "from Hybrid.LinearHybrid002 import LinearHybrid002\n",
    "recommender = LinearHybrid002(URM_train, ICM_all, submission=True)\n",
    "best={'alpha': 0.550021925463694, 'l1_ratio': 0.787554314369364}\n",
    "recommender.fit(**best)"
   ]
  },
  {
   "cell_type": "code",
   "execution_count": 6,
   "metadata": {},
   "outputs": [],
   "source": [
    "from SimpleEvaluator import evaluator"
   ]
  },
  {
   "cell_type": "code",
   "execution_count": 7,
   "metadata": {},
   "outputs": [
    {
     "data": {
      "text/plain": [
       "{'MAP': 0.07395518561287873,\n",
       " 'Precision': 0.03209936678032102,\n",
       " 'Recall': 0.16026427889394051}"
      ]
     },
     "execution_count": 7,
     "metadata": {},
     "output_type": "execute_result"
    }
   ],
   "source": [
    "result = evaluator(recommender, URM_test, cutoff=10)\n",
    "result"
   ]
  }
 ],
 "metadata": {
  "kernelspec": {
   "display_name": "Python 3",
   "language": "python",
   "name": "python3"
  },
  "language_info": {
   "codemirror_mode": {
    "name": "ipython",
    "version": 3
   },
   "file_extension": ".py",
   "mimetype": "text/x-python",
   "name": "python",
   "nbconvert_exporter": "python",
   "pygments_lexer": "ipython3",
   "version": "3.6.10"
  }
 },
 "nbformat": 4,
 "nbformat_minor": 4
}
