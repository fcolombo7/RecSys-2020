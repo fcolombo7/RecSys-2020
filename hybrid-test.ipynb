{
 "cells": [
  {
   "cell_type": "code",
   "execution_count": 1,
   "metadata": {},
   "outputs": [],
   "source": [
    "from DataParser import DataParser\n",
    "import numpy as np\n",
    "\n",
    "from Data_manager.split_functions.split_train_validation_random_holdout import \\\n",
    "split_train_in_two_percentage_global_sample\n",
    "\n",
    "import matplotlib.pyplot as plt\n",
    "from matplotlib.pyplot import figure\n",
    "\n",
    "from Hybrid.UserWiseHybrid001 import UserWiseHybrid001"
   ]
  },
  {
   "cell_type": "code",
   "execution_count": 4,
   "metadata": {},
   "outputs": [],
   "source": [
    "from Base.NonPersonalizedRecommender import TopPop, Random\n",
    "from EASE_R.EASE_R_Recommender import EASE_R_Recommender\n",
    "from Hybrid.HybridCombinationSearch import HybridCombinationSearch\n",
    "from Hybrid.LinearHybrid002ggg import LinearHybrid002ggg\n",
    "from Hybrid.LinearHybrid002 import LinearHybrid002\n",
    "from Hybrid.LinearHybrid001 import LinearHybrid001\n",
    "from Hybrid.MergedHybrid000 import MergedHybrid000\n",
    "from Hybrid.PipeHybrid001 import PipeHybrid001\n",
    "from KNN.ItemKNNCBFRecommender import ItemKNNCBFRecommender\n",
    "from KNN.UserKNNCFRecommender import UserKNNCFRecommender\n",
    "from KNN.ItemKNNCFRecommender import ItemKNNCFRecommender\n",
    "from MatrixFactorization.IALSRecommender import IALSRecommender\n",
    "from SLIM_BPR.Cython.SLIM_BPR_Cython import SLIM_BPR_Cython\n",
    "from SLIM_ElasticNet.SLIMElasticNetRecommender import SLIMElasticNetRecommender\n",
    "from GraphBased.P3alphaRecommender import P3alphaRecommender\n",
    "from GraphBased.RP3betaRecommender import RP3betaRecommender\n",
    "from MatrixFactorization.Cython.MatrixFactorization_Cython import MatrixFactorization_BPR_Cython, MatrixFactorization_FunkSVD_Cython\n",
    "from MatrixFactorization.PureSVDRecommender import PureSVDRecommender, PureSVDItemRecommender\n",
    "from MatrixFactorization.NMFRecommender import NMFRecommender\n",
    "\n",
    "import traceback\n",
    "\n",
    "import os, multiprocessing\n",
    "from functools import partial\n",
    "from itertools import combinations\n",
    "\n",
    "from DataParser import DataParser\n",
    "from Data_manager.Movielens.Movielens10MReader import Movielens10MReader\n",
    "from Data_manager.split_functions.split_train_validation_random_holdout import split_train_in_two_percentage_global_sample"
   ]
  },
  {
   "cell_type": "code",
   "execution_count": 2,
   "metadata": {},
   "outputs": [
    {
     "name": "stdout",
     "output_type": "stream",
     "text": [
      "Warning: 48 (0.60 %) of 7947 users have no train items\n",
      "Warning: 2950 (37.12 %) of 7947 users have no sampled items\n"
     ]
    }
   ],
   "source": [
    "seed = 1205\n",
    "parser = DataParser()\n",
    "\n",
    "URM_all = parser.get_URM_all()\n",
    "ICM_all = parser.get_ICM_all()\n",
    "\n",
    "URM_train, URM_test = split_train_in_two_percentage_global_sample(URM_all, train_percentage=0.85, seed=seed)"
   ]
  },
  {
   "cell_type": "code",
   "execution_count": 3,
   "metadata": {},
   "outputs": [
    {
     "name": "stdout",
     "output_type": "stream",
     "text": [
      "UserWiseHybrid001: URM Detected 42 (0.53 %) cold users.\n",
      "UserWiseHybrid001: URM Detected 1971 (7.59 %) cold items.\n",
      "TopPopRecommender: URM Detected 42 (0.53 %) cold users.\n",
      "TopPopRecommender: URM Detected 1971 (7.59 %) cold items.\n",
      "P3alphaRecommender: URM Detected 42 (0.53 %) cold users.\n",
      "P3alphaRecommender: URM Detected 1971 (7.59 %) cold items.\n",
      "RP3betaRecommender: URM Detected 42 (0.53 %) cold users.\n",
      "RP3betaRecommender: URM Detected 1971 (7.59 %) cold items.\n",
      "UserKNNCFRecommender: URM Detected 42 (0.53 %) cold users.\n",
      "UserKNNCFRecommender: URM Detected 1971 (7.59 %) cold items.\n",
      "RP3betaRecommender: URM Detected 42 (0.53 %) cold users.\n",
      "RP3betaRecommender: URM Detected 1971 (7.59 %) cold items.\n",
      "SLIM_BPR_Recommender: URM Detected 42 (0.53 %) cold users.\n",
      "SLIM_BPR_Recommender: URM Detected 1971 (7.59 %) cold items.\n"
     ]
    }
   ],
   "source": [
    "recommender = UserWiseHybrid001(URM_train, ICM_all)"
   ]
  },
  {
   "cell_type": "code",
   "execution_count": 4,
   "metadata": {},
   "outputs": [
    {
     "name": "stdout",
     "output_type": "stream",
     "text": [
      "TopPopRecommender: Loading model from file 'stored_recommenders/UserWiseHybrid001/0-1_TopPopRecommender'\n",
      "TopPopRecommender: Loading complete\n",
      "INFO: TopPopRecommender loaded.\n",
      "P3alphaRecommender: Loading model from file 'stored_recommenders/UserWiseHybrid001/1-25_P3alphaRecommender'\n",
      "P3alphaRecommender: Loading complete\n",
      "INFO: P3alphaRecommender loaded.\n",
      "RP3betaRecommender: Loading model from file 'stored_recommenders/UserWiseHybrid001/25-50_RP3betaRecommender'\n",
      "WARNING: Errors occur in loading RP3betaRecommender. The recommender will be trained.\n",
      "UserKNNCFRecommender: Loading model from file 'stored_recommenders/UserWiseHybrid001/50-100_UserKNNCFRecommender'\n",
      "WARNING: Errors occur in loading UserKNNCFRecommender. The recommender will be trained.\n",
      "RP3betaRecommender: Loading model from file 'stored_recommenders/UserWiseHybrid001/100-200_RP3betaRecommender'\n",
      "RP3betaRecommender: Loading complete\n",
      "INFO: RP3betaRecommender loaded.\n",
      "SLIM_BPR_Recommender: Loading model from file 'stored_recommenders/UserWiseHybrid001/200--1_SLIM_BPR_Recommender'\n",
      "SLIM_BPR_Recommender: Loading complete\n",
      "INFO: SLIM_BPR_Recommender loaded.\n",
      "INFO: 4/6 loaded.\n"
     ]
    }
   ],
   "source": [
    "recommender.load_model('stored_recommenders')"
   ]
  },
  {
   "cell_type": "code",
   "execution_count": 5,
   "metadata": {},
   "outputs": [
    {
     "name": "stdout",
     "output_type": "stream",
     "text": [
      "INFO: Start fitting the recommenders... \n",
      "Fitting RP3betaRecommender [25 - 50]\n",
      "Fitting UserKNNCFRecommender [50 - 100]\n",
      "Similarity column 7947 ( 100 % ), 18938.77 column/sec, elapsed time 0.01 min\n",
      "INFO: 2/6 fitted.\n"
     ]
    }
   ],
   "source": [
    "recommender.fit()"
   ]
  },
  {
   "cell_type": "code",
   "execution_count": 6,
   "metadata": {
    "scrolled": true
   },
   "outputs": [
    {
     "name": "stdout",
     "output_type": "stream",
     "text": [
      "UserWiseHybrid001: Saving the sub-models in directory 'stored_recommendersUserWiseHybrid001'\n",
      "TopPopRecommender: Saving model in file 'stored_recommenders/UserWiseHybrid001/0-1_TopPopRecommender'\n",
      "TopPopRecommender: Saving complete\n",
      "P3alphaRecommender: Saving model in file 'stored_recommenders/UserWiseHybrid001/1-25_P3alphaRecommender'\n",
      "P3alphaRecommender: Saving complete\n",
      "RP3betaRecommender: Saving model in file 'stored_recommenders/UserWiseHybrid001/25-50_RP3betaRecommender'\n",
      "RP3betaRecommender: Saving complete\n",
      "UserKNNCFRecommender: Saving model in file 'stored_recommenders/UserWiseHybrid001/50-100_UserKNNCFRecommender'\n",
      "UserKNNCFRecommender: Saving complete\n",
      "RP3betaRecommender: Saving model in file 'stored_recommenders/UserWiseHybrid001/100-200_RP3betaRecommender'\n",
      "RP3betaRecommender: Saving complete\n",
      "SLIM_BPR_Recommender: Saving model in file 'stored_recommenders/UserWiseHybrid001/200--1_SLIM_BPR_Recommender'\n",
      "SLIM_BPR_Recommender: Saving complete\n"
     ]
    }
   ],
   "source": [
    "recommender.save_model('stored_recommenders')"
   ]
  },
  {
   "cell_type": "code",
   "execution_count": 7,
   "metadata": {},
   "outputs": [],
   "source": [
    "from SimpleEvaluator import evaluator"
   ]
  },
  {
   "cell_type": "code",
   "execution_count": 8,
   "metadata": {
    "scrolled": true
   },
   "outputs": [
    {
     "data": {
      "text/plain": [
       "{'MAP': 0.06163059278682059,\n",
       " 'Precision': 0.03340663734506127,\n",
       " 'Recall': 0.12984026105061286}"
      ]
     },
     "execution_count": 8,
     "metadata": {},
     "output_type": "execute_result"
    }
   ],
   "source": [
    "result = evaluator(recommender,URM_test, cutoff=10)\n",
    "result"
   ]
  },
  {
   "cell_type": "markdown",
   "metadata": {},
   "source": [
    "---"
   ]
  },
  {
   "cell_type": "code",
   "execution_count": 16,
   "metadata": {},
   "outputs": [
    {
     "name": "stdout",
     "output_type": "stream",
     "text": [
      "LinearHybrid001: URM Detected 48 (0.60 %) cold users.\n",
      "LinearHybrid001: URM Detected 2016 (7.76 %) cold items.\n",
      "Fitting SLIMElasticNetRecommender ...\n",
      "done.\n",
      "Fitting ItemKNNCFRecommender ...\n",
      "Similarity column 25975 ( 100 % ), 4628.83 column/sec, elapsed time 0.09 min\n",
      "done.\n",
      "Fitting ItemKNNCBFRecommender ...\n",
      "Similarity column 25975 ( 100 % ), 3385.71 column/sec, elapsed time 0.13 min\n",
      "done.\n"
     ]
    }
   ],
   "source": [
    "from Hybrid.LinearHybrid001 import LinearHybrid001\n",
    "rec = LinearHybrid001(URM_train, ICM_all)\n",
    "params={'alpha': 0.96043629212176, 'l1_ratio': 0.7177631978847901}\n",
    "rec.fit(**params)"
   ]
  },
  {
   "cell_type": "code",
   "execution_count": 17,
   "metadata": {},
   "outputs": [
    {
     "data": {
      "text/plain": [
       "{'MAP': 0.06750847617413978,\n",
       " 'Precision': 0.0350610366219724,\n",
       " 'Recall': 0.14510205467727377}"
      ]
     },
     "execution_count": 17,
     "metadata": {},
     "output_type": "execute_result"
    }
   ],
   "source": [
    "result = evaluator(rec, URM_test, cutoff=10)\n",
    "result"
   ]
  },
  {
   "cell_type": "markdown",
   "metadata": {},
   "source": [
    "---"
   ]
  },
  {
   "cell_type": "code",
   "execution_count": 2,
   "metadata": {},
   "outputs": [
    {
     "name": "stdout",
     "output_type": "stream",
     "text": [
      "Warning: 27 (0.34 %) of 7947 users have no train items\n",
      "Warning: 3841 (48.33 %) of 7947 users have no sampled items\n"
     ]
    }
   ],
   "source": [
    "seed = 1205\n",
    "parser = DataParser()\n",
    "\n",
    "URM_all = parser.get_URM_all()\n",
    "ICM_all = parser.get_ICM_all()\n",
    "\n",
    "URM_train, URM_test = split_train_in_two_percentage_global_sample(URM_all, train_percentage=0.90, seed=seed)"
   ]
  },
  {
   "cell_type": "code",
   "execution_count": 3,
   "metadata": {},
   "outputs": [
    {
     "name": "stdout",
     "output_type": "stream",
     "text": [
      "LinearHybrid002: URM Detected 27 (0.34 %) cold users.\n",
      "LinearHybrid002: URM Detected 1634 (6.29 %) cold items.\n",
      "Similarity column 7947 ( 100 % ), 15369.16 column/sec, elapsed time 0.01 min\n",
      "Similarity column 25975 ( 100 % ), 5624.88 column/sec, elapsed time 0.08 min\n",
      "Similarity column 25975 ( 100 % ), 3765.36 column/sec, elapsed time 0.11 min\n"
     ]
    }
   ],
   "source": [
    "from Hybrid.LinearHybrid002 import LinearHybrid002\n",
    "recommender = LinearHybrid002(URM_train, ICM_all, submission=True)\n",
    "best={'alpha': 0.550021925463694, 'l1_ratio': 0.787554314369364}\n",
    "recommender.fit(**best)"
   ]
  },
  {
   "cell_type": "code",
   "execution_count": 8,
   "metadata": {},
   "outputs": [],
   "source": [
    "from SimpleEvaluator import evaluator"
   ]
  },
  {
   "cell_type": "code",
   "execution_count": 5,
   "metadata": {},
   "outputs": [
    {
     "data": {
      "text/plain": [
       "{'MAP': 0.07395518561287873,\n",
       " 'Precision': 0.03209936678032102,\n",
       " 'Recall': 0.16026427889394051}"
      ]
     },
     "execution_count": 5,
     "metadata": {},
     "output_type": "execute_result"
    }
   ],
   "source": [
    "result = evaluator(recommender, URM_test, cutoff=10)\n",
    "result"
   ]
  },
  {
   "cell_type": "code",
   "execution_count": 8,
   "metadata": {},
   "outputs": [
    {
     "name": "stdout",
     "output_type": "stream",
     "text": [
      "LinearHybrid002ggg: URM Detected 27 (0.34 %) cold users.\n",
      "LinearHybrid002ggg: URM Detected 1634 (6.29 %) cold items.\n",
      "Similarity column 25975 ( 100 % ), 6703.53 column/sec, elapsed time 0.06 min\n",
      "Similarity column 25975 ( 100 % ), 4737.08 column/sec, elapsed time 0.09 min\n"
     ]
    }
   ],
   "source": [
    "from Hybrid.LinearHybrid002ggg import LinearHybrid002ggg\n",
    "recommenderg = LinearHybrid002ggg(URM_train, ICM_all, submission=True)\n",
    "best={'alpha': 0.5937057261191784, 'l1_ratio': 0.5134107532127052}\n",
    "recommenderg.fit(**best)"
   ]
  },
  {
   "cell_type": "code",
   "execution_count": 9,
   "metadata": {},
   "outputs": [
    {
     "data": {
      "text/plain": [
       "{'MAP': 0.07454714632195165,\n",
       " 'Precision': 0.032562104237700416,\n",
       " 'Recall': 0.1625939602799799}"
      ]
     },
     "execution_count": 9,
     "metadata": {},
     "output_type": "execute_result"
    }
   ],
   "source": [
    "result = evaluator(recommenderg, URM_test, cutoff=10)\n",
    "result"
   ]
  },
  {
   "cell_type": "code",
   "execution_count": 6,
   "metadata": {},
   "outputs": [
    {
     "name": "stdout",
     "output_type": "stream",
     "text": [
      "LinearHybrid003ggg: URM Detected 27 (0.34 %) cold users.\n",
      "LinearHybrid003ggg: URM Detected 1634 (6.29 %) cold items.\n",
      "Similarity column 25975 ( 100 % ), 6142.17 column/sec, elapsed time 0.07 min\n",
      "Similarity column 25975 ( 100 % ), 4080.34 column/sec, elapsed time 0.11 min\n"
     ]
    }
   ],
   "source": [
    "from Hybrid.LinearHybrid003ggg import LinearHybrid003ggg\n",
    "recommenderg = LinearHybrid003ggg(URM_train, ICM_all, submission=True)\n",
    "best={'alpha': 0.3860260032821631, 'l1_ratio': 0.9135874767446409}\n",
    "recommenderg.fit(**best)"
   ]
  },
  {
   "cell_type": "code",
   "execution_count": 7,
   "metadata": {},
   "outputs": [
    {
     "data": {
      "text/plain": [
       "{'MAP': 0.07404839746374624,\n",
       " 'Precision': 0.03302484169507981,\n",
       " 'Recall': 0.16416171509215122}"
      ]
     },
     "execution_count": 7,
     "metadata": {},
     "output_type": "execute_result"
    }
   ],
   "source": [
    "result = evaluator(recommenderg, URM_test, cutoff=10)\n",
    "result"
   ]
  },
  {
   "cell_type": "code",
   "execution_count": 6,
   "metadata": {},
   "outputs": [
    {
     "name": "stdout",
     "output_type": "stream",
     "text": [
      "Rp3beta training...\n",
      "Done\n",
      "P3alpha training...\n",
      "Done\n",
      "ItemKnnCF training...\n",
      "Similarity column 25975 ( 100 % ), 2489.02 column/sec, elapsed time 0.17 min\n",
      "Done\n",
      "UserKnnCF training...\n",
      "Similarity column 7947 ( 100 % ), 6880.56 column/sec, elapsed time 0.02 min\n",
      "Done\n",
      "ItemKnnCBF training...\n",
      "Similarity column 25975 ( 100 % ), 1697.24 column/sec, elapsed time 0.26 min\n",
      "Done\n"
     ]
    }
   ],
   "source": [
    "from Hybrid.HybridCombinationSearch import HybridCombinationSearch\n",
    "\n",
    "print(\"Rp3beta training...\")\n",
    "rp3b = RP3betaRecommender(URM_train, verbose=False)\n",
    "rp3b_params = {'topK': 1000, 'alpha': 0.38192761611274967, 'beta': 0.0, 'normalize_similarity': False}\n",
    "rp3b.fit(**rp3b_params)\n",
    "print(\"Done\")\n",
    "print(\"P3alpha training...\")\n",
    "p3a = P3alphaRecommender(URM_train, verbose=False)\n",
    "p3a_params = {'topK': 131, 'alpha': 0.33660811631883863, 'normalize_similarity': False}\n",
    "p3a.fit(**p3a_params)\n",
    "print(\"Done\")\n",
    "print(\"ItemKnnCF training...\")\n",
    "icf = ItemKNNCFRecommender(URM_train, verbose=False)\n",
    "icf_params = {'topK': 100, 'shrink': 1000, 'similarity': 'asymmetric', 'normalize': True, 'asymmetric_alpha': 0.0}\n",
    "icf.fit(**icf_params)\n",
    "print(\"Done\")\n",
    "print(\"UserKnnCF training...\")\n",
    "ucf = UserKNNCFRecommender(URM_train, verbose=False)\n",
    "ucf_params = {'topK': 190, 'shrink': 0, 'similarity': 'cosine', 'normalize': True}\n",
    "ucf.fit(**ucf_params)\n",
    "print(\"Done\")\n",
    "print(\"ItemKnnCBF training...\")\n",
    "icb = ItemKNNCBFRecommender(URM_train, ICM_all, verbose=False)\n",
    "icb_params = {'topK': 205, 'shrink': 1000, 'similarity': 'cosine', 'normalize': True, 'feature_weighting': 'BM25'}\n",
    "icb.fit(**icb_params)\n",
    "print(\"Done\")"
   ]
  },
  {
   "cell_type": "code",
   "execution_count": 9,
   "metadata": {},
   "outputs": [
    {
     "name": "stdout",
     "output_type": "stream",
     "text": [
      "HybridCombinationSearch: URM Detected 48 (0.60 %) cold users.\n",
      "HybridCombinationSearch: URM Detected 2016 (7.76 %) cold items.\n"
     ]
    },
    {
     "data": {
      "text/plain": [
       "{'MAP': 0.07693970495423981,\n",
       " 'Precision': 0.03930358214928864,\n",
       " 'Recall': 0.16273283780432932}"
      ]
     },
     "execution_count": 9,
     "metadata": {},
     "output_type": "execute_result"
    }
   ],
   "source": [
    "list_recommender = [p3a, icf, icb]\n",
    "rec = HybridCombinationSearch(URM_train, ICM_all, list_recommender)\n",
    "rec.fit(alpha=0.4066665999396494, l1_ratio=0.7594645794234393) #MAP val = 0.0677491\n",
    "result = evaluator(rec, URM_test, cutoff=10)\n",
    "result"
   ]
  },
  {
   "cell_type": "code",
   "execution_count": 10,
   "metadata": {},
   "outputs": [
    {
     "name": "stdout",
     "output_type": "stream",
     "text": [
      "HybridCombinationSearch: URM Detected 48 (0.60 %) cold users.\n",
      "HybridCombinationSearch: URM Detected 2016 (7.76 %) cold items.\n"
     ]
    },
    {
     "data": {
      "text/plain": [
       "{'MAP': 0.0769789910290341,\n",
       " 'Precision': 0.03902341404842814,\n",
       " 'Recall': 0.1614891218912885}"
      ]
     },
     "execution_count": 10,
     "metadata": {},
     "output_type": "execute_result"
    }
   ],
   "source": [
    "list_recommender = [p3a, ucf, icb]\n",
    "rec = HybridCombinationSearch(URM_train, ICM_all, list_recommender)\n",
    "rec.fit(alpha=0.37776131907747645, l1_ratio=0.44018901104481) #MAP val = 0.0681188\n",
    "result = evaluator(rec, URM_test, cutoff=10)\n",
    "result"
   ]
  },
  {
   "cell_type": "code",
   "execution_count": 12,
   "metadata": {},
   "outputs": [
    {
     "name": "stdout",
     "output_type": "stream",
     "text": [
      "HybridCombinationSearch: URM Detected 48 (0.60 %) cold users.\n",
      "HybridCombinationSearch: URM Detected 2016 (7.76 %) cold items.\n"
     ]
    },
    {
     "data": {
      "text/plain": [
       "{'MAP': 0.07714023778338555,\n",
       " 'Precision': 0.03940364218531025,\n",
       " 'Recall': 0.1630819026436321}"
      ]
     },
     "execution_count": 12,
     "metadata": {},
     "output_type": "execute_result"
    }
   ],
   "source": [
    "list_recommender = [rp3b, p3a, icb]\n",
    "rec = HybridCombinationSearch(URM_train, ICM_all, list_recommender)\n",
    "rec.fit(alpha=0.3553383791480798, l1_ratio=0.000435281815357902) #MAP val = 0.0677085\n",
    "result = evaluator(rec, URM_test, cutoff=10)\n",
    "result"
   ]
  },
  {
   "cell_type": "code",
   "execution_count": 14,
   "metadata": {},
   "outputs": [
    {
     "name": "stdout",
     "output_type": "stream",
     "text": [
      "HybridCombinationSearch: URM Detected 48 (0.60 %) cold users.\n",
      "HybridCombinationSearch: URM Detected 2016 (7.76 %) cold items.\n"
     ]
    },
    {
     "data": {
      "text/plain": [
       "{'MAP': 0.07642533160990067,\n",
       " 'Precision': 0.03904342605563251,\n",
       " 'Recall': 0.16060490551700546}"
      ]
     },
     "execution_count": 14,
     "metadata": {},
     "output_type": "execute_result"
    }
   ],
   "source": [
    "list_recommender = [rp3b, ucf, icb]\n",
    "rec = HybridCombinationSearch(URM_train, ICM_all, list_recommender)\n",
    "rec.fit(alpha=0.4648716125499346, l1_ratio=0.292302921903516) #MAP val = 0.0680765\n",
    "result = evaluator(rec, URM_test, cutoff=10)\n",
    "result"
   ]
  },
  {
   "cell_type": "code",
   "execution_count": null,
   "metadata": {},
   "outputs": [],
   "source": []
  }
 ],
 "metadata": {
  "kernelspec": {
   "display_name": "Python 3",
   "language": "python",
   "name": "python3"
  },
  "language_info": {
   "codemirror_mode": {
    "name": "ipython",
    "version": 3
   },
   "file_extension": ".py",
   "mimetype": "text/x-python",
   "name": "python",
   "nbconvert_exporter": "python",
   "pygments_lexer": "ipython3",
   "version": "3.6.10"
  }
 },
 "nbformat": 4,
 "nbformat_minor": 4
}
