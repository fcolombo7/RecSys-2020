{
 "cells": [
  {
   "cell_type": "code",
   "execution_count": 1,
   "metadata": {},
   "outputs": [],
   "source": [
    "from DataParser import DataParser\n",
    "import numpy as np\n",
    "\n",
    "from Data_manager.split_functions.split_train_validation_random_holdout import \\\n",
    "split_train_in_two_percentage_global_sample\n",
    "\n",
    "import matplotlib.pyplot as plt\n",
    "from matplotlib.pyplot import figure\n",
    "\n",
    "from Hybrid.UserWiseHybrid001 import UserWiseHybrid001"
   ]
  },
  {
   "cell_type": "code",
   "execution_count": 2,
   "metadata": {},
   "outputs": [
    {
     "name": "stdout",
     "output_type": "stream",
     "text": [
      "Warning: 42 (0.53 %) of 7947 users have no train items\n",
      "Warning: 2945 (37.06 %) of 7947 users have no sampled items\n"
     ]
    }
   ],
   "source": [
    "seed = 1024\n",
    "parser = DataParser()\n",
    "\n",
    "URM_all = parser.get_URM_all()\n",
    "ICM_all = parser.get_ICM_all()\n",
    "\n",
    "URM_train, URM_test = split_train_in_two_percentage_global_sample(URM_all, train_percentage=0.85, seed=seed)"
   ]
  },
  {
   "cell_type": "code",
   "execution_count": 3,
   "metadata": {},
   "outputs": [
    {
     "name": "stdout",
     "output_type": "stream",
     "text": [
      "UserWiseHybrid001: URM Detected 42 (0.53 %) cold users.\n",
      "UserWiseHybrid001: URM Detected 1971 (7.59 %) cold items.\n",
      "TopPopRecommender: URM Detected 42 (0.53 %) cold users.\n",
      "TopPopRecommender: URM Detected 1971 (7.59 %) cold items.\n",
      "P3alphaRecommender: URM Detected 42 (0.53 %) cold users.\n",
      "P3alphaRecommender: URM Detected 1971 (7.59 %) cold items.\n",
      "RP3betaRecommender: URM Detected 42 (0.53 %) cold users.\n",
      "RP3betaRecommender: URM Detected 1971 (7.59 %) cold items.\n",
      "RP3betaRecommender: URM Detected 42 (0.53 %) cold users.\n",
      "RP3betaRecommender: URM Detected 1971 (7.59 %) cold items.\n",
      "SLIM_BPR_Recommender: URM Detected 42 (0.53 %) cold users.\n",
      "SLIM_BPR_Recommender: URM Detected 1971 (7.59 %) cold items.\n"
     ]
    }
   ],
   "source": [
    "recommender = UserWiseHybrid001(URM_train, ICM_all)"
   ]
  },
  {
   "cell_type": "code",
   "execution_count": 4,
   "metadata": {},
   "outputs": [
    {
     "name": "stdout",
     "output_type": "stream",
     "text": [
      "INFO: Start fitting the recommenders... \n",
      "Fitting TopPopRecommender [0 - 1]\n",
      "Fitting P3alphaRecommender [1 - 25]\n",
      "Fitting RP3betaRecommender [25 - 100]\n",
      "Fitting RP3betaRecommender [100 - 200]\n",
      "Fitting SLIM_BPR_Recommender [200 - -1]\n",
      "SLIM_BPR_Recommender: Automatic selection of fastest train mode. Available RAM is 2067.00 MB (26.88%) of 7689.00 MB, required is 2698.80 MB. Using sparse matrix.\n",
      "Processed 7947 ( 100.00% ) in 0.91 seconds. BPR loss is 4.40E-07. Sample per second: 8732\n",
      "SLIM_BPR_Recommender: Epoch 1 of 20. Elapsed time 0.05 sec\n",
      "Processed 7947 ( 100.00% ) in 1.01 seconds. BPR loss is 3.07E-06. Sample per second: 7840\n",
      "SLIM_BPR_Recommender: Epoch 2 of 20. Elapsed time 0.15 sec\n",
      "Processed 7947 ( 100.00% ) in 0.15 seconds. BPR loss is 7.22E-06. Sample per second: 52991\n",
      "SLIM_BPR_Recommender: Epoch 3 of 20. Elapsed time 0.29 sec\n",
      "Processed 7947 ( 100.00% ) in 0.31 seconds. BPR loss is 1.15E-05. Sample per second: 25240\n",
      "SLIM_BPR_Recommender: Epoch 4 of 20. Elapsed time 0.45 sec\n",
      "Processed 7947 ( 100.00% ) in 0.51 seconds. BPR loss is 1.49E-05. Sample per second: 15450\n",
      "SLIM_BPR_Recommender: Epoch 5 of 20. Elapsed time 0.65 sec\n",
      "Processed 7947 ( 100.00% ) in 0.76 seconds. BPR loss is 2.12E-05. Sample per second: 10468\n",
      "SLIM_BPR_Recommender: Epoch 6 of 20. Elapsed time 0.90 sec\n",
      "Processed 7947 ( 100.00% ) in 1.04 seconds. BPR loss is 2.87E-05. Sample per second: 7607\n",
      "SLIM_BPR_Recommender: Epoch 7 of 20. Elapsed time 1.18 sec\n",
      "Processed 7947 ( 100.00% ) in 0.36 seconds. BPR loss is 3.55E-05. Sample per second: 21967\n",
      "SLIM_BPR_Recommender: Epoch 8 of 20. Elapsed time 1.50 sec\n",
      "Processed 7947 ( 100.00% ) in 0.71 seconds. BPR loss is 4.44E-05. Sample per second: 11171\n",
      "SLIM_BPR_Recommender: Epoch 9 of 20. Elapsed time 1.85 sec\n",
      "Processed 7947 ( 100.00% ) in 1.10 seconds. BPR loss is 5.00E-05. Sample per second: 7241\n",
      "SLIM_BPR_Recommender: Epoch 10 of 20. Elapsed time 2.24 sec\n",
      "Processed 7947 ( 100.00% ) in 0.52 seconds. BPR loss is 5.99E-05. Sample per second: 15330\n",
      "SLIM_BPR_Recommender: Epoch 11 of 20. Elapsed time 2.66 sec\n",
      "Processed 7947 ( 100.00% ) in 0.97 seconds. BPR loss is 6.77E-05. Sample per second: 8159\n",
      "SLIM_BPR_Recommender: Epoch 12 of 20. Elapsed time 3.11 sec\n",
      "Processed 7947 ( 100.00% ) in 1.46 seconds. BPR loss is 7.59E-05. Sample per second: 5433\n",
      "SLIM_BPR_Recommender: Epoch 13 of 20. Elapsed time 3.60 sec\n",
      "Processed 7947 ( 100.00% ) in 1.00 seconds. BPR loss is 9.70E-05. Sample per second: 7976\n",
      "SLIM_BPR_Recommender: Epoch 14 of 20. Elapsed time 4.14 sec\n",
      "Processed 7947 ( 100.00% ) in 1.58 seconds. BPR loss is 1.08E-04. Sample per second: 5040\n",
      "SLIM_BPR_Recommender: Epoch 15 of 20. Elapsed time 4.72 sec\n",
      "Processed 7947 ( 100.00% ) in 1.28 seconds. BPR loss is 1.20E-04. Sample per second: 6204\n",
      "SLIM_BPR_Recommender: Epoch 16 of 20. Elapsed time 5.42 sec\n",
      "Processed 7947 ( 100.00% ) in 0.98 seconds. BPR loss is 1.34E-04. Sample per second: 8111\n",
      "SLIM_BPR_Recommender: Epoch 17 of 20. Elapsed time 6.12 sec\n",
      "Processed 7947 ( 100.00% ) in 1.81 seconds. BPR loss is 1.38E-04. Sample per second: 4398\n",
      "SLIM_BPR_Recommender: Epoch 18 of 20. Elapsed time 6.95 sec\n",
      "Processed 7947 ( 100.00% ) in 1.53 seconds. BPR loss is 1.46E-04. Sample per second: 5201\n",
      "SLIM_BPR_Recommender: Epoch 19 of 20. Elapsed time 7.67 sec\n",
      "Processed 7947 ( 100.00% ) in 1.31 seconds. BPR loss is 1.68E-04. Sample per second: 6058\n",
      "SLIM_BPR_Recommender: Epoch 20 of 20. Elapsed time 8.45 sec\n",
      "SLIM_BPR_Recommender: Terminating at epoch 20. Elapsed time 9.20 sec\n",
      "Deallocating Cython objects\n"
     ]
    }
   ],
   "source": [
    "recommender.fit()"
   ]
  },
  {
   "cell_type": "code",
   "execution_count": 5,
   "metadata": {},
   "outputs": [],
   "source": [
    "from SimpleEvaluator import evaluator"
   ]
  },
  {
   "cell_type": "code",
   "execution_count": 6,
   "metadata": {},
   "outputs": [
    {
     "data": {
      "text/plain": [
       "{'MAP': 0.06118003494621281,\n",
       " 'Precision': 0.03278688524590098,\n",
       " 'Recall': 0.1290399238428386}"
      ]
     },
     "execution_count": 6,
     "metadata": {},
     "output_type": "execute_result"
    }
   ],
   "source": [
    "result = evaluator(recommender,URM_test, cutoff=10)\n",
    "result"
   ]
  },
  {
   "cell_type": "code",
   "execution_count": 7,
   "metadata": {
    "scrolled": true
   },
   "outputs": [
    {
     "name": "stdout",
     "output_type": "stream",
     "text": [
      "UserWiseHybrid001: Saving the sub-models in directory 'stored_recommendersUserWiseHybrid001'\n",
      "TopPopRecommender: Saving model in file 'stored_recommenders/UserWiseHybrid001/0-1_TopPopRecommender'\n",
      "TopPopRecommender: Saving complete\n",
      "P3alphaRecommender: Saving model in file 'stored_recommenders/UserWiseHybrid001/1-25_P3alphaRecommender'\n",
      "P3alphaRecommender: Saving complete\n",
      "RP3betaRecommender: Saving model in file 'stored_recommenders/UserWiseHybrid001/25-100_RP3betaRecommender'\n",
      "RP3betaRecommender: Saving complete\n",
      "RP3betaRecommender: Saving model in file 'stored_recommenders/UserWiseHybrid001/100-200_RP3betaRecommender'\n",
      "RP3betaRecommender: Saving complete\n",
      "SLIM_BPR_Recommender: Saving model in file 'stored_recommenders/UserWiseHybrid001/200--1_SLIM_BPR_Recommender'\n",
      "SLIM_BPR_Recommender: Saving complete\n"
     ]
    }
   ],
   "source": [
    "recommender.save_model('stored_recommenders')"
   ]
  },
  {
   "cell_type": "code",
   "execution_count": 9,
   "metadata": {},
   "outputs": [
    {
     "name": "stdout",
     "output_type": "stream",
     "text": [
      "UserWiseHybrid001: URM Detected 42 (0.53 %) cold users.\n",
      "UserWiseHybrid001: URM Detected 1971 (7.59 %) cold items.\n",
      "TopPopRecommender: URM Detected 42 (0.53 %) cold users.\n",
      "TopPopRecommender: URM Detected 1971 (7.59 %) cold items.\n",
      "P3alphaRecommender: URM Detected 42 (0.53 %) cold users.\n",
      "P3alphaRecommender: URM Detected 1971 (7.59 %) cold items.\n",
      "RP3betaRecommender: URM Detected 42 (0.53 %) cold users.\n",
      "RP3betaRecommender: URM Detected 1971 (7.59 %) cold items.\n",
      "RP3betaRecommender: URM Detected 42 (0.53 %) cold users.\n",
      "RP3betaRecommender: URM Detected 1971 (7.59 %) cold items.\n",
      "SLIM_BPR_Recommender: URM Detected 42 (0.53 %) cold users.\n",
      "SLIM_BPR_Recommender: URM Detected 1971 (7.59 %) cold items.\n"
     ]
    }
   ],
   "source": [
    "#try to load\n",
    "\n",
    "rec2 = UserWiseHybrid001(URM_train, ICM_all)"
   ]
  },
  {
   "cell_type": "code",
   "execution_count": 10,
   "metadata": {},
   "outputs": [
    {
     "name": "stdout",
     "output_type": "stream",
     "text": [
      "TopPopRecommender: Loading model from file 'stored_recommenders/UserWiseHybrid001/0-1_TopPopRecommender'\n",
      "TopPopRecommender: Loading complete\n",
      "P3alphaRecommender: Loading model from file 'stored_recommenders/UserWiseHybrid001/1-25_P3alphaRecommender'\n",
      "P3alphaRecommender: Loading complete\n",
      "RP3betaRecommender: Loading model from file 'stored_recommenders/UserWiseHybrid001/25-100_RP3betaRecommender'\n",
      "RP3betaRecommender: Loading complete\n",
      "RP3betaRecommender: Loading model from file 'stored_recommenders/UserWiseHybrid001/100-200_RP3betaRecommender'\n",
      "RP3betaRecommender: Loading complete\n",
      "SLIM_BPR_Recommender: Loading model from file 'stored_recommenders/UserWiseHybrid001/200--1_SLIM_BPR_Recommender'\n",
      "SLIM_BPR_Recommender: Loading complete\n",
      "INFO: All the models have been loaded.\n"
     ]
    }
   ],
   "source": [
    "rec2.load_model('stored_recommenders')"
   ]
  },
  {
   "cell_type": "code",
   "execution_count": 11,
   "metadata": {},
   "outputs": [
    {
     "data": {
      "text/plain": [
       "{'MAP': 0.06118003494621281,\n",
       " 'Precision': 0.03278688524590098,\n",
       " 'Recall': 0.1290399238428386}"
      ]
     },
     "execution_count": 11,
     "metadata": {},
     "output_type": "execute_result"
    }
   ],
   "source": [
    "result = evaluator(rec2,URM_test, cutoff=10)\n",
    "result"
   ]
  }
 ],
 "metadata": {
  "kernelspec": {
   "display_name": "Python 3",
   "language": "python",
   "name": "python3"
  },
  "language_info": {
   "codemirror_mode": {
    "name": "ipython",
    "version": 3
   },
   "file_extension": ".py",
   "mimetype": "text/x-python",
   "name": "python",
   "nbconvert_exporter": "python",
   "pygments_lexer": "ipython3",
   "version": "3.6.10"
  }
 },
 "nbformat": 4,
 "nbformat_minor": 4
}
