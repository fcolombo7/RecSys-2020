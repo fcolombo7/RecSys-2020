{
 "cells": [
  {
   "cell_type": "code",
   "execution_count": 1,
   "metadata": {},
   "outputs": [],
   "source": [
    "from DataParser import DataParser\n",
    "import numpy as np\n",
    "import scipy.sparse as sps\n",
    "\n",
    "from Data_manager.split_functions.split_train_validation_random_holdout import \\\n",
    "split_train_in_two_percentage_global_sample\n",
    "\n",
    "import matplotlib.pyplot as plt\n",
    "from matplotlib.pyplot import figure\n",
    "from SimpleEvaluator import evaluator\n",
    "from Base.Evaluation.Evaluator import EvaluatorHoldout"
   ]
  },
  {
   "cell_type": "code",
   "execution_count": 2,
   "metadata": {},
   "outputs": [],
   "source": [
    "from Base.NonPersonalizedRecommender import TopPop, Random\n",
    "from Hybrid.HybridCombinationSearchCVtest import HybridCombinationSearchCVtest\n",
    "from KNN.ItemKNNCBFRecommender import ItemKNNCBFRecommender\n",
    "from KNN.UserKNNCFRecommender import UserKNNCFRecommender\n",
    "from KNN.ItemKNNCFRecommender import ItemKNNCFRecommender\n",
    "from MatrixFactorization.IALSRecommender import IALSRecommender\n",
    "from SLIM_BPR.Cython.SLIM_BPR_Cython import SLIM_BPR_Cython\n",
    "from SLIM_ElasticNet.SLIMElasticNetRecommender import SLIMElasticNetRecommender\n",
    "from SLIM_ElasticNet.SSLIM_ElasticNet import SSLIMElasticNet\n",
    "from GraphBased.P3alphaRecommender import P3alphaRecommender\n",
    "from GraphBased.RP3betaRecommender import RP3betaRecommender\n",
    "from MatrixFactorization.Cython.MatrixFactorization_Cython import MatrixFactorization_BPR_Cython, MatrixFactorization_FunkSVD_Cython\n",
    "from MatrixFactorization.PureSVDRecommender import PureSVDRecommender, PureSVDItemRecommender\n",
    "from MatrixFactorization.NMFRecommender import NMFRecommender"
   ]
  },
  {
   "cell_type": "code",
   "execution_count": null,
   "metadata": {},
   "outputs": [],
   "source": [
    "seed = 1666\n",
    "parser = DataParser()\n",
    "\n",
    "URM_all = parser.get_URM_all()\n",
    "ICM_all = parser.get_ICM_all()\n",
    "\n",
    "#URM_train, URM_test = split_train_in_two_percentage_global_sample(URM_all, train_percentage=0.85, seed=seed)"
   ]
  },
  {
   "cell_type": "code",
   "execution_count": null,
   "metadata": {},
   "outputs": [],
   "source": [
    "p3b = (RP3betaRecommender, {'topK': 121, 'alpha': 0.20195468746532336, 'beta': 0.004377103282444673, 'normalize_similarity': False})\n",
    "p3a = (P3alphaRecommender, {'topK': 344, 'alpha': 0.4233795425391197, 'normalize_similarity': False})\n",
    "icf = (ItemKNNCFRecommender, {'topK': 994, 'shrink': 981, 'similarity': 'asymmetric', 'normalize': True, 'asymmetric_alpha': 0.05110465631417439, 'feature_weighting': 'TF-IDF'})\n",
    "ucf = (UserKNNCFRecommender, {'topK': 342, 'shrink': 1, 'similarity': 'cosine', 'normalize': True, 'feature_weighting': 'none'})\n",
    "icb = (ItemKNNCBFRecommender, {'topK': 22, 'shrink': 59, 'similarity': 'dice', 'normalize': False})\n",
    "sen = (SLIMElasticNetRecommender, {'topK': 992, 'l1_ratio': 0.004065081925341167, 'alpha': 0.003725005053334143})\n",
    "sbpr = (SLIM_BPR_Cython, {'topK': 979, 'epochs': 130, 'symmetric': False, 'sgd_mode': 'adam', 'lambda_i': 0.004947329669424629, 'lambda_j': 1.1534760845071758e-05, 'learning_rate': 0.0001})\n",
    "sslim = (SSLIMElasticNet, {'beta': 0.4849594591575789, 'topK': 1000, 'l1_ratio': 1e-05, 'alpha': 0.001})"
   ]
  },
  {
   "cell_type": "code",
   "execution_count": null,
   "metadata": {},
   "outputs": [],
   "source": []
  },
  {
   "cell_type": "code",
   "execution_count": null,
   "metadata": {},
   "outputs": [],
   "source": [
    "combo_labels ={\n",
    "    'combo1': 'icb_icf_ucf',\n",
    "    'combo2': 'icb_icf_rp3b',\n",
    "    'combo3': 'icb_icf_p3a',\n",
    "    'combo4': 'icb_ucf_rp3b',\n",
    "    'combo5': 'icb_ucf_p3a',\n",
    "    'combo6': 'icb_p3a_rp3b',\n",
    "}"
   ]
  },
  {
   "cell_type": "code",
   "execution_count": null,
   "metadata": {},
   "outputs": [],
   "source": [
    "kf = KFold(n_splits=k, shuffle=True, random_state=self.seed)\n",
    "\n",
    "URM_list = []\n",
    "URM_test_list = []\n",
    "evaluator_list = []\n",
    "\n",
    "shape = URM_all.shape\n",
    "indptr = URM_all.indptr\n",
    "indices = URM_all.indices\n",
    "data = URM_all.data\n",
    "\n",
    "for train_index, test_index in kf.split(data):\n",
    "    data_train = np.ones(data.shape)\n",
    "    data_test = np.ones(data.shape)\n",
    "    data_train[test_index] = 0\n",
    "    data_test[train_index] = 0\n",
    "    kf_train = sps.csr_matrix((data_train, indices, indptr), shape=shape).copy()\n",
    "    kf_test = sps.csr_matrix((data_test, indices, indptr), shape=shape).copy()\n",
    "    kf_train.eliminate_zeros()\n",
    "    kf_test.eliminate_zeros()\n",
    "    URM_list.append(kf_train)\n",
    "    URM_test_list.append(kf_test)\n",
    "    evaluator_list.append(EvaluatorHoldout(kf_test, cutoff_list=[10]))"
   ]
  },
  {
   "cell_type": "code",
   "execution_count": null,
   "metadata": {},
   "outputs": [],
   "source": [
    "list_recommender = [icb, icf, ucf]\n",
    "result_list = []\n",
    "for i in range(len(URM_list)):\n",
    "    combo1 = HybridCombinationSearchCVtest(URM_list[i], ICM_all, list_recommender, seed = seed, fold = i)\n",
    "    params={'alpha': 0.17669196327123107, 'l1_ratio': 0.3076285474940705} #MAP 0.0563723\n",
    "    combo1.fit(**params)\n",
    "    result, _ = evaluator_list[i].evaluateRecommender(combo1)\n",
    "    result_list.append(result[10]['MAP'])\n",
    "print(sum(result_list)/len(result_list))"
   ]
  },
  {
   "cell_type": "code",
   "execution_count": null,
   "metadata": {},
   "outputs": [],
   "source": [
    "list_recommender = [icb, icf, rp3b]\n",
    "result_list = []\n",
    "for i in range(len(URM_list)):\n",
    "    combo2 = HybridCombinationSearchCVtest(URM_train, ICM_all, list_recommender, seed = seed, fold = i)\n",
    "    params={'alpha': 0.4137511907513143, 'l1_ratio': 0.2562027806859107} #MAP 0.0553861\n",
    "    combo2.fit(**params)\n",
    "    result, _ = evaluator_list[i].evaluateRecommender(combo2)\n",
    "    result_list.append(result[10]['MAP'])\n",
    "print(sum(result_list)/len(result_list))"
   ]
  },
  {
   "cell_type": "code",
   "execution_count": null,
   "metadata": {},
   "outputs": [],
   "source": [
    "list_recommender = [icb, icf, p3a]\n",
    "result_list = []\n",
    "for i in range(len(URM_list)):\n",
    "    combo3 = HybridCombinationSearchCVtest(URM_train, ICM_all, list_recommender, seed = seed, fold = i)\n",
    "    params={'alpha': 0.6795644006301982, 'l1_ratio': 0.16897463528047377} #MAP 0.0569727\n",
    "    combo3.fit(**params)\n",
    "    result, _ = evaluator_list[i].evaluateRecommender(combo3)\n",
    "    result_list.append(result[10]['MAP'])\n",
    "print(sum(result_list)/len(result_list))"
   ]
  },
  {
   "cell_type": "code",
   "execution_count": null,
   "metadata": {},
   "outputs": [],
   "source": [
    "list_recommender = [icb, ucf, rp3b]\n",
    "result_list = []\n",
    "for i in range(len(URM_list)):\n",
    "    combo4 = HybridCombinationSearchCVtest(URM_train, ICM_all, list_recommender, seed = seed, fold = i)\n",
    "    params={'alpha': 0.22386976323299096, 'l1_ratio': 0.5121960118838208} #MAP 0.0552285\n",
    "    combo4.fit(**params)\n",
    "    result, _ = evaluator_list[i].evaluateRecommender(combo4)\n",
    "    result_list.append(result[10]['MAP'])\n",
    "print(sum(result_list)/len(result_list))"
   ]
  },
  {
   "cell_type": "code",
   "execution_count": null,
   "metadata": {},
   "outputs": [],
   "source": [
    "list_recommender = [icb, ucf, p3a]\n",
    "result_list = []\n",
    "for i in range(len(URM_list)):\n",
    "    combo5 = HybridCombinationSearchCVtest(URM_train, ICM_all, list_recommender, seed = seed, fold = i)\n",
    "    params={'alpha': 0.5989306837162718, 'l1_ratio': 0.19159245289609933} #MAP 0.0570313\n",
    "    combo5.fit(**params)\n",
    "    result, _ = evaluator_list[i].evaluateRecommender(combo5)\n",
    "    result_list.append(result[10]['MAP'])\n",
    "print(sum(result_list)/len(result_list))"
   ]
  },
  {
   "cell_type": "code",
   "execution_count": null,
   "metadata": {},
   "outputs": [],
   "source": [
    "list_recommender = [icb, rp3b, p3a]\n",
    "result_list = []\n",
    "for i in range(len(URM_list)):\n",
    "    combo6 = HybridCombinationSearchCVtest(URM_train, ICM_all, list_recommender, seed = seed, fold = i)\n",
    "    params={'alpha': 0.3003711591677414, 'l1_ratio': 0.520142870843707} #MAP 0.0568581\n",
    "    combo6.fit(**params)\n",
    "    result, _ = evaluator_list[i].evaluateRecommender(combo6)\n",
    "    result_list.append(result[10]['MAP'])\n",
    "print(sum(result_list)/len(result_list))"
   ]
  }
 ],
 "metadata": {
  "kernelspec": {
   "display_name": "Python 3",
   "language": "python",
   "name": "python3"
  },
  "language_info": {
   "codemirror_mode": {
    "name": "ipython",
    "version": 3
   },
   "file_extension": ".py",
   "mimetype": "text/x-python",
   "name": "python",
   "nbconvert_exporter": "python",
   "pygments_lexer": "ipython3",
   "version": "3.6.10"
  }
 },
 "nbformat": 4,
 "nbformat_minor": 4
}